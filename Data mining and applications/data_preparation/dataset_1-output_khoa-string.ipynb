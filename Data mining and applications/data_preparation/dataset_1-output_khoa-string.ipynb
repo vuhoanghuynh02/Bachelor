{
 "cells": [
  {
   "cell_type": "code",
   "execution_count": 1,
   "metadata": {},
   "outputs": [],
   "source": [
    "from pathlib import Path\n",
    "import os\n",
    "import pandas as pd\n",
    "import pickle"
   ]
  },
  {
   "cell_type": "code",
   "execution_count": 2,
   "metadata": {},
   "outputs": [],
   "source": [
    "num_dtb = 1\n",
    "clean_data_folder = Path('../../clean_data')\n",
    "dataset_dir = Path(\"../../data_for_model/\")\n",
    "version_name = f'dataset_{num_dtb}-output_khoa-string'"
   ]
  },
  {
   "cell_type": "code",
   "execution_count": 3,
   "metadata": {},
   "outputs": [],
   "source": [
    "df = pd.read_parquet(clean_data_folder/'data_with_khoa.parquet')"
   ]
  },
  {
   "cell_type": "code",
   "execution_count": 4,
   "metadata": {},
   "outputs": [
    {
     "name": "stdout",
     "output_type": "stream",
     "text": [
      "<class 'pandas.core.frame.DataFrame'>\n",
      "RangeIndex: 100804 entries, 0 to 100803\n",
      "Data columns (total 5 columns):\n",
      " #   Column   Non-Null Count   Dtype   \n",
      "---  ------   --------------   -----   \n",
      " 0   mssv     100804 non-null  category\n",
      " 1   hoc_ky   100804 non-null  category\n",
      " 2   nam_hoc  100804 non-null  category\n",
      " 3   dtb_hk   100804 non-null  float32 \n",
      " 4   khoa     100804 non-null  category\n",
      "dtypes: category(4), float32(1)\n",
      "memory usage: 1.5 MB\n"
     ]
    }
   ],
   "source": [
    "df.info()"
   ]
  },
  {
   "cell_type": "code",
   "execution_count": 5,
   "metadata": {},
   "outputs": [],
   "source": [
    "new_dataset = {\n",
    "    'input': [],\n",
    "    'target': [],\n",
    "    'mo_ta': \n",
    "f'''\n",
    "==================     VERSION {version_name}     ==================\n",
    "1. một mẩu của target là MỘTMỘTMỘT dtb_hk\n",
    "2. một mẩu của input là list dtb_hk trong các học kỳ trước hk trong target\n",
    "và điểm này thuộc sinh viên tương ứng target\n",
    "3. diem được normalize từ [0-10] về [0-1]\n",
    "4. input và target được sắp xếp theo thứ tự học kỳ tăng dần\n",
    "5. input và target chưa được shuffle\n",
    "6. Các học kỳ có giá trị null đã được loại bỏ. \n",
    "Xem như học kỳ trước và sau của học kỳ null đó là 2 học kỳ liên tiếp\n",
    "7. HỌC KỲ 3 KHÔNGKHÔNGKHÔNG ĐƯỢC DROP\n",
    "---\n",
    "8. Input thêm khoa dạng string vào đầu tiên\n",
    "    - Ví dụ input data_for_model v1, v2 là (7, 9)\n",
    "    - Nếu sinh viên thuộc KHMT, input của dataset này là ('khmt', 7, 9)\n",
    "'''\n",
    "}"
   ]
  },
  {
   "attachments": {},
   "cell_type": "markdown",
   "metadata": {},
   "source": [
    "normailize"
   ]
  },
  {
   "cell_type": "code",
   "execution_count": 6,
   "metadata": {},
   "outputs": [],
   "source": [
    "df.dtb_hk = df.dtb_hk / 10"
   ]
  },
  {
   "cell_type": "code",
   "execution_count": 7,
   "metadata": {},
   "outputs": [
    {
     "data": {
      "text/html": [
       "<div>\n",
       "<style scoped>\n",
       "    .dataframe tbody tr th:only-of-type {\n",
       "        vertical-align: middle;\n",
       "    }\n",
       "\n",
       "    .dataframe tbody tr th {\n",
       "        vertical-align: top;\n",
       "    }\n",
       "\n",
       "    .dataframe thead th {\n",
       "        text-align: right;\n",
       "    }\n",
       "</style>\n",
       "<table border=\"1\" class=\"dataframe\">\n",
       "  <thead>\n",
       "    <tr style=\"text-align: right;\">\n",
       "      <th></th>\n",
       "      <th>dtb_hk</th>\n",
       "    </tr>\n",
       "  </thead>\n",
       "  <tbody>\n",
       "    <tr>\n",
       "      <th>count</th>\n",
       "      <td>100804.000000</td>\n",
       "    </tr>\n",
       "    <tr>\n",
       "      <th>mean</th>\n",
       "      <td>0.650092</td>\n",
       "    </tr>\n",
       "    <tr>\n",
       "      <th>std</th>\n",
       "      <td>0.205820</td>\n",
       "    </tr>\n",
       "    <tr>\n",
       "      <th>min</th>\n",
       "      <td>0.000000</td>\n",
       "    </tr>\n",
       "    <tr>\n",
       "      <th>25%</th>\n",
       "      <td>0.570000</td>\n",
       "    </tr>\n",
       "    <tr>\n",
       "      <th>50%</th>\n",
       "      <td>0.700000</td>\n",
       "    </tr>\n",
       "    <tr>\n",
       "      <th>75%</th>\n",
       "      <td>0.793182</td>\n",
       "    </tr>\n",
       "    <tr>\n",
       "      <th>max</th>\n",
       "      <td>1.000000</td>\n",
       "    </tr>\n",
       "  </tbody>\n",
       "</table>\n",
       "</div>"
      ],
      "text/plain": [
       "              dtb_hk\n",
       "count  100804.000000\n",
       "mean        0.650092\n",
       "std         0.205820\n",
       "min         0.000000\n",
       "25%         0.570000\n",
       "50%         0.700000\n",
       "75%         0.793182\n",
       "max         1.000000"
      ]
     },
     "execution_count": 7,
     "metadata": {},
     "output_type": "execute_result"
    }
   ],
   "source": [
    "df.describe()"
   ]
  },
  {
   "attachments": {},
   "cell_type": "markdown",
   "metadata": {},
   "source": [
    "construct dataset"
   ]
  },
  {
   "cell_type": "code",
   "execution_count": 8,
   "metadata": {},
   "outputs": [],
   "source": [
    "group_df = df.sort_values(by=['nam_hoc', 'hoc_ky']).groupby(['mssv', 'khoa'])"
   ]
  },
  {
   "cell_type": "code",
   "execution_count": 9,
   "metadata": {},
   "outputs": [
    {
     "data": {
      "text/plain": [
       "mssv                                      khoa  \n",
       "0000AC05XPvAibaEXe9B2tolTZ0JLoBGbkQixQS6  mmt&tt    (mmt&tt, [0.7807692289352417, 0.82749998569488...\n",
       "0001EB57XPvAibaEXe/twT+sf632fUXnsgPGeB4G  httt      (httt, [0.889090895652771, 0.8912500143051147,...\n",
       "00046394XPvAibaEXe+fmxcqgvribEcT4YmJhSFD  ktmt      (ktmt, [0.5277777910232544, 0.7124999761581421...\n",
       "0006A0BBXPvAibaEXe/lMOwHQdw54DgUkWaqwb1u  khmt                            (khmt, [0.721818208694458])\n",
       "000AD0D8XPvAibaEXe+RQyZpP6sq6qqIPZXybx3Q  cnpm      (cnpm, [0.8858332633972168, 0.8619999885559082...\n",
       "                                                                          ...                        \n",
       "FFDFD671XPvAibaEXe8/3iNqySORb8gPuwsQ8fwa  httt      (httt, [0.6555555462837219, 0.4499999880790710...\n",
       "FFE9E452XPvAibaEXe+6MN9FoW2mqXtx1lMTF9+D  mmt&tt    (mmt&tt, [0.8138889074325562, 0.80312502384185...\n",
       "FFF3D630XPvAibaEXe8byJxgVsE7R2dP7ICEdFWK  httt      (httt, [0.90666663646698, 0.7772727608680725, ...\n",
       "FFF4CD57XPvAibaEXe/z8kRiyNmKNla425pm0Qmc  ktmt      (ktmt, [0.7662500143051147, 0.764285683631897,...\n",
       "FFFA4234XPvAibaEXe+OhmjSj4XEzdTGgcTdT9fT  mmt&tt    (mmt&tt, [0.7421427965164185, 0.67866671085357...\n",
       "Length: 14360, dtype: object"
      ]
     },
     "execution_count": 9,
     "metadata": {},
     "output_type": "execute_result"
    }
   ],
   "source": [
    "sv_dtb_hk = group_df.apply(lambda x: (x.khoa.iloc[0], list(x.dtb_hk)))\n",
    "sv_dtb_hk"
   ]
  },
  {
   "cell_type": "code",
   "execution_count": 10,
   "metadata": {},
   "outputs": [
    {
     "name": "stdout",
     "output_type": "stream",
     "text": [
      "haha [0.7807692289352417, 0.8274999856948853, 0.7508333325386047]\n",
      "('mmt&tt', 0.7807692289352417) (0.8274999856948853,)\n",
      "('mmt&tt', 0.7807692289352417, 0.8274999856948853) (0.7508333325386047,)\n",
      "haha [0.889090895652771, 0.8912500143051147, 0.9053846597671509, 0.8758824467658997, 0.8535000681877136, 0.8616666793823242, 0.8411110639572144]\n",
      "('httt', 0.889090895652771) (0.8912500143051147,)\n",
      "('httt', 0.889090895652771, 0.8912500143051147) (0.9053846597671509,)\n",
      "('httt', 0.889090895652771, 0.8912500143051147, 0.9053846597671509) (0.8758824467658997,)\n",
      "('httt', 0.889090895652771, 0.8912500143051147, 0.9053846597671509, 0.8758824467658997) (0.8535000681877136,)\n",
      "('httt', 0.889090895652771, 0.8912500143051147, 0.9053846597671509, 0.8758824467658997, 0.8535000681877136) (0.8616666793823242,)\n",
      "('httt', 0.889090895652771, 0.8912500143051147, 0.9053846597671509, 0.8758824467658997, 0.8535000681877136, 0.8616666793823242) (0.8411110639572144,)\n",
      "haha [0.5277777910232544, 0.7124999761581421, 0.7900000214576721, 0.6368421316146851, 0.8272727131843567, 0.7872728109359741, 0.8100000619888306, 0.7035294771194458, 0.796000063419342, 0.8199999928474426]\n",
      "('ktmt', 0.5277777910232544) (0.7124999761581421,)\n",
      "('ktmt', 0.5277777910232544, 0.7124999761581421) (0.7900000214576721,)\n",
      "('ktmt', 0.5277777910232544, 0.7124999761581421, 0.7900000214576721) (0.6368421316146851,)\n",
      "('ktmt', 0.5277777910232544, 0.7124999761581421, 0.7900000214576721, 0.6368421316146851) (0.8272727131843567,)\n",
      "('ktmt', 0.5277777910232544, 0.7124999761581421, 0.7900000214576721, 0.6368421316146851, 0.8272727131843567) (0.7872728109359741,)\n",
      "('ktmt', 0.5277777910232544, 0.7124999761581421, 0.7900000214576721, 0.6368421316146851, 0.8272727131843567, 0.7872728109359741) (0.8100000619888306,)\n",
      "('ktmt', 0.5277777910232544, 0.7124999761581421, 0.7900000214576721, 0.6368421316146851, 0.8272727131843567, 0.7872728109359741, 0.8100000619888306) (0.7035294771194458,)\n",
      "('ktmt', 0.5277777910232544, 0.7124999761581421, 0.7900000214576721, 0.6368421316146851, 0.8272727131843567, 0.7872728109359741, 0.8100000619888306, 0.7035294771194458) (0.796000063419342,)\n",
      "('ktmt', 0.5277777910232544, 0.7124999761581421, 0.7900000214576721, 0.6368421316146851, 0.8272727131843567, 0.7872728109359741, 0.8100000619888306, 0.7035294771194458, 0.796000063419342) (0.8199999928474426,)\n"
     ]
    }
   ],
   "source": [
    "new_dataset['input'] = []\n",
    "new_dataset['target'] = []\n",
    "log_times = 3\n",
    "count = 0\n",
    "for khoa, dtb_hk in sv_dtb_hk:\n",
    "    if (count < log_times):\n",
    "        print('haha', dtb_hk)\n",
    "\n",
    "    for i in range(1, len(dtb_hk) +1 - num_dtb):\n",
    "        new_dataset['input'].append(tuple([khoa] + dtb_hk[:i]))\n",
    "        new_dataset['target'].append(tuple(dtb_hk[i:i + num_dtb]))\n",
    "\n",
    "        if (count < log_times):\n",
    "            print(new_dataset['input'][-1], new_dataset['target'][-1])\n",
    "\n",
    "    if (count < log_times):\n",
    "        count += 1"
   ]
  },
  {
   "cell_type": "code",
   "execution_count": 11,
   "metadata": {},
   "outputs": [
    {
     "data": {
      "text/plain": [
       "(86444, 86444)"
      ]
     },
     "execution_count": 11,
     "metadata": {},
     "output_type": "execute_result"
    }
   ],
   "source": [
    "len(new_dataset['input']), len(new_dataset['target'])"
   ]
  },
  {
   "cell_type": "code",
   "execution_count": 12,
   "metadata": {},
   "outputs": [
    {
     "name": "stdout",
     "output_type": "stream",
     "text": [
      "\n",
      "==================     VERSION dataset_1-output_khoa-string     ==================\n",
      "1. một mẩu của target là MỘTMỘTMỘT dtb_hk\n",
      "2. một mẩu của input là list dtb_hk trong các học kỳ trước hk trong target\n",
      "và điểm này thuộc sinh viên tương ứng target\n",
      "3. diem được normalize từ [0-10] về [0-1]\n",
      "4. input và target được sắp xếp theo thứ tự học kỳ tăng dần\n",
      "5. input và target chưa được shuffle\n",
      "6. Các học kỳ có giá trị null đã được loại bỏ. \n",
      "Xem như học kỳ trước và sau của học kỳ null đó là 2 học kỳ liên tiếp\n",
      "7. HỌC KỲ 3 KHÔNGKHÔNGKHÔNG ĐƯỢC DROP\n",
      "---\n",
      "8. Input thêm khoa dạng string vào đầu tiên\n",
      "    - Ví dụ input data_for_model v1, v2 là (7, 9)\n",
      "    - Nếu sinh viên thuộc KHMT, input của dataset này là ('khmt', 7, 9)\n",
      "\n"
     ]
    }
   ],
   "source": [
    "print(new_dataset['mo_ta'])"
   ]
  },
  {
   "cell_type": "code",
   "execution_count": 13,
   "metadata": {},
   "outputs": [],
   "source": [
    "with open(dataset_dir/f'{version_name}.pkl', 'wb') as file:\n",
    "    pickle.dump(new_dataset, file)"
   ]
  }
 ],
 "metadata": {
  "kernelspec": {
   "display_name": "general",
   "language": "python",
   "name": "python3"
  },
  "language_info": {
   "codemirror_mode": {
    "name": "ipython",
    "version": 3
   },
   "file_extension": ".py",
   "mimetype": "text/x-python",
   "name": "python",
   "nbconvert_exporter": "python",
   "pygments_lexer": "ipython3",
   "version": "3.8.16"
  },
  "orig_nbformat": 4
 },
 "nbformat": 4,
 "nbformat_minor": 2
}
