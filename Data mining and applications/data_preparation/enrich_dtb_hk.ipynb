{
 "cells": [
  {
   "cell_type": "code",
   "execution_count": 1,
   "metadata": {},
   "outputs": [],
   "source": [
    "from pathlib import Path\n",
    "import os\n",
    "import pandas as pd"
   ]
  },
  {
   "cell_type": "code",
   "execution_count": 2,
   "metadata": {},
   "outputs": [
    {
     "data": {
      "text/plain": [
       "['12.baoluu.parquet',\n",
       " 'diem_Thu.parquet',\n",
       " 'sinhvien_dtb_toankhoa.parquet',\n",
       " 'uit_hocphi_miengiam.parquet',\n",
       " 'diemrl.parquet',\n",
       " 'sinhvien_dtb_hocky.parquet',\n",
       " 'desktop.ini',\n",
       " '14.totnghiep.parquet',\n",
       " '1.sinhvien.xlsx',\n",
       " '2.diem.xlsx',\n",
       " '3.sinhvien_chungchi.xlsx',\n",
       " '4.xeploaiav.xlsx',\n",
       " '5.Thisinh.xlsx',\n",
       " '6.giayxacnhan.xlsx',\n",
       " '8.XLHV.xlsx',\n",
       " '10.diemrl.xlsx',\n",
       " 'enriched_dtb_hk.parquet',\n",
       " 'desktop.ini']"
      ]
     },
     "execution_count": 2,
     "metadata": {},
     "output_type": "execute_result"
    }
   ],
   "source": [
    "clean_data_folder = Path('../../clean_data')\n",
    "os.listdir(clean_data_folder)"
   ]
  },
  {
   "cell_type": "code",
   "execution_count": 3,
   "metadata": {},
   "outputs": [
    {
     "data": {
      "text/plain": [
       "['sinhvien_dtb_hocky.xlsx',\n",
       " 'diem_Thu.xlsx',\n",
       " 'Education_dataset_V2.rar',\n",
       " 'sinhvien_dtb_toankhoa.xlsx',\n",
       " 'uit_hocphi_miengiam.xlsx',\n",
       " '12.baoluu.xlsx',\n",
       " '14.totnghiep.xlsx',\n",
       " 'diemrl.xlsx',\n",
       " '08.XLHV.xlsx',\n",
       " '05.ThiSinh.xlsx',\n",
       " '00.ghichu.txt',\n",
       " '03.sinhvien_chungchi.xlsx',\n",
       " '00_dhcntt-dtdh_19-01-2016_scan.pdf',\n",
       " '04.xeploaiav.xlsx',\n",
       " '10.diemrl.xlsx',\n",
       " '06.giayxacnhan.xlsx',\n",
       " '02.diem.xlsx',\n",
       " '01.sinhvien.xlsx',\n",
       " 'desktop.ini']"
      ]
     },
     "execution_count": 3,
     "metadata": {},
     "output_type": "execute_result"
    }
   ],
   "source": [
    "data_folder = Path('../../Education_dataset_V2')\n",
    "os.listdir(data_folder)"
   ]
  },
  {
   "attachments": {},
   "cell_type": "markdown",
   "metadata": {},
   "source": [
    "# 02.diem"
   ]
  },
  {
   "cell_type": "code",
   "execution_count": 4,
   "metadata": {},
   "outputs": [],
   "source": [
    "diem_df = pd.read_excel(data_folder/'02.diem.xlsx')"
   ]
  },
  {
   "cell_type": "code",
   "execution_count": 5,
   "metadata": {},
   "outputs": [
    {
     "name": "stdout",
     "output_type": "stream",
     "text": [
      "<class 'pandas.core.frame.DataFrame'>\n",
      "RangeIndex: 99099 entries, 0 to 99098\n",
      "Data columns (total 10 columns):\n",
      " #   Column      Non-Null Count  Dtype  \n",
      "---  ------      --------------  -----  \n",
      " 0   id          20000 non-null  float64\n",
      " 1   mssv        98963 non-null  object \n",
      " 2    mamh       98963 non-null  object \n",
      " 3    malop      98963 non-null  object \n",
      " 4    sotc       98963 non-null  float64\n",
      " 5    namhoc     98963 non-null  float64\n",
      " 6    hocky      98963 non-null  float64\n",
      " 7    diem       98928 non-null  float64\n",
      " 8    trangthai  98963 non-null  float64\n",
      " 9    mamh_tt    98963 non-null  object \n",
      "dtypes: float64(6), object(4)\n",
      "memory usage: 7.6+ MB\n"
     ]
    }
   ],
   "source": [
    "diem_df.info()"
   ]
  },
  {
   "cell_type": "code",
   "execution_count": 6,
   "metadata": {},
   "outputs": [
    {
     "data": {
      "text/plain": [
       "Index(['id', 'mssv', ' mamh', ' malop', ' sotc', ' namhoc', ' hocky', ' diem',\n",
       "       ' trangthai', ' mamh_tt'],\n",
       "      dtype='object')"
      ]
     },
     "execution_count": 6,
     "metadata": {},
     "output_type": "execute_result"
    }
   ],
   "source": [
    "diem_df.columns"
   ]
  },
  {
   "cell_type": "code",
   "execution_count": 7,
   "metadata": {},
   "outputs": [],
   "source": [
    "diem_df.columns = [\n",
    "    'id', 'mssv', 'ma_mh', 'ma_lop',\n",
    "    'so_tc', 'nam_hoc', 'hoc_ky', 'diem',\n",
    "    'trang_thai', 'ma_mh_tt'\n",
    "]"
   ]
  },
  {
   "cell_type": "code",
   "execution_count": 8,
   "metadata": {},
   "outputs": [
    {
     "data": {
      "text/html": [
       "<div>\n",
       "<style scoped>\n",
       "    .dataframe tbody tr th:only-of-type {\n",
       "        vertical-align: middle;\n",
       "    }\n",
       "\n",
       "    .dataframe tbody tr th {\n",
       "        vertical-align: top;\n",
       "    }\n",
       "\n",
       "    .dataframe thead th {\n",
       "        text-align: right;\n",
       "    }\n",
       "</style>\n",
       "<table border=\"1\" class=\"dataframe\">\n",
       "  <thead>\n",
       "    <tr style=\"text-align: right;\">\n",
       "      <th></th>\n",
       "      <th>id</th>\n",
       "      <th>mssv</th>\n",
       "      <th>ma_mh</th>\n",
       "      <th>ma_lop</th>\n",
       "      <th>so_tc</th>\n",
       "      <th>nam_hoc</th>\n",
       "      <th>hoc_ky</th>\n",
       "      <th>diem</th>\n",
       "      <th>trang_thai</th>\n",
       "      <th>ma_mh_tt</th>\n",
       "    </tr>\n",
       "  </thead>\n",
       "  <tbody>\n",
       "    <tr>\n",
       "      <th>60436</th>\n",
       "      <td>NaN</td>\n",
       "      <td>EC9847A0XPvAibaEXe+xRE5267JUoFjPpkePPDCJ</td>\n",
       "      <td>CE101</td>\n",
       "      <td>CE101.G21.MTCL</td>\n",
       "      <td>4.0</td>\n",
       "      <td>2015.0</td>\n",
       "      <td>2.0</td>\n",
       "      <td>5.1</td>\n",
       "      <td>1.0</td>\n",
       "      <td>NULL)</td>\n",
       "    </tr>\n",
       "    <tr>\n",
       "      <th>58463</th>\n",
       "      <td>NaN</td>\n",
       "      <td>F5D9D9A8XPvAibaEXe/Q6C3BndaQUAH+OgLjwe4B</td>\n",
       "      <td>MA005</td>\n",
       "      <td>MA005.G26</td>\n",
       "      <td>3.0</td>\n",
       "      <td>2015.0</td>\n",
       "      <td>2.0</td>\n",
       "      <td>0.6</td>\n",
       "      <td>1.0</td>\n",
       "      <td>NULL)</td>\n",
       "    </tr>\n",
       "    <tr>\n",
       "      <th>68014</th>\n",
       "      <td>NaN</td>\n",
       "      <td>23EB5F7FXPvAibaEXe9ej2kTw4OUmgmhgDhxaVMx</td>\n",
       "      <td>SE104</td>\n",
       "      <td>SE104.G24</td>\n",
       "      <td>4.0</td>\n",
       "      <td>2015.0</td>\n",
       "      <td>2.0</td>\n",
       "      <td>7.5</td>\n",
       "      <td>1.0</td>\n",
       "      <td>NULL)</td>\n",
       "    </tr>\n",
       "  </tbody>\n",
       "</table>\n",
       "</div>"
      ],
      "text/plain": [
       "       id                                      mssv   ma_mh           ma_lop   \n",
       "60436 NaN  EC9847A0XPvAibaEXe+xRE5267JUoFjPpkePPDCJ   CE101   CE101.G21.MTCL  \\\n",
       "58463 NaN  F5D9D9A8XPvAibaEXe/Q6C3BndaQUAH+OgLjwe4B   MA005        MA005.G26   \n",
       "68014 NaN  23EB5F7FXPvAibaEXe9ej2kTw4OUmgmhgDhxaVMx   SE104        SE104.G24   \n",
       "\n",
       "       so_tc  nam_hoc  hoc_ky  diem  trang_thai ma_mh_tt  \n",
       "60436    4.0   2015.0     2.0   5.1         1.0    NULL)  \n",
       "58463    3.0   2015.0     2.0   0.6         1.0    NULL)  \n",
       "68014    4.0   2015.0     2.0   7.5         1.0    NULL)  "
      ]
     },
     "execution_count": 8,
     "metadata": {},
     "output_type": "execute_result"
    }
   ],
   "source": [
    "diem_df.sample(3)"
   ]
  },
  {
   "cell_type": "code",
   "execution_count": 9,
   "metadata": {},
   "outputs": [],
   "source": [
    "diem_df.drop(['id', 'ma_mh_tt'], axis=1, inplace=True)"
   ]
  },
  {
   "cell_type": "code",
   "execution_count": 10,
   "metadata": {},
   "outputs": [
    {
     "data": {
      "text/plain": [
       "136"
      ]
     },
     "execution_count": 10,
     "metadata": {},
     "output_type": "execute_result"
    }
   ],
   "source": [
    "diem_df.isnull().all(axis=1).sum()"
   ]
  },
  {
   "cell_type": "code",
   "execution_count": 11,
   "metadata": {},
   "outputs": [],
   "source": [
    "drop_index = diem_df[diem_df.isnull().all(axis=1)].index\n",
    "diem_df.drop(index=drop_index, inplace=True)"
   ]
  },
  {
   "cell_type": "code",
   "execution_count": 12,
   "metadata": {},
   "outputs": [
    {
     "name": "stdout",
     "output_type": "stream",
     "text": [
      "<class 'pandas.core.frame.DataFrame'>\n",
      "Index: 98963 entries, 0 to 99098\n",
      "Data columns (total 8 columns):\n",
      " #   Column      Non-Null Count  Dtype  \n",
      "---  ------      --------------  -----  \n",
      " 0   mssv        98963 non-null  object \n",
      " 1   ma_mh       98963 non-null  object \n",
      " 2   ma_lop      98963 non-null  object \n",
      " 3   so_tc       98963 non-null  float64\n",
      " 4   nam_hoc     98963 non-null  float64\n",
      " 5   hoc_ky      98963 non-null  float64\n",
      " 6   diem        98928 non-null  float64\n",
      " 7   trang_thai  98963 non-null  float64\n",
      "dtypes: float64(5), object(3)\n",
      "memory usage: 6.8+ MB\n"
     ]
    }
   ],
   "source": [
    "diem_df.info()"
   ]
  },
  {
   "attachments": {},
   "cell_type": "markdown",
   "metadata": {},
   "source": [
    "## trang_thai_mien"
   ]
  },
  {
   "cell_type": "code",
   "execution_count": 13,
   "metadata": {},
   "outputs": [
    {
     "data": {
      "text/plain": [
       "55"
      ]
     },
     "execution_count": 13,
     "metadata": {},
     "output_type": "execute_result"
    }
   ],
   "source": [
    "(\n",
    "    diem_df.trang_thai == 4 & \\\n",
    "    ~ diem_df.ma_lop.apply(lambda x: str(x).strip().endswith('.M'))\n",
    ").sum()"
   ]
  },
  {
   "cell_type": "code",
   "execution_count": 14,
   "metadata": {},
   "outputs": [
    {
     "data": {
      "text/plain": [
       "55"
      ]
     },
     "execution_count": 14,
     "metadata": {},
     "output_type": "execute_result"
    }
   ],
   "source": [
    "(\n",
    "    diem_df.trang_thai == 4 & \\\n",
    "    diem_df.ma_lop.apply(lambda x: str(x).strip().endswith('.M'))\n",
    ").sum()"
   ]
  },
  {
   "cell_type": "code",
   "execution_count": 15,
   "metadata": {},
   "outputs": [
    {
     "data": {
      "text/plain": [
       "Index([43438, 87113, 88585, 88691, 88747, 89353, 89537, 89750, 90780, 90830,\n",
       "       91398, 91444, 91688, 93264, 93326, 93458, 93462, 93471, 94856, 94861,\n",
       "       96096, 96134, 96340, 96450, 96924, 97245, 97354, 97629, 97939, 98027,\n",
       "       98088, 98271, 98584, 98924, 99069],\n",
       "      dtype='int64')"
      ]
     },
     "execution_count": 15,
     "metadata": {},
     "output_type": "execute_result"
    }
   ],
   "source": [
    "trang_thai_mien_mask = (\n",
    "    diem_df.trang_thai == 4 & \\\n",
    "    diem_df.ma_lop.apply(lambda x: str(x).strip().endswith('.M'))\n",
    ")\n",
    "drop_index = diem_df[diem_df.diem.isnull() & ~trang_thai_mien_mask].index\n",
    "drop_index"
   ]
  },
  {
   "cell_type": "code",
   "execution_count": 16,
   "metadata": {},
   "outputs": [],
   "source": [
    "diem_df.drop(index=drop_index, inplace=True)"
   ]
  },
  {
   "cell_type": "code",
   "execution_count": 17,
   "metadata": {},
   "outputs": [],
   "source": [
    "diem_df.loc[trang_thai_mien_mask, 'diem'] = None"
   ]
  },
  {
   "cell_type": "code",
   "execution_count": 18,
   "metadata": {},
   "outputs": [],
   "source": [
    "diem_df.drop(['ma_lop', 'trang_thai'], axis=1, inplace=True)"
   ]
  },
  {
   "cell_type": "code",
   "execution_count": 19,
   "metadata": {},
   "outputs": [
    {
     "name": "stdout",
     "output_type": "stream",
     "text": [
      "<class 'pandas.core.frame.DataFrame'>\n",
      "Index: 98928 entries, 0 to 99098\n",
      "Data columns (total 6 columns):\n",
      " #   Column   Non-Null Count  Dtype  \n",
      "---  ------   --------------  -----  \n",
      " 0   mssv     98928 non-null  object \n",
      " 1   ma_mh    98928 non-null  object \n",
      " 2   so_tc    98928 non-null  float64\n",
      " 3   nam_hoc  98928 non-null  float64\n",
      " 4   hoc_ky   98928 non-null  float64\n",
      " 5   diem     98873 non-null  float64\n",
      "dtypes: float64(4), object(2)\n",
      "memory usage: 5.3+ MB\n"
     ]
    }
   ],
   "source": [
    "diem_df.info()"
   ]
  },
  {
   "attachments": {},
   "cell_type": "markdown",
   "metadata": {},
   "source": [
    "## mssv"
   ]
  },
  {
   "cell_type": "code",
   "execution_count": 20,
   "metadata": {},
   "outputs": [
    {
     "data": {
      "text/plain": [
       "Index(['mssv', 'ma_mh', 'so_tc', 'nam_hoc', 'hoc_ky', 'diem'], dtype='object')"
      ]
     },
     "execution_count": 20,
     "metadata": {},
     "output_type": "execute_result"
    }
   ],
   "source": [
    "diem_df.columns"
   ]
  },
  {
   "cell_type": "code",
   "execution_count": 21,
   "metadata": {},
   "outputs": [
    {
     "data": {
      "text/plain": [
       "dtype('O')"
      ]
     },
     "execution_count": 21,
     "metadata": {},
     "output_type": "execute_result"
    }
   ],
   "source": [
    "diem_df.mssv.dtype"
   ]
  },
  {
   "cell_type": "code",
   "execution_count": 22,
   "metadata": {},
   "outputs": [
    {
     "data": {
      "text/plain": [
       "mssv\n",
       "8219EA1DXPvAibaEXe/PGAaNNWvbUAwbuGIAPcg8    62\n",
       "AE2C4867XPvAibaEXe/Lh6v1XxTKJdYKiEjXsiho    59\n",
       "061A670AXPvAibaEXe9fafwYRU+NpkvJumT/CzS9    59\n",
       "2C674C46XPvAibaEXe8Y+/3uR2PkTOGNxs8OFvnz    58\n",
       "E40BE770XPvAibaEXe8wMpKQnQ7j6FCNcAxuNF2I    57\n",
       "                                            ..\n",
       "00C64B85XPvAibaEXe/GFbVLDV6SZJlZKXs0/KN4     1\n",
       "8641CD9BXPvAibaEXe9LZwdMb86KAzf186r0q1ut     1\n",
       "AE34A424XPvAibaEXe/aPLdUCtOgCv0t/1wT/D3z     1\n",
       "5EE0C76EXPvAibaEXe9z+h7aUGr+1HVziw3dtd1q     1\n",
       "2E8DCF6CXPvAibaEXe8z1Io4iT8HJHYVP7dsY6fm     1\n",
       "Name: count, Length: 4050, dtype: int64"
      ]
     },
     "execution_count": 22,
     "metadata": {},
     "output_type": "execute_result"
    }
   ],
   "source": [
    "diem_df.mssv.value_counts(dropna=False)"
   ]
  },
  {
   "cell_type": "code",
   "execution_count": 23,
   "metadata": {},
   "outputs": [
    {
     "data": {
      "text/plain": [
       "0"
      ]
     },
     "execution_count": 23,
     "metadata": {},
     "output_type": "execute_result"
    }
   ],
   "source": [
    "diem_df.mssv.isnull().sum()"
   ]
  },
  {
   "cell_type": "code",
   "execution_count": 24,
   "metadata": {},
   "outputs": [
    {
     "data": {
      "text/plain": [
       "mssv\n",
       "40    98928\n",
       "Name: count, dtype: int64"
      ]
     },
     "execution_count": 24,
     "metadata": {},
     "output_type": "execute_result"
    }
   ],
   "source": [
    "diem_df.mssv.str.len().value_counts(dropna=False)"
   ]
  },
  {
   "cell_type": "code",
   "execution_count": 25,
   "metadata": {},
   "outputs": [],
   "source": [
    "diem_df.mssv = diem_df.mssv.str.strip()"
   ]
  },
  {
   "cell_type": "code",
   "execution_count": 26,
   "metadata": {},
   "outputs": [
    {
     "data": {
      "text/plain": [
       "mssv\n",
       "40    98928\n",
       "Name: count, dtype: int64"
      ]
     },
     "execution_count": 26,
     "metadata": {},
     "output_type": "execute_result"
    }
   ],
   "source": [
    "diem_df.mssv.str.len().value_counts(dropna=False)"
   ]
  },
  {
   "cell_type": "code",
   "execution_count": 27,
   "metadata": {},
   "outputs": [
    {
     "data": {
      "text/plain": [
       "0"
      ]
     },
     "execution_count": 27,
     "metadata": {},
     "output_type": "execute_result"
    }
   ],
   "source": [
    "diem_df.mssv.apply(lambda x: 'null' in str(x).lower()).sum()"
   ]
  },
  {
   "attachments": {},
   "cell_type": "markdown",
   "metadata": {},
   "source": [
    "## ma_mh"
   ]
  },
  {
   "cell_type": "code",
   "execution_count": 28,
   "metadata": {},
   "outputs": [
    {
     "data": {
      "text/plain": [
       "Index(['mssv', 'ma_mh', 'so_tc', 'nam_hoc', 'hoc_ky', 'diem'], dtype='object')"
      ]
     },
     "execution_count": 28,
     "metadata": {},
     "output_type": "execute_result"
    }
   ],
   "source": [
    "diem_df.columns"
   ]
  },
  {
   "cell_type": "code",
   "execution_count": 29,
   "metadata": {},
   "outputs": [
    {
     "data": {
      "text/plain": [
       "dtype('O')"
      ]
     },
     "execution_count": 29,
     "metadata": {},
     "output_type": "execute_result"
    }
   ],
   "source": [
    "diem_df.ma_mh.dtype"
   ]
  },
  {
   "cell_type": "code",
   "execution_count": 30,
   "metadata": {},
   "outputs": [
    {
     "data": {
      "text/plain": [
       "ma_mh\n",
       " MA001     4775\n",
       " MA003     4626\n",
       " IT001     4467\n",
       " MA002     4424\n",
       " PE001     4100\n",
       "           ... \n",
       " NT406        1\n",
       " CS5030       1\n",
       " ITEM1        1\n",
       " NT305        1\n",
       " SE323        1\n",
       "Name: count, Length: 226, dtype: int64"
      ]
     },
     "execution_count": 30,
     "metadata": {},
     "output_type": "execute_result"
    }
   ],
   "source": [
    "diem_df.ma_mh.value_counts(dropna=False)"
   ]
  },
  {
   "cell_type": "code",
   "execution_count": 31,
   "metadata": {},
   "outputs": [
    {
     "data": {
      "text/plain": [
       "ma_mh\n",
       "6    95530\n",
       "9     1164\n",
       "7     1151\n",
       "5     1083\n",
       "Name: count, dtype: int64"
      ]
     },
     "execution_count": 31,
     "metadata": {},
     "output_type": "execute_result"
    }
   ],
   "source": [
    "diem_df.ma_mh.str.len().value_counts(dropna=False)"
   ]
  },
  {
   "cell_type": "code",
   "execution_count": 32,
   "metadata": {},
   "outputs": [],
   "source": [
    "diem_df.mssv = diem_df.mssv.str.strip().str.upper()"
   ]
  },
  {
   "cell_type": "code",
   "execution_count": 33,
   "metadata": {},
   "outputs": [
    {
     "data": {
      "text/plain": [
       "ma_mh\n",
       "6    95530\n",
       "9     1164\n",
       "7     1151\n",
       "5     1083\n",
       "Name: count, dtype: int64"
      ]
     },
     "execution_count": 33,
     "metadata": {},
     "output_type": "execute_result"
    }
   ],
   "source": [
    "diem_df.ma_mh.str.len().value_counts(dropna=False)"
   ]
  },
  {
   "cell_type": "code",
   "execution_count": 34,
   "metadata": {},
   "outputs": [
    {
     "data": {
      "text/plain": [
       "0"
      ]
     },
     "execution_count": 34,
     "metadata": {},
     "output_type": "execute_result"
    }
   ],
   "source": [
    "diem_df.ma_mh.isnull().sum()"
   ]
  },
  {
   "cell_type": "code",
   "execution_count": 35,
   "metadata": {},
   "outputs": [
    {
     "data": {
      "text/plain": [
       "0"
      ]
     },
     "execution_count": 35,
     "metadata": {},
     "output_type": "execute_result"
    }
   ],
   "source": [
    "diem_df.mssv.apply(lambda x: 'null' in str(x).lower()).sum()"
   ]
  },
  {
   "attachments": {},
   "cell_type": "markdown",
   "metadata": {},
   "source": [
    "## so_tc"
   ]
  },
  {
   "cell_type": "code",
   "execution_count": 36,
   "metadata": {},
   "outputs": [
    {
     "data": {
      "text/plain": [
       "Index(['mssv', 'ma_mh', 'so_tc', 'nam_hoc', 'hoc_ky', 'diem'], dtype='object')"
      ]
     },
     "execution_count": 36,
     "metadata": {},
     "output_type": "execute_result"
    }
   ],
   "source": [
    "diem_df.columns"
   ]
  },
  {
   "cell_type": "code",
   "execution_count": 37,
   "metadata": {},
   "outputs": [
    {
     "data": {
      "text/plain": [
       "dtype('float64')"
      ]
     },
     "execution_count": 37,
     "metadata": {},
     "output_type": "execute_result"
    }
   ],
   "source": [
    "diem_df.so_tc.dtype"
   ]
  },
  {
   "cell_type": "code",
   "execution_count": 38,
   "metadata": {},
   "outputs": [
    {
     "data": {
      "text/plain": [
       "so_tc\n",
       "4.0    47686\n",
       "3.0    32155\n",
       "2.0     8487\n",
       "0.0     7519\n",
       "5.0     2618\n",
       "1.0      463\n",
       "Name: count, dtype: int64"
      ]
     },
     "execution_count": 38,
     "metadata": {},
     "output_type": "execute_result"
    }
   ],
   "source": [
    "diem_df.so_tc.value_counts(dropna=False)"
   ]
  },
  {
   "cell_type": "code",
   "execution_count": 39,
   "metadata": {},
   "outputs": [
    {
     "data": {
      "text/plain": [
       "0"
      ]
     },
     "execution_count": 39,
     "metadata": {},
     "output_type": "execute_result"
    }
   ],
   "source": [
    "diem_df.so_tc.isnull().sum()"
   ]
  },
  {
   "cell_type": "code",
   "execution_count": 40,
   "metadata": {},
   "outputs": [
    {
     "data": {
      "text/plain": [
       "count    98928.000000\n",
       "mean         3.211790\n",
       "std          1.153947\n",
       "min          0.000000\n",
       "25%          3.000000\n",
       "50%          4.000000\n",
       "75%          4.000000\n",
       "max          5.000000\n",
       "Name: so_tc, dtype: float64"
      ]
     },
     "execution_count": 40,
     "metadata": {},
     "output_type": "execute_result"
    }
   ],
   "source": [
    "diem_df.so_tc.describe()"
   ]
  },
  {
   "attachments": {},
   "cell_type": "markdown",
   "metadata": {},
   "source": [
    "## nam_hoc"
   ]
  },
  {
   "cell_type": "code",
   "execution_count": 41,
   "metadata": {},
   "outputs": [
    {
     "data": {
      "text/plain": [
       "Index(['mssv', 'ma_mh', 'so_tc', 'nam_hoc', 'hoc_ky', 'diem'], dtype='object')"
      ]
     },
     "execution_count": 41,
     "metadata": {},
     "output_type": "execute_result"
    }
   ],
   "source": [
    "diem_df.columns"
   ]
  },
  {
   "cell_type": "code",
   "execution_count": 42,
   "metadata": {},
   "outputs": [
    {
     "data": {
      "text/plain": [
       "dtype('float64')"
      ]
     },
     "execution_count": 42,
     "metadata": {},
     "output_type": "execute_result"
    }
   ],
   "source": [
    "diem_df.nam_hoc.dtype"
   ]
  },
  {
   "cell_type": "code",
   "execution_count": 43,
   "metadata": {},
   "outputs": [
    {
     "data": {
      "text/plain": [
       "nam_hoc\n",
       "2015.0    34703\n",
       "2016.0    25979\n",
       "2014.0    24820\n",
       "2013.0    13414\n",
       "2012.0       12\n",
       "Name: count, dtype: int64"
      ]
     },
     "execution_count": 43,
     "metadata": {},
     "output_type": "execute_result"
    }
   ],
   "source": [
    "diem_df.nam_hoc.value_counts(dropna=False)"
   ]
  },
  {
   "cell_type": "code",
   "execution_count": 44,
   "metadata": {},
   "outputs": [
    {
     "data": {
      "text/plain": [
       "0"
      ]
     },
     "execution_count": 44,
     "metadata": {},
     "output_type": "execute_result"
    }
   ],
   "source": [
    "diem_df.nam_hoc.isnull().sum()"
   ]
  },
  {
   "cell_type": "code",
   "execution_count": 45,
   "metadata": {},
   "outputs": [
    {
     "data": {
      "text/plain": [
       "count    98928.000000\n",
       "mean      2014.740165\n",
       "std          0.994714\n",
       "min       2012.000000\n",
       "25%       2014.000000\n",
       "50%       2015.000000\n",
       "75%       2016.000000\n",
       "max       2016.000000\n",
       "Name: nam_hoc, dtype: float64"
      ]
     },
     "execution_count": 45,
     "metadata": {},
     "output_type": "execute_result"
    }
   ],
   "source": [
    "diem_df.nam_hoc.describe()"
   ]
  },
  {
   "attachments": {},
   "cell_type": "markdown",
   "metadata": {},
   "source": [
    "## hoc_ky"
   ]
  },
  {
   "cell_type": "code",
   "execution_count": 46,
   "metadata": {},
   "outputs": [
    {
     "data": {
      "text/plain": [
       "Index(['mssv', 'ma_mh', 'so_tc', 'nam_hoc', 'hoc_ky', 'diem'], dtype='object')"
      ]
     },
     "execution_count": 46,
     "metadata": {},
     "output_type": "execute_result"
    }
   ],
   "source": [
    "diem_df.columns"
   ]
  },
  {
   "cell_type": "code",
   "execution_count": 47,
   "metadata": {},
   "outputs": [
    {
     "data": {
      "text/plain": [
       "dtype('float64')"
      ]
     },
     "execution_count": 47,
     "metadata": {},
     "output_type": "execute_result"
    }
   ],
   "source": [
    "diem_df.hoc_ky.dtype"
   ]
  },
  {
   "cell_type": "code",
   "execution_count": 48,
   "metadata": {},
   "outputs": [
    {
     "data": {
      "text/plain": [
       "hoc_ky\n",
       "1.0    58209\n",
       "2.0    38071\n",
       "3.0     2648\n",
       "Name: count, dtype: int64"
      ]
     },
     "execution_count": 48,
     "metadata": {},
     "output_type": "execute_result"
    }
   ],
   "source": [
    "diem_df.hoc_ky.value_counts(dropna=False)"
   ]
  },
  {
   "cell_type": "code",
   "execution_count": 49,
   "metadata": {},
   "outputs": [
    {
     "data": {
      "text/plain": [
       "0"
      ]
     },
     "execution_count": 49,
     "metadata": {},
     "output_type": "execute_result"
    }
   ],
   "source": [
    "diem_df.hoc_ky.isnull().sum()"
   ]
  },
  {
   "cell_type": "code",
   "execution_count": 50,
   "metadata": {},
   "outputs": [
    {
     "data": {
      "text/plain": [
       "count    98928.000000\n",
       "mean         1.438369\n",
       "std          0.547484\n",
       "min          1.000000\n",
       "25%          1.000000\n",
       "50%          1.000000\n",
       "75%          2.000000\n",
       "max          3.000000\n",
       "Name: hoc_ky, dtype: float64"
      ]
     },
     "execution_count": 50,
     "metadata": {},
     "output_type": "execute_result"
    }
   ],
   "source": [
    "diem_df.hoc_ky.describe()"
   ]
  },
  {
   "attachments": {},
   "cell_type": "markdown",
   "metadata": {},
   "source": [
    "## diem"
   ]
  },
  {
   "cell_type": "code",
   "execution_count": 51,
   "metadata": {},
   "outputs": [
    {
     "data": {
      "text/plain": [
       "Index(['mssv', 'ma_mh', 'so_tc', 'nam_hoc', 'hoc_ky', 'diem'], dtype='object')"
      ]
     },
     "execution_count": 51,
     "metadata": {},
     "output_type": "execute_result"
    }
   ],
   "source": [
    "diem_df.columns"
   ]
  },
  {
   "cell_type": "code",
   "execution_count": 52,
   "metadata": {},
   "outputs": [
    {
     "data": {
      "text/plain": [
       "dtype('float64')"
      ]
     },
     "execution_count": 52,
     "metadata": {},
     "output_type": "execute_result"
    }
   ],
   "source": [
    "diem_df.diem.dtype"
   ]
  },
  {
   "cell_type": "code",
   "execution_count": 53,
   "metadata": {},
   "outputs": [
    {
     "data": {
      "text/plain": [
       "diem\n",
       "7.5    4966\n",
       "8.0    4952\n",
       "7.0    4918\n",
       "0.0    4759\n",
       "6.5    4289\n",
       "       ... \n",
       "1.3      93\n",
       "1.9      84\n",
       "NaN      55\n",
       "0.4      54\n",
       "0.1      20\n",
       "Name: count, Length: 102, dtype: int64"
      ]
     },
     "execution_count": 53,
     "metadata": {},
     "output_type": "execute_result"
    }
   ],
   "source": [
    "diem_df.diem.value_counts(dropna=False)"
   ]
  },
  {
   "cell_type": "code",
   "execution_count": 54,
   "metadata": {},
   "outputs": [
    {
     "data": {
      "text/plain": [
       "55"
      ]
     },
     "execution_count": 54,
     "metadata": {},
     "output_type": "execute_result"
    }
   ],
   "source": [
    "diem_df.diem.isnull().sum()"
   ]
  },
  {
   "cell_type": "code",
   "execution_count": 55,
   "metadata": {},
   "outputs": [
    {
     "data": {
      "text/plain": [
       "count    98873.000000\n",
       "mean         6.335444\n",
       "std          2.379214\n",
       "min          0.000000\n",
       "25%          5.300000\n",
       "50%          6.900000\n",
       "75%          8.000000\n",
       "max         10.000000\n",
       "Name: diem, dtype: float64"
      ]
     },
     "execution_count": 55,
     "metadata": {},
     "output_type": "execute_result"
    }
   ],
   "source": [
    "diem_df.diem.describe()"
   ]
  },
  {
   "cell_type": "code",
   "execution_count": 56,
   "metadata": {},
   "outputs": [
    {
     "data": {
      "text/plain": [
       "Index(['mssv', 'ma_mh', 'so_tc', 'nam_hoc', 'hoc_ky', 'diem_hp'], dtype='object')"
      ]
     },
     "execution_count": 56,
     "metadata": {},
     "output_type": "execute_result"
    }
   ],
   "source": [
    "diem_df.rename(columns={'diem': 'diem_hp'}, inplace=True)\n",
    "diem_df.columns"
   ]
  },
  {
   "attachments": {},
   "cell_type": "markdown",
   "metadata": {},
   "source": [
    "## handle duplication so_tc"
   ]
  },
  {
   "cell_type": "code",
   "execution_count": 57,
   "metadata": {},
   "outputs": [
    {
     "name": "stdout",
     "output_type": "stream",
     "text": [
      "<class 'pandas.core.frame.DataFrame'>\n",
      "Index: 98928 entries, 0 to 99098\n",
      "Data columns (total 6 columns):\n",
      " #   Column   Non-Null Count  Dtype  \n",
      "---  ------   --------------  -----  \n",
      " 0   mssv     98928 non-null  object \n",
      " 1   ma_mh    98928 non-null  object \n",
      " 2   so_tc    98928 non-null  float64\n",
      " 3   nam_hoc  98928 non-null  float64\n",
      " 4   hoc_ky   98928 non-null  float64\n",
      " 5   diem_hp  98873 non-null  float64\n",
      "dtypes: float64(4), object(2)\n",
      "memory usage: 5.3+ MB\n"
     ]
    }
   ],
   "source": [
    "diem_df.info()"
   ]
  },
  {
   "cell_type": "code",
   "execution_count": 58,
   "metadata": {},
   "outputs": [
    {
     "data": {
      "text/html": [
       "<div>\n",
       "<style scoped>\n",
       "    .dataframe tbody tr th:only-of-type {\n",
       "        vertical-align: middle;\n",
       "    }\n",
       "\n",
       "    .dataframe tbody tr th {\n",
       "        vertical-align: top;\n",
       "    }\n",
       "\n",
       "    .dataframe thead th {\n",
       "        text-align: right;\n",
       "    }\n",
       "</style>\n",
       "<table border=\"1\" class=\"dataframe\">\n",
       "  <thead>\n",
       "    <tr style=\"text-align: right;\">\n",
       "      <th></th>\n",
       "      <th>ma_mh</th>\n",
       "      <th>so_tc</th>\n",
       "    </tr>\n",
       "  </thead>\n",
       "  <tbody>\n",
       "    <tr>\n",
       "      <th>83494</th>\n",
       "      <td>CE103</td>\n",
       "      <td>0.0</td>\n",
       "    </tr>\n",
       "    <tr>\n",
       "      <th>18107</th>\n",
       "      <td>CE103</td>\n",
       "      <td>4.0</td>\n",
       "    </tr>\n",
       "    <tr>\n",
       "      <th>84080</th>\n",
       "      <td>CE118</td>\n",
       "      <td>0.0</td>\n",
       "    </tr>\n",
       "    <tr>\n",
       "      <th>18106</th>\n",
       "      <td>CE118</td>\n",
       "      <td>4.0</td>\n",
       "    </tr>\n",
       "    <tr>\n",
       "      <th>67737</th>\n",
       "      <td>CS2433</td>\n",
       "      <td>3.0</td>\n",
       "    </tr>\n",
       "    <tr>\n",
       "      <th>...</th>\n",
       "      <td>...</td>\n",
       "      <td>...</td>\n",
       "    </tr>\n",
       "    <tr>\n",
       "      <th>70176</th>\n",
       "      <td>SE214</td>\n",
       "      <td>4.0</td>\n",
       "    </tr>\n",
       "    <tr>\n",
       "      <th>70242</th>\n",
       "      <td>SE214</td>\n",
       "      <td>3.0</td>\n",
       "    </tr>\n",
       "    <tr>\n",
       "      <th>24893</th>\n",
       "      <td>SE330</td>\n",
       "      <td>4.0</td>\n",
       "    </tr>\n",
       "    <tr>\n",
       "      <th>65178</th>\n",
       "      <td>SE330</td>\n",
       "      <td>3.0</td>\n",
       "    </tr>\n",
       "    <tr>\n",
       "      <th>86743</th>\n",
       "      <td>SE330</td>\n",
       "      <td>0.0</td>\n",
       "    </tr>\n",
       "  </tbody>\n",
       "</table>\n",
       "<p>96 rows × 2 columns</p>\n",
       "</div>"
      ],
      "text/plain": [
       "         ma_mh  so_tc\n",
       "83494    CE103    0.0\n",
       "18107    CE103    4.0\n",
       "84080    CE118    0.0\n",
       "18106    CE118    4.0\n",
       "67737   CS2433    3.0\n",
       "...        ...    ...\n",
       "70176    SE214    4.0\n",
       "70242    SE214    3.0\n",
       "24893    SE330    4.0\n",
       "65178    SE330    3.0\n",
       "86743    SE330    0.0\n",
       "\n",
       "[96 rows x 2 columns]"
      ]
     },
     "execution_count": 58,
     "metadata": {},
     "output_type": "execute_result"
    }
   ],
   "source": [
    "tmp2 = diem_df[['ma_mh', 'so_tc']].drop_duplicates()\n",
    "tmp1 = tmp2.duplicated(subset=[\"ma_mh\"], keep=False)\n",
    "tmp3 = tmp2[tmp1].sort_values(by=['ma_mh'])\n",
    "# print(tmp3.to_markdown())\n",
    "tmp3"
   ]
  },
  {
   "cell_type": "code",
   "execution_count": 59,
   "metadata": {},
   "outputs": [],
   "source": [
    "tmp = diem_df\n",
    "tmp.so_tc = tmp.so_tc.astype('float32')\n",
    "diem_df['so_tc'] = tmp.groupby('ma_mh')['so_tc'].transform(lambda x: x.mean())"
   ]
  },
  {
   "cell_type": "code",
   "execution_count": 60,
   "metadata": {},
   "outputs": [
    {
     "data": {
      "text/html": [
       "<div>\n",
       "<style scoped>\n",
       "    .dataframe tbody tr th:only-of-type {\n",
       "        vertical-align: middle;\n",
       "    }\n",
       "\n",
       "    .dataframe tbody tr th {\n",
       "        vertical-align: top;\n",
       "    }\n",
       "\n",
       "    .dataframe thead th {\n",
       "        text-align: right;\n",
       "    }\n",
       "</style>\n",
       "<table border=\"1\" class=\"dataframe\">\n",
       "  <thead>\n",
       "    <tr style=\"text-align: right;\">\n",
       "      <th></th>\n",
       "      <th>ma_mh</th>\n",
       "      <th>so_tc</th>\n",
       "    </tr>\n",
       "  </thead>\n",
       "  <tbody>\n",
       "  </tbody>\n",
       "</table>\n",
       "</div>"
      ],
      "text/plain": [
       "Empty DataFrame\n",
       "Columns: [ma_mh, so_tc]\n",
       "Index: []"
      ]
     },
     "execution_count": 60,
     "metadata": {},
     "output_type": "execute_result"
    }
   ],
   "source": [
    "tmp2 = diem_df[['ma_mh', 'so_tc']].drop_duplicates()\n",
    "tmp1 = tmp2.duplicated(subset=[\"ma_mh\"], keep=False)\n",
    "tmp3 = tmp2[tmp1].sort_values(by=['ma_mh'])\n",
    "# print(tmp3.to_markdown())\n",
    "tmp3"
   ]
  },
  {
   "cell_type": "code",
   "execution_count": 61,
   "metadata": {},
   "outputs": [
    {
     "data": {
      "text/html": [
       "<div>\n",
       "<style scoped>\n",
       "    .dataframe tbody tr th:only-of-type {\n",
       "        vertical-align: middle;\n",
       "    }\n",
       "\n",
       "    .dataframe tbody tr th {\n",
       "        vertical-align: top;\n",
       "    }\n",
       "\n",
       "    .dataframe thead th {\n",
       "        text-align: right;\n",
       "    }\n",
       "</style>\n",
       "<table border=\"1\" class=\"dataframe\">\n",
       "  <thead>\n",
       "    <tr style=\"text-align: right;\">\n",
       "      <th></th>\n",
       "      <th>ma_mh</th>\n",
       "      <th>so_tc</th>\n",
       "    </tr>\n",
       "  </thead>\n",
       "  <tbody>\n",
       "    <tr>\n",
       "      <th>0</th>\n",
       "      <td>CS1113</td>\n",
       "      <td>4.000000</td>\n",
       "    </tr>\n",
       "    <tr>\n",
       "      <th>1</th>\n",
       "      <td>PH001</td>\n",
       "      <td>2.990592</td>\n",
       "    </tr>\n",
       "    <tr>\n",
       "      <th>2</th>\n",
       "      <td>ENGL1113</td>\n",
       "      <td>3.000000</td>\n",
       "    </tr>\n",
       "    <tr>\n",
       "      <th>3</th>\n",
       "      <td>ADENG1</td>\n",
       "      <td>0.000000</td>\n",
       "    </tr>\n",
       "    <tr>\n",
       "      <th>4</th>\n",
       "      <td>SS001</td>\n",
       "      <td>5.000000</td>\n",
       "    </tr>\n",
       "    <tr>\n",
       "      <th>...</th>\n",
       "      <td>...</td>\n",
       "      <td>...</td>\n",
       "    </tr>\n",
       "    <tr>\n",
       "      <th>92038</th>\n",
       "      <td>CE201</td>\n",
       "      <td>2.000000</td>\n",
       "    </tr>\n",
       "    <tr>\n",
       "      <th>92120</th>\n",
       "      <td>CE326</td>\n",
       "      <td>3.000000</td>\n",
       "    </tr>\n",
       "    <tr>\n",
       "      <th>94703</th>\n",
       "      <td>CS302</td>\n",
       "      <td>3.000000</td>\n",
       "    </tr>\n",
       "    <tr>\n",
       "      <th>98928</th>\n",
       "      <td>IE403</td>\n",
       "      <td>3.000000</td>\n",
       "    </tr>\n",
       "    <tr>\n",
       "      <th>99040</th>\n",
       "      <td>MSIS4263</td>\n",
       "      <td>3.000000</td>\n",
       "    </tr>\n",
       "  </tbody>\n",
       "</table>\n",
       "<p>226 rows × 2 columns</p>\n",
       "</div>"
      ],
      "text/plain": [
       "           ma_mh     so_tc\n",
       "0         CS1113  4.000000\n",
       "1          PH001  2.990592\n",
       "2       ENGL1113  3.000000\n",
       "3         ADENG1  0.000000\n",
       "4          SS001  5.000000\n",
       "...          ...       ...\n",
       "92038      CE201  2.000000\n",
       "92120      CE326  3.000000\n",
       "94703      CS302  3.000000\n",
       "98928      IE403  3.000000\n",
       "99040   MSIS4263  3.000000\n",
       "\n",
       "[226 rows x 2 columns]"
      ]
     },
     "execution_count": 61,
     "metadata": {},
     "output_type": "execute_result"
    }
   ],
   "source": [
    "tmp2 = diem_df[['ma_mh', 'so_tc']].drop_duplicates()\n",
    "tmp2"
   ]
  },
  {
   "cell_type": "code",
   "execution_count": 62,
   "metadata": {},
   "outputs": [],
   "source": [
    "diem_df.so_tc = diem_df.so_tc.astype('int16')"
   ]
  },
  {
   "cell_type": "code",
   "execution_count": 63,
   "metadata": {},
   "outputs": [
    {
     "data": {
      "text/html": [
       "<div>\n",
       "<style scoped>\n",
       "    .dataframe tbody tr th:only-of-type {\n",
       "        vertical-align: middle;\n",
       "    }\n",
       "\n",
       "    .dataframe tbody tr th {\n",
       "        vertical-align: top;\n",
       "    }\n",
       "\n",
       "    .dataframe thead th {\n",
       "        text-align: right;\n",
       "    }\n",
       "</style>\n",
       "<table border=\"1\" class=\"dataframe\">\n",
       "  <thead>\n",
       "    <tr style=\"text-align: right;\">\n",
       "      <th></th>\n",
       "      <th>so_tc</th>\n",
       "      <th>nam_hoc</th>\n",
       "      <th>hoc_ky</th>\n",
       "      <th>diem_hp</th>\n",
       "    </tr>\n",
       "  </thead>\n",
       "  <tbody>\n",
       "    <tr>\n",
       "      <th>count</th>\n",
       "      <td>98928.000000</td>\n",
       "      <td>98928.000000</td>\n",
       "      <td>98928.000000</td>\n",
       "      <td>98873.000000</td>\n",
       "    </tr>\n",
       "    <tr>\n",
       "      <th>mean</th>\n",
       "      <td>2.627446</td>\n",
       "      <td>2014.740165</td>\n",
       "      <td>1.438369</td>\n",
       "      <td>6.335444</td>\n",
       "    </tr>\n",
       "    <tr>\n",
       "      <th>std</th>\n",
       "      <td>1.012937</td>\n",
       "      <td>0.994714</td>\n",
       "      <td>0.547484</td>\n",
       "      <td>2.379214</td>\n",
       "    </tr>\n",
       "    <tr>\n",
       "      <th>min</th>\n",
       "      <td>0.000000</td>\n",
       "      <td>2012.000000</td>\n",
       "      <td>1.000000</td>\n",
       "      <td>0.000000</td>\n",
       "    </tr>\n",
       "    <tr>\n",
       "      <th>25%</th>\n",
       "      <td>2.000000</td>\n",
       "      <td>2014.000000</td>\n",
       "      <td>1.000000</td>\n",
       "      <td>5.300000</td>\n",
       "    </tr>\n",
       "    <tr>\n",
       "      <th>50%</th>\n",
       "      <td>3.000000</td>\n",
       "      <td>2015.000000</td>\n",
       "      <td>1.000000</td>\n",
       "      <td>6.900000</td>\n",
       "    </tr>\n",
       "    <tr>\n",
       "      <th>75%</th>\n",
       "      <td>3.000000</td>\n",
       "      <td>2016.000000</td>\n",
       "      <td>2.000000</td>\n",
       "      <td>8.000000</td>\n",
       "    </tr>\n",
       "    <tr>\n",
       "      <th>max</th>\n",
       "      <td>5.000000</td>\n",
       "      <td>2016.000000</td>\n",
       "      <td>3.000000</td>\n",
       "      <td>10.000000</td>\n",
       "    </tr>\n",
       "  </tbody>\n",
       "</table>\n",
       "</div>"
      ],
      "text/plain": [
       "              so_tc       nam_hoc        hoc_ky       diem_hp\n",
       "count  98928.000000  98928.000000  98928.000000  98873.000000\n",
       "mean       2.627446   2014.740165      1.438369      6.335444\n",
       "std        1.012937      0.994714      0.547484      2.379214\n",
       "min        0.000000   2012.000000      1.000000      0.000000\n",
       "25%        2.000000   2014.000000      1.000000      5.300000\n",
       "50%        3.000000   2015.000000      1.000000      6.900000\n",
       "75%        3.000000   2016.000000      2.000000      8.000000\n",
       "max        5.000000   2016.000000      3.000000     10.000000"
      ]
     },
     "execution_count": 63,
     "metadata": {},
     "output_type": "execute_result"
    }
   ],
   "source": [
    "diem_df.describe()"
   ]
  },
  {
   "attachments": {},
   "cell_type": "markdown",
   "metadata": {},
   "source": [
    "## data_type"
   ]
  },
  {
   "cell_type": "code",
   "execution_count": 64,
   "metadata": {},
   "outputs": [
    {
     "name": "stdout",
     "output_type": "stream",
     "text": [
      "<class 'pandas.core.frame.DataFrame'>\n",
      "Index: 98928 entries, 0 to 99098\n",
      "Data columns (total 6 columns):\n",
      " #   Column   Non-Null Count  Dtype  \n",
      "---  ------   --------------  -----  \n",
      " 0   mssv     98928 non-null  object \n",
      " 1   ma_mh    98928 non-null  object \n",
      " 2   so_tc    98928 non-null  int16  \n",
      " 3   nam_hoc  98928 non-null  float64\n",
      " 4   hoc_ky   98928 non-null  float64\n",
      " 5   diem_hp  98873 non-null  float64\n",
      "dtypes: float64(3), int16(1), object(2)\n",
      "memory usage: 4.7+ MB\n"
     ]
    }
   ],
   "source": [
    "diem_df.info()"
   ]
  },
  {
   "cell_type": "code",
   "execution_count": 65,
   "metadata": {},
   "outputs": [
    {
     "data": {
      "text/plain": [
       "{2012.0: '2012',\n",
       " 2013.0: '2013',\n",
       " 2014.0: '2014',\n",
       " 2015.0: '2015',\n",
       " 2016.0: '2016'}"
      ]
     },
     "execution_count": 65,
     "metadata": {},
     "output_type": "execute_result"
    }
   ],
   "source": [
    "tmp = diem_df.nam_hoc.unique().tolist()\n",
    "mapping_dict = {a:str(int(a)) for a in tmp}\n",
    "diem_df.nam_hoc = diem_df.nam_hoc.map(mapping_dict)\n",
    "mapping_dict"
   ]
  },
  {
   "cell_type": "code",
   "execution_count": 66,
   "metadata": {},
   "outputs": [
    {
     "data": {
      "text/plain": [
       "{1.0: '1', 2.0: '2', 3.0: '3'}"
      ]
     },
     "execution_count": 66,
     "metadata": {},
     "output_type": "execute_result"
    }
   ],
   "source": [
    "tmp = diem_df.hoc_ky.unique().tolist()\n",
    "mapping_dict = {a:str(int(a)) for a in tmp}\n",
    "diem_df.hoc_ky = diem_df.hoc_ky.map(mapping_dict)\n",
    "mapping_dict"
   ]
  },
  {
   "cell_type": "code",
   "execution_count": 67,
   "metadata": {},
   "outputs": [
    {
     "name": "stdout",
     "output_type": "stream",
     "text": [
      "<class 'pandas.core.frame.DataFrame'>\n",
      "Index: 98928 entries, 0 to 99098\n",
      "Data columns (total 6 columns):\n",
      " #   Column   Non-Null Count  Dtype   \n",
      "---  ------   --------------  -----   \n",
      " 0   mssv     98928 non-null  category\n",
      " 1   ma_mh    98928 non-null  category\n",
      " 2   so_tc    98928 non-null  int16   \n",
      " 3   nam_hoc  98928 non-null  category\n",
      " 4   hoc_ky   98928 non-null  category\n",
      " 5   diem_hp  98873 non-null  float32 \n",
      "dtypes: category(4), float32(1), int16(1)\n",
      "memory usage: 2.1 MB\n"
     ]
    }
   ],
   "source": [
    "diem_df.mssv = diem_df.mssv.astype('category')\n",
    "diem_df.nam_hoc = diem_df.nam_hoc.astype('category')\n",
    "diem_df.hoc_ky = diem_df.hoc_ky.astype('category')\n",
    "diem_df.ma_mh = diem_df.ma_mh.astype('category')\n",
    "diem_df.so_tc = diem_df.so_tc.astype('int16')\n",
    "diem_df.diem_hp = diem_df.diem_hp.astype('float32')\n",
    "diem_df.info()"
   ]
  },
  {
   "attachments": {},
   "cell_type": "markdown",
   "metadata": {},
   "source": [
    "# diem_Thu"
   ]
  },
  {
   "cell_type": "code",
   "execution_count": 68,
   "metadata": {},
   "outputs": [],
   "source": [
    "diem_Thu_df = pd.read_parquet(clean_data_folder/'diem_Thu.parquet')"
   ]
  },
  {
   "cell_type": "code",
   "execution_count": 69,
   "metadata": {},
   "outputs": [
    {
     "name": "stdout",
     "output_type": "stream",
     "text": [
      "<class 'pandas.core.frame.DataFrame'>\n",
      "RangeIndex: 674072 entries, 0 to 674071\n",
      "Data columns (total 13 columns):\n",
      " #   Column      Non-Null Count   Dtype   \n",
      "---  ------      --------------   -----   \n",
      " 0   mssv        674072 non-null  category\n",
      " 1   ma_mh       674072 non-null  category\n",
      " 2   ma_lop      674072 non-null  category\n",
      " 3   so_tc       674072 non-null  category\n",
      " 4   hoc_ky      674072 non-null  category\n",
      " 5   nam_hoc     674072 non-null  category\n",
      " 6   diem_qt     657936 non-null  float32 \n",
      " 7   diem_th     657936 non-null  float32 \n",
      " 8   diem_gk     657936 non-null  float32 \n",
      " 9   diem_ck     657936 non-null  float32 \n",
      " 10  diem_hp     657936 non-null  float32 \n",
      " 11  trang_thai  674072 non-null  category\n",
      " 12  tinh_trang  674072 non-null  category\n",
      "dtypes: category(8), float32(5)\n",
      "memory usage: 20.9 MB\n"
     ]
    }
   ],
   "source": [
    "diem_Thu_df.info()"
   ]
  },
  {
   "cell_type": "code",
   "execution_count": 70,
   "metadata": {},
   "outputs": [
    {
     "data": {
      "text/plain": [
       "0"
      ]
     },
     "execution_count": 70,
     "metadata": {},
     "output_type": "execute_result"
    }
   ],
   "source": [
    "(\n",
    "    diem_Thu_df.trang_thai == 4 & \\\n",
    "    ~ diem_Thu_df.ma_lop.apply(lambda x: str(x).strip().endswith('.M'))\n",
    ").sum()"
   ]
  },
  {
   "cell_type": "code",
   "execution_count": 71,
   "metadata": {},
   "outputs": [
    {
     "data": {
      "text/plain": [
       "Index(['mssv', 'ma_mh', 'ma_lop', 'so_tc', 'hoc_ky', 'nam_hoc', 'diem_qt',\n",
       "       'diem_th', 'diem_gk', 'diem_ck', 'diem_hp', 'trang_thai', 'tinh_trang'],\n",
       "      dtype='object')"
      ]
     },
     "execution_count": 71,
     "metadata": {},
     "output_type": "execute_result"
    }
   ],
   "source": [
    "diem_Thu_df.columns"
   ]
  },
  {
   "cell_type": "code",
   "execution_count": 72,
   "metadata": {},
   "outputs": [],
   "source": [
    "diem_Thu_df.drop(\n",
    "    ['ma_lop', 'diem_qt', 'diem_th', 'diem_gk',\n",
    "    'diem_ck', 'trang_thai', 'tinh_trang'],\n",
    "    axis=1, inplace=True\n",
    ")"
   ]
  },
  {
   "cell_type": "code",
   "execution_count": 73,
   "metadata": {},
   "outputs": [],
   "source": [
    "diem_Thu_df.so_tc = diem_Thu_df.so_tc.astype('int16')"
   ]
  },
  {
   "cell_type": "code",
   "execution_count": 74,
   "metadata": {},
   "outputs": [
    {
     "data": {
      "text/html": [
       "<div>\n",
       "<style scoped>\n",
       "    .dataframe tbody tr th:only-of-type {\n",
       "        vertical-align: middle;\n",
       "    }\n",
       "\n",
       "    .dataframe tbody tr th {\n",
       "        vertical-align: top;\n",
       "    }\n",
       "\n",
       "    .dataframe thead th {\n",
       "        text-align: right;\n",
       "    }\n",
       "</style>\n",
       "<table border=\"1\" class=\"dataframe\">\n",
       "  <thead>\n",
       "    <tr style=\"text-align: right;\">\n",
       "      <th></th>\n",
       "      <th>so_tc</th>\n",
       "      <th>diem_hp</th>\n",
       "    </tr>\n",
       "  </thead>\n",
       "  <tbody>\n",
       "    <tr>\n",
       "      <th>count</th>\n",
       "      <td>674072.000000</td>\n",
       "      <td>657936.000000</td>\n",
       "    </tr>\n",
       "    <tr>\n",
       "      <th>mean</th>\n",
       "      <td>2.714789</td>\n",
       "      <td>6.548474</td>\n",
       "    </tr>\n",
       "    <tr>\n",
       "      <th>std</th>\n",
       "      <td>1.328435</td>\n",
       "      <td>2.395572</td>\n",
       "    </tr>\n",
       "    <tr>\n",
       "      <th>min</th>\n",
       "      <td>0.000000</td>\n",
       "      <td>0.000000</td>\n",
       "    </tr>\n",
       "    <tr>\n",
       "      <th>25%</th>\n",
       "      <td>2.000000</td>\n",
       "      <td>5.600000</td>\n",
       "    </tr>\n",
       "    <tr>\n",
       "      <th>50%</th>\n",
       "      <td>3.000000</td>\n",
       "      <td>7.000000</td>\n",
       "    </tr>\n",
       "    <tr>\n",
       "      <th>75%</th>\n",
       "      <td>3.000000</td>\n",
       "      <td>8.200000</td>\n",
       "    </tr>\n",
       "    <tr>\n",
       "      <th>max</th>\n",
       "      <td>64.000000</td>\n",
       "      <td>10.000000</td>\n",
       "    </tr>\n",
       "  </tbody>\n",
       "</table>\n",
       "</div>"
      ],
      "text/plain": [
       "               so_tc        diem_hp\n",
       "count  674072.000000  657936.000000\n",
       "mean        2.714789       6.548474\n",
       "std         1.328435       2.395572\n",
       "min         0.000000       0.000000\n",
       "25%         2.000000       5.600000\n",
       "50%         3.000000       7.000000\n",
       "75%         3.000000       8.200000\n",
       "max        64.000000      10.000000"
      ]
     },
     "execution_count": 74,
     "metadata": {},
     "output_type": "execute_result"
    }
   ],
   "source": [
    "diem_Thu_df.describe()"
   ]
  },
  {
   "cell_type": "code",
   "execution_count": 75,
   "metadata": {},
   "outputs": [
    {
     "name": "stdout",
     "output_type": "stream",
     "text": [
      "<class 'pandas.core.frame.DataFrame'>\n",
      "RangeIndex: 674072 entries, 0 to 674071\n",
      "Data columns (total 6 columns):\n",
      " #   Column   Non-Null Count   Dtype   \n",
      "---  ------   --------------   -----   \n",
      " 0   mssv     674072 non-null  category\n",
      " 1   ma_mh    674072 non-null  category\n",
      " 2   so_tc    674072 non-null  int16   \n",
      " 3   hoc_ky   674072 non-null  category\n",
      " 4   nam_hoc  674072 non-null  category\n",
      " 5   diem_hp  657936 non-null  float32 \n",
      "dtypes: category(4), float32(1), int16(1)\n",
      "memory usage: 8.4 MB\n"
     ]
    }
   ],
   "source": [
    "diem_Thu_df.info()"
   ]
  },
  {
   "attachments": {},
   "cell_type": "markdown",
   "metadata": {},
   "source": [
    "# merge diem_df and diem_Thu_df"
   ]
  },
  {
   "cell_type": "code",
   "execution_count": 76,
   "metadata": {},
   "outputs": [
    {
     "data": {
      "text/plain": [
       "Index(['mssv', 'ma_mh', 'so_tc', 'nam_hoc', 'hoc_ky', 'diem_hp'], dtype='object')"
      ]
     },
     "execution_count": 76,
     "metadata": {},
     "output_type": "execute_result"
    }
   ],
   "source": [
    "diem_df.columns"
   ]
  },
  {
   "cell_type": "code",
   "execution_count": 77,
   "metadata": {},
   "outputs": [
    {
     "data": {
      "text/plain": [
       "Index(['mssv', 'ma_mh', 'so_tc', 'hoc_ky', 'nam_hoc', 'diem_hp'], dtype='object')"
      ]
     },
     "execution_count": 77,
     "metadata": {},
     "output_type": "execute_result"
    }
   ],
   "source": [
    "diem_Thu_df.columns"
   ]
  },
  {
   "cell_type": "code",
   "execution_count": 78,
   "metadata": {},
   "outputs": [
    {
     "name": "stdout",
     "output_type": "stream",
     "text": [
      "<class 'pandas.core.frame.DataFrame'>\n",
      "RangeIndex: 773000 entries, 0 to 772999\n",
      "Data columns (total 6 columns):\n",
      " #   Column   Non-Null Count   Dtype   \n",
      "---  ------   --------------   -----   \n",
      " 0   mssv     773000 non-null  object  \n",
      " 1   ma_mh    773000 non-null  object  \n",
      " 2   so_tc    773000 non-null  int16   \n",
      " 3   nam_hoc  773000 non-null  object  \n",
      " 4   hoc_ky   773000 non-null  category\n",
      " 5   diem_hp  756809 non-null  float32 \n",
      "dtypes: category(1), float32(1), int16(1), object(3)\n",
      "memory usage: 22.9+ MB\n"
     ]
    }
   ],
   "source": [
    "diem_hp_df = pd.merge(\n",
    "    diem_df, diem_Thu_df,\n",
    "    on=list(diem_df.columns),\n",
    "    how='outer'\n",
    ")\n",
    "diem_hp_df.info()"
   ]
  },
  {
   "attachments": {},
   "cell_type": "markdown",
   "metadata": {},
   "source": [
    "## handle duplication rows"
   ]
  },
  {
   "cell_type": "code",
   "execution_count": 79,
   "metadata": {},
   "outputs": [
    {
     "data": {
      "text/plain": [
       "51"
      ]
     },
     "execution_count": 79,
     "metadata": {},
     "output_type": "execute_result"
    }
   ],
   "source": [
    "diem_hp_pkey = ['mssv', 'nam_hoc', 'hoc_ky', 'ma_mh']\n",
    "diem_hp_df[diem_hp_pkey].duplicated().sum()"
   ]
  },
  {
   "cell_type": "code",
   "execution_count": 80,
   "metadata": {},
   "outputs": [
    {
     "data": {
      "text/html": [
       "<div>\n",
       "<style scoped>\n",
       "    .dataframe tbody tr th:only-of-type {\n",
       "        vertical-align: middle;\n",
       "    }\n",
       "\n",
       "    .dataframe tbody tr th {\n",
       "        vertical-align: top;\n",
       "    }\n",
       "\n",
       "    .dataframe thead th {\n",
       "        text-align: right;\n",
       "    }\n",
       "</style>\n",
       "<table border=\"1\" class=\"dataframe\">\n",
       "  <thead>\n",
       "    <tr style=\"text-align: right;\">\n",
       "      <th></th>\n",
       "      <th>mssv</th>\n",
       "      <th>ma_mh</th>\n",
       "      <th>so_tc</th>\n",
       "      <th>nam_hoc</th>\n",
       "      <th>hoc_ky</th>\n",
       "      <th>diem_hp</th>\n",
       "    </tr>\n",
       "  </thead>\n",
       "  <tbody>\n",
       "    <tr>\n",
       "      <th>560330</th>\n",
       "      <td>00CFFDDFXPvAibaEXe9PaZSVcf3BgqtWEBh0HDBi</td>\n",
       "      <td>JAN02</td>\n",
       "      <td>4</td>\n",
       "      <td>2019</td>\n",
       "      <td>2</td>\n",
       "      <td>4.6</td>\n",
       "    </tr>\n",
       "    <tr>\n",
       "      <th>581648</th>\n",
       "      <td>00CFFDDFXPvAibaEXe9PaZSVcf3BgqtWEBh0HDBi</td>\n",
       "      <td>JAN02</td>\n",
       "      <td>4</td>\n",
       "      <td>2019</td>\n",
       "      <td>2</td>\n",
       "      <td>3.5</td>\n",
       "    </tr>\n",
       "    <tr>\n",
       "      <th>559726</th>\n",
       "      <td>06B78A83XPvAibaEXe+b/3AZFelvL6x33ODd3+Y5</td>\n",
       "      <td>ENGL1213</td>\n",
       "      <td>2</td>\n",
       "      <td>2019</td>\n",
       "      <td>2</td>\n",
       "      <td>2.0</td>\n",
       "    </tr>\n",
       "    <tr>\n",
       "      <th>566870</th>\n",
       "      <td>06B78A83XPvAibaEXe+b/3AZFelvL6x33ODd3+Y5</td>\n",
       "      <td>ENGL1213</td>\n",
       "      <td>2</td>\n",
       "      <td>2019</td>\n",
       "      <td>2</td>\n",
       "      <td>6.8</td>\n",
       "    </tr>\n",
       "    <tr>\n",
       "      <th>479702</th>\n",
       "      <td>06EEDB7DXPvAibaEXe8E6yzSPpyFOfvrOcCQyyax</td>\n",
       "      <td>ENG02</td>\n",
       "      <td>2</td>\n",
       "      <td>2018</td>\n",
       "      <td>1</td>\n",
       "      <td>4.6</td>\n",
       "    </tr>\n",
       "    <tr>\n",
       "      <th>...</th>\n",
       "      <td>...</td>\n",
       "      <td>...</td>\n",
       "      <td>...</td>\n",
       "      <td>...</td>\n",
       "      <td>...</td>\n",
       "      <td>...</td>\n",
       "    </tr>\n",
       "    <tr>\n",
       "      <th>566424</th>\n",
       "      <td>F6009921XPvAibaEXe9nP2x7vQNdVRElP3y/nIwA</td>\n",
       "      <td>ENGL1213</td>\n",
       "      <td>2</td>\n",
       "      <td>2019</td>\n",
       "      <td>2</td>\n",
       "      <td>6.0</td>\n",
       "    </tr>\n",
       "    <tr>\n",
       "      <th>479730</th>\n",
       "      <td>FA3B3223XPvAibaEXe/glop/3mrWAOZRKBX4avQd</td>\n",
       "      <td>ENG02</td>\n",
       "      <td>2</td>\n",
       "      <td>2018</td>\n",
       "      <td>1</td>\n",
       "      <td>4.9</td>\n",
       "    </tr>\n",
       "    <tr>\n",
       "      <th>492996</th>\n",
       "      <td>FA3B3223XPvAibaEXe/glop/3mrWAOZRKBX4avQd</td>\n",
       "      <td>ENG02</td>\n",
       "      <td>2</td>\n",
       "      <td>2018</td>\n",
       "      <td>1</td>\n",
       "      <td>5.9</td>\n",
       "    </tr>\n",
       "    <tr>\n",
       "      <th>482895</th>\n",
       "      <td>FF575360XPvAibaEXe9wgACCA7SCWWiaUs/GWfcV</td>\n",
       "      <td>ENG01</td>\n",
       "      <td>2</td>\n",
       "      <td>2018</td>\n",
       "      <td>1</td>\n",
       "      <td>4.3</td>\n",
       "    </tr>\n",
       "    <tr>\n",
       "      <th>482954</th>\n",
       "      <td>FF575360XPvAibaEXe9wgACCA7SCWWiaUs/GWfcV</td>\n",
       "      <td>ENG01</td>\n",
       "      <td>2</td>\n",
       "      <td>2018</td>\n",
       "      <td>1</td>\n",
       "      <td>5.9</td>\n",
       "    </tr>\n",
       "  </tbody>\n",
       "</table>\n",
       "<p>102 rows × 6 columns</p>\n",
       "</div>"
      ],
      "text/plain": [
       "                                            mssv     ma_mh  so_tc nam_hoc   \n",
       "560330  00CFFDDFXPvAibaEXe9PaZSVcf3BgqtWEBh0HDBi     JAN02      4    2019  \\\n",
       "581648  00CFFDDFXPvAibaEXe9PaZSVcf3BgqtWEBh0HDBi     JAN02      4    2019   \n",
       "559726  06B78A83XPvAibaEXe+b/3AZFelvL6x33ODd3+Y5  ENGL1213      2    2019   \n",
       "566870  06B78A83XPvAibaEXe+b/3AZFelvL6x33ODd3+Y5  ENGL1213      2    2019   \n",
       "479702  06EEDB7DXPvAibaEXe8E6yzSPpyFOfvrOcCQyyax     ENG02      2    2018   \n",
       "...                                          ...       ...    ...     ...   \n",
       "566424  F6009921XPvAibaEXe9nP2x7vQNdVRElP3y/nIwA  ENGL1213      2    2019   \n",
       "479730  FA3B3223XPvAibaEXe/glop/3mrWAOZRKBX4avQd     ENG02      2    2018   \n",
       "492996  FA3B3223XPvAibaEXe/glop/3mrWAOZRKBX4avQd     ENG02      2    2018   \n",
       "482895  FF575360XPvAibaEXe9wgACCA7SCWWiaUs/GWfcV     ENG01      2    2018   \n",
       "482954  FF575360XPvAibaEXe9wgACCA7SCWWiaUs/GWfcV     ENG01      2    2018   \n",
       "\n",
       "       hoc_ky  diem_hp  \n",
       "560330      2      4.6  \n",
       "581648      2      3.5  \n",
       "559726      2      2.0  \n",
       "566870      2      6.8  \n",
       "479702      1      4.6  \n",
       "...       ...      ...  \n",
       "566424      2      6.0  \n",
       "479730      1      4.9  \n",
       "492996      1      5.9  \n",
       "482895      1      4.3  \n",
       "482954      1      5.9  \n",
       "\n",
       "[102 rows x 6 columns]"
      ]
     },
     "execution_count": 80,
     "metadata": {},
     "output_type": "execute_result"
    }
   ],
   "source": [
    "tmp = diem_hp_df[diem_hp_pkey].duplicated(keep=False)\n",
    "diem_hp_df[tmp].sort_values(by=diem_hp_pkey)"
   ]
  },
  {
   "cell_type": "code",
   "execution_count": 81,
   "metadata": {},
   "outputs": [],
   "source": [
    "tmp = diem_hp_df[diem_hp_pkey].duplicated(keep=False)\n",
    "tmp = diem_hp_df[tmp].index\n",
    "diem_hp_df.drop(index=tmp, inplace=True)"
   ]
  },
  {
   "cell_type": "code",
   "execution_count": 82,
   "metadata": {},
   "outputs": [
    {
     "data": {
      "text/html": [
       "<div>\n",
       "<style scoped>\n",
       "    .dataframe tbody tr th:only-of-type {\n",
       "        vertical-align: middle;\n",
       "    }\n",
       "\n",
       "    .dataframe tbody tr th {\n",
       "        vertical-align: top;\n",
       "    }\n",
       "\n",
       "    .dataframe thead th {\n",
       "        text-align: right;\n",
       "    }\n",
       "</style>\n",
       "<table border=\"1\" class=\"dataframe\">\n",
       "  <thead>\n",
       "    <tr style=\"text-align: right;\">\n",
       "      <th></th>\n",
       "      <th>mssv</th>\n",
       "      <th>ma_mh</th>\n",
       "      <th>so_tc</th>\n",
       "      <th>nam_hoc</th>\n",
       "      <th>hoc_ky</th>\n",
       "      <th>diem_hp</th>\n",
       "    </tr>\n",
       "  </thead>\n",
       "  <tbody>\n",
       "  </tbody>\n",
       "</table>\n",
       "</div>"
      ],
      "text/plain": [
       "Empty DataFrame\n",
       "Columns: [mssv, ma_mh, so_tc, nam_hoc, hoc_ky, diem_hp]\n",
       "Index: []"
      ]
     },
     "execution_count": 82,
     "metadata": {},
     "output_type": "execute_result"
    }
   ],
   "source": [
    "tmp = diem_hp_df[diem_hp_pkey].duplicated(keep=False)\n",
    "diem_hp_df[tmp].sort_values(by=diem_hp_pkey)"
   ]
  },
  {
   "cell_type": "code",
   "execution_count": 83,
   "metadata": {},
   "outputs": [
    {
     "name": "stdout",
     "output_type": "stream",
     "text": [
      "<class 'pandas.core.frame.DataFrame'>\n",
      "RangeIndex: 772898 entries, 0 to 772897\n",
      "Data columns (total 6 columns):\n",
      " #   Column   Non-Null Count   Dtype   \n",
      "---  ------   --------------   -----   \n",
      " 0   mssv     772898 non-null  object  \n",
      " 1   ma_mh    772898 non-null  object  \n",
      " 2   so_tc    772898 non-null  int16   \n",
      " 3   nam_hoc  772898 non-null  object  \n",
      " 4   hoc_ky   772898 non-null  category\n",
      " 5   diem_hp  756710 non-null  float32 \n",
      "dtypes: category(1), float32(1), int16(1), object(3)\n",
      "memory usage: 22.9+ MB\n"
     ]
    }
   ],
   "source": [
    "diem_hp_df = pd.merge(\n",
    "    diem_hp_df, diem_df,\n",
    "    on=list(diem_df.columns),\n",
    "    how='outer'\n",
    ")\n",
    "diem_hp_df.info()"
   ]
  },
  {
   "cell_type": "code",
   "execution_count": 84,
   "metadata": {},
   "outputs": [
    {
     "data": {
      "text/html": [
       "<div>\n",
       "<style scoped>\n",
       "    .dataframe tbody tr th:only-of-type {\n",
       "        vertical-align: middle;\n",
       "    }\n",
       "\n",
       "    .dataframe tbody tr th {\n",
       "        vertical-align: top;\n",
       "    }\n",
       "\n",
       "    .dataframe thead th {\n",
       "        text-align: right;\n",
       "    }\n",
       "</style>\n",
       "<table border=\"1\" class=\"dataframe\">\n",
       "  <thead>\n",
       "    <tr style=\"text-align: right;\">\n",
       "      <th></th>\n",
       "      <th>mssv</th>\n",
       "      <th>ma_mh</th>\n",
       "      <th>so_tc</th>\n",
       "      <th>nam_hoc</th>\n",
       "      <th>hoc_ky</th>\n",
       "      <th>diem_hp</th>\n",
       "    </tr>\n",
       "  </thead>\n",
       "  <tbody>\n",
       "  </tbody>\n",
       "</table>\n",
       "</div>"
      ],
      "text/plain": [
       "Empty DataFrame\n",
       "Columns: [mssv, ma_mh, so_tc, nam_hoc, hoc_ky, diem_hp]\n",
       "Index: []"
      ]
     },
     "execution_count": 84,
     "metadata": {},
     "output_type": "execute_result"
    }
   ],
   "source": [
    "tmp = diem_hp_df[diem_hp_pkey].duplicated(keep=False)\n",
    "diem_hp_df[tmp].sort_values(by=diem_hp_pkey)"
   ]
  },
  {
   "attachments": {},
   "cell_type": "markdown",
   "metadata": {},
   "source": [
    "## handle duplication so_tc"
   ]
  },
  {
   "cell_type": "code",
   "execution_count": 85,
   "metadata": {},
   "outputs": [
    {
     "data": {
      "text/html": [
       "<div>\n",
       "<style scoped>\n",
       "    .dataframe tbody tr th:only-of-type {\n",
       "        vertical-align: middle;\n",
       "    }\n",
       "\n",
       "    .dataframe tbody tr th {\n",
       "        vertical-align: top;\n",
       "    }\n",
       "\n",
       "    .dataframe thead th {\n",
       "        text-align: right;\n",
       "    }\n",
       "</style>\n",
       "<table border=\"1\" class=\"dataframe\">\n",
       "  <thead>\n",
       "    <tr style=\"text-align: right;\">\n",
       "      <th></th>\n",
       "      <th>ma_mh</th>\n",
       "      <th>so_tc</th>\n",
       "    </tr>\n",
       "  </thead>\n",
       "  <tbody>\n",
       "  </tbody>\n",
       "</table>\n",
       "</div>"
      ],
      "text/plain": [
       "Empty DataFrame\n",
       "Columns: [ma_mh, so_tc]\n",
       "Index: []"
      ]
     },
     "execution_count": 85,
     "metadata": {},
     "output_type": "execute_result"
    }
   ],
   "source": [
    "tmp2 = diem_hp_df[['ma_mh', 'so_tc']].drop_duplicates()\n",
    "tmp1 = tmp2.duplicated(subset=[\"ma_mh\"], keep=False)\n",
    "tmp3 = tmp2[tmp1].sort_values(by=['ma_mh'])\n",
    "# print(tmp3.to_markdown())\n",
    "tmp3"
   ]
  },
  {
   "attachments": {},
   "cell_type": "markdown",
   "metadata": {},
   "source": [
    "# calculate diem_hk"
   ]
  },
  {
   "cell_type": "code",
   "execution_count": 86,
   "metadata": {},
   "outputs": [
    {
     "name": "stdout",
     "output_type": "stream",
     "text": [
      "<class 'pandas.core.frame.DataFrame'>\n",
      "Index: 756710 entries, 0 to 772897\n",
      "Data columns (total 6 columns):\n",
      " #   Column   Non-Null Count   Dtype   \n",
      "---  ------   --------------   -----   \n",
      " 0   mssv     756710 non-null  object  \n",
      " 1   ma_mh    756710 non-null  object  \n",
      " 2   so_tc    756710 non-null  int16   \n",
      " 3   nam_hoc  756710 non-null  object  \n",
      " 4   hoc_ky   756710 non-null  category\n",
      " 5   diem_hp  756710 non-null  float32 \n",
      "dtypes: category(1), float32(1), int16(1), object(3)\n",
      "memory usage: 28.1+ MB\n"
     ]
    }
   ],
   "source": [
    "diem_hp_df.dropna(how='any', inplace=True)\n",
    "diem_hp_df.info()"
   ]
  },
  {
   "cell_type": "code",
   "execution_count": 87,
   "metadata": {},
   "outputs": [
    {
     "data": {
      "text/html": [
       "<div>\n",
       "<style scoped>\n",
       "    .dataframe tbody tr th:only-of-type {\n",
       "        vertical-align: middle;\n",
       "    }\n",
       "\n",
       "    .dataframe tbody tr th {\n",
       "        vertical-align: top;\n",
       "    }\n",
       "\n",
       "    .dataframe thead th {\n",
       "        text-align: right;\n",
       "    }\n",
       "</style>\n",
       "<table border=\"1\" class=\"dataframe\">\n",
       "  <thead>\n",
       "    <tr style=\"text-align: right;\">\n",
       "      <th></th>\n",
       "      <th>mssv</th>\n",
       "      <th>ma_mh</th>\n",
       "      <th>so_tc</th>\n",
       "      <th>nam_hoc</th>\n",
       "      <th>hoc_ky</th>\n",
       "      <th>diem_hp</th>\n",
       "      <th>diem_x_tc</th>\n",
       "    </tr>\n",
       "  </thead>\n",
       "  <tbody>\n",
       "    <tr>\n",
       "      <th>412351</th>\n",
       "      <td>D6FB2161XPvAibaEXe8NoNh54Mn6M9V+6Pt1xCYu</td>\n",
       "      <td>MA005</td>\n",
       "      <td>2</td>\n",
       "      <td>2016</td>\n",
       "      <td>2</td>\n",
       "      <td>7.6</td>\n",
       "      <td>15.2</td>\n",
       "    </tr>\n",
       "    <tr>\n",
       "      <th>381287</th>\n",
       "      <td>62A950A6XPvAibaEXe8yzZ/8QUtgdv/TDzLoF+yc</td>\n",
       "      <td>IT006</td>\n",
       "      <td>2</td>\n",
       "      <td>2015</td>\n",
       "      <td>3</td>\n",
       "      <td>3.3</td>\n",
       "      <td>6.6</td>\n",
       "    </tr>\n",
       "    <tr>\n",
       "      <th>76103</th>\n",
       "      <td>8EA62CACXPVAIBAEXE/RR9UJZGOYEP5IERX1DCP7</td>\n",
       "      <td>PH001</td>\n",
       "      <td>2</td>\n",
       "      <td>2016</td>\n",
       "      <td>1</td>\n",
       "      <td>5.8</td>\n",
       "      <td>11.6</td>\n",
       "    </tr>\n",
       "    <tr>\n",
       "      <th>749010</th>\n",
       "      <td>2A6B1556XPvAibaEXe9j/EZgTdvJATIe3Ooh3WXB</td>\n",
       "      <td>SS006</td>\n",
       "      <td>2</td>\n",
       "      <td>2022</td>\n",
       "      <td>1</td>\n",
       "      <td>2.6</td>\n",
       "      <td>5.2</td>\n",
       "    </tr>\n",
       "    <tr>\n",
       "      <th>3653</th>\n",
       "      <td>2CE33A2EXPVAIBAEXE+UDHZQ6I3ZLR6F2C3JS/1U</td>\n",
       "      <td>IT001</td>\n",
       "      <td>3</td>\n",
       "      <td>2013</td>\n",
       "      <td>1</td>\n",
       "      <td>5.0</td>\n",
       "      <td>15.0</td>\n",
       "    </tr>\n",
       "  </tbody>\n",
       "</table>\n",
       "</div>"
      ],
      "text/plain": [
       "                                            mssv   ma_mh  so_tc nam_hoc   \n",
       "412351  D6FB2161XPvAibaEXe8NoNh54Mn6M9V+6Pt1xCYu   MA005      2    2016  \\\n",
       "381287  62A950A6XPvAibaEXe8yzZ/8QUtgdv/TDzLoF+yc   IT006      2    2015   \n",
       "76103   8EA62CACXPVAIBAEXE/RR9UJZGOYEP5IERX1DCP7   PH001      2    2016   \n",
       "749010  2A6B1556XPvAibaEXe9j/EZgTdvJATIe3Ooh3WXB   SS006      2    2022   \n",
       "3653    2CE33A2EXPVAIBAEXE+UDHZQ6I3ZLR6F2C3JS/1U   IT001      3    2013   \n",
       "\n",
       "       hoc_ky  diem_hp  diem_x_tc  \n",
       "412351      2      7.6       15.2  \n",
       "381287      3      3.3        6.6  \n",
       "76103       1      5.8       11.6  \n",
       "749010      1      2.6        5.2  \n",
       "3653        1      5.0       15.0  "
      ]
     },
     "execution_count": 87,
     "metadata": {},
     "output_type": "execute_result"
    }
   ],
   "source": [
    "diem_hp_df['diem_x_tc'] = diem_hp_df.diem_hp * diem_hp_df.so_tc\n",
    "diem_hp_df.sample(5)"
   ]
  },
  {
   "cell_type": "code",
   "execution_count": 88,
   "metadata": {},
   "outputs": [
    {
     "name": "stderr",
     "output_type": "stream",
     "text": [
      "C:\\Users\\vuhh2\\AppData\\Local\\Temp\\ipykernel_9440\\3218171244.py:2: RuntimeWarning: invalid value encountered in divide\n",
      "  dtb_hk_df = diem_hp_df.groupby(dtb_hk_pkey).apply(lambda x: x['diem_x_tc'].sum() / x['so_tc'].sum())\n"
     ]
    }
   ],
   "source": [
    "dtb_hk_pkey = ['mssv', 'nam_hoc', 'hoc_ky']\n",
    "dtb_hk_df = diem_hp_df.groupby(dtb_hk_pkey).apply(lambda x: x['diem_x_tc'].sum() / x['so_tc'].sum())"
   ]
  },
  {
   "cell_type": "code",
   "execution_count": 89,
   "metadata": {},
   "outputs": [
    {
     "data": {
      "text/plain": [
       "mssv                                      nam_hoc  hoc_ky\n",
       "04C9CC0EXPVAIBAEXE/S5MCHDNRLM80QIVJ4RYP4  2015     2         7.533334\n",
       "4B44DB9CXPvAibaEXe+cHxM5cHw4WnfUr5zHt0ak  2017     1         7.725000\n",
       "484049E2XPvAibaEXe8JyzRlwVelI3aUgX2XX+pg  2022     1         7.676471\n",
       "E85D6042XPvAibaEXe+F5/cNCOrl8b/YMEsp2Kyo  2017     1         7.894118\n",
       "6C014AFEXPvAibaEXe/JhqMYLzzrR7PXSTLh//YT  2016     1         6.307692\n",
       "dtype: float64"
      ]
     },
     "execution_count": 89,
     "metadata": {},
     "output_type": "execute_result"
    }
   ],
   "source": [
    "dtb_hk_df.sample(5)"
   ]
  },
  {
   "cell_type": "code",
   "execution_count": 90,
   "metadata": {},
   "outputs": [
    {
     "name": "stdout",
     "output_type": "stream",
     "text": [
      "<class 'pandas.core.series.Series'>\n",
      "MultiIndex: 148398 entries, ('0000AC05XPvAibaEXe9B2tolTZ0JLoBGbkQixQS6', '2021', '1') to ('FFFCEDACXPvAibaEXe/r1+Wy29gBaT8F536ZLuBZ', '2009', '1')\n",
      "Series name: None\n",
      "Non-Null Count   Dtype  \n",
      "--------------   -----  \n",
      "148132 non-null  float64\n",
      "dtypes: float64(1)\n",
      "memory usage: 2.4+ MB\n"
     ]
    }
   ],
   "source": [
    "dtb_hk_df.info()"
   ]
  },
  {
   "cell_type": "code",
   "execution_count": 91,
   "metadata": {},
   "outputs": [
    {
     "data": {
      "text/html": [
       "<div>\n",
       "<style scoped>\n",
       "    .dataframe tbody tr th:only-of-type {\n",
       "        vertical-align: middle;\n",
       "    }\n",
       "\n",
       "    .dataframe tbody tr th {\n",
       "        vertical-align: top;\n",
       "    }\n",
       "\n",
       "    .dataframe thead th {\n",
       "        text-align: right;\n",
       "    }\n",
       "</style>\n",
       "<table border=\"1\" class=\"dataframe\">\n",
       "  <thead>\n",
       "    <tr style=\"text-align: right;\">\n",
       "      <th></th>\n",
       "      <th>mssv</th>\n",
       "      <th>nam_hoc</th>\n",
       "      <th>hoc_ky</th>\n",
       "      <th>dtb_hk</th>\n",
       "    </tr>\n",
       "  </thead>\n",
       "  <tbody>\n",
       "    <tr>\n",
       "      <th>74488</th>\n",
       "      <td>8275AFF1XPVAIBAEXE887JOJHK2RV2ODGNV6TIR2</td>\n",
       "      <td>2016</td>\n",
       "      <td>1</td>\n",
       "      <td>7.416667</td>\n",
       "    </tr>\n",
       "    <tr>\n",
       "      <th>111633</th>\n",
       "      <td>C27C4BC3XPvAibaEXe+R+jOiVy4LIPWlBbFay3eJ</td>\n",
       "      <td>2013</td>\n",
       "      <td>1</td>\n",
       "      <td>5.781250</td>\n",
       "    </tr>\n",
       "    <tr>\n",
       "      <th>139704</th>\n",
       "      <td>F152A73EXPvAibaEXe9Hg4P9GaiGIIDn5D+TYaGh</td>\n",
       "      <td>2013</td>\n",
       "      <td>3</td>\n",
       "      <td>6.900000</td>\n",
       "    </tr>\n",
       "    <tr>\n",
       "      <th>144281</th>\n",
       "      <td>F96E9B2DXPvAibaEXe+oshwCJ2TOL7JUu9F576u8</td>\n",
       "      <td>2021</td>\n",
       "      <td>1</td>\n",
       "      <td>8.480000</td>\n",
       "    </tr>\n",
       "    <tr>\n",
       "      <th>50803</th>\n",
       "      <td>590263C4XPvAibaEXe9mDsFtgVHJ/lr5wIkYTfyo</td>\n",
       "      <td>2019</td>\n",
       "      <td>1</td>\n",
       "      <td>8.060000</td>\n",
       "    </tr>\n",
       "  </tbody>\n",
       "</table>\n",
       "</div>"
      ],
      "text/plain": [
       "                                            mssv nam_hoc hoc_ky    dtb_hk\n",
       "74488   8275AFF1XPVAIBAEXE887JOJHK2RV2ODGNV6TIR2    2016      1  7.416667\n",
       "111633  C27C4BC3XPvAibaEXe+R+jOiVy4LIPWlBbFay3eJ    2013      1  5.781250\n",
       "139704  F152A73EXPvAibaEXe9Hg4P9GaiGIIDn5D+TYaGh    2013      3  6.900000\n",
       "144281  F96E9B2DXPvAibaEXe+oshwCJ2TOL7JUu9F576u8    2021      1  8.480000\n",
       "50803   590263C4XPvAibaEXe9mDsFtgVHJ/lr5wIkYTfyo    2019      1  8.060000"
      ]
     },
     "execution_count": 91,
     "metadata": {},
     "output_type": "execute_result"
    }
   ],
   "source": [
    "dtb_hk_df = dtb_hk_df.reset_index(name='dtb_hk')\n",
    "dtb_hk_df.sample(5)"
   ]
  },
  {
   "cell_type": "code",
   "execution_count": 92,
   "metadata": {},
   "outputs": [
    {
     "name": "stdout",
     "output_type": "stream",
     "text": [
      "<class 'pandas.core.frame.DataFrame'>\n",
      "RangeIndex: 148398 entries, 0 to 148397\n",
      "Data columns (total 4 columns):\n",
      " #   Column   Non-Null Count   Dtype   \n",
      "---  ------   --------------   -----   \n",
      " 0   mssv     148398 non-null  object  \n",
      " 1   nam_hoc  148398 non-null  object  \n",
      " 2   hoc_ky   148398 non-null  category\n",
      " 3   dtb_hk   148132 non-null  float64 \n",
      "dtypes: category(1), float64(1), object(2)\n",
      "memory usage: 3.5+ MB\n"
     ]
    }
   ],
   "source": [
    "dtb_hk_df.info()"
   ]
  },
  {
   "cell_type": "code",
   "execution_count": 93,
   "metadata": {},
   "outputs": [
    {
     "data": {
      "text/html": [
       "<div>\n",
       "<style scoped>\n",
       "    .dataframe tbody tr th:only-of-type {\n",
       "        vertical-align: middle;\n",
       "    }\n",
       "\n",
       "    .dataframe tbody tr th {\n",
       "        vertical-align: top;\n",
       "    }\n",
       "\n",
       "    .dataframe thead th {\n",
       "        text-align: right;\n",
       "    }\n",
       "</style>\n",
       "<table border=\"1\" class=\"dataframe\">\n",
       "  <thead>\n",
       "    <tr style=\"text-align: right;\">\n",
       "      <th></th>\n",
       "      <th>mssv</th>\n",
       "      <th>nam_hoc</th>\n",
       "      <th>hoc_ky</th>\n",
       "      <th>dtb_hk</th>\n",
       "    </tr>\n",
       "  </thead>\n",
       "  <tbody>\n",
       "    <tr>\n",
       "      <th>77</th>\n",
       "      <td>00169126XPvAibaEXe85YhhPviVpreIIM/uxLQ/I</td>\n",
       "      <td>2020</td>\n",
       "      <td>3</td>\n",
       "      <td>NaN</td>\n",
       "    </tr>\n",
       "    <tr>\n",
       "      <th>86</th>\n",
       "      <td>0018C59CXPvAibaEXe8C3lblh2dNniH+SYgLosUA</td>\n",
       "      <td>2019</td>\n",
       "      <td>3</td>\n",
       "      <td>NaN</td>\n",
       "    </tr>\n",
       "    <tr>\n",
       "      <th>417</th>\n",
       "      <td>00A6F5DAXPvAibaEXe/zT99h3DDtvT/brt/zZ/RZ</td>\n",
       "      <td>2019</td>\n",
       "      <td>3</td>\n",
       "      <td>NaN</td>\n",
       "    </tr>\n",
       "    <tr>\n",
       "      <th>526</th>\n",
       "      <td>00C64B85XPVAIBAEXE/GFBVLDV6SZJLZKXS0/KN4</td>\n",
       "      <td>2014</td>\n",
       "      <td>1</td>\n",
       "      <td>NaN</td>\n",
       "    </tr>\n",
       "    <tr>\n",
       "      <th>527</th>\n",
       "      <td>00C64B85XPvAibaEXe/GFbVLDV6SZJlZKXs0/KN4</td>\n",
       "      <td>2014</td>\n",
       "      <td>1</td>\n",
       "      <td>NaN</td>\n",
       "    </tr>\n",
       "    <tr>\n",
       "      <th>...</th>\n",
       "      <td>...</td>\n",
       "      <td>...</td>\n",
       "      <td>...</td>\n",
       "      <td>...</td>\n",
       "    </tr>\n",
       "    <tr>\n",
       "      <th>146603</th>\n",
       "      <td>FCE94F5AXPvAibaEXe/1vWrs0w8t9jOSaSfASfMh</td>\n",
       "      <td>2020</td>\n",
       "      <td>3</td>\n",
       "      <td>NaN</td>\n",
       "    </tr>\n",
       "    <tr>\n",
       "      <th>146930</th>\n",
       "      <td>FD72993AXPvAibaEXe+MMervxP1vAKK1MPVOqbY1</td>\n",
       "      <td>2019</td>\n",
       "      <td>3</td>\n",
       "      <td>NaN</td>\n",
       "    </tr>\n",
       "    <tr>\n",
       "      <th>147397</th>\n",
       "      <td>FE3AC989XPvAibaEXe8VnqU11737Hl6IFmKBfB+P</td>\n",
       "      <td>2019</td>\n",
       "      <td>3</td>\n",
       "      <td>NaN</td>\n",
       "    </tr>\n",
       "    <tr>\n",
       "      <th>147399</th>\n",
       "      <td>FE3AC989XPvAibaEXe8VnqU11737Hl6IFmKBfB+P</td>\n",
       "      <td>2020</td>\n",
       "      <td>2</td>\n",
       "      <td>NaN</td>\n",
       "    </tr>\n",
       "    <tr>\n",
       "      <th>148188</th>\n",
       "      <td>FF9F4B4BXPvAibaEXe9hYalhCsDQbZInk2E5ehqz</td>\n",
       "      <td>2019</td>\n",
       "      <td>3</td>\n",
       "      <td>NaN</td>\n",
       "    </tr>\n",
       "  </tbody>\n",
       "</table>\n",
       "<p>266 rows × 4 columns</p>\n",
       "</div>"
      ],
      "text/plain": [
       "                                            mssv nam_hoc hoc_ky  dtb_hk\n",
       "77      00169126XPvAibaEXe85YhhPviVpreIIM/uxLQ/I    2020      3     NaN\n",
       "86      0018C59CXPvAibaEXe8C3lblh2dNniH+SYgLosUA    2019      3     NaN\n",
       "417     00A6F5DAXPvAibaEXe/zT99h3DDtvT/brt/zZ/RZ    2019      3     NaN\n",
       "526     00C64B85XPVAIBAEXE/GFBVLDV6SZJLZKXS0/KN4    2014      1     NaN\n",
       "527     00C64B85XPvAibaEXe/GFbVLDV6SZJlZKXs0/KN4    2014      1     NaN\n",
       "...                                          ...     ...    ...     ...\n",
       "146603  FCE94F5AXPvAibaEXe/1vWrs0w8t9jOSaSfASfMh    2020      3     NaN\n",
       "146930  FD72993AXPvAibaEXe+MMervxP1vAKK1MPVOqbY1    2019      3     NaN\n",
       "147397  FE3AC989XPvAibaEXe8VnqU11737Hl6IFmKBfB+P    2019      3     NaN\n",
       "147399  FE3AC989XPvAibaEXe8VnqU11737Hl6IFmKBfB+P    2020      2     NaN\n",
       "148188  FF9F4B4BXPvAibaEXe9hYalhCsDQbZInk2E5ehqz    2019      3     NaN\n",
       "\n",
       "[266 rows x 4 columns]"
      ]
     },
     "execution_count": 93,
     "metadata": {},
     "output_type": "execute_result"
    }
   ],
   "source": [
    "dtb_hk_df[dtb_hk_df.dtb_hk.isnull()]"
   ]
  },
  {
   "cell_type": "code",
   "execution_count": 94,
   "metadata": {},
   "outputs": [
    {
     "data": {
      "text/html": [
       "<div>\n",
       "<style scoped>\n",
       "    .dataframe tbody tr th:only-of-type {\n",
       "        vertical-align: middle;\n",
       "    }\n",
       "\n",
       "    .dataframe tbody tr th {\n",
       "        vertical-align: top;\n",
       "    }\n",
       "\n",
       "    .dataframe thead th {\n",
       "        text-align: right;\n",
       "    }\n",
       "</style>\n",
       "<table border=\"1\" class=\"dataframe\">\n",
       "  <thead>\n",
       "    <tr style=\"text-align: right;\">\n",
       "      <th></th>\n",
       "      <th>mssv</th>\n",
       "      <th>ma_mh</th>\n",
       "      <th>so_tc</th>\n",
       "      <th>nam_hoc</th>\n",
       "      <th>hoc_ky</th>\n",
       "      <th>diem_hp</th>\n",
       "      <th>diem_x_tc</th>\n",
       "    </tr>\n",
       "  </thead>\n",
       "  <tbody>\n",
       "    <tr>\n",
       "      <th>721612</th>\n",
       "      <td>FCE94F5AXPvAibaEXe/1vWrs0w8t9jOSaSfASfMh</td>\n",
       "      <td>CSBU016</td>\n",
       "      <td>0</td>\n",
       "      <td>2020</td>\n",
       "      <td>3</td>\n",
       "      <td>7.8</td>\n",
       "      <td>0.0</td>\n",
       "    </tr>\n",
       "  </tbody>\n",
       "</table>\n",
       "</div>"
      ],
      "text/plain": [
       "                                            mssv    ma_mh  so_tc nam_hoc   \n",
       "721612  FCE94F5AXPvAibaEXe/1vWrs0w8t9jOSaSfASfMh  CSBU016      0    2020  \\\n",
       "\n",
       "       hoc_ky  diem_hp  diem_x_tc  \n",
       "721612      3      7.8        0.0  "
      ]
     },
     "execution_count": 94,
     "metadata": {},
     "output_type": "execute_result"
    }
   ],
   "source": [
    "diem_hp_df[\n",
    "    (diem_hp_df.mssv == 'FCE94F5AXPvAibaEXe/1vWrs0w8t9jOSaSfASfMh') & \\\n",
    "    (diem_hp_df.nam_hoc == '2020') & \\\n",
    "    (diem_hp_df.hoc_ky == '3')\n",
    "]"
   ]
  },
  {
   "attachments": {},
   "cell_type": "markdown",
   "metadata": {},
   "source": [
    "# sv_dtb_hk_df"
   ]
  },
  {
   "cell_type": "code",
   "execution_count": 95,
   "metadata": {},
   "outputs": [],
   "source": [
    "sv_dtb_hk_df = pd.read_parquet(clean_data_folder/'sinhvien_dtb_hocky.parquet')"
   ]
  },
  {
   "cell_type": "code",
   "execution_count": 96,
   "metadata": {},
   "outputs": [
    {
     "name": "stdout",
     "output_type": "stream",
     "text": [
      "<class 'pandas.core.frame.DataFrame'>\n",
      "RangeIndex: 84952 entries, 0 to 84951\n",
      "Data columns (total 5 columns):\n",
      " #   Column    Non-Null Count  Dtype   \n",
      "---  ------    --------------  -----   \n",
      " 0   mssv      84952 non-null  category\n",
      " 1   hoc_ky    84952 non-null  category\n",
      " 2   nam_hoc   84952 non-null  category\n",
      " 3   dtb_hk    84952 non-null  float32 \n",
      " 4   so_tc_hk  84952 non-null  category\n",
      "dtypes: category(4), float32(1)\n",
      "memory usage: 1.3 MB\n"
     ]
    }
   ],
   "source": [
    "sv_dtb_hk_df.info()"
   ]
  },
  {
   "cell_type": "code",
   "execution_count": 97,
   "metadata": {},
   "outputs": [
    {
     "data": {
      "text/plain": [
       "count    84952.000000\n",
       "mean        16.703350\n",
       "std          6.305202\n",
       "min          0.000000\n",
       "25%         14.000000\n",
       "50%         18.000000\n",
       "75%         20.000000\n",
       "max        195.000000\n",
       "Name: so_tc_hk, dtype: float64"
      ]
     },
     "execution_count": 97,
     "metadata": {},
     "output_type": "execute_result"
    }
   ],
   "source": [
    "sv_dtb_hk_df.so_tc_hk.astype('int16').describe()"
   ]
  },
  {
   "cell_type": "code",
   "execution_count": 98,
   "metadata": {},
   "outputs": [
    {
     "data": {
      "text/plain": [
       "967"
      ]
     },
     "execution_count": 98,
     "metadata": {},
     "output_type": "execute_result"
    }
   ],
   "source": [
    "(sv_dtb_hk_df.so_tc_hk == '0').sum()"
   ]
  },
  {
   "cell_type": "code",
   "execution_count": 99,
   "metadata": {},
   "outputs": [
    {
     "data": {
      "text/html": [
       "<div>\n",
       "<style scoped>\n",
       "    .dataframe tbody tr th:only-of-type {\n",
       "        vertical-align: middle;\n",
       "    }\n",
       "\n",
       "    .dataframe tbody tr th {\n",
       "        vertical-align: top;\n",
       "    }\n",
       "\n",
       "    .dataframe thead th {\n",
       "        text-align: right;\n",
       "    }\n",
       "</style>\n",
       "<table border=\"1\" class=\"dataframe\">\n",
       "  <thead>\n",
       "    <tr style=\"text-align: right;\">\n",
       "      <th></th>\n",
       "      <th>mssv</th>\n",
       "      <th>hoc_ky</th>\n",
       "      <th>nam_hoc</th>\n",
       "      <th>dtb_hk</th>\n",
       "      <th>so_tc_hk</th>\n",
       "    </tr>\n",
       "  </thead>\n",
       "  <tbody>\n",
       "    <tr>\n",
       "      <th>76</th>\n",
       "      <td>152920E2XPvAibaEXe8SRUt3BATKgareMyi/MAyS</td>\n",
       "      <td>2</td>\n",
       "      <td>2016</td>\n",
       "      <td>0.0</td>\n",
       "      <td>0</td>\n",
       "    </tr>\n",
       "    <tr>\n",
       "      <th>2966</th>\n",
       "      <td>13A871D1XPvAibaEXe92Mw4ZEAxz0xYHHlwVWH2m</td>\n",
       "      <td>2</td>\n",
       "      <td>2017</td>\n",
       "      <td>0.0</td>\n",
       "      <td>0</td>\n",
       "    </tr>\n",
       "    <tr>\n",
       "      <th>3595</th>\n",
       "      <td>0B431A01XPvAibaEXe87069oyWO+IS0M6kVzLXKw</td>\n",
       "      <td>2</td>\n",
       "      <td>2016</td>\n",
       "      <td>0.0</td>\n",
       "      <td>0</td>\n",
       "    </tr>\n",
       "    <tr>\n",
       "      <th>4391</th>\n",
       "      <td>8F5FEF7AXPvAibaEXe/WTR5UGsYutKVkihRPCmsN</td>\n",
       "      <td>2</td>\n",
       "      <td>2017</td>\n",
       "      <td>0.0</td>\n",
       "      <td>0</td>\n",
       "    </tr>\n",
       "    <tr>\n",
       "      <th>7796</th>\n",
       "      <td>33BEFDADXPvAibaEXe+XOEV1VJ5O26vfBUXS7TF7</td>\n",
       "      <td>1</td>\n",
       "      <td>2017</td>\n",
       "      <td>0.0</td>\n",
       "      <td>0</td>\n",
       "    </tr>\n",
       "    <tr>\n",
       "      <th>...</th>\n",
       "      <td>...</td>\n",
       "      <td>...</td>\n",
       "      <td>...</td>\n",
       "      <td>...</td>\n",
       "      <td>...</td>\n",
       "    </tr>\n",
       "    <tr>\n",
       "      <th>84937</th>\n",
       "      <td>D75F7AF3XPvAibaEXe8UkZVD+5XbrAXdMpZ3BbG7</td>\n",
       "      <td>2</td>\n",
       "      <td>2022</td>\n",
       "      <td>0.0</td>\n",
       "      <td>0</td>\n",
       "    </tr>\n",
       "    <tr>\n",
       "      <th>84940</th>\n",
       "      <td>68967370XPvAibaEXe9Zp44TyFcBSDcwWhsGcthJ</td>\n",
       "      <td>2</td>\n",
       "      <td>2022</td>\n",
       "      <td>0.0</td>\n",
       "      <td>0</td>\n",
       "    </tr>\n",
       "    <tr>\n",
       "      <th>84949</th>\n",
       "      <td>09DE3A51XPvAibaEXe/GEP39G15BdRSEDU3D3+LV</td>\n",
       "      <td>2</td>\n",
       "      <td>2022</td>\n",
       "      <td>0.0</td>\n",
       "      <td>0</td>\n",
       "    </tr>\n",
       "    <tr>\n",
       "      <th>84950</th>\n",
       "      <td>CCF627D0XPvAibaEXe+oAybUv81bbkc8L/mx+IhC</td>\n",
       "      <td>2</td>\n",
       "      <td>2022</td>\n",
       "      <td>0.0</td>\n",
       "      <td>0</td>\n",
       "    </tr>\n",
       "    <tr>\n",
       "      <th>84951</th>\n",
       "      <td>A6169055XPvAibaEXe81r7KrCH0uc4QKxDeoWYb4</td>\n",
       "      <td>2</td>\n",
       "      <td>2022</td>\n",
       "      <td>0.0</td>\n",
       "      <td>0</td>\n",
       "    </tr>\n",
       "  </tbody>\n",
       "</table>\n",
       "<p>967 rows × 5 columns</p>\n",
       "</div>"
      ],
      "text/plain": [
       "                                           mssv hoc_ky nam_hoc  dtb_hk   \n",
       "76     152920E2XPvAibaEXe8SRUt3BATKgareMyi/MAyS      2    2016     0.0  \\\n",
       "2966   13A871D1XPvAibaEXe92Mw4ZEAxz0xYHHlwVWH2m      2    2017     0.0   \n",
       "3595   0B431A01XPvAibaEXe87069oyWO+IS0M6kVzLXKw      2    2016     0.0   \n",
       "4391   8F5FEF7AXPvAibaEXe/WTR5UGsYutKVkihRPCmsN      2    2017     0.0   \n",
       "7796   33BEFDADXPvAibaEXe+XOEV1VJ5O26vfBUXS7TF7      1    2017     0.0   \n",
       "...                                         ...    ...     ...     ...   \n",
       "84937  D75F7AF3XPvAibaEXe8UkZVD+5XbrAXdMpZ3BbG7      2    2022     0.0   \n",
       "84940  68967370XPvAibaEXe9Zp44TyFcBSDcwWhsGcthJ      2    2022     0.0   \n",
       "84949  09DE3A51XPvAibaEXe/GEP39G15BdRSEDU3D3+LV      2    2022     0.0   \n",
       "84950  CCF627D0XPvAibaEXe+oAybUv81bbkc8L/mx+IhC      2    2022     0.0   \n",
       "84951  A6169055XPvAibaEXe81r7KrCH0uc4QKxDeoWYb4      2    2022     0.0   \n",
       "\n",
       "      so_tc_hk  \n",
       "76           0  \n",
       "2966         0  \n",
       "3595         0  \n",
       "4391         0  \n",
       "7796         0  \n",
       "...        ...  \n",
       "84937        0  \n",
       "84940        0  \n",
       "84949        0  \n",
       "84950        0  \n",
       "84951        0  \n",
       "\n",
       "[967 rows x 5 columns]"
      ]
     },
     "execution_count": 99,
     "metadata": {},
     "output_type": "execute_result"
    }
   ],
   "source": [
    "sv_dtb_hk_df[sv_dtb_hk_df.so_tc_hk == '0']"
   ]
  },
  {
   "cell_type": "code",
   "execution_count": 100,
   "metadata": {},
   "outputs": [],
   "source": [
    "tmp = sv_dtb_hk_df[sv_dtb_hk_df.so_tc_hk == '0'].index\n",
    "sv_dtb_hk_df.drop(index=tmp, inplace=True)"
   ]
  },
  {
   "cell_type": "code",
   "execution_count": 101,
   "metadata": {},
   "outputs": [
    {
     "data": {
      "text/plain": [
       "0"
      ]
     },
     "execution_count": 101,
     "metadata": {},
     "output_type": "execute_result"
    }
   ],
   "source": [
    "(sv_dtb_hk_df.so_tc_hk == '0').sum()"
   ]
  },
  {
   "cell_type": "code",
   "execution_count": 102,
   "metadata": {},
   "outputs": [],
   "source": [
    "sv_dtb_hk_df.drop(columns=['so_tc_hk'], inplace=True)"
   ]
  },
  {
   "cell_type": "code",
   "execution_count": 103,
   "metadata": {},
   "outputs": [
    {
     "name": "stdout",
     "output_type": "stream",
     "text": [
      "<class 'pandas.core.frame.DataFrame'>\n",
      "Index: 83985 entries, 0 to 84948\n",
      "Data columns (total 4 columns):\n",
      " #   Column   Non-Null Count  Dtype   \n",
      "---  ------   --------------  -----   \n",
      " 0   mssv     83985 non-null  category\n",
      " 1   hoc_ky   83985 non-null  category\n",
      " 2   nam_hoc  83985 non-null  category\n",
      " 3   dtb_hk   83985 non-null  float32 \n",
      "dtypes: category(3), float32(1)\n",
      "memory usage: 1.9 MB\n"
     ]
    }
   ],
   "source": [
    "sv_dtb_hk_df.info()"
   ]
  },
  {
   "attachments": {},
   "cell_type": "markdown",
   "metadata": {},
   "source": [
    "# merge dtb_hk_df and sv_dtb_hk_df"
   ]
  },
  {
   "cell_type": "code",
   "execution_count": 104,
   "metadata": {},
   "outputs": [
    {
     "data": {
      "text/plain": [
       "['mssv', 'nam_hoc', 'hoc_ky']"
      ]
     },
     "execution_count": 104,
     "metadata": {},
     "output_type": "execute_result"
    }
   ],
   "source": [
    "dtb_hk_pkey"
   ]
  },
  {
   "cell_type": "code",
   "execution_count": 105,
   "metadata": {},
   "outputs": [
    {
     "data": {
      "text/plain": [
       "Index(['mssv', 'nam_hoc', 'hoc_ky', 'dtb_hk'], dtype='object')"
      ]
     },
     "execution_count": 105,
     "metadata": {},
     "output_type": "execute_result"
    }
   ],
   "source": [
    "dtb_hk_df.columns"
   ]
  },
  {
   "cell_type": "code",
   "execution_count": 106,
   "metadata": {},
   "outputs": [
    {
     "data": {
      "text/plain": [
       "Index(['mssv', 'hoc_ky', 'nam_hoc', 'dtb_hk'], dtype='object')"
      ]
     },
     "execution_count": 106,
     "metadata": {},
     "output_type": "execute_result"
    }
   ],
   "source": [
    "sv_dtb_hk_df.columns"
   ]
  },
  {
   "cell_type": "code",
   "execution_count": 107,
   "metadata": {},
   "outputs": [],
   "source": [
    "enriched_dtb_hk_df = pd.merge(\n",
    "    sv_dtb_hk_df, dtb_hk_df,\n",
    "    on=list(dtb_hk_df.columns),\n",
    "    how='outer'\n",
    ")"
   ]
  },
  {
   "cell_type": "code",
   "execution_count": 108,
   "metadata": {},
   "outputs": [
    {
     "name": "stdout",
     "output_type": "stream",
     "text": [
      "<class 'pandas.core.frame.DataFrame'>\n",
      "RangeIndex: 227058 entries, 0 to 227057\n",
      "Data columns (total 4 columns):\n",
      " #   Column   Non-Null Count   Dtype   \n",
      "---  ------   --------------   -----   \n",
      " 0   mssv     227058 non-null  object  \n",
      " 1   hoc_ky   227058 non-null  category\n",
      " 2   nam_hoc  227058 non-null  object  \n",
      " 3   dtb_hk   226792 non-null  float64 \n",
      "dtypes: category(1), float64(1), object(2)\n",
      "memory usage: 5.4+ MB\n"
     ]
    }
   ],
   "source": [
    "enriched_dtb_hk_df.info()"
   ]
  },
  {
   "attachments": {},
   "cell_type": "markdown",
   "metadata": {},
   "source": [
    "## handle duplication rows"
   ]
  },
  {
   "cell_type": "code",
   "execution_count": 109,
   "metadata": {},
   "outputs": [
    {
     "data": {
      "text/plain": [
       "78652"
      ]
     },
     "execution_count": 109,
     "metadata": {},
     "output_type": "execute_result"
    }
   ],
   "source": [
    "enriched_dtb_hk_df[dtb_hk_pkey].duplicated().sum()"
   ]
  },
  {
   "cell_type": "code",
   "execution_count": 110,
   "metadata": {},
   "outputs": [
    {
     "data": {
      "text/html": [
       "<div>\n",
       "<style scoped>\n",
       "    .dataframe tbody tr th:only-of-type {\n",
       "        vertical-align: middle;\n",
       "    }\n",
       "\n",
       "    .dataframe tbody tr th {\n",
       "        vertical-align: top;\n",
       "    }\n",
       "\n",
       "    .dataframe thead th {\n",
       "        text-align: right;\n",
       "    }\n",
       "</style>\n",
       "<table border=\"1\" class=\"dataframe\">\n",
       "  <thead>\n",
       "    <tr style=\"text-align: right;\">\n",
       "      <th></th>\n",
       "      <th>mssv</th>\n",
       "      <th>hoc_ky</th>\n",
       "      <th>nam_hoc</th>\n",
       "      <th>dtb_hk</th>\n",
       "    </tr>\n",
       "  </thead>\n",
       "  <tbody>\n",
       "    <tr>\n",
       "      <th>69884</th>\n",
       "      <td>0000AC05XPvAibaEXe9B2tolTZ0JLoBGbkQixQS6</td>\n",
       "      <td>1</td>\n",
       "      <td>2021</td>\n",
       "      <td>7.790000</td>\n",
       "    </tr>\n",
       "    <tr>\n",
       "      <th>83985</th>\n",
       "      <td>0000AC05XPvAibaEXe9B2tolTZ0JLoBGbkQixQS6</td>\n",
       "      <td>1</td>\n",
       "      <td>2021</td>\n",
       "      <td>7.807692</td>\n",
       "    </tr>\n",
       "    <tr>\n",
       "      <th>72067</th>\n",
       "      <td>0000AC05XPvAibaEXe9B2tolTZ0JLoBGbkQixQS6</td>\n",
       "      <td>2</td>\n",
       "      <td>2021</td>\n",
       "      <td>8.280000</td>\n",
       "    </tr>\n",
       "    <tr>\n",
       "      <th>83986</th>\n",
       "      <td>0000AC05XPvAibaEXe9B2tolTZ0JLoBGbkQixQS6</td>\n",
       "      <td>2</td>\n",
       "      <td>2021</td>\n",
       "      <td>8.275000</td>\n",
       "    </tr>\n",
       "    <tr>\n",
       "      <th>74645</th>\n",
       "      <td>0000AC05XPvAibaEXe9B2tolTZ0JLoBGbkQixQS6</td>\n",
       "      <td>1</td>\n",
       "      <td>2022</td>\n",
       "      <td>7.560000</td>\n",
       "    </tr>\n",
       "    <tr>\n",
       "      <th>...</th>\n",
       "      <td>...</td>\n",
       "      <td>...</td>\n",
       "      <td>...</td>\n",
       "      <td>...</td>\n",
       "    </tr>\n",
       "    <tr>\n",
       "      <th>227048</th>\n",
       "      <td>FFFA4234XPvAibaEXe+OhmjSj4XEzdTGgcTdT9fT</td>\n",
       "      <td>2</td>\n",
       "      <td>2018</td>\n",
       "      <td>8.447058</td>\n",
       "    </tr>\n",
       "    <tr>\n",
       "      <th>31922</th>\n",
       "      <td>FFFA4234XPvAibaEXe+OhmjSj4XEzdTGgcTdT9fT</td>\n",
       "      <td>1</td>\n",
       "      <td>2019</td>\n",
       "      <td>7.250000</td>\n",
       "    </tr>\n",
       "    <tr>\n",
       "      <th>227049</th>\n",
       "      <td>FFFA4234XPvAibaEXe+OhmjSj4XEzdTGgcTdT9fT</td>\n",
       "      <td>1</td>\n",
       "      <td>2019</td>\n",
       "      <td>7.211766</td>\n",
       "    </tr>\n",
       "    <tr>\n",
       "      <th>39729</th>\n",
       "      <td>FFFA4234XPvAibaEXe+OhmjSj4XEzdTGgcTdT9fT</td>\n",
       "      <td>2</td>\n",
       "      <td>2019</td>\n",
       "      <td>8.100000</td>\n",
       "    </tr>\n",
       "    <tr>\n",
       "      <th>227050</th>\n",
       "      <td>FFFA4234XPvAibaEXe+OhmjSj4XEzdTGgcTdT9fT</td>\n",
       "      <td>2</td>\n",
       "      <td>2019</td>\n",
       "      <td>8.100000</td>\n",
       "    </tr>\n",
       "  </tbody>\n",
       "</table>\n",
       "<p>157304 rows × 4 columns</p>\n",
       "</div>"
      ],
      "text/plain": [
       "                                            mssv hoc_ky nam_hoc    dtb_hk\n",
       "69884   0000AC05XPvAibaEXe9B2tolTZ0JLoBGbkQixQS6      1    2021  7.790000\n",
       "83985   0000AC05XPvAibaEXe9B2tolTZ0JLoBGbkQixQS6      1    2021  7.807692\n",
       "72067   0000AC05XPvAibaEXe9B2tolTZ0JLoBGbkQixQS6      2    2021  8.280000\n",
       "83986   0000AC05XPvAibaEXe9B2tolTZ0JLoBGbkQixQS6      2    2021  8.275000\n",
       "74645   0000AC05XPvAibaEXe9B2tolTZ0JLoBGbkQixQS6      1    2022  7.560000\n",
       "...                                          ...    ...     ...       ...\n",
       "227048  FFFA4234XPvAibaEXe+OhmjSj4XEzdTGgcTdT9fT      2    2018  8.447058\n",
       "31922   FFFA4234XPvAibaEXe+OhmjSj4XEzdTGgcTdT9fT      1    2019  7.250000\n",
       "227049  FFFA4234XPvAibaEXe+OhmjSj4XEzdTGgcTdT9fT      1    2019  7.211766\n",
       "39729   FFFA4234XPvAibaEXe+OhmjSj4XEzdTGgcTdT9fT      2    2019  8.100000\n",
       "227050  FFFA4234XPvAibaEXe+OhmjSj4XEzdTGgcTdT9fT      2    2019  8.100000\n",
       "\n",
       "[157304 rows x 4 columns]"
      ]
     },
     "execution_count": 110,
     "metadata": {},
     "output_type": "execute_result"
    }
   ],
   "source": [
    "tmp = enriched_dtb_hk_df[dtb_hk_pkey].duplicated(keep=False)\n",
    "enriched_dtb_hk_df[tmp].sort_values(by=dtb_hk_pkey)"
   ]
  },
  {
   "cell_type": "code",
   "execution_count": 111,
   "metadata": {},
   "outputs": [],
   "source": [
    "tmp = enriched_dtb_hk_df[dtb_hk_pkey].duplicated(keep=False)\n",
    "tmp = enriched_dtb_hk_df[tmp].index\n",
    "enriched_dtb_hk_df.drop(index=tmp, inplace=True)"
   ]
  },
  {
   "cell_type": "code",
   "execution_count": 112,
   "metadata": {},
   "outputs": [
    {
     "data": {
      "text/html": [
       "<div>\n",
       "<style scoped>\n",
       "    .dataframe tbody tr th:only-of-type {\n",
       "        vertical-align: middle;\n",
       "    }\n",
       "\n",
       "    .dataframe tbody tr th {\n",
       "        vertical-align: top;\n",
       "    }\n",
       "\n",
       "    .dataframe thead th {\n",
       "        text-align: right;\n",
       "    }\n",
       "</style>\n",
       "<table border=\"1\" class=\"dataframe\">\n",
       "  <thead>\n",
       "    <tr style=\"text-align: right;\">\n",
       "      <th></th>\n",
       "      <th>mssv</th>\n",
       "      <th>hoc_ky</th>\n",
       "      <th>nam_hoc</th>\n",
       "      <th>dtb_hk</th>\n",
       "    </tr>\n",
       "  </thead>\n",
       "  <tbody>\n",
       "  </tbody>\n",
       "</table>\n",
       "</div>"
      ],
      "text/plain": [
       "Empty DataFrame\n",
       "Columns: [mssv, hoc_ky, nam_hoc, dtb_hk]\n",
       "Index: []"
      ]
     },
     "execution_count": 112,
     "metadata": {},
     "output_type": "execute_result"
    }
   ],
   "source": [
    "tmp = enriched_dtb_hk_df[dtb_hk_pkey].duplicated(keep=False)\n",
    "enriched_dtb_hk_df[tmp].sort_values(by=dtb_hk_pkey)"
   ]
  },
  {
   "cell_type": "code",
   "execution_count": 113,
   "metadata": {},
   "outputs": [
    {
     "name": "stdout",
     "output_type": "stream",
     "text": [
      "<class 'pandas.core.frame.DataFrame'>\n",
      "RangeIndex: 148406 entries, 0 to 148405\n",
      "Data columns (total 4 columns):\n",
      " #   Column   Non-Null Count   Dtype   \n",
      "---  ------   --------------   -----   \n",
      " 0   mssv     148406 non-null  object  \n",
      " 1   hoc_ky   148406 non-null  category\n",
      " 2   nam_hoc  148406 non-null  object  \n",
      " 3   dtb_hk   148140 non-null  float64 \n",
      "dtypes: category(1), float64(1), object(2)\n",
      "memory usage: 3.5+ MB\n"
     ]
    }
   ],
   "source": [
    "enriched_dtb_hk_df = pd.merge(\n",
    "    enriched_dtb_hk_df, dtb_hk_df,\n",
    "    on=list(dtb_hk_df.columns),\n",
    "    how='outer'\n",
    ")\n",
    "enriched_dtb_hk_df.info()"
   ]
  },
  {
   "cell_type": "code",
   "execution_count": 114,
   "metadata": {},
   "outputs": [
    {
     "data": {
      "text/html": [
       "<div>\n",
       "<style scoped>\n",
       "    .dataframe tbody tr th:only-of-type {\n",
       "        vertical-align: middle;\n",
       "    }\n",
       "\n",
       "    .dataframe tbody tr th {\n",
       "        vertical-align: top;\n",
       "    }\n",
       "\n",
       "    .dataframe thead th {\n",
       "        text-align: right;\n",
       "    }\n",
       "</style>\n",
       "<table border=\"1\" class=\"dataframe\">\n",
       "  <thead>\n",
       "    <tr style=\"text-align: right;\">\n",
       "      <th></th>\n",
       "      <th>mssv</th>\n",
       "      <th>hoc_ky</th>\n",
       "      <th>nam_hoc</th>\n",
       "      <th>dtb_hk</th>\n",
       "    </tr>\n",
       "  </thead>\n",
       "  <tbody>\n",
       "  </tbody>\n",
       "</table>\n",
       "</div>"
      ],
      "text/plain": [
       "Empty DataFrame\n",
       "Columns: [mssv, hoc_ky, nam_hoc, dtb_hk]\n",
       "Index: []"
      ]
     },
     "execution_count": 114,
     "metadata": {},
     "output_type": "execute_result"
    }
   ],
   "source": [
    "tmp = enriched_dtb_hk_df[dtb_hk_pkey].duplicated(keep=False)\n",
    "enriched_dtb_hk_df[tmp].sort_values(by=dtb_hk_pkey)"
   ]
  },
  {
   "attachments": {},
   "cell_type": "markdown",
   "metadata": {},
   "source": [
    "# data_type"
   ]
  },
  {
   "cell_type": "code",
   "execution_count": 115,
   "metadata": {},
   "outputs": [
    {
     "name": "stdout",
     "output_type": "stream",
     "text": [
      "<class 'pandas.core.frame.DataFrame'>\n",
      "RangeIndex: 148406 entries, 0 to 148405\n",
      "Data columns (total 4 columns):\n",
      " #   Column   Non-Null Count   Dtype   \n",
      "---  ------   --------------   -----   \n",
      " 0   mssv     148406 non-null  object  \n",
      " 1   hoc_ky   148406 non-null  category\n",
      " 2   nam_hoc  148406 non-null  object  \n",
      " 3   dtb_hk   148140 non-null  float64 \n",
      "dtypes: category(1), float64(1), object(2)\n",
      "memory usage: 3.5+ MB\n"
     ]
    }
   ],
   "source": [
    "enriched_dtb_hk_df.info()"
   ]
  },
  {
   "cell_type": "code",
   "execution_count": 116,
   "metadata": {},
   "outputs": [
    {
     "data": {
      "text/plain": [
       "{'2018': '2018',\n",
       " '2017': '2017',\n",
       " '2016': '2016',\n",
       " '2015': '2015',\n",
       " '2014': '2014',\n",
       " '2019': '2019',\n",
       " '2020': '2020',\n",
       " '2013': '2013',\n",
       " '2021': '2021',\n",
       " '2022': '2022',\n",
       " '2007': '2007',\n",
       " '2008': '2008',\n",
       " '2009': '2009',\n",
       " '2010': '2010',\n",
       " '2011': '2011',\n",
       " '2012': '2012',\n",
       " '2006': '2006'}"
      ]
     },
     "execution_count": 116,
     "metadata": {},
     "output_type": "execute_result"
    }
   ],
   "source": [
    "tmp = enriched_dtb_hk_df.nam_hoc.unique().tolist()\n",
    "mapping_dict = {a:str(int(a)) for a in tmp}\n",
    "enriched_dtb_hk_df.nam_hoc = enriched_dtb_hk_df.nam_hoc.map(mapping_dict)\n",
    "mapping_dict"
   ]
  },
  {
   "cell_type": "code",
   "execution_count": 117,
   "metadata": {},
   "outputs": [
    {
     "data": {
      "text/plain": [
       "{'1': '1', '3': '3', '2': '2'}"
      ]
     },
     "execution_count": 117,
     "metadata": {},
     "output_type": "execute_result"
    }
   ],
   "source": [
    "tmp = enriched_dtb_hk_df.hoc_ky.unique().tolist()\n",
    "mapping_dict = {a:str(int(a)) for a in tmp}\n",
    "enriched_dtb_hk_df.hoc_ky = enriched_dtb_hk_df.hoc_ky.map(mapping_dict)\n",
    "mapping_dict"
   ]
  },
  {
   "cell_type": "code",
   "execution_count": 118,
   "metadata": {},
   "outputs": [
    {
     "name": "stdout",
     "output_type": "stream",
     "text": [
      "<class 'pandas.core.frame.DataFrame'>\n",
      "RangeIndex: 148406 entries, 0 to 148405\n",
      "Data columns (total 4 columns):\n",
      " #   Column   Non-Null Count   Dtype   \n",
      "---  ------   --------------   -----   \n",
      " 0   mssv     148406 non-null  category\n",
      " 1   hoc_ky   148406 non-null  category\n",
      " 2   nam_hoc  148406 non-null  category\n",
      " 3   dtb_hk   148140 non-null  float32 \n",
      "dtypes: category(3), float32(1)\n",
      "memory usage: 1.8 MB\n"
     ]
    }
   ],
   "source": [
    "enriched_dtb_hk_df.mssv = enriched_dtb_hk_df.mssv.astype('category')\n",
    "enriched_dtb_hk_df.nam_hoc = enriched_dtb_hk_df.nam_hoc.astype('category')\n",
    "enriched_dtb_hk_df.hoc_ky = enriched_dtb_hk_df.hoc_ky.astype('category')\n",
    "enriched_dtb_hk_df.dtb_hk = enriched_dtb_hk_df.dtb_hk.astype('float32')\n",
    "enriched_dtb_hk_df.info()"
   ]
  },
  {
   "attachments": {},
   "cell_type": "markdown",
   "metadata": {},
   "source": [
    "# final check"
   ]
  },
  {
   "cell_type": "code",
   "execution_count": 119,
   "metadata": {},
   "outputs": [
    {
     "data": {
      "text/html": [
       "<div>\n",
       "<style scoped>\n",
       "    .dataframe tbody tr th:only-of-type {\n",
       "        vertical-align: middle;\n",
       "    }\n",
       "\n",
       "    .dataframe tbody tr th {\n",
       "        vertical-align: top;\n",
       "    }\n",
       "\n",
       "    .dataframe thead th {\n",
       "        text-align: right;\n",
       "    }\n",
       "</style>\n",
       "<table border=\"1\" class=\"dataframe\">\n",
       "  <thead>\n",
       "    <tr style=\"text-align: right;\">\n",
       "      <th></th>\n",
       "      <th>mssv</th>\n",
       "      <th>hoc_ky</th>\n",
       "      <th>nam_hoc</th>\n",
       "      <th>dtb_hk</th>\n",
       "    </tr>\n",
       "  </thead>\n",
       "  <tbody>\n",
       "    <tr>\n",
       "      <th>5371</th>\n",
       "      <td>00169126XPvAibaEXe85YhhPviVpreIIM/uxLQ/I</td>\n",
       "      <td>3</td>\n",
       "      <td>2020</td>\n",
       "      <td>NaN</td>\n",
       "    </tr>\n",
       "    <tr>\n",
       "      <th>5378</th>\n",
       "      <td>0018C59CXPvAibaEXe8C3lblh2dNniH+SYgLosUA</td>\n",
       "      <td>3</td>\n",
       "      <td>2019</td>\n",
       "      <td>NaN</td>\n",
       "    </tr>\n",
       "    <tr>\n",
       "      <th>5508</th>\n",
       "      <td>00A6F5DAXPvAibaEXe/zT99h3DDtvT/brt/zZ/RZ</td>\n",
       "      <td>3</td>\n",
       "      <td>2019</td>\n",
       "      <td>NaN</td>\n",
       "    </tr>\n",
       "    <tr>\n",
       "      <th>5536</th>\n",
       "      <td>00C64B85XPVAIBAEXE/GFBVLDV6SZJLZKXS0/KN4</td>\n",
       "      <td>1</td>\n",
       "      <td>2014</td>\n",
       "      <td>NaN</td>\n",
       "    </tr>\n",
       "    <tr>\n",
       "      <th>5537</th>\n",
       "      <td>00C64B85XPvAibaEXe/GFbVLDV6SZJlZKXs0/KN4</td>\n",
       "      <td>1</td>\n",
       "      <td>2014</td>\n",
       "      <td>NaN</td>\n",
       "    </tr>\n",
       "    <tr>\n",
       "      <th>...</th>\n",
       "      <td>...</td>\n",
       "      <td>...</td>\n",
       "      <td>...</td>\n",
       "      <td>...</td>\n",
       "    </tr>\n",
       "    <tr>\n",
       "      <th>69656</th>\n",
       "      <td>FF9F4B4BXPvAibaEXe9hYalhCsDQbZInk2E5ehqz</td>\n",
       "      <td>3</td>\n",
       "      <td>2019</td>\n",
       "      <td>NaN</td>\n",
       "    </tr>\n",
       "    <tr>\n",
       "      <th>94484</th>\n",
       "      <td>5224906BXPvAibaEXe/M+/uAwVeHhHk9cAteZsrT</td>\n",
       "      <td>2</td>\n",
       "      <td>2021</td>\n",
       "      <td>NaN</td>\n",
       "    </tr>\n",
       "    <tr>\n",
       "      <th>119538</th>\n",
       "      <td>A406E7FDXPvAibaEXe/XBbLEWRhgQYQrAzwms21C</td>\n",
       "      <td>2</td>\n",
       "      <td>2017</td>\n",
       "      <td>NaN</td>\n",
       "    </tr>\n",
       "    <tr>\n",
       "      <th>129831</th>\n",
       "      <td>C57E7F21XPvAibaEXe8VekUw4ELehuWMmX7vpi8O</td>\n",
       "      <td>2</td>\n",
       "      <td>2017</td>\n",
       "      <td>NaN</td>\n",
       "    </tr>\n",
       "    <tr>\n",
       "      <th>146126</th>\n",
       "      <td>F934AFD4XPvAibaEXe/7YVAxOsMwOmFzQTm7dOKr</td>\n",
       "      <td>2</td>\n",
       "      <td>2020</td>\n",
       "      <td>NaN</td>\n",
       "    </tr>\n",
       "  </tbody>\n",
       "</table>\n",
       "<p>266 rows × 4 columns</p>\n",
       "</div>"
      ],
      "text/plain": [
       "                                            mssv hoc_ky nam_hoc  dtb_hk\n",
       "5371    00169126XPvAibaEXe85YhhPviVpreIIM/uxLQ/I      3    2020     NaN\n",
       "5378    0018C59CXPvAibaEXe8C3lblh2dNniH+SYgLosUA      3    2019     NaN\n",
       "5508    00A6F5DAXPvAibaEXe/zT99h3DDtvT/brt/zZ/RZ      3    2019     NaN\n",
       "5536    00C64B85XPVAIBAEXE/GFBVLDV6SZJLZKXS0/KN4      1    2014     NaN\n",
       "5537    00C64B85XPvAibaEXe/GFbVLDV6SZJlZKXs0/KN4      1    2014     NaN\n",
       "...                                          ...    ...     ...     ...\n",
       "69656   FF9F4B4BXPvAibaEXe9hYalhCsDQbZInk2E5ehqz      3    2019     NaN\n",
       "94484   5224906BXPvAibaEXe/M+/uAwVeHhHk9cAteZsrT      2    2021     NaN\n",
       "119538  A406E7FDXPvAibaEXe/XBbLEWRhgQYQrAzwms21C      2    2017     NaN\n",
       "129831  C57E7F21XPvAibaEXe8VekUw4ELehuWMmX7vpi8O      2    2017     NaN\n",
       "146126  F934AFD4XPvAibaEXe/7YVAxOsMwOmFzQTm7dOKr      2    2020     NaN\n",
       "\n",
       "[266 rows x 4 columns]"
      ]
     },
     "execution_count": 119,
     "metadata": {},
     "output_type": "execute_result"
    }
   ],
   "source": [
    "enriched_dtb_hk_df[enriched_dtb_hk_df.isnull().any(axis=1)]"
   ]
  },
  {
   "cell_type": "code",
   "execution_count": 120,
   "metadata": {},
   "outputs": [
    {
     "data": {
      "text/plain": [
       "0"
      ]
     },
     "execution_count": 120,
     "metadata": {},
     "output_type": "execute_result"
    }
   ],
   "source": [
    "enriched_dtb_hk_df.duplicated().sum()"
   ]
  },
  {
   "cell_type": "code",
   "execution_count": 121,
   "metadata": {},
   "outputs": [
    {
     "data": {
      "text/plain": [
       "0"
      ]
     },
     "execution_count": 121,
     "metadata": {},
     "output_type": "execute_result"
    }
   ],
   "source": [
    "enriched_dtb_hk_df[dtb_hk_pkey].duplicated().sum()"
   ]
  },
  {
   "cell_type": "code",
   "execution_count": 122,
   "metadata": {},
   "outputs": [
    {
     "data": {
      "text/html": [
       "<div>\n",
       "<style scoped>\n",
       "    .dataframe tbody tr th:only-of-type {\n",
       "        vertical-align: middle;\n",
       "    }\n",
       "\n",
       "    .dataframe tbody tr th {\n",
       "        vertical-align: top;\n",
       "    }\n",
       "\n",
       "    .dataframe thead th {\n",
       "        text-align: right;\n",
       "    }\n",
       "</style>\n",
       "<table border=\"1\" class=\"dataframe\">\n",
       "  <thead>\n",
       "    <tr style=\"text-align: right;\">\n",
       "      <th></th>\n",
       "      <th>dtb_hk</th>\n",
       "    </tr>\n",
       "  </thead>\n",
       "  <tbody>\n",
       "    <tr>\n",
       "      <th>count</th>\n",
       "      <td>148140.000000</td>\n",
       "    </tr>\n",
       "    <tr>\n",
       "      <th>mean</th>\n",
       "      <td>6.400123</td>\n",
       "    </tr>\n",
       "    <tr>\n",
       "      <th>std</th>\n",
       "      <td>2.098026</td>\n",
       "    </tr>\n",
       "    <tr>\n",
       "      <th>min</th>\n",
       "      <td>0.000000</td>\n",
       "    </tr>\n",
       "    <tr>\n",
       "      <th>25%</th>\n",
       "      <td>5.576923</td>\n",
       "    </tr>\n",
       "    <tr>\n",
       "      <th>50%</th>\n",
       "      <td>6.909091</td>\n",
       "    </tr>\n",
       "    <tr>\n",
       "      <th>75%</th>\n",
       "      <td>7.857143</td>\n",
       "    </tr>\n",
       "    <tr>\n",
       "      <th>max</th>\n",
       "      <td>10.000000</td>\n",
       "    </tr>\n",
       "  </tbody>\n",
       "</table>\n",
       "</div>"
      ],
      "text/plain": [
       "              dtb_hk\n",
       "count  148140.000000\n",
       "mean        6.400123\n",
       "std         2.098026\n",
       "min         0.000000\n",
       "25%         5.576923\n",
       "50%         6.909091\n",
       "75%         7.857143\n",
       "max        10.000000"
      ]
     },
     "execution_count": 122,
     "metadata": {},
     "output_type": "execute_result"
    }
   ],
   "source": [
    "enriched_dtb_hk_df.describe()"
   ]
  },
  {
   "cell_type": "code",
   "execution_count": 123,
   "metadata": {},
   "outputs": [
    {
     "data": {
      "text/plain": [
       "Index(['mssv', 'hoc_ky', 'nam_hoc', 'dtb_hk'], dtype='object')"
      ]
     },
     "execution_count": 123,
     "metadata": {},
     "output_type": "execute_result"
    }
   ],
   "source": [
    "enriched_dtb_hk_df.columns"
   ]
  },
  {
   "cell_type": "code",
   "execution_count": 124,
   "metadata": {},
   "outputs": [
    {
     "data": {
      "text/plain": [
       "mssv\n",
       "611A9B40XPvAibaEXe9N1zCEN2FQqC4gAu9nCd8C    27\n",
       "5C17AB96XPvAibaEXe+s7fQX5t7T+lWzMsm/jUYl    26\n",
       "B02A7D33XPvAibaEXe8Yz5YviIhrt11OHzPrKUlM    25\n",
       "BE8C176EXPvAibaEXe9qFVjW5nX81srQXN/SmJ8s    25\n",
       "1FF62B8CXPvAibaEXe/U/4p31JRvs5X2iSimqRky    24\n",
       "                                            ..\n",
       "5B74541DXPvAibaEXe+2YLpfHiKTIKdRgC4F6npZ     1\n",
       "1F6AD9BBXPvAibaEXe9SS1kaXnboZq6bVgmj6jrT     1\n",
       "E1F7BA71XPvAibaEXe88h1TS/CM+BuMw9e+m1QiX     1\n",
       "E1F9F646XPVAIBAEXE+UDHZQ6I3ZLT1FBP9YP5CR     1\n",
       "C0B3EB52XPvAibaEXe8Dk1djakWGqMJjZy0ex3w1     1\n",
       "Name: count, Length: 21930, dtype: int64"
      ]
     },
     "execution_count": 124,
     "metadata": {},
     "output_type": "execute_result"
    }
   ],
   "source": [
    "enriched_dtb_hk_df.mssv.value_counts(dropna=False)"
   ]
  },
  {
   "cell_type": "code",
   "execution_count": 125,
   "metadata": {},
   "outputs": [
    {
     "data": {
      "text/plain": [
       "hoc_ky\n",
       "1    74016\n",
       "2    59890\n",
       "3    14500\n",
       "Name: count, dtype: int64"
      ]
     },
     "execution_count": 125,
     "metadata": {},
     "output_type": "execute_result"
    }
   ],
   "source": [
    "enriched_dtb_hk_df.hoc_ky.value_counts(dropna=False)"
   ]
  },
  {
   "cell_type": "code",
   "execution_count": 126,
   "metadata": {},
   "outputs": [
    {
     "data": {
      "text/plain": [
       "nam_hoc\n",
       "2016    15285\n",
       "2015    15188\n",
       "2021    13850\n",
       "2014    12718\n",
       "2020    12518\n",
       "2019    11059\n",
       "2013    10442\n",
       "2018    10275\n",
       "2017     9357\n",
       "2012     7432\n",
       "2022     7412\n",
       "2011     6963\n",
       "2010     5982\n",
       "2009     4644\n",
       "2008     3191\n",
       "2007     1666\n",
       "2006      424\n",
       "Name: count, dtype: int64"
      ]
     },
     "execution_count": 126,
     "metadata": {},
     "output_type": "execute_result"
    }
   ],
   "source": [
    "enriched_dtb_hk_df.nam_hoc.value_counts(dropna=False)"
   ]
  },
  {
   "cell_type": "code",
   "execution_count": 127,
   "metadata": {},
   "outputs": [
    {
     "data": {
      "text/plain": [
       "dtb_hk\n",
       "0.000000    4063\n",
       "7.000000    1261\n",
       "8.000000    1201\n",
       "7.500000    1059\n",
       "6.500000    1037\n",
       "            ... \n",
       "7.626667       1\n",
       "8.505883       1\n",
       "7.268749       1\n",
       "5.328571       1\n",
       "7.707143       1\n",
       "Name: count, Length: 18855, dtype: int64"
      ]
     },
     "execution_count": 127,
     "metadata": {},
     "output_type": "execute_result"
    }
   ],
   "source": [
    "enriched_dtb_hk_df.dtb_hk.value_counts(dropna=False)"
   ]
  },
  {
   "attachments": {},
   "cell_type": "markdown",
   "metadata": {},
   "source": [
    "# save"
   ]
  },
  {
   "cell_type": "code",
   "execution_count": 128,
   "metadata": {},
   "outputs": [],
   "source": [
    "output_path = clean_data_folder/f\"enriched_dtb_hk.parquet\"\n",
    "enriched_dtb_hk_df.to_parquet(output_path, index=False)\n",
    "haha_df = pd.read_parquet(output_path)"
   ]
  },
  {
   "cell_type": "code",
   "execution_count": 129,
   "metadata": {},
   "outputs": [
    {
     "data": {
      "text/html": [
       "<div>\n",
       "<style scoped>\n",
       "    .dataframe tbody tr th:only-of-type {\n",
       "        vertical-align: middle;\n",
       "    }\n",
       "\n",
       "    .dataframe tbody tr th {\n",
       "        vertical-align: top;\n",
       "    }\n",
       "\n",
       "    .dataframe thead th {\n",
       "        text-align: right;\n",
       "    }\n",
       "</style>\n",
       "<table border=\"1\" class=\"dataframe\">\n",
       "  <thead>\n",
       "    <tr style=\"text-align: right;\">\n",
       "      <th></th>\n",
       "      <th>mssv</th>\n",
       "      <th>hoc_ky</th>\n",
       "      <th>nam_hoc</th>\n",
       "      <th>dtb_hk</th>\n",
       "    </tr>\n",
       "  </thead>\n",
       "  <tbody>\n",
       "    <tr>\n",
       "      <th>5371</th>\n",
       "      <td>00169126XPvAibaEXe85YhhPviVpreIIM/uxLQ/I</td>\n",
       "      <td>3</td>\n",
       "      <td>2020</td>\n",
       "      <td>NaN</td>\n",
       "    </tr>\n",
       "    <tr>\n",
       "      <th>5378</th>\n",
       "      <td>0018C59CXPvAibaEXe8C3lblh2dNniH+SYgLosUA</td>\n",
       "      <td>3</td>\n",
       "      <td>2019</td>\n",
       "      <td>NaN</td>\n",
       "    </tr>\n",
       "    <tr>\n",
       "      <th>5508</th>\n",
       "      <td>00A6F5DAXPvAibaEXe/zT99h3DDtvT/brt/zZ/RZ</td>\n",
       "      <td>3</td>\n",
       "      <td>2019</td>\n",
       "      <td>NaN</td>\n",
       "    </tr>\n",
       "    <tr>\n",
       "      <th>5536</th>\n",
       "      <td>00C64B85XPVAIBAEXE/GFBVLDV6SZJLZKXS0/KN4</td>\n",
       "      <td>1</td>\n",
       "      <td>2014</td>\n",
       "      <td>NaN</td>\n",
       "    </tr>\n",
       "    <tr>\n",
       "      <th>5537</th>\n",
       "      <td>00C64B85XPvAibaEXe/GFbVLDV6SZJlZKXs0/KN4</td>\n",
       "      <td>1</td>\n",
       "      <td>2014</td>\n",
       "      <td>NaN</td>\n",
       "    </tr>\n",
       "    <tr>\n",
       "      <th>...</th>\n",
       "      <td>...</td>\n",
       "      <td>...</td>\n",
       "      <td>...</td>\n",
       "      <td>...</td>\n",
       "    </tr>\n",
       "    <tr>\n",
       "      <th>69656</th>\n",
       "      <td>FF9F4B4BXPvAibaEXe9hYalhCsDQbZInk2E5ehqz</td>\n",
       "      <td>3</td>\n",
       "      <td>2019</td>\n",
       "      <td>NaN</td>\n",
       "    </tr>\n",
       "    <tr>\n",
       "      <th>94484</th>\n",
       "      <td>5224906BXPvAibaEXe/M+/uAwVeHhHk9cAteZsrT</td>\n",
       "      <td>2</td>\n",
       "      <td>2021</td>\n",
       "      <td>NaN</td>\n",
       "    </tr>\n",
       "    <tr>\n",
       "      <th>119538</th>\n",
       "      <td>A406E7FDXPvAibaEXe/XBbLEWRhgQYQrAzwms21C</td>\n",
       "      <td>2</td>\n",
       "      <td>2017</td>\n",
       "      <td>NaN</td>\n",
       "    </tr>\n",
       "    <tr>\n",
       "      <th>129831</th>\n",
       "      <td>C57E7F21XPvAibaEXe8VekUw4ELehuWMmX7vpi8O</td>\n",
       "      <td>2</td>\n",
       "      <td>2017</td>\n",
       "      <td>NaN</td>\n",
       "    </tr>\n",
       "    <tr>\n",
       "      <th>146126</th>\n",
       "      <td>F934AFD4XPvAibaEXe/7YVAxOsMwOmFzQTm7dOKr</td>\n",
       "      <td>2</td>\n",
       "      <td>2020</td>\n",
       "      <td>NaN</td>\n",
       "    </tr>\n",
       "  </tbody>\n",
       "</table>\n",
       "<p>266 rows × 4 columns</p>\n",
       "</div>"
      ],
      "text/plain": [
       "                                            mssv hoc_ky nam_hoc  dtb_hk\n",
       "5371    00169126XPvAibaEXe85YhhPviVpreIIM/uxLQ/I      3    2020     NaN\n",
       "5378    0018C59CXPvAibaEXe8C3lblh2dNniH+SYgLosUA      3    2019     NaN\n",
       "5508    00A6F5DAXPvAibaEXe/zT99h3DDtvT/brt/zZ/RZ      3    2019     NaN\n",
       "5536    00C64B85XPVAIBAEXE/GFBVLDV6SZJLZKXS0/KN4      1    2014     NaN\n",
       "5537    00C64B85XPvAibaEXe/GFbVLDV6SZJlZKXs0/KN4      1    2014     NaN\n",
       "...                                          ...    ...     ...     ...\n",
       "69656   FF9F4B4BXPvAibaEXe9hYalhCsDQbZInk2E5ehqz      3    2019     NaN\n",
       "94484   5224906BXPvAibaEXe/M+/uAwVeHhHk9cAteZsrT      2    2021     NaN\n",
       "119538  A406E7FDXPvAibaEXe/XBbLEWRhgQYQrAzwms21C      2    2017     NaN\n",
       "129831  C57E7F21XPvAibaEXe8VekUw4ELehuWMmX7vpi8O      2    2017     NaN\n",
       "146126  F934AFD4XPvAibaEXe/7YVAxOsMwOmFzQTm7dOKr      2    2020     NaN\n",
       "\n",
       "[266 rows x 4 columns]"
      ]
     },
     "execution_count": 129,
     "metadata": {},
     "output_type": "execute_result"
    }
   ],
   "source": [
    "haha_df[haha_df.isnull().any(axis=1)]"
   ]
  },
  {
   "cell_type": "code",
   "execution_count": 130,
   "metadata": {},
   "outputs": [
    {
     "data": {
      "text/plain": [
       "0"
      ]
     },
     "execution_count": 130,
     "metadata": {},
     "output_type": "execute_result"
    }
   ],
   "source": [
    "haha_df[dtb_hk_pkey].duplicated().sum()"
   ]
  },
  {
   "cell_type": "code",
   "execution_count": 131,
   "metadata": {},
   "outputs": [
    {
     "name": "stdout",
     "output_type": "stream",
     "text": [
      "<class 'pandas.core.frame.DataFrame'>\n",
      "RangeIndex: 148406 entries, 0 to 148405\n",
      "Data columns (total 4 columns):\n",
      " #   Column   Non-Null Count   Dtype   \n",
      "---  ------   --------------   -----   \n",
      " 0   mssv     148406 non-null  category\n",
      " 1   hoc_ky   148406 non-null  category\n",
      " 2   nam_hoc  148406 non-null  category\n",
      " 3   dtb_hk   148140 non-null  float32 \n",
      "dtypes: category(3), float32(1)\n",
      "memory usage: 1.8 MB\n"
     ]
    }
   ],
   "source": [
    "haha_df.info()"
   ]
  },
  {
   "cell_type": "code",
   "execution_count": 132,
   "metadata": {},
   "outputs": [
    {
     "data": {
      "text/html": [
       "<div>\n",
       "<style scoped>\n",
       "    .dataframe tbody tr th:only-of-type {\n",
       "        vertical-align: middle;\n",
       "    }\n",
       "\n",
       "    .dataframe tbody tr th {\n",
       "        vertical-align: top;\n",
       "    }\n",
       "\n",
       "    .dataframe thead th {\n",
       "        text-align: right;\n",
       "    }\n",
       "</style>\n",
       "<table border=\"1\" class=\"dataframe\">\n",
       "  <thead>\n",
       "    <tr style=\"text-align: right;\">\n",
       "      <th></th>\n",
       "      <th>dtb_hk</th>\n",
       "    </tr>\n",
       "  </thead>\n",
       "  <tbody>\n",
       "    <tr>\n",
       "      <th>count</th>\n",
       "      <td>148140.000000</td>\n",
       "    </tr>\n",
       "    <tr>\n",
       "      <th>mean</th>\n",
       "      <td>6.400123</td>\n",
       "    </tr>\n",
       "    <tr>\n",
       "      <th>std</th>\n",
       "      <td>2.098026</td>\n",
       "    </tr>\n",
       "    <tr>\n",
       "      <th>min</th>\n",
       "      <td>0.000000</td>\n",
       "    </tr>\n",
       "    <tr>\n",
       "      <th>25%</th>\n",
       "      <td>5.576923</td>\n",
       "    </tr>\n",
       "    <tr>\n",
       "      <th>50%</th>\n",
       "      <td>6.909091</td>\n",
       "    </tr>\n",
       "    <tr>\n",
       "      <th>75%</th>\n",
       "      <td>7.857143</td>\n",
       "    </tr>\n",
       "    <tr>\n",
       "      <th>max</th>\n",
       "      <td>10.000000</td>\n",
       "    </tr>\n",
       "  </tbody>\n",
       "</table>\n",
       "</div>"
      ],
      "text/plain": [
       "              dtb_hk\n",
       "count  148140.000000\n",
       "mean        6.400123\n",
       "std         2.098026\n",
       "min         0.000000\n",
       "25%         5.576923\n",
       "50%         6.909091\n",
       "75%         7.857143\n",
       "max        10.000000"
      ]
     },
     "execution_count": 132,
     "metadata": {},
     "output_type": "execute_result"
    }
   ],
   "source": [
    "haha_df.describe()"
   ]
  },
  {
   "cell_type": "code",
   "execution_count": 133,
   "metadata": {},
   "outputs": [
    {
     "data": {
      "text/html": [
       "<div>\n",
       "<style scoped>\n",
       "    .dataframe tbody tr th:only-of-type {\n",
       "        vertical-align: middle;\n",
       "    }\n",
       "\n",
       "    .dataframe tbody tr th {\n",
       "        vertical-align: top;\n",
       "    }\n",
       "\n",
       "    .dataframe thead th {\n",
       "        text-align: right;\n",
       "    }\n",
       "</style>\n",
       "<table border=\"1\" class=\"dataframe\">\n",
       "  <thead>\n",
       "    <tr style=\"text-align: right;\">\n",
       "      <th></th>\n",
       "      <th>mssv</th>\n",
       "      <th>hoc_ky</th>\n",
       "      <th>nam_hoc</th>\n",
       "      <th>dtb_hk</th>\n",
       "    </tr>\n",
       "  </thead>\n",
       "  <tbody>\n",
       "    <tr>\n",
       "      <th>94978</th>\n",
       "      <td>53BABCB4XPvAibaEXe+5f3nhbX2eh3E+k8+0vrzk</td>\n",
       "      <td>1</td>\n",
       "      <td>2015</td>\n",
       "      <td>6.042857</td>\n",
       "    </tr>\n",
       "    <tr>\n",
       "      <th>68725</th>\n",
       "      <td>FB94C057XPvAibaEXe8Avt3d+ZAqYDn5m6vnpwWn</td>\n",
       "      <td>3</td>\n",
       "      <td>2012</td>\n",
       "      <td>8.000000</td>\n",
       "    </tr>\n",
       "    <tr>\n",
       "      <th>42413</th>\n",
       "      <td>95D98A06XPvAibaEXe85Kg8gbEhwb0hYxxDsaXBe</td>\n",
       "      <td>3</td>\n",
       "      <td>2016</td>\n",
       "      <td>0.000000</td>\n",
       "    </tr>\n",
       "    <tr>\n",
       "      <th>112741</th>\n",
       "      <td>8DA684D2XPvAibaEXe8zBeLfIMmoBKdZoQPMioeR</td>\n",
       "      <td>1</td>\n",
       "      <td>2016</td>\n",
       "      <td>5.415385</td>\n",
       "    </tr>\n",
       "    <tr>\n",
       "      <th>81226</th>\n",
       "      <td>26BA2C03XPvAibaEXe+Y0lGmaTa/AO+2ehaTjeTz</td>\n",
       "      <td>1</td>\n",
       "      <td>2016</td>\n",
       "      <td>8.407692</td>\n",
       "    </tr>\n",
       "    <tr>\n",
       "      <th>43828</th>\n",
       "      <td>9B498412XPVAIBAEXE/XOPUZJJLEGJ07OJR+RTZ/</td>\n",
       "      <td>2</td>\n",
       "      <td>2015</td>\n",
       "      <td>4.646667</td>\n",
       "    </tr>\n",
       "    <tr>\n",
       "      <th>54612</th>\n",
       "      <td>C5925E34XPvAibaEXe9aO86Za47HuXSQXHliANAa</td>\n",
       "      <td>1</td>\n",
       "      <td>2012</td>\n",
       "      <td>8.175000</td>\n",
       "    </tr>\n",
       "    <tr>\n",
       "      <th>16563</th>\n",
       "      <td>2D17AA04XPvAibaEXe9mv02dd1fbUxFjQ5dfGy23</td>\n",
       "      <td>2</td>\n",
       "      <td>2013</td>\n",
       "      <td>7.437500</td>\n",
       "    </tr>\n",
       "    <tr>\n",
       "      <th>49739</th>\n",
       "      <td>B30D0F50XPVAIBAEXE+GSTDVGY5PDOLU7T2WKLIW</td>\n",
       "      <td>1</td>\n",
       "      <td>2014</td>\n",
       "      <td>6.153846</td>\n",
       "    </tr>\n",
       "    <tr>\n",
       "      <th>38291</th>\n",
       "      <td>85F05408XPvAibaEXe9KkwUxiQiZ0kPjboSr5z+L</td>\n",
       "      <td>2</td>\n",
       "      <td>2012</td>\n",
       "      <td>3.807692</td>\n",
       "    </tr>\n",
       "  </tbody>\n",
       "</table>\n",
       "</div>"
      ],
      "text/plain": [
       "                                            mssv hoc_ky nam_hoc    dtb_hk\n",
       "94978   53BABCB4XPvAibaEXe+5f3nhbX2eh3E+k8+0vrzk      1    2015  6.042857\n",
       "68725   FB94C057XPvAibaEXe8Avt3d+ZAqYDn5m6vnpwWn      3    2012  8.000000\n",
       "42413   95D98A06XPvAibaEXe85Kg8gbEhwb0hYxxDsaXBe      3    2016  0.000000\n",
       "112741  8DA684D2XPvAibaEXe8zBeLfIMmoBKdZoQPMioeR      1    2016  5.415385\n",
       "81226   26BA2C03XPvAibaEXe+Y0lGmaTa/AO+2ehaTjeTz      1    2016  8.407692\n",
       "43828   9B498412XPVAIBAEXE/XOPUZJJLEGJ07OJR+RTZ/      2    2015  4.646667\n",
       "54612   C5925E34XPvAibaEXe9aO86Za47HuXSQXHliANAa      1    2012  8.175000\n",
       "16563   2D17AA04XPvAibaEXe9mv02dd1fbUxFjQ5dfGy23      2    2013  7.437500\n",
       "49739   B30D0F50XPVAIBAEXE+GSTDVGY5PDOLU7T2WKLIW      1    2014  6.153846\n",
       "38291   85F05408XPvAibaEXe9KkwUxiQiZ0kPjboSr5z+L      2    2012  3.807692"
      ]
     },
     "execution_count": 133,
     "metadata": {},
     "output_type": "execute_result"
    }
   ],
   "source": [
    "haha_df.sample(10)"
   ]
  },
  {
   "cell_type": "code",
   "execution_count": 134,
   "metadata": {},
   "outputs": [
    {
     "data": {
      "text/plain": [
       "['12.baoluu.parquet',\n",
       " 'diem_Thu.parquet',\n",
       " 'sinhvien_dtb_toankhoa.parquet',\n",
       " 'uit_hocphi_miengiam.parquet',\n",
       " 'diemrl.parquet',\n",
       " 'sinhvien_dtb_hocky.parquet',\n",
       " 'desktop.ini',\n",
       " '14.totnghiep.parquet',\n",
       " '1.sinhvien.xlsx',\n",
       " '2.diem.xlsx',\n",
       " '3.sinhvien_chungchi.xlsx',\n",
       " '4.xeploaiav.xlsx',\n",
       " '5.Thisinh.xlsx',\n",
       " '6.giayxacnhan.xlsx',\n",
       " '8.XLHV.xlsx',\n",
       " '10.diemrl.xlsx',\n",
       " 'enriched_dtb_hk.parquet',\n",
       " 'desktop.ini']"
      ]
     },
     "execution_count": 134,
     "metadata": {},
     "output_type": "execute_result"
    }
   ],
   "source": [
    "os.listdir(clean_data_folder)"
   ]
  }
 ],
 "metadata": {
  "kernelspec": {
   "display_name": "general",
   "language": "python",
   "name": "python3"
  },
  "language_info": {
   "codemirror_mode": {
    "name": "ipython",
    "version": 3
   },
   "file_extension": ".py",
   "mimetype": "text/x-python",
   "name": "python",
   "nbconvert_exporter": "python",
   "pygments_lexer": "ipython3",
   "version": "3.8.16"
  },
  "orig_nbformat": 4
 },
 "nbformat": 4,
 "nbformat_minor": 2
}
