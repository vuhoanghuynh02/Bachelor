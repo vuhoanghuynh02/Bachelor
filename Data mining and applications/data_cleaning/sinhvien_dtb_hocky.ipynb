{
 "cells": [
  {
   "cell_type": "code",
   "execution_count": 1,
   "metadata": {},
   "outputs": [],
   "source": [
    "from pathlib import Path\n",
    "import os\n",
    "import pandas as pd\n",
    "import matplotlib.pyplot as plt\n",
    "import seaborn as sns"
   ]
  },
  {
   "cell_type": "code",
   "execution_count": 2,
   "metadata": {},
   "outputs": [
    {
     "data": {
      "text/plain": [
       "['00.ghichu.txt',\n",
       " '00_dhcntt-dtdh_19-01-2016_scan.pdf',\n",
       " '01.sinhvien.xlsx',\n",
       " '02.diem.xlsx',\n",
       " '03.sinhvien_chungchi.xlsx',\n",
       " '04.xeploaiav.xlsx',\n",
       " '05.ThiSinh.xlsx',\n",
       " '06.giayxacnhan.xlsx',\n",
       " '08.XLHV.xlsx',\n",
       " '10.diemrl.xlsx',\n",
       " '12.baoluu.xlsx',\n",
       " '14.totnghiep.xlsx',\n",
       " 'diemrl.xlsx',\n",
       " 'diem_Thu.xlsx',\n",
       " 'Education_dataset_V2.rar',\n",
       " 'sinhvien_dtb_hocky.xlsx',\n",
       " 'sinhvien_dtb_toankhoa.xlsx',\n",
       " 'uit_hocphi_miengiam.xlsx']"
      ]
     },
     "execution_count": 2,
     "metadata": {},
     "output_type": "execute_result"
    }
   ],
   "source": [
    "data_folder = Path(\"../../data\")\n",
    "os.listdir(data_folder)"
   ]
  },
  {
   "cell_type": "code",
   "execution_count": 3,
   "metadata": {},
   "outputs": [],
   "source": [
    "data_stem = 'sinhvien_dtb_hocky'\n",
    "old_df = pd.read_excel(data_folder/f\"{data_stem}.xlsx\")\n",
    "new_df = old_df.copy(deep = True)"
   ]
  },
  {
   "cell_type": "code",
   "execution_count": 4,
   "metadata": {},
   "outputs": [
    {
     "data": {
      "text/html": [
       "<div>\n",
       "<style scoped>\n",
       "    .dataframe tbody tr th:only-of-type {\n",
       "        vertical-align: middle;\n",
       "    }\n",
       "\n",
       "    .dataframe tbody tr th {\n",
       "        vertical-align: top;\n",
       "    }\n",
       "\n",
       "    .dataframe thead th {\n",
       "        text-align: right;\n",
       "    }\n",
       "</style>\n",
       "<table border=\"1\" class=\"dataframe\">\n",
       "  <thead>\n",
       "    <tr style=\"text-align: right;\">\n",
       "      <th></th>\n",
       "      <th>mssv</th>\n",
       "      <th>hocky</th>\n",
       "      <th>namhoc</th>\n",
       "      <th>dtbhk</th>\n",
       "      <th>sotchk</th>\n",
       "    </tr>\n",
       "  </thead>\n",
       "  <tbody>\n",
       "    <tr>\n",
       "      <th>58055</th>\n",
       "      <td>38912BD1XPvAibaEXe+zZoiw8Jl74MJpKKv5Zqd8</td>\n",
       "      <td>2</td>\n",
       "      <td>2020</td>\n",
       "      <td>8.54</td>\n",
       "      <td>20</td>\n",
       "    </tr>\n",
       "    <tr>\n",
       "      <th>426</th>\n",
       "      <td>0B2AAC0EXPvAibaEXe9CJmVsz9P34qS8MDP5qhfn</td>\n",
       "      <td>1</td>\n",
       "      <td>2017</td>\n",
       "      <td>5.76</td>\n",
       "      <td>24</td>\n",
       "    </tr>\n",
       "    <tr>\n",
       "      <th>14344</th>\n",
       "      <td>B1316403XPvAibaEXe9/83vYrk4yZojqJCz43d9S</td>\n",
       "      <td>1</td>\n",
       "      <td>2016</td>\n",
       "      <td>8.33</td>\n",
       "      <td>24</td>\n",
       "    </tr>\n",
       "  </tbody>\n",
       "</table>\n",
       "</div>"
      ],
      "text/plain": [
       "                                           mssv  hocky  namhoc  dtbhk  sotchk\n",
       "58055  38912BD1XPvAibaEXe+zZoiw8Jl74MJpKKv5Zqd8      2    2020   8.54      20\n",
       "426    0B2AAC0EXPvAibaEXe9CJmVsz9P34qS8MDP5qhfn      1    2017   5.76      24\n",
       "14344  B1316403XPvAibaEXe9/83vYrk4yZojqJCz43d9S      1    2016   8.33      24"
      ]
     },
     "execution_count": 4,
     "metadata": {},
     "output_type": "execute_result"
    }
   ],
   "source": [
    "new_df.sample(3)"
   ]
  },
  {
   "cell_type": "code",
   "execution_count": 5,
   "metadata": {},
   "outputs": [
    {
     "name": "stdout",
     "output_type": "stream",
     "text": [
      "<class 'pandas.core.frame.DataFrame'>\n",
      "RangeIndex: 84952 entries, 0 to 84951\n",
      "Data columns (total 5 columns):\n",
      " #   Column  Non-Null Count  Dtype  \n",
      "---  ------  --------------  -----  \n",
      " 0   mssv    84952 non-null  object \n",
      " 1   hocky   84952 non-null  int64  \n",
      " 2   namhoc  84952 non-null  int64  \n",
      " 3   dtbhk   84952 non-null  float64\n",
      " 4   sotchk  84952 non-null  int64  \n",
      "dtypes: float64(1), int64(3), object(1)\n",
      "memory usage: 3.2+ MB\n"
     ]
    }
   ],
   "source": [
    "new_df.info()"
   ]
  },
  {
   "cell_type": "code",
   "execution_count": 6,
   "metadata": {},
   "outputs": [],
   "source": [
    "old_primary_key = ['mssv', 'namhoc', 'hocky']\n",
    "new_primary_key = ['mssv', 'nam_hoc', 'hoc_ky']"
   ]
  },
  {
   "cell_type": "code",
   "execution_count": 7,
   "metadata": {},
   "outputs": [
    {
     "data": {
      "text/plain": [
       "Index(['mssv', 'hocky', 'namhoc', 'dtbhk', 'sotchk'], dtype='object')"
      ]
     },
     "execution_count": 7,
     "metadata": {},
     "output_type": "execute_result"
    }
   ],
   "source": [
    "old_df.columns"
   ]
  },
  {
   "cell_type": "code",
   "execution_count": 8,
   "metadata": {},
   "outputs": [],
   "source": [
    "new_df.columns = ['mssv', 'hoc_ky', 'nam_hoc', 'dtb_hk', 'so_tc_hk']"
   ]
  },
  {
   "cell_type": "code",
   "execution_count": 9,
   "metadata": {},
   "outputs": [
    {
     "data": {
      "text/html": [
       "<div>\n",
       "<style scoped>\n",
       "    .dataframe tbody tr th:only-of-type {\n",
       "        vertical-align: middle;\n",
       "    }\n",
       "\n",
       "    .dataframe tbody tr th {\n",
       "        vertical-align: top;\n",
       "    }\n",
       "\n",
       "    .dataframe thead th {\n",
       "        text-align: right;\n",
       "    }\n",
       "</style>\n",
       "<table border=\"1\" class=\"dataframe\">\n",
       "  <thead>\n",
       "    <tr style=\"text-align: right;\">\n",
       "      <th></th>\n",
       "      <th>hoc_ky</th>\n",
       "      <th>nam_hoc</th>\n",
       "      <th>dtb_hk</th>\n",
       "      <th>so_tc_hk</th>\n",
       "    </tr>\n",
       "  </thead>\n",
       "  <tbody>\n",
       "    <tr>\n",
       "      <th>count</th>\n",
       "      <td>84952.00000</td>\n",
       "      <td>84952.000000</td>\n",
       "      <td>84952.000000</td>\n",
       "      <td>84952.000000</td>\n",
       "    </tr>\n",
       "    <tr>\n",
       "      <th>mean</th>\n",
       "      <td>1.52605</td>\n",
       "      <td>2018.440861</td>\n",
       "      <td>6.714582</td>\n",
       "      <td>16.703350</td>\n",
       "    </tr>\n",
       "    <tr>\n",
       "      <th>std</th>\n",
       "      <td>0.60096</td>\n",
       "      <td>2.466169</td>\n",
       "      <td>2.049809</td>\n",
       "      <td>6.305202</td>\n",
       "    </tr>\n",
       "    <tr>\n",
       "      <th>min</th>\n",
       "      <td>1.00000</td>\n",
       "      <td>2013.000000</td>\n",
       "      <td>0.000000</td>\n",
       "      <td>0.000000</td>\n",
       "    </tr>\n",
       "    <tr>\n",
       "      <th>25%</th>\n",
       "      <td>1.00000</td>\n",
       "      <td>2017.000000</td>\n",
       "      <td>6.070000</td>\n",
       "      <td>14.000000</td>\n",
       "    </tr>\n",
       "    <tr>\n",
       "      <th>50%</th>\n",
       "      <td>1.00000</td>\n",
       "      <td>2019.000000</td>\n",
       "      <td>7.250000</td>\n",
       "      <td>18.000000</td>\n",
       "    </tr>\n",
       "    <tr>\n",
       "      <th>75%</th>\n",
       "      <td>2.00000</td>\n",
       "      <td>2021.000000</td>\n",
       "      <td>8.070000</td>\n",
       "      <td>20.000000</td>\n",
       "    </tr>\n",
       "    <tr>\n",
       "      <th>max</th>\n",
       "      <td>3.00000</td>\n",
       "      <td>2022.000000</td>\n",
       "      <td>10.000000</td>\n",
       "      <td>195.000000</td>\n",
       "    </tr>\n",
       "  </tbody>\n",
       "</table>\n",
       "</div>"
      ],
      "text/plain": [
       "            hoc_ky       nam_hoc        dtb_hk      so_tc_hk\n",
       "count  84952.00000  84952.000000  84952.000000  84952.000000\n",
       "mean       1.52605   2018.440861      6.714582     16.703350\n",
       "std        0.60096      2.466169      2.049809      6.305202\n",
       "min        1.00000   2013.000000      0.000000      0.000000\n",
       "25%        1.00000   2017.000000      6.070000     14.000000\n",
       "50%        1.00000   2019.000000      7.250000     18.000000\n",
       "75%        2.00000   2021.000000      8.070000     20.000000\n",
       "max        3.00000   2022.000000     10.000000    195.000000"
      ]
     },
     "execution_count": 9,
     "metadata": {},
     "output_type": "execute_result"
    }
   ],
   "source": [
    "new_df.describe()"
   ]
  },
  {
   "cell_type": "code",
   "execution_count": 10,
   "metadata": {},
   "outputs": [
    {
     "name": "stdout",
     "output_type": "stream",
     "text": [
      "Empty DataFrame\n",
      "Columns: [mssv, hoc_ky, nam_hoc, dtb_hk, so_tc_hk]\n",
      "Index: []\n",
      "Empty DataFrame\n",
      "Columns: [mssv, hoc_ky, nam_hoc, dtb_hk, so_tc_hk]\n",
      "Index: []\n",
      "Empty DataFrame\n",
      "Columns: [mssv, hoc_ky, nam_hoc, dtb_hk, so_tc_hk]\n",
      "Index: []\n"
     ]
    }
   ],
   "source": [
    "for col in new_primary_key:\n",
    "    print(new_df[new_df[col].isnull()])"
   ]
  },
  {
   "cell_type": "code",
   "execution_count": 11,
   "metadata": {},
   "outputs": [
    {
     "data": {
      "text/plain": [
       "0"
      ]
     },
     "execution_count": 11,
     "metadata": {},
     "output_type": "execute_result"
    }
   ],
   "source": [
    "new_df.duplicated().sum()"
   ]
  },
  {
   "cell_type": "code",
   "execution_count": 12,
   "metadata": {},
   "outputs": [
    {
     "data": {
      "text/plain": [
       "0"
      ]
     },
     "execution_count": 12,
     "metadata": {},
     "output_type": "execute_result"
    }
   ],
   "source": [
    "new_df.duplicated(subset=new_primary_key).sum()"
   ]
  },
  {
   "attachments": {},
   "cell_type": "markdown",
   "metadata": {},
   "source": [
    "# mssv"
   ]
  },
  {
   "cell_type": "code",
   "execution_count": 13,
   "metadata": {},
   "outputs": [
    {
     "data": {
      "text/plain": [
       "Index(['mssv', 'hoc_ky', 'nam_hoc', 'dtb_hk', 'so_tc_hk'], dtype='object')"
      ]
     },
     "execution_count": 13,
     "metadata": {},
     "output_type": "execute_result"
    }
   ],
   "source": [
    "new_df.columns"
   ]
  },
  {
   "cell_type": "code",
   "execution_count": 14,
   "metadata": {},
   "outputs": [
    {
     "data": {
      "text/plain": [
       "dtype('O')"
      ]
     },
     "execution_count": 14,
     "metadata": {},
     "output_type": "execute_result"
    }
   ],
   "source": [
    "new_df.mssv.dtype"
   ]
  },
  {
   "cell_type": "code",
   "execution_count": 15,
   "metadata": {},
   "outputs": [
    {
     "data": {
      "text/plain": [
       "mssv\n",
       "9A84BBE7XPvAibaEXe8ydgsBCmjqA6hvcbpa5SDa    22\n",
       "5EA0E379XPvAibaEXe9Xnw4t0GPgx3ZLzmzrJTA6    22\n",
       "0A275EF0XPvAibaEXe9j81k8MH0oJ07F7M1SwTm7    21\n",
       "54166400XPvAibaEXe+5f3nhbX2ehx/EY+0e6tvl    21\n",
       "0BAF3540XPvAibaEXe9HXpb1PepyFQeHHIpoFKlX    21\n",
       "                                            ..\n",
       "D465EC68XPvAibaEXe+8+5uQAPsgDTDOp8CQLmB3     1\n",
       "2CA61C50XPvAibaEXe+8+5uQAPsgDX1yNlqcm/n4     1\n",
       "774F6000XPvAibaEXe+8+5uQAPsgDc5HtE2tMaaA     1\n",
       "74E2FEBFXPvAibaEXe+8+5uQAPsgDd+wL3MN4wg0     1\n",
       "23418DFBXPvAibaEXe8fkFoA0ROB11ZORpcgaZsN     1\n",
       "Name: count, Length: 13608, dtype: int64"
      ]
     },
     "execution_count": 15,
     "metadata": {},
     "output_type": "execute_result"
    }
   ],
   "source": [
    "new_df.mssv.value_counts(dropna=False)"
   ]
  },
  {
   "cell_type": "code",
   "execution_count": 16,
   "metadata": {},
   "outputs": [
    {
     "data": {
      "text/plain": [
       "0"
      ]
     },
     "execution_count": 16,
     "metadata": {},
     "output_type": "execute_result"
    }
   ],
   "source": [
    "new_df.mssv.isnull().sum()"
   ]
  },
  {
   "cell_type": "code",
   "execution_count": 17,
   "metadata": {},
   "outputs": [],
   "source": [
    "new_df.mssv = new_df.mssv.str.strip()"
   ]
  },
  {
   "cell_type": "code",
   "execution_count": 18,
   "metadata": {},
   "outputs": [
    {
     "data": {
      "text/plain": [
       "mssv\n",
       "40    84952\n",
       "Name: count, dtype: int64"
      ]
     },
     "execution_count": 18,
     "metadata": {},
     "output_type": "execute_result"
    }
   ],
   "source": [
    "new_df.mssv.str.len().value_counts(dropna=False)"
   ]
  },
  {
   "attachments": {},
   "cell_type": "markdown",
   "metadata": {},
   "source": [
    "# hoc_ky"
   ]
  },
  {
   "cell_type": "code",
   "execution_count": 19,
   "metadata": {},
   "outputs": [
    {
     "data": {
      "text/plain": [
       "Index(['mssv', 'hoc_ky', 'nam_hoc', 'dtb_hk', 'so_tc_hk'], dtype='object')"
      ]
     },
     "execution_count": 19,
     "metadata": {},
     "output_type": "execute_result"
    }
   ],
   "source": [
    "new_df.columns"
   ]
  },
  {
   "cell_type": "code",
   "execution_count": 20,
   "metadata": {},
   "outputs": [
    {
     "data": {
      "text/plain": [
       "dtype('int64')"
      ]
     },
     "execution_count": 20,
     "metadata": {},
     "output_type": "execute_result"
    }
   ],
   "source": [
    "new_df.hoc_ky.dtype"
   ]
  },
  {
   "cell_type": "code",
   "execution_count": 21,
   "metadata": {},
   "outputs": [
    {
     "data": {
      "text/plain": [
       "hoc_ky\n",
       "1    45013\n",
       "2    35189\n",
       "3     4750\n",
       "Name: count, dtype: int64"
      ]
     },
     "execution_count": 21,
     "metadata": {},
     "output_type": "execute_result"
    }
   ],
   "source": [
    "new_df.hoc_ky.value_counts(dropna=False)"
   ]
  },
  {
   "cell_type": "code",
   "execution_count": 22,
   "metadata": {},
   "outputs": [
    {
     "data": {
      "text/plain": [
       "0"
      ]
     },
     "execution_count": 22,
     "metadata": {},
     "output_type": "execute_result"
    }
   ],
   "source": [
    "new_df.hoc_ky.isnull().sum()"
   ]
  },
  {
   "attachments": {},
   "cell_type": "markdown",
   "metadata": {},
   "source": [
    "# nam_hoc"
   ]
  },
  {
   "cell_type": "code",
   "execution_count": 23,
   "metadata": {},
   "outputs": [
    {
     "data": {
      "text/plain": [
       "Index(['mssv', 'hoc_ky', 'nam_hoc', 'dtb_hk', 'so_tc_hk'], dtype='object')"
      ]
     },
     "execution_count": 23,
     "metadata": {},
     "output_type": "execute_result"
    }
   ],
   "source": [
    "new_df.columns"
   ]
  },
  {
   "cell_type": "code",
   "execution_count": 24,
   "metadata": {},
   "outputs": [
    {
     "data": {
      "text/plain": [
       "dtype('int64')"
      ]
     },
     "execution_count": 24,
     "metadata": {},
     "output_type": "execute_result"
    }
   ],
   "source": [
    "new_df.nam_hoc.dtype"
   ]
  },
  {
   "cell_type": "code",
   "execution_count": 25,
   "metadata": {},
   "outputs": [
    {
     "data": {
      "text/plain": [
       "nam_hoc\n",
       "2021    13851\n",
       "2020    12414\n",
       "2019    10957\n",
       "2018    10129\n",
       "2017     9002\n",
       "2016     7964\n",
       "2022     7955\n",
       "2015     6194\n",
       "2014     4236\n",
       "2013     2250\n",
       "Name: count, dtype: int64"
      ]
     },
     "execution_count": 25,
     "metadata": {},
     "output_type": "execute_result"
    }
   ],
   "source": [
    "new_df.nam_hoc.value_counts(dropna=False)"
   ]
  },
  {
   "cell_type": "code",
   "execution_count": 26,
   "metadata": {},
   "outputs": [
    {
     "data": {
      "text/plain": [
       "0"
      ]
     },
     "execution_count": 26,
     "metadata": {},
     "output_type": "execute_result"
    }
   ],
   "source": [
    "new_df.nam_hoc.isnull().sum()"
   ]
  },
  {
   "attachments": {},
   "cell_type": "markdown",
   "metadata": {},
   "source": [
    "# dtb_hk"
   ]
  },
  {
   "cell_type": "code",
   "execution_count": 27,
   "metadata": {},
   "outputs": [
    {
     "data": {
      "text/plain": [
       "Index(['mssv', 'hoc_ky', 'nam_hoc', 'dtb_hk', 'so_tc_hk'], dtype='object')"
      ]
     },
     "execution_count": 27,
     "metadata": {},
     "output_type": "execute_result"
    }
   ],
   "source": [
    "new_df.columns"
   ]
  },
  {
   "cell_type": "code",
   "execution_count": 28,
   "metadata": {},
   "outputs": [
    {
     "data": {
      "text/plain": [
       "dtype('float64')"
      ]
     },
     "execution_count": 28,
     "metadata": {},
     "output_type": "execute_result"
    }
   ],
   "source": [
    "new_df.dtb_hk.dtype"
   ]
  },
  {
   "cell_type": "code",
   "execution_count": 29,
   "metadata": {},
   "outputs": [
    {
     "data": {
      "text/plain": [
       "dtb_hk\n",
       "0.00    2261\n",
       "8.00     527\n",
       "8.50     461\n",
       "7.50     409\n",
       "8.30     408\n",
       "        ... \n",
       "0.01       1\n",
       "9.93       1\n",
       "9.91       1\n",
       "9.95       1\n",
       "9.76       1\n",
       "Name: count, Length: 991, dtype: int64"
      ]
     },
     "execution_count": 29,
     "metadata": {},
     "output_type": "execute_result"
    }
   ],
   "source": [
    "new_df.dtb_hk.value_counts(dropna=False)"
   ]
  },
  {
   "cell_type": "code",
   "execution_count": 30,
   "metadata": {},
   "outputs": [
    {
     "data": {
      "text/plain": [
       "0"
      ]
     },
     "execution_count": 30,
     "metadata": {},
     "output_type": "execute_result"
    }
   ],
   "source": [
    "new_df.dtb_hk.isnull().sum()"
   ]
  },
  {
   "cell_type": "code",
   "execution_count": 31,
   "metadata": {},
   "outputs": [
    {
     "data": {
      "text/plain": [
       "count    84952.000000\n",
       "mean         6.714582\n",
       "std          2.049809\n",
       "min          0.000000\n",
       "25%          6.070000\n",
       "50%          7.250000\n",
       "75%          8.070000\n",
       "max         10.000000\n",
       "Name: dtb_hk, dtype: float64"
      ]
     },
     "execution_count": 31,
     "metadata": {},
     "output_type": "execute_result"
    }
   ],
   "source": [
    "new_df.dtb_hk.describe()"
   ]
  },
  {
   "attachments": {},
   "cell_type": "markdown",
   "metadata": {},
   "source": [
    "# so_tc_hk"
   ]
  },
  {
   "cell_type": "code",
   "execution_count": 32,
   "metadata": {},
   "outputs": [
    {
     "data": {
      "text/plain": [
       "Index(['mssv', 'hoc_ky', 'nam_hoc', 'dtb_hk', 'so_tc_hk'], dtype='object')"
      ]
     },
     "execution_count": 32,
     "metadata": {},
     "output_type": "execute_result"
    }
   ],
   "source": [
    "new_df.columns"
   ]
  },
  {
   "cell_type": "code",
   "execution_count": 33,
   "metadata": {},
   "outputs": [
    {
     "data": {
      "text/plain": [
       "dtype('int64')"
      ]
     },
     "execution_count": 33,
     "metadata": {},
     "output_type": "execute_result"
    }
   ],
   "source": [
    "new_df.so_tc_hk.dtype"
   ]
  },
  {
   "cell_type": "code",
   "execution_count": 34,
   "metadata": {},
   "outputs": [
    {
     "data": {
      "text/plain": [
       "so_tc_hk\n",
       "19     8171\n",
       "17     7865\n",
       "20     7642\n",
       "18     7102\n",
       "16     6984\n",
       "21     6095\n",
       "22     5531\n",
       "15     5070\n",
       "14     4053\n",
       "23     3754\n",
       "24     3191\n",
       "13     2617\n",
       "10     2389\n",
       "4      2351\n",
       "12     1879\n",
       "3      1548\n",
       "8      1500\n",
       "7      1421\n",
       "11     1114\n",
       "0       967\n",
       "6       847\n",
       "25      705\n",
       "9       588\n",
       "26      489\n",
       "2       297\n",
       "27      244\n",
       "5       184\n",
       "28      169\n",
       "29       94\n",
       "30       51\n",
       "192      20\n",
       "138      11\n",
       "1         5\n",
       "32        1\n",
       "44        1\n",
       "195       1\n",
       "69        1\n",
       "Name: count, dtype: int64"
      ]
     },
     "execution_count": 34,
     "metadata": {},
     "output_type": "execute_result"
    }
   ],
   "source": [
    "new_df.so_tc_hk.value_counts(dropna=False)"
   ]
  },
  {
   "cell_type": "code",
   "execution_count": 35,
   "metadata": {},
   "outputs": [
    {
     "data": {
      "text/plain": [
       "0"
      ]
     },
     "execution_count": 35,
     "metadata": {},
     "output_type": "execute_result"
    }
   ],
   "source": [
    "new_df.so_tc_hk.isnull().sum()"
   ]
  },
  {
   "cell_type": "code",
   "execution_count": 36,
   "metadata": {},
   "outputs": [
    {
     "data": {
      "text/plain": [
       "count    84952.000000\n",
       "mean        16.703350\n",
       "std          6.305202\n",
       "min          0.000000\n",
       "25%         14.000000\n",
       "50%         18.000000\n",
       "75%         20.000000\n",
       "max        195.000000\n",
       "Name: so_tc_hk, dtype: float64"
      ]
     },
     "execution_count": 36,
     "metadata": {},
     "output_type": "execute_result"
    }
   ],
   "source": [
    "new_df.so_tc_hk.describe()"
   ]
  },
  {
   "attachments": {},
   "cell_type": "markdown",
   "metadata": {},
   "source": [
    "# data type"
   ]
  },
  {
   "cell_type": "code",
   "execution_count": 37,
   "metadata": {},
   "outputs": [
    {
     "name": "stdout",
     "output_type": "stream",
     "text": [
      "<class 'pandas.core.frame.DataFrame'>\n",
      "RangeIndex: 84952 entries, 0 to 84951\n",
      "Data columns (total 5 columns):\n",
      " #   Column    Non-Null Count  Dtype  \n",
      "---  ------    --------------  -----  \n",
      " 0   mssv      84952 non-null  object \n",
      " 1   hoc_ky    84952 non-null  int64  \n",
      " 2   nam_hoc   84952 non-null  int64  \n",
      " 3   dtb_hk    84952 non-null  float64\n",
      " 4   so_tc_hk  84952 non-null  int64  \n",
      "dtypes: float64(1), int64(3), object(1)\n",
      "memory usage: 3.2+ MB\n"
     ]
    }
   ],
   "source": [
    "new_df.info()"
   ]
  },
  {
   "cell_type": "code",
   "execution_count": 38,
   "metadata": {},
   "outputs": [
    {
     "data": {
      "text/plain": [
       "{1: '1', 2: '2', 3: '3'}"
      ]
     },
     "execution_count": 38,
     "metadata": {},
     "output_type": "execute_result"
    }
   ],
   "source": [
    "tmp = new_df.hoc_ky.unique().tolist()\n",
    "mapping_dict = {a:str(a) for a in tmp}\n",
    "new_df.hoc_ky = new_df.hoc_ky.map(mapping_dict)\n",
    "mapping_dict"
   ]
  },
  {
   "cell_type": "code",
   "execution_count": 39,
   "metadata": {},
   "outputs": [
    {
     "data": {
      "text/plain": [
       "{2016: '2016',\n",
       " 2017: '2017',\n",
       " 2018: '2018',\n",
       " 2015: '2015',\n",
       " 2014: '2014',\n",
       " 2019: '2019',\n",
       " 2020: '2020',\n",
       " 2013: '2013',\n",
       " 2021: '2021',\n",
       " 2022: '2022'}"
      ]
     },
     "execution_count": 39,
     "metadata": {},
     "output_type": "execute_result"
    }
   ],
   "source": [
    "tmp = new_df.nam_hoc.unique().tolist()\n",
    "mapping_dict = {a:str(a) for a in tmp}\n",
    "new_df.nam_hoc = new_df.nam_hoc.map(mapping_dict)\n",
    "mapping_dict"
   ]
  },
  {
   "cell_type": "code",
   "execution_count": 40,
   "metadata": {},
   "outputs": [
    {
     "data": {
      "text/plain": [
       "{13: '13',\n",
       " 17: '17',\n",
       " 16: '16',\n",
       " 23: '23',\n",
       " 21: '21',\n",
       " 12: '12',\n",
       " 6: '6',\n",
       " 20: '20',\n",
       " 15: '15',\n",
       " 8: '8',\n",
       " 19: '19',\n",
       " 18: '18',\n",
       " 24: '24',\n",
       " 22: '22',\n",
       " 4: '4',\n",
       " 7: '7',\n",
       " 0: '0',\n",
       " 11: '11',\n",
       " 14: '14',\n",
       " 3: '3',\n",
       " 10: '10',\n",
       " 5: '5',\n",
       " 27: '27',\n",
       " 25: '25',\n",
       " 28: '28',\n",
       " 26: '26',\n",
       " 9: '9',\n",
       " 2: '2',\n",
       " 29: '29',\n",
       " 30: '30',\n",
       " 32: '32',\n",
       " 44: '44',\n",
       " 1: '1',\n",
       " 138: '138',\n",
       " 195: '195',\n",
       " 69: '69',\n",
       " 192: '192'}"
      ]
     },
     "execution_count": 40,
     "metadata": {},
     "output_type": "execute_result"
    }
   ],
   "source": [
    "tmp = new_df.so_tc_hk.unique().tolist()\n",
    "mapping_dict = {a:str(a) for a in tmp}\n",
    "new_df.so_tc_hk = new_df.so_tc_hk.map(mapping_dict)\n",
    "mapping_dict"
   ]
  },
  {
   "cell_type": "code",
   "execution_count": 41,
   "metadata": {},
   "outputs": [
    {
     "name": "stdout",
     "output_type": "stream",
     "text": [
      "<class 'pandas.core.frame.DataFrame'>\n",
      "RangeIndex: 84952 entries, 0 to 84951\n",
      "Data columns (total 5 columns):\n",
      " #   Column    Non-Null Count  Dtype   \n",
      "---  ------    --------------  -----   \n",
      " 0   mssv      84952 non-null  category\n",
      " 1   hoc_ky    84952 non-null  category\n",
      " 2   nam_hoc   84952 non-null  category\n",
      " 3   dtb_hk    84952 non-null  float32 \n",
      " 4   so_tc_hk  84952 non-null  category\n",
      "dtypes: category(4), float32(1)\n",
      "memory usage: 1.3 MB\n"
     ]
    }
   ],
   "source": [
    "new_df.mssv = new_df.mssv.astype('category')\n",
    "new_df.hoc_ky = new_df.hoc_ky.astype('category')\n",
    "new_df.nam_hoc = new_df.nam_hoc.astype('category')\n",
    "new_df.dtb_hk = new_df.dtb_hk.astype('float32')\n",
    "new_df.so_tc_hk = new_df.so_tc_hk.astype('category')\n",
    "new_df.info()"
   ]
  },
  {
   "attachments": {},
   "cell_type": "markdown",
   "metadata": {},
   "source": [
    "# final check"
   ]
  },
  {
   "cell_type": "code",
   "execution_count": 42,
   "metadata": {},
   "outputs": [
    {
     "data": {
      "text/html": [
       "<div>\n",
       "<style scoped>\n",
       "    .dataframe tbody tr th:only-of-type {\n",
       "        vertical-align: middle;\n",
       "    }\n",
       "\n",
       "    .dataframe tbody tr th {\n",
       "        vertical-align: top;\n",
       "    }\n",
       "\n",
       "    .dataframe thead th {\n",
       "        text-align: right;\n",
       "    }\n",
       "</style>\n",
       "<table border=\"1\" class=\"dataframe\">\n",
       "  <thead>\n",
       "    <tr style=\"text-align: right;\">\n",
       "      <th></th>\n",
       "      <th>mssv</th>\n",
       "      <th>hoc_ky</th>\n",
       "      <th>nam_hoc</th>\n",
       "      <th>dtb_hk</th>\n",
       "      <th>so_tc_hk</th>\n",
       "    </tr>\n",
       "  </thead>\n",
       "  <tbody>\n",
       "  </tbody>\n",
       "</table>\n",
       "</div>"
      ],
      "text/plain": [
       "Empty DataFrame\n",
       "Columns: [mssv, hoc_ky, nam_hoc, dtb_hk, so_tc_hk]\n",
       "Index: []"
      ]
     },
     "execution_count": 42,
     "metadata": {},
     "output_type": "execute_result"
    }
   ],
   "source": [
    "new_df[new_df.isnull().any(axis=1)]"
   ]
  },
  {
   "cell_type": "code",
   "execution_count": 43,
   "metadata": {},
   "outputs": [
    {
     "data": {
      "text/plain": [
       "0"
      ]
     },
     "execution_count": 43,
     "metadata": {},
     "output_type": "execute_result"
    }
   ],
   "source": [
    "new_df.duplicated().sum()"
   ]
  },
  {
   "cell_type": "code",
   "execution_count": 44,
   "metadata": {},
   "outputs": [
    {
     "data": {
      "text/plain": [
       "0"
      ]
     },
     "execution_count": 44,
     "metadata": {},
     "output_type": "execute_result"
    }
   ],
   "source": [
    "new_df[new_primary_key].duplicated().sum()"
   ]
  },
  {
   "cell_type": "code",
   "execution_count": 45,
   "metadata": {},
   "outputs": [
    {
     "data": {
      "text/html": [
       "<div>\n",
       "<style scoped>\n",
       "    .dataframe tbody tr th:only-of-type {\n",
       "        vertical-align: middle;\n",
       "    }\n",
       "\n",
       "    .dataframe tbody tr th {\n",
       "        vertical-align: top;\n",
       "    }\n",
       "\n",
       "    .dataframe thead th {\n",
       "        text-align: right;\n",
       "    }\n",
       "</style>\n",
       "<table border=\"1\" class=\"dataframe\">\n",
       "  <thead>\n",
       "    <tr style=\"text-align: right;\">\n",
       "      <th></th>\n",
       "      <th>dtb_hk</th>\n",
       "    </tr>\n",
       "  </thead>\n",
       "  <tbody>\n",
       "    <tr>\n",
       "      <th>count</th>\n",
       "      <td>84952.000000</td>\n",
       "    </tr>\n",
       "    <tr>\n",
       "      <th>mean</th>\n",
       "      <td>6.714581</td>\n",
       "    </tr>\n",
       "    <tr>\n",
       "      <th>std</th>\n",
       "      <td>2.049809</td>\n",
       "    </tr>\n",
       "    <tr>\n",
       "      <th>min</th>\n",
       "      <td>0.000000</td>\n",
       "    </tr>\n",
       "    <tr>\n",
       "      <th>25%</th>\n",
       "      <td>6.070000</td>\n",
       "    </tr>\n",
       "    <tr>\n",
       "      <th>50%</th>\n",
       "      <td>7.250000</td>\n",
       "    </tr>\n",
       "    <tr>\n",
       "      <th>75%</th>\n",
       "      <td>8.070000</td>\n",
       "    </tr>\n",
       "    <tr>\n",
       "      <th>max</th>\n",
       "      <td>10.000000</td>\n",
       "    </tr>\n",
       "  </tbody>\n",
       "</table>\n",
       "</div>"
      ],
      "text/plain": [
       "             dtb_hk\n",
       "count  84952.000000\n",
       "mean       6.714581\n",
       "std        2.049809\n",
       "min        0.000000\n",
       "25%        6.070000\n",
       "50%        7.250000\n",
       "75%        8.070000\n",
       "max       10.000000"
      ]
     },
     "execution_count": 45,
     "metadata": {},
     "output_type": "execute_result"
    }
   ],
   "source": [
    "new_df.describe()"
   ]
  },
  {
   "cell_type": "code",
   "execution_count": 46,
   "metadata": {},
   "outputs": [
    {
     "data": {
      "text/plain": [
       "Index(['mssv', 'hoc_ky', 'nam_hoc', 'dtb_hk', 'so_tc_hk'], dtype='object')"
      ]
     },
     "execution_count": 46,
     "metadata": {},
     "output_type": "execute_result"
    }
   ],
   "source": [
    "new_df.columns"
   ]
  },
  {
   "cell_type": "code",
   "execution_count": 47,
   "metadata": {},
   "outputs": [
    {
     "data": {
      "text/plain": [
       "mssv\n",
       "5EA0E379XPvAibaEXe9Xnw4t0GPgx3ZLzmzrJTA6    22\n",
       "9A84BBE7XPvAibaEXe8ydgsBCmjqA6hvcbpa5SDa    22\n",
       "54166400XPvAibaEXe+5f3nhbX2ehx/EY+0e6tvl    21\n",
       "0BAF3540XPvAibaEXe9HXpb1PepyFQeHHIpoFKlX    21\n",
       "84F1726EXPvAibaEXe/FejQN8/S5fHF/hPdc4T81    21\n",
       "                                            ..\n",
       "8DFCFCD7XPvAibaEXe94h5DSR+AH+/1MIWnl2SCP     1\n",
       "8E233CAAXPvAibaEXe//XeFNwgvXgjTq2OmCM5Xg     1\n",
       "BEE29266XPvAibaEXe+sfYgLIH7gO26xJqZJX9CM     1\n",
       "46C5DD4CXPvAibaEXe/HavVGti21aAqcOquxnwOi     1\n",
       "3AAC7BD2XPvAibaEXe8Ei6irkiwEYPxy7I+Mki3/     1\n",
       "Name: count, Length: 13608, dtype: int64"
      ]
     },
     "execution_count": 47,
     "metadata": {},
     "output_type": "execute_result"
    }
   ],
   "source": [
    "new_df.mssv.value_counts(dropna=False)"
   ]
  },
  {
   "cell_type": "code",
   "execution_count": 48,
   "metadata": {},
   "outputs": [
    {
     "data": {
      "text/plain": [
       "hoc_ky\n",
       "1    45013\n",
       "2    35189\n",
       "3     4750\n",
       "Name: count, dtype: int64"
      ]
     },
     "execution_count": 48,
     "metadata": {},
     "output_type": "execute_result"
    }
   ],
   "source": [
    "new_df.hoc_ky.value_counts(dropna=False)"
   ]
  },
  {
   "cell_type": "code",
   "execution_count": 49,
   "metadata": {},
   "outputs": [
    {
     "data": {
      "text/plain": [
       "nam_hoc\n",
       "2021    13851\n",
       "2020    12414\n",
       "2019    10957\n",
       "2018    10129\n",
       "2017     9002\n",
       "2016     7964\n",
       "2022     7955\n",
       "2015     6194\n",
       "2014     4236\n",
       "2013     2250\n",
       "Name: count, dtype: int64"
      ]
     },
     "execution_count": 49,
     "metadata": {},
     "output_type": "execute_result"
    }
   ],
   "source": [
    "new_df.nam_hoc.value_counts(dropna=False)"
   ]
  },
  {
   "cell_type": "code",
   "execution_count": 50,
   "metadata": {},
   "outputs": [
    {
     "data": {
      "text/plain": [
       "dtb_hk\n",
       "0.00    2261\n",
       "8.00     527\n",
       "8.50     461\n",
       "7.50     409\n",
       "8.30     408\n",
       "        ... \n",
       "0.01       1\n",
       "9.93       1\n",
       "9.91       1\n",
       "9.95       1\n",
       "9.76       1\n",
       "Name: count, Length: 991, dtype: int64"
      ]
     },
     "execution_count": 50,
     "metadata": {},
     "output_type": "execute_result"
    }
   ],
   "source": [
    "new_df.dtb_hk.value_counts(dropna=False)"
   ]
  },
  {
   "cell_type": "code",
   "execution_count": 51,
   "metadata": {},
   "outputs": [
    {
     "data": {
      "text/plain": [
       "so_tc_hk\n",
       "19     8171\n",
       "17     7865\n",
       "20     7642\n",
       "18     7102\n",
       "16     6984\n",
       "21     6095\n",
       "22     5531\n",
       "15     5070\n",
       "14     4053\n",
       "23     3754\n",
       "24     3191\n",
       "13     2617\n",
       "10     2389\n",
       "4      2351\n",
       "12     1879\n",
       "3      1548\n",
       "8      1500\n",
       "7      1421\n",
       "11     1114\n",
       "0       967\n",
       "6       847\n",
       "25      705\n",
       "9       588\n",
       "26      489\n",
       "2       297\n",
       "27      244\n",
       "5       184\n",
       "28      169\n",
       "29       94\n",
       "30       51\n",
       "192      20\n",
       "138      11\n",
       "1         5\n",
       "69        1\n",
       "44        1\n",
       "195       1\n",
       "32        1\n",
       "Name: count, dtype: int64"
      ]
     },
     "execution_count": 51,
     "metadata": {},
     "output_type": "execute_result"
    }
   ],
   "source": [
    "new_df.so_tc_hk.value_counts(dropna=False)"
   ]
  },
  {
   "attachments": {},
   "cell_type": "markdown",
   "metadata": {},
   "source": [
    "# save"
   ]
  },
  {
   "cell_type": "code",
   "execution_count": 52,
   "metadata": {},
   "outputs": [],
   "source": [
    "clean_data_folder = Path(\"../clean_data\")\n",
    "new_df.to_parquet(clean_data_folder/f\"{data_stem}.parquet\", index=False)\n",
    "haha_df = pd.read_parquet(clean_data_folder/f\"{data_stem}.parquet\")"
   ]
  },
  {
   "cell_type": "code",
   "execution_count": 53,
   "metadata": {},
   "outputs": [
    {
     "data": {
      "text/html": [
       "<div>\n",
       "<style scoped>\n",
       "    .dataframe tbody tr th:only-of-type {\n",
       "        vertical-align: middle;\n",
       "    }\n",
       "\n",
       "    .dataframe tbody tr th {\n",
       "        vertical-align: top;\n",
       "    }\n",
       "\n",
       "    .dataframe thead th {\n",
       "        text-align: right;\n",
       "    }\n",
       "</style>\n",
       "<table border=\"1\" class=\"dataframe\">\n",
       "  <thead>\n",
       "    <tr style=\"text-align: right;\">\n",
       "      <th></th>\n",
       "      <th>mssv</th>\n",
       "      <th>hocky</th>\n",
       "      <th>namhoc</th>\n",
       "      <th>dtbhk</th>\n",
       "      <th>sotchk</th>\n",
       "    </tr>\n",
       "  </thead>\n",
       "  <tbody>\n",
       "  </tbody>\n",
       "</table>\n",
       "</div>"
      ],
      "text/plain": [
       "Empty DataFrame\n",
       "Columns: [mssv, hocky, namhoc, dtbhk, sotchk]\n",
       "Index: []"
      ]
     },
     "execution_count": 53,
     "metadata": {},
     "output_type": "execute_result"
    }
   ],
   "source": [
    "old_df[old_df.isnull().any(axis=1)]"
   ]
  },
  {
   "cell_type": "code",
   "execution_count": 54,
   "metadata": {},
   "outputs": [
    {
     "data": {
      "text/html": [
       "<div>\n",
       "<style scoped>\n",
       "    .dataframe tbody tr th:only-of-type {\n",
       "        vertical-align: middle;\n",
       "    }\n",
       "\n",
       "    .dataframe tbody tr th {\n",
       "        vertical-align: top;\n",
       "    }\n",
       "\n",
       "    .dataframe thead th {\n",
       "        text-align: right;\n",
       "    }\n",
       "</style>\n",
       "<table border=\"1\" class=\"dataframe\">\n",
       "  <thead>\n",
       "    <tr style=\"text-align: right;\">\n",
       "      <th></th>\n",
       "      <th>mssv</th>\n",
       "      <th>hoc_ky</th>\n",
       "      <th>nam_hoc</th>\n",
       "      <th>dtb_hk</th>\n",
       "      <th>so_tc_hk</th>\n",
       "    </tr>\n",
       "  </thead>\n",
       "  <tbody>\n",
       "  </tbody>\n",
       "</table>\n",
       "</div>"
      ],
      "text/plain": [
       "Empty DataFrame\n",
       "Columns: [mssv, hoc_ky, nam_hoc, dtb_hk, so_tc_hk]\n",
       "Index: []"
      ]
     },
     "execution_count": 54,
     "metadata": {},
     "output_type": "execute_result"
    }
   ],
   "source": [
    "haha_df[haha_df.isnull().any(axis=1)]"
   ]
  },
  {
   "cell_type": "code",
   "execution_count": 55,
   "metadata": {},
   "outputs": [
    {
     "data": {
      "text/plain": [
       "0"
      ]
     },
     "execution_count": 55,
     "metadata": {},
     "output_type": "execute_result"
    }
   ],
   "source": [
    "old_df[old_primary_key].duplicated().sum()"
   ]
  },
  {
   "cell_type": "code",
   "execution_count": 56,
   "metadata": {},
   "outputs": [
    {
     "data": {
      "text/plain": [
       "0"
      ]
     },
     "execution_count": 56,
     "metadata": {},
     "output_type": "execute_result"
    }
   ],
   "source": [
    "haha_df[new_primary_key].duplicated().sum()"
   ]
  },
  {
   "cell_type": "code",
   "execution_count": 57,
   "metadata": {},
   "outputs": [
    {
     "name": "stdout",
     "output_type": "stream",
     "text": [
      "<class 'pandas.core.frame.DataFrame'>\n",
      "RangeIndex: 84952 entries, 0 to 84951\n",
      "Data columns (total 5 columns):\n",
      " #   Column  Non-Null Count  Dtype  \n",
      "---  ------  --------------  -----  \n",
      " 0   mssv    84952 non-null  object \n",
      " 1   hocky   84952 non-null  int64  \n",
      " 2   namhoc  84952 non-null  int64  \n",
      " 3   dtbhk   84952 non-null  float64\n",
      " 4   sotchk  84952 non-null  int64  \n",
      "dtypes: float64(1), int64(3), object(1)\n",
      "memory usage: 3.2+ MB\n"
     ]
    }
   ],
   "source": [
    "old_df.info()"
   ]
  },
  {
   "cell_type": "code",
   "execution_count": 58,
   "metadata": {},
   "outputs": [
    {
     "name": "stdout",
     "output_type": "stream",
     "text": [
      "<class 'pandas.core.frame.DataFrame'>\n",
      "RangeIndex: 84952 entries, 0 to 84951\n",
      "Data columns (total 5 columns):\n",
      " #   Column    Non-Null Count  Dtype   \n",
      "---  ------    --------------  -----   \n",
      " 0   mssv      84952 non-null  category\n",
      " 1   hoc_ky    84952 non-null  category\n",
      " 2   nam_hoc   84952 non-null  category\n",
      " 3   dtb_hk    84952 non-null  float32 \n",
      " 4   so_tc_hk  84952 non-null  category\n",
      "dtypes: category(4), float32(1)\n",
      "memory usage: 1.3 MB\n"
     ]
    }
   ],
   "source": [
    "haha_df.info()"
   ]
  },
  {
   "cell_type": "code",
   "execution_count": 59,
   "metadata": {},
   "outputs": [
    {
     "data": {
      "text/html": [
       "<div>\n",
       "<style scoped>\n",
       "    .dataframe tbody tr th:only-of-type {\n",
       "        vertical-align: middle;\n",
       "    }\n",
       "\n",
       "    .dataframe tbody tr th {\n",
       "        vertical-align: top;\n",
       "    }\n",
       "\n",
       "    .dataframe thead th {\n",
       "        text-align: right;\n",
       "    }\n",
       "</style>\n",
       "<table border=\"1\" class=\"dataframe\">\n",
       "  <thead>\n",
       "    <tr style=\"text-align: right;\">\n",
       "      <th></th>\n",
       "      <th>hocky</th>\n",
       "      <th>namhoc</th>\n",
       "      <th>dtbhk</th>\n",
       "      <th>sotchk</th>\n",
       "    </tr>\n",
       "  </thead>\n",
       "  <tbody>\n",
       "    <tr>\n",
       "      <th>count</th>\n",
       "      <td>84952.00000</td>\n",
       "      <td>84952.000000</td>\n",
       "      <td>84952.000000</td>\n",
       "      <td>84952.000000</td>\n",
       "    </tr>\n",
       "    <tr>\n",
       "      <th>mean</th>\n",
       "      <td>1.52605</td>\n",
       "      <td>2018.440861</td>\n",
       "      <td>6.714582</td>\n",
       "      <td>16.703350</td>\n",
       "    </tr>\n",
       "    <tr>\n",
       "      <th>std</th>\n",
       "      <td>0.60096</td>\n",
       "      <td>2.466169</td>\n",
       "      <td>2.049809</td>\n",
       "      <td>6.305202</td>\n",
       "    </tr>\n",
       "    <tr>\n",
       "      <th>min</th>\n",
       "      <td>1.00000</td>\n",
       "      <td>2013.000000</td>\n",
       "      <td>0.000000</td>\n",
       "      <td>0.000000</td>\n",
       "    </tr>\n",
       "    <tr>\n",
       "      <th>25%</th>\n",
       "      <td>1.00000</td>\n",
       "      <td>2017.000000</td>\n",
       "      <td>6.070000</td>\n",
       "      <td>14.000000</td>\n",
       "    </tr>\n",
       "    <tr>\n",
       "      <th>50%</th>\n",
       "      <td>1.00000</td>\n",
       "      <td>2019.000000</td>\n",
       "      <td>7.250000</td>\n",
       "      <td>18.000000</td>\n",
       "    </tr>\n",
       "    <tr>\n",
       "      <th>75%</th>\n",
       "      <td>2.00000</td>\n",
       "      <td>2021.000000</td>\n",
       "      <td>8.070000</td>\n",
       "      <td>20.000000</td>\n",
       "    </tr>\n",
       "    <tr>\n",
       "      <th>max</th>\n",
       "      <td>3.00000</td>\n",
       "      <td>2022.000000</td>\n",
       "      <td>10.000000</td>\n",
       "      <td>195.000000</td>\n",
       "    </tr>\n",
       "  </tbody>\n",
       "</table>\n",
       "</div>"
      ],
      "text/plain": [
       "             hocky        namhoc         dtbhk        sotchk\n",
       "count  84952.00000  84952.000000  84952.000000  84952.000000\n",
       "mean       1.52605   2018.440861      6.714582     16.703350\n",
       "std        0.60096      2.466169      2.049809      6.305202\n",
       "min        1.00000   2013.000000      0.000000      0.000000\n",
       "25%        1.00000   2017.000000      6.070000     14.000000\n",
       "50%        1.00000   2019.000000      7.250000     18.000000\n",
       "75%        2.00000   2021.000000      8.070000     20.000000\n",
       "max        3.00000   2022.000000     10.000000    195.000000"
      ]
     },
     "execution_count": 59,
     "metadata": {},
     "output_type": "execute_result"
    }
   ],
   "source": [
    "old_df.describe()"
   ]
  },
  {
   "cell_type": "code",
   "execution_count": 60,
   "metadata": {},
   "outputs": [
    {
     "data": {
      "text/html": [
       "<div>\n",
       "<style scoped>\n",
       "    .dataframe tbody tr th:only-of-type {\n",
       "        vertical-align: middle;\n",
       "    }\n",
       "\n",
       "    .dataframe tbody tr th {\n",
       "        vertical-align: top;\n",
       "    }\n",
       "\n",
       "    .dataframe thead th {\n",
       "        text-align: right;\n",
       "    }\n",
       "</style>\n",
       "<table border=\"1\" class=\"dataframe\">\n",
       "  <thead>\n",
       "    <tr style=\"text-align: right;\">\n",
       "      <th></th>\n",
       "      <th>dtb_hk</th>\n",
       "    </tr>\n",
       "  </thead>\n",
       "  <tbody>\n",
       "    <tr>\n",
       "      <th>count</th>\n",
       "      <td>84952.000000</td>\n",
       "    </tr>\n",
       "    <tr>\n",
       "      <th>mean</th>\n",
       "      <td>6.714581</td>\n",
       "    </tr>\n",
       "    <tr>\n",
       "      <th>std</th>\n",
       "      <td>2.049809</td>\n",
       "    </tr>\n",
       "    <tr>\n",
       "      <th>min</th>\n",
       "      <td>0.000000</td>\n",
       "    </tr>\n",
       "    <tr>\n",
       "      <th>25%</th>\n",
       "      <td>6.070000</td>\n",
       "    </tr>\n",
       "    <tr>\n",
       "      <th>50%</th>\n",
       "      <td>7.250000</td>\n",
       "    </tr>\n",
       "    <tr>\n",
       "      <th>75%</th>\n",
       "      <td>8.070000</td>\n",
       "    </tr>\n",
       "    <tr>\n",
       "      <th>max</th>\n",
       "      <td>10.000000</td>\n",
       "    </tr>\n",
       "  </tbody>\n",
       "</table>\n",
       "</div>"
      ],
      "text/plain": [
       "             dtb_hk\n",
       "count  84952.000000\n",
       "mean       6.714581\n",
       "std        2.049809\n",
       "min        0.000000\n",
       "25%        6.070000\n",
       "50%        7.250000\n",
       "75%        8.070000\n",
       "max       10.000000"
      ]
     },
     "execution_count": 60,
     "metadata": {},
     "output_type": "execute_result"
    }
   ],
   "source": [
    "haha_df.describe()"
   ]
  },
  {
   "cell_type": "code",
   "execution_count": 61,
   "metadata": {},
   "outputs": [
    {
     "data": {
      "text/html": [
       "<div>\n",
       "<style scoped>\n",
       "    .dataframe tbody tr th:only-of-type {\n",
       "        vertical-align: middle;\n",
       "    }\n",
       "\n",
       "    .dataframe tbody tr th {\n",
       "        vertical-align: top;\n",
       "    }\n",
       "\n",
       "    .dataframe thead th {\n",
       "        text-align: right;\n",
       "    }\n",
       "</style>\n",
       "<table border=\"1\" class=\"dataframe\">\n",
       "  <thead>\n",
       "    <tr style=\"text-align: right;\">\n",
       "      <th></th>\n",
       "      <th>mssv</th>\n",
       "      <th>hocky</th>\n",
       "      <th>namhoc</th>\n",
       "      <th>dtbhk</th>\n",
       "      <th>sotchk</th>\n",
       "    </tr>\n",
       "  </thead>\n",
       "  <tbody>\n",
       "    <tr>\n",
       "      <th>64159</th>\n",
       "      <td>9A252138XPvAibaEXe+23cTkF8qTDwOXkV65zBwE</td>\n",
       "      <td>2</td>\n",
       "      <td>2020</td>\n",
       "      <td>5.21</td>\n",
       "      <td>7</td>\n",
       "    </tr>\n",
       "    <tr>\n",
       "      <th>53100</th>\n",
       "      <td>52E66659XPvAibaEXe/7sxkigC7f5zukR2WlNRO3</td>\n",
       "      <td>1</td>\n",
       "      <td>2017</td>\n",
       "      <td>7.22</td>\n",
       "      <td>24</td>\n",
       "    </tr>\n",
       "    <tr>\n",
       "      <th>5075</th>\n",
       "      <td>962B588DXPvAibaEXe8808q51BnmQv7uo+CT+yEW</td>\n",
       "      <td>2</td>\n",
       "      <td>2017</td>\n",
       "      <td>7.27</td>\n",
       "      <td>21</td>\n",
       "    </tr>\n",
       "    <tr>\n",
       "      <th>47580</th>\n",
       "      <td>E8F3AB36XPvAibaEXe+oAybUv81bbh8cI4AooEYz</td>\n",
       "      <td>1</td>\n",
       "      <td>2020</td>\n",
       "      <td>9.20</td>\n",
       "      <td>10</td>\n",
       "    </tr>\n",
       "    <tr>\n",
       "      <th>19504</th>\n",
       "      <td>15A03C0DXPvAibaEXe/69hWWh+JD2UVz3ufk0Hxi</td>\n",
       "      <td>1</td>\n",
       "      <td>2016</td>\n",
       "      <td>5.91</td>\n",
       "      <td>14</td>\n",
       "    </tr>\n",
       "  </tbody>\n",
       "</table>\n",
       "</div>"
      ],
      "text/plain": [
       "                                           mssv  hocky  namhoc  dtbhk  sotchk\n",
       "64159  9A252138XPvAibaEXe+23cTkF8qTDwOXkV65zBwE      2    2020   5.21       7\n",
       "53100  52E66659XPvAibaEXe/7sxkigC7f5zukR2WlNRO3      1    2017   7.22      24\n",
       "5075   962B588DXPvAibaEXe8808q51BnmQv7uo+CT+yEW      2    2017   7.27      21\n",
       "47580  E8F3AB36XPvAibaEXe+oAybUv81bbh8cI4AooEYz      1    2020   9.20      10\n",
       "19504  15A03C0DXPvAibaEXe/69hWWh+JD2UVz3ufk0Hxi      1    2016   5.91      14"
      ]
     },
     "execution_count": 61,
     "metadata": {},
     "output_type": "execute_result"
    }
   ],
   "source": [
    "old_df.sample(5)"
   ]
  },
  {
   "cell_type": "code",
   "execution_count": 62,
   "metadata": {},
   "outputs": [
    {
     "data": {
      "text/html": [
       "<div>\n",
       "<style scoped>\n",
       "    .dataframe tbody tr th:only-of-type {\n",
       "        vertical-align: middle;\n",
       "    }\n",
       "\n",
       "    .dataframe tbody tr th {\n",
       "        vertical-align: top;\n",
       "    }\n",
       "\n",
       "    .dataframe thead th {\n",
       "        text-align: right;\n",
       "    }\n",
       "</style>\n",
       "<table border=\"1\" class=\"dataframe\">\n",
       "  <thead>\n",
       "    <tr style=\"text-align: right;\">\n",
       "      <th></th>\n",
       "      <th>mssv</th>\n",
       "      <th>hoc_ky</th>\n",
       "      <th>nam_hoc</th>\n",
       "      <th>dtb_hk</th>\n",
       "      <th>so_tc_hk</th>\n",
       "    </tr>\n",
       "  </thead>\n",
       "  <tbody>\n",
       "    <tr>\n",
       "      <th>6059</th>\n",
       "      <td>E8E4ADB2XPvAibaEXe/AdnwkoyhfDsgpoaEF+gFF</td>\n",
       "      <td>1</td>\n",
       "      <td>2017</td>\n",
       "      <td>6.84</td>\n",
       "      <td>20</td>\n",
       "    </tr>\n",
       "    <tr>\n",
       "      <th>39437</th>\n",
       "      <td>D1CF0680XPvAibaEXe8y6/RMXZRwBRNEtSk1fgWN</td>\n",
       "      <td>1</td>\n",
       "      <td>2019</td>\n",
       "      <td>5.70</td>\n",
       "      <td>12</td>\n",
       "    </tr>\n",
       "    <tr>\n",
       "      <th>17632</th>\n",
       "      <td>E7748004XPvAibaEXe/btl79MArZLOOaYoVFdLPX</td>\n",
       "      <td>2</td>\n",
       "      <td>2016</td>\n",
       "      <td>5.96</td>\n",
       "      <td>19</td>\n",
       "    </tr>\n",
       "    <tr>\n",
       "      <th>61237</th>\n",
       "      <td>788BA2EEXPvAibaEXe80lJLbnvW/+xPSvVDEvJUz</td>\n",
       "      <td>1</td>\n",
       "      <td>2021</td>\n",
       "      <td>8.12</td>\n",
       "      <td>23</td>\n",
       "    </tr>\n",
       "    <tr>\n",
       "      <th>8021</th>\n",
       "      <td>F98B5B14XPvAibaEXe9+3TdUbRXdLeKIcSwrVH9U</td>\n",
       "      <td>3</td>\n",
       "      <td>2017</td>\n",
       "      <td>5.40</td>\n",
       "      <td>4</td>\n",
       "    </tr>\n",
       "    <tr>\n",
       "      <th>54859</th>\n",
       "      <td>3899D7EDXPvAibaEXe9eSUilQ3V71guQIuvMMION</td>\n",
       "      <td>2</td>\n",
       "      <td>2013</td>\n",
       "      <td>0.94</td>\n",
       "      <td>17</td>\n",
       "    </tr>\n",
       "    <tr>\n",
       "      <th>450</th>\n",
       "      <td>10BC2077XPvAibaEXe+JF4o+SEKcGNvyuiGTmxfU</td>\n",
       "      <td>3</td>\n",
       "      <td>2017</td>\n",
       "      <td>4.00</td>\n",
       "      <td>4</td>\n",
       "    </tr>\n",
       "    <tr>\n",
       "      <th>80914</th>\n",
       "      <td>4674A752XPvAibaEXe/8X6gsb95YiNVI+GsvE5uC</td>\n",
       "      <td>2</td>\n",
       "      <td>2021</td>\n",
       "      <td>8.28</td>\n",
       "      <td>12</td>\n",
       "    </tr>\n",
       "    <tr>\n",
       "      <th>69518</th>\n",
       "      <td>A16B06D2XPvAibaEXe+nFvcMo/cK5N+/HfSULxjN</td>\n",
       "      <td>1</td>\n",
       "      <td>2021</td>\n",
       "      <td>6.89</td>\n",
       "      <td>18</td>\n",
       "    </tr>\n",
       "    <tr>\n",
       "      <th>24864</th>\n",
       "      <td>EF6D3E34XPvAibaEXe9o3csoNuwUvO7brxBe1EBb</td>\n",
       "      <td>1</td>\n",
       "      <td>2017</td>\n",
       "      <td>4.36</td>\n",
       "      <td>20</td>\n",
       "    </tr>\n",
       "  </tbody>\n",
       "</table>\n",
       "</div>"
      ],
      "text/plain": [
       "                                           mssv hoc_ky nam_hoc  dtb_hk   \n",
       "6059   E8E4ADB2XPvAibaEXe/AdnwkoyhfDsgpoaEF+gFF      1    2017    6.84  \\\n",
       "39437  D1CF0680XPvAibaEXe8y6/RMXZRwBRNEtSk1fgWN      1    2019    5.70   \n",
       "17632  E7748004XPvAibaEXe/btl79MArZLOOaYoVFdLPX      2    2016    5.96   \n",
       "61237  788BA2EEXPvAibaEXe80lJLbnvW/+xPSvVDEvJUz      1    2021    8.12   \n",
       "8021   F98B5B14XPvAibaEXe9+3TdUbRXdLeKIcSwrVH9U      3    2017    5.40   \n",
       "54859  3899D7EDXPvAibaEXe9eSUilQ3V71guQIuvMMION      2    2013    0.94   \n",
       "450    10BC2077XPvAibaEXe+JF4o+SEKcGNvyuiGTmxfU      3    2017    4.00   \n",
       "80914  4674A752XPvAibaEXe/8X6gsb95YiNVI+GsvE5uC      2    2021    8.28   \n",
       "69518  A16B06D2XPvAibaEXe+nFvcMo/cK5N+/HfSULxjN      1    2021    6.89   \n",
       "24864  EF6D3E34XPvAibaEXe9o3csoNuwUvO7brxBe1EBb      1    2017    4.36   \n",
       "\n",
       "      so_tc_hk  \n",
       "6059        20  \n",
       "39437       12  \n",
       "17632       19  \n",
       "61237       23  \n",
       "8021         4  \n",
       "54859       17  \n",
       "450          4  \n",
       "80914       12  \n",
       "69518       18  \n",
       "24864       20  "
      ]
     },
     "execution_count": 62,
     "metadata": {},
     "output_type": "execute_result"
    }
   ],
   "source": [
    "haha_df.sample(10)"
   ]
  },
  {
   "cell_type": "code",
   "execution_count": 63,
   "metadata": {},
   "outputs": [
    {
     "data": {
      "text/plain": [
       "['12.baoluu.parquet',\n",
       " '14.totnghiep.parquet',\n",
       " 'desktop.ini',\n",
       " 'diemrl.parquet',\n",
       " 'diem_Thu.parquet',\n",
       " 'sinhvien_dtb_hocky.parquet',\n",
       " 'uit_hocphi_miengiam.parquet']"
      ]
     },
     "execution_count": 63,
     "metadata": {},
     "output_type": "execute_result"
    }
   ],
   "source": [
    "os.listdir(clean_data_folder)"
   ]
  }
 ],
 "metadata": {
  "kernelspec": {
   "display_name": "general_cpython",
   "language": "python",
   "name": "python3"
  },
  "language_info": {
   "codemirror_mode": {
    "name": "ipython",
    "version": 3
   },
   "file_extension": ".py",
   "mimetype": "text/x-python",
   "name": "python",
   "nbconvert_exporter": "python",
   "pygments_lexer": "ipython3",
   "version": "3.9.16"
  },
  "orig_nbformat": 4
 },
 "nbformat": 4,
 "nbformat_minor": 2
}
