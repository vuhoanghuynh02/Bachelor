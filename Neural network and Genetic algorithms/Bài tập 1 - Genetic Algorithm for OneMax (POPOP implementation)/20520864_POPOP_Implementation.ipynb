{
  "cells": [
    {
      "cell_type": "code",
      "execution_count": 1,
      "metadata": {
        "collapsed": true,
        "id": "r__fmusqNNuu"
      },
      "outputs": [],
      "source": [
        "import numpy as np"
      ]
    },
    {
      "cell_type": "code",
      "source": [
        "np.random.seed(20520864)"
      ],
      "metadata": {
        "id": "mFSwZSyW7fbK"
      },
      "execution_count": 2,
      "outputs": []
    },
    {
      "cell_type": "code",
      "execution_count": 3,
      "metadata": {
        "id": "cDw0uXxPNNuv"
      },
      "outputs": [],
      "source": [
        "def initialize_population( num_individuals, num_variables ):\n",
        "    \"\"\"\n",
        "    Khởi tạo quần thể gồm num_individuals cá thể. Mỗi cá thể có num_variables biến.\n",
        "    \n",
        "    Arguments:\n",
        "    num_individuals -- Số lượng cá thể\n",
        "    num_variables -- Số lượng biến\n",
        "    \n",
        "    Returns:\n",
        "    pop -- Ma trận (num_individuals, num_variables ) chứa quần thể mới được khởi tạo ngẫu nhiên.\n",
        "    \"\"\"\n",
        "    assert num_individuals >= 2\n",
        "    zeros = np.zeros((num_individuals//2, num_variables), dtype=np.int32)\n",
        "    ones = np.ones((num_individuals - num_individuals//2, num_variables), dtype=np.int32)\n",
        "    pop = np.vstack((zeros,ones))\n",
        "    for i in range(num_variables):\n",
        "        np.random.shuffle(pop[:,i])\n",
        "\n",
        "    return pop"
      ]
    },
    {
      "cell_type": "code",
      "execution_count": 4,
      "metadata": {
        "colab": {
          "base_uri": "https://localhost:8080/"
        },
        "id": "B2mFFli0fUCH",
        "outputId": "8b38090b-cffc-40b1-9097-9e286ba69cc2"
      },
      "outputs": [
        {
          "output_type": "stream",
          "name": "stdout",
          "text": [
            "[[1 0 1 0]\n",
            " [1 0 1 1]\n",
            " [1 1 1 0]\n",
            " [0 1 0 1]\n",
            " [1 1 0 0]\n",
            " [0 1 0 1]\n",
            " [0 0 0 0]\n",
            " [0 0 1 1]]\n"
          ]
        }
      ],
      "source": [
        "pop = initialize_population(8,4)\n",
        "print(pop)"
      ]
    },
    {
      "cell_type": "code",
      "execution_count": 5,
      "metadata": {
        "id": "sexPh34MNNuw"
      },
      "outputs": [],
      "source": [
        "def onemax( ind ):\n",
        "    \"\"\"\n",
        "    Hàm đánh giá OneMax: Đếm số bit 1 trong chuỗi nhị phân (cá thể ind).\n",
        "    \n",
        "    Arguments:\n",
        "    ind -- Cá thể cần được đánh giá.\n",
        "\n",
        "    Returns:\n",
        "    value -- Giá trị của cá thể ind.\n",
        "    \"\"\"\n",
        "    \n",
        "    return np.sum(ind)"
      ]
    },
    {
      "cell_type": "code",
      "execution_count": 6,
      "metadata": {
        "colab": {
          "base_uri": "https://localhost:8080/"
        },
        "id": "m-wgJivufTUG",
        "outputId": "970526c5-9c07-4a3e-af21-ee8695eef107"
      },
      "outputs": [
        {
          "output_type": "stream",
          "name": "stdout",
          "text": [
            "[[1 0 1 0]\n",
            " [1 0 1 1]\n",
            " [1 1 1 0]\n",
            " [0 1 0 1]\n",
            " [1 1 0 0]\n",
            " [0 1 0 1]\n",
            " [0 0 0 0]\n",
            " [0 0 1 1]]\n",
            "[2 3 3 2 2 2 0 2]\n"
          ]
        }
      ],
      "source": [
        "pop_fitness = np.array([onemax(pop[i,:]) for i in range(pop.shape[0])])\n",
        "print(pop)\n",
        "print(pop_fitness)"
      ]
    },
    {
      "cell_type": "code",
      "execution_count": 7,
      "metadata": {
        "id": "KYtI5HO2NNuy"
      },
      "outputs": [],
      "source": [
        "def better_variation(pop, pool_over_pop_size):\n",
        "    def count_one_gene(col):\n",
        "        return np.sum(col)\n",
        "\n",
        "    num_individuals = pop.shape[0]\n",
        "    num_variables = pop.shape[1]\n",
        "\n",
        "    offspring = pop.copy()\n",
        "    for i in range(pool_over_pop_size - 2):\n",
        "        offspring = np.vstack((offspring, pop.copy()))\n",
        "    for i in range(num_variables):\n",
        "        np.random.shuffle(offspring[:,i])\n",
        "\n",
        "    dominant_gene = np.zeros(num_variables, dtype=np.int32)\n",
        "    for i in range(num_variables):\n",
        "        if count_one_gene(pop[:,i]) >= num_individuals / 2.0:\n",
        "            dominant_gene[i] = 1\n",
        "    offspring[0] = dominant_gene\n",
        "    \n",
        "    return offspring"
      ]
    },
    {
      "cell_type": "code",
      "source": [
        "print(len(better_variation(pop,2)))\n",
        "print(len(better_variation(pop,3)))"
      ],
      "metadata": {
        "colab": {
          "base_uri": "https://localhost:8080/"
        },
        "id": "L9Z9us0nh4ff",
        "outputId": "e383a711-f9fe-4e65-b5ce-9d3f11c154e5"
      },
      "execution_count": 8,
      "outputs": [
        {
          "output_type": "stream",
          "name": "stdout",
          "text": [
            "8\n",
            "16\n"
          ]
        }
      ]
    },
    {
      "cell_type": "code",
      "source": [
        "print(pop)\n",
        "better_variation(pop, 2)"
      ],
      "metadata": {
        "colab": {
          "base_uri": "https://localhost:8080/"
        },
        "id": "yImIsExSrySS",
        "outputId": "78221c78-14ac-4b7d-987c-bbaaabe8d58a"
      },
      "execution_count": 9,
      "outputs": [
        {
          "output_type": "stream",
          "name": "stdout",
          "text": [
            "[[1 0 1 0]\n",
            " [1 0 1 1]\n",
            " [1 1 1 0]\n",
            " [0 1 0 1]\n",
            " [1 1 0 0]\n",
            " [0 1 0 1]\n",
            " [0 0 0 0]\n",
            " [0 0 1 1]]\n"
          ]
        },
        {
          "output_type": "execute_result",
          "data": {
            "text/plain": [
              "array([[1, 1, 1, 1],\n",
              "       [1, 0, 1, 0],\n",
              "       [1, 1, 1, 0],\n",
              "       [1, 0, 1, 0],\n",
              "       [1, 1, 0, 1],\n",
              "       [0, 1, 0, 1],\n",
              "       [0, 1, 0, 1],\n",
              "       [0, 0, 1, 0]], dtype=int32)"
            ]
          },
          "metadata": {},
          "execution_count": 9
        }
      ]
    },
    {
      "cell_type": "code",
      "source": [
        "def uniform_crossover(pop, pool_over_pop_size):\n",
        "    num_individuals = pop.shape[0]\n",
        "    num_variables = pop.shape[1]\n",
        "\n",
        "    offspring = pop.copy()\n",
        "    for i in range(pool_over_pop_size - 2):\n",
        "        offspring = np.vstack((offspring, pop.copy()))\n",
        "    np.random.shuffle(offspring)\n",
        "\n",
        "    for ind in range(0, num_individuals - 1, 2):\n",
        "        for gene in range(0, num_variables):\n",
        "            r = np.random.rand()\n",
        "            if r < 0.5:\n",
        "                temp = offspring[ind+1][gene] \n",
        "                offspring[ind+1][gene] = offspring[ind][gene]\n",
        "                offspring[ind][gene] = temp\n",
        "\n",
        "    return offspring"
      ],
      "metadata": {
        "id": "3mM1iTs_nOaB"
      },
      "execution_count": 10,
      "outputs": []
    },
    {
      "cell_type": "code",
      "source": [
        "print(len(uniform_crossover(pop,2)))\n",
        "print(len(uniform_crossover(pop,3)))"
      ],
      "metadata": {
        "colab": {
          "base_uri": "https://localhost:8080/"
        },
        "id": "ZQfl2I_ouGVk",
        "outputId": "75bf2d18-166f-49bf-99ea-ac071412829e"
      },
      "execution_count": 11,
      "outputs": [
        {
          "output_type": "stream",
          "name": "stdout",
          "text": [
            "8\n",
            "16\n"
          ]
        }
      ]
    },
    {
      "cell_type": "code",
      "source": [
        "print(pop)\n",
        "uniform_crossover(pop, 2)"
      ],
      "metadata": {
        "colab": {
          "base_uri": "https://localhost:8080/"
        },
        "id": "SFTP5CTsuHJk",
        "outputId": "46a47bdb-8b5d-4102-86b3-5464ddafeec9"
      },
      "execution_count": 12,
      "outputs": [
        {
          "output_type": "stream",
          "name": "stdout",
          "text": [
            "[[1 0 1 0]\n",
            " [1 0 1 1]\n",
            " [1 1 1 0]\n",
            " [0 1 0 1]\n",
            " [1 1 0 0]\n",
            " [0 1 0 1]\n",
            " [0 0 0 0]\n",
            " [0 0 1 1]]\n"
          ]
        },
        {
          "output_type": "execute_result",
          "data": {
            "text/plain": [
              "array([[1, 0, 1, 0],\n",
              "       [1, 1, 0, 0],\n",
              "       [1, 0, 1, 1],\n",
              "       [0, 1, 0, 1],\n",
              "       [1, 1, 1, 1],\n",
              "       [0, 0, 1, 0],\n",
              "       [0, 1, 0, 1],\n",
              "       [0, 0, 0, 0]], dtype=int32)"
            ]
          },
          "metadata": {},
          "execution_count": 12
        }
      ]
    },
    {
      "cell_type": "code",
      "execution_count": 13,
      "metadata": {
        "id": "s-tug82wvrIV"
      },
      "outputs": [],
      "source": [
        "class POPOP():\n",
        "    def __init__(self, initialization, variation, evaluation, pool_over_pop_size=2, selection_pressure=2):\n",
        "        self.initialization = initialization\n",
        "        self.variation = variation\n",
        "        self.evaluation = evaluation\n",
        "        self.pool_over_pop_size = pool_over_pop_size\n",
        "        self.selection_pressure = selection_pressure\n",
        "\n",
        "    def tournament_selection(self, pool, pool_fitness):\n",
        "        pool_size = pool.shape[0]\n",
        "        group_size = self.pool_over_pop_size * self.selection_pressure\n",
        "        assert pool_size >= group_size and pool_size % group_size == 0\n",
        "\n",
        "        new_pop = []\n",
        "\n",
        "        num_individuals = pool.shape[0]\n",
        "\n",
        "        for i in range(self.selection_pressure):\n",
        "            shuffled_idx = np.random.permutation(num_individuals)\n",
        "            shuffled_pool = pool[shuffled_idx]\n",
        "            shuffled_pool_fitness = pool_fitness[shuffled_idx]\n",
        "\n",
        "            for j in range(0, num_individuals, group_size):\n",
        "                group = shuffled_pool[j:j + group_size]\n",
        "                group_fitness = shuffled_pool_fitness[j:j + group_size]\n",
        "                winner = group[group_fitness.argmax()]\n",
        "                new_pop.append(winner)\n",
        "\n",
        "        new_pop = np.array(new_pop)\n",
        "        return new_pop\n",
        "\n",
        "    def __call__(self, num_individuals, num_variables, num_generations):\n",
        "        pop = self.initialization(num_individuals, num_variables)\n",
        "        pop_fitness = np.array([self.evaluation(ind) for ind in pop])\n",
        "        print('#First Population:')\n",
        "        print(pop)\n",
        "        print(\"#Gen 0:\")\n",
        "        print(pop_fitness)\n",
        "\n",
        "        for i in range(num_generations):\n",
        "            offspring = self.variation(pop, self.pool_over_pop_size)\n",
        "            offspring_fitness = np.array([self.evaluation(ind) for ind in offspring])\n",
        "            pool = np.vstack((pop, offspring))\n",
        "            pool_fitness = np.hstack((pop_fitness, offspring_fitness))\n",
        "            pop = self.tournament_selection(pool, pool_fitness)\n",
        "\n",
        "            pop_fitness = np.array([self.evaluation(ind) for ind in pop])\n",
        "            print(f\"#Gen {i+1}:\")\n",
        "            print(pop_fitness)\n",
        "            if np.all(pop == pop[0]):\n",
        "                print(\"Population converged\")\n",
        "                break\n",
        "\n",
        "        print('#Best Individual:')\n",
        "        print(pop[pop_fitness.argmax()])"
      ]
    },
    {
      "cell_type": "code",
      "source": [
        "genetic_algorithm = POPOP(initialization=initialize_population, variation=uniform_crossover, evaluation=onemax)\n",
        "print(pop)\n",
        "genetic_algorithm.tournament_selection(pop,pop_fitness)"
      ],
      "metadata": {
        "colab": {
          "base_uri": "https://localhost:8080/"
        },
        "id": "CSektWMtuw_b",
        "outputId": "d181e37f-dc23-47fd-f3c6-c517ab6d7890"
      },
      "execution_count": 14,
      "outputs": [
        {
          "output_type": "stream",
          "name": "stdout",
          "text": [
            "[[1 0 1 0]\n",
            " [1 0 1 1]\n",
            " [1 1 1 0]\n",
            " [0 1 0 1]\n",
            " [1 1 0 0]\n",
            " [0 1 0 1]\n",
            " [0 0 0 0]\n",
            " [0 0 1 1]]\n"
          ]
        },
        {
          "output_type": "execute_result",
          "data": {
            "text/plain": [
              "array([[1, 1, 1, 0],\n",
              "       [1, 0, 1, 1],\n",
              "       [1, 0, 1, 1],\n",
              "       [1, 1, 1, 0]], dtype=int32)"
            ]
          },
          "metadata": {},
          "execution_count": 14
        }
      ]
    },
    {
      "cell_type": "code",
      "execution_count": 15,
      "metadata": {
        "colab": {
          "base_uri": "https://localhost:8080/"
        },
        "id": "_M6RxNZxxw8u",
        "outputId": "e281e001-8b69-46c6-cb4c-ee5cb4b0e56c"
      },
      "outputs": [
        {
          "output_type": "stream",
          "name": "stdout",
          "text": [
            "#First Population:\n",
            "[[1 0 1 0 0 1 1 1]\n",
            " [1 0 1 1 0 1 0 1]\n",
            " [1 1 1 0 0 0 1 0]\n",
            " [0 1 0 1 1 0 0 0]\n",
            " [1 1 0 0 1 1 1 1]\n",
            " [0 1 0 1 0 0 0 0]\n",
            " [0 0 0 0 1 0 1 0]\n",
            " [0 0 1 1 1 1 0 1]]\n",
            "#Gen 0:\n",
            "[5 5 4 3 6 2 2 5]\n",
            "#Gen 1:\n",
            "[5 5 6 6 6 6 5 6]\n",
            "#Gen 2:\n",
            "[6 6 7 6 6 6 7 6]\n",
            "#Gen 3:\n",
            "[7 6 6 8 7 6 7 8]\n",
            "#Gen 4:\n",
            "[8 8 7 8 8 8 8 7]\n",
            "#Gen 5:\n",
            "[8 8 8 8 8 8 8 8]\n",
            "Population converged\n",
            "#Best Individual:\n",
            "[1 1 1 1 1 1 1 1]\n"
          ]
        }
      ],
      "source": [
        "np.random.seed(20520864)\n",
        "num_variables = 8\n",
        "num_individuals = 8\n",
        "num_generations = 50\n",
        "genetic_algorithm(num_individuals, num_variables, num_generations)\n",
        "# Converge at 5th generation"
      ]
    },
    {
      "cell_type": "code",
      "source": [
        "np.random.seed(20520864)\n",
        "num_variables = 16\n",
        "num_individuals = 12\n",
        "num_generations = 50\n",
        "genetic_algorithm(num_individuals, num_variables, num_generations)\n",
        "# Converge at 11th generation"
      ],
      "metadata": {
        "colab": {
          "base_uri": "https://localhost:8080/"
        },
        "id": "eE0fWQb0yW9g",
        "outputId": "f57acd0b-77c4-4606-de15-1c7438e5b889"
      },
      "execution_count": 16,
      "outputs": [
        {
          "output_type": "stream",
          "name": "stdout",
          "text": [
            "#First Population:\n",
            "[[0 1 0 1 0 0 1 1 0 0 1 0 0 0 0 0]\n",
            " [1 1 1 1 1 1 0 0 0 1 0 1 0 0 1 0]\n",
            " [1 0 1 0 0 0 1 1 0 1 1 0 1 0 1 0]\n",
            " [1 0 1 1 1 0 1 0 1 1 0 0 1 0 0 1]\n",
            " [0 0 1 0 0 0 1 0 1 0 1 1 1 0 0 0]\n",
            " [1 1 0 1 0 0 0 0 1 0 0 0 0 1 1 1]\n",
            " [1 1 0 0 1 1 0 1 1 1 0 1 0 1 0 1]\n",
            " [0 1 0 1 0 1 0 1 0 0 0 0 1 1 1 1]\n",
            " [0 0 0 0 1 1 0 0 0 1 1 1 0 1 0 1]\n",
            " [0 1 1 1 1 0 0 0 1 0 1 0 1 1 0 0]\n",
            " [0 0 1 0 1 1 1 1 1 1 1 1 1 0 1 1]\n",
            " [1 0 0 0 0 1 1 1 0 0 0 1 0 1 1 0]]\n",
            "#Gen 0:\n",
            "[ 5  9  8  9  6  7 10  8  7  8 12  7]\n",
            "#Gen 1:\n",
            "[11  8 10 10 12  9  9 12 10  8  8 10]\n",
            "#Gen 2:\n",
            "[10 11 12 11 10 12 12 12 11 11 12 11]\n",
            "#Gen 3:\n",
            "[12 12 12 13 12 13 12 12 12 13 12 13]\n",
            "#Gen 4:\n",
            "[13 13 14 13 13 13 14 13 12 13 12 13]\n",
            "#Gen 5:\n",
            "[14 14 13 14 14 14 13 14 14 13 14 14]\n",
            "#Gen 6:\n",
            "[14 14 14 15 14 14 15 15 14 14 14 14]\n",
            "#Gen 7:\n",
            "[15 15 15 15 15 14 15 15 15 15 15 15]\n",
            "#Gen 8:\n",
            "[15 15 15 16 15 16 15 15 16 15 15 15]\n",
            "#Gen 9:\n",
            "[16 16 16 15 16 15 15 16 16 15 16 16]\n",
            "#Gen 10:\n",
            "[16 16 16 16 16 16 16 16 16 15 16 16]\n",
            "#Gen 11:\n",
            "[16 16 16 16 16 16 16 16 16 16 16 16]\n",
            "Population converged\n",
            "#Best Individual:\n",
            "[1 1 1 1 1 1 1 1 1 1 1 1 1 1 1 1]\n"
          ]
        }
      ]
    },
    {
      "cell_type": "code",
      "source": [
        "np.random.seed(20520864)\n",
        "num_variables = 32\n",
        "num_individuals = 20\n",
        "num_generations = 50\n",
        "genetic_algorithm(num_individuals, num_variables, num_generations)\n",
        "# Converge at 14th generation"
      ],
      "metadata": {
        "colab": {
          "base_uri": "https://localhost:8080/"
        },
        "id": "yCEfSRQbyYTI",
        "outputId": "339f5e53-d4ac-432f-d5f6-9c46b0c40234"
      },
      "execution_count": 17,
      "outputs": [
        {
          "output_type": "stream",
          "name": "stdout",
          "text": [
            "#First Population:\n",
            "[[0 1 1 0 1 1 0 0 1 1 1 0 0 1 1 1 1 0 1 0 0 1 0 0 1 1 0 1 1 0 1 1]\n",
            " [1 1 1 0 1 1 1 0 1 0 1 0 0 1 0 0 0 1 1 1 0 0 1 0 1 1 0 1 0 1 0 1]\n",
            " [0 0 0 1 1 1 1 0 1 1 1 1 0 1 1 1 0 1 0 1 1 1 0 1 0 1 0 1 0 0 1 0]\n",
            " [1 0 0 1 1 0 0 1 0 1 0 0 0 0 1 1 0 0 0 0 0 0 0 1 1 0 0 1 0 1 1 0]\n",
            " [1 1 1 0 0 0 1 1 0 1 0 1 1 1 0 1 1 0 1 0 1 0 0 0 0 1 1 0 1 1 1 0]\n",
            " [0 1 1 1 1 0 1 0 0 0 1 0 1 1 0 1 1 1 0 1 1 1 1 0 1 1 0 1 1 1 0 1]\n",
            " [1 0 1 1 1 0 1 1 1 1 0 1 1 0 1 0 1 0 0 0 0 0 1 1 1 0 0 1 0 0 1 1]\n",
            " [0 0 0 1 1 0 0 1 0 1 0 0 1 0 0 0 1 0 0 1 0 1 1 0 1 0 1 0 0 1 0 0]\n",
            " [0 0 0 0 0 1 0 0 1 1 0 1 1 1 1 0 0 0 1 1 0 1 0 0 0 1 1 0 0 0 1 1]\n",
            " [1 0 1 0 0 0 0 1 0 0 1 1 0 0 1 1 0 1 0 1 0 1 0 1 1 0 1 0 0 0 1 0]\n",
            " [0 1 1 0 0 1 0 0 0 0 1 0 1 1 0 0 0 1 0 1 1 0 1 0 1 0 1 1 1 1 0 1]\n",
            " [1 0 0 1 0 0 0 0 0 0 0 1 1 0 0 0 0 1 0 0 1 0 1 1 0 0 0 0 0 0 0 0]\n",
            " [1 1 1 0 0 1 1 1 1 0 1 0 1 0 0 0 0 0 1 0 0 0 1 1 1 0 1 0 1 0 0 1]\n",
            " [1 1 0 1 1 1 1 1 1 1 0 1 0 1 1 1 1 0 1 0 0 0 0 0 0 1 0 0 1 0 1 1]\n",
            " [1 1 0 0 1 1 0 0 0 0 1 0 0 1 1 0 0 0 0 0 1 0 1 1 0 1 1 1 1 1 0 0]\n",
            " [0 0 0 1 0 0 1 1 1 0 0 1 0 0 0 1 1 1 1 0 1 1 1 1 1 1 0 0 1 1 1 0]\n",
            " [1 0 0 0 0 1 1 0 0 0 1 0 1 0 0 1 1 1 1 0 0 0 1 1 0 1 1 1 1 0 0 1]\n",
            " [0 1 1 1 0 0 0 1 1 1 1 1 0 0 1 0 0 1 1 1 1 1 0 0 0 0 1 0 1 0 0 1]\n",
            " [0 0 1 0 0 1 0 1 1 1 0 1 0 0 1 0 1 0 1 1 1 1 0 0 0 0 1 0 0 1 0 0]\n",
            " [0 1 0 1 1 0 1 0 0 0 0 0 1 1 0 1 1 1 0 1 1 1 0 1 0 0 0 1 0 1 1 0]]\n",
            "#Gen 0:\n",
            "[19 18 19 12 18 21 18 12 14 14 16  8 16 19 15 18 16 17 14 16]\n",
            "#Gen 1:\n",
            "[19 20 21 19 15 18 18 19 19 17 18 17 18 19 19 19 16 18 18 21]\n",
            "#Gen 2:\n",
            "[19 20 19 19 19 25 23 19 20 21 19 19 21 21 19 25 20 19 19 20]\n",
            "#Gen 3:\n",
            "[25 23 21 21 25 21 20 21 21 25 25 25 25 21 21 23 21 21 21 25]\n",
            "#Gen 4:\n",
            "[26 23 25 25 25 25 24 25 25 25 24 26 23 25 25 25 25 25 24 25]\n",
            "#Gen 5:\n",
            "[26 26 26 26 25 25 28 25 25 26 26 25 26 28 25 26 26 26 26 25]\n",
            "#Gen 6:\n",
            "[27 26 28 26 27 26 28 27 27 28 28 27 27 27 27 26 28 27 28 26]\n",
            "#Gen 7:\n",
            "[27 29 28 28 27 28 27 28 28 28 28 29 28 27 28 28 28 28 28 27]\n",
            "#Gen 8:\n",
            "[28 30 28 28 28 28 30 29 28 29 30 28 29 28 29 28 28 29 28 30]\n",
            "#Gen 9:\n",
            "[30 30 29 30 30 28 29 29 30 30 30 29 30 30 30 28 30 29 30 29]\n",
            "#Gen 10:\n",
            "[30 30 30 31 31 30 30 29 30 30 31 30 30 30 31 30 30 30 30 30]\n",
            "#Gen 11:\n",
            "[31 31 30 31 31 31 31 31 31 30 31 30 31 31 31 31 31 30 30 31]\n",
            "#Gen 12:\n",
            "[31 31 31 31 31 31 31 31 32 31 31 31 31 31 31 31 31 31 31 32]\n",
            "#Gen 13:\n",
            "[32 32 32 32 32 31 31 31 32 32 31 31 32 31 32 31 31 32 31 32]\n",
            "#Gen 14:\n",
            "[32 32 32 32 32 32 32 32 32 32 32 32 32 32 32 32 32 32 32 32]\n",
            "Population converged\n",
            "#Best Individual:\n",
            "[1 1 1 1 1 1 1 1 1 1 1 1 1 1 1 1 1 1 1 1 1 1 1 1 1 1 1 1 1 1 1 1]\n"
          ]
        }
      ]
    },
    {
      "cell_type": "code",
      "source": [
        "np.random.seed(20520864)\n",
        "num_variables = 64\n",
        "num_individuals = 38\n",
        "num_generations = 50\n",
        "genetic_algorithm(num_individuals, num_variables, num_generations)\n",
        "# Converge at 17th generation"
      ],
      "metadata": {
        "colab": {
          "base_uri": "https://localhost:8080/"
        },
        "id": "PnuUyJbPyY_s",
        "outputId": "18855725-458a-40e0-ee0e-0563bd414f3b"
      },
      "execution_count": 18,
      "outputs": [
        {
          "output_type": "stream",
          "name": "stdout",
          "text": [
            "#First Population:\n",
            "[[0 0 0 ... 1 1 1]\n",
            " [1 1 0 ... 1 1 0]\n",
            " [0 1 0 ... 1 1 1]\n",
            " ...\n",
            " [1 0 1 ... 1 0 1]\n",
            " [0 1 0 ... 1 1 1]\n",
            " [1 1 1 ... 0 1 0]]\n",
            "#Gen 0:\n",
            "[27 32 26 27 37 25 32 38 28 31 24 33 28 31 32 34 35 34 35 36 31 33 23 38\n",
            " 37 29 28 34 29 32 39 34 34 36 34 32 38 30]\n",
            "#Gen 1:\n",
            "[36 34 34 38 35 34 38 36 39 38 36 35 34 37 39 41 34 34 38 35 31 39 37 35\n",
            " 38 35 36 34 36 38 39 37 41 34 37 38 35 36]\n",
            "#Gen 2:\n",
            "[38 39 42 41 47 38 38 38 43 38 38 37 36 40 40 37 38 39 38 38 40 38 37 39\n",
            " 38 38 42 38 47 37 43 37 38 37 39 41 39 39]\n",
            "#Gen 3:\n",
            "[44 46 42 43 40 43 41 44 43 44 40 47 39 42 47 39 45 38 41 39 45 41 47 42\n",
            " 38 44 43 39 40 41 39 41 41 42 43 47 44 42]\n",
            "#Gen 4:\n",
            "[42 45 44 47 44 47 47 46 44 44 42 43 44 46 46 47 47 47 45 42 45 43 46 47\n",
            " 43 47 46 46 42 47 47 46 44 44 45 45 47 40]\n",
            "#Gen 5:\n",
            "[47 48 46 47 46 50 47 48 46 47 50 46 47 44 47 50 49 47 46 47 47 46 47 47\n",
            " 47 47 50 50 47 45 47 48 47 47 47 49 45 50]\n",
            "#Gen 6:\n",
            "[48 48 48 50 47 49 52 53 54 48 50 53 47 47 50 47 47 47 53 50 51 49 47 47\n",
            " 50 54 48 47 50 53 53 51 48 50 53 47 50 48]\n",
            "#Gen 7:\n",
            "[56 51 53 53 50 50 54 53 53 50 53 55 51 53 51 51 48 54 50 53 50 55 54 51\n",
            " 51 50 51 51 53 54 51 56 54 53 54 50 50 52]\n",
            "#Gen 8:\n",
            "[53 55 53 53 57 55 56 56 54 55 54 53 53 54 57 53 56 54 54 53 56 53 55 55\n",
            " 54 57 54 57 54 53 54 54 56 54 56 52 54 54]\n",
            "#Gen 9:\n",
            "[57 56 57 58 56 57 55 55 57 55 56 56 56 56 57 56 57 57 56 57 58 56 56 55\n",
            " 57 56 54 57 57 56 56 57 56 56 55 55 56 56]\n",
            "#Gen 10:\n",
            "[57 58 56 57 57 57 56 58 57 57 58 56 58 58 59 58 58 58 58 57 58 56 58 57\n",
            " 58 57 56 56 58 57 58 57 58 56 59 57 56 57]\n",
            "#Gen 11:\n",
            "[58 58 59 58 59 59 58 58 58 59 59 59 62 58 58 58 60 58 58 59 59 60 58 58\n",
            " 59 58 62 57 58 58 59 57 59 58 58 58 58 59]\n",
            "#Gen 12:\n",
            "[59 59 58 61 62 58 59 59 58 60 60 61 60 61 61 59 61 62 60 60 61 61 60 60\n",
            " 61 60 60 61 62 58 62 59 61 59 59 59 61 59]\n",
            "#Gen 13:\n",
            "[62 62 62 62 62 60 60 62 61 61 59 61 62 62 61 61 61 62 61 62 60 60 59 62\n",
            " 61 62 62 62 61 61 62 61 62 62 62 62 61 62]\n",
            "#Gen 14:\n",
            "[62 63 62 62 62 62 63 63 62 63 62 62 63 62 62 63 62 62 63 63 62 63 62 62\n",
            " 63 63 63 62 62 62 63 62 62 62 63 62 61 62]\n",
            "#Gen 15:\n",
            "[63 63 63 63 63 63 63 64 63 64 63 63 63 63 63 62 63 63 62 63 63 63 63 63\n",
            " 63 63 63 63 64 63 63 63 64 63 62 63 63 63]\n",
            "#Gen 16:\n",
            "[63 64 63 64 64 63 64 64 64 64 64 63 63 64 63 64 64 64 63 64 63 64 63 63\n",
            " 64 64 64 64 64 63 64 63 64 63 63 64 64 63]\n",
            "#Gen 17:\n",
            "[64 64 64 64 64 64 64 64 64 64 64 64 64 64 64 64 64 64 64 64 64 64 64 64\n",
            " 64 64 64 64 64 64 64 64 64 64 64 64 64 64]\n",
            "Population converged\n",
            "#Best Individual:\n",
            "[1 1 1 1 1 1 1 1 1 1 1 1 1 1 1 1 1 1 1 1 1 1 1 1 1 1 1 1 1 1 1 1 1 1 1 1 1\n",
            " 1 1 1 1 1 1 1 1 1 1 1 1 1 1 1 1 1 1 1 1 1 1 1 1 1 1 1]\n"
          ]
        }
      ]
    },
    {
      "cell_type": "code",
      "source": [
        "np.random.seed(20520864)\n",
        "num_variables = 128\n",
        "num_individuals = 50\n",
        "num_generations = 50\n",
        "genetic_algorithm(num_individuals, num_variables, num_generations)\n",
        "# Converge at 27th generation"
      ],
      "metadata": {
        "colab": {
          "base_uri": "https://localhost:8080/"
        },
        "id": "vx0nzCfmyZvX",
        "outputId": "afbb492c-5922-411f-c8ba-b997a310b340"
      },
      "execution_count": 19,
      "outputs": [
        {
          "output_type": "stream",
          "name": "stdout",
          "text": [
            "#First Population:\n",
            "[[0 0 1 ... 0 1 0]\n",
            " [0 1 0 ... 0 0 0]\n",
            " [1 0 0 ... 0 0 1]\n",
            " ...\n",
            " [1 0 0 ... 1 0 0]\n",
            " [0 0 1 ... 1 0 0]\n",
            " [1 1 0 ... 1 1 0]]\n",
            "#Gen 0:\n",
            "[66 55 61 63 62 69 58 65 63 51 65 53 67 64 56 71 56 59 66 59 60 70 59 59\n",
            " 62 60 63 71 69 73 70 65 57 64 71 70 69 66 65 68 51 63 68 60 71 66 70 69\n",
            " 72 70]\n",
            "#Gen 1:\n",
            "[67 67 66 71 70 70 65 71 73 66 65 72 70 69 71 69 64 70 70 69 72 71 69 71\n",
            " 72 65 73 72 70 71 70 67 71 71 69 66 70 66 72 69 70 67 71 70 66 72 71 71\n",
            " 69 66]\n",
            "#Gen 2:\n",
            "[72 76 77 71 72 72 73 77 72 69 74 69 79 71 77 71 74 71 74 72 73 70 71 76\n",
            " 70 70 71 71 73 72 74 72 76 72 67 73 79 76 72 70 69 72 76 69 70 72 74 72\n",
            " 73 77]\n",
            "#Gen 3:\n",
            "[79 72 79 74 72 77 79 76 74 77 77 82 79 76 76 80 75 77 80 76 74 74 73 75\n",
            " 73 77 79 76 76 77 77 74 75 74 80 79 82 77 79 79 74 77 80 76 76 74 79 74\n",
            " 71 76]\n",
            "#Gen 4:\n",
            "[78 76 76 79 88 81 76 81 81 80 80 79 82 82 82 79 81 83 79 79 80 83 80 79\n",
            " 76 81 80 82 78 77 77 79 80 76 75 83 80 81 82 81 79 83 77 79 82 79 88 77\n",
            " 79 82]\n",
            "#Gen 5:\n",
            "[83 84 81 83 83 87 88 82 80 81 82 84 83 84 88 85 84 88 82 81 82 83 82 82\n",
            " 88 80 85 81 79 83 88 82 81 88 88 83 82 82 84 83 84 83 83 83 82 88 87 81\n",
            " 84 81]\n",
            "#Gen 6:\n",
            "[85 82 88 84 88 84 88 84 83 83 88 88 86 87 87 81 88 87 88 91 83 88 88 86\n",
            " 83 88 88 87 88 83 85 86 87 86 83 84 88 88 88 85 84 84 83 91 88 88 87 84\n",
            " 88 87]\n",
            "#Gen 7:\n",
            "[91 93 88 91 92 88 90 88 93 88 88 88 87 91 88 91 86 88 89 88 89 88 90 88\n",
            " 86 88 88 93 88 91 90 89 88 87 88 88 90 88 91 92 87 91 90 93 91 87 87 88\n",
            " 88 91]\n",
            "#Gen 8:\n",
            "[89 92 93 94 92 96 88 90 93 92 92 95 92 95 93 91 92 89 89 91 94 91 93 93\n",
            " 91 91 91 92 91 90 93 91 90 96 93 89 91 92 89 93 95 94 89 93 94 92 93 91\n",
            " 95 89]\n",
            "#Gen 9:\n",
            "[ 95 100  93  95  92  91  94  98  95  97  95  93  95  94  98  92  96  95\n",
            "  96  94  96  93  93  94  92  94  94  93  94  98  95  95  95  93  92  92\n",
            "  96  93  97  93  96  98  93  92  95  94  94  93 100  96]\n",
            "#Gen 10:\n",
            "[ 98  95  97  96  96 100  98 101  97  94 100 101  96  95  96  97  98  96\n",
            "  97  95  96  98  99  95  95  98  98  96  98  97  96  95  97  97  96 101\n",
            "  96  96  96  98  99 100  94  94  96 101 100 100 100  97]\n",
            "#Gen 11:\n",
            "[ 99 103 101  99 100  97 100  98 100 101  99 101  99 103  99 100 101 101\n",
            "  99  98 102  98 103  99  99 100 100 101 103  98 100  96  98 100 103  96\n",
            " 101  99 103  98 101 101  99 101 102  98  99 101 101 100]\n",
            "#Gen 12:\n",
            "[105 103 107 103 102 103 101 102 104 100 102 101 101  99 102 105 104 103\n",
            " 101 103 102 102 101 103 103 105 103 102 105  99 102 102 103 103 102 102\n",
            " 100 101 104 103 102 101 103 104 103 103 101 101 107 102]\n",
            "#Gen 13:\n",
            "[105 107 105 106 104 103 104 109 106 104 107 103 103 105 103 105 104 106\n",
            " 108 105 103 108 105 103 104 103 103 105 104 106 103 102 105 107 103 108\n",
            " 104 104 103 106 103 105 104 106 109 108 103 103 108 107]\n",
            "#Gen 14:\n",
            "[109 107 105 113 106 108 110 110 108 111 108 106 109 104 109 111 106 105\n",
            " 108 105 106 108 110 107 107 106 111 106 109 107 104 106 108 110 109 106\n",
            " 111 104 106 108 106 108 107 105 113 108 110 110 108 107]\n",
            "#Gen 15:\n",
            "[110 114 114 108 114 110 110 113 113 110 109 108 109 111 112 111 110 111\n",
            " 113 112 114 109 111 112 110 114 108 111 110 112 109 111 109 111 111 112\n",
            " 110 113 114 112 114 113 110 106 110 110 110 108 113 108]\n",
            "#Gen 16:\n",
            "[112 114 114 112 112 113 112 113 111 113 114 113 114 114 111 117 113 114\n",
            " 115 112 114 115 114 114 114 115 112 112 112 114 113 114 115 114 113 114\n",
            " 114 113 113 113 114 113 114 113 110 117 114 112 113 114]\n",
            "#Gen 17:\n",
            "[114 115 116 117 114 115 115 114 119 114 117 117 114 114 114 116 113 114\n",
            " 114 114 116 116 113 116 113 115 116 117 116 114 114 114 114 116 116 115\n",
            " 116 115 115 119 114 115 117 115 114 114 115 117 114 114]\n",
            "#Gen 18:\n",
            "[119 117 117 116 118 117 115 119 116 118 114 119 119 117 117 118 117 117\n",
            " 117 117 117 117 118 117 117 116 117 119 118 118 115 117 115 115 117 118\n",
            " 119 117 119 117 117 118 117 118 115 115 115 118 117 117]\n",
            "#Gen 19:\n",
            "[123 117 119 118 118 119 118 119 120 119 119 120 119 121 120 117 119 118\n",
            " 119 123 115 118 119 119 120 117 117 119 120 119 123 118 119 123 119 117\n",
            " 117 120 122 118 119 121 119 117 118 118 119 118 118 119]\n",
            "#Gen 20:\n",
            "[122 123 123 121 121 123 122 119 123 120 124 123 121 122 120 119 121 120\n",
            " 122 120 120 121 121 119 119 121 120 119 123 119 119 124 123 118 122 123\n",
            " 121 120 123 119 122 123 123 120 122 119 120 121 119 121]\n",
            "#Gen 21:\n",
            "[124 120 124 124 123 123 121 124 124 123 123 122 121 121 122 121 126 123\n",
            " 123 122 123 123 122 123 123 121 122 122 121 123 123 120 123 124 123 123\n",
            " 123 123 123 124 123 121 126 123 124 124 123 124 121 122]\n",
            "#Gen 22:\n",
            "[123 126 124 124 125 123 124 124 124 124 123 124 123 124 125 125 124 123\n",
            " 125 124 126 123 123 124 124 124 125 124 124 123 124 125 123 126 123 125\n",
            " 123 123 126 124 124 124 124 123 123 124 124 125 124 123]\n",
            "#Gen 23:\n",
            "[126 124 125 127 125 124 126 126 125 124 125 126 126 124 125 124 126 126\n",
            " 125 126 126 125 125 124 124 125 124 124 124 124 126 125 125 126 124 124\n",
            " 125 126 126 124 124 126 126 125 125 127 125 124 124 124]\n",
            "#Gen 24:\n",
            "[126 126 126 125 127 126 127 128 126 126 126 127 127 125 125 126 125 126\n",
            " 126 126 126 126 126 126 126 126 126 126 126 127 128 126 126 126 127 126\n",
            " 126 125 126 127 126 125 127 126 126 125 126 126 127 125]\n",
            "#Gen 25:\n",
            "[128 128 126 127 127 127 128 127 128 127 128 127 126 128 128 127 127 127\n",
            " 126 127 127 127 127 127 126 126 127 126 128 127 128 126 126 128 128 127\n",
            " 127 128 127 127 127 127 127 128 126 127 127 127 126 128]\n",
            "#Gen 26:\n",
            "[128 127 128 128 128 128 128 127 127 128 128 128 128 128 128 128 127 128\n",
            " 128 128 128 127 127 128 128 128 128 127 127 128 128 127 128 128 128 128\n",
            " 128 127 128 128 128 127 128 128 128 127 128 128 128 128]\n",
            "#Gen 27:\n",
            "[128 128 128 128 128 128 128 128 128 128 128 128 128 128 128 128 128 128\n",
            " 128 128 128 128 128 128 128 128 128 128 128 128 128 128 128 128 128 128\n",
            " 128 128 128 128 128 128 128 128 128 128 128 128 128 128]\n",
            "Population converged\n",
            "#Best Individual:\n",
            "[1 1 1 1 1 1 1 1 1 1 1 1 1 1 1 1 1 1 1 1 1 1 1 1 1 1 1 1 1 1 1 1 1 1 1 1 1\n",
            " 1 1 1 1 1 1 1 1 1 1 1 1 1 1 1 1 1 1 1 1 1 1 1 1 1 1 1 1 1 1 1 1 1 1 1 1 1\n",
            " 1 1 1 1 1 1 1 1 1 1 1 1 1 1 1 1 1 1 1 1 1 1 1 1 1 1 1 1 1 1 1 1 1 1 1 1 1\n",
            " 1 1 1 1 1 1 1 1 1 1 1 1 1 1 1 1 1]\n"
          ]
        }
      ]
    },
    {
      "cell_type": "code",
      "source": [
        "np.random.seed(20520864)\n",
        "num_variables = 128\n",
        "num_individuals = 2\n",
        "num_generations = 50\n",
        "better_algorithm = POPOP(initialization=initialize_population, variation=better_variation, evaluation=onemax)\n",
        "better_algorithm(num_individuals, num_variables, num_generations)\n",
        "# Converge at 1th generation"
      ],
      "metadata": {
        "colab": {
          "base_uri": "https://localhost:8080/"
        },
        "id": "H0tfMR8f54AW",
        "outputId": "ba9a211c-2b74-481a-865f-4f8710f7ed8e"
      },
      "execution_count": 20,
      "outputs": [
        {
          "output_type": "stream",
          "name": "stdout",
          "text": [
            "#First Population:\n",
            "[[1 0 1 1 0 0 1 1 1 1 1 0 1 1 1 0 0 0 1 1 0 1 1 1 0 0 0 0 1 1 1 0 0 0 0 1\n",
            "  1 1 0 0 0 0 0 0 0 0 0 1 1 1 1 1 1 0 0 0 0 1 1 1 1 0 0 1 0 0 0 0 1 1 1 1\n",
            "  1 0 1 0 1 1 1 1 0 1 0 1 0 0 1 1 0 0 1 1 1 0 0 0 0 0 0 0 1 1 0 1 1 1 1 1\n",
            "  0 0 0 1 1 0 0 0 1 1 1 1 0 1 0 1 0 1 1 0]\n",
            " [0 1 0 0 1 1 0 0 0 0 0 1 0 0 0 1 1 1 0 0 1 0 0 0 1 1 1 1 0 0 0 1 1 1 1 0\n",
            "  0 0 1 1 1 1 1 1 1 1 1 0 0 0 0 0 0 1 1 1 1 0 0 0 0 1 1 0 1 1 1 1 0 0 0 0\n",
            "  0 1 0 1 0 0 0 0 1 0 1 0 1 1 0 0 1 1 0 0 0 1 1 1 1 1 1 1 0 0 1 0 0 0 0 0\n",
            "  1 1 1 0 0 1 1 1 0 0 0 0 1 0 1 0 1 0 0 1]]\n",
            "#Gen 0:\n",
            "[67 61]\n",
            "#Gen 1:\n",
            "[128 128]\n",
            "Population converged\n",
            "#Best Individual:\n",
            "[1 1 1 1 1 1 1 1 1 1 1 1 1 1 1 1 1 1 1 1 1 1 1 1 1 1 1 1 1 1 1 1 1 1 1 1 1\n",
            " 1 1 1 1 1 1 1 1 1 1 1 1 1 1 1 1 1 1 1 1 1 1 1 1 1 1 1 1 1 1 1 1 1 1 1 1 1\n",
            " 1 1 1 1 1 1 1 1 1 1 1 1 1 1 1 1 1 1 1 1 1 1 1 1 1 1 1 1 1 1 1 1 1 1 1 1 1\n",
            " 1 1 1 1 1 1 1 1 1 1 1 1 1 1 1 1 1]\n"
          ]
        }
      ]
    },
    {
      "cell_type": "code",
      "source": [
        "### Nhận xét ###\n",
        "# Em dò tay ra kích thước quần thể nhỏ nhất đảm bảo hội tụ ra lời giải tối ưu trong vòng 50 thế hệ.\n",
        "# Nhưng cả kích thước quần thể và số thế hệ đều lớn.\n",
        "# Kết luận: Phép biến đổi của genetic algorithm quá kém hiệu quả"
      ],
      "metadata": {
        "id": "xShUr4TCBUod"
      },
      "execution_count": null,
      "outputs": []
    }
  ],
  "metadata": {
    "anaconda-cloud": {},
    "colab": {
      "provenance": [],
      "collapsed_sections": []
    },
    "kernelspec": {
      "display_name": "Python 3",
      "name": "python3"
    },
    "language_info": {
      "name": "python"
    }
  },
  "nbformat": 4,
  "nbformat_minor": 0
}