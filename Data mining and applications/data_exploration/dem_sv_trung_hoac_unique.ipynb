{
 "cells": [
  {
   "cell_type": "code",
   "execution_count": 6,
   "metadata": {},
   "outputs": [],
   "source": [
    "import pandas as pd\n",
    "import os"
   ]
  },
  {
   "cell_type": "code",
   "execution_count": 11,
   "metadata": {},
   "outputs": [
    {
     "data": {
      "text/plain": [
       "['1.sinhvien.xlsx',\n",
       " '2.diem.xlsx',\n",
       " '3.sinhvien_chungchi.xlsx',\n",
       " '4.xeploaiav.xlsx',\n",
       " '5.Thisinh.xlsx',\n",
       " '6.giayxacnhan.xlsx',\n",
       " '8.XLHV.xlsx',\n",
       " '10.diemrl.xlsx',\n",
       " 'Data_Preprocessing_2.ipynb',\n",
       " 'Data_Preprocessing (1).ipynb',\n",
       " 'desktop.ini']"
      ]
     },
     "execution_count": 11,
     "metadata": {},
     "output_type": "execute_result"
    }
   ],
   "source": [
    "os.listdir(\"../Dat_Clean_data\")"
   ]
  },
  {
   "cell_type": "code",
   "execution_count": 12,
   "metadata": {},
   "outputs": [],
   "source": [
    "df_xlhv = pd.read_excel(\"../Dat_Clean_data/8.XLHV.xlsx\")\n",
    "df_sv = pd.read_excel(\"../Dat_Clean_data/1.sinhvien.xlsx\")"
   ]
  },
  {
   "cell_type": "code",
   "execution_count": 16,
   "metadata": {},
   "outputs": [
    {
     "data": {
      "text/plain": [
       "mssv\n",
       "40.0    3445\n",
       "Name: count, dtype: int64"
      ]
     },
     "execution_count": 16,
     "metadata": {},
     "output_type": "execute_result"
    }
   ],
   "source": [
    "df_xlhv.mssv.str.len().value_counts()"
   ]
  },
  {
   "cell_type": "code",
   "execution_count": 17,
   "metadata": {},
   "outputs": [
    {
     "data": {
      "text/plain": [
       "mssv\n",
       "40    8295\n",
       "Name: count, dtype: int64"
      ]
     },
     "execution_count": 17,
     "metadata": {},
     "output_type": "execute_result"
    }
   ],
   "source": [
    "df_sv.mssv.str.len().value_counts()"
   ]
  },
  {
   "cell_type": "code",
   "execution_count": 18,
   "metadata": {},
   "outputs": [
    {
     "data": {
      "text/plain": [
       "array(['98247E19XPvAibaEXe93PEySAJOVkxsz+HIviyYJ',\n",
       "       '52B1CC2DXPvAibaEXe+kwIr/VXjl0w+FyuW1abQ7',\n",
       "       '5666EAF4XPvAibaEXe+Z7KfNHYLttJaLI+SH+DpO', ...,\n",
       "       '9B23F85CXPvAibaEXe/QqI5At3DBgidRMGrBbipk',\n",
       "       '33B4B1F5XPvAibaEXe+4XPPXlKRz0EV4ZG7086cL',\n",
       "       '7ACF3993XPvAibaEXe9p78qxnH96y309RWXe+E33'], dtype=object)"
      ]
     },
     "execution_count": 18,
     "metadata": {},
     "output_type": "execute_result"
    }
   ],
   "source": [
    "df_xlhv.mssv.unique()"
   ]
  },
  {
   "cell_type": "code",
   "execution_count": 24,
   "metadata": {},
   "outputs": [
    {
     "data": {
      "text/html": [
       "<div>\n",
       "<style scoped>\n",
       "    .dataframe tbody tr th:only-of-type {\n",
       "        vertical-align: middle;\n",
       "    }\n",
       "\n",
       "    .dataframe tbody tr th {\n",
       "        vertical-align: top;\n",
       "    }\n",
       "\n",
       "    .dataframe thead th {\n",
       "        text-align: right;\n",
       "    }\n",
       "</style>\n",
       "<table border=\"1\" class=\"dataframe\">\n",
       "  <thead>\n",
       "    <tr style=\"text-align: right;\">\n",
       "      <th></th>\n",
       "      <th>mssv</th>\n",
       "    </tr>\n",
       "  </thead>\n",
       "  <tbody>\n",
       "    <tr>\n",
       "      <th>0</th>\n",
       "      <td>98247E19XPvAibaEXe93PEySAJOVkxsz+HIviyYJ</td>\n",
       "    </tr>\n",
       "    <tr>\n",
       "      <th>1</th>\n",
       "      <td>52B1CC2DXPvAibaEXe+kwIr/VXjl0w+FyuW1abQ7</td>\n",
       "    </tr>\n",
       "    <tr>\n",
       "      <th>2</th>\n",
       "      <td>5666EAF4XPvAibaEXe+Z7KfNHYLttJaLI+SH+DpO</td>\n",
       "    </tr>\n",
       "    <tr>\n",
       "      <th>3</th>\n",
       "      <td>682C32E0XPvAibaEXe/Bn5cQSu92WX0DcIKdud8D</td>\n",
       "    </tr>\n",
       "    <tr>\n",
       "      <th>4</th>\n",
       "      <td>7901D3A9XPvAibaEXe+6MN9FoW2mqYEmruXXBNsS</td>\n",
       "    </tr>\n",
       "    <tr>\n",
       "      <th>...</th>\n",
       "      <td>...</td>\n",
       "    </tr>\n",
       "    <tr>\n",
       "      <th>3447</th>\n",
       "      <td>9B23F85CXPvAibaEXe/QqI5At3DBgidRMGrBbipk</td>\n",
       "    </tr>\n",
       "    <tr>\n",
       "      <th>3448</th>\n",
       "      <td>33B4B1F5XPvAibaEXe+4XPPXlKRz0EV4ZG7086cL</td>\n",
       "    </tr>\n",
       "    <tr>\n",
       "      <th>3449</th>\n",
       "      <td>7ACF3993XPvAibaEXe9p78qxnH96y309RWXe+E33</td>\n",
       "    </tr>\n",
       "    <tr>\n",
       "      <th>3450</th>\n",
       "      <td>7BEDC07CXPvAibaEXe9KWpGOh3zHl5qOD67ZCwQD</td>\n",
       "    </tr>\n",
       "    <tr>\n",
       "      <th>3451</th>\n",
       "      <td>0DD35B47XPvAibaEXe80b1fr0fH/JjIAGw7YBF/0</td>\n",
       "    </tr>\n",
       "  </tbody>\n",
       "</table>\n",
       "<p>3452 rows × 1 columns</p>\n",
       "</div>"
      ],
      "text/plain": [
       "                                          mssv\n",
       "0     98247E19XPvAibaEXe93PEySAJOVkxsz+HIviyYJ\n",
       "1     52B1CC2DXPvAibaEXe+kwIr/VXjl0w+FyuW1abQ7\n",
       "2     5666EAF4XPvAibaEXe+Z7KfNHYLttJaLI+SH+DpO\n",
       "3     682C32E0XPvAibaEXe/Bn5cQSu92WX0DcIKdud8D\n",
       "4     7901D3A9XPvAibaEXe+6MN9FoW2mqYEmruXXBNsS\n",
       "...                                        ...\n",
       "3447  9B23F85CXPvAibaEXe/QqI5At3DBgidRMGrBbipk\n",
       "3448  33B4B1F5XPvAibaEXe+4XPPXlKRz0EV4ZG7086cL\n",
       "3449  7ACF3993XPvAibaEXe9p78qxnH96y309RWXe+E33\n",
       "3450  7BEDC07CXPvAibaEXe9KWpGOh3zHl5qOD67ZCwQD\n",
       "3451  0DD35B47XPvAibaEXe80b1fr0fH/JjIAGw7YBF/0\n",
       "\n",
       "[3452 rows x 1 columns]"
      ]
     },
     "execution_count": 24,
     "metadata": {},
     "output_type": "execute_result"
    }
   ],
   "source": [
    "mssv_xlhv = df_xlhv.mssv.reset_index(name=\"mssv\").drop('index', axis=1)\n",
    "mssv_xlhv"
   ]
  },
  {
   "cell_type": "code",
   "execution_count": 30,
   "metadata": {},
   "outputs": [],
   "source": [
    "index = mssv_xlhv[mssv_xlhv.duplicated()].index\n",
    "mssv_xlhv.drop(index=index, inplace=True)"
   ]
  },
  {
   "cell_type": "code",
   "execution_count": 25,
   "metadata": {},
   "outputs": [
    {
     "data": {
      "text/html": [
       "<div>\n",
       "<style scoped>\n",
       "    .dataframe tbody tr th:only-of-type {\n",
       "        vertical-align: middle;\n",
       "    }\n",
       "\n",
       "    .dataframe tbody tr th {\n",
       "        vertical-align: top;\n",
       "    }\n",
       "\n",
       "    .dataframe thead th {\n",
       "        text-align: right;\n",
       "    }\n",
       "</style>\n",
       "<table border=\"1\" class=\"dataframe\">\n",
       "  <thead>\n",
       "    <tr style=\"text-align: right;\">\n",
       "      <th></th>\n",
       "      <th>mssv</th>\n",
       "    </tr>\n",
       "  </thead>\n",
       "  <tbody>\n",
       "    <tr>\n",
       "      <th>0</th>\n",
       "      <td>BE375BAAXPvAibaEXe9JDlHA4z2GHJ3/PVStCxR2</td>\n",
       "    </tr>\n",
       "    <tr>\n",
       "      <th>1</th>\n",
       "      <td>2420ED57XPvAibaEXe/Lh6v1XxTKJa6JLFRUPkLM</td>\n",
       "    </tr>\n",
       "    <tr>\n",
       "      <th>2</th>\n",
       "      <td>83B76C01XPvAibaEXe/lOccskaOiO2K46r7t4qnt</td>\n",
       "    </tr>\n",
       "    <tr>\n",
       "      <th>3</th>\n",
       "      <td>91F785ABXPvAibaEXe/lOccskaOiO5y4GbVvuRQu</td>\n",
       "    </tr>\n",
       "    <tr>\n",
       "      <th>4</th>\n",
       "      <td>007C275DXPvAibaEXe+TFgEDwYNnveOOmOYeYzF6</td>\n",
       "    </tr>\n",
       "    <tr>\n",
       "      <th>...</th>\n",
       "      <td>...</td>\n",
       "    </tr>\n",
       "    <tr>\n",
       "      <th>8290</th>\n",
       "      <td>7D7633B0XPvAibaEXe95IhrkYSGfcCQVGm4nFGyt</td>\n",
       "    </tr>\n",
       "    <tr>\n",
       "      <th>8291</th>\n",
       "      <td>AB431338XPvAibaEXe8xMCTZ03/BexWzDCyWVsT3</td>\n",
       "    </tr>\n",
       "    <tr>\n",
       "      <th>8292</th>\n",
       "      <td>75AD7B4AXPvAibaEXe8xMCTZ03/BewoGrWSt0ZXM</td>\n",
       "    </tr>\n",
       "    <tr>\n",
       "      <th>8293</th>\n",
       "      <td>CB263C18XPvAibaEXe8xMCTZ03/Be8yk40QWdPiR</td>\n",
       "    </tr>\n",
       "    <tr>\n",
       "      <th>8294</th>\n",
       "      <td>7CD9B404XPvAibaEXe8M4ltS8XjC9c/g97NvpP52</td>\n",
       "    </tr>\n",
       "  </tbody>\n",
       "</table>\n",
       "<p>8295 rows × 1 columns</p>\n",
       "</div>"
      ],
      "text/plain": [
       "                                          mssv\n",
       "0     BE375BAAXPvAibaEXe9JDlHA4z2GHJ3/PVStCxR2\n",
       "1     2420ED57XPvAibaEXe/Lh6v1XxTKJa6JLFRUPkLM\n",
       "2     83B76C01XPvAibaEXe/lOccskaOiO2K46r7t4qnt\n",
       "3     91F785ABXPvAibaEXe/lOccskaOiO5y4GbVvuRQu\n",
       "4     007C275DXPvAibaEXe+TFgEDwYNnveOOmOYeYzF6\n",
       "...                                        ...\n",
       "8290  7D7633B0XPvAibaEXe95IhrkYSGfcCQVGm4nFGyt\n",
       "8291  AB431338XPvAibaEXe8xMCTZ03/BexWzDCyWVsT3\n",
       "8292  75AD7B4AXPvAibaEXe8xMCTZ03/BewoGrWSt0ZXM\n",
       "8293  CB263C18XPvAibaEXe8xMCTZ03/Be8yk40QWdPiR\n",
       "8294  7CD9B404XPvAibaEXe8M4ltS8XjC9c/g97NvpP52\n",
       "\n",
       "[8295 rows x 1 columns]"
      ]
     },
     "execution_count": 25,
     "metadata": {},
     "output_type": "execute_result"
    }
   ],
   "source": [
    "mssv_sv = df_sv.mssv.reset_index(name=\"mssv\").drop('index', axis=1)\n",
    "mssv_sv"
   ]
  },
  {
   "cell_type": "code",
   "execution_count": 31,
   "metadata": {},
   "outputs": [],
   "source": [
    "index = mssv_sv[mssv_sv.duplicated()].index\n",
    "mssv_sv.drop(index=index, inplace=True)"
   ]
  },
  {
   "cell_type": "code",
   "execution_count": null,
   "metadata": {},
   "outputs": [],
   "source": []
  },
  {
   "cell_type": "code",
   "execution_count": 33,
   "metadata": {},
   "outputs": [
    {
     "data": {
      "text/plain": [
       "1863"
      ]
     },
     "execution_count": 33,
     "metadata": {},
     "output_type": "execute_result"
    }
   ],
   "source": [
    "pd.concat((mssv_sv, mssv_xlhv), axis=0).duplicated().sum()"
   ]
  },
  {
   "cell_type": "code",
   "execution_count": 38,
   "metadata": {},
   "outputs": [
    {
     "data": {
      "text/plain": [
       "8296"
      ]
     },
     "execution_count": 38,
     "metadata": {},
     "output_type": "execute_result"
    }
   ],
   "source": [
    "len(pd.concat((mssv_sv, mssv_xlhv), axis=0).mssv.unique())"
   ]
  },
  {
   "cell_type": "code",
   "execution_count": 39,
   "metadata": {},
   "outputs": [
    {
     "data": {
      "text/plain": [
       "6433"
      ]
     },
     "execution_count": 39,
     "metadata": {},
     "output_type": "execute_result"
    }
   ],
   "source": [
    "8296 - 1863"
   ]
  }
 ],
 "metadata": {
  "kernelspec": {
   "display_name": "general",
   "language": "python",
   "name": "python3"
  },
  "language_info": {
   "codemirror_mode": {
    "name": "ipython",
    "version": 3
   },
   "file_extension": ".py",
   "mimetype": "text/x-python",
   "name": "python",
   "nbconvert_exporter": "python",
   "pygments_lexer": "ipython3",
   "version": "3.9.16"
  },
  "orig_nbformat": 4
 },
 "nbformat": 4,
 "nbformat_minor": 2
}
