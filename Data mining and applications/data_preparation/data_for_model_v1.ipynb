{
 "cells": [
  {
   "cell_type": "code",
   "execution_count": 1,
   "metadata": {},
   "outputs": [],
   "source": [
    "from pathlib import Path\n",
    "import os\n",
    "import pandas as pd\n",
    "import pickle"
   ]
  },
  {
   "cell_type": "code",
   "execution_count": 2,
   "metadata": {},
   "outputs": [],
   "source": [
    "clean_data_folder = Path('../clean_data')\n",
    "save_folder = Path('../data_for_model')\n",
    "version_name = 'data_for_model_v1'"
   ]
  },
  {
   "cell_type": "code",
   "execution_count": 3,
   "metadata": {},
   "outputs": [],
   "source": [
    "df = pd.read_parquet(clean_data_folder/'enriched_dtb_hk.parquet')"
   ]
  },
  {
   "cell_type": "code",
   "execution_count": 4,
   "metadata": {},
   "outputs": [
    {
     "name": "stdout",
     "output_type": "stream",
     "text": [
      "<class 'pandas.core.frame.DataFrame'>\n",
      "RangeIndex: 148406 entries, 0 to 148405\n",
      "Data columns (total 4 columns):\n",
      " #   Column   Non-Null Count   Dtype   \n",
      "---  ------   --------------   -----   \n",
      " 0   mssv     148406 non-null  category\n",
      " 1   hoc_ky   148406 non-null  category\n",
      " 2   nam_hoc  148406 non-null  category\n",
      " 3   dtb_hk   148140 non-null  float32 \n",
      "dtypes: category(3), float32(1)\n",
      "memory usage: 1.8 MB\n"
     ]
    }
   ],
   "source": [
    "df.info()"
   ]
  },
  {
   "cell_type": "code",
   "execution_count": 5,
   "metadata": {},
   "outputs": [],
   "source": [
    "data_for_model = {\n",
    "    'input': [],\n",
    "    'target': [],\n",
    "    'mo_ta': \n",
    "f'''\n",
    "==================     VERSION {version_name}     ==================\n",
    "* target là dtb_hk của 1 sinh viên trong 2 học kỳ liên tiếp\n",
    "* input là tất cả dtb_hk của sv đó trong các học kỳ trước (target)\n",
    "* diem được normalize từ [0-10] về [0-1]\n",
    "LƯU Ý:\n",
    "* input và target được sắp xếp theo thứ tự học kỳ tăng dần\n",
    "* Các học kỳ có giá trị null đã được lại bỏ. \n",
    "  Xem như học kỳ trước và sau của học kỳ null đó là 2 học kỳ liên tiếp\n",
    "* input và target chưa được shuffle\n",
    "'''\n",
    "}"
   ]
  },
  {
   "cell_type": "code",
   "execution_count": 6,
   "metadata": {},
   "outputs": [
    {
     "data": {
      "text/plain": [
       "266"
      ]
     },
     "execution_count": 6,
     "metadata": {},
     "output_type": "execute_result"
    }
   ],
   "source": [
    "df.isnull().any(axis=1).sum()"
   ]
  },
  {
   "cell_type": "code",
   "execution_count": 7,
   "metadata": {},
   "outputs": [],
   "source": [
    "index = df[df.isnull().any(axis=1)].index\n",
    "df.drop(index=index, inplace=True)"
   ]
  },
  {
   "cell_type": "code",
   "execution_count": 8,
   "metadata": {},
   "outputs": [
    {
     "data": {
      "text/plain": [
       "0"
      ]
     },
     "execution_count": 8,
     "metadata": {},
     "output_type": "execute_result"
    }
   ],
   "source": [
    "df.isnull().any(axis=1).sum()"
   ]
  },
  {
   "cell_type": "code",
   "execution_count": 9,
   "metadata": {},
   "outputs": [],
   "source": [
    "df.dtb_hk = df.dtb_hk / 10"
   ]
  },
  {
   "cell_type": "code",
   "execution_count": 10,
   "metadata": {},
   "outputs": [
    {
     "data": {
      "text/plain": [
       "count    148140.000000\n",
       "mean          0.640012\n",
       "std           0.209803\n",
       "min           0.000000\n",
       "25%           0.557692\n",
       "50%           0.690909\n",
       "75%           0.785714\n",
       "max           1.000000\n",
       "Name: dtb_hk, dtype: float64"
      ]
     },
     "execution_count": 10,
     "metadata": {},
     "output_type": "execute_result"
    }
   ],
   "source": [
    "df.dtb_hk.describe()"
   ]
  },
  {
   "cell_type": "code",
   "execution_count": 11,
   "metadata": {},
   "outputs": [],
   "source": [
    "group_df = df.sort_values(by=['nam_hoc', 'hoc_ky']).groupby('mssv')"
   ]
  },
  {
   "cell_type": "code",
   "execution_count": 12,
   "metadata": {},
   "outputs": [
    {
     "data": {
      "text/html": [
       "<div>\n",
       "<style scoped>\n",
       "    .dataframe tbody tr th:only-of-type {\n",
       "        vertical-align: middle;\n",
       "    }\n",
       "\n",
       "    .dataframe tbody tr th {\n",
       "        vertical-align: top;\n",
       "    }\n",
       "\n",
       "    .dataframe thead th {\n",
       "        text-align: right;\n",
       "    }\n",
       "</style>\n",
       "<table border=\"1\" class=\"dataframe\">\n",
       "  <thead>\n",
       "    <tr style=\"text-align: right;\">\n",
       "      <th></th>\n",
       "      <th>mssv</th>\n",
       "      <th>hoc_ky</th>\n",
       "      <th>nam_hoc</th>\n",
       "      <th>dtb_hk</th>\n",
       "    </tr>\n",
       "  </thead>\n",
       "  <tbody>\n",
       "    <tr>\n",
       "      <th>69754</th>\n",
       "      <td>0000AC05XPvAibaEXe9B2tolTZ0JLoBGbkQixQS6</td>\n",
       "      <td>1</td>\n",
       "      <td>2021</td>\n",
       "      <td>0.780769</td>\n",
       "    </tr>\n",
       "    <tr>\n",
       "      <th>69755</th>\n",
       "      <td>0000AC05XPvAibaEXe9B2tolTZ0JLoBGbkQixQS6</td>\n",
       "      <td>2</td>\n",
       "      <td>2021</td>\n",
       "      <td>0.827500</td>\n",
       "    </tr>\n",
       "    <tr>\n",
       "      <th>69756</th>\n",
       "      <td>0000AC05XPvAibaEXe9B2tolTZ0JLoBGbkQixQS6</td>\n",
       "      <td>1</td>\n",
       "      <td>2022</td>\n",
       "      <td>0.750833</td>\n",
       "    </tr>\n",
       "  </tbody>\n",
       "</table>\n",
       "</div>"
      ],
      "text/plain": [
       "                                           mssv hoc_ky nam_hoc    dtb_hk\n",
       "69754  0000AC05XPvAibaEXe9B2tolTZ0JLoBGbkQixQS6      1    2021  0.780769\n",
       "69755  0000AC05XPvAibaEXe9B2tolTZ0JLoBGbkQixQS6      2    2021  0.827500\n",
       "69756  0000AC05XPvAibaEXe9B2tolTZ0JLoBGbkQixQS6      1    2022  0.750833"
      ]
     },
     "execution_count": 12,
     "metadata": {},
     "output_type": "execute_result"
    }
   ],
   "source": [
    "group_df.get_group('0000AC05XPvAibaEXe9B2tolTZ0JLoBGbkQixQS6')"
   ]
  },
  {
   "cell_type": "code",
   "execution_count": 13,
   "metadata": {},
   "outputs": [
    {
     "data": {
      "text/plain": [
       "mssv\n",
       "0000AC05XPvAibaEXe9B2tolTZ0JLoBGbkQixQS6    (0.7807692289352417, 0.8274999856948853, 0.750...\n",
       "0001EB57XPvAibaEXe/twT+sf632fUXnsgPGeB4G    (0.889090895652771, 0.8912500143051147, 0.9053...\n",
       "00046394XPVAIBAEXE+FMXCQGVRIBECT4YMJHSFD    (0.5277777910232544, 0.7124999761581421, 0.790...\n",
       "00046394XPvAibaEXe+fmxcqgvribEcT4YmJhSFD    (0.5277777910232544, 0.7124999761581421, 0.790...\n",
       "0006A0BBXPvAibaEXe/lMOwHQdw54DgUkWaqwb1u                                 (0.721818208694458,)\n",
       "                                                                  ...                        \n",
       "FFF3D630XPvAibaEXe8byJxgVsE7R2dP7ICEdFWK    (0.90666663646698, 0.7772727608680725, 0.80789...\n",
       "FFF4CD57XPvAibaEXe/z8kRiyNmKNla425pm0Qmc        (0.7662500143051147, 0.764285683631897, 0.75)\n",
       "FFFA4234XPVAIBAEXE+OHMJSJ4XEZDTGGCTDT9FT             (0.7493332624435425, 0.5199999809265137)\n",
       "FFFA4234XPvAibaEXe+OhmjSj4XEzdTGgcTdT9fT    (0.7421427965164185, 0.6786667108535767, 0.751...\n",
       "FFFCEDACXPvAibaEXe/r1+Wy29gBaT8F536ZLuBZ    (0.5925000309944153, 0.44999998807907104, 0.52...\n",
       "Length: 21930, dtype: object"
      ]
     },
     "execution_count": 13,
     "metadata": {},
     "output_type": "execute_result"
    }
   ],
   "source": [
    "sv_dtb_hk = group_df.apply(lambda x: tuple(x.dtb_hk))\n",
    "sv_dtb_hk"
   ]
  },
  {
   "cell_type": "code",
   "execution_count": 14,
   "metadata": {},
   "outputs": [],
   "source": [
    "data_for_model['input'] = []\n",
    "data_for_model['target'] = []\n",
    "for dtb_hk in sv_dtb_hk:\n",
    "    # print('haha', dtb_hk)\n",
    "    for i in range(1, len(dtb_hk) +1 - 2):\n",
    "        # print(dtb_hk[:i], dtb_hk[i:i+2])\n",
    "        data_for_model['input'].append(dtb_hk[:i])\n",
    "        data_for_model['target'].append(dtb_hk[i:i+2])"
   ]
  },
  {
   "cell_type": "code",
   "execution_count": 15,
   "metadata": {},
   "outputs": [
    {
     "data": {
      "text/plain": [
       "dict_keys(['input', 'target', 'mo_ta'])"
      ]
     },
     "execution_count": 15,
     "metadata": {},
     "output_type": "execute_result"
    }
   ],
   "source": [
    "data_for_model.keys()"
   ]
  },
  {
   "cell_type": "code",
   "execution_count": 16,
   "metadata": {},
   "outputs": [
    {
     "name": "stdout",
     "output_type": "stream",
     "text": [
      "\n",
      "==================     VERSION data_for_model_v1     ==================\n",
      "* target là dtb_hk của 1 sinh viên trong 2 học kỳ liên tiếp\n",
      "* input là tất cả dtb_hk của sv đó trong các học kỳ trước (target)\n",
      "* diem được normalize từ [0-10] về [0-1]\n",
      "LƯU Ý:\n",
      "* input và target được sắp xếp theo thứ tự học kỳ tăng dần\n",
      "* Các học kỳ có giá trị null đã được lại bỏ. \n",
      "  Xem như học kỳ trước và sau của học kỳ null đó là 2 học kỳ liên tiếp\n",
      "* input và target chưa được shuffle\n",
      "\n"
     ]
    }
   ],
   "source": [
    "print(data_for_model['mo_ta'])"
   ]
  },
  {
   "cell_type": "code",
   "execution_count": 17,
   "metadata": {},
   "outputs": [],
   "source": [
    "with open(save_folder/f'{version_name}.pkl', 'wb') as file:\n",
    "    pickle.dump(data_for_model, file)"
   ]
  }
 ],
 "metadata": {
  "kernelspec": {
   "display_name": "general",
   "language": "python",
   "name": "python3"
  },
  "language_info": {
   "codemirror_mode": {
    "name": "ipython",
    "version": 3
   },
   "file_extension": ".py",
   "mimetype": "text/x-python",
   "name": "python",
   "nbconvert_exporter": "python",
   "pygments_lexer": "ipython3",
   "version": "3.9.16"
  },
  "orig_nbformat": 4
 },
 "nbformat": 4,
 "nbformat_minor": 2
}
