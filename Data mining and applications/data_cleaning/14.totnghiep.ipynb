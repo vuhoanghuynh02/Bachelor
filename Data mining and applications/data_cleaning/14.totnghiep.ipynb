{
 "cells": [
  {
   "cell_type": "code",
   "execution_count": 1,
   "metadata": {},
   "outputs": [],
   "source": [
    "from pathlib import Path\n",
    "import os\n",
    "import pandas as pd\n",
    "import matplotlib.pyplot as plt\n",
    "import seaborn as sns"
   ]
  },
  {
   "cell_type": "code",
   "execution_count": 2,
   "metadata": {},
   "outputs": [
    {
     "data": {
      "text/plain": [
       "['00.ghichu.txt',\n",
       " '00_dhcntt-dtdh_19-01-2016_scan.pdf',\n",
       " '01.sinhvien.xlsx',\n",
       " '02.diem.xlsx',\n",
       " '03.sinhvien_chungchi.xlsx',\n",
       " '04.xeploaiav.xlsx',\n",
       " '05.ThiSinh.xlsx',\n",
       " '06.giayxacnhan.xlsx',\n",
       " '08.XLHV.xlsx',\n",
       " '10.diemrl.xlsx',\n",
       " '12.baoluu.xlsx',\n",
       " '14.totnghiep.xlsx',\n",
       " 'diemrl.xlsx',\n",
       " 'diem_Thu.xlsx',\n",
       " 'Education_dataset_V2.rar',\n",
       " 'sinhvien_dtb_hocky.xlsx',\n",
       " 'sinhvien_dtb_toankhoa.xlsx',\n",
       " 'uit_hocphi_miengiam.xlsx']"
      ]
     },
     "execution_count": 2,
     "metadata": {},
     "output_type": "execute_result"
    }
   ],
   "source": [
    "data_folder = Path(\"../../Education_dataset_V2\")\n",
    "os.listdir(data_folder)"
   ]
  },
  {
   "cell_type": "code",
   "execution_count": 3,
   "metadata": {},
   "outputs": [],
   "source": [
    "data_stem = '14.totnghiep'\n",
    "old_df = pd.read_excel(data_folder/f\"{data_stem}.xlsx\")\n",
    "new_df = old_df.copy(deep = True)"
   ]
  },
  {
   "cell_type": "code",
   "execution_count": 4,
   "metadata": {},
   "outputs": [
    {
     "data": {
      "text/html": [
       "<div>\n",
       "<style scoped>\n",
       "    .dataframe tbody tr th:only-of-type {\n",
       "        vertical-align: middle;\n",
       "    }\n",
       "\n",
       "    .dataframe tbody tr th {\n",
       "        vertical-align: top;\n",
       "    }\n",
       "\n",
       "    .dataframe thead th {\n",
       "        text-align: right;\n",
       "    }\n",
       "</style>\n",
       "<table border=\"1\" class=\"dataframe\">\n",
       "  <thead>\n",
       "    <tr style=\"text-align: right;\">\n",
       "      <th></th>\n",
       "      <th>id</th>\n",
       "      <th>mssv</th>\n",
       "      <th>xeploai</th>\n",
       "      <th>soquyetdinh</th>\n",
       "      <th>ngaycapvb</th>\n",
       "    </tr>\n",
       "  </thead>\n",
       "  <tbody>\n",
       "    <tr>\n",
       "      <th>823</th>\n",
       "      <td>78064.0</td>\n",
       "      <td>0821621DXPvAibaEXe/btl79MArZLF7Vr4ovU5Xz</td>\n",
       "      <td>Khá</td>\n",
       "      <td>675/QĐ-ĐHCNTT</td>\n",
       "      <td>11/10/2019</td>\n",
       "    </tr>\n",
       "    <tr>\n",
       "      <th>1535</th>\n",
       "      <td>79527.0</td>\n",
       "      <td>8A88A218XPvAibaEXe+zCbAzes7Ying9a24Y8lNu</td>\n",
       "      <td>Khá</td>\n",
       "      <td>189/QĐ-ĐHCNTT</td>\n",
       "      <td>04/01/2021</td>\n",
       "    </tr>\n",
       "    <tr>\n",
       "      <th>1673</th>\n",
       "      <td>79671.0</td>\n",
       "      <td>8DBCBC74XPvAibaEXe+F5/cNCOrl8SRUhg2MAqol</td>\n",
       "      <td>Khá</td>\n",
       "      <td>189/QĐ-ĐHCNTT</td>\n",
       "      <td>04/01/2021</td>\n",
       "    </tr>\n",
       "  </tbody>\n",
       "</table>\n",
       "</div>"
      ],
      "text/plain": [
       "           id                                      mssv  xeploai   \n",
       "823   78064.0  0821621DXPvAibaEXe/btl79MArZLF7Vr4ovU5Xz      Khá  \\\n",
       "1535  79527.0  8A88A218XPvAibaEXe+zCbAzes7Ying9a24Y8lNu      Khá   \n",
       "1673  79671.0  8DBCBC74XPvAibaEXe+F5/cNCOrl8SRUhg2MAqol      Khá   \n",
       "\n",
       "         soquyetdinh    ngaycapvb  \n",
       "823    675/QĐ-ĐHCNTT   11/10/2019  \n",
       "1535   189/QĐ-ĐHCNTT   04/01/2021  \n",
       "1673   189/QĐ-ĐHCNTT   04/01/2021  "
      ]
     },
     "execution_count": 4,
     "metadata": {},
     "output_type": "execute_result"
    }
   ],
   "source": [
    "new_df.sample(3)"
   ]
  },
  {
   "cell_type": "code",
   "execution_count": 5,
   "metadata": {},
   "outputs": [
    {
     "name": "stdout",
     "output_type": "stream",
     "text": [
      "<class 'pandas.core.frame.DataFrame'>\n",
      "RangeIndex: 1847 entries, 0 to 1846\n",
      "Data columns (total 5 columns):\n",
      " #   Column        Non-Null Count  Dtype  \n",
      "---  ------        --------------  -----  \n",
      " 0   id            1845 non-null   float64\n",
      " 1   mssv          1845 non-null   object \n",
      " 2    xeploai      1845 non-null   object \n",
      " 3    soquyetdinh  1845 non-null   object \n",
      " 4    ngaycapvb    1845 non-null   object \n",
      "dtypes: float64(1), object(4)\n",
      "memory usage: 72.3+ KB\n"
     ]
    }
   ],
   "source": [
    "new_df.info()"
   ]
  },
  {
   "cell_type": "code",
   "execution_count": 6,
   "metadata": {},
   "outputs": [
    {
     "data": {
      "text/plain": [
       "0       76328.0\n",
       "1       76663.0\n",
       "2       76664.0\n",
       "3       76665.0\n",
       "4       76666.0\n",
       "         ...   \n",
       "1842    79855.0\n",
       "1843    79856.0\n",
       "1844    79857.0\n",
       "1845    79858.0\n",
       "1846    79859.0\n",
       "Name: id, Length: 1847, dtype: float64"
      ]
     },
     "execution_count": 6,
     "metadata": {},
     "output_type": "execute_result"
    }
   ],
   "source": [
    "new_df.id"
   ]
  },
  {
   "cell_type": "code",
   "execution_count": 7,
   "metadata": {},
   "outputs": [],
   "source": [
    "new_df.drop('id', axis=1, inplace=True)"
   ]
  },
  {
   "cell_type": "code",
   "execution_count": 8,
   "metadata": {},
   "outputs": [],
   "source": [
    "new_df.columns = ['mssv', 'xep_loai', 'so_quyet_dinh', 'ngay_cap_vb']"
   ]
  },
  {
   "cell_type": "code",
   "execution_count": 9,
   "metadata": {},
   "outputs": [
    {
     "data": {
      "text/plain": [
       "mssv\n",
       "NaN                                         2\n",
       "ADD6626AXPvAibaEXe/SxwNRab2vgDj3JMKIXWrE    1\n",
       "ADB95D1BXPvAibaEXe+JF4o+SEKcGDSWthX0QZQy    1\n",
       "ADAD1DFFXPvAibaEXe+YGniCiyMp078xVotQB4/i    1\n",
       "AD9E064BXPvAibaEXe/GP74oAJxkeAi0ENPwa1up    1\n",
       "                                           ..\n",
       "578A7225XPvAibaEXe8hvnm4ihleLUtcWtYNAOFi    1\n",
       "5744B505XPvAibaEXe/9n4RXguPAYLy1ULuVcNNN    1\n",
       "57203F91XPvAibaEXe9JDlHA4z2GHFHVJ5vTRj7d    1\n",
       "5700075FXPvAibaEXe/rtk4wDmxi91Qm4QLXujt6    1\n",
       "815DC6D5XPvAibaEXe9iBRrLJjO8dUXgzuC1uGLg    1\n",
       "Name: count, Length: 1846, dtype: int64"
      ]
     },
     "execution_count": 9,
     "metadata": {},
     "output_type": "execute_result"
    }
   ],
   "source": [
    "new_df.mssv = new_df.mssv.astype('category')\n",
    "new_df.mssv.value_counts(dropna=False)"
   ]
  },
  {
   "cell_type": "code",
   "execution_count": 10,
   "metadata": {},
   "outputs": [
    {
     "name": "stdout",
     "output_type": "stream",
     "text": [
      "<class 'pandas.core.frame.DataFrame'>\n",
      "RangeIndex: 1847 entries, 0 to 1846\n",
      "Data columns (total 4 columns):\n",
      " #   Column         Non-Null Count  Dtype   \n",
      "---  ------         --------------  -----   \n",
      " 0   mssv           1845 non-null   category\n",
      " 1   xep_loai       1845 non-null   object  \n",
      " 2   so_quyet_dinh  1845 non-null   object  \n",
      " 3   ngay_cap_vb    1845 non-null   object  \n",
      "dtypes: category(1), object(3)\n",
      "memory usage: 126.0+ KB\n"
     ]
    }
   ],
   "source": [
    "new_df.info()"
   ]
  },
  {
   "cell_type": "code",
   "execution_count": 11,
   "metadata": {},
   "outputs": [
    {
     "data": {
      "text/plain": [
       "xep_loai\n",
       " Khá               1125\n",
       " Giỏi               447\n",
       " Trung bình khá     132\n",
       " TB Khá              92\n",
       " Trung bình Khá      40\n",
       " Xuất sắc             7\n",
       "NaN                   2\n",
       " TB khá               2\n",
       "Name: count, dtype: int64"
      ]
     },
     "execution_count": 11,
     "metadata": {},
     "output_type": "execute_result"
    }
   ],
   "source": [
    "new_df.xep_loai.value_counts(dropna=False)"
   ]
  },
  {
   "cell_type": "code",
   "execution_count": 12,
   "metadata": {},
   "outputs": [],
   "source": [
    "tb_kha = 'Trung bình khá'\n",
    "mapping_dict = {\n",
    "    ' Trung bình khá': tb_kha,\n",
    "    ' Trung bình Khá': tb_kha,\n",
    "    ' TB Khá': tb_kha,\n",
    "    ' TB khá': tb_kha,\n",
    "    ' Khá': 'Khá',\n",
    "    ' Giỏi': 'Giỏi',\n",
    "    ' Xuất sắc': 'Xuất sắc',\n",
    "}\n",
    "new_df.xep_loai = new_df.xep_loai.replace(mapping_dict).astype('category')"
   ]
  },
  {
   "cell_type": "code",
   "execution_count": 13,
   "metadata": {},
   "outputs": [
    {
     "data": {
      "text/plain": [
       "xep_loai\n",
       "Khá               1125\n",
       "Giỏi               447\n",
       "Trung bình khá     266\n",
       "Xuất sắc             7\n",
       "NaN                  2\n",
       "Name: count, dtype: int64"
      ]
     },
     "execution_count": 13,
     "metadata": {},
     "output_type": "execute_result"
    }
   ],
   "source": [
    "new_df.xep_loai.value_counts(dropna=False)"
   ]
  },
  {
   "cell_type": "code",
   "execution_count": 14,
   "metadata": {},
   "outputs": [
    {
     "name": "stdout",
     "output_type": "stream",
     "text": [
      "<class 'pandas.core.frame.DataFrame'>\n",
      "RangeIndex: 1847 entries, 0 to 1846\n",
      "Data columns (total 4 columns):\n",
      " #   Column         Non-Null Count  Dtype   \n",
      "---  ------         --------------  -----   \n",
      " 0   mssv           1845 non-null   category\n",
      " 1   xep_loai       1845 non-null   category\n",
      " 2   so_quyet_dinh  1845 non-null   object  \n",
      " 3   ngay_cap_vb    1845 non-null   object  \n",
      "dtypes: category(2), object(2)\n",
      "memory usage: 113.5+ KB\n"
     ]
    }
   ],
   "source": [
    "new_df.info()"
   ]
  },
  {
   "cell_type": "code",
   "execution_count": 15,
   "metadata": {},
   "outputs": [
    {
     "data": {
      "text/plain": [
       "so_quyet_dinh\n",
       " 542/QĐ_ĐHCNTT    204\n",
       " 189/QĐ-ĐHCNTT    198\n",
       " 222/QĐ-ĐHCNTT    174\n",
       " 675/QĐ-ĐHCNTT    164\n",
       " 204/QĐ-ĐHCNTT    157\n",
       " 354/QĐ-ĐHCNTT    147\n",
       " 777/QĐ-ĐHCNTT    118\n",
       " 621/QĐ-ĐHCNTT    111\n",
       " 214/QĐ_ĐHCNTT     93\n",
       " 443-QD-DHCNTT     77\n",
       " 713/QĐ_ĐHCNTT     73\n",
       " 960/QĐ-ĐHCNTT     53\n",
       " 13/QĐ-ĐHCNTT      51\n",
       " 955/QĐ-ĐHCNTT     38\n",
       " 66/QĐ_ĐHCNTT      20\n",
       " 823/QĐ_ĐHCNTT     19\n",
       " 258/QĐ-ĐHCNTT     19\n",
       " 761/QĐ-ĐHCNTT     18\n",
       " 878/QĐ-ĐHCNTT     15\n",
       " 384/QĐ-ĐHCNTT     14\n",
       " 236/QĐ-ĐHCNTT     12\n",
       " 233/QĐ-ĐHCNTT      9\n",
       " 249/QĐ-ĐHCNTT      8\n",
       " 811/QĐ-ĐHCNTT      8\n",
       " 320/QĐ_ĐHCNTT      8\n",
       " 298/QĐ-ĐHCNTT      7\n",
       " 595/QĐ_ĐHCNTT      7\n",
       " 325/QĐ_ĐHCNTT      3\n",
       " 370/QĐ_ĐHCNTT      2\n",
       " 310/QĐ_ĐHCNTT      2\n",
       "NaN                 2\n",
       " 733/QĐ-ĐHCNTT      2\n",
       " 306/QĐ-ĐHCNTT      2\n",
       " 829/QĐ-ĐHCNTT      2\n",
       " 239/QĐ_ĐHCNTT      1\n",
       " 242/QĐ_ĐHCNTT      1\n",
       " 852/QĐ-ĐHCNTT      1\n",
       " 391/QĐ_ĐHCNTT      1\n",
       " 430/QĐ_ĐHCNTT      1\n",
       " 519-QD-DHCNTT      1\n",
       " 344/QĐ-ĐHCNTT      1\n",
       " 341/QĐ-ĐHCNTT      1\n",
       " 772/QĐ_ĐHCNTT      1\n",
       " 178/QĐ_ĐHCNTT      1\n",
       "Name: count, dtype: int64"
      ]
     },
     "execution_count": 15,
     "metadata": {},
     "output_type": "execute_result"
    }
   ],
   "source": [
    "new_df.so_quyet_dinh.value_counts(dropna=False)"
   ]
  },
  {
   "cell_type": "code",
   "execution_count": 16,
   "metadata": {},
   "outputs": [],
   "source": [
    "def remove_duplicate_so_quyet_dinh(so_quyet_dinh):\n",
    "    if pd.isnull(so_quyet_dinh):\n",
    "        return so_quyet_dinh\n",
    "\n",
    "    so_quyet_dinh = str(so_quyet_dinh).strip()\n",
    "    digit = so_quyet_dinh[:-10]\n",
    "    assert digit.isdigit(), so_quyet_dinh\n",
    "    so_quyet_dinh = digit + '/QĐ-ĐHCNTT'\n",
    "    return so_quyet_dinh\n",
    "\n",
    "new_df.so_quyet_dinh = new_df.so_quyet_dinh.apply(remove_duplicate_so_quyet_dinh).astype('category')"
   ]
  },
  {
   "cell_type": "code",
   "execution_count": 17,
   "metadata": {},
   "outputs": [
    {
     "data": {
      "text/plain": [
       "so_quyet_dinh\n",
       "542/QĐ-ĐHCNTT    204\n",
       "189/QĐ-ĐHCNTT    198\n",
       "222/QĐ-ĐHCNTT    174\n",
       "675/QĐ-ĐHCNTT    164\n",
       "204/QĐ-ĐHCNTT    157\n",
       "354/QĐ-ĐHCNTT    147\n",
       "777/QĐ-ĐHCNTT    118\n",
       "621/QĐ-ĐHCNTT    111\n",
       "214/QĐ-ĐHCNTT     93\n",
       "443/QĐ-ĐHCNTT     77\n",
       "713/QĐ-ĐHCNTT     73\n",
       "960/QĐ-ĐHCNTT     53\n",
       "13/QĐ-ĐHCNTT      51\n",
       "955/QĐ-ĐHCNTT     38\n",
       "66/QĐ-ĐHCNTT      20\n",
       "823/QĐ-ĐHCNTT     19\n",
       "258/QĐ-ĐHCNTT     19\n",
       "761/QĐ-ĐHCNTT     18\n",
       "878/QĐ-ĐHCNTT     15\n",
       "384/QĐ-ĐHCNTT     14\n",
       "236/QĐ-ĐHCNTT     12\n",
       "233/QĐ-ĐHCNTT      9\n",
       "811/QĐ-ĐHCNTT      8\n",
       "249/QĐ-ĐHCNTT      8\n",
       "320/QĐ-ĐHCNTT      8\n",
       "298/QĐ-ĐHCNTT      7\n",
       "595/QĐ-ĐHCNTT      7\n",
       "325/QĐ-ĐHCNTT      3\n",
       "829/QĐ-ĐHCNTT      2\n",
       "733/QĐ-ĐHCNTT      2\n",
       "NaN                2\n",
       "370/QĐ-ĐHCNTT      2\n",
       "310/QĐ-ĐHCNTT      2\n",
       "306/QĐ-ĐHCNTT      2\n",
       "519/QĐ-ĐHCNTT      1\n",
       "430/QĐ-ĐHCNTT      1\n",
       "178/QĐ-ĐHCNTT      1\n",
       "772/QĐ-ĐHCNTT      1\n",
       "344/QĐ-ĐHCNTT      1\n",
       "341/QĐ-ĐHCNTT      1\n",
       "852/QĐ-ĐHCNTT      1\n",
       "242/QĐ-ĐHCNTT      1\n",
       "239/QĐ-ĐHCNTT      1\n",
       "391/QĐ-ĐHCNTT      1\n",
       "Name: count, dtype: int64"
      ]
     },
     "execution_count": 17,
     "metadata": {},
     "output_type": "execute_result"
    }
   ],
   "source": [
    "new_df.so_quyet_dinh.value_counts(dropna=False)"
   ]
  },
  {
   "cell_type": "code",
   "execution_count": 18,
   "metadata": {},
   "outputs": [
    {
     "name": "stdout",
     "output_type": "stream",
     "text": [
      "<class 'pandas.core.frame.DataFrame'>\n",
      "RangeIndex: 1847 entries, 0 to 1846\n",
      "Data columns (total 4 columns):\n",
      " #   Column         Non-Null Count  Dtype   \n",
      "---  ------         --------------  -----   \n",
      " 0   mssv           1845 non-null   category\n",
      " 1   xep_loai       1845 non-null   category\n",
      " 2   so_quyet_dinh  1845 non-null   category\n",
      " 3   ngay_cap_vb    1845 non-null   object  \n",
      "dtypes: category(3), object(1)\n",
      "memory usage: 102.3+ KB\n"
     ]
    }
   ],
   "source": [
    "new_df.info()"
   ]
  },
  {
   "cell_type": "code",
   "execution_count": 19,
   "metadata": {},
   "outputs": [
    {
     "data": {
      "text/plain": [
       "ngay_cap_vb\n",
       " 31/08/2020      204\n",
       " 04/01/2021      198\n",
       " 10/04/2018      174\n",
       " 11/10/2019      163\n",
       " 12/04/2019      157\n",
       " 09/6/2021       145\n",
       " 12/11/2020      118\n",
       " 10/10/2018      111\n",
       " 18/05/2020       93\n",
       " 01/08/2019       77\n",
       " 06/10/2017       73\n",
       " 31/12/2019       53\n",
       " 10/01/2019       51\n",
       " 30/12/2020       38\n",
       " 19/01/2018       20\n",
       " 10/05/2019       19\n",
       " 21/11/2017       19\n",
       " 05/11/2019       18\n",
       " 07/12/2020       15\n",
       " 03/07/2018       14\n",
       " 02/05/2019       12\n",
       " 16/04/2018        9\n",
       " 17/06/2020        8\n",
       " 22/11/2019        8\n",
       " 26/04/2018        8\n",
       " 23/05/2019        7\n",
       " 24/09/2020        7\n",
       " 19/06/2020        3\n",
       "NaN                2\n",
       " 07/07/2020        2\n",
       " 15/06/2020        2\n",
       " 09/6/2021);       2\n",
       " 28/10/2019        2\n",
       " 29/05/2019        2\n",
       " 06/12/2018        2\n",
       " 26/05/2020        1\n",
       " 27-5-2020         1\n",
       " 02/12/2019        1\n",
       " 16/07/2020        1\n",
       " 31/07/2020        1\n",
       " 11/10/2019);      1\n",
       " 26/08/2019        1\n",
       " 10/06/2019        1\n",
       " 05/06/2019        1\n",
       " 07/11/2017        1\n",
       " 14/04/2017        1\n",
       "Name: count, dtype: int64"
      ]
     },
     "execution_count": 19,
     "metadata": {},
     "output_type": "execute_result"
    }
   ],
   "source": [
    "new_df.ngay_cap_vb.value_counts(dropna=False)"
   ]
  },
  {
   "cell_type": "code",
   "execution_count": 20,
   "metadata": {},
   "outputs": [],
   "source": [
    "def remove_duplicate_ngay_cap_vb(ngay_cap_vb):\n",
    "    if pd.isnull(ngay_cap_vb):\n",
    "        return ngay_cap_vb\n",
    "\n",
    "    ngay_cap_vb = str(ngay_cap_vb).strip().strip(';').strip(')')\n",
    "    if '-' in ngay_cap_vb:\n",
    "        ngay_cap_vb = ngay_cap_vb.replace('-', '/')\n",
    "    return ngay_cap_vb\n",
    "\n",
    "new_df.ngay_cap_vb = new_df.ngay_cap_vb.apply(remove_duplicate_ngay_cap_vb)\n",
    "new_df.ngay_cap_vb = pd.to_datetime(new_df.ngay_cap_vb, format='%d/%m/%Y')"
   ]
  },
  {
   "cell_type": "code",
   "execution_count": 21,
   "metadata": {},
   "outputs": [
    {
     "data": {
      "text/plain": [
       "ngay_cap_vb\n",
       "2020-08-31    204\n",
       "2021-01-04    198\n",
       "2018-04-10    174\n",
       "2019-10-11    164\n",
       "2019-04-12    157\n",
       "2021-06-09    147\n",
       "2020-11-12    118\n",
       "2018-10-10    111\n",
       "2020-05-18     93\n",
       "2019-08-01     77\n",
       "2017-10-06     73\n",
       "2019-12-31     53\n",
       "2019-01-10     51\n",
       "2020-12-30     38\n",
       "2018-01-19     20\n",
       "2017-11-21     19\n",
       "2019-05-10     19\n",
       "2019-11-05     18\n",
       "2020-12-07     15\n",
       "2018-07-03     14\n",
       "2019-05-02     12\n",
       "2018-04-16      9\n",
       "2018-04-26      8\n",
       "2019-11-22      8\n",
       "2020-06-17      8\n",
       "2019-05-23      7\n",
       "2020-09-24      7\n",
       "2020-06-19      3\n",
       "2020-07-07      2\n",
       "2020-06-15      2\n",
       "NaT             2\n",
       "2019-10-28      2\n",
       "2019-05-29      2\n",
       "2018-12-06      2\n",
       "2020-05-26      1\n",
       "2020-05-27      1\n",
       "2019-12-02      1\n",
       "2020-07-16      1\n",
       "2020-07-31      1\n",
       "2019-08-26      1\n",
       "2019-06-10      1\n",
       "2019-06-05      1\n",
       "2017-11-07      1\n",
       "2017-04-14      1\n",
       "Name: count, dtype: int64"
      ]
     },
     "execution_count": 21,
     "metadata": {},
     "output_type": "execute_result"
    }
   ],
   "source": [
    "new_df.ngay_cap_vb.value_counts(dropna=False)"
   ]
  },
  {
   "cell_type": "code",
   "execution_count": 22,
   "metadata": {},
   "outputs": [
    {
     "name": "stdout",
     "output_type": "stream",
     "text": [
      "<class 'pandas.core.frame.DataFrame'>\n",
      "RangeIndex: 1847 entries, 0 to 1846\n",
      "Data columns (total 4 columns):\n",
      " #   Column         Non-Null Count  Dtype         \n",
      "---  ------         --------------  -----         \n",
      " 0   mssv           1845 non-null   category      \n",
      " 1   xep_loai       1845 non-null   category      \n",
      " 2   so_quyet_dinh  1845 non-null   category      \n",
      " 3   ngay_cap_vb    1845 non-null   datetime64[ns]\n",
      "dtypes: category(3), datetime64[ns](1)\n",
      "memory usage: 102.3 KB\n"
     ]
    }
   ],
   "source": [
    "new_df.info()"
   ]
  },
  {
   "cell_type": "code",
   "execution_count": 23,
   "metadata": {},
   "outputs": [
    {
     "data": {
      "text/html": [
       "<div>\n",
       "<style scoped>\n",
       "    .dataframe tbody tr th:only-of-type {\n",
       "        vertical-align: middle;\n",
       "    }\n",
       "\n",
       "    .dataframe tbody tr th {\n",
       "        vertical-align: top;\n",
       "    }\n",
       "\n",
       "    .dataframe thead th {\n",
       "        text-align: right;\n",
       "    }\n",
       "</style>\n",
       "<table border=\"1\" class=\"dataframe\">\n",
       "  <thead>\n",
       "    <tr style=\"text-align: right;\">\n",
       "      <th></th>\n",
       "      <th>mssv</th>\n",
       "      <th>xep_loai</th>\n",
       "      <th>so_quyet_dinh</th>\n",
       "      <th>ngay_cap_vb</th>\n",
       "    </tr>\n",
       "  </thead>\n",
       "  <tbody>\n",
       "    <tr>\n",
       "      <th>852</th>\n",
       "      <td>NaN</td>\n",
       "      <td>NaN</td>\n",
       "      <td>NaN</td>\n",
       "      <td>NaT</td>\n",
       "    </tr>\n",
       "    <tr>\n",
       "      <th>1708</th>\n",
       "      <td>NaN</td>\n",
       "      <td>NaN</td>\n",
       "      <td>NaN</td>\n",
       "      <td>NaT</td>\n",
       "    </tr>\n",
       "  </tbody>\n",
       "</table>\n",
       "</div>"
      ],
      "text/plain": [
       "     mssv xep_loai so_quyet_dinh ngay_cap_vb\n",
       "852   NaN      NaN           NaN         NaT\n",
       "1708  NaN      NaN           NaN         NaT"
      ]
     },
     "execution_count": 23,
     "metadata": {},
     "output_type": "execute_result"
    }
   ],
   "source": [
    "new_df[new_df.isnull().any(axis=1)]"
   ]
  },
  {
   "cell_type": "code",
   "execution_count": 24,
   "metadata": {},
   "outputs": [],
   "source": [
    "new_df.dropna(inplace=True)"
   ]
  },
  {
   "cell_type": "code",
   "execution_count": 25,
   "metadata": {},
   "outputs": [
    {
     "data": {
      "text/html": [
       "<div>\n",
       "<style scoped>\n",
       "    .dataframe tbody tr th:only-of-type {\n",
       "        vertical-align: middle;\n",
       "    }\n",
       "\n",
       "    .dataframe tbody tr th {\n",
       "        vertical-align: top;\n",
       "    }\n",
       "\n",
       "    .dataframe thead th {\n",
       "        text-align: right;\n",
       "    }\n",
       "</style>\n",
       "<table border=\"1\" class=\"dataframe\">\n",
       "  <thead>\n",
       "    <tr style=\"text-align: right;\">\n",
       "      <th></th>\n",
       "      <th>mssv</th>\n",
       "      <th>xep_loai</th>\n",
       "      <th>so_quyet_dinh</th>\n",
       "      <th>ngay_cap_vb</th>\n",
       "    </tr>\n",
       "  </thead>\n",
       "  <tbody>\n",
       "  </tbody>\n",
       "</table>\n",
       "</div>"
      ],
      "text/plain": [
       "Empty DataFrame\n",
       "Columns: [mssv, xep_loai, so_quyet_dinh, ngay_cap_vb]\n",
       "Index: []"
      ]
     },
     "execution_count": 25,
     "metadata": {},
     "output_type": "execute_result"
    }
   ],
   "source": [
    "new_df[new_df.isnull().any(axis=1)]"
   ]
  },
  {
   "cell_type": "code",
   "execution_count": 26,
   "metadata": {},
   "outputs": [
    {
     "name": "stdout",
     "output_type": "stream",
     "text": [
      "<class 'pandas.core.frame.DataFrame'>\n",
      "Index: 1845 entries, 0 to 1846\n",
      "Data columns (total 4 columns):\n",
      " #   Column         Non-Null Count  Dtype         \n",
      "---  ------         --------------  -----         \n",
      " 0   mssv           1845 non-null   category      \n",
      " 1   xep_loai       1845 non-null   category      \n",
      " 2   so_quyet_dinh  1845 non-null   category      \n",
      " 3   ngay_cap_vb    1845 non-null   datetime64[ns]\n",
      "dtypes: category(3), datetime64[ns](1)\n",
      "memory usage: 116.6 KB\n"
     ]
    }
   ],
   "source": [
    "new_df.info()"
   ]
  },
  {
   "cell_type": "code",
   "execution_count": 27,
   "metadata": {},
   "outputs": [
    {
     "data": {
      "text/html": [
       "<div>\n",
       "<style scoped>\n",
       "    .dataframe tbody tr th:only-of-type {\n",
       "        vertical-align: middle;\n",
       "    }\n",
       "\n",
       "    .dataframe tbody tr th {\n",
       "        vertical-align: top;\n",
       "    }\n",
       "\n",
       "    .dataframe thead th {\n",
       "        text-align: right;\n",
       "    }\n",
       "</style>\n",
       "<table border=\"1\" class=\"dataframe\">\n",
       "  <thead>\n",
       "    <tr style=\"text-align: right;\">\n",
       "      <th></th>\n",
       "      <th>mssv</th>\n",
       "      <th>xep_loai</th>\n",
       "      <th>so_quyet_dinh</th>\n",
       "      <th>ngay_cap_vb</th>\n",
       "    </tr>\n",
       "  </thead>\n",
       "  <tbody>\n",
       "    <tr>\n",
       "      <th>1764</th>\n",
       "      <td>C85FB68EXPvAibaEXe8qBtIUs9INC/7IxCWzbm9A</td>\n",
       "      <td>Khá</td>\n",
       "      <td>354/QĐ-ĐHCNTT</td>\n",
       "      <td>2021-06-09</td>\n",
       "    </tr>\n",
       "    <tr>\n",
       "      <th>191</th>\n",
       "      <td>9B47D5AEXPvAibaEXe8/3iNqySORb2yc7gdXyezc</td>\n",
       "      <td>Khá</td>\n",
       "      <td>222/QĐ-ĐHCNTT</td>\n",
       "      <td>2018-04-10</td>\n",
       "    </tr>\n",
       "    <tr>\n",
       "      <th>1087</th>\n",
       "      <td>5B9ABA61XPvAibaEXe+SgbKufUiN7Hulf6cw3ZZ0</td>\n",
       "      <td>Giỏi</td>\n",
       "      <td>214/QĐ-ĐHCNTT</td>\n",
       "      <td>2020-05-18</td>\n",
       "    </tr>\n",
       "    <tr>\n",
       "      <th>1311</th>\n",
       "      <td>96356A30XPvAibaEXe+/MvKIb2VAVS0s4jJCw70Q</td>\n",
       "      <td>Giỏi</td>\n",
       "      <td>542/QĐ-ĐHCNTT</td>\n",
       "      <td>2020-08-31</td>\n",
       "    </tr>\n",
       "    <tr>\n",
       "      <th>265</th>\n",
       "      <td>A9928B90XPvAibaEXe/+PcSgI7YkeTHdHkcRGsaJ</td>\n",
       "      <td>Giỏi</td>\n",
       "      <td>222/QĐ-ĐHCNTT</td>\n",
       "      <td>2018-04-10</td>\n",
       "    </tr>\n",
       "  </tbody>\n",
       "</table>\n",
       "</div>"
      ],
      "text/plain": [
       "                                          mssv xep_loai  so_quyet_dinh   \n",
       "1764  C85FB68EXPvAibaEXe8qBtIUs9INC/7IxCWzbm9A      Khá  354/QĐ-ĐHCNTT  \\\n",
       "191   9B47D5AEXPvAibaEXe8/3iNqySORb2yc7gdXyezc      Khá  222/QĐ-ĐHCNTT   \n",
       "1087  5B9ABA61XPvAibaEXe+SgbKufUiN7Hulf6cw3ZZ0     Giỏi  214/QĐ-ĐHCNTT   \n",
       "1311  96356A30XPvAibaEXe+/MvKIb2VAVS0s4jJCw70Q     Giỏi  542/QĐ-ĐHCNTT   \n",
       "265   A9928B90XPvAibaEXe/+PcSgI7YkeTHdHkcRGsaJ     Giỏi  222/QĐ-ĐHCNTT   \n",
       "\n",
       "     ngay_cap_vb  \n",
       "1764  2021-06-09  \n",
       "191   2018-04-10  \n",
       "1087  2020-05-18  \n",
       "1311  2020-08-31  \n",
       "265   2018-04-10  "
      ]
     },
     "execution_count": 27,
     "metadata": {},
     "output_type": "execute_result"
    }
   ],
   "source": [
    "new_df.sample(5)"
   ]
  },
  {
   "cell_type": "code",
   "execution_count": 28,
   "metadata": {},
   "outputs": [
    {
     "name": "stdout",
     "output_type": "stream",
     "text": [
      "<class 'pandas.core.frame.DataFrame'>\n",
      "RangeIndex: 1845 entries, 0 to 1844\n",
      "Data columns (total 4 columns):\n",
      " #   Column         Non-Null Count  Dtype         \n",
      "---  ------         --------------  -----         \n",
      " 0   mssv           1845 non-null   category      \n",
      " 1   xep_loai       1845 non-null   category      \n",
      " 2   so_quyet_dinh  1845 non-null   category      \n",
      " 3   ngay_cap_vb    1845 non-null   datetime64[ns]\n",
      "dtypes: category(3), datetime64[ns](1)\n",
      "memory usage: 102.3 KB\n"
     ]
    }
   ],
   "source": [
    "clean_data_folder = Path(\"../../clean_data\")\n",
    "new_df.to_parquet(clean_data_folder/f\"{data_stem}.parquet\", index=False)\n",
    "haha = pd.read_parquet(clean_data_folder/f\"{data_stem}.parquet\")\n",
    "haha.info()"
   ]
  },
  {
   "cell_type": "code",
   "execution_count": 30,
   "metadata": {},
   "outputs": [
    {
     "data": {
      "text/html": [
       "<div>\n",
       "<style scoped>\n",
       "    .dataframe tbody tr th:only-of-type {\n",
       "        vertical-align: middle;\n",
       "    }\n",
       "\n",
       "    .dataframe tbody tr th {\n",
       "        vertical-align: top;\n",
       "    }\n",
       "\n",
       "    .dataframe thead th {\n",
       "        text-align: right;\n",
       "    }\n",
       "</style>\n",
       "<table border=\"1\" class=\"dataframe\">\n",
       "  <thead>\n",
       "    <tr style=\"text-align: right;\">\n",
       "      <th></th>\n",
       "      <th>mssv</th>\n",
       "      <th>xep_loai</th>\n",
       "      <th>so_quyet_dinh</th>\n",
       "      <th>ngay_cap_vb</th>\n",
       "    </tr>\n",
       "  </thead>\n",
       "  <tbody>\n",
       "    <tr>\n",
       "      <th>809</th>\n",
       "      <td>1FC84966XPvAibaEXe917PYvJ9Jl7VDZwQFe1Zl4</td>\n",
       "      <td>Khá</td>\n",
       "      <td>675/QĐ-ĐHCNTT</td>\n",
       "      <td>2019-10-11</td>\n",
       "    </tr>\n",
       "    <tr>\n",
       "      <th>659</th>\n",
       "      <td>704E1F0AXPvAibaEXe/KGOYNCaEaWR+44ZAicZX/</td>\n",
       "      <td>Khá</td>\n",
       "      <td>258/QĐ-ĐHCNTT</td>\n",
       "      <td>2019-05-10</td>\n",
       "    </tr>\n",
       "    <tr>\n",
       "      <th>1812</th>\n",
       "      <td>8EA62CACXPvAibaEXe/rR9uJzGOYEp5iErX1dcP7</td>\n",
       "      <td>Khá</td>\n",
       "      <td>354/QĐ-ĐHCNTT</td>\n",
       "      <td>2021-06-09</td>\n",
       "    </tr>\n",
       "    <tr>\n",
       "      <th>998</th>\n",
       "      <td>CC66FB5EXPvAibaEXe/wvgrdNVCyf4qaNhqyOjdc</td>\n",
       "      <td>Khá</td>\n",
       "      <td>960/QĐ-ĐHCNTT</td>\n",
       "      <td>2019-12-31</td>\n",
       "    </tr>\n",
       "    <tr>\n",
       "      <th>1093</th>\n",
       "      <td>ADAD1DFFXPvAibaEXe+YGniCiyMp078xVotQB4/i</td>\n",
       "      <td>Giỏi</td>\n",
       "      <td>214/QĐ-ĐHCNTT</td>\n",
       "      <td>2020-05-18</td>\n",
       "    </tr>\n",
       "    <tr>\n",
       "      <th>959</th>\n",
       "      <td>C6FBD7C8XPvAibaEXe/KGOYNCaEaWevv6tAqytMz</td>\n",
       "      <td>Khá</td>\n",
       "      <td>960/QĐ-ĐHCNTT</td>\n",
       "      <td>2019-12-31</td>\n",
       "    </tr>\n",
       "    <tr>\n",
       "      <th>947</th>\n",
       "      <td>CA668C5DXPvAibaEXe+3zE134gecv65auNSJ4tNX</td>\n",
       "      <td>Giỏi</td>\n",
       "      <td>811/QĐ-ĐHCNTT</td>\n",
       "      <td>2019-11-22</td>\n",
       "    </tr>\n",
       "    <tr>\n",
       "      <th>0</th>\n",
       "      <td>E95E7C6DXPvAibaEXe+1j/AqdkpM22DHf6P99fDJ</td>\n",
       "      <td>Khá</td>\n",
       "      <td>178/QĐ-ĐHCNTT</td>\n",
       "      <td>2017-04-14</td>\n",
       "    </tr>\n",
       "    <tr>\n",
       "      <th>441</th>\n",
       "      <td>98FAD5F6XPvAibaEXe9fafwYRU+NptbcSqHyrp9L</td>\n",
       "      <td>Khá</td>\n",
       "      <td>13/QĐ-ĐHCNTT</td>\n",
       "      <td>2019-01-10</td>\n",
       "    </tr>\n",
       "    <tr>\n",
       "      <th>1019</th>\n",
       "      <td>EF6D3E34XPvAibaEXe9o3csoNuwUvO7brxBe1EBb</td>\n",
       "      <td>Trung bình khá</td>\n",
       "      <td>214/QĐ-ĐHCNTT</td>\n",
       "      <td>2020-05-18</td>\n",
       "    </tr>\n",
       "  </tbody>\n",
       "</table>\n",
       "</div>"
      ],
      "text/plain": [
       "                                          mssv        xep_loai  so_quyet_dinh   \n",
       "809   1FC84966XPvAibaEXe917PYvJ9Jl7VDZwQFe1Zl4             Khá  675/QĐ-ĐHCNTT  \\\n",
       "659   704E1F0AXPvAibaEXe/KGOYNCaEaWR+44ZAicZX/             Khá  258/QĐ-ĐHCNTT   \n",
       "1812  8EA62CACXPvAibaEXe/rR9uJzGOYEp5iErX1dcP7             Khá  354/QĐ-ĐHCNTT   \n",
       "998   CC66FB5EXPvAibaEXe/wvgrdNVCyf4qaNhqyOjdc             Khá  960/QĐ-ĐHCNTT   \n",
       "1093  ADAD1DFFXPvAibaEXe+YGniCiyMp078xVotQB4/i            Giỏi  214/QĐ-ĐHCNTT   \n",
       "959   C6FBD7C8XPvAibaEXe/KGOYNCaEaWevv6tAqytMz             Khá  960/QĐ-ĐHCNTT   \n",
       "947   CA668C5DXPvAibaEXe+3zE134gecv65auNSJ4tNX            Giỏi  811/QĐ-ĐHCNTT   \n",
       "0     E95E7C6DXPvAibaEXe+1j/AqdkpM22DHf6P99fDJ             Khá  178/QĐ-ĐHCNTT   \n",
       "441   98FAD5F6XPvAibaEXe9fafwYRU+NptbcSqHyrp9L             Khá   13/QĐ-ĐHCNTT   \n",
       "1019  EF6D3E34XPvAibaEXe9o3csoNuwUvO7brxBe1EBb  Trung bình khá  214/QĐ-ĐHCNTT   \n",
       "\n",
       "     ngay_cap_vb  \n",
       "809   2019-10-11  \n",
       "659   2019-05-10  \n",
       "1812  2021-06-09  \n",
       "998   2019-12-31  \n",
       "1093  2020-05-18  \n",
       "959   2019-12-31  \n",
       "947   2019-11-22  \n",
       "0     2017-04-14  \n",
       "441   2019-01-10  \n",
       "1019  2020-05-18  "
      ]
     },
     "execution_count": 30,
     "metadata": {},
     "output_type": "execute_result"
    }
   ],
   "source": [
    "haha.sample(10)"
   ]
  },
  {
   "cell_type": "code",
   "execution_count": 31,
   "metadata": {},
   "outputs": [
    {
     "data": {
      "text/plain": [
       "['14.totnghiep.parquet', 'uit_hocphi_miengiam.parquet']"
      ]
     },
     "execution_count": 31,
     "metadata": {},
     "output_type": "execute_result"
    }
   ],
   "source": [
    "os.listdir(clean_data_folder)"
   ]
  }
 ],
 "metadata": {
  "kernelspec": {
   "display_name": "general_cpython",
   "language": "python",
   "name": "python3"
  },
  "language_info": {
   "codemirror_mode": {
    "name": "ipython",
    "version": 3
   },
   "file_extension": ".py",
   "mimetype": "text/x-python",
   "name": "python",
   "nbconvert_exporter": "python",
   "pygments_lexer": "ipython3",
   "version": "3.9.16"
  },
  "orig_nbformat": 4
 },
 "nbformat": 4,
 "nbformat_minor": 2
}
