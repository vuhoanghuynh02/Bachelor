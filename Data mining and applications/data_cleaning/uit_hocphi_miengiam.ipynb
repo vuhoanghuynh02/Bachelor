{
 "cells": [
  {
   "cell_type": "code",
   "execution_count": 1,
   "metadata": {},
   "outputs": [],
   "source": [
    "from pathlib import Path\n",
    "import os\n",
    "import pandas as pd\n",
    "import matplotlib.pyplot as plt\n",
    "import seaborn as sns"
   ]
  },
  {
   "cell_type": "code",
   "execution_count": 2,
   "metadata": {},
   "outputs": [
    {
     "data": {
      "text/plain": [
       "['sinhvien_dtb_hocky.xlsx',\n",
       " 'diem_Thu.xlsx',\n",
       " 'Education_dataset_V2.rar',\n",
       " 'sinhvien_dtb_toankhoa.xlsx',\n",
       " 'uit_hocphi_miengiam.xlsx',\n",
       " '12.baoluu.xlsx',\n",
       " '14.totnghiep.xlsx',\n",
       " 'diemrl.xlsx',\n",
       " '08.XLHV.xlsx',\n",
       " '05.ThiSinh.xlsx',\n",
       " '00.ghichu.txt',\n",
       " '03.sinhvien_chungchi.xlsx',\n",
       " '00_dhcntt-dtdh_19-01-2016_scan.pdf',\n",
       " '04.xeploaiav.xlsx',\n",
       " '10.diemrl.xlsx',\n",
       " '06.giayxacnhan.xlsx',\n",
       " '02.diem.xlsx',\n",
       " '01.sinhvien.xlsx',\n",
       " 'desktop.ini']"
      ]
     },
     "execution_count": 2,
     "metadata": {},
     "output_type": "execute_result"
    }
   ],
   "source": [
    "data_folder = Path(\"../../Education_dataset_V2\")\n",
    "os.listdir(data_folder)"
   ]
  },
  {
   "cell_type": "code",
   "execution_count": 3,
   "metadata": {},
   "outputs": [],
   "source": [
    "data_stem = 'uit_hocphi_miengiam'"
   ]
  },
  {
   "attachments": {},
   "cell_type": "markdown",
   "metadata": {},
   "source": [
    "Initial observation"
   ]
  },
  {
   "cell_type": "code",
   "execution_count": 4,
   "metadata": {},
   "outputs": [],
   "source": [
    "old_df = pd.read_excel(data_folder/f\"{data_stem}.xlsx\")\n",
    "new_df = old_df.copy(deep = True)"
   ]
  },
  {
   "cell_type": "code",
   "execution_count": 5,
   "metadata": {},
   "outputs": [
    {
     "data": {
      "text/html": [
       "<div>\n",
       "<style scoped>\n",
       "    .dataframe tbody tr th:only-of-type {\n",
       "        vertical-align: middle;\n",
       "    }\n",
       "\n",
       "    .dataframe tbody tr th {\n",
       "        vertical-align: top;\n",
       "    }\n",
       "\n",
       "    .dataframe thead th {\n",
       "        text-align: right;\n",
       "    }\n",
       "</style>\n",
       "<table border=\"1\" class=\"dataframe\">\n",
       "  <thead>\n",
       "    <tr style=\"text-align: right;\">\n",
       "      <th></th>\n",
       "      <th>id</th>\n",
       "      <th>mssv</th>\n",
       "      <th>hocky</th>\n",
       "      <th>namhoc</th>\n",
       "      <th>doituong</th>\n",
       "      <th>miengiam</th>\n",
       "      <th>ghichu</th>\n",
       "    </tr>\n",
       "  </thead>\n",
       "  <tbody>\n",
       "    <tr>\n",
       "      <th>278</th>\n",
       "      <td>279</td>\n",
       "      <td>515E33A9XPvAibaEXe/stw5d/QtwDC3RGrMYF2N8</td>\n",
       "      <td>2</td>\n",
       "      <td>2014</td>\n",
       "      <td>DTTS +hộ nghèo/cận nghèo</td>\n",
       "      <td>100</td>\n",
       "      <td>NaN</td>\n",
       "    </tr>\n",
       "    <tr>\n",
       "      <th>3074</th>\n",
       "      <td>3206</td>\n",
       "      <td>364B9763XPvAibaEXe+SIoKUNff6nJS9tRl8cEDE</td>\n",
       "      <td>2</td>\n",
       "      <td>2019</td>\n",
       "      <td>NaN</td>\n",
       "      <td>446600</td>\n",
       "      <td>Giảm 7% HP hỗ trợ ảnh hưởng dịch COVID-19</td>\n",
       "    </tr>\n",
       "    <tr>\n",
       "      <th>4552</th>\n",
       "      <td>4704</td>\n",
       "      <td>92CA5CD2XPvAibaEXe+PYhTHWVfmAiLQeBANkmsc</td>\n",
       "      <td>2</td>\n",
       "      <td>2019</td>\n",
       "      <td>NaN</td>\n",
       "      <td>112000</td>\n",
       "      <td>Giảm 7% HP hỗ trợ ảnh hưởng dịch COVID-19</td>\n",
       "    </tr>\n",
       "  </tbody>\n",
       "</table>\n",
       "</div>"
      ],
      "text/plain": [
       "        id                                      mssv  hocky  namhoc   \n",
       "278    279  515E33A9XPvAibaEXe/stw5d/QtwDC3RGrMYF2N8      2    2014  \\\n",
       "3074  3206  364B9763XPvAibaEXe+SIoKUNff6nJS9tRl8cEDE      2    2019   \n",
       "4552  4704  92CA5CD2XPvAibaEXe+PYhTHWVfmAiLQeBANkmsc      2    2019   \n",
       "\n",
       "                      doituong  miengiam   \n",
       "278   DTTS +hộ nghèo/cận nghèo       100  \\\n",
       "3074                       NaN    446600   \n",
       "4552                       NaN    112000   \n",
       "\n",
       "                                         ghichu  \n",
       "278                                         NaN  \n",
       "3074  Giảm 7% HP hỗ trợ ảnh hưởng dịch COVID-19  \n",
       "4552  Giảm 7% HP hỗ trợ ảnh hưởng dịch COVID-19  "
      ]
     },
     "execution_count": 5,
     "metadata": {},
     "output_type": "execute_result"
    }
   ],
   "source": [
    "old_df.sample(3)"
   ]
  },
  {
   "cell_type": "code",
   "execution_count": 6,
   "metadata": {},
   "outputs": [
    {
     "name": "stdout",
     "output_type": "stream",
     "text": [
      "<class 'pandas.core.frame.DataFrame'>\n",
      "RangeIndex: 5652 entries, 0 to 5651\n",
      "Data columns (total 7 columns):\n",
      " #   Column    Non-Null Count  Dtype \n",
      "---  ------    --------------  ----- \n",
      " 0   id        5652 non-null   int64 \n",
      " 1   mssv      5652 non-null   object\n",
      " 2   hocky     5652 non-null   int64 \n",
      " 3   namhoc    5652 non-null   int64 \n",
      " 4   doituong  429 non-null    object\n",
      " 5   miengiam  5652 non-null   int64 \n",
      " 6   ghichu    5367 non-null   object\n",
      "dtypes: int64(4), object(3)\n",
      "memory usage: 309.2+ KB\n"
     ]
    }
   ],
   "source": [
    "old_df.info()"
   ]
  },
  {
   "cell_type": "code",
   "execution_count": 7,
   "metadata": {},
   "outputs": [
    {
     "data": {
      "text/html": [
       "<div>\n",
       "<style scoped>\n",
       "    .dataframe tbody tr th:only-of-type {\n",
       "        vertical-align: middle;\n",
       "    }\n",
       "\n",
       "    .dataframe tbody tr th {\n",
       "        vertical-align: top;\n",
       "    }\n",
       "\n",
       "    .dataframe thead th {\n",
       "        text-align: right;\n",
       "    }\n",
       "</style>\n",
       "<table border=\"1\" class=\"dataframe\">\n",
       "  <thead>\n",
       "    <tr style=\"text-align: right;\">\n",
       "      <th></th>\n",
       "      <th>id</th>\n",
       "      <th>hocky</th>\n",
       "      <th>namhoc</th>\n",
       "      <th>miengiam</th>\n",
       "    </tr>\n",
       "  </thead>\n",
       "  <tbody>\n",
       "    <tr>\n",
       "      <th>count</th>\n",
       "      <td>5652.000000</td>\n",
       "      <td>5652.000000</td>\n",
       "      <td>5652.000000</td>\n",
       "      <td>5.652000e+03</td>\n",
       "    </tr>\n",
       "    <tr>\n",
       "      <th>mean</th>\n",
       "      <td>2932.934713</td>\n",
       "      <td>1.957360</td>\n",
       "      <td>2018.620842</td>\n",
       "      <td>6.303078e+05</td>\n",
       "    </tr>\n",
       "    <tr>\n",
       "      <th>std</th>\n",
       "      <td>1684.359366</td>\n",
       "      <td>0.202061</td>\n",
       "      <td>1.342344</td>\n",
       "      <td>4.910694e+05</td>\n",
       "    </tr>\n",
       "    <tr>\n",
       "      <th>min</th>\n",
       "      <td>1.000000</td>\n",
       "      <td>1.000000</td>\n",
       "      <td>2013.000000</td>\n",
       "      <td>5.000000e+01</td>\n",
       "    </tr>\n",
       "    <tr>\n",
       "      <th>25%</th>\n",
       "      <td>1482.750000</td>\n",
       "      <td>2.000000</td>\n",
       "      <td>2019.000000</td>\n",
       "      <td>3.710000e+05</td>\n",
       "    </tr>\n",
       "    <tr>\n",
       "      <th>50%</th>\n",
       "      <td>2953.500000</td>\n",
       "      <td>2.000000</td>\n",
       "      <td>2019.000000</td>\n",
       "      <td>3.710000e+05</td>\n",
       "    </tr>\n",
       "    <tr>\n",
       "      <th>75%</th>\n",
       "      <td>4381.250000</td>\n",
       "      <td>2.000000</td>\n",
       "      <td>2019.000000</td>\n",
       "      <td>1.050000e+06</td>\n",
       "    </tr>\n",
       "    <tr>\n",
       "      <th>max</th>\n",
       "      <td>5899.000000</td>\n",
       "      <td>2.000000</td>\n",
       "      <td>2019.000000</td>\n",
       "      <td>3.250000e+06</td>\n",
       "    </tr>\n",
       "  </tbody>\n",
       "</table>\n",
       "</div>"
      ],
      "text/plain": [
       "                id        hocky       namhoc      miengiam\n",
       "count  5652.000000  5652.000000  5652.000000  5.652000e+03\n",
       "mean   2932.934713     1.957360  2018.620842  6.303078e+05\n",
       "std    1684.359366     0.202061     1.342344  4.910694e+05\n",
       "min       1.000000     1.000000  2013.000000  5.000000e+01\n",
       "25%    1482.750000     2.000000  2019.000000  3.710000e+05\n",
       "50%    2953.500000     2.000000  2019.000000  3.710000e+05\n",
       "75%    4381.250000     2.000000  2019.000000  1.050000e+06\n",
       "max    5899.000000     2.000000  2019.000000  3.250000e+06"
      ]
     },
     "execution_count": 7,
     "metadata": {},
     "output_type": "execute_result"
    }
   ],
   "source": [
    "old_df.describe()"
   ]
  },
  {
   "cell_type": "code",
   "execution_count": 8,
   "metadata": {},
   "outputs": [],
   "source": [
    "new_df.drop('id', axis=1, inplace=True)"
   ]
  },
  {
   "attachments": {},
   "cell_type": "markdown",
   "metadata": {},
   "source": [
    "ghichu - Handle duplication"
   ]
  },
  {
   "cell_type": "code",
   "execution_count": 9,
   "metadata": {},
   "outputs": [
    {
     "data": {
      "text/plain": [
       "ghichu\n",
       "Giảm 7% HP hỗ trợ ảnh hưởng dịch COVID-19                                                                                     5180\n",
       "Người có công với cách mạng và thân nhân của người có công với cách mạng theo Pháp lệnh ưu đãi người có công                   123\n",
       "Giam 7% hoc phi do Covid                                                                                                        24\n",
       "Giam 7% hoc phi do dich Covid 19                                                                                                19\n",
       "Học sinh, sinh viên người dân tộc thiểu số rất ít người ở vùng có điều kiện kinh tế - xã hội khó khăn và đặc biệt khó khăn      13\n",
       "Đối tượng giảm 50% học phí                                                                                                       8\n",
       "Name: count, dtype: int64"
      ]
     },
     "execution_count": 9,
     "metadata": {},
     "output_type": "execute_result"
    }
   ],
   "source": [
    "new_df['ghichu'].value_counts()"
   ]
  },
  {
   "cell_type": "code",
   "execution_count": 10,
   "metadata": {},
   "outputs": [
    {
     "data": {
      "text/plain": [
       "ghichu\n",
       "Giảm 7% học phí do ảnh hưởng của dịch COVID-19                                                                                5223\n",
       "Người có công với cách mạng và thân nhân của người có công với cách mạng theo Pháp lệnh ưu đãi người có công                   123\n",
       "Học sinh, sinh viên người dân tộc thiểu số rất ít người ở vùng có điều kiện kinh tế - xã hội khó khăn và đặc biệt khó khăn      13\n",
       "Đối tượng giảm 50% học phí                                                                                                       8\n",
       "Name: count, dtype: int64"
      ]
     },
     "execution_count": 10,
     "metadata": {},
     "output_type": "execute_result"
    }
   ],
   "source": [
    "mapping_dict = {\n",
    "    'Giảm 7% HP hỗ trợ ảnh hưởng dịch COVID-19': 'Giảm 7% học phí do ảnh hưởng của dịch COVID-19',\n",
    "    'Giam 7% hoc phi do Covid': 'Giảm 7% học phí do ảnh hưởng của dịch COVID-19',\n",
    "    'Giam 7% hoc phi do dich Covid 19': 'Giảm 7% học phí do ảnh hưởng của dịch COVID-19'\n",
    "}\n",
    "new_df['ghichu'] = new_df['ghichu'].replace(mapping_dict)\n",
    "new_df['ghichu'] = new_df['ghichu'].astype('category')\n",
    "new_df['ghichu'].value_counts()"
   ]
  },
  {
   "attachments": {},
   "cell_type": "markdown",
   "metadata": {},
   "source": [
    "hocky - Handle duplication"
   ]
  },
  {
   "cell_type": "code",
   "execution_count": 11,
   "metadata": {},
   "outputs": [
    {
     "data": {
      "text/plain": [
       "hocky\n",
       "2    5411\n",
       "1     241\n",
       "Name: count, dtype: int64"
      ]
     },
     "execution_count": 11,
     "metadata": {},
     "output_type": "execute_result"
    }
   ],
   "source": [
    "new_df.hocky.value_counts(dropna=False)"
   ]
  },
  {
   "cell_type": "code",
   "execution_count": 12,
   "metadata": {},
   "outputs": [],
   "source": [
    "mapping_dict = {\n",
    "    1: '1',\n",
    "    2: '2',\n",
    "}\n",
    "\n",
    "new_df.hocky = new_df.hocky.replace(mapping_dict).astype('category')"
   ]
  },
  {
   "attachments": {},
   "cell_type": "markdown",
   "metadata": {},
   "source": [
    "namhoc - Handle duplication"
   ]
  },
  {
   "cell_type": "code",
   "execution_count": 13,
   "metadata": {},
   "outputs": [
    {
     "data": {
      "text/plain": [
       "namhoc\n",
       "2019    5223\n",
       "2015     146\n",
       "2013     144\n",
       "2014     139\n",
       "Name: count, dtype: int64"
      ]
     },
     "execution_count": 13,
     "metadata": {},
     "output_type": "execute_result"
    }
   ],
   "source": [
    "new_df.namhoc.value_counts(dropna=False)"
   ]
  },
  {
   "cell_type": "code",
   "execution_count": 14,
   "metadata": {},
   "outputs": [],
   "source": [
    "mapping_dict = {\n",
    "    2019: '2019',\n",
    "    2015: '2015',\n",
    "    2014: '2014',\n",
    "    2013: '2013',\n",
    "}\n",
    "\n",
    "new_df.namhoc = new_df.namhoc.replace(mapping_dict).astype('category')"
   ]
  },
  {
   "attachments": {},
   "cell_type": "markdown",
   "metadata": {},
   "source": [
    "doituong - Handle duplication"
   ]
  },
  {
   "cell_type": "code",
   "execution_count": 15,
   "metadata": {},
   "outputs": [
    {
     "data": {
      "text/plain": [
       "doituong\n",
       "Con thương binh                                                                                                    266\n",
       "Con bệnh binh                                                                                                       55\n",
       "DTTS + hộ nghèo/cận nghèo                                                                                           21\n",
       "DTTS +hộ nghèo/cận nghèo                                                                                            18\n",
       "Cha (mẹ) bị TNLĐ/TNNN                                                                                               14\n",
       "Dân tộc thiểu số +hộ nghèo/cận nghèo                                                                                12\n",
       "Cha (mẹ) bị nhiễm CĐHH                                                                                              11\n",
       "Cha (mẹ) là cán bộ, công nhân, viên chức bị TNLĐ/TNNN hoặc mắc bệnh nghề nghiệp được hưởng trợ cấp thường xuyên      8\n",
       "Sinh viên bị khuyết tật                                                                                              8\n",
       "Cha (mẹ) hoạt động kháng chiến bị nhiễm chất độc hóa học                                                             6\n",
       "SV khuyết tật                                                                                                        3\n",
       "DTTS rất ít người                                                                                                    2\n",
       "DTTS ở vùng KTXH đặc biệt khó khăn                                                                                   2\n",
       "Dân tộc thiểu số + hộ nghèo/cận nghèo                                                                                1\n",
       "SV mồ côi                                                                                                            1\n",
       "DTTS + Hộ nghèo/cận nghèo                                                                                            1\n",
       "Name: count, dtype: int64"
      ]
     },
     "execution_count": 15,
     "metadata": {},
     "output_type": "execute_result"
    }
   ],
   "source": [
    "new_df['doituong'].value_counts()"
   ]
  },
  {
   "cell_type": "code",
   "execution_count": 16,
   "metadata": {},
   "outputs": [
    {
     "data": {
      "text/plain": [
       "doituong\n",
       "Con thương binh                                                                                                    266\n",
       "Con bệnh binh                                                                                                       55\n",
       "Dân tộc thiểu số + hộ nghèo/cận nghèo                                                                               53\n",
       "Cha (mẹ) bị TNLĐ/TNNN                                                                                               14\n",
       "Cha (mẹ) bị nhiễm CĐHH                                                                                              11\n",
       "SV khuyết tật                                                                                                       11\n",
       "Cha (mẹ) là cán bộ, công nhân, viên chức bị TNLĐ/TNNN hoặc mắc bệnh nghề nghiệp được hưởng trợ cấp thường xuyên      8\n",
       "Cha (mẹ) hoạt động kháng chiến bị nhiễm chất độc hóa học                                                             6\n",
       "DTTS rất ít người                                                                                                    2\n",
       "DTTS ở vùng KTXH đặc biệt khó khăn                                                                                   2\n",
       "SV mồ côi                                                                                                            1\n",
       "Name: count, dtype: int64"
      ]
     },
     "execution_count": 16,
     "metadata": {},
     "output_type": "execute_result"
    }
   ],
   "source": [
    "dtts_ngheo = \"Dân tộc thiểu số + hộ nghèo/cận nghèo\"\n",
    "mapping_dict = {\n",
    "    'DTTS + Hộ nghèo/cận nghèo': dtts_ngheo,\n",
    "    'DTTS + hộ nghèo/cận nghèo': dtts_ngheo,\n",
    "    'DTTS +hộ nghèo/cận nghèo': dtts_ngheo,\n",
    "    'Dân tộc thiểu số + hộ nghèo/cận nghèo': dtts_ngheo,\n",
    "    'Dân tộc thiểu số +hộ nghèo/cận nghèo': dtts_ngheo,\n",
    "    'Sinh viên bị khuyết tật': 'SV khuyết tật',\n",
    "    # 'Cha (mẹ) hoạt động kháng chiến bị nhiễm chất độc hóa học': 'Cha (mẹ) bị nhiễm CĐHH',\n",
    "    # 'Cha (mẹ) là cán bộ, công nhân, viên chức bị TNLĐ/TNNN hoặc mắc bệnh nghề nghiệp được hưởng trợ cấp thường xuyên': 'Cha (mẹ) bị TNLĐ/TNNN',\n",
    "}\n",
    "new_df['doituong'] = new_df['doituong'].replace(mapping_dict)\n",
    "new_df['doituong'] = new_df['doituong'].astype('category')\n",
    "\n",
    "new_df['doituong'].value_counts()"
   ]
  },
  {
   "attachments": {},
   "cell_type": "markdown",
   "metadata": {},
   "source": [
    "mssv - Handle duplication"
   ]
  },
  {
   "cell_type": "code",
   "execution_count": 17,
   "metadata": {},
   "outputs": [
    {
     "data": {
      "text/plain": [
       "mssv\n",
       "52A13A56XPvAibaEXe8Y+/3uR2PkTBzKGlmHNdAe    6\n",
       "66B24040XPvAibaEXe+wmtNhlfgIwn9iSiemRgPv    6\n",
       "5EA0E379XPvAibaEXe9Xnw4t0GPgx3ZLzmzrJTA6    6\n",
       "740BF475XPvAibaEXe80gGmWuNekT0DMGoGib8Ko    6\n",
       "B07B894BXPvAibaEXe8s1xx8DWM0quj3PKFHHyHD    6\n",
       "                                           ..\n",
       "56626D79XPvAibaEXe+D5C9Re7EGLcLpN9AoumiF    1\n",
       "566261C0XPvAibaEXe+HeL85QGo03a9hUZtbafsZ    1\n",
       "56587D9CXPvAibaEXe++B0JyCbXA1D+9N1erNAGS    1\n",
       "56535DAEXPvAibaEXe/pS44gx8Fm9j1XdP/cQelm    1\n",
       "FFFA4234XPvAibaEXe+OhmjSj4XEzdTGgcTdT9fT    1\n",
       "Name: count, Length: 5341, dtype: int64"
      ]
     },
     "execution_count": 17,
     "metadata": {},
     "output_type": "execute_result"
    }
   ],
   "source": [
    "new_df['mssv'] = new_df['mssv'].astype('category')\n",
    "\n",
    "new_df['mssv'].value_counts()"
   ]
  },
  {
   "attachments": {},
   "cell_type": "markdown",
   "metadata": {},
   "source": [
    "miengiam - Handle duplication"
   ]
  },
  {
   "cell_type": "code",
   "execution_count": 18,
   "metadata": {},
   "outputs": [
    {
     "data": {
      "text/plain": [
       "miengiam\n",
       "1050000    1655\n",
       "371000     1559\n",
       "112000      779\n",
       "100         388\n",
       "1400000     218\n",
       "           ... \n",
       "2520000       1\n",
       "369600        1\n",
       "478800        1\n",
       "432600        1\n",
       "85750         1\n",
       "Name: count, Length: 189, dtype: int64"
      ]
     },
     "execution_count": 18,
     "metadata": {},
     "output_type": "execute_result"
    }
   ],
   "source": [
    "new_df['miengiam'].value_counts()"
   ]
  },
  {
   "cell_type": "code",
   "execution_count": 19,
   "metadata": {},
   "outputs": [
    {
     "data": {
      "text/plain": [
       "miengiam\n",
       "100    388\n",
       "50      22\n",
       "70       2\n",
       "Name: count, dtype: int64"
      ]
     },
     "execution_count": 19,
     "metadata": {},
     "output_type": "execute_result"
    }
   ],
   "source": [
    "new_df.loc[new_df.miengiam <= 100, 'miengiam'].value_counts()"
   ]
  },
  {
   "attachments": {},
   "cell_type": "markdown",
   "metadata": {},
   "source": [
    "Handle missing data"
   ]
  },
  {
   "cell_type": "code",
   "execution_count": 20,
   "metadata": {},
   "outputs": [
    {
     "name": "stdout",
     "output_type": "stream",
     "text": [
      "<class 'pandas.core.frame.DataFrame'>\n",
      "RangeIndex: 5652 entries, 0 to 5651\n",
      "Data columns (total 6 columns):\n",
      " #   Column    Non-Null Count  Dtype   \n",
      "---  ------    --------------  -----   \n",
      " 0   mssv      5652 non-null   category\n",
      " 1   hocky     5652 non-null   category\n",
      " 2   namhoc    5652 non-null   category\n",
      " 3   doituong  429 non-null    category\n",
      " 4   miengiam  5652 non-null   int64   \n",
      " 5   ghichu    5367 non-null   category\n",
      "dtypes: category(5), int64(1)\n",
      "memory usage: 249.1 KB\n"
     ]
    }
   ],
   "source": [
    "new_df.info()"
   ]
  },
  {
   "cell_type": "code",
   "execution_count": 21,
   "metadata": {},
   "outputs": [
    {
     "data": {
      "text/html": [
       "<div>\n",
       "<style scoped>\n",
       "    .dataframe tbody tr th:only-of-type {\n",
       "        vertical-align: middle;\n",
       "    }\n",
       "\n",
       "    .dataframe tbody tr th {\n",
       "        vertical-align: top;\n",
       "    }\n",
       "\n",
       "    .dataframe thead th {\n",
       "        text-align: right;\n",
       "    }\n",
       "</style>\n",
       "<table border=\"1\" class=\"dataframe\">\n",
       "  <thead>\n",
       "    <tr style=\"text-align: right;\">\n",
       "      <th></th>\n",
       "      <th>doituong</th>\n",
       "      <th>ghichu</th>\n",
       "    </tr>\n",
       "  </thead>\n",
       "  <tbody>\n",
       "    <tr>\n",
       "      <th>0</th>\n",
       "      <td>Con thương binh</td>\n",
       "      <td>Người có công với cách mạng và thân nhân của n...</td>\n",
       "    </tr>\n",
       "    <tr>\n",
       "      <th>2</th>\n",
       "      <td>Dân tộc thiểu số + hộ nghèo/cận nghèo</td>\n",
       "      <td>Học sinh, sinh viên người dân tộc thiểu số rất...</td>\n",
       "    </tr>\n",
       "    <tr>\n",
       "      <th>8</th>\n",
       "      <td>Con bệnh binh</td>\n",
       "      <td>Người có công với cách mạng và thân nhân của n...</td>\n",
       "    </tr>\n",
       "    <tr>\n",
       "      <th>23</th>\n",
       "      <td>Cha (mẹ) là cán bộ, công nhân, viên chức bị TN...</td>\n",
       "      <td>Đối tượng giảm 50% học phí</td>\n",
       "    </tr>\n",
       "    <tr>\n",
       "      <th>27</th>\n",
       "      <td>Cha (mẹ) hoạt động kháng chiến bị nhiễm chất đ...</td>\n",
       "      <td>Người có công với cách mạng và thân nhân của n...</td>\n",
       "    </tr>\n",
       "    <tr>\n",
       "      <th>144</th>\n",
       "      <td>Con thương binh</td>\n",
       "      <td>NaN</td>\n",
       "    </tr>\n",
       "    <tr>\n",
       "      <th>186</th>\n",
       "      <td>Con bệnh binh</td>\n",
       "      <td>NaN</td>\n",
       "    </tr>\n",
       "    <tr>\n",
       "      <th>196</th>\n",
       "      <td>Cha (mẹ) bị nhiễm CĐHH</td>\n",
       "      <td>NaN</td>\n",
       "    </tr>\n",
       "    <tr>\n",
       "      <th>199</th>\n",
       "      <td>Dân tộc thiểu số + hộ nghèo/cận nghèo</td>\n",
       "      <td>NaN</td>\n",
       "    </tr>\n",
       "    <tr>\n",
       "      <th>205</th>\n",
       "      <td>Cha (mẹ) bị TNLĐ/TNNN</td>\n",
       "      <td>NaN</td>\n",
       "    </tr>\n",
       "    <tr>\n",
       "      <th>226</th>\n",
       "      <td>SV khuyết tật</td>\n",
       "      <td>NaN</td>\n",
       "    </tr>\n",
       "    <tr>\n",
       "      <th>343</th>\n",
       "      <td>SV mồ côi</td>\n",
       "      <td>NaN</td>\n",
       "    </tr>\n",
       "    <tr>\n",
       "      <th>356</th>\n",
       "      <td>DTTS rất ít người</td>\n",
       "      <td>NaN</td>\n",
       "    </tr>\n",
       "    <tr>\n",
       "      <th>423</th>\n",
       "      <td>DTTS ở vùng KTXH đặc biệt khó khăn</td>\n",
       "      <td>NaN</td>\n",
       "    </tr>\n",
       "    <tr>\n",
       "      <th>429</th>\n",
       "      <td>NaN</td>\n",
       "      <td>Giảm 7% học phí do ảnh hưởng của dịch COVID-19</td>\n",
       "    </tr>\n",
       "  </tbody>\n",
       "</table>\n",
       "</div>"
      ],
      "text/plain": [
       "                                              doituong   \n",
       "0                                      Con thương binh  \\\n",
       "2                Dân tộc thiểu số + hộ nghèo/cận nghèo   \n",
       "8                                        Con bệnh binh   \n",
       "23   Cha (mẹ) là cán bộ, công nhân, viên chức bị TN...   \n",
       "27   Cha (mẹ) hoạt động kháng chiến bị nhiễm chất đ...   \n",
       "144                                    Con thương binh   \n",
       "186                                      Con bệnh binh   \n",
       "196                             Cha (mẹ) bị nhiễm CĐHH   \n",
       "199              Dân tộc thiểu số + hộ nghèo/cận nghèo   \n",
       "205                              Cha (mẹ) bị TNLĐ/TNNN   \n",
       "226                                      SV khuyết tật   \n",
       "343                                          SV mồ côi   \n",
       "356                                  DTTS rất ít người   \n",
       "423                 DTTS ở vùng KTXH đặc biệt khó khăn   \n",
       "429                                                NaN   \n",
       "\n",
       "                                                ghichu  \n",
       "0    Người có công với cách mạng và thân nhân của n...  \n",
       "2    Học sinh, sinh viên người dân tộc thiểu số rất...  \n",
       "8    Người có công với cách mạng và thân nhân của n...  \n",
       "23                          Đối tượng giảm 50% học phí  \n",
       "27   Người có công với cách mạng và thân nhân của n...  \n",
       "144                                                NaN  \n",
       "186                                                NaN  \n",
       "196                                                NaN  \n",
       "199                                                NaN  \n",
       "205                                                NaN  \n",
       "226                                                NaN  \n",
       "343                                                NaN  \n",
       "356                                                NaN  \n",
       "423                                                NaN  \n",
       "429     Giảm 7% học phí do ảnh hưởng của dịch COVID-19  "
      ]
     },
     "execution_count": 21,
     "metadata": {},
     "output_type": "execute_result"
    }
   ],
   "source": [
    "new_df[[\"doituong\", 'ghichu']].drop_duplicates()"
   ]
  },
  {
   "attachments": {},
   "cell_type": "markdown",
   "metadata": {},
   "source": [
    "..."
   ]
  },
  {
   "cell_type": "code",
   "execution_count": 22,
   "metadata": {},
   "outputs": [
    {
     "data": {
      "text/html": [
       "<div>\n",
       "<style scoped>\n",
       "    .dataframe tbody tr th:only-of-type {\n",
       "        vertical-align: middle;\n",
       "    }\n",
       "\n",
       "    .dataframe tbody tr th {\n",
       "        vertical-align: top;\n",
       "    }\n",
       "\n",
       "    .dataframe thead th {\n",
       "        text-align: right;\n",
       "    }\n",
       "</style>\n",
       "<table border=\"1\" class=\"dataframe\">\n",
       "  <thead>\n",
       "    <tr style=\"text-align: right;\">\n",
       "      <th></th>\n",
       "      <th>doituong</th>\n",
       "      <th>ghichu</th>\n",
       "    </tr>\n",
       "  </thead>\n",
       "  <tbody>\n",
       "    <tr>\n",
       "      <th>0</th>\n",
       "      <td>Con thương binh</td>\n",
       "      <td>Người có công với cách mạng và thân nhân của n...</td>\n",
       "    </tr>\n",
       "    <tr>\n",
       "      <th>2</th>\n",
       "      <td>Dân tộc thiểu số + hộ nghèo/cận nghèo</td>\n",
       "      <td>Học sinh, sinh viên người dân tộc thiểu số rất...</td>\n",
       "    </tr>\n",
       "    <tr>\n",
       "      <th>8</th>\n",
       "      <td>Con bệnh binh</td>\n",
       "      <td>Người có công với cách mạng và thân nhân của n...</td>\n",
       "    </tr>\n",
       "    <tr>\n",
       "      <th>23</th>\n",
       "      <td>Cha (mẹ) là cán bộ, công nhân, viên chức bị TN...</td>\n",
       "      <td>Đối tượng giảm 50% học phí</td>\n",
       "    </tr>\n",
       "    <tr>\n",
       "      <th>27</th>\n",
       "      <td>Cha (mẹ) hoạt động kháng chiến bị nhiễm chất đ...</td>\n",
       "      <td>Người có công với cách mạng và thân nhân của n...</td>\n",
       "    </tr>\n",
       "    <tr>\n",
       "      <th>144</th>\n",
       "      <td>Con thương binh</td>\n",
       "      <td>NaN</td>\n",
       "    </tr>\n",
       "    <tr>\n",
       "      <th>186</th>\n",
       "      <td>Con bệnh binh</td>\n",
       "      <td>NaN</td>\n",
       "    </tr>\n",
       "    <tr>\n",
       "      <th>196</th>\n",
       "      <td>Cha (mẹ) bị nhiễm CĐHH</td>\n",
       "      <td>NaN</td>\n",
       "    </tr>\n",
       "    <tr>\n",
       "      <th>199</th>\n",
       "      <td>Dân tộc thiểu số + hộ nghèo/cận nghèo</td>\n",
       "      <td>NaN</td>\n",
       "    </tr>\n",
       "    <tr>\n",
       "      <th>205</th>\n",
       "      <td>Cha (mẹ) bị TNLĐ/TNNN</td>\n",
       "      <td>NaN</td>\n",
       "    </tr>\n",
       "    <tr>\n",
       "      <th>226</th>\n",
       "      <td>SV khuyết tật</td>\n",
       "      <td>NaN</td>\n",
       "    </tr>\n",
       "    <tr>\n",
       "      <th>343</th>\n",
       "      <td>SV mồ côi</td>\n",
       "      <td>NaN</td>\n",
       "    </tr>\n",
       "    <tr>\n",
       "      <th>356</th>\n",
       "      <td>DTTS rất ít người</td>\n",
       "      <td>NaN</td>\n",
       "    </tr>\n",
       "    <tr>\n",
       "      <th>423</th>\n",
       "      <td>DTTS ở vùng KTXH đặc biệt khó khăn</td>\n",
       "      <td>NaN</td>\n",
       "    </tr>\n",
       "    <tr>\n",
       "      <th>429</th>\n",
       "      <td>SV bị ảnh hưởng bởi dịch COVID-19</td>\n",
       "      <td>Giảm 7% học phí do ảnh hưởng của dịch COVID-19</td>\n",
       "    </tr>\n",
       "  </tbody>\n",
       "</table>\n",
       "</div>"
      ],
      "text/plain": [
       "                                              doituong   \n",
       "0                                      Con thương binh  \\\n",
       "2                Dân tộc thiểu số + hộ nghèo/cận nghèo   \n",
       "8                                        Con bệnh binh   \n",
       "23   Cha (mẹ) là cán bộ, công nhân, viên chức bị TN...   \n",
       "27   Cha (mẹ) hoạt động kháng chiến bị nhiễm chất đ...   \n",
       "144                                    Con thương binh   \n",
       "186                                      Con bệnh binh   \n",
       "196                             Cha (mẹ) bị nhiễm CĐHH   \n",
       "199              Dân tộc thiểu số + hộ nghèo/cận nghèo   \n",
       "205                              Cha (mẹ) bị TNLĐ/TNNN   \n",
       "226                                      SV khuyết tật   \n",
       "343                                          SV mồ côi   \n",
       "356                                  DTTS rất ít người   \n",
       "423                 DTTS ở vùng KTXH đặc biệt khó khăn   \n",
       "429                  SV bị ảnh hưởng bởi dịch COVID-19   \n",
       "\n",
       "                                                ghichu  \n",
       "0    Người có công với cách mạng và thân nhân của n...  \n",
       "2    Học sinh, sinh viên người dân tộc thiểu số rất...  \n",
       "8    Người có công với cách mạng và thân nhân của n...  \n",
       "23                          Đối tượng giảm 50% học phí  \n",
       "27   Người có công với cách mạng và thân nhân của n...  \n",
       "144                                                NaN  \n",
       "186                                                NaN  \n",
       "196                                                NaN  \n",
       "199                                                NaN  \n",
       "205                                                NaN  \n",
       "226                                                NaN  \n",
       "343                                                NaN  \n",
       "356                                                NaN  \n",
       "423                                                NaN  \n",
       "429     Giảm 7% học phí do ảnh hưởng của dịch COVID-19  "
      ]
     },
     "execution_count": 22,
     "metadata": {},
     "output_type": "execute_result"
    }
   ],
   "source": [
    "fill_value = 'SV bị ảnh hưởng bởi dịch COVID-19'\n",
    "new_df.doituong = new_df.doituong.cat.add_categories([fill_value])\n",
    "new_df.doituong.fillna(value=fill_value, inplace=True)\n",
    "new_df[[\"doituong\", 'ghichu']].drop_duplicates()"
   ]
  },
  {
   "cell_type": "code",
   "execution_count": 23,
   "metadata": {},
   "outputs": [
    {
     "data": {
      "text/html": [
       "<div>\n",
       "<style scoped>\n",
       "    .dataframe tbody tr th:only-of-type {\n",
       "        vertical-align: middle;\n",
       "    }\n",
       "\n",
       "    .dataframe tbody tr th {\n",
       "        vertical-align: top;\n",
       "    }\n",
       "\n",
       "    .dataframe thead th {\n",
       "        text-align: right;\n",
       "    }\n",
       "</style>\n",
       "<table border=\"1\" class=\"dataframe\">\n",
       "  <thead>\n",
       "    <tr style=\"text-align: right;\">\n",
       "      <th></th>\n",
       "      <th>hocky</th>\n",
       "      <th>namhoc</th>\n",
       "      <th>miengiam</th>\n",
       "      <th>doituong</th>\n",
       "      <th>ghichu</th>\n",
       "    </tr>\n",
       "  </thead>\n",
       "  <tbody>\n",
       "    <tr>\n",
       "      <th>205</th>\n",
       "      <td>1</td>\n",
       "      <td>2014</td>\n",
       "      <td>50</td>\n",
       "      <td>Cha (mẹ) bị TNLĐ/TNNN</td>\n",
       "      <td>NaN</td>\n",
       "    </tr>\n",
       "    <tr>\n",
       "      <th>271</th>\n",
       "      <td>2</td>\n",
       "      <td>2014</td>\n",
       "      <td>50</td>\n",
       "      <td>Cha (mẹ) bị TNLĐ/TNNN</td>\n",
       "      <td>NaN</td>\n",
       "    </tr>\n",
       "    <tr>\n",
       "      <th>301</th>\n",
       "      <td>1</td>\n",
       "      <td>2015</td>\n",
       "      <td>50</td>\n",
       "      <td>Cha (mẹ) bị TNLĐ/TNNN</td>\n",
       "      <td>NaN</td>\n",
       "    </tr>\n",
       "    <tr>\n",
       "      <th>366</th>\n",
       "      <td>2</td>\n",
       "      <td>2015</td>\n",
       "      <td>50</td>\n",
       "      <td>Cha (mẹ) bị TNLĐ/TNNN</td>\n",
       "      <td>NaN</td>\n",
       "    </tr>\n",
       "    <tr>\n",
       "      <th>196</th>\n",
       "      <td>1</td>\n",
       "      <td>2014</td>\n",
       "      <td>100</td>\n",
       "      <td>Cha (mẹ) bị nhiễm CĐHH</td>\n",
       "      <td>NaN</td>\n",
       "    </tr>\n",
       "    <tr>\n",
       "      <th>...</th>\n",
       "      <td>...</td>\n",
       "      <td>...</td>\n",
       "      <td>...</td>\n",
       "      <td>...</td>\n",
       "      <td>...</td>\n",
       "    </tr>\n",
       "    <tr>\n",
       "      <th>5603</th>\n",
       "      <td>2</td>\n",
       "      <td>2019</td>\n",
       "      <td>389060</td>\n",
       "      <td>SV bị ảnh hưởng bởi dịch COVID-19</td>\n",
       "      <td>Giảm 7% học phí do ảnh hưởng của dịch COVID-19</td>\n",
       "    </tr>\n",
       "    <tr>\n",
       "      <th>5604</th>\n",
       "      <td>2</td>\n",
       "      <td>2019</td>\n",
       "      <td>515060</td>\n",
       "      <td>SV bị ảnh hưởng bởi dịch COVID-19</td>\n",
       "      <td>Giảm 7% học phí do ảnh hưởng của dịch COVID-19</td>\n",
       "    </tr>\n",
       "    <tr>\n",
       "      <th>5613</th>\n",
       "      <td>2</td>\n",
       "      <td>2019</td>\n",
       "      <td>439460</td>\n",
       "      <td>SV bị ảnh hưởng bởi dịch COVID-19</td>\n",
       "      <td>Giảm 7% học phí do ảnh hưởng của dịch COVID-19</td>\n",
       "    </tr>\n",
       "    <tr>\n",
       "      <th>5624</th>\n",
       "      <td>2</td>\n",
       "      <td>2019</td>\n",
       "      <td>1183000</td>\n",
       "      <td>SV bị ảnh hưởng bởi dịch COVID-19</td>\n",
       "      <td>Giảm 7% học phí do ảnh hưởng của dịch COVID-19</td>\n",
       "    </tr>\n",
       "    <tr>\n",
       "      <th>5633</th>\n",
       "      <td>2</td>\n",
       "      <td>2019</td>\n",
       "      <td>2800000</td>\n",
       "      <td>SV bị ảnh hưởng bởi dịch COVID-19</td>\n",
       "      <td>Giảm 7% học phí do ảnh hưởng của dịch COVID-19</td>\n",
       "    </tr>\n",
       "  </tbody>\n",
       "</table>\n",
       "<p>228 rows × 5 columns</p>\n",
       "</div>"
      ],
      "text/plain": [
       "     hocky namhoc  miengiam                           doituong   \n",
       "205      1   2014        50              Cha (mẹ) bị TNLĐ/TNNN  \\\n",
       "271      2   2014        50              Cha (mẹ) bị TNLĐ/TNNN   \n",
       "301      1   2015        50              Cha (mẹ) bị TNLĐ/TNNN   \n",
       "366      2   2015        50              Cha (mẹ) bị TNLĐ/TNNN   \n",
       "196      1   2014       100             Cha (mẹ) bị nhiễm CĐHH   \n",
       "...    ...    ...       ...                                ...   \n",
       "5603     2   2019    389060  SV bị ảnh hưởng bởi dịch COVID-19   \n",
       "5604     2   2019    515060  SV bị ảnh hưởng bởi dịch COVID-19   \n",
       "5613     2   2019    439460  SV bị ảnh hưởng bởi dịch COVID-19   \n",
       "5624     2   2019   1183000  SV bị ảnh hưởng bởi dịch COVID-19   \n",
       "5633     2   2019   2800000  SV bị ảnh hưởng bởi dịch COVID-19   \n",
       "\n",
       "                                              ghichu  \n",
       "205                                              NaN  \n",
       "271                                              NaN  \n",
       "301                                              NaN  \n",
       "366                                              NaN  \n",
       "196                                              NaN  \n",
       "...                                              ...  \n",
       "5603  Giảm 7% học phí do ảnh hưởng của dịch COVID-19  \n",
       "5604  Giảm 7% học phí do ảnh hưởng của dịch COVID-19  \n",
       "5613  Giảm 7% học phí do ảnh hưởng của dịch COVID-19  \n",
       "5624  Giảm 7% học phí do ảnh hưởng của dịch COVID-19  \n",
       "5633  Giảm 7% học phí do ảnh hưởng của dịch COVID-19  \n",
       "\n",
       "[228 rows x 5 columns]"
      ]
     },
     "execution_count": 23,
     "metadata": {},
     "output_type": "execute_result"
    }
   ],
   "source": [
    "haha = new_df[[\"hocky\", \"namhoc\", \"miengiam\", \"doituong\", \"ghichu\"]].drop_duplicates().sort_values(by=[\"doituong\", \"ghichu\", \"namhoc\", \"hocky\"])\n",
    "haha"
   ]
  },
  {
   "cell_type": "code",
   "execution_count": 24,
   "metadata": {},
   "outputs": [
    {
     "name": "stdout",
     "output_type": "stream",
     "text": [
      "|      |   hocky |   namhoc |   miengiam | doituong                                                                                                        | ghichu                                                                                                                     |\n",
      "|-----:|--------:|---------:|-----------:|:----------------------------------------------------------------------------------------------------------------|:---------------------------------------------------------------------------------------------------------------------------|\n",
      "|  205 |       1 |     2014 |         50 | Cha (mẹ) bị TNLĐ/TNNN                                                                                           | nan                                                                                                                        |\n",
      "|  271 |       2 |     2014 |         50 | Cha (mẹ) bị TNLĐ/TNNN                                                                                           | nan                                                                                                                        |\n",
      "|  301 |       1 |     2015 |         50 | Cha (mẹ) bị TNLĐ/TNNN                                                                                           | nan                                                                                                                        |\n",
      "|  366 |       2 |     2015 |         50 | Cha (mẹ) bị TNLĐ/TNNN                                                                                           | nan                                                                                                                        |\n",
      "|  196 |       1 |     2014 |        100 | Cha (mẹ) bị nhiễm CĐHH                                                                                          | nan                                                                                                                        |\n",
      "|  269 |       2 |     2014 |        100 | Cha (mẹ) bị nhiễm CĐHH                                                                                          | nan                                                                                                                        |\n",
      "|  283 |       1 |     2015 |        100 | Cha (mẹ) bị nhiễm CĐHH                                                                                          | nan                                                                                                                        |\n",
      "|  372 |       2 |     2015 |        100 | Cha (mẹ) bị nhiễm CĐHH                                                                                          | nan                                                                                                                        |\n",
      "|   27 |       1 |     2013 |        100 | Cha (mẹ) hoạt động kháng chiến bị nhiễm chất độc hóa học                                                        | Người có công với cách mạng và thân nhân của người có công với cách mạng theo Pháp lệnh ưu đãi người có công               |\n",
      "|   92 |       2 |     2013 |        100 | Cha (mẹ) hoạt động kháng chiến bị nhiễm chất độc hóa học                                                        | Người có công với cách mạng và thân nhân của người có công với cách mạng theo Pháp lệnh ưu đãi người có công               |\n",
      "|   23 |       1 |     2013 |         50 | Cha (mẹ) là cán bộ, công nhân, viên chức bị TNLĐ/TNNN hoặc mắc bệnh nghề nghiệp được hưởng trợ cấp thường xuyên | Đối tượng giảm 50% học phí                                                                                                 |\n",
      "|   88 |       2 |     2013 |         50 | Cha (mẹ) là cán bộ, công nhân, viên chức bị TNLĐ/TNNN hoặc mắc bệnh nghề nghiệp được hưởng trợ cấp thường xuyên | Đối tượng giảm 50% học phí                                                                                                 |\n",
      "|    8 |       1 |     2013 |        100 | Con bệnh binh                                                                                                   | Người có công với cách mạng và thân nhân của người có công với cách mạng theo Pháp lệnh ưu đãi người có công               |\n",
      "|   81 |       2 |     2013 |        100 | Con bệnh binh                                                                                                   | Người có công với cách mạng và thân nhân của người có công với cách mạng theo Pháp lệnh ưu đãi người có công               |\n",
      "|  186 |       1 |     2014 |        100 | Con bệnh binh                                                                                                   | nan                                                                                                                        |\n",
      "|  228 |       2 |     2014 |        100 | Con bệnh binh                                                                                                   | nan                                                                                                                        |\n",
      "|  289 |       1 |     2015 |        100 | Con bệnh binh                                                                                                   | nan                                                                                                                        |\n",
      "|  362 |       2 |     2015 |        100 | Con bệnh binh                                                                                                   | nan                                                                                                                        |\n",
      "|    0 |       1 |     2013 |        100 | Con thương binh                                                                                                 | Người có công với cách mạng và thân nhân của người có công với cách mạng theo Pháp lệnh ưu đãi người có công               |\n",
      "|   76 |       1 |     2013 |    2825000 | Con thương binh                                                                                                 | Người có công với cách mạng và thân nhân của người có công với cách mạng theo Pháp lệnh ưu đãi người có công               |\n",
      "|   79 |       2 |     2013 |        100 | Con thương binh                                                                                                 | Người có công với cách mạng và thân nhân của người có công với cách mạng theo Pháp lệnh ưu đãi người có công               |\n",
      "|  141 |       2 |     2013 |    2825000 | Con thương binh                                                                                                 | Người có công với cách mạng và thân nhân của người có công với cách mạng theo Pháp lệnh ưu đãi người có công               |\n",
      "|  144 |       1 |     2014 |        100 | Con thương binh                                                                                                 | nan                                                                                                                        |\n",
      "|  145 |       1 |     2014 |    3250000 | Con thương binh                                                                                                 | nan                                                                                                                        |\n",
      "|  229 |       2 |     2014 |        100 | Con thương binh                                                                                                 | nan                                                                                                                        |\n",
      "|  237 |       2 |     2014 |    3250000 | Con thương binh                                                                                                 | nan                                                                                                                        |\n",
      "|  284 |       1 |     2015 |        100 | Con thương binh                                                                                                 | nan                                                                                                                        |\n",
      "|  330 |       1 |     2015 |    3250000 | Con thương binh                                                                                                 | nan                                                                                                                        |\n",
      "|  363 |       2 |     2015 |        100 | Con thương binh                                                                                                 | nan                                                                                                                        |\n",
      "|  395 |       2 |     2015 |    3250000 | Con thương binh                                                                                                 | nan                                                                                                                        |\n",
      "|  356 |       1 |     2015 |        100 | DTTS rất ít người                                                                                               | nan                                                                                                                        |\n",
      "|  420 |       2 |     2015 |        100 | DTTS rất ít người                                                                                               | nan                                                                                                                        |\n",
      "|  423 |       2 |     2015 |         70 | DTTS ở vùng KTXH đặc biệt khó khăn                                                                              | nan                                                                                                                        |\n",
      "|    2 |       1 |     2013 |        100 | Dân tộc thiểu số + hộ nghèo/cận nghèo                                                                           | Học sinh, sinh viên người dân tộc thiểu số rất ít người ở vùng có điều kiện kinh tế - xã hội khó khăn và đặc biệt khó khăn |\n",
      "|  101 |       2 |     2013 |        100 | Dân tộc thiểu số + hộ nghèo/cận nghèo                                                                           | Học sinh, sinh viên người dân tộc thiểu số rất ít người ở vùng có điều kiện kinh tế - xã hội khó khăn và đặc biệt khó khăn |\n",
      "|  199 |       1 |     2014 |        100 | Dân tộc thiểu số + hộ nghèo/cận nghèo                                                                           | nan                                                                                                                        |\n",
      "|  274 |       2 |     2014 |        100 | Dân tộc thiểu số + hộ nghèo/cận nghèo                                                                           | nan                                                                                                                        |\n",
      "|  296 |       1 |     2015 |        100 | Dân tộc thiểu số + hộ nghèo/cận nghèo                                                                           | nan                                                                                                                        |\n",
      "|  361 |       2 |     2015 |        100 | Dân tộc thiểu số + hộ nghèo/cận nghèo                                                                           | nan                                                                                                                        |\n",
      "|  226 |       1 |     2014 |        100 | SV khuyết tật                                                                                                   | nan                                                                                                                        |\n",
      "|  281 |       2 |     2014 |        100 | SV khuyết tật                                                                                                   | nan                                                                                                                        |\n",
      "|  321 |       1 |     2015 |        100 | SV khuyết tật                                                                                                   | nan                                                                                                                        |\n",
      "|  398 |       2 |     2015 |        100 | SV khuyết tật                                                                                                   | nan                                                                                                                        |\n",
      "|  343 |       1 |     2015 |        100 | SV mồ côi                                                                                                       | nan                                                                                                                        |\n",
      "|  429 |       2 |     2019 |      75600 | SV bị ảnh hưởng bởi dịch COVID-19                                                                               | Giảm 7% học phí do ảnh hưởng của dịch COVID-19                                                                             |\n",
      "|  430 |       2 |     2019 |     113400 | SV bị ảnh hưởng bởi dịch COVID-19                                                                               | Giảm 7% học phí do ảnh hưởng của dịch COVID-19                                                                             |\n",
      "|  431 |       2 |     2019 |     214200 | SV bị ảnh hưởng bởi dịch COVID-19                                                                               | Giảm 7% học phí do ảnh hưởng của dịch COVID-19                                                                             |\n",
      "|  432 |       2 |     2019 |     201600 | SV bị ảnh hưởng bởi dịch COVID-19                                                                               | Giảm 7% học phí do ảnh hưởng của dịch COVID-19                                                                             |\n",
      "|  436 |       2 |     2019 |     100800 | SV bị ảnh hưởng bởi dịch COVID-19                                                                               | Giảm 7% học phí do ảnh hưởng của dịch COVID-19                                                                             |\n",
      "|  437 |       2 |     2019 |     126000 | SV bị ảnh hưởng bởi dịch COVID-19                                                                               | Giảm 7% học phí do ảnh hưởng của dịch COVID-19                                                                             |\n",
      "|  438 |       2 |     2019 |     207900 | SV bị ảnh hưởng bởi dịch COVID-19                                                                               | Giảm 7% học phí do ảnh hưởng của dịch COVID-19                                                                             |\n",
      "|  443 |       2 |     2019 |     699300 | SV bị ảnh hưởng bởi dịch COVID-19                                                                               | Giảm 7% học phí do ảnh hưởng của dịch COVID-19                                                                             |\n",
      "|  447 |       2 |     2019 |     388500 | SV bị ảnh hưởng bởi dịch COVID-19                                                                               | Giảm 7% học phí do ảnh hưởng của dịch COVID-19                                                                             |\n",
      "|  451 |       2 |     2019 |     170100 | SV bị ảnh hưởng bởi dịch COVID-19                                                                               | Giảm 7% học phí do ảnh hưởng của dịch COVID-19                                                                             |\n",
      "|  453 |       2 |     2019 |      92400 | SV bị ảnh hưởng bởi dịch COVID-19                                                                               | Giảm 7% học phí do ảnh hưởng của dịch COVID-19                                                                             |\n",
      "|  456 |       2 |     2019 |     210000 | SV bị ảnh hưởng bởi dịch COVID-19                                                                               | Giảm 7% học phí do ảnh hưởng của dịch COVID-19                                                                             |\n",
      "|  457 |       2 |     2019 |     151200 | SV bị ảnh hưởng bởi dịch COVID-19                                                                               | Giảm 7% học phí do ảnh hưởng của dịch COVID-19                                                                             |\n",
      "|  458 |       2 |     2019 |     386400 | SV bị ảnh hưởng bởi dịch COVID-19                                                                               | Giảm 7% học phí do ảnh hưởng của dịch COVID-19                                                                             |\n",
      "|  461 |       2 |     2019 |     241500 | SV bị ảnh hưởng bởi dịch COVID-19                                                                               | Giảm 7% học phí do ảnh hưởng của dịch COVID-19                                                                             |\n",
      "|  464 |       2 |     2019 |     176400 | SV bị ảnh hưởng bởi dịch COVID-19                                                                               | Giảm 7% học phí do ảnh hưởng của dịch COVID-19                                                                             |\n",
      "|  466 |       2 |     2019 |     617400 | SV bị ảnh hưởng bởi dịch COVID-19                                                                               | Giảm 7% học phí do ảnh hưởng của dịch COVID-19                                                                             |\n",
      "|  468 |       2 |     2019 |     252000 | SV bị ảnh hưởng bởi dịch COVID-19                                                                               | Giảm 7% học phí do ảnh hưởng của dịch COVID-19                                                                             |\n",
      "|  469 |       2 |     2019 |     239400 | SV bị ảnh hưởng bởi dịch COVID-19                                                                               | Giảm 7% học phí do ảnh hưởng của dịch COVID-19                                                                             |\n",
      "|  476 |       2 |     2019 |     945000 | SV bị ảnh hưởng bởi dịch COVID-19                                                                               | Giảm 7% học phí do ảnh hưởng của dịch COVID-19                                                                             |\n",
      "|  477 |       2 |     2019 |     487200 | SV bị ảnh hưởng bởi dịch COVID-19                                                                               | Giảm 7% học phí do ảnh hưởng của dịch COVID-19                                                                             |\n",
      "|  480 |       2 |     2019 |     310800 | SV bị ảnh hưởng bởi dịch COVID-19                                                                               | Giảm 7% học phí do ảnh hưởng của dịch COVID-19                                                                             |\n",
      "|  481 |       2 |     2019 |     475650 | SV bị ảnh hưởng bởi dịch COVID-19                                                                               | Giảm 7% học phí do ảnh hưởng của dịch COVID-19                                                                             |\n",
      "|  482 |       2 |     2019 |     436800 | SV bị ảnh hưởng bởi dịch COVID-19                                                                               | Giảm 7% học phí do ảnh hưởng của dịch COVID-19                                                                             |\n",
      "|  483 |       2 |     2019 |     630000 | SV bị ảnh hưởng bởi dịch COVID-19                                                                               | Giảm 7% học phí do ảnh hưởng của dịch COVID-19                                                                             |\n",
      "|  484 |       2 |     2019 |     621600 | SV bị ảnh hưởng bởi dịch COVID-19                                                                               | Giảm 7% học phí do ảnh hưởng của dịch COVID-19                                                                             |\n",
      "|  485 |       2 |     2019 |     315000 | SV bị ảnh hưởng bởi dịch COVID-19                                                                               | Giảm 7% học phí do ảnh hưởng của dịch COVID-19                                                                             |\n",
      "|  486 |       2 |     2019 |     438900 | SV bị ảnh hưởng bởi dịch COVID-19                                                                               | Giảm 7% học phí do ảnh hưởng của dịch COVID-19                                                                             |\n",
      "|  487 |       2 |     2019 |     168000 | SV bị ảnh hưởng bởi dịch COVID-19                                                                               | Giảm 7% học phí do ảnh hưởng của dịch COVID-19                                                                             |\n",
      "|  488 |       2 |     2019 |     518700 | SV bị ảnh hưởng bởi dịch COVID-19                                                                               | Giảm 7% học phí do ảnh hưởng của dịch COVID-19                                                                             |\n",
      "|  489 |       2 |     2019 |     289800 | SV bị ảnh hưởng bởi dịch COVID-19                                                                               | Giảm 7% học phí do ảnh hưởng của dịch COVID-19                                                                             |\n",
      "|  490 |       2 |     2019 |     457800 | SV bị ảnh hưởng bởi dịch COVID-19                                                                               | Giảm 7% học phí do ảnh hưởng của dịch COVID-19                                                                             |\n",
      "|  492 |       2 |     2019 |    1228500 | SV bị ảnh hưởng bởi dịch COVID-19                                                                               | Giảm 7% học phí do ảnh hưởng của dịch COVID-19                                                                             |\n",
      "|  495 |       2 |     2019 |     443100 | SV bị ảnh hưởng bởi dịch COVID-19                                                                               | Giảm 7% học phí do ảnh hưởng của dịch COVID-19                                                                             |\n",
      "|  496 |       2 |     2019 |     184800 | SV bị ảnh hưởng bởi dịch COVID-19                                                                               | Giảm 7% học phí do ảnh hưởng của dịch COVID-19                                                                             |\n",
      "|  497 |       2 |     2019 |     254100 | SV bị ảnh hưởng bởi dịch COVID-19                                                                               | Giảm 7% học phí do ảnh hưởng của dịch COVID-19                                                                             |\n",
      "|  499 |       2 |     2019 |      85750 | SV bị ảnh hưởng bởi dịch COVID-19                                                                               | Giảm 7% học phí do ảnh hưởng của dịch COVID-19                                                                             |\n",
      "|  502 |       2 |     2019 |    1256500 | SV bị ảnh hưởng bởi dịch COVID-19                                                                               | Giảm 7% học phí do ảnh hưởng của dịch COVID-19                                                                             |\n",
      "|  504 |       2 |     2019 |     352800 | SV bị ảnh hưởng bởi dịch COVID-19                                                                               | Giảm 7% học phí do ảnh hưởng của dịch COVID-19                                                                             |\n",
      "|  507 |       2 |     2019 |     302400 | SV bị ảnh hưởng bởi dịch COVID-19                                                                               | Giảm 7% học phí do ảnh hưởng của dịch COVID-19                                                                             |\n",
      "|  508 |       2 |     2019 |     159600 | SV bị ảnh hưởng bởi dịch COVID-19                                                                               | Giảm 7% học phí do ảnh hưởng của dịch COVID-19                                                                             |\n",
      "|  511 |       2 |     2019 |     445900 | SV bị ảnh hưởng bởi dịch COVID-19                                                                               | Giảm 7% học phí do ảnh hưởng của dịch COVID-19                                                                             |\n",
      "|  512 |       2 |     2019 |     539700 | SV bị ảnh hưởng bởi dịch COVID-19                                                                               | Giảm 7% học phí do ảnh hưởng của dịch COVID-19                                                                             |\n",
      "|  515 |       2 |     2019 |    1050000 | SV bị ảnh hưởng bởi dịch COVID-19                                                                               | Giảm 7% học phí do ảnh hưởng của dịch COVID-19                                                                             |\n",
      "|  516 |       2 |     2019 |     495600 | SV bị ảnh hưởng bởi dịch COVID-19                                                                               | Giảm 7% học phí do ảnh hưởng của dịch COVID-19                                                                             |\n",
      "|  518 |       2 |     2019 |     525000 | SV bị ảnh hưởng bởi dịch COVID-19                                                                               | Giảm 7% học phí do ảnh hưởng của dịch COVID-19                                                                             |\n",
      "|  519 |       2 |     2019 |     380100 | SV bị ảnh hưởng bởi dịch COVID-19                                                                               | Giảm 7% học phí do ảnh hưởng của dịch COVID-19                                                                             |\n",
      "|  521 |       2 |     2019 |     103950 | SV bị ảnh hưởng bởi dịch COVID-19                                                                               | Giảm 7% học phí do ảnh hưởng của dịch COVID-19                                                                             |\n",
      "|  525 |       2 |     2019 |     490350 | SV bị ảnh hưởng bởi dịch COVID-19                                                                               | Giảm 7% học phí do ảnh hưởng của dịch COVID-19                                                                             |\n",
      "|  526 |       2 |     2019 |     287700 | SV bị ảnh hưởng bởi dịch COVID-19                                                                               | Giảm 7% học phí do ảnh hưởng của dịch COVID-19                                                                             |\n",
      "|  527 |       2 |     2019 |     369600 | SV bị ảnh hưởng bởi dịch COVID-19                                                                               | Giảm 7% học phí do ảnh hưởng của dịch COVID-19                                                                             |\n",
      "|  528 |       2 |     2019 |     403200 | SV bị ảnh hưởng bởi dịch COVID-19                                                                               | Giảm 7% học phí do ảnh hưởng của dịch COVID-19                                                                             |\n",
      "|  529 |       2 |     2019 |     478800 | SV bị ảnh hưởng bởi dịch COVID-19                                                                               | Giảm 7% học phí do ảnh hưởng của dịch COVID-19                                                                             |\n",
      "|  530 |       2 |     2019 |     432600 | SV bị ảnh hưởng bởi dịch COVID-19                                                                               | Giảm 7% học phí do ảnh hưởng của dịch COVID-19                                                                             |\n",
      "|  532 |       2 |     2019 |     496300 | SV bị ảnh hưởng bởi dịch COVID-19                                                                               | Giảm 7% học phí do ảnh hưởng của dịch COVID-19                                                                             |\n",
      "|  535 |       2 |     2019 |     280000 | SV bị ảnh hưởng bởi dịch COVID-19                                                                               | Giảm 7% học phí do ảnh hưởng của dịch COVID-19                                                                             |\n",
      "|  537 |       2 |     2019 |      84700 | SV bị ảnh hưởng bởi dịch COVID-19                                                                               | Giảm 7% học phí do ảnh hưởng của dịch COVID-19                                                                             |\n",
      "|  541 |       2 |     2019 |     115500 | SV bị ảnh hưởng bởi dịch COVID-19                                                                               | Giảm 7% học phí do ảnh hưởng của dịch COVID-19                                                                             |\n",
      "|  546 |       2 |     2019 |     231000 | SV bị ảnh hưởng bởi dịch COVID-19                                                                               | Giảm 7% học phí do ảnh hưởng của dịch COVID-19                                                                             |\n",
      "|  548 |       2 |     2019 |     138600 | SV bị ảnh hưởng bởi dịch COVID-19                                                                               | Giảm 7% học phí do ảnh hưởng của dịch COVID-19                                                                             |\n",
      "|  550 |       2 |     2019 |     470400 | SV bị ảnh hưởng bởi dịch COVID-19                                                                               | Giảm 7% học phí do ảnh hưởng của dịch COVID-19                                                                             |\n",
      "|  551 |       2 |     2019 |     875000 | SV bị ảnh hưởng bởi dịch COVID-19                                                                               | Giảm 7% học phí do ảnh hưởng của dịch COVID-19                                                                             |\n",
      "|  552 |       2 |     2019 |    1260000 | SV bị ảnh hưởng bởi dịch COVID-19                                                                               | Giảm 7% học phí do ảnh hưởng của dịch COVID-19                                                                             |\n",
      "|  553 |       2 |     2019 |     350000 | SV bị ảnh hưởng bởi dịch COVID-19                                                                               | Giảm 7% học phí do ảnh hưởng của dịch COVID-19                                                                             |\n",
      "|  555 |       2 |     2019 |     471800 | SV bị ảnh hưởng bởi dịch COVID-19                                                                               | Giảm 7% học phí do ảnh hưởng của dịch COVID-19                                                                             |\n",
      "|  557 |       2 |     2019 |    1295000 | SV bị ảnh hưởng bởi dịch COVID-19                                                                               | Giảm 7% học phí do ảnh hưởng của dịch COVID-19                                                                             |\n",
      "|  560 |       2 |     2019 |     371000 | SV bị ảnh hưởng bởi dịch COVID-19                                                                               | Giảm 7% học phí do ảnh hưởng của dịch COVID-19                                                                             |\n",
      "|  563 |       2 |     2019 |     497000 | SV bị ảnh hưởng bởi dịch COVID-19                                                                               | Giảm 7% học phí do ảnh hưởng của dịch COVID-19                                                                             |\n",
      "|  564 |       2 |     2019 |     226800 | SV bị ảnh hưởng bởi dịch COVID-19                                                                               | Giảm 7% học phí do ảnh hưởng của dịch COVID-19                                                                             |\n",
      "|  566 |       2 |     2019 |     952000 | SV bị ảnh hưởng bởi dịch COVID-19                                                                               | Giảm 7% học phí do ảnh hưởng của dịch COVID-19                                                                             |\n",
      "|  569 |       2 |     2019 |    1645000 | SV bị ảnh hưởng bởi dịch COVID-19                                                                               | Giảm 7% học phí do ảnh hưởng của dịch COVID-19                                                                             |\n",
      "|  570 |       2 |     2019 |     623000 | SV bị ảnh hưởng bởi dịch COVID-19                                                                               | Giảm 7% học phí do ảnh hưởng của dịch COVID-19                                                                             |\n",
      "|  574 |       2 |     2019 |     900200 | SV bị ảnh hưởng bởi dịch COVID-19                                                                               | Giảm 7% học phí do ảnh hưởng của dịch COVID-19                                                                             |\n",
      "|  576 |       2 |     2019 |     840000 | SV bị ảnh hưởng bởi dịch COVID-19                                                                               | Giảm 7% học phí do ảnh hưởng của dịch COVID-19                                                                             |\n",
      "|  577 |       2 |     2019 |     673400 | SV bị ảnh hưởng bởi dịch COVID-19                                                                               | Giảm 7% học phí do ảnh hưởng của dịch COVID-19                                                                             |\n",
      "|  578 |       2 |     2019 |    1325800 | SV bị ảnh hưởng bởi dịch COVID-19                                                                               | Giảm 7% học phí do ảnh hưởng của dịch COVID-19                                                                             |\n",
      "|  579 |       2 |     2019 |     735000 | SV bị ảnh hưởng bởi dịch COVID-19                                                                               | Giảm 7% học phí do ảnh hưởng của dịch COVID-19                                                                             |\n",
      "|  581 |       2 |     2019 |     700000 | SV bị ảnh hưởng bởi dịch COVID-19                                                                               | Giảm 7% học phí do ảnh hưởng của dịch COVID-19                                                                             |\n",
      "|  582 |       2 |     2019 |     597800 | SV bị ảnh hưởng bởi dịch COVID-19                                                                               | Giảm 7% học phí do ảnh hưởng của dịch COVID-19                                                                             |\n",
      "|  585 |       2 |     2019 |     446600 | SV bị ảnh hưởng bởi dịch COVID-19                                                                               | Giảm 7% học phí do ảnh hưởng của dịch COVID-19                                                                             |\n",
      "|  588 |       2 |     2019 |     910000 | SV bị ảnh hưởng bởi dịch COVID-19                                                                               | Giảm 7% học phí do ảnh hưởng của dịch COVID-19                                                                             |\n",
      "|  592 |       2 |     2019 |     560000 | SV bị ảnh hưởng bởi dịch COVID-19                                                                               | Giảm 7% học phí do ảnh hưởng của dịch COVID-19                                                                             |\n",
      "|  603 |       2 |     2019 |    1085000 | SV bị ảnh hưởng bởi dịch COVID-19                                                                               | Giảm 7% học phí do ảnh hưởng của dịch COVID-19                                                                             |\n",
      "|  605 |       2 |     2019 |     723800 | SV bị ảnh hưởng bởi dịch COVID-19                                                                               | Giảm 7% học phí do ảnh hưởng của dịch COVID-19                                                                             |\n",
      "|  607 |       2 |     2019 |     421400 | SV bị ảnh hưởng bởi dịch COVID-19                                                                               | Giảm 7% học phí do ảnh hưởng của dịch COVID-19                                                                             |\n",
      "|  611 |       2 |     2019 |     504000 | SV bị ảnh hưởng bởi dịch COVID-19                                                                               | Giảm 7% học phí do ảnh hưởng của dịch COVID-19                                                                             |\n",
      "|  613 |       2 |     2019 |    1785000 | SV bị ảnh hưởng bởi dịch COVID-19                                                                               | Giảm 7% học phí do ảnh hưởng của dịch COVID-19                                                                             |\n",
      "|  615 |       2 |     2019 |    1015000 | SV bị ảnh hưởng bởi dịch COVID-19                                                                               | Giảm 7% học phí do ảnh hưởng của dịch COVID-19                                                                             |\n",
      "|  617 |       2 |     2019 |     651000 | SV bị ảnh hưởng bởi dịch COVID-19                                                                               | Giảm 7% học phí do ảnh hưởng của dịch COVID-19                                                                             |\n",
      "|  626 |       2 |     2019 |     420000 | SV bị ảnh hưởng bởi dịch COVID-19                                                                               | Giảm 7% học phí do ảnh hưởng của dịch COVID-19                                                                             |\n",
      "|  628 |       2 |     2019 |     277200 | SV bị ảnh hưởng bởi dịch COVID-19                                                                               | Giảm 7% học phí do ảnh hưởng của dịch COVID-19                                                                             |\n",
      "|  635 |       2 |     2019 |    1225000 | SV bị ảnh hưởng bởi dịch COVID-19                                                                               | Giảm 7% học phí do ảnh hưởng của dịch COVID-19                                                                             |\n",
      "|  641 |       2 |     2019 |     572600 | SV bị ảnh hưởng bởi dịch COVID-19                                                                               | Giảm 7% học phí do ảnh hưởng của dịch COVID-19                                                                             |\n",
      "|  652 |       2 |     2019 |    1855000 | SV bị ảnh hưởng bởi dịch COVID-19                                                                               | Giảm 7% học phí do ảnh hưởng của dịch COVID-19                                                                             |\n",
      "|  665 |       2 |     2019 |     547400 | SV bị ảnh hưởng bởi dịch COVID-19                                                                               | Giảm 7% học phí do ảnh hưởng của dịch COVID-19                                                                             |\n",
      "|  672 |       2 |     2019 |     648200 | SV bị ảnh hưởng bởi dịch COVID-19                                                                               | Giảm 7% học phí do ảnh hưởng của dịch COVID-19                                                                             |\n",
      "|  675 |       2 |     2019 |     365400 | SV bị ảnh hưởng bởi dịch COVID-19                                                                               | Giảm 7% học phí do ảnh hưởng của dịch COVID-19                                                                             |\n",
      "|  677 |       2 |     2019 |     698600 | SV bị ảnh hưởng bởi dịch COVID-19                                                                               | Giảm 7% học phí do ảnh hưởng của dịch COVID-19                                                                             |\n",
      "|  691 |       2 |     2019 |    1715000 | SV bị ảnh hưởng bởi dịch COVID-19                                                                               | Giảm 7% học phí do ảnh hưởng của dịch COVID-19                                                                             |\n",
      "|  696 |       2 |     2019 |    1155000 | SV bị ảnh hưởng bởi dịch COVID-19                                                                               | Giảm 7% học phí do ảnh hưởng của dịch COVID-19                                                                             |\n",
      "|  712 |       2 |     2019 |    1505000 | SV bị ảnh hưởng bởi dịch COVID-19                                                                               | Giảm 7% học phí do ảnh hưởng của dịch COVID-19                                                                             |\n",
      "|  720 |       2 |     2019 |     484400 | SV bị ảnh hưởng bởi dịch COVID-19                                                                               | Giảm 7% học phí do ảnh hưởng của dịch COVID-19                                                                             |\n",
      "|  724 |       2 |     2019 |    1435000 | SV bị ảnh hưởng bởi dịch COVID-19                                                                               | Giảm 7% học phí do ảnh hưởng của dịch COVID-19                                                                             |\n",
      "|  731 |       2 |     2019 |     189000 | SV bị ảnh hưởng bởi dịch COVID-19                                                                               | Giảm 7% học phí do ảnh hưởng của dịch COVID-19                                                                             |\n",
      "|  743 |       2 |     2019 |     378000 | SV bị ảnh hưởng bởi dịch COVID-19                                                                               | Giảm 7% học phí do ảnh hưởng của dịch COVID-19                                                                             |\n",
      "|  752 |       2 |     2019 |    1400000 | SV bị ảnh hưởng bởi dịch COVID-19                                                                               | Giảm 7% học phí do ảnh hưởng của dịch COVID-19                                                                             |\n",
      "|  756 |       2 |     2019 |    1960000 | SV bị ảnh hưởng bởi dịch COVID-19                                                                               | Giảm 7% học phí do ảnh hưởng của dịch COVID-19                                                                             |\n",
      "|  769 |       2 |     2019 |    1617000 | SV bị ảnh hưởng bởi dịch COVID-19                                                                               | Giảm 7% học phí do ảnh hưởng của dịch COVID-19                                                                             |\n",
      "|  771 |       2 |     2019 |    1680000 | SV bị ảnh hưởng bởi dịch COVID-19                                                                               | Giảm 7% học phí do ảnh hưởng của dịch COVID-19                                                                             |\n",
      "|  784 |       2 |     2019 |    1190000 | SV bị ảnh hưởng bởi dịch COVID-19                                                                               | Giảm 7% học phí do ảnh hưởng của dịch COVID-19                                                                             |\n",
      "|  809 |       2 |     2019 |    1475600 | SV bị ảnh hưởng bởi dịch COVID-19                                                                               | Giảm 7% học phí do ảnh hưởng của dịch COVID-19                                                                             |\n",
      "|  818 |       2 |     2019 |    2520000 | SV bị ảnh hưởng bởi dịch COVID-19                                                                               | Giảm 7% học phí do ảnh hưởng của dịch COVID-19                                                                             |\n",
      "|  860 |       2 |     2019 |    1150800 | SV bị ảnh hưởng bởi dịch COVID-19                                                                               | Giảm 7% học phí do ảnh hưởng của dịch COVID-19                                                                             |\n",
      "|  890 |       2 |     2019 |    1330000 | SV bị ảnh hưởng bởi dịch COVID-19                                                                               | Giảm 7% học phí do ảnh hưởng của dịch COVID-19                                                                             |\n",
      "|  909 |       2 |     2019 |    1895600 | SV bị ảnh hưởng bởi dịch COVID-19                                                                               | Giảm 7% học phí do ảnh hưởng của dịch COVID-19                                                                             |\n",
      "|  955 |       2 |     2019 |    1470000 | SV bị ảnh hưởng bởi dịch COVID-19                                                                               | Giảm 7% học phí do ảnh hưởng của dịch COVID-19                                                                             |\n",
      "|  957 |       2 |     2019 |     522200 | SV bị ảnh hưởng bởi dịch COVID-19                                                                               | Giảm 7% học phí do ảnh hưởng của dịch COVID-19                                                                             |\n",
      "|  995 |       2 |     2019 |    1652000 | SV bị ảnh hưởng bởi dịch COVID-19                                                                               | Giảm 7% học phí do ảnh hưởng của dịch COVID-19                                                                             |\n",
      "| 1003 |       2 |     2019 |    1491000 | SV bị ảnh hưởng bởi dịch COVID-19                                                                               | Giảm 7% học phí do ảnh hưởng của dịch COVID-19                                                                             |\n",
      "| 1004 |       2 |     2019 |     327600 | SV bị ảnh hưởng bởi dịch COVID-19                                                                               | Giảm 7% học phí do ảnh hưởng của dịch COVID-19                                                                             |\n",
      "| 1036 |       2 |     2019 |     778400 | SV bị ảnh hưởng bởi dịch COVID-19                                                                               | Giảm 7% học phí do ảnh hưởng của dịch COVID-19                                                                             |\n",
      "| 1040 |       2 |     2019 |    1365000 | SV bị ảnh hưởng bởi dịch COVID-19                                                                               | Giảm 7% học phí do ảnh hưởng của dịch COVID-19                                                                             |\n",
      "| 1073 |       2 |     2019 |    1610000 | SV bị ảnh hưởng bởi dịch COVID-19                                                                               | Giảm 7% học phí do ảnh hưởng của dịch COVID-19                                                                             |\n",
      "| 1085 |       2 |     2019 |     749000 | SV bị ảnh hưởng bởi dịch COVID-19                                                                               | Giảm 7% học phí do ảnh hưởng của dịch COVID-19                                                                             |\n",
      "| 1134 |       2 |     2019 |    1800400 | SV bị ảnh hưởng bởi dịch COVID-19                                                                               | Giảm 7% học phí do ảnh hưởng của dịch COVID-19                                                                             |\n",
      "| 1136 |       2 |     2019 |    1540000 | SV bị ảnh hưởng bởi dịch COVID-19                                                                               | Giảm 7% học phí do ảnh hưởng của dịch COVID-19                                                                             |\n",
      "| 1138 |       2 |     2019 |    1820000 | SV bị ảnh hưởng bởi dịch COVID-19                                                                               | Giảm 7% học phí do ảnh hưởng của dịch COVID-19                                                                             |\n",
      "| 1181 |       2 |     2019 |     585200 | SV bị ảnh hưởng bởi dịch COVID-19                                                                               | Giảm 7% học phí do ảnh hưởng của dịch COVID-19                                                                             |\n",
      "| 1261 |       2 |     2019 |    1125600 | SV bị ảnh hưởng bởi dịch COVID-19                                                                               | Giảm 7% học phí do ảnh hưởng của dịch COVID-19                                                                             |\n",
      "| 1277 |       2 |     2019 |    1310400 | SV bị ảnh hưởng bởi dịch COVID-19                                                                               | Giảm 7% học phí do ảnh hưởng của dịch COVID-19                                                                             |\n",
      "| 1299 |       2 |     2019 |    2072000 | SV bị ảnh hưởng bởi dịch COVID-19                                                                               | Giảm 7% học phí do ảnh hưởng của dịch COVID-19                                                                             |\n",
      "| 1356 |       2 |     2019 |    2100000 | SV bị ảnh hưởng bởi dịch COVID-19                                                                               | Giảm 7% học phí do ảnh hưởng của dịch COVID-19                                                                             |\n",
      "| 1384 |       2 |     2019 |    1176000 | SV bị ảnh hưởng bởi dịch COVID-19                                                                               | Giảm 7% học phí do ảnh hưởng của dịch COVID-19                                                                             |\n",
      "| 1401 |       2 |     2019 |    1750000 | SV bị ảnh hưởng bởi dịch COVID-19                                                                               | Giảm 7% học phí do ảnh hưởng của dịch COVID-19                                                                             |\n",
      "| 1522 |       2 |     2019 |     924000 | SV bị ảnh hưởng bởi dịch COVID-19                                                                               | Giảm 7% học phí do ảnh hưởng của dịch COVID-19                                                                             |\n",
      "| 1712 |       2 |     2019 |     824600 | SV bị ảnh hưởng bởi dịch COVID-19                                                                               | Giảm 7% học phí do ảnh hưởng của dịch COVID-19                                                                             |\n",
      "| 1762 |       2 |     2019 |     799400 | SV bị ảnh hưởng bởi dịch COVID-19                                                                               | Giảm 7% học phí do ảnh hưởng của dịch COVID-19                                                                             |\n",
      "| 1816 |       2 |     2019 |    1100400 | SV bị ảnh hưởng bởi dịch COVID-19                                                                               | Giảm 7% học phí do ảnh hưởng của dịch COVID-19                                                                             |\n",
      "| 2181 |       2 |     2019 |    2240000 | SV bị ảnh hưởng bởi dịch COVID-19                                                                               | Giảm 7% học phí do ảnh hưởng của dịch COVID-19                                                                             |\n",
      "| 2205 |       2 |     2019 |    1405600 | SV bị ảnh hưởng bởi dịch COVID-19                                                                               | Giảm 7% học phí do ảnh hưởng của dịch COVID-19                                                                             |\n",
      "| 2269 |       2 |     2019 |    2310000 | SV bị ảnh hưởng bởi dịch COVID-19                                                                               | Giảm 7% học phí do ảnh hưởng của dịch COVID-19                                                                             |\n",
      "| 2358 |       2 |     2019 |    1890000 | SV bị ảnh hưởng bởi dịch COVID-19                                                                               | Giảm 7% học phí do ảnh hưởng của dịch COVID-19                                                                             |\n",
      "| 2373 |       2 |     2019 |     849800 | SV bị ảnh hưởng bởi dịch COVID-19                                                                               | Giảm 7% học phí do ảnh hưởng của dịch COVID-19                                                                             |\n",
      "| 2389 |       2 |     2019 |    1736000 | SV bị ảnh hưởng bởi dịch COVID-19                                                                               | Giảm 7% học phí do ảnh hưởng của dịch COVID-19                                                                             |\n",
      "| 2460 |       2 |     2019 |    1120000 | SV bị ảnh hưởng bởi dịch COVID-19                                                                               | Giảm 7% học phí do ảnh hưởng của dịch COVID-19                                                                             |\n",
      "| 2773 |       2 |     2019 |     578200 | SV bị ảnh hưởng bởi dịch COVID-19                                                                               | Giảm 7% học phí do ảnh hưởng của dịch COVID-19                                                                             |\n",
      "| 3782 |       2 |     2019 |     112000 | SV bị ảnh hưởng bởi dịch COVID-19                                                                               | Giảm 7% học phí do ảnh hưởng của dịch COVID-19                                                                             |\n",
      "| 4738 |       2 |     2019 |     218400 | SV bị ảnh hưởng bởi dịch COVID-19                                                                               | Giảm 7% học phí do ảnh hưởng của dịch COVID-19                                                                             |\n",
      "| 4859 |       2 |     2019 |    1988000 | SV bị ảnh hưởng bởi dịch COVID-19                                                                               | Giảm 7% học phí do ảnh hưởng của dịch COVID-19                                                                             |\n",
      "| 5470 |       2 |     2019 |    1755600 | SV bị ảnh hưởng bởi dịch COVID-19                                                                               | Giảm 7% học phí do ảnh hưởng của dịch COVID-19                                                                             |\n",
      "| 5475 |       2 |     2019 |     980000 | SV bị ảnh hưởng bởi dịch COVID-19                                                                               | Giảm 7% học phí do ảnh hưởng của dịch COVID-19                                                                             |\n",
      "| 5486 |       2 |     2019 |     270900 | SV bị ảnh hưởng bởi dịch COVID-19                                                                               | Giảm 7% học phí do ảnh hưởng của dịch COVID-19                                                                             |\n",
      "| 5528 |       2 |     2019 |     220430 | SV bị ảnh hưởng bởi dịch COVID-19                                                                               | Giảm 7% học phí do ảnh hưởng của dịch COVID-19                                                                             |\n",
      "| 5529 |       2 |     2019 |     385630 | SV bị ảnh hưởng bởi dịch COVID-19                                                                               | Giảm 7% học phí do ảnh hưởng của dịch COVID-19                                                                             |\n",
      "| 5532 |       2 |     2019 |     699230 | SV bị ảnh hưởng bởi dịch COVID-19                                                                               | Giảm 7% học phí do ảnh hưởng của dịch COVID-19                                                                             |\n",
      "| 5534 |       2 |     2019 |     562030 | SV bị ảnh hưởng bởi dịch COVID-19                                                                               | Giảm 7% học phí do ảnh hưởng của dịch COVID-19                                                                             |\n",
      "| 5535 |       2 |     2019 |    1099630 | SV bị ảnh hưởng bởi dịch COVID-19                                                                               | Giảm 7% học phí do ảnh hưởng của dịch COVID-19                                                                             |\n",
      "| 5536 |       2 |     2019 |    1274630 | SV bị ảnh hưởng bởi dịch COVID-19                                                                               | Giảm 7% học phí do ảnh hưởng của dịch COVID-19                                                                             |\n",
      "| 5537 |       2 |     2019 |     922250 | SV bị ảnh hưởng bởi dịch COVID-19                                                                               | Giảm 7% học phí do ảnh hưởng của dịch COVID-19                                                                             |\n",
      "| 5538 |       2 |     2019 |     634550 | SV bị ảnh hưởng bởi dịch COVID-19                                                                               | Giảm 7% học phí do ảnh hưởng của dịch COVID-19                                                                             |\n",
      "| 5539 |       2 |     2019 |     519050 | SV bị ảnh hưởng bởi dịch COVID-19                                                                               | Giảm 7% học phí do ảnh hưởng của dịch COVID-19                                                                             |\n",
      "| 5540 |       2 |     2019 |     533750 | SV bị ảnh hưởng bởi dịch COVID-19                                                                               | Giảm 7% học phí do ảnh hưởng của dịch COVID-19                                                                             |\n",
      "| 5541 |       2 |     2019 |     739550 | SV bị ảnh hưởng bởi dịch COVID-19                                                                               | Giảm 7% học phí do ảnh hưởng của dịch COVID-19                                                                             |\n",
      "| 5542 |       2 |     2019 |     659750 | SV bị ảnh hưởng bởi dịch COVID-19                                                                               | Giảm 7% học phí do ảnh hưởng của dịch COVID-19                                                                             |\n",
      "| 5543 |       2 |     2019 |     544250 | SV bị ảnh hưởng bởi dịch COVID-19                                                                               | Giảm 7% học phí do ảnh hưởng của dịch COVID-19                                                                             |\n",
      "| 5544 |       2 |     2019 |     493850 | SV bị ảnh hưởng bởi dịch COVID-19                                                                               | Giảm 7% học phí do ảnh hưởng của dịch COVID-19                                                                             |\n",
      "| 5545 |       2 |     2019 |    1473150 | SV bị ảnh hưởng bởi dịch COVID-19                                                                               | Giảm 7% học phí do ảnh hưởng của dịch COVID-19                                                                             |\n",
      "| 5546 |       2 |     2019 |    1527750 | SV bị ảnh hưởng bởi dịch COVID-19                                                                               | Giảm 7% học phí do ảnh hưởng của dịch COVID-19                                                                             |\n",
      "| 5548 |       2 |     2019 |     760550 | SV bị ảnh hưởng bởi dịch COVID-19                                                                               | Giảm 7% học phí do ảnh hưởng của dịch COVID-19                                                                             |\n",
      "| 5549 |       2 |     2019 |     498050 | SV bị ảnh hưởng bởi dịch COVID-19                                                                               | Giảm 7% học phí do ảnh hưởng của dịch COVID-19                                                                             |\n",
      "| 5550 |       2 |     2019 |     610190 | SV bị ảnh hưởng bởi dịch COVID-19                                                                               | Giảm 7% học phí do ảnh hưởng của dịch COVID-19                                                                             |\n",
      "| 5551 |       2 |     2019 |    1549800 | SV bị ảnh hưởng bởi dịch COVID-19                                                                               | Giảm 7% học phí do ảnh hưởng của dịch COVID-19                                                                             |\n",
      "| 5552 |       2 |     2019 |     376600 | SV bị ảnh hưởng bởi dịch COVID-19                                                                               | Giảm 7% học phí do ảnh hưởng của dịch COVID-19                                                                             |\n",
      "| 5560 |       2 |     2019 |     502600 | SV bị ảnh hưởng bởi dịch COVID-19                                                                               | Giảm 7% học phí do ảnh hưởng của dịch COVID-19                                                                             |\n",
      "| 5579 |       2 |     2019 |     117600 | SV bị ảnh hưởng bởi dịch COVID-19                                                                               | Giảm 7% học phí do ảnh hưởng của dịch COVID-19                                                                             |\n",
      "| 5581 |       2 |     2019 |     144760 | SV bị ảnh hưởng bởi dịch COVID-19                                                                               | Giảm 7% học phí do ảnh hưởng của dịch COVID-19                                                                             |\n",
      "| 5586 |       2 |     2019 |     230104 | SV bị ảnh hưởng bởi dịch COVID-19                                                                               | Giảm 7% học phí do ảnh hưởng của dịch COVID-19                                                                             |\n",
      "| 5591 |       2 |     2019 |     145040 | SV bị ảnh hưởng bởi dịch COVID-19                                                                               | Giảm 7% học phí do ảnh hưởng của dịch COVID-19                                                                             |\n",
      "| 5602 |       2 |     2019 |     666960 | SV bị ảnh hưởng bởi dịch COVID-19                                                                               | Giảm 7% học phí do ảnh hưởng của dịch COVID-19                                                                             |\n",
      "| 5603 |       2 |     2019 |     389060 | SV bị ảnh hưởng bởi dịch COVID-19                                                                               | Giảm 7% học phí do ảnh hưởng của dịch COVID-19                                                                             |\n",
      "| 5604 |       2 |     2019 |     515060 | SV bị ảnh hưởng bởi dịch COVID-19                                                                               | Giảm 7% học phí do ảnh hưởng của dịch COVID-19                                                                             |\n",
      "| 5613 |       2 |     2019 |     439460 | SV bị ảnh hưởng bởi dịch COVID-19                                                                               | Giảm 7% học phí do ảnh hưởng của dịch COVID-19                                                                             |\n",
      "| 5624 |       2 |     2019 |    1183000 | SV bị ảnh hưởng bởi dịch COVID-19                                                                               | Giảm 7% học phí do ảnh hưởng của dịch COVID-19                                                                             |\n",
      "| 5633 |       2 |     2019 |    2800000 | SV bị ảnh hưởng bởi dịch COVID-19                                                                               | Giảm 7% học phí do ảnh hưởng của dịch COVID-19                                                                             |\n"
     ]
    }
   ],
   "source": [
    "print(haha.to_markdown())"
   ]
  },
  {
   "cell_type": "code",
   "execution_count": 25,
   "metadata": {},
   "outputs": [
    {
     "data": {
      "text/html": [
       "<div>\n",
       "<style scoped>\n",
       "    .dataframe tbody tr th:only-of-type {\n",
       "        vertical-align: middle;\n",
       "    }\n",
       "\n",
       "    .dataframe tbody tr th {\n",
       "        vertical-align: top;\n",
       "    }\n",
       "\n",
       "    .dataframe thead th {\n",
       "        text-align: right;\n",
       "    }\n",
       "</style>\n",
       "<table border=\"1\" class=\"dataframe\">\n",
       "  <thead>\n",
       "    <tr style=\"text-align: right;\">\n",
       "      <th></th>\n",
       "      <th>miengiam</th>\n",
       "      <th>count</th>\n",
       "    </tr>\n",
       "  </thead>\n",
       "  <tbody>\n",
       "    <tr>\n",
       "      <th>16</th>\n",
       "      <td>50</td>\n",
       "      <td>22</td>\n",
       "    </tr>\n",
       "    <tr>\n",
       "      <th>77</th>\n",
       "      <td>70</td>\n",
       "      <td>2</td>\n",
       "    </tr>\n",
       "    <tr>\n",
       "      <th>3</th>\n",
       "      <td>100</td>\n",
       "      <td>388</td>\n",
       "    </tr>\n",
       "    <tr>\n",
       "      <th>19</th>\n",
       "      <td>75600</td>\n",
       "      <td>18</td>\n",
       "    </tr>\n",
       "    <tr>\n",
       "      <th>151</th>\n",
       "      <td>84700</td>\n",
       "      <td>1</td>\n",
       "    </tr>\n",
       "  </tbody>\n",
       "</table>\n",
       "</div>"
      ],
      "text/plain": [
       "     miengiam  count\n",
       "16         50     22\n",
       "77         70      2\n",
       "3         100    388\n",
       "19      75600     18\n",
       "151     84700      1"
      ]
     },
     "execution_count": 25,
     "metadata": {},
     "output_type": "execute_result"
    }
   ],
   "source": [
    "haha = new_df[\"miengiam\"].value_counts().reset_index()\n",
    "haha.columns = ['miengiam', 'count']\n",
    "haha.sort_values(by=[\"miengiam\"], inplace=True)\n",
    "# print(haha.to_markdown())\n",
    "haha.head()"
   ]
  },
  {
   "cell_type": "code",
   "execution_count": 26,
   "metadata": {},
   "outputs": [
    {
     "data": {
      "text/plain": [
       "doituong\n",
       "Con thương binh                                                                                                    100\n",
       "Dân tộc thiểu số + hộ nghèo/cận nghèo                                                                              100\n",
       "Con bệnh binh                                                                                                      100\n",
       "Cha (mẹ) là cán bộ, công nhân, viên chức bị TNLĐ/TNNN hoặc mắc bệnh nghề nghiệp được hưởng trợ cấp thường xuyên     50\n",
       "Cha (mẹ) hoạt động kháng chiến bị nhiễm chất độc hóa học                                                           100\n",
       "Cha (mẹ) bị nhiễm CĐHH                                                                                             100\n",
       "Cha (mẹ) bị TNLĐ/TNNN                                                                                               50\n",
       "SV khuyết tật                                                                                                      100\n",
       "SV mồ côi                                                                                                          100\n",
       "DTTS rất ít người                                                                                                  100\n",
       "DTTS ở vùng KTXH đặc biệt khó khăn                                                                                  70\n",
       "SV bị ảnh hưởng bởi dịch COVID-19                                                                                    7\n",
       "Name: miengiam, dtype: int64"
      ]
     },
     "execution_count": 26,
     "metadata": {},
     "output_type": "execute_result"
    }
   ],
   "source": [
    "mapping_dict = new_df.drop_duplicates(subset='doituong').set_index('doituong')['miengiam']\n",
    "mapping_dict['SV bị ảnh hưởng bởi dịch COVID-19'] = 7\n",
    "mapping_dict"
   ]
  },
  {
   "cell_type": "code",
   "execution_count": 27,
   "metadata": {},
   "outputs": [
    {
     "data": {
      "text/html": [
       "<div>\n",
       "<style scoped>\n",
       "    .dataframe tbody tr th:only-of-type {\n",
       "        vertical-align: middle;\n",
       "    }\n",
       "\n",
       "    .dataframe tbody tr th {\n",
       "        vertical-align: top;\n",
       "    }\n",
       "\n",
       "    .dataframe thead th {\n",
       "        text-align: right;\n",
       "    }\n",
       "</style>\n",
       "<table border=\"1\" class=\"dataframe\">\n",
       "  <thead>\n",
       "    <tr style=\"text-align: right;\">\n",
       "      <th></th>\n",
       "      <th>phan_tram_mien_giam</th>\n",
       "      <th>miengiam</th>\n",
       "    </tr>\n",
       "  </thead>\n",
       "  <tbody>\n",
       "    <tr>\n",
       "      <th>429</th>\n",
       "      <td>7</td>\n",
       "      <td>75600</td>\n",
       "    </tr>\n",
       "    <tr>\n",
       "      <th>537</th>\n",
       "      <td>7</td>\n",
       "      <td>84700</td>\n",
       "    </tr>\n",
       "    <tr>\n",
       "      <th>499</th>\n",
       "      <td>7</td>\n",
       "      <td>85750</td>\n",
       "    </tr>\n",
       "    <tr>\n",
       "      <th>453</th>\n",
       "      <td>7</td>\n",
       "      <td>92400</td>\n",
       "    </tr>\n",
       "    <tr>\n",
       "      <th>436</th>\n",
       "      <td>7</td>\n",
       "      <td>100800</td>\n",
       "    </tr>\n",
       "    <tr>\n",
       "      <th>...</th>\n",
       "      <td>...</td>\n",
       "      <td>...</td>\n",
       "    </tr>\n",
       "    <tr>\n",
       "      <th>23</th>\n",
       "      <td>50</td>\n",
       "      <td>50</td>\n",
       "    </tr>\n",
       "    <tr>\n",
       "      <th>423</th>\n",
       "      <td>70</td>\n",
       "      <td>70</td>\n",
       "    </tr>\n",
       "    <tr>\n",
       "      <th>0</th>\n",
       "      <td>100</td>\n",
       "      <td>100</td>\n",
       "    </tr>\n",
       "    <tr>\n",
       "      <th>76</th>\n",
       "      <td>100</td>\n",
       "      <td>2825000</td>\n",
       "    </tr>\n",
       "    <tr>\n",
       "      <th>145</th>\n",
       "      <td>100</td>\n",
       "      <td>3250000</td>\n",
       "    </tr>\n",
       "  </tbody>\n",
       "</table>\n",
       "<p>189 rows × 2 columns</p>\n",
       "</div>"
      ],
      "text/plain": [
       "     phan_tram_mien_giam  miengiam\n",
       "429                    7     75600\n",
       "537                    7     84700\n",
       "499                    7     85750\n",
       "453                    7     92400\n",
       "436                    7    100800\n",
       "..                   ...       ...\n",
       "23                    50        50\n",
       "423                   70        70\n",
       "0                    100       100\n",
       "76                   100   2825000\n",
       "145                  100   3250000\n",
       "\n",
       "[189 rows x 2 columns]"
      ]
     },
     "execution_count": 27,
     "metadata": {},
     "output_type": "execute_result"
    }
   ],
   "source": [
    "new_df['phan_tram_mien_giam'] = None\n",
    "new_df['phan_tram_mien_giam'].fillna(new_df['doituong'].map(mapping_dict), inplace=True)\n",
    "new_df[[\"phan_tram_mien_giam\", \"miengiam\"]].drop_duplicates().sort_values(by=[\"phan_tram_mien_giam\", \"miengiam\"])"
   ]
  },
  {
   "cell_type": "code",
   "execution_count": 28,
   "metadata": {},
   "outputs": [
    {
     "data": {
      "text/html": [
       "<div>\n",
       "<style scoped>\n",
       "    .dataframe tbody tr th:only-of-type {\n",
       "        vertical-align: middle;\n",
       "    }\n",
       "\n",
       "    .dataframe tbody tr th {\n",
       "        vertical-align: top;\n",
       "    }\n",
       "\n",
       "    .dataframe thead th {\n",
       "        text-align: right;\n",
       "    }\n",
       "</style>\n",
       "<table border=\"1\" class=\"dataframe\">\n",
       "  <thead>\n",
       "    <tr style=\"text-align: right;\">\n",
       "      <th></th>\n",
       "      <th>mssv</th>\n",
       "      <th>hocky</th>\n",
       "      <th>namhoc</th>\n",
       "      <th>doituong</th>\n",
       "      <th>miengiam</th>\n",
       "      <th>phan_tram_mien_giam</th>\n",
       "    </tr>\n",
       "  </thead>\n",
       "  <tbody>\n",
       "    <tr>\n",
       "      <th>4127</th>\n",
       "      <td>B5453DB8XPvAibaEXe+jRlsyXvmhz3fdu48G7zN3</td>\n",
       "      <td>2</td>\n",
       "      <td>2019</td>\n",
       "      <td>SV bị ảnh hưởng bởi dịch COVID-19</td>\n",
       "      <td>1050000.0</td>\n",
       "      <td>7</td>\n",
       "    </tr>\n",
       "    <tr>\n",
       "      <th>933</th>\n",
       "      <td>3237312AXPvAibaEXe9BgVwdGgzpaWPBzMunWFH4</td>\n",
       "      <td>2</td>\n",
       "      <td>2019</td>\n",
       "      <td>SV bị ảnh hưởng bởi dịch COVID-19</td>\n",
       "      <td>1260000.0</td>\n",
       "      <td>7</td>\n",
       "    </tr>\n",
       "    <tr>\n",
       "      <th>432</th>\n",
       "      <td>07623563XPvAibaEXe/GqyBZHXBWrpbQSsVrrRwi</td>\n",
       "      <td>2</td>\n",
       "      <td>2019</td>\n",
       "      <td>SV bị ảnh hưởng bởi dịch COVID-19</td>\n",
       "      <td>201600.0</td>\n",
       "      <td>7</td>\n",
       "    </tr>\n",
       "  </tbody>\n",
       "</table>\n",
       "</div>"
      ],
      "text/plain": [
       "                                          mssv hocky namhoc   \n",
       "4127  B5453DB8XPvAibaEXe+jRlsyXvmhz3fdu48G7zN3     2   2019  \\\n",
       "933   3237312AXPvAibaEXe9BgVwdGgzpaWPBzMunWFH4     2   2019   \n",
       "432   07623563XPvAibaEXe/GqyBZHXBWrpbQSsVrrRwi     2   2019   \n",
       "\n",
       "                               doituong   miengiam  phan_tram_mien_giam  \n",
       "4127  SV bị ảnh hưởng bởi dịch COVID-19  1050000.0                    7  \n",
       "933   SV bị ảnh hưởng bởi dịch COVID-19  1260000.0                    7  \n",
       "432   SV bị ảnh hưởng bởi dịch COVID-19   201600.0                    7  "
      ]
     },
     "execution_count": 28,
     "metadata": {},
     "output_type": "execute_result"
    }
   ],
   "source": [
    "new_df.loc[new_df['miengiam'] <= 100, 'miengiam'] = None\n",
    "new_df.drop('ghichu', axis=1, inplace=True)\n",
    "new_df.sample(3)\n"
   ]
  },
  {
   "cell_type": "code",
   "execution_count": 29,
   "metadata": {},
   "outputs": [
    {
     "name": "stdout",
     "output_type": "stream",
     "text": [
      "<class 'pandas.core.frame.DataFrame'>\n",
      "RangeIndex: 5652 entries, 0 to 5651\n",
      "Data columns (total 6 columns):\n",
      " #   Column               Non-Null Count  Dtype   \n",
      "---  ------               --------------  -----   \n",
      " 0   mssv                 5652 non-null   category\n",
      " 1   hocky                5652 non-null   category\n",
      " 2   namhoc               5652 non-null   category\n",
      " 3   doituong             5652 non-null   category\n",
      " 4   miengiam             5240 non-null   float64 \n",
      " 5   phan_tram_mien_giam  5652 non-null   int64   \n",
      "dtypes: category(4), float64(1), int64(1)\n",
      "memory usage: 287.5 KB\n"
     ]
    }
   ],
   "source": [
    "new_df.info()"
   ]
  },
  {
   "cell_type": "code",
   "execution_count": 30,
   "metadata": {},
   "outputs": [
    {
     "name": "stdout",
     "output_type": "stream",
     "text": [
      "|     |   namhoc |   hocky |    miengiam |   phan_tram_mien_giam |\n",
      "|----:|---------:|--------:|------------:|----------------------:|\n",
      "|   0 |     2013 |       1 | nan         |                   100 |\n",
      "|  23 |     2013 |       1 | nan         |                    50 |\n",
      "|  76 |     2013 |       1 |   2.825e+06 |                   100 |\n",
      "|  79 |     2013 |       2 | nan         |                   100 |\n",
      "|  88 |     2013 |       2 | nan         |                    50 |\n",
      "| 141 |     2013 |       2 |   2.825e+06 |                   100 |\n",
      "| 144 |     2014 |       1 | nan         |                   100 |\n",
      "| 145 |     2014 |       1 |   3.25e+06  |                   100 |\n",
      "| 205 |     2014 |       1 | nan         |                    50 |\n",
      "| 228 |     2014 |       2 | nan         |                   100 |\n",
      "| 237 |     2014 |       2 |   3.25e+06  |                   100 |\n",
      "| 271 |     2014 |       2 | nan         |                    50 |\n",
      "| 283 |     2015 |       1 | nan         |                   100 |\n",
      "| 301 |     2015 |       1 | nan         |                    50 |\n",
      "| 330 |     2015 |       1 |   3.25e+06  |                   100 |\n",
      "| 361 |     2015 |       2 | nan         |                   100 |\n",
      "| 366 |     2015 |       2 | nan         |                    50 |\n",
      "| 395 |     2015 |       2 |   3.25e+06  |                   100 |\n",
      "| 423 |     2015 |       2 | nan         |                    70 |\n"
     ]
    },
    {
     "name": "stderr",
     "output_type": "stream",
     "text": [
      "C:\\Users\\vuhh2\\AppData\\Local\\Temp\\ipykernel_20580\\3914017091.py:1: UserWarning: Boolean Series key will be reindexed to match DataFrame index.\n",
      "  haha = new_df[[\"namhoc\", \"hocky\", \"miengiam\", \"phan_tram_mien_giam\"]].drop_duplicates().sort_values(by=[\"namhoc\", \"hocky\"])[new_df.phan_tram_mien_giam != 7]\n"
     ]
    }
   ],
   "source": [
    "haha = new_df[[\"namhoc\", \"hocky\", \"miengiam\", \"phan_tram_mien_giam\"]].drop_duplicates().sort_values(by=[\"namhoc\", \"hocky\"])[new_df.phan_tram_mien_giam != 7]\n",
    "print(haha.to_markdown())"
   ]
  },
  {
   "cell_type": "code",
   "execution_count": 31,
   "metadata": {},
   "outputs": [
    {
     "name": "stdout",
     "output_type": "stream",
     "text": [
      "|     |   namhoc |   hocky |   miengiam |   phan_tram_mien_giam |\n",
      "|----:|---------:|--------:|-----------:|----------------------:|\n",
      "|  76 |     2013 |       1 |  2.825e+06 |                   100 |\n",
      "| 141 |     2013 |       2 |  2.825e+06 |                   100 |\n",
      "| 145 |     2014 |       1 |  3.25e+06  |                   100 |\n",
      "| 237 |     2014 |       2 |  3.25e+06  |                   100 |\n",
      "| 330 |     2015 |       1 |  3.25e+06  |                   100 |\n",
      "| 395 |     2015 |       2 |  3.25e+06  |                   100 |\n"
     ]
    },
    {
     "name": "stderr",
     "output_type": "stream",
     "text": [
      "C:\\Users\\vuhh2\\AppData\\Local\\Temp\\ipykernel_20580\\4202978418.py:1: UserWarning: Boolean Series key will be reindexed to match DataFrame index.\n",
      "  haha = new_df[[\"namhoc\", \"hocky\", \"miengiam\", \"phan_tram_mien_giam\"]].drop_duplicates().sort_values(by=[\"namhoc\", \"hocky\"])[(new_df.phan_tram_mien_giam != 7) & (new_df.miengiam.notnull())]\n"
     ]
    }
   ],
   "source": [
    "haha = new_df[[\"namhoc\", \"hocky\", \"miengiam\", \"phan_tram_mien_giam\"]].drop_duplicates().sort_values(by=[\"namhoc\", \"hocky\"])[(new_df.phan_tram_mien_giam != 7) & (new_df.miengiam.notnull())]\n",
    "print(haha.to_markdown())"
   ]
  },
  {
   "cell_type": "code",
   "execution_count": 32,
   "metadata": {},
   "outputs": [
    {
     "name": "stderr",
     "output_type": "stream",
     "text": [
      "C:\\Users\\vuhh2\\AppData\\Local\\Temp\\ipykernel_20580\\4091373130.py:1: UserWarning: Boolean Series key will be reindexed to match DataFrame index.\n",
      "  hoc_phi = new_df.drop_duplicates(subset=[\"namhoc\", \"hocky\", \"miengiam\"])[(new_df.phan_tram_mien_giam != 7) & (new_df.miengiam.notnull())].set_index(['namhoc', 'hocky']).miengiam\n"
     ]
    },
    {
     "data": {
      "text/plain": [
       "namhoc  hocky\n",
       "2013    1        2825000.0\n",
       "        2        2825000.0\n",
       "2014    1        3250000.0\n",
       "        2        3250000.0\n",
       "2015    1        3250000.0\n",
       "        2        3250000.0\n",
       "Name: miengiam, dtype: float64"
      ]
     },
     "execution_count": 32,
     "metadata": {},
     "output_type": "execute_result"
    }
   ],
   "source": [
    "hoc_phi = new_df.drop_duplicates(subset=[\"namhoc\", \"hocky\", \"miengiam\"])[(new_df.phan_tram_mien_giam != 7) & (new_df.miengiam.notnull())].set_index(['namhoc', 'hocky']).miengiam\n",
    "hoc_phi"
   ]
  },
  {
   "cell_type": "code",
   "execution_count": 33,
   "metadata": {},
   "outputs": [
    {
     "name": "stdout",
     "output_type": "stream",
     "text": [
      "|     |   namhoc |   hocky |   miengiam |   phan_tram_mien_giam |\n",
      "|----:|---------:|--------:|-----------:|----------------------:|\n",
      "|   0 |     2013 |       1 | 2.825e+06  |                   100 |\n",
      "|  23 |     2013 |       1 | 1.4125e+06 |                    50 |\n",
      "|  79 |     2013 |       2 | 2.825e+06  |                   100 |\n",
      "|  88 |     2013 |       2 | 1.4125e+06 |                    50 |\n",
      "| 144 |     2014 |       1 | 3.25e+06   |                   100 |\n",
      "| 205 |     2014 |       1 | 1.625e+06  |                    50 |\n",
      "| 228 |     2014 |       2 | 3.25e+06   |                   100 |\n",
      "| 271 |     2014 |       2 | 1.625e+06  |                    50 |\n",
      "| 283 |     2015 |       1 | 3.25e+06   |                   100 |\n",
      "| 301 |     2015 |       1 | 1.625e+06  |                    50 |\n",
      "| 361 |     2015 |       2 | 3.25e+06   |                   100 |\n",
      "| 366 |     2015 |       2 | 1.625e+06  |                    50 |\n",
      "| 423 |     2015 |       2 | 2.275e+06  |                    70 |\n"
     ]
    },
    {
     "name": "stderr",
     "output_type": "stream",
     "text": [
      "C:\\Users\\vuhh2\\AppData\\Local\\Temp\\ipykernel_20580\\177458024.py:8: UserWarning: Boolean Series key will be reindexed to match DataFrame index.\n",
      "  haha = new_df[[\"namhoc\", \"hocky\", \"miengiam\", \"phan_tram_mien_giam\"]].drop_duplicates().sort_values(by=[\"namhoc\", \"hocky\"])[new_df.phan_tram_mien_giam != 7]\n"
     ]
    }
   ],
   "source": [
    "def replace_miengiam_null(row):\n",
    "    global hoc_phi\n",
    "    if pd.isnull(row.miengiam):\n",
    "        return hoc_phi[(row.namhoc, row.hocky)] * row.phan_tram_mien_giam / 100\n",
    "    return row.miengiam\n",
    "new_df.miengiam = new_df.apply(replace_miengiam_null, axis=1)\n",
    "\n",
    "haha = new_df[[\"namhoc\", \"hocky\", \"miengiam\", \"phan_tram_mien_giam\"]].drop_duplicates().sort_values(by=[\"namhoc\", \"hocky\"])[new_df.phan_tram_mien_giam != 7]\n",
    "print(haha.to_markdown())"
   ]
  },
  {
   "cell_type": "code",
   "execution_count": 34,
   "metadata": {},
   "outputs": [
    {
     "name": "stdout",
     "output_type": "stream",
     "text": [
      "<class 'pandas.core.frame.DataFrame'>\n",
      "RangeIndex: 5652 entries, 0 to 5651\n",
      "Data columns (total 6 columns):\n",
      " #   Column               Non-Null Count  Dtype   \n",
      "---  ------               --------------  -----   \n",
      " 0   mssv                 5652 non-null   category\n",
      " 1   hocky                5652 non-null   category\n",
      " 2   namhoc               5652 non-null   category\n",
      " 3   doituong             5652 non-null   category\n",
      " 4   miengiam             5652 non-null   float64 \n",
      " 5   phan_tram_mien_giam  5652 non-null   int64   \n",
      "dtypes: category(4), float64(1), int64(1)\n",
      "memory usage: 287.5 KB\n"
     ]
    }
   ],
   "source": [
    "new_df.info()"
   ]
  },
  {
   "cell_type": "code",
   "execution_count": 35,
   "metadata": {},
   "outputs": [
    {
     "data": {
      "text/plain": [
       "count    5.652000e+03\n",
       "mean     8.503113e+05\n",
       "std      7.690674e+05\n",
       "min      7.560000e+04\n",
       "25%      3.710000e+05\n",
       "50%      4.970000e+05\n",
       "75%      1.050000e+06\n",
       "max      3.250000e+06\n",
       "Name: miengiam, dtype: float64"
      ]
     },
     "execution_count": 35,
     "metadata": {},
     "output_type": "execute_result"
    }
   ],
   "source": [
    "new_df.miengiam.describe()"
   ]
  },
  {
   "cell_type": "code",
   "execution_count": 36,
   "metadata": {},
   "outputs": [
    {
     "data": {
      "text/html": [
       "<div>\n",
       "<style scoped>\n",
       "    .dataframe tbody tr th:only-of-type {\n",
       "        vertical-align: middle;\n",
       "    }\n",
       "\n",
       "    .dataframe tbody tr th {\n",
       "        vertical-align: top;\n",
       "    }\n",
       "\n",
       "    .dataframe thead th {\n",
       "        text-align: right;\n",
       "    }\n",
       "</style>\n",
       "<table border=\"1\" class=\"dataframe\">\n",
       "  <thead>\n",
       "    <tr style=\"text-align: right;\">\n",
       "      <th></th>\n",
       "      <th>miengiam</th>\n",
       "      <th>count</th>\n",
       "    </tr>\n",
       "  </thead>\n",
       "  <tbody>\n",
       "    <tr>\n",
       "      <th>19</th>\n",
       "      <td>75600.0</td>\n",
       "      <td>18</td>\n",
       "    </tr>\n",
       "    <tr>\n",
       "      <th>151</th>\n",
       "      <td>84700.0</td>\n",
       "      <td>1</td>\n",
       "    </tr>\n",
       "    <tr>\n",
       "      <th>188</th>\n",
       "      <td>85750.0</td>\n",
       "      <td>1</td>\n",
       "    </tr>\n",
       "    <tr>\n",
       "      <th>50</th>\n",
       "      <td>92400.0</td>\n",
       "      <td>4</td>\n",
       "    </tr>\n",
       "    <tr>\n",
       "      <th>21</th>\n",
       "      <td>100800.0</td>\n",
       "      <td>17</td>\n",
       "    </tr>\n",
       "  </tbody>\n",
       "</table>\n",
       "</div>"
      ],
      "text/plain": [
       "     miengiam  count\n",
       "19    75600.0     18\n",
       "151   84700.0      1\n",
       "188   85750.0      1\n",
       "50    92400.0      4\n",
       "21   100800.0     17"
      ]
     },
     "execution_count": 36,
     "metadata": {},
     "output_type": "execute_result"
    }
   ],
   "source": [
    "haha = new_df[\"miengiam\"].value_counts().reset_index()\n",
    "haha.columns = ['miengiam', 'count']\n",
    "haha.sort_values(by=[\"miengiam\"], inplace=True)\n",
    "# print(haha.to_markdown())\n",
    "haha.head()"
   ]
  },
  {
   "cell_type": "code",
   "execution_count": 37,
   "metadata": {},
   "outputs": [
    {
     "data": {
      "image/png": "[encoded data removed]",
      "text/plain": [
       "<Figure size 640x480 with 1 Axes>"
      ]
     },
     "metadata": {},
     "output_type": "display_data"
    }
   ],
   "source": [
    "sns.boxplot(x=new_df['miengiam'])\n",
    "plt.show()"
   ]
  },
  {
   "cell_type": "code",
   "execution_count": 38,
   "metadata": {},
   "outputs": [
    {
     "data": {
      "image/png": "[encoded data removed]",
      "text/plain": [
       "<Figure size 640x480 with 1 Axes>"
      ]
     },
     "metadata": {},
     "output_type": "display_data"
    }
   ],
   "source": [
    "plt.hist(new_df['miengiam'], bins=10)\n",
    "plt.show()"
   ]
  },
  {
   "attachments": {},
   "cell_type": "markdown",
   "metadata": {},
   "source": [
    "primary_key check"
   ]
  },
  {
   "cell_type": "code",
   "execution_count": 39,
   "metadata": {},
   "outputs": [
    {
     "data": {
      "text/plain": [
       "0"
      ]
     },
     "execution_count": 39,
     "metadata": {},
     "output_type": "execute_result"
    }
   ],
   "source": [
    "primary_key = ['mssv', 'hocky', 'namhoc']\n",
    "new_df[primary_key].duplicated().sum()"
   ]
  },
  {
   "attachments": {},
   "cell_type": "markdown",
   "metadata": {},
   "source": [
    "Format column names"
   ]
  },
  {
   "cell_type": "code",
   "execution_count": 40,
   "metadata": {},
   "outputs": [
    {
     "data": {
      "text/plain": [
       "Index(['id', 'mssv', 'hocky', 'namhoc', 'doituong', 'miengiam', 'ghichu'], dtype='object')"
      ]
     },
     "execution_count": 40,
     "metadata": {},
     "output_type": "execute_result"
    }
   ],
   "source": [
    "old_df.columns"
   ]
  },
  {
   "cell_type": "code",
   "execution_count": 41,
   "metadata": {},
   "outputs": [
    {
     "data": {
      "text/plain": [
       "Index(['mssv', 'hoc_ky', 'nam_hoc', 'doi_tuong', 'mien_giam',\n",
       "       'phan_tram_mien_giam'],\n",
       "      dtype='object')"
      ]
     },
     "execution_count": 41,
     "metadata": {},
     "output_type": "execute_result"
    }
   ],
   "source": [
    "new_df.columns = ['mssv', 'hoc_ky', 'nam_hoc', 'doi_tuong', 'mien_giam', 'phan_tram_mien_giam']\n",
    "new_df.columns"
   ]
  },
  {
   "attachments": {},
   "cell_type": "markdown",
   "metadata": {},
   "source": [
    "Final check"
   ]
  },
  {
   "cell_type": "code",
   "execution_count": 42,
   "metadata": {},
   "outputs": [],
   "source": [
    "new_df.hoc_ky = new_df.hoc_ky.astype('category')\n",
    "new_df.nam_hoc = new_df.nam_hoc.astype('category')\n",
    "new_df.mien_giam = new_df.mien_giam.astype('float32')\n",
    "new_df.phan_tram_mien_giam = new_df.phan_tram_mien_giam.astype('float32')"
   ]
  },
  {
   "cell_type": "code",
   "execution_count": 43,
   "metadata": {},
   "outputs": [
    {
     "data": {
      "text/html": [
       "<div>\n",
       "<style scoped>\n",
       "    .dataframe tbody tr th:only-of-type {\n",
       "        vertical-align: middle;\n",
       "    }\n",
       "\n",
       "    .dataframe tbody tr th {\n",
       "        vertical-align: top;\n",
       "    }\n",
       "\n",
       "    .dataframe thead th {\n",
       "        text-align: right;\n",
       "    }\n",
       "</style>\n",
       "<table border=\"1\" class=\"dataframe\">\n",
       "  <thead>\n",
       "    <tr style=\"text-align: right;\">\n",
       "      <th></th>\n",
       "      <th>id</th>\n",
       "      <th>mssv</th>\n",
       "      <th>hocky</th>\n",
       "      <th>namhoc</th>\n",
       "      <th>doituong</th>\n",
       "      <th>miengiam</th>\n",
       "      <th>ghichu</th>\n",
       "    </tr>\n",
       "  </thead>\n",
       "  <tbody>\n",
       "    <tr>\n",
       "      <th>5030</th>\n",
       "      <td>5188</td>\n",
       "      <td>9838A646XPvAibaEXe/Jc8h2JxO5QbKDfW+35ySv</td>\n",
       "      <td>2</td>\n",
       "      <td>2019</td>\n",
       "      <td>NaN</td>\n",
       "      <td>112000</td>\n",
       "      <td>Giảm 7% HP hỗ trợ ảnh hưởng dịch COVID-19</td>\n",
       "    </tr>\n",
       "    <tr>\n",
       "      <th>5212</th>\n",
       "      <td>5375</td>\n",
       "      <td>B1B996D1XPvAibaEXe/VQHzzHDYACRfsgbqiwflU</td>\n",
       "      <td>2</td>\n",
       "      <td>2019</td>\n",
       "      <td>NaN</td>\n",
       "      <td>1050000</td>\n",
       "      <td>Giảm 7% HP hỗ trợ ảnh hưởng dịch COVID-19</td>\n",
       "    </tr>\n",
       "    <tr>\n",
       "      <th>3771</th>\n",
       "      <td>3908</td>\n",
       "      <td>0F4E2E19XPvAibaEXe+KnWgScvZ27HdNiwaSUUic</td>\n",
       "      <td>2</td>\n",
       "      <td>2019</td>\n",
       "      <td>NaN</td>\n",
       "      <td>371000</td>\n",
       "      <td>Giảm 7% HP hỗ trợ ảnh hưởng dịch COVID-19</td>\n",
       "    </tr>\n",
       "  </tbody>\n",
       "</table>\n",
       "</div>"
      ],
      "text/plain": [
       "        id                                      mssv  hocky  namhoc doituong   \n",
       "5030  5188  9838A646XPvAibaEXe/Jc8h2JxO5QbKDfW+35ySv      2    2019      NaN  \\\n",
       "5212  5375  B1B996D1XPvAibaEXe/VQHzzHDYACRfsgbqiwflU      2    2019      NaN   \n",
       "3771  3908  0F4E2E19XPvAibaEXe+KnWgScvZ27HdNiwaSUUic      2    2019      NaN   \n",
       "\n",
       "      miengiam                                     ghichu  \n",
       "5030    112000  Giảm 7% HP hỗ trợ ảnh hưởng dịch COVID-19  \n",
       "5212   1050000  Giảm 7% HP hỗ trợ ảnh hưởng dịch COVID-19  \n",
       "3771    371000  Giảm 7% HP hỗ trợ ảnh hưởng dịch COVID-19  "
      ]
     },
     "execution_count": 43,
     "metadata": {},
     "output_type": "execute_result"
    }
   ],
   "source": [
    "old_df.sample(3)"
   ]
  },
  {
   "cell_type": "code",
   "execution_count": 44,
   "metadata": {},
   "outputs": [
    {
     "data": {
      "text/html": [
       "<div>\n",
       "<style scoped>\n",
       "    .dataframe tbody tr th:only-of-type {\n",
       "        vertical-align: middle;\n",
       "    }\n",
       "\n",
       "    .dataframe tbody tr th {\n",
       "        vertical-align: top;\n",
       "    }\n",
       "\n",
       "    .dataframe thead th {\n",
       "        text-align: right;\n",
       "    }\n",
       "</style>\n",
       "<table border=\"1\" class=\"dataframe\">\n",
       "  <thead>\n",
       "    <tr style=\"text-align: right;\">\n",
       "      <th></th>\n",
       "      <th>mssv</th>\n",
       "      <th>hoc_ky</th>\n",
       "      <th>nam_hoc</th>\n",
       "      <th>doi_tuong</th>\n",
       "      <th>mien_giam</th>\n",
       "      <th>phan_tram_mien_giam</th>\n",
       "    </tr>\n",
       "  </thead>\n",
       "  <tbody>\n",
       "    <tr>\n",
       "      <th>4762</th>\n",
       "      <td>5135E5A2XPvAibaEXe/KP8Z+xE/sY37dNvM38zqE</td>\n",
       "      <td>2</td>\n",
       "      <td>2019</td>\n",
       "      <td>SV bị ảnh hưởng bởi dịch COVID-19</td>\n",
       "      <td>1050000.0</td>\n",
       "      <td>7.0</td>\n",
       "    </tr>\n",
       "    <tr>\n",
       "      <th>4990</th>\n",
       "      <td>4ABE187CXPvAibaEXe94sKKoWENjB1kc5S0oZHFw</td>\n",
       "      <td>2</td>\n",
       "      <td>2019</td>\n",
       "      <td>SV bị ảnh hưởng bởi dịch COVID-19</td>\n",
       "      <td>1050000.0</td>\n",
       "      <td>7.0</td>\n",
       "    </tr>\n",
       "    <tr>\n",
       "      <th>393</th>\n",
       "      <td>25C15555XPvAibaEXe9M021iVaAwIGned3/1O2WJ</td>\n",
       "      <td>2</td>\n",
       "      <td>2015</td>\n",
       "      <td>Con thương binh</td>\n",
       "      <td>3250000.0</td>\n",
       "      <td>100.0</td>\n",
       "    </tr>\n",
       "  </tbody>\n",
       "</table>\n",
       "</div>"
      ],
      "text/plain": [
       "                                          mssv hoc_ky nam_hoc   \n",
       "4762  5135E5A2XPvAibaEXe/KP8Z+xE/sY37dNvM38zqE      2    2019  \\\n",
       "4990  4ABE187CXPvAibaEXe94sKKoWENjB1kc5S0oZHFw      2    2019   \n",
       "393   25C15555XPvAibaEXe9M021iVaAwIGned3/1O2WJ      2    2015   \n",
       "\n",
       "                              doi_tuong  mien_giam  phan_tram_mien_giam  \n",
       "4762  SV bị ảnh hưởng bởi dịch COVID-19  1050000.0                  7.0  \n",
       "4990  SV bị ảnh hưởng bởi dịch COVID-19  1050000.0                  7.0  \n",
       "393                     Con thương binh  3250000.0                100.0  "
      ]
     },
     "execution_count": 44,
     "metadata": {},
     "output_type": "execute_result"
    }
   ],
   "source": [
    "new_df.sample(3)"
   ]
  },
  {
   "cell_type": "code",
   "execution_count": 45,
   "metadata": {},
   "outputs": [
    {
     "name": "stdout",
     "output_type": "stream",
     "text": [
      "<class 'pandas.core.frame.DataFrame'>\n",
      "RangeIndex: 5652 entries, 0 to 5651\n",
      "Data columns (total 7 columns):\n",
      " #   Column    Non-Null Count  Dtype \n",
      "---  ------    --------------  ----- \n",
      " 0   id        5652 non-null   int64 \n",
      " 1   mssv      5652 non-null   object\n",
      " 2   hocky     5652 non-null   int64 \n",
      " 3   namhoc    5652 non-null   int64 \n",
      " 4   doituong  429 non-null    object\n",
      " 5   miengiam  5652 non-null   int64 \n",
      " 6   ghichu    5367 non-null   object\n",
      "dtypes: int64(4), object(3)\n",
      "memory usage: 309.2+ KB\n"
     ]
    }
   ],
   "source": [
    "old_df.info()"
   ]
  },
  {
   "cell_type": "code",
   "execution_count": 46,
   "metadata": {},
   "outputs": [
    {
     "name": "stdout",
     "output_type": "stream",
     "text": [
      "<class 'pandas.core.frame.DataFrame'>\n",
      "RangeIndex: 5652 entries, 0 to 5651\n",
      "Data columns (total 6 columns):\n",
      " #   Column               Non-Null Count  Dtype   \n",
      "---  ------               --------------  -----   \n",
      " 0   mssv                 5652 non-null   category\n",
      " 1   hoc_ky               5652 non-null   category\n",
      " 2   nam_hoc              5652 non-null   category\n",
      " 3   doi_tuong            5652 non-null   category\n",
      " 4   mien_giam            5652 non-null   float32 \n",
      " 5   phan_tram_mien_giam  5652 non-null   float32 \n",
      "dtypes: category(4), float32(2)\n",
      "memory usage: 243.4 KB\n"
     ]
    }
   ],
   "source": [
    "new_df.info()"
   ]
  },
  {
   "cell_type": "code",
   "execution_count": 47,
   "metadata": {},
   "outputs": [
    {
     "data": {
      "text/html": [
       "<div>\n",
       "<style scoped>\n",
       "    .dataframe tbody tr th:only-of-type {\n",
       "        vertical-align: middle;\n",
       "    }\n",
       "\n",
       "    .dataframe tbody tr th {\n",
       "        vertical-align: top;\n",
       "    }\n",
       "\n",
       "    .dataframe thead th {\n",
       "        text-align: right;\n",
       "    }\n",
       "</style>\n",
       "<table border=\"1\" class=\"dataframe\">\n",
       "  <thead>\n",
       "    <tr style=\"text-align: right;\">\n",
       "      <th></th>\n",
       "      <th>id</th>\n",
       "      <th>hocky</th>\n",
       "      <th>namhoc</th>\n",
       "      <th>miengiam</th>\n",
       "    </tr>\n",
       "  </thead>\n",
       "  <tbody>\n",
       "    <tr>\n",
       "      <th>count</th>\n",
       "      <td>5652.000000</td>\n",
       "      <td>5652.000000</td>\n",
       "      <td>5652.000000</td>\n",
       "      <td>5.652000e+03</td>\n",
       "    </tr>\n",
       "    <tr>\n",
       "      <th>mean</th>\n",
       "      <td>2932.934713</td>\n",
       "      <td>1.957360</td>\n",
       "      <td>2018.620842</td>\n",
       "      <td>6.303078e+05</td>\n",
       "    </tr>\n",
       "    <tr>\n",
       "      <th>std</th>\n",
       "      <td>1684.359366</td>\n",
       "      <td>0.202061</td>\n",
       "      <td>1.342344</td>\n",
       "      <td>4.910694e+05</td>\n",
       "    </tr>\n",
       "    <tr>\n",
       "      <th>min</th>\n",
       "      <td>1.000000</td>\n",
       "      <td>1.000000</td>\n",
       "      <td>2013.000000</td>\n",
       "      <td>5.000000e+01</td>\n",
       "    </tr>\n",
       "    <tr>\n",
       "      <th>25%</th>\n",
       "      <td>1482.750000</td>\n",
       "      <td>2.000000</td>\n",
       "      <td>2019.000000</td>\n",
       "      <td>3.710000e+05</td>\n",
       "    </tr>\n",
       "    <tr>\n",
       "      <th>50%</th>\n",
       "      <td>2953.500000</td>\n",
       "      <td>2.000000</td>\n",
       "      <td>2019.000000</td>\n",
       "      <td>3.710000e+05</td>\n",
       "    </tr>\n",
       "    <tr>\n",
       "      <th>75%</th>\n",
       "      <td>4381.250000</td>\n",
       "      <td>2.000000</td>\n",
       "      <td>2019.000000</td>\n",
       "      <td>1.050000e+06</td>\n",
       "    </tr>\n",
       "    <tr>\n",
       "      <th>max</th>\n",
       "      <td>5899.000000</td>\n",
       "      <td>2.000000</td>\n",
       "      <td>2019.000000</td>\n",
       "      <td>3.250000e+06</td>\n",
       "    </tr>\n",
       "  </tbody>\n",
       "</table>\n",
       "</div>"
      ],
      "text/plain": [
       "                id        hocky       namhoc      miengiam\n",
       "count  5652.000000  5652.000000  5652.000000  5.652000e+03\n",
       "mean   2932.934713     1.957360  2018.620842  6.303078e+05\n",
       "std    1684.359366     0.202061     1.342344  4.910694e+05\n",
       "min       1.000000     1.000000  2013.000000  5.000000e+01\n",
       "25%    1482.750000     2.000000  2019.000000  3.710000e+05\n",
       "50%    2953.500000     2.000000  2019.000000  3.710000e+05\n",
       "75%    4381.250000     2.000000  2019.000000  1.050000e+06\n",
       "max    5899.000000     2.000000  2019.000000  3.250000e+06"
      ]
     },
     "execution_count": 47,
     "metadata": {},
     "output_type": "execute_result"
    }
   ],
   "source": [
    "old_df.describe()"
   ]
  },
  {
   "cell_type": "code",
   "execution_count": 48,
   "metadata": {},
   "outputs": [
    {
     "data": {
      "text/html": [
       "<div>\n",
       "<style scoped>\n",
       "    .dataframe tbody tr th:only-of-type {\n",
       "        vertical-align: middle;\n",
       "    }\n",
       "\n",
       "    .dataframe tbody tr th {\n",
       "        vertical-align: top;\n",
       "    }\n",
       "\n",
       "    .dataframe thead th {\n",
       "        text-align: right;\n",
       "    }\n",
       "</style>\n",
       "<table border=\"1\" class=\"dataframe\">\n",
       "  <thead>\n",
       "    <tr style=\"text-align: right;\">\n",
       "      <th></th>\n",
       "      <th>mien_giam</th>\n",
       "      <th>phan_tram_mien_giam</th>\n",
       "    </tr>\n",
       "  </thead>\n",
       "  <tbody>\n",
       "    <tr>\n",
       "      <th>count</th>\n",
       "      <td>5.652000e+03</td>\n",
       "      <td>5652.000000</td>\n",
       "    </tr>\n",
       "    <tr>\n",
       "      <th>mean</th>\n",
       "      <td>8.503113e+05</td>\n",
       "      <td>13.853680</td>\n",
       "    </tr>\n",
       "    <tr>\n",
       "      <th>std</th>\n",
       "      <td>7.690674e+05</td>\n",
       "      <td>24.113993</td>\n",
       "    </tr>\n",
       "    <tr>\n",
       "      <th>min</th>\n",
       "      <td>7.560000e+04</td>\n",
       "      <td>7.000000</td>\n",
       "    </tr>\n",
       "    <tr>\n",
       "      <th>25%</th>\n",
       "      <td>3.710000e+05</td>\n",
       "      <td>7.000000</td>\n",
       "    </tr>\n",
       "    <tr>\n",
       "      <th>50%</th>\n",
       "      <td>4.970000e+05</td>\n",
       "      <td>7.000000</td>\n",
       "    </tr>\n",
       "    <tr>\n",
       "      <th>75%</th>\n",
       "      <td>1.050000e+06</td>\n",
       "      <td>7.000000</td>\n",
       "    </tr>\n",
       "    <tr>\n",
       "      <th>max</th>\n",
       "      <td>3.250000e+06</td>\n",
       "      <td>100.000000</td>\n",
       "    </tr>\n",
       "  </tbody>\n",
       "</table>\n",
       "</div>"
      ],
      "text/plain": [
       "          mien_giam  phan_tram_mien_giam\n",
       "count  5.652000e+03          5652.000000\n",
       "mean   8.503113e+05            13.853680\n",
       "std    7.690674e+05            24.113993\n",
       "min    7.560000e+04             7.000000\n",
       "25%    3.710000e+05             7.000000\n",
       "50%    4.970000e+05             7.000000\n",
       "75%    1.050000e+06             7.000000\n",
       "max    3.250000e+06           100.000000"
      ]
     },
     "execution_count": 48,
     "metadata": {},
     "output_type": "execute_result"
    }
   ],
   "source": [
    "new_df.describe()"
   ]
  },
  {
   "cell_type": "code",
   "execution_count": 49,
   "metadata": {},
   "outputs": [
    {
     "data": {
      "text/plain": [
       "Index(['id', 'mssv', 'hocky', 'namhoc', 'doituong', 'miengiam', 'ghichu'], dtype='object')"
      ]
     },
     "execution_count": 49,
     "metadata": {},
     "output_type": "execute_result"
    }
   ],
   "source": [
    "old_df.columns"
   ]
  },
  {
   "cell_type": "code",
   "execution_count": 50,
   "metadata": {},
   "outputs": [
    {
     "data": {
      "text/plain": [
       "Index(['mssv', 'hoc_ky', 'nam_hoc', 'doi_tuong', 'mien_giam',\n",
       "       'phan_tram_mien_giam'],\n",
       "      dtype='object')"
      ]
     },
     "execution_count": 50,
     "metadata": {},
     "output_type": "execute_result"
    }
   ],
   "source": [
    "new_df.columns"
   ]
  },
  {
   "cell_type": "code",
   "execution_count": 51,
   "metadata": {},
   "outputs": [
    {
     "data": {
      "text/plain": [
       "0"
      ]
     },
     "execution_count": 51,
     "metadata": {},
     "output_type": "execute_result"
    }
   ],
   "source": [
    "primary_key = ['mssv', 'hocky', 'namhoc']\n",
    "old_df[primary_key].duplicated().sum()"
   ]
  },
  {
   "cell_type": "code",
   "execution_count": 52,
   "metadata": {},
   "outputs": [
    {
     "data": {
      "text/plain": [
       "0"
      ]
     },
     "execution_count": 52,
     "metadata": {},
     "output_type": "execute_result"
    }
   ],
   "source": [
    "primary_key = ['mssv', 'hoc_ky', 'nam_hoc']\n",
    "new_df[primary_key].duplicated().sum()"
   ]
  },
  {
   "attachments": {},
   "cell_type": "markdown",
   "metadata": {},
   "source": [
    "# Save clean data"
   ]
  },
  {
   "cell_type": "code",
   "execution_count": 53,
   "metadata": {},
   "outputs": [],
   "source": [
    "clean_data_folder = Path(\"../../clean_data\")"
   ]
  },
  {
   "cell_type": "code",
   "execution_count": 54,
   "metadata": {},
   "outputs": [
    {
     "name": "stdout",
     "output_type": "stream",
     "text": [
      "<class 'pandas.core.frame.DataFrame'>\n",
      "RangeIndex: 5652 entries, 0 to 5651\n",
      "Data columns (total 6 columns):\n",
      " #   Column               Non-Null Count  Dtype   \n",
      "---  ------               --------------  -----   \n",
      " 0   mssv                 5652 non-null   category\n",
      " 1   hoc_ky               5652 non-null   category\n",
      " 2   nam_hoc              5652 non-null   category\n",
      " 3   doi_tuong            5652 non-null   category\n",
      " 4   mien_giam            5652 non-null   float32 \n",
      " 5   phan_tram_mien_giam  5652 non-null   float32 \n",
      "dtypes: category(4), float32(2)\n",
      "memory usage: 243.4 KB\n"
     ]
    }
   ],
   "source": [
    "new_df.to_parquet(clean_data_folder/f\"{data_stem}.parquet\", index=False)\n",
    "haha = pd.read_parquet(clean_data_folder/f\"{data_stem}.parquet\")\n",
    "haha.info()"
   ]
  }
 ],
 "metadata": {
  "kernelspec": {
   "display_name": "general_cpython",
   "language": "python",
   "name": "python3"
  },
  "language_info": {
   "codemirror_mode": {
    "name": "ipython",
    "version": 3
   },
   "file_extension": ".py",
   "mimetype": "text/x-python",
   "name": "python",
   "nbconvert_exporter": "python",
   "pygments_lexer": "ipython3",
   "version": "3.8.16"
  },
  "orig_nbformat": 4
 },
 "nbformat": 4,
 "nbformat_minor": 2
}
