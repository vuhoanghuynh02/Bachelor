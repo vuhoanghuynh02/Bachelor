{
 "cells": [
  {
   "cell_type": "code",
   "execution_count": 1,
   "metadata": {},
   "outputs": [],
   "source": [
    "from pathlib import Path\n",
    "import os\n",
    "import pandas as pd\n",
    "import matplotlib.pyplot as plt\n",
    "import seaborn as sns"
   ]
  },
  {
   "cell_type": "code",
   "execution_count": 2,
   "metadata": {},
   "outputs": [
    {
     "data": {
      "text/plain": [
       "['00.ghichu.txt',\n",
       " '00_dhcntt-dtdh_19-01-2016_scan.pdf',\n",
       " '01.sinhvien.xlsx',\n",
       " '02.diem.xlsx',\n",
       " '03.sinhvien_chungchi.xlsx',\n",
       " '04.xeploaiav.xlsx',\n",
       " '05.ThiSinh.xlsx',\n",
       " '06.giayxacnhan.xlsx',\n",
       " '08.XLHV.xlsx',\n",
       " '10.diemrl.xlsx',\n",
       " '12.baoluu.xlsx',\n",
       " '14.totnghiep.xlsx',\n",
       " 'diemrl.xlsx',\n",
       " 'diem_Thu.xlsx',\n",
       " 'Education_dataset_V2.rar',\n",
       " 'sinhvien_dtb_hocky.xlsx',\n",
       " 'sinhvien_dtb_toankhoa.xlsx',\n",
       " 'uit_hocphi_miengiam.xlsx']"
      ]
     },
     "execution_count": 2,
     "metadata": {},
     "output_type": "execute_result"
    }
   ],
   "source": [
    "data_folder = Path(\"../../data\")\n",
    "os.listdir(data_folder)"
   ]
  },
  {
   "cell_type": "code",
   "execution_count": 3,
   "metadata": {},
   "outputs": [],
   "source": [
    "data_stem = 'diemrl'\n",
    "old_df = pd.read_excel(data_folder/f\"{data_stem}.xlsx\")\n",
    "new_df = old_df.copy(deep = True)"
   ]
  },
  {
   "cell_type": "code",
   "execution_count": 4,
   "metadata": {},
   "outputs": [
    {
     "data": {
      "text/html": [
       "<div>\n",
       "<style scoped>\n",
       "    .dataframe tbody tr th:only-of-type {\n",
       "        vertical-align: middle;\n",
       "    }\n",
       "\n",
       "    .dataframe tbody tr th {\n",
       "        vertical-align: top;\n",
       "    }\n",
       "\n",
       "    .dataframe thead th {\n",
       "        text-align: right;\n",
       "    }\n",
       "</style>\n",
       "<table border=\"1\" class=\"dataframe\">\n",
       "  <thead>\n",
       "    <tr style=\"text-align: right;\">\n",
       "      <th></th>\n",
       "      <th>id</th>\n",
       "      <th>mssv</th>\n",
       "      <th>lopsh</th>\n",
       "      <th>hocky</th>\n",
       "      <th>namhoc</th>\n",
       "      <th>drl</th>\n",
       "      <th>ghichu</th>\n",
       "    </tr>\n",
       "  </thead>\n",
       "  <tbody>\n",
       "    <tr>\n",
       "      <th>16919</th>\n",
       "      <td>50173</td>\n",
       "      <td>D8B81312XPvAibaEXe/PGAaNNWvbUIfmRv3bR2wn</td>\n",
       "      <td>HTTT2013</td>\n",
       "      <td>2</td>\n",
       "      <td>2015</td>\n",
       "      <td>64</td>\n",
       "      <td>NaN</td>\n",
       "    </tr>\n",
       "    <tr>\n",
       "      <th>65787</th>\n",
       "      <td>111828</td>\n",
       "      <td>B0C7AB81XPvAibaEXe+Bn/Kbq8h84PR7K1SVKA8p</td>\n",
       "      <td>PMCL2019</td>\n",
       "      <td>1</td>\n",
       "      <td>2019</td>\n",
       "      <td>100</td>\n",
       "      <td>NaN</td>\n",
       "    </tr>\n",
       "    <tr>\n",
       "      <th>42283</th>\n",
       "      <td>88320</td>\n",
       "      <td>D4FF429DXPvAibaEXe/r5MZmMPRuFQFzV1VHdDY3</td>\n",
       "      <td>CNPM04</td>\n",
       "      <td>2</td>\n",
       "      <td>2010</td>\n",
       "      <td>91</td>\n",
       "      <td>NaN</td>\n",
       "    </tr>\n",
       "  </tbody>\n",
       "</table>\n",
       "</div>"
      ],
      "text/plain": [
       "           id                                      mssv     lopsh  hocky   \n",
       "16919   50173  D8B81312XPvAibaEXe/PGAaNNWvbUIfmRv3bR2wn  HTTT2013      2  \\\n",
       "65787  111828  B0C7AB81XPvAibaEXe+Bn/Kbq8h84PR7K1SVKA8p  PMCL2019      1   \n",
       "42283   88320  D4FF429DXPvAibaEXe/r5MZmMPRuFQFzV1VHdDY3    CNPM04      2   \n",
       "\n",
       "       namhoc  drl ghichu  \n",
       "16919    2015   64    NaN  \n",
       "65787    2019  100    NaN  \n",
       "42283    2010   91    NaN  "
      ]
     },
     "execution_count": 4,
     "metadata": {},
     "output_type": "execute_result"
    }
   ],
   "source": [
    "new_df.sample(3)"
   ]
  },
  {
   "cell_type": "code",
   "execution_count": 5,
   "metadata": {},
   "outputs": [
    {
     "name": "stdout",
     "output_type": "stream",
     "text": [
      "<class 'pandas.core.frame.DataFrame'>\n",
      "RangeIndex: 111978 entries, 0 to 111977\n",
      "Data columns (total 7 columns):\n",
      " #   Column  Non-Null Count   Dtype \n",
      "---  ------  --------------   ----- \n",
      " 0   id      111978 non-null  int64 \n",
      " 1   mssv    111978 non-null  object\n",
      " 2   lopsh   101450 non-null  object\n",
      " 3   hocky   111978 non-null  int64 \n",
      " 4   namhoc  111978 non-null  int64 \n",
      " 5   drl     111978 non-null  int64 \n",
      " 6   ghichu  14768 non-null   object\n",
      "dtypes: int64(4), object(3)\n",
      "memory usage: 6.0+ MB\n"
     ]
    }
   ],
   "source": [
    "new_df.info()"
   ]
  },
  {
   "cell_type": "code",
   "execution_count": 6,
   "metadata": {},
   "outputs": [],
   "source": [
    "old_primary_key = ['mssv', 'namhoc', 'hocky']\n",
    "new_primary_key = ['mssv', 'nam_hoc', 'hoc_ky']"
   ]
  },
  {
   "cell_type": "code",
   "execution_count": 7,
   "metadata": {},
   "outputs": [
    {
     "data": {
      "text/plain": [
       "Index(['id', 'mssv', 'lopsh', 'hocky', 'namhoc', 'drl', 'ghichu'], dtype='object')"
      ]
     },
     "execution_count": 7,
     "metadata": {},
     "output_type": "execute_result"
    }
   ],
   "source": [
    "old_df.columns"
   ]
  },
  {
   "cell_type": "code",
   "execution_count": 8,
   "metadata": {},
   "outputs": [],
   "source": [
    "new_df.columns = ['id', 'mssv', 'lop_sh', 'hoc_ky', 'nam_hoc', 'drl', 'ghi_chu']"
   ]
  },
  {
   "cell_type": "code",
   "execution_count": 9,
   "metadata": {},
   "outputs": [
    {
     "data": {
      "text/html": [
       "<div>\n",
       "<style scoped>\n",
       "    .dataframe tbody tr th:only-of-type {\n",
       "        vertical-align: middle;\n",
       "    }\n",
       "\n",
       "    .dataframe tbody tr th {\n",
       "        vertical-align: top;\n",
       "    }\n",
       "\n",
       "    .dataframe thead th {\n",
       "        text-align: right;\n",
       "    }\n",
       "</style>\n",
       "<table border=\"1\" class=\"dataframe\">\n",
       "  <thead>\n",
       "    <tr style=\"text-align: right;\">\n",
       "      <th></th>\n",
       "      <th>id</th>\n",
       "      <th>hoc_ky</th>\n",
       "      <th>nam_hoc</th>\n",
       "      <th>drl</th>\n",
       "    </tr>\n",
       "  </thead>\n",
       "  <tbody>\n",
       "    <tr>\n",
       "      <th>count</th>\n",
       "      <td>111978.000000</td>\n",
       "      <td>111978.000000</td>\n",
       "      <td>111978.000000</td>\n",
       "      <td>111978.000000</td>\n",
       "    </tr>\n",
       "    <tr>\n",
       "      <th>mean</th>\n",
       "      <td>99981.614237</td>\n",
       "      <td>1.455732</td>\n",
       "      <td>2016.920475</td>\n",
       "      <td>76.642823</td>\n",
       "    </tr>\n",
       "    <tr>\n",
       "      <th>std</th>\n",
       "      <td>45135.101576</td>\n",
       "      <td>0.498039</td>\n",
       "      <td>3.681945</td>\n",
       "      <td>19.433861</td>\n",
       "    </tr>\n",
       "    <tr>\n",
       "      <th>min</th>\n",
       "      <td>1.000000</td>\n",
       "      <td>1.000000</td>\n",
       "      <td>2009.000000</td>\n",
       "      <td>-45.000000</td>\n",
       "    </tr>\n",
       "    <tr>\n",
       "      <th>25%</th>\n",
       "      <td>65004.250000</td>\n",
       "      <td>1.000000</td>\n",
       "      <td>2014.000000</td>\n",
       "      <td>66.000000</td>\n",
       "    </tr>\n",
       "    <tr>\n",
       "      <th>50%</th>\n",
       "      <td>102029.500000</td>\n",
       "      <td>1.000000</td>\n",
       "      <td>2018.000000</td>\n",
       "      <td>79.000000</td>\n",
       "    </tr>\n",
       "    <tr>\n",
       "      <th>75%</th>\n",
       "      <td>136927.750000</td>\n",
       "      <td>2.000000</td>\n",
       "      <td>2020.000000</td>\n",
       "      <td>90.000000</td>\n",
       "    </tr>\n",
       "    <tr>\n",
       "      <th>max</th>\n",
       "      <td>178976.000000</td>\n",
       "      <td>2.000000</td>\n",
       "      <td>2022.000000</td>\n",
       "      <td>122.000000</td>\n",
       "    </tr>\n",
       "  </tbody>\n",
       "</table>\n",
       "</div>"
      ],
      "text/plain": [
       "                  id         hoc_ky        nam_hoc            drl\n",
       "count  111978.000000  111978.000000  111978.000000  111978.000000\n",
       "mean    99981.614237       1.455732    2016.920475      76.642823\n",
       "std     45135.101576       0.498039       3.681945      19.433861\n",
       "min         1.000000       1.000000    2009.000000     -45.000000\n",
       "25%     65004.250000       1.000000    2014.000000      66.000000\n",
       "50%    102029.500000       1.000000    2018.000000      79.000000\n",
       "75%    136927.750000       2.000000    2020.000000      90.000000\n",
       "max    178976.000000       2.000000    2022.000000     122.000000"
      ]
     },
     "execution_count": 9,
     "metadata": {},
     "output_type": "execute_result"
    }
   ],
   "source": [
    "new_df.describe()"
   ]
  },
  {
   "cell_type": "code",
   "execution_count": 10,
   "metadata": {},
   "outputs": [],
   "source": [
    "new_df.drop('id', axis=1, inplace=True)"
   ]
  },
  {
   "cell_type": "code",
   "execution_count": 11,
   "metadata": {},
   "outputs": [
    {
     "name": "stdout",
     "output_type": "stream",
     "text": [
      "Empty DataFrame\n",
      "Columns: [mssv, lop_sh, hoc_ky, nam_hoc, drl, ghi_chu]\n",
      "Index: []\n",
      "Empty DataFrame\n",
      "Columns: [mssv, lop_sh, hoc_ky, nam_hoc, drl, ghi_chu]\n",
      "Index: []\n",
      "Empty DataFrame\n",
      "Columns: [mssv, lop_sh, hoc_ky, nam_hoc, drl, ghi_chu]\n",
      "Index: []\n"
     ]
    }
   ],
   "source": [
    "for col in new_primary_key:\n",
    "    print(new_df[new_df[col].isnull()])"
   ]
  },
  {
   "cell_type": "code",
   "execution_count": 12,
   "metadata": {},
   "outputs": [
    {
     "name": "stdout",
     "output_type": "stream",
     "text": [
      "<class 'pandas.core.frame.DataFrame'>\n",
      "RangeIndex: 111978 entries, 0 to 111977\n",
      "Data columns (total 6 columns):\n",
      " #   Column   Non-Null Count   Dtype \n",
      "---  ------   --------------   ----- \n",
      " 0   mssv     111978 non-null  object\n",
      " 1   lop_sh   101450 non-null  object\n",
      " 2   hoc_ky   111978 non-null  int64 \n",
      " 3   nam_hoc  111978 non-null  int64 \n",
      " 4   drl      111978 non-null  int64 \n",
      " 5   ghi_chu  14768 non-null   object\n",
      "dtypes: int64(3), object(3)\n",
      "memory usage: 5.1+ MB\n"
     ]
    }
   ],
   "source": [
    "new_df.info()"
   ]
  },
  {
   "attachments": {},
   "cell_type": "markdown",
   "metadata": {},
   "source": [
    "# mssv"
   ]
  },
  {
   "cell_type": "code",
   "execution_count": 13,
   "metadata": {},
   "outputs": [
    {
     "data": {
      "text/plain": [
       "mssv\n",
       "030FC1CFXPvAibaEXe+9lRniSKKSh3iBkTOiNqQs    14\n",
       "7075BE69XPvAibaEXe8WdGcsQTF3yHQhmzrDl1Yc    14\n",
       "6F2995F1XPvAibaEXe88UewilValgL4Zqtgm5Ap0    14\n",
       "3C303D57XPvAibaEXe/nRR7q+hWy3Opqpurh7Okn    14\n",
       "A4EEB45EXPvAibaEXe+wmtNhlfgIwjN3iuw7Uj8E    14\n",
       "                                            ..\n",
       "8644B1B1XPvAibaEXe8i5/EyPLsCjZfcFZVEv65r     1\n",
       "ED9A5CEEXPvAibaEXe91/NKp9te382uALbdrfaJC     1\n",
       "5E9FBE1EXPvAibaEXe8dy+jFD2oQpRHzHdc3CFXD     1\n",
       "8B6AA6ABXPvAibaEXe/ZgviRw0Hz8UJbsBNdAhWX     1\n",
       "2F3C5091XPvAibaEXe+sfYgLIH7gOxzJxMJIBXzw     1\n",
       "Name: count, Length: 17982, dtype: int64"
      ]
     },
     "execution_count": 13,
     "metadata": {},
     "output_type": "execute_result"
    }
   ],
   "source": [
    "new_df.mssv.value_counts(dropna=False)"
   ]
  },
  {
   "cell_type": "code",
   "execution_count": 14,
   "metadata": {},
   "outputs": [
    {
     "data": {
      "text/plain": [
       "0"
      ]
     },
     "execution_count": 14,
     "metadata": {},
     "output_type": "execute_result"
    }
   ],
   "source": [
    "new_df.mssv.isnull().sum()"
   ]
  },
  {
   "cell_type": "code",
   "execution_count": 15,
   "metadata": {},
   "outputs": [],
   "source": [
    "new_df.mssv = new_df.mssv.str.strip()"
   ]
  },
  {
   "cell_type": "code",
   "execution_count": 16,
   "metadata": {},
   "outputs": [
    {
     "data": {
      "text/plain": [
       "mssv\n",
       "40    111978\n",
       "Name: count, dtype: int64"
      ]
     },
     "execution_count": 16,
     "metadata": {},
     "output_type": "execute_result"
    }
   ],
   "source": [
    "new_df.mssv.str.len().value_counts(dropna=False)"
   ]
  },
  {
   "attachments": {},
   "cell_type": "markdown",
   "metadata": {},
   "source": [
    "# lop_sh"
   ]
  },
  {
   "cell_type": "code",
   "execution_count": 17,
   "metadata": {},
   "outputs": [
    {
     "data": {
      "text/plain": [
       "Index(['mssv', 'lop_sh', 'hoc_ky', 'nam_hoc', 'drl', 'ghi_chu'], dtype='object')"
      ]
     },
     "execution_count": 17,
     "metadata": {},
     "output_type": "execute_result"
    }
   ],
   "source": [
    "new_df.columns"
   ]
  },
  {
   "cell_type": "code",
   "execution_count": 18,
   "metadata": {},
   "outputs": [
    {
     "data": {
      "text/plain": [
       "lop_sh\n",
       "NaN           10528\n",
       "CNPM04         1644\n",
       "MMT04          1608\n",
       "KTPM0001       1516\n",
       "HTTT0001       1448\n",
       "              ...  \n",
       "KHCl2019          5\n",
       "CNTN05            4\n",
       "AEP01             3\n",
       "CNCL2021.2        1\n",
       "AEPP01            1\n",
       "Name: count, Length: 239, dtype: int64"
      ]
     },
     "execution_count": 18,
     "metadata": {},
     "output_type": "execute_result"
    }
   ],
   "source": [
    "new_df.lop_sh.value_counts(dropna=False)"
   ]
  },
  {
   "cell_type": "code",
   "execution_count": 19,
   "metadata": {},
   "outputs": [
    {
     "data": {
      "text/plain": [
       "10528"
      ]
     },
     "execution_count": 19,
     "metadata": {},
     "output_type": "execute_result"
    }
   ],
   "source": [
    "new_df.lop_sh.isnull().sum()"
   ]
  },
  {
   "cell_type": "code",
   "execution_count": 20,
   "metadata": {},
   "outputs": [],
   "source": [
    "new_df.lop_sh = new_df.lop_sh.str.upper().str.strip()"
   ]
  },
  {
   "cell_type": "code",
   "execution_count": 21,
   "metadata": {},
   "outputs": [
    {
     "data": {
      "text/plain": [
       "lop_sh\n",
       "8.0     90458\n",
       "NaN     10528\n",
       "6.0      8248\n",
       "5.0      2670\n",
       "10.0       74\n",
       "Name: count, dtype: int64"
      ]
     },
     "execution_count": 21,
     "metadata": {},
     "output_type": "execute_result"
    }
   ],
   "source": [
    "new_df.lop_sh.str.len().value_counts(dropna=False)"
   ]
  },
  {
   "attachments": {},
   "cell_type": "markdown",
   "metadata": {},
   "source": [
    "# hoc_ky"
   ]
  },
  {
   "cell_type": "code",
   "execution_count": 22,
   "metadata": {},
   "outputs": [
    {
     "data": {
      "text/plain": [
       "Index(['mssv', 'lop_sh', 'hoc_ky', 'nam_hoc', 'drl', 'ghi_chu'], dtype='object')"
      ]
     },
     "execution_count": 22,
     "metadata": {},
     "output_type": "execute_result"
    }
   ],
   "source": [
    "new_df.columns"
   ]
  },
  {
   "cell_type": "code",
   "execution_count": 23,
   "metadata": {},
   "outputs": [
    {
     "data": {
      "text/plain": [
       "hoc_ky\n",
       "1    60946\n",
       "2    51032\n",
       "Name: count, dtype: int64"
      ]
     },
     "execution_count": 23,
     "metadata": {},
     "output_type": "execute_result"
    }
   ],
   "source": [
    "new_df.hoc_ky.value_counts(dropna=False)"
   ]
  },
  {
   "cell_type": "code",
   "execution_count": 24,
   "metadata": {},
   "outputs": [
    {
     "data": {
      "text/plain": [
       "0"
      ]
     },
     "execution_count": 24,
     "metadata": {},
     "output_type": "execute_result"
    }
   ],
   "source": [
    "new_df.hoc_ky.isnull().sum()"
   ]
  },
  {
   "attachments": {},
   "cell_type": "markdown",
   "metadata": {},
   "source": [
    "# nam_hoc"
   ]
  },
  {
   "cell_type": "code",
   "execution_count": 25,
   "metadata": {},
   "outputs": [
    {
     "data": {
      "text/plain": [
       "Index(['mssv', 'lop_sh', 'hoc_ky', 'nam_hoc', 'drl', 'ghi_chu'], dtype='object')"
      ]
     },
     "execution_count": 25,
     "metadata": {},
     "output_type": "execute_result"
    }
   ],
   "source": [
    "new_df.columns"
   ]
  },
  {
   "cell_type": "code",
   "execution_count": 26,
   "metadata": {},
   "outputs": [
    {
     "data": {
      "text/plain": [
       "nam_hoc\n",
       "2021    14354\n",
       "2020    13150\n",
       "2019    11687\n",
       "2018    10070\n",
       "2017     9133\n",
       "2022     7896\n",
       "2016     7869\n",
       "2015     7485\n",
       "2012     6504\n",
       "2014     6139\n",
       "2011     5590\n",
       "2013     5549\n",
       "2009     3319\n",
       "2010     3233\n",
       "Name: count, dtype: int64"
      ]
     },
     "execution_count": 26,
     "metadata": {},
     "output_type": "execute_result"
    }
   ],
   "source": [
    "new_df.nam_hoc.value_counts(dropna=False)"
   ]
  },
  {
   "cell_type": "code",
   "execution_count": 27,
   "metadata": {},
   "outputs": [
    {
     "data": {
      "text/plain": [
       "0"
      ]
     },
     "execution_count": 27,
     "metadata": {},
     "output_type": "execute_result"
    }
   ],
   "source": [
    "new_df.nam_hoc.isnull().sum()"
   ]
  },
  {
   "attachments": {},
   "cell_type": "markdown",
   "metadata": {},
   "source": [
    "# drl"
   ]
  },
  {
   "cell_type": "code",
   "execution_count": 28,
   "metadata": {},
   "outputs": [
    {
     "data": {
      "text/plain": [
       "Index(['mssv', 'lop_sh', 'hoc_ky', 'nam_hoc', 'drl', 'ghi_chu'], dtype='object')"
      ]
     },
     "execution_count": 28,
     "metadata": {},
     "output_type": "execute_result"
    }
   ],
   "source": [
    "new_df.columns"
   ]
  },
  {
   "cell_type": "code",
   "execution_count": 29,
   "metadata": {},
   "outputs": [
    {
     "data": {
      "text/plain": [
       "drl\n",
       " 100    16568\n",
       " 90      5506\n",
       " 80      4620\n",
       " 75      3982\n",
       " 85      3500\n",
       "        ...  \n",
       "-39         1\n",
       "-37         1\n",
       "-43         1\n",
       "-29         1\n",
       "-31         1\n",
       "Name: count, Length: 144, dtype: int64"
      ]
     },
     "execution_count": 29,
     "metadata": {},
     "output_type": "execute_result"
    }
   ],
   "source": [
    "new_df.drl.value_counts(dropna=False)"
   ]
  },
  {
   "cell_type": "code",
   "execution_count": 30,
   "metadata": {},
   "outputs": [
    {
     "data": {
      "text/plain": [
       "0"
      ]
     },
     "execution_count": 30,
     "metadata": {},
     "output_type": "execute_result"
    }
   ],
   "source": [
    "new_df.drl.isnull().sum()"
   ]
  },
  {
   "cell_type": "code",
   "execution_count": 31,
   "metadata": {},
   "outputs": [
    {
     "data": {
      "text/plain": [
       "count    111978.000000\n",
       "mean         76.642823\n",
       "std          19.433861\n",
       "min         -45.000000\n",
       "25%          66.000000\n",
       "50%          79.000000\n",
       "75%          90.000000\n",
       "max         122.000000\n",
       "Name: drl, dtype: float64"
      ]
     },
     "execution_count": 31,
     "metadata": {},
     "output_type": "execute_result"
    }
   ],
   "source": [
    "new_df.drl.describe()"
   ]
  },
  {
   "cell_type": "code",
   "execution_count": 32,
   "metadata": {},
   "outputs": [
    {
     "data": {
      "text/plain": [
       "172"
      ]
     },
     "execution_count": 32,
     "metadata": {},
     "output_type": "execute_result"
    }
   ],
   "source": [
    "(new_df.drl < 0).sum()"
   ]
  },
  {
   "cell_type": "code",
   "execution_count": 33,
   "metadata": {},
   "outputs": [
    {
     "data": {
      "text/plain": [
       "count    172.000000\n",
       "mean     -15.924419\n",
       "std       11.848463\n",
       "min      -45.000000\n",
       "25%      -25.000000\n",
       "50%      -12.000000\n",
       "75%       -5.000000\n",
       "max       -1.000000\n",
       "Name: drl, dtype: float64"
      ]
     },
     "execution_count": 33,
     "metadata": {},
     "output_type": "execute_result"
    }
   ],
   "source": [
    "new_df[new_df.drl < 0].drl.describe()"
   ]
  },
  {
   "cell_type": "code",
   "execution_count": 34,
   "metadata": {},
   "outputs": [
    {
     "name": "stderr",
     "output_type": "stream",
     "text": [
      "C:\\Users\\vuhh2\\AppData\\Local\\Temp\\ipykernel_14180\\4079900021.py:1: SettingWithCopyWarning: \n",
      "A value is trying to be set on a copy of a slice from a DataFrame\n",
      "\n",
      "See the caveats in the documentation: https://pandas.pydata.org/pandas-docs/stable/user_guide/indexing.html#returning-a-view-versus-a-copy\n",
      "  new_df.drl[new_df.drl < 0] *= -1\n"
     ]
    }
   ],
   "source": [
    "new_df.drl[new_df.drl < 0] *= -1"
   ]
  },
  {
   "attachments": {},
   "cell_type": "markdown",
   "metadata": {},
   "source": [
    "# ghi_chu"
   ]
  },
  {
   "cell_type": "code",
   "execution_count": 35,
   "metadata": {},
   "outputs": [
    {
     "data": {
      "text/plain": [
       "Index(['mssv', 'lop_sh', 'hoc_ky', 'nam_hoc', 'drl', 'ghi_chu'], dtype='object')"
      ]
     },
     "execution_count": 35,
     "metadata": {},
     "output_type": "execute_result"
    }
   ],
   "source": [
    "new_df.columns"
   ]
  },
  {
   "cell_type": "code",
   "execution_count": 36,
   "metadata": {},
   "outputs": [
    {
     "data": {
      "text/plain": [
       "ghi_chu\n",
       "NaN           97210\n",
       "Xuất sắc       3669\n",
       "Khá            1491\n",
       "Tốt            1432\n",
       "Trung bình     1259\n",
       "              ...  \n",
       "ATTN2016          7\n",
       "KHTN2016          7\n",
       "KHCl2019.3        1\n",
       "KHCL2020          1\n",
       "KHMT2016          1\n",
       "Name: count, Length: 143, dtype: int64"
      ]
     },
     "execution_count": 36,
     "metadata": {},
     "output_type": "execute_result"
    }
   ],
   "source": [
    "new_df.ghi_chu.value_counts(dropna=False)"
   ]
  },
  {
   "cell_type": "code",
   "execution_count": 37,
   "metadata": {},
   "outputs": [
    {
     "data": {
      "text/plain": [
       "97210"
      ]
     },
     "execution_count": 37,
     "metadata": {},
     "output_type": "execute_result"
    }
   ],
   "source": [
    "new_df.ghi_chu.isnull().sum()"
   ]
  },
  {
   "cell_type": "code",
   "execution_count": 38,
   "metadata": {},
   "outputs": [],
   "source": [
    "new_df.ghi_chu = new_df.ghi_chu.str.upper().str.strip()"
   ]
  },
  {
   "cell_type": "code",
   "execution_count": 39,
   "metadata": {},
   "outputs": [
    {
     "name": "stdout",
     "output_type": "stream",
     "text": [
      "| ghi_chu    |   count |\n",
      "|:-----------|--------:|\n",
      "| nan        |   97210 |\n",
      "| XUẤT SẮC   |    3669 |\n",
      "| KHÁ        |    1491 |\n",
      "| TỐT        |    1432 |\n",
      "| TRUNG BÌNH |    1259 |\n",
      "| CNTT2018   |     134 |\n",
      "| HTTT0001   |     130 |\n",
      "| KTPM0001   |     121 |\n",
      "| CNTT2019   |     119 |\n",
      "| KHMT2019   |     115 |\n",
      "| KTMT0001   |     108 |\n",
      "| MMTT0001   |     108 |\n",
      "| KTPM2019   |     103 |\n",
      "| KTPM2020   |      98 |\n",
      "| HTCL2020   |      98 |\n",
      "| HTTT2017   |      95 |\n",
      "| MMCL2020   |      91 |\n",
      "| KTPM2018   |      90 |\n",
      "| ATCL2020   |      89 |\n",
      "| CNTT2017   |      87 |\n",
      "| CNTT2020   |      87 |\n",
      "| KTMT2019   |      81 |\n",
      "| ATTT2020   |      80 |\n",
      "| HTTT2019   |      79 |\n",
      "| MMTT2016   |      79 |\n",
      "| MMTT2019   |      78 |\n",
      "| MMTT2020   |      76 |\n",
      "| KTPM2017   |      73 |\n",
      "| TMĐT2018   |      71 |\n",
      "| HTTT2020   |      71 |\n",
      "| KHMT2018   |      71 |\n",
      "| MMTT2017   |      70 |\n",
      "| KTPM2016   |      70 |\n",
      "| CNCL2020.1 |      70 |\n",
      "| KHDL2020   |      69 |\n",
      "| KHMT2020   |      69 |\n",
      "| CNCL2020.2 |      68 |\n",
      "| TMĐT2017   |      67 |\n",
      "| HTTT2018   |      66 |\n",
      "| CNTT2016   |      65 |\n",
      "| KHCL2020.2 |      64 |\n",
      "| MMTT2018   |      62 |\n",
      "| PMCL2020.2 |      61 |\n",
      "| KHCL2020.1 |      60 |\n",
      "| CTTT2020   |      59 |\n",
      "| KTMT2016   |      59 |\n",
      "| MTCL2020.2 |      58 |\n",
      "| HTTT2016   |      58 |\n",
      "| ATTT2017   |      58 |\n",
      "| ATTT2019   |      58 |\n",
      "| PMCL2020.1 |      57 |\n",
      "| MTCL2020.1 |      57 |\n",
      "| TMCL2020   |      57 |\n",
      "| KHDL2019   |      56 |\n",
      "| KHDL2018   |      56 |\n",
      "| KTMT2020   |      53 |\n",
      "| KTMT2018   |      53 |\n",
      "| ATTT2016   |      53 |\n",
      "| TMĐT2020   |      51 |\n",
      "| KHMT2016.2 |      49 |\n",
      "| TMĐT2019   |      49 |\n",
      "| ATTT2018   |      49 |\n",
      "| MMCL2019.2 |      48 |\n",
      "| MMCL2019.1 |      47 |\n",
      "| KHCL2019.3 |      46 |\n",
      "| CTTT2018   |      46 |\n",
      "| PMCL2019.1 |      45 |\n",
      "| YẾU        |      45 |\n",
      "| PMCL2018.1 |      44 |\n",
      "| PMCL2019.2 |      44 |\n",
      "| PMCL2019.3 |      44 |\n",
      "| PMCL2018.2 |      44 |\n",
      "| PMCL2017.1 |      43 |\n",
      "| KHCL2019.2 |      42 |\n",
      "| PMCL2017.2 |      42 |\n",
      "| CNCL2019.2 |      42 |\n",
      "| ATCL2017   |      41 |\n",
      "| PMCL2017.3 |      41 |\n",
      "| KTMT2017   |      41 |\n",
      "| ATCL2019.1 |      41 |\n",
      "| KHMT0001   |      41 |\n",
      "| TMĐT2016   |      41 |\n",
      "| KHCL2019.1 |      40 |\n",
      "| KHMT2017   |      40 |\n",
      "| ATCL2019.2 |      39 |\n",
      "| HTCL2019.2 |      39 |\n",
      "| HTCL2019.1 |      38 |\n",
      "| CNCL2018.1 |      38 |\n",
      "| KHCL2018.1 |      38 |\n",
      "| CNCL2019.3 |      38 |\n",
      "| TMCL2019.2 |      37 |\n",
      "| KHCL2018.3 |      37 |\n",
      "| CTTT2019.2 |      37 |\n",
      "| CNCL2019.1 |      37 |\n",
      "| HTCL2018.2 |      36 |\n",
      "| HTCL2018.1 |      36 |\n",
      "| KHCL2018.2 |      36 |\n",
      "| PMCL2016.1 |      36 |\n",
      "| TMCL2019.1 |      35 |\n",
      "| PMCL2016.2 |      35 |\n",
      "| MTCL2019.3 |      35 |\n",
      "| CNTT0001   |      35 |\n",
      "| KHMT2016.1 |      35 |\n",
      "| CTTT2019.1 |      34 |\n",
      "| MTCL2019.1 |      34 |\n",
      "| MMCL2018.1 |      33 |\n",
      "| HTCL2017.1 |      33 |\n",
      "| MTIO2020   |      33 |\n",
      "| CNCL2018.2 |      33 |\n",
      "| CTTT2016   |      32 |\n",
      "| PMCL2016.3 |      32 |\n",
      "| KHNT2020   |      32 |\n",
      "| MTCL2019.2 |      31 |\n",
      "| KHTN2019   |      31 |\n",
      "| HTCL2017.2 |      31 |\n",
      "| ATCL2018.1 |      31 |\n",
      "| ATCL2018.2 |      30 |\n",
      "| MTCL2018.3 |      29 |\n",
      "| MTCL2018.1 |      29 |\n",
      "| MTCL2018.2 |      28 |\n",
      "| MTCL2017.1 |      28 |\n",
      "| MMCL2017   |      28 |\n",
      "| HTCL2016.2 |      27 |\n",
      "| MTCL2017.2 |      27 |\n",
      "| ATTN2019   |      26 |\n",
      "| KHTN2018   |      26 |\n",
      "| HTCL2016.1 |      26 |\n",
      "| MMCL2018.2 |      26 |\n",
      "| ATTN2018   |      26 |\n",
      "| CTTT2017   |      25 |\n",
      "| MTCL2016.2 |      25 |\n",
      "| KHTN2020   |      25 |\n",
      "| MTCL2016.1 |      23 |\n",
      "| KHCL2017.2 |      21 |\n",
      "| KHTN2017   |      21 |\n",
      "| ATTN2017   |      21 |\n",
      "| ATTN2020   |      19 |\n",
      "| KHCL2017.1 |      17 |\n",
      "| KHTN2016   |       7 |\n",
      "| ATTN2016   |       7 |\n",
      "| KHMT2016   |       1 |\n",
      "| KHCL2020   |       1 |\n"
     ]
    }
   ],
   "source": [
    "tmp = new_df.ghi_chu.value_counts(dropna=False)\n",
    "print(tmp.to_markdown())"
   ]
  },
  {
   "cell_type": "code",
   "execution_count": 40,
   "metadata": {},
   "outputs": [
    {
     "data": {
      "text/plain": [
       "ghi_chu\n",
       "NaN     97210\n",
       "8.0      8054\n",
       "10.0     3746\n",
       "3.0      2968\n",
       "Name: count, dtype: int64"
      ]
     },
     "execution_count": 40,
     "metadata": {},
     "output_type": "execute_result"
    }
   ],
   "source": [
    "new_df.ghi_chu.str.len().value_counts(dropna=False)"
   ]
  },
  {
   "attachments": {},
   "cell_type": "markdown",
   "metadata": {},
   "source": [
    "# lop_sh and ghi_chu"
   ]
  },
  {
   "cell_type": "code",
   "execution_count": 41,
   "metadata": {},
   "outputs": [
    {
     "name": "stdout",
     "output_type": "stream",
     "text": [
      "<class 'pandas.core.frame.DataFrame'>\n",
      "RangeIndex: 111978 entries, 0 to 111977\n",
      "Data columns (total 6 columns):\n",
      " #   Column   Non-Null Count   Dtype \n",
      "---  ------   --------------   ----- \n",
      " 0   mssv     111978 non-null  object\n",
      " 1   lop_sh   101450 non-null  object\n",
      " 2   hoc_ky   111978 non-null  int64 \n",
      " 3   nam_hoc  111978 non-null  int64 \n",
      " 4   drl      111978 non-null  int64 \n",
      " 5   ghi_chu  14768 non-null   object\n",
      "dtypes: int64(3), object(3)\n",
      "memory usage: 5.1+ MB\n"
     ]
    }
   ],
   "source": [
    "new_df.info()"
   ]
  },
  {
   "cell_type": "code",
   "execution_count": 42,
   "metadata": {},
   "outputs": [
    {
     "data": {
      "text/html": [
       "<div>\n",
       "<style scoped>\n",
       "    .dataframe tbody tr th:only-of-type {\n",
       "        vertical-align: middle;\n",
       "    }\n",
       "\n",
       "    .dataframe tbody tr th {\n",
       "        vertical-align: top;\n",
       "    }\n",
       "\n",
       "    .dataframe thead th {\n",
       "        text-align: right;\n",
       "    }\n",
       "</style>\n",
       "<table border=\"1\" class=\"dataframe\">\n",
       "  <thead>\n",
       "    <tr style=\"text-align: right;\">\n",
       "      <th></th>\n",
       "      <th>lop_sh</th>\n",
       "      <th>ghi_chu</th>\n",
       "    </tr>\n",
       "  </thead>\n",
       "  <tbody>\n",
       "    <tr>\n",
       "      <th>76578</th>\n",
       "      <td>ATCL2017</td>\n",
       "      <td>ATCL2017</td>\n",
       "    </tr>\n",
       "    <tr>\n",
       "      <th>76619</th>\n",
       "      <td>ATCL2018</td>\n",
       "      <td>ATCL2018.1</td>\n",
       "    </tr>\n",
       "    <tr>\n",
       "      <th>76650</th>\n",
       "      <td>ATCL2018</td>\n",
       "      <td>ATCL2018.2</td>\n",
       "    </tr>\n",
       "    <tr>\n",
       "      <th>76680</th>\n",
       "      <td>ATCL2019</td>\n",
       "      <td>ATCL2019.1</td>\n",
       "    </tr>\n",
       "    <tr>\n",
       "      <th>76721</th>\n",
       "      <td>ATCL2019</td>\n",
       "      <td>ATCL2019.2</td>\n",
       "    </tr>\n",
       "    <tr>\n",
       "      <th>...</th>\n",
       "      <td>...</td>\n",
       "      <td>...</td>\n",
       "    </tr>\n",
       "    <tr>\n",
       "      <th>110901</th>\n",
       "      <td>KHDL2022</td>\n",
       "      <td>KHÁ</td>\n",
       "    </tr>\n",
       "    <tr>\n",
       "      <th>111018</th>\n",
       "      <td>MTIO2022</td>\n",
       "      <td>TRUNG BÌNH</td>\n",
       "    </tr>\n",
       "    <tr>\n",
       "      <th>111561</th>\n",
       "      <td>KHNT2022</td>\n",
       "      <td>KHÁ</td>\n",
       "    </tr>\n",
       "    <tr>\n",
       "      <th>111614</th>\n",
       "      <td>HTTT2022</td>\n",
       "      <td>TRUNG BÌNH</td>\n",
       "    </tr>\n",
       "    <tr>\n",
       "      <th>111666</th>\n",
       "      <td>CTTT2022</td>\n",
       "      <td>TRUNG BÌNH</td>\n",
       "    </tr>\n",
       "  </tbody>\n",
       "</table>\n",
       "<p>481 rows × 2 columns</p>\n",
       "</div>"
      ],
      "text/plain": [
       "          lop_sh     ghi_chu\n",
       "76578   ATCL2017    ATCL2017\n",
       "76619   ATCL2018  ATCL2018.1\n",
       "76650   ATCL2018  ATCL2018.2\n",
       "76680   ATCL2019  ATCL2019.1\n",
       "76721   ATCL2019  ATCL2019.2\n",
       "...          ...         ...\n",
       "110901  KHDL2022         KHÁ\n",
       "111018  MTIO2022  TRUNG BÌNH\n",
       "111561  KHNT2022         KHÁ\n",
       "111614  HTTT2022  TRUNG BÌNH\n",
       "111666  CTTT2022  TRUNG BÌNH\n",
       "\n",
       "[481 rows x 2 columns]"
      ]
     },
     "execution_count": 42,
     "metadata": {},
     "output_type": "execute_result"
    }
   ],
   "source": [
    "tmp = new_df.loc[new_df.ghi_chu.notnull(), ['lop_sh', 'ghi_chu']].drop_duplicates()\n",
    "# print(tmp.to_markdown())\n",
    "tmp"
   ]
  },
  {
   "cell_type": "code",
   "execution_count": 43,
   "metadata": {},
   "outputs": [
    {
     "data": {
      "text/html": [
       "<div>\n",
       "<style scoped>\n",
       "    .dataframe tbody tr th:only-of-type {\n",
       "        vertical-align: middle;\n",
       "    }\n",
       "\n",
       "    .dataframe tbody tr th {\n",
       "        vertical-align: top;\n",
       "    }\n",
       "\n",
       "    .dataframe thead th {\n",
       "        text-align: right;\n",
       "    }\n",
       "</style>\n",
       "<table border=\"1\" class=\"dataframe\">\n",
       "  <thead>\n",
       "    <tr style=\"text-align: right;\">\n",
       "      <th></th>\n",
       "      <th>lop_sh</th>\n",
       "      <th>ghi_chu</th>\n",
       "    </tr>\n",
       "  </thead>\n",
       "  <tbody>\n",
       "  </tbody>\n",
       "</table>\n",
       "</div>"
      ],
      "text/plain": [
       "Empty DataFrame\n",
       "Columns: [lop_sh, ghi_chu]\n",
       "Index: []"
      ]
     },
     "execution_count": 43,
     "metadata": {},
     "output_type": "execute_result"
    }
   ],
   "source": [
    "tmp = new_df.loc[new_df.ghi_chu.notnull() & new_df.lop_sh.isnull(), ['lop_sh', 'ghi_chu']].drop_duplicates()\n",
    "# print(tmp.to_markdown())\n",
    "tmp"
   ]
  },
  {
   "cell_type": "code",
   "execution_count": 44,
   "metadata": {},
   "outputs": [
    {
     "data": {
      "text/html": [
       "<div>\n",
       "<style scoped>\n",
       "    .dataframe tbody tr th:only-of-type {\n",
       "        vertical-align: middle;\n",
       "    }\n",
       "\n",
       "    .dataframe tbody tr th {\n",
       "        vertical-align: top;\n",
       "    }\n",
       "\n",
       "    .dataframe thead th {\n",
       "        text-align: right;\n",
       "    }\n",
       "</style>\n",
       "<table border=\"1\" class=\"dataframe\">\n",
       "  <thead>\n",
       "    <tr style=\"text-align: right;\">\n",
       "      <th></th>\n",
       "      <th>lop_sh</th>\n",
       "      <th>ghi_chu</th>\n",
       "    </tr>\n",
       "  </thead>\n",
       "  <tbody>\n",
       "    <tr>\n",
       "      <th>76578</th>\n",
       "      <td>ATCL2017</td>\n",
       "      <td>ATCL2017</td>\n",
       "    </tr>\n",
       "    <tr>\n",
       "      <th>76760</th>\n",
       "      <td>ATCL2020</td>\n",
       "      <td>ATCL2020</td>\n",
       "    </tr>\n",
       "    <tr>\n",
       "      <th>76849</th>\n",
       "      <td>ATTN2016</td>\n",
       "      <td>ATTN2016</td>\n",
       "    </tr>\n",
       "    <tr>\n",
       "      <th>76856</th>\n",
       "      <td>ATTN2017</td>\n",
       "      <td>ATTN2017</td>\n",
       "    </tr>\n",
       "    <tr>\n",
       "      <th>76877</th>\n",
       "      <td>ATTN2018</td>\n",
       "      <td>ATTN2018</td>\n",
       "    </tr>\n",
       "    <tr>\n",
       "      <th>...</th>\n",
       "      <td>...</td>\n",
       "      <td>...</td>\n",
       "    </tr>\n",
       "    <tr>\n",
       "      <th>83171</th>\n",
       "      <td>TMĐT2016</td>\n",
       "      <td>TMĐT2016</td>\n",
       "    </tr>\n",
       "    <tr>\n",
       "      <th>83212</th>\n",
       "      <td>TMĐT2017</td>\n",
       "      <td>TMĐT2017</td>\n",
       "    </tr>\n",
       "    <tr>\n",
       "      <th>83279</th>\n",
       "      <td>TMĐT2018</td>\n",
       "      <td>TMĐT2018</td>\n",
       "    </tr>\n",
       "    <tr>\n",
       "      <th>83350</th>\n",
       "      <td>TMĐT2019</td>\n",
       "      <td>TMĐT2019</td>\n",
       "    </tr>\n",
       "    <tr>\n",
       "      <th>83399</th>\n",
       "      <td>TMĐT2020</td>\n",
       "      <td>TMĐT2020</td>\n",
       "    </tr>\n",
       "  </tbody>\n",
       "</table>\n",
       "<p>72 rows × 2 columns</p>\n",
       "</div>"
      ],
      "text/plain": [
       "         lop_sh   ghi_chu\n",
       "76578  ATCL2017  ATCL2017\n",
       "76760  ATCL2020  ATCL2020\n",
       "76849  ATTN2016  ATTN2016\n",
       "76856  ATTN2017  ATTN2017\n",
       "76877  ATTN2018  ATTN2018\n",
       "...         ...       ...\n",
       "83171  TMĐT2016  TMĐT2016\n",
       "83212  TMĐT2017  TMĐT2017\n",
       "83279  TMĐT2018  TMĐT2018\n",
       "83350  TMĐT2019  TMĐT2019\n",
       "83399  TMĐT2020  TMĐT2020\n",
       "\n",
       "[72 rows x 2 columns]"
      ]
     },
     "execution_count": 44,
     "metadata": {},
     "output_type": "execute_result"
    }
   ],
   "source": [
    "tmp = new_df.loc[new_df.ghi_chu == new_df.lop_sh, ['lop_sh', 'ghi_chu']].drop_duplicates()\n",
    "# print(tmp.to_markdown())\n",
    "tmp"
   ]
  },
  {
   "cell_type": "code",
   "execution_count": 45,
   "metadata": {},
   "outputs": [
    {
     "data": {
      "text/html": [
       "<div>\n",
       "<style scoped>\n",
       "    .dataframe tbody tr th:only-of-type {\n",
       "        vertical-align: middle;\n",
       "    }\n",
       "\n",
       "    .dataframe tbody tr th {\n",
       "        vertical-align: top;\n",
       "    }\n",
       "\n",
       "    .dataframe thead th {\n",
       "        text-align: right;\n",
       "    }\n",
       "</style>\n",
       "<table border=\"1\" class=\"dataframe\">\n",
       "  <thead>\n",
       "    <tr style=\"text-align: right;\">\n",
       "      <th></th>\n",
       "      <th>lop_sh</th>\n",
       "      <th>ghi_chu</th>\n",
       "    </tr>\n",
       "  </thead>\n",
       "  <tbody>\n",
       "    <tr>\n",
       "      <th>1402</th>\n",
       "      <td>NaN</td>\n",
       "      <td>NaN</td>\n",
       "    </tr>\n",
       "  </tbody>\n",
       "</table>\n",
       "</div>"
      ],
      "text/plain": [
       "     lop_sh ghi_chu\n",
       "1402    NaN     NaN"
      ]
     },
     "execution_count": 45,
     "metadata": {},
     "output_type": "execute_result"
    }
   ],
   "source": [
    "tmp = new_df.loc[new_df.lop_sh.isnull(), ['lop_sh', 'ghi_chu']].drop_duplicates()\n",
    "# print(tmp.to_markdown())\n",
    "tmp"
   ]
  },
  {
   "cell_type": "code",
   "execution_count": 46,
   "metadata": {},
   "outputs": [
    {
     "data": {
      "text/plain": [
       "10528"
      ]
     },
     "execution_count": 46,
     "metadata": {},
     "output_type": "execute_result"
    }
   ],
   "source": [
    "tmp = new_df.loc[new_df.lop_sh.isnull(), ['lop_sh', 'ghi_chu']]\n",
    "tmp.shape[0]"
   ]
  },
  {
   "cell_type": "code",
   "execution_count": 47,
   "metadata": {},
   "outputs": [
    {
     "data": {
      "text/plain": [
       "Index(['mssv', 'lop_sh', 'hoc_ky', 'nam_hoc', 'drl', 'ghi_chu'], dtype='object')"
      ]
     },
     "execution_count": 47,
     "metadata": {},
     "output_type": "execute_result"
    }
   ],
   "source": [
    "new_df.columns"
   ]
  },
  {
   "cell_type": "code",
   "execution_count": 48,
   "metadata": {},
   "outputs": [
    {
     "data": {
      "text/html": [
       "<div>\n",
       "<style scoped>\n",
       "    .dataframe tbody tr th:only-of-type {\n",
       "        vertical-align: middle;\n",
       "    }\n",
       "\n",
       "    .dataframe tbody tr th {\n",
       "        vertical-align: top;\n",
       "    }\n",
       "\n",
       "    .dataframe thead th {\n",
       "        text-align: right;\n",
       "    }\n",
       "</style>\n",
       "<table border=\"1\" class=\"dataframe\">\n",
       "  <thead>\n",
       "    <tr style=\"text-align: right;\">\n",
       "      <th></th>\n",
       "      <th>lop_sh</th>\n",
       "      <th>ghi_chu</th>\n",
       "    </tr>\n",
       "  </thead>\n",
       "  <tbody>\n",
       "  </tbody>\n",
       "</table>\n",
       "</div>"
      ],
      "text/plain": [
       "Empty DataFrame\n",
       "Columns: [lop_sh, ghi_chu]\n",
       "Index: []"
      ]
     },
     "execution_count": 48,
     "metadata": {},
     "output_type": "execute_result"
    }
   ],
   "source": [
    "tmp_list = ['TRUNG BÌNH', 'KHÁ', 'TỐT', 'XUẤT SẮC', 'YẾU']\n",
    "def tmp_filter(row):\n",
    "    return not pd.isnull(row.ghi_chu) \\\n",
    "        and not str(row.ghi_chu).startswith(str(row.lop_sh)) \\\n",
    "        and row.ghi_chu not in tmp_list\n",
    "\n",
    "tmp = new_df.loc[new_df.apply(tmp_filter, axis=1), ['lop_sh', 'ghi_chu']].drop_duplicates()\n",
    "# print(tmp.to_markdown())\n",
    "tmp"
   ]
  },
  {
   "cell_type": "code",
   "execution_count": 49,
   "metadata": {},
   "outputs": [
    {
     "data": {
      "text/plain": [
       "Index(['mssv', 'lop_sh', 'hoc_ky', 'nam_hoc', 'drl', 'lop_sh_cu_the'], dtype='object')"
      ]
     },
     "execution_count": 49,
     "metadata": {},
     "output_type": "execute_result"
    }
   ],
   "source": [
    "new_df.rename(columns={'ghi_chu': 'lop_sh_cu_the'}, inplace=True)\n",
    "new_df.columns"
   ]
  },
  {
   "cell_type": "code",
   "execution_count": 50,
   "metadata": {},
   "outputs": [
    {
     "data": {
      "text/plain": [
       "{'TRUNG BÌNH': None, 'KHÁ': None, 'TỐT': None, 'XUẤT SẮC': None, 'YẾU': None}"
      ]
     },
     "execution_count": 50,
     "metadata": {},
     "output_type": "execute_result"
    }
   ],
   "source": [
    "tmp_list = ['TRUNG BÌNH', 'KHÁ', 'TỐT', 'XUẤT SẮC', 'YẾU']\n",
    "mapping_list = {a: None for a in tmp_list}\n",
    "new_df.lop_sh_cu_the = new_df.lop_sh_cu_the.replace(tmp_list).fillna(new_df.lop_sh)\n",
    "mapping_list"
   ]
  },
  {
   "cell_type": "code",
   "execution_count": 51,
   "metadata": {},
   "outputs": [
    {
     "data": {
      "text/html": [
       "<div>\n",
       "<style scoped>\n",
       "    .dataframe tbody tr th:only-of-type {\n",
       "        vertical-align: middle;\n",
       "    }\n",
       "\n",
       "    .dataframe tbody tr th {\n",
       "        vertical-align: top;\n",
       "    }\n",
       "\n",
       "    .dataframe thead th {\n",
       "        text-align: right;\n",
       "    }\n",
       "</style>\n",
       "<table border=\"1\" class=\"dataframe\">\n",
       "  <thead>\n",
       "    <tr style=\"text-align: right;\">\n",
       "      <th></th>\n",
       "      <th>lop_sh</th>\n",
       "      <th>lop_sh_cu_the</th>\n",
       "    </tr>\n",
       "  </thead>\n",
       "  <tbody>\n",
       "    <tr>\n",
       "      <th>3657</th>\n",
       "      <td>KTPM2012</td>\n",
       "      <td>KTPM2012</td>\n",
       "    </tr>\n",
       "    <tr>\n",
       "      <th>17928</th>\n",
       "      <td>KTPM2013</td>\n",
       "      <td>KTPM2013</td>\n",
       "    </tr>\n",
       "    <tr>\n",
       "      <th>51713</th>\n",
       "      <td>KTPM2014</td>\n",
       "      <td>KTPM2014</td>\n",
       "    </tr>\n",
       "  </tbody>\n",
       "</table>\n",
       "</div>"
      ],
      "text/plain": [
       "         lop_sh lop_sh_cu_the\n",
       "3657   KTPM2012      KTPM2012\n",
       "17928  KTPM2013      KTPM2013\n",
       "51713  KTPM2014      KTPM2014"
      ]
     },
     "execution_count": 51,
     "metadata": {},
     "output_type": "execute_result"
    }
   ],
   "source": [
    "new_df[['lop_sh', 'lop_sh_cu_the']].sample(3)"
   ]
  },
  {
   "cell_type": "code",
   "execution_count": 52,
   "metadata": {},
   "outputs": [],
   "source": [
    "new_df.lop_sh_cu_the.fillna('NULL', inplace=True)\n",
    "new_df.lop_sh.fillna('NULL', inplace=True)\n"
   ]
  },
  {
   "cell_type": "code",
   "execution_count": 53,
   "metadata": {},
   "outputs": [
    {
     "name": "stdout",
     "output_type": "stream",
     "text": [
      "<class 'pandas.core.frame.DataFrame'>\n",
      "RangeIndex: 111978 entries, 0 to 111977\n",
      "Data columns (total 6 columns):\n",
      " #   Column         Non-Null Count   Dtype \n",
      "---  ------         --------------   ----- \n",
      " 0   mssv           111978 non-null  object\n",
      " 1   lop_sh         111978 non-null  object\n",
      " 2   hoc_ky         111978 non-null  int64 \n",
      " 3   nam_hoc        111978 non-null  int64 \n",
      " 4   drl            111978 non-null  int64 \n",
      " 5   lop_sh_cu_the  111978 non-null  object\n",
      "dtypes: int64(3), object(3)\n",
      "memory usage: 5.1+ MB\n"
     ]
    }
   ],
   "source": [
    "new_df.info()"
   ]
  },
  {
   "attachments": {},
   "cell_type": "markdown",
   "metadata": {},
   "source": [
    "# data type"
   ]
  },
  {
   "cell_type": "code",
   "execution_count": 54,
   "metadata": {},
   "outputs": [
    {
     "name": "stdout",
     "output_type": "stream",
     "text": [
      "<class 'pandas.core.frame.DataFrame'>\n",
      "RangeIndex: 111978 entries, 0 to 111977\n",
      "Data columns (total 6 columns):\n",
      " #   Column         Non-Null Count   Dtype \n",
      "---  ------         --------------   ----- \n",
      " 0   mssv           111978 non-null  object\n",
      " 1   lop_sh         111978 non-null  object\n",
      " 2   hoc_ky         111978 non-null  int64 \n",
      " 3   nam_hoc        111978 non-null  int64 \n",
      " 4   drl            111978 non-null  int64 \n",
      " 5   lop_sh_cu_the  111978 non-null  object\n",
      "dtypes: int64(3), object(3)\n",
      "memory usage: 5.1+ MB\n"
     ]
    }
   ],
   "source": [
    "new_df.info()"
   ]
  },
  {
   "cell_type": "code",
   "execution_count": 55,
   "metadata": {},
   "outputs": [
    {
     "data": {
      "text/plain": [
       "{2: '2', 1: '1'}"
      ]
     },
     "execution_count": 55,
     "metadata": {},
     "output_type": "execute_result"
    }
   ],
   "source": [
    "tmp = new_df.hoc_ky.unique().tolist()\n",
    "mapping_dict = {a:str(a) for a in tmp}\n",
    "new_df.hoc_ky = new_df.hoc_ky.map(mapping_dict)\n",
    "mapping_dict"
   ]
  },
  {
   "cell_type": "code",
   "execution_count": 56,
   "metadata": {},
   "outputs": [
    {
     "data": {
      "text/plain": [
       "{2013: '2013',\n",
       " 2014: '2014',\n",
       " 2015: '2015',\n",
       " 2011: '2011',\n",
       " 2016: '2016',\n",
       " 2012: '2012',\n",
       " 2009: '2009',\n",
       " 2010: '2010',\n",
       " 2017: '2017',\n",
       " 2018: '2018',\n",
       " 2019: '2019',\n",
       " 2020: '2020',\n",
       " 2021: '2021',\n",
       " 2022: '2022'}"
      ]
     },
     "execution_count": 56,
     "metadata": {},
     "output_type": "execute_result"
    }
   ],
   "source": [
    "tmp = new_df.nam_hoc.unique().tolist()\n",
    "mapping_dict = {a:str(a) for a in tmp}\n",
    "new_df.nam_hoc = new_df.nam_hoc.map(mapping_dict)\n",
    "mapping_dict"
   ]
  },
  {
   "cell_type": "code",
   "execution_count": 57,
   "metadata": {},
   "outputs": [
    {
     "name": "stdout",
     "output_type": "stream",
     "text": [
      "<class 'pandas.core.frame.DataFrame'>\n",
      "RangeIndex: 111978 entries, 0 to 111977\n",
      "Data columns (total 6 columns):\n",
      " #   Column         Non-Null Count   Dtype   \n",
      "---  ------         --------------   -----   \n",
      " 0   mssv           111978 non-null  category\n",
      " 1   lop_sh         111978 non-null  category\n",
      " 2   hoc_ky         111978 non-null  category\n",
      " 3   nam_hoc        111978 non-null  category\n",
      " 4   drl            111978 non-null  int16   \n",
      " 5   lop_sh_cu_the  111978 non-null  category\n",
      "dtypes: category(5), int16(1)\n",
      "memory usage: 1.7 MB\n"
     ]
    }
   ],
   "source": [
    "new_df.mssv = new_df.mssv.astype('category')\n",
    "new_df.lop_sh = new_df.lop_sh.astype('category')\n",
    "new_df.lop_sh_cu_the = new_df.lop_sh_cu_the.astype('category')\n",
    "new_df.hoc_ky = new_df.hoc_ky.astype('category')\n",
    "new_df.nam_hoc = new_df.nam_hoc.astype('category')\n",
    "new_df.drl = new_df.drl.astype('int16')\n",
    "new_df.info()"
   ]
  },
  {
   "attachments": {},
   "cell_type": "markdown",
   "metadata": {},
   "source": [
    "# final check"
   ]
  },
  {
   "cell_type": "code",
   "execution_count": 58,
   "metadata": {},
   "outputs": [
    {
     "data": {
      "text/html": [
       "<div>\n",
       "<style scoped>\n",
       "    .dataframe tbody tr th:only-of-type {\n",
       "        vertical-align: middle;\n",
       "    }\n",
       "\n",
       "    .dataframe tbody tr th {\n",
       "        vertical-align: top;\n",
       "    }\n",
       "\n",
       "    .dataframe thead th {\n",
       "        text-align: right;\n",
       "    }\n",
       "</style>\n",
       "<table border=\"1\" class=\"dataframe\">\n",
       "  <thead>\n",
       "    <tr style=\"text-align: right;\">\n",
       "      <th></th>\n",
       "      <th>mssv</th>\n",
       "      <th>lop_sh</th>\n",
       "      <th>hoc_ky</th>\n",
       "      <th>nam_hoc</th>\n",
       "      <th>drl</th>\n",
       "      <th>lop_sh_cu_the</th>\n",
       "    </tr>\n",
       "  </thead>\n",
       "  <tbody>\n",
       "  </tbody>\n",
       "</table>\n",
       "</div>"
      ],
      "text/plain": [
       "Empty DataFrame\n",
       "Columns: [mssv, lop_sh, hoc_ky, nam_hoc, drl, lop_sh_cu_the]\n",
       "Index: []"
      ]
     },
     "execution_count": 58,
     "metadata": {},
     "output_type": "execute_result"
    }
   ],
   "source": [
    "new_df[new_df.isnull().any(axis=1)]"
   ]
  },
  {
   "cell_type": "code",
   "execution_count": 59,
   "metadata": {},
   "outputs": [
    {
     "data": {
      "text/plain": [
       "0"
      ]
     },
     "execution_count": 59,
     "metadata": {},
     "output_type": "execute_result"
    }
   ],
   "source": [
    "new_df.duplicated().sum()"
   ]
  },
  {
   "cell_type": "code",
   "execution_count": 60,
   "metadata": {},
   "outputs": [
    {
     "data": {
      "text/plain": [
       "0"
      ]
     },
     "execution_count": 60,
     "metadata": {},
     "output_type": "execute_result"
    }
   ],
   "source": [
    "new_df[new_primary_key].duplicated().sum()"
   ]
  },
  {
   "cell_type": "code",
   "execution_count": 61,
   "metadata": {},
   "outputs": [
    {
     "data": {
      "text/html": [
       "<div>\n",
       "<style scoped>\n",
       "    .dataframe tbody tr th:only-of-type {\n",
       "        vertical-align: middle;\n",
       "    }\n",
       "\n",
       "    .dataframe tbody tr th {\n",
       "        vertical-align: top;\n",
       "    }\n",
       "\n",
       "    .dataframe thead th {\n",
       "        text-align: right;\n",
       "    }\n",
       "</style>\n",
       "<table border=\"1\" class=\"dataframe\">\n",
       "  <thead>\n",
       "    <tr style=\"text-align: right;\">\n",
       "      <th></th>\n",
       "      <th>drl</th>\n",
       "    </tr>\n",
       "  </thead>\n",
       "  <tbody>\n",
       "    <tr>\n",
       "      <th>count</th>\n",
       "      <td>111978.000000</td>\n",
       "    </tr>\n",
       "    <tr>\n",
       "      <th>mean</th>\n",
       "      <td>76.691743</td>\n",
       "    </tr>\n",
       "    <tr>\n",
       "      <th>std</th>\n",
       "      <td>19.239898</td>\n",
       "    </tr>\n",
       "    <tr>\n",
       "      <th>min</th>\n",
       "      <td>0.000000</td>\n",
       "    </tr>\n",
       "    <tr>\n",
       "      <th>25%</th>\n",
       "      <td>66.000000</td>\n",
       "    </tr>\n",
       "    <tr>\n",
       "      <th>50%</th>\n",
       "      <td>79.000000</td>\n",
       "    </tr>\n",
       "    <tr>\n",
       "      <th>75%</th>\n",
       "      <td>90.000000</td>\n",
       "    </tr>\n",
       "    <tr>\n",
       "      <th>max</th>\n",
       "      <td>122.000000</td>\n",
       "    </tr>\n",
       "  </tbody>\n",
       "</table>\n",
       "</div>"
      ],
      "text/plain": [
       "                 drl\n",
       "count  111978.000000\n",
       "mean       76.691743\n",
       "std        19.239898\n",
       "min         0.000000\n",
       "25%        66.000000\n",
       "50%        79.000000\n",
       "75%        90.000000\n",
       "max       122.000000"
      ]
     },
     "execution_count": 61,
     "metadata": {},
     "output_type": "execute_result"
    }
   ],
   "source": [
    "new_df.describe()"
   ]
  },
  {
   "cell_type": "code",
   "execution_count": 62,
   "metadata": {},
   "outputs": [
    {
     "data": {
      "text/plain": [
       "mssv\n",
       "7ACF155CXPvAibaEXe/m6K07u0dn96OeUHTRay32    14\n",
       "A04A5CCEXPvAibaEXe+9WAygB66RlF4HE3xKTe4q    14\n",
       "E0B02E8EXPvAibaEXe8FWWF7xHXRAAavJy7+pwwV    14\n",
       "517F0E78XPvAibaEXe/ETkXgDMKQ8UD1PP6Mi8BH    14\n",
       "29C09889XPvAibaEXe8dZIB3odxynhtkSv0G/qxR    14\n",
       "                                            ..\n",
       "92EC13F7XPvAibaEXe/rTDu3MA2WPTJ79lg0gkVX     1\n",
       "92EB4340XPvAibaEXe9rVBbTe7KJuniPPZ+6BVZu     1\n",
       "B386CB8BXPvAibaEXe+GOOKyXJMTZgA9Vwf9hyrg     1\n",
       "C91FE431XPvAibaEXe/pnXUIwMJHJmEhadHhr1OM     1\n",
       "28CF250BXPvAibaEXe/6PnY50QDPtoWBX03DJpGu     1\n",
       "Name: count, Length: 17982, dtype: int64"
      ]
     },
     "execution_count": 62,
     "metadata": {},
     "output_type": "execute_result"
    }
   ],
   "source": [
    "new_df.mssv.value_counts(dropna=False)"
   ]
  },
  {
   "cell_type": "code",
   "execution_count": 63,
   "metadata": {},
   "outputs": [
    {
     "data": {
      "text/plain": [
       "lop_sh\n",
       "NULL          10528\n",
       "CNPM04         1644\n",
       "MMT04          1608\n",
       "KTPM0001       1516\n",
       "HTTT0001       1448\n",
       "              ...  \n",
       "MTLK2015         12\n",
       "CNTN05            4\n",
       "AEP01             3\n",
       "CNCL2021.2        1\n",
       "AEPP01            1\n",
       "Name: count, Length: 237, dtype: int64"
      ]
     },
     "execution_count": 63,
     "metadata": {},
     "output_type": "execute_result"
    }
   ],
   "source": [
    "new_df.lop_sh.value_counts(dropna=False)"
   ]
  },
  {
   "cell_type": "code",
   "execution_count": 64,
   "metadata": {},
   "outputs": [
    {
     "data": {
      "text/plain": [
       "hoc_ky\n",
       "1    60946\n",
       "2    51032\n",
       "Name: count, dtype: int64"
      ]
     },
     "execution_count": 64,
     "metadata": {},
     "output_type": "execute_result"
    }
   ],
   "source": [
    "new_df.hoc_ky.value_counts(dropna=False)"
   ]
  },
  {
   "cell_type": "code",
   "execution_count": 65,
   "metadata": {},
   "outputs": [
    {
     "data": {
      "text/plain": [
       "nam_hoc\n",
       "2021    14354\n",
       "2020    13150\n",
       "2019    11687\n",
       "2018    10070\n",
       "2017     9133\n",
       "2022     7896\n",
       "2016     7869\n",
       "2015     7485\n",
       "2012     6504\n",
       "2014     6139\n",
       "2011     5590\n",
       "2013     5549\n",
       "2009     3319\n",
       "2010     3233\n",
       "Name: count, dtype: int64"
      ]
     },
     "execution_count": 65,
     "metadata": {},
     "output_type": "execute_result"
    }
   ],
   "source": [
    "new_df.nam_hoc.value_counts(dropna=False)"
   ]
  },
  {
   "cell_type": "code",
   "execution_count": 66,
   "metadata": {},
   "outputs": [
    {
     "data": {
      "text/plain": [
       "drl\n",
       "100    16568\n",
       "90      5506\n",
       "80      4620\n",
       "75      3982\n",
       "85      3500\n",
       "       ...  \n",
       "6         17\n",
       "3         17\n",
       "9         15\n",
       "11        13\n",
       "122        2\n",
       "Name: count, Length: 102, dtype: int64"
      ]
     },
     "execution_count": 66,
     "metadata": {},
     "output_type": "execute_result"
    }
   ],
   "source": [
    "new_df.drl.value_counts(dropna=False)"
   ]
  },
  {
   "cell_type": "code",
   "execution_count": 67,
   "metadata": {},
   "outputs": [
    {
     "data": {
      "text/plain": [
       "lop_sh_cu_the\n",
       "NULL          10528\n",
       "CNPM04         1644\n",
       "MMT04          1608\n",
       "KTPM0001       1516\n",
       "HTTT0001       1448\n",
       "              ...  \n",
       "MTLK2015         12\n",
       "CNTN05            4\n",
       "AEP01             3\n",
       "CNCL2021.2        1\n",
       "AEPP01            1\n",
       "Name: count, Length: 299, dtype: int64"
      ]
     },
     "execution_count": 67,
     "metadata": {},
     "output_type": "execute_result"
    }
   ],
   "source": [
    "new_df.lop_sh_cu_the.value_counts(dropna=False)"
   ]
  },
  {
   "attachments": {},
   "cell_type": "markdown",
   "metadata": {},
   "source": [
    "# save"
   ]
  },
  {
   "cell_type": "code",
   "execution_count": 68,
   "metadata": {},
   "outputs": [],
   "source": [
    "clean_data_folder = Path(\"../clean_data\")\n",
    "new_df.to_parquet(clean_data_folder/f\"{data_stem}.parquet\", index=False)\n",
    "haha_df = pd.read_parquet(clean_data_folder/f\"{data_stem}.parquet\")"
   ]
  },
  {
   "cell_type": "code",
   "execution_count": 69,
   "metadata": {},
   "outputs": [
    {
     "data": {
      "text/html": [
       "<div>\n",
       "<style scoped>\n",
       "    .dataframe tbody tr th:only-of-type {\n",
       "        vertical-align: middle;\n",
       "    }\n",
       "\n",
       "    .dataframe tbody tr th {\n",
       "        vertical-align: top;\n",
       "    }\n",
       "\n",
       "    .dataframe thead th {\n",
       "        text-align: right;\n",
       "    }\n",
       "</style>\n",
       "<table border=\"1\" class=\"dataframe\">\n",
       "  <thead>\n",
       "    <tr style=\"text-align: right;\">\n",
       "      <th></th>\n",
       "      <th>id</th>\n",
       "      <th>mssv</th>\n",
       "      <th>lopsh</th>\n",
       "      <th>hocky</th>\n",
       "      <th>namhoc</th>\n",
       "      <th>drl</th>\n",
       "      <th>ghichu</th>\n",
       "    </tr>\n",
       "  </thead>\n",
       "  <tbody>\n",
       "    <tr>\n",
       "      <th>0</th>\n",
       "      <td>1</td>\n",
       "      <td>2A10C466XPvAibaEXe8vcQUX+A6FeNIl5Loug1zV</td>\n",
       "      <td>ANTN2012</td>\n",
       "      <td>2</td>\n",
       "      <td>2013</td>\n",
       "      <td>81</td>\n",
       "      <td>NaN</td>\n",
       "    </tr>\n",
       "    <tr>\n",
       "      <th>1</th>\n",
       "      <td>2</td>\n",
       "      <td>903ADF1AXPvAibaEXe9p5G9u2qRxxZEjiJjD4Ztl</td>\n",
       "      <td>ANTN2012</td>\n",
       "      <td>2</td>\n",
       "      <td>2013</td>\n",
       "      <td>88</td>\n",
       "      <td>NaN</td>\n",
       "    </tr>\n",
       "    <tr>\n",
       "      <th>2</th>\n",
       "      <td>3</td>\n",
       "      <td>F06EDFFEXPvAibaEXe8KSegZW1rFPMNPBQ+c9rst</td>\n",
       "      <td>ANTN2012</td>\n",
       "      <td>2</td>\n",
       "      <td>2013</td>\n",
       "      <td>94</td>\n",
       "      <td>NaN</td>\n",
       "    </tr>\n",
       "    <tr>\n",
       "      <th>3</th>\n",
       "      <td>4</td>\n",
       "      <td>AA868AD5XPvAibaEXe+1Gm1QkI5oNyTYwjwmgxhx</td>\n",
       "      <td>ANTN2012</td>\n",
       "      <td>2</td>\n",
       "      <td>2013</td>\n",
       "      <td>86</td>\n",
       "      <td>NaN</td>\n",
       "    </tr>\n",
       "    <tr>\n",
       "      <th>4</th>\n",
       "      <td>5</td>\n",
       "      <td>E7105148XPvAibaEXe+E7LJdSZ9AW2sUcg4OSCnU</td>\n",
       "      <td>ANTN2012</td>\n",
       "      <td>2</td>\n",
       "      <td>2013</td>\n",
       "      <td>88</td>\n",
       "      <td>NaN</td>\n",
       "    </tr>\n",
       "    <tr>\n",
       "      <th>...</th>\n",
       "      <td>...</td>\n",
       "      <td>...</td>\n",
       "      <td>...</td>\n",
       "      <td>...</td>\n",
       "      <td>...</td>\n",
       "      <td>...</td>\n",
       "      <td>...</td>\n",
       "    </tr>\n",
       "    <tr>\n",
       "      <th>104077</th>\n",
       "      <td>171068</td>\n",
       "      <td>AA1C2CB0XPvAibaEXe+gzQv7yQRYbtqPu+C2Ean+</td>\n",
       "      <td>PMCL2018</td>\n",
       "      <td>2</td>\n",
       "      <td>2021</td>\n",
       "      <td>84</td>\n",
       "      <td>NaN</td>\n",
       "    </tr>\n",
       "    <tr>\n",
       "      <th>104078</th>\n",
       "      <td>171071</td>\n",
       "      <td>C5B47790XPvAibaEXe8XtTI6VHhlKI0qhA2KfoCe</td>\n",
       "      <td>PMCL2018</td>\n",
       "      <td>2</td>\n",
       "      <td>2021</td>\n",
       "      <td>85</td>\n",
       "      <td>NaN</td>\n",
       "    </tr>\n",
       "    <tr>\n",
       "      <th>104079</th>\n",
       "      <td>171074</td>\n",
       "      <td>4BD52092XPvAibaEXe/sKOWIYAkjtqMmin54+S4E</td>\n",
       "      <td>PMCL2018</td>\n",
       "      <td>2</td>\n",
       "      <td>2021</td>\n",
       "      <td>97</td>\n",
       "      <td>NaN</td>\n",
       "    </tr>\n",
       "    <tr>\n",
       "      <th>104080</th>\n",
       "      <td>171077</td>\n",
       "      <td>C50FB698XPvAibaEXe+9v37KcInSIff/FxEfaYpI</td>\n",
       "      <td>PMCL2018</td>\n",
       "      <td>2</td>\n",
       "      <td>2021</td>\n",
       "      <td>96</td>\n",
       "      <td>NaN</td>\n",
       "    </tr>\n",
       "    <tr>\n",
       "      <th>104081</th>\n",
       "      <td>171080</td>\n",
       "      <td>C652408CXPvAibaEXe/baiw3K4HkF5HM+yiC7grI</td>\n",
       "      <td>KTPM0001</td>\n",
       "      <td>2</td>\n",
       "      <td>2021</td>\n",
       "      <td>70</td>\n",
       "      <td>NaN</td>\n",
       "    </tr>\n",
       "  </tbody>\n",
       "</table>\n",
       "<p>97210 rows × 7 columns</p>\n",
       "</div>"
      ],
      "text/plain": [
       "            id                                      mssv     lopsh  hocky   \n",
       "0            1  2A10C466XPvAibaEXe8vcQUX+A6FeNIl5Loug1zV  ANTN2012      2  \\\n",
       "1            2  903ADF1AXPvAibaEXe9p5G9u2qRxxZEjiJjD4Ztl  ANTN2012      2   \n",
       "2            3  F06EDFFEXPvAibaEXe8KSegZW1rFPMNPBQ+c9rst  ANTN2012      2   \n",
       "3            4  AA868AD5XPvAibaEXe+1Gm1QkI5oNyTYwjwmgxhx  ANTN2012      2   \n",
       "4            5  E7105148XPvAibaEXe+E7LJdSZ9AW2sUcg4OSCnU  ANTN2012      2   \n",
       "...        ...                                       ...       ...    ...   \n",
       "104077  171068  AA1C2CB0XPvAibaEXe+gzQv7yQRYbtqPu+C2Ean+  PMCL2018      2   \n",
       "104078  171071  C5B47790XPvAibaEXe8XtTI6VHhlKI0qhA2KfoCe  PMCL2018      2   \n",
       "104079  171074  4BD52092XPvAibaEXe/sKOWIYAkjtqMmin54+S4E  PMCL2018      2   \n",
       "104080  171077  C50FB698XPvAibaEXe+9v37KcInSIff/FxEfaYpI  PMCL2018      2   \n",
       "104081  171080  C652408CXPvAibaEXe/baiw3K4HkF5HM+yiC7grI  KTPM0001      2   \n",
       "\n",
       "        namhoc  drl ghichu  \n",
       "0         2013   81    NaN  \n",
       "1         2013   88    NaN  \n",
       "2         2013   94    NaN  \n",
       "3         2013   86    NaN  \n",
       "4         2013   88    NaN  \n",
       "...        ...  ...    ...  \n",
       "104077    2021   84    NaN  \n",
       "104078    2021   85    NaN  \n",
       "104079    2021   97    NaN  \n",
       "104080    2021   96    NaN  \n",
       "104081    2021   70    NaN  \n",
       "\n",
       "[97210 rows x 7 columns]"
      ]
     },
     "execution_count": 69,
     "metadata": {},
     "output_type": "execute_result"
    }
   ],
   "source": [
    "old_df[old_df.isnull().any(axis=1)]"
   ]
  },
  {
   "cell_type": "code",
   "execution_count": 70,
   "metadata": {},
   "outputs": [
    {
     "data": {
      "text/html": [
       "<div>\n",
       "<style scoped>\n",
       "    .dataframe tbody tr th:only-of-type {\n",
       "        vertical-align: middle;\n",
       "    }\n",
       "\n",
       "    .dataframe tbody tr th {\n",
       "        vertical-align: top;\n",
       "    }\n",
       "\n",
       "    .dataframe thead th {\n",
       "        text-align: right;\n",
       "    }\n",
       "</style>\n",
       "<table border=\"1\" class=\"dataframe\">\n",
       "  <thead>\n",
       "    <tr style=\"text-align: right;\">\n",
       "      <th></th>\n",
       "      <th>mssv</th>\n",
       "      <th>lop_sh</th>\n",
       "      <th>hoc_ky</th>\n",
       "      <th>nam_hoc</th>\n",
       "      <th>drl</th>\n",
       "      <th>lop_sh_cu_the</th>\n",
       "    </tr>\n",
       "  </thead>\n",
       "  <tbody>\n",
       "  </tbody>\n",
       "</table>\n",
       "</div>"
      ],
      "text/plain": [
       "Empty DataFrame\n",
       "Columns: [mssv, lop_sh, hoc_ky, nam_hoc, drl, lop_sh_cu_the]\n",
       "Index: []"
      ]
     },
     "execution_count": 70,
     "metadata": {},
     "output_type": "execute_result"
    }
   ],
   "source": [
    "haha_df[haha_df.isnull().any(axis=1)]"
   ]
  },
  {
   "cell_type": "code",
   "execution_count": 71,
   "metadata": {},
   "outputs": [
    {
     "data": {
      "text/plain": [
       "0"
      ]
     },
     "execution_count": 71,
     "metadata": {},
     "output_type": "execute_result"
    }
   ],
   "source": [
    "old_df[old_primary_key].duplicated().sum()"
   ]
  },
  {
   "cell_type": "code",
   "execution_count": 72,
   "metadata": {},
   "outputs": [
    {
     "data": {
      "text/plain": [
       "0"
      ]
     },
     "execution_count": 72,
     "metadata": {},
     "output_type": "execute_result"
    }
   ],
   "source": [
    "haha_df[new_primary_key].duplicated().sum()"
   ]
  },
  {
   "cell_type": "code",
   "execution_count": 73,
   "metadata": {},
   "outputs": [
    {
     "name": "stdout",
     "output_type": "stream",
     "text": [
      "<class 'pandas.core.frame.DataFrame'>\n",
      "RangeIndex: 111978 entries, 0 to 111977\n",
      "Data columns (total 7 columns):\n",
      " #   Column  Non-Null Count   Dtype \n",
      "---  ------  --------------   ----- \n",
      " 0   id      111978 non-null  int64 \n",
      " 1   mssv    111978 non-null  object\n",
      " 2   lopsh   101450 non-null  object\n",
      " 3   hocky   111978 non-null  int64 \n",
      " 4   namhoc  111978 non-null  int64 \n",
      " 5   drl     111978 non-null  int64 \n",
      " 6   ghichu  14768 non-null   object\n",
      "dtypes: int64(4), object(3)\n",
      "memory usage: 6.0+ MB\n"
     ]
    }
   ],
   "source": [
    "old_df.info()"
   ]
  },
  {
   "cell_type": "code",
   "execution_count": 74,
   "metadata": {},
   "outputs": [
    {
     "name": "stdout",
     "output_type": "stream",
     "text": [
      "<class 'pandas.core.frame.DataFrame'>\n",
      "RangeIndex: 111978 entries, 0 to 111977\n",
      "Data columns (total 6 columns):\n",
      " #   Column         Non-Null Count   Dtype   \n",
      "---  ------         --------------   -----   \n",
      " 0   mssv           111978 non-null  category\n",
      " 1   lop_sh         111978 non-null  category\n",
      " 2   hoc_ky         111978 non-null  category\n",
      " 3   nam_hoc        111978 non-null  category\n",
      " 4   drl            111978 non-null  int16   \n",
      " 5   lop_sh_cu_the  111978 non-null  category\n",
      "dtypes: category(5), int16(1)\n",
      "memory usage: 1.7 MB\n"
     ]
    }
   ],
   "source": [
    "haha_df.info()"
   ]
  },
  {
   "cell_type": "code",
   "execution_count": 75,
   "metadata": {},
   "outputs": [
    {
     "data": {
      "text/html": [
       "<div>\n",
       "<style scoped>\n",
       "    .dataframe tbody tr th:only-of-type {\n",
       "        vertical-align: middle;\n",
       "    }\n",
       "\n",
       "    .dataframe tbody tr th {\n",
       "        vertical-align: top;\n",
       "    }\n",
       "\n",
       "    .dataframe thead th {\n",
       "        text-align: right;\n",
       "    }\n",
       "</style>\n",
       "<table border=\"1\" class=\"dataframe\">\n",
       "  <thead>\n",
       "    <tr style=\"text-align: right;\">\n",
       "      <th></th>\n",
       "      <th>id</th>\n",
       "      <th>hocky</th>\n",
       "      <th>namhoc</th>\n",
       "      <th>drl</th>\n",
       "    </tr>\n",
       "  </thead>\n",
       "  <tbody>\n",
       "    <tr>\n",
       "      <th>count</th>\n",
       "      <td>111978.000000</td>\n",
       "      <td>111978.000000</td>\n",
       "      <td>111978.000000</td>\n",
       "      <td>111978.000000</td>\n",
       "    </tr>\n",
       "    <tr>\n",
       "      <th>mean</th>\n",
       "      <td>99981.614237</td>\n",
       "      <td>1.455732</td>\n",
       "      <td>2016.920475</td>\n",
       "      <td>76.642823</td>\n",
       "    </tr>\n",
       "    <tr>\n",
       "      <th>std</th>\n",
       "      <td>45135.101576</td>\n",
       "      <td>0.498039</td>\n",
       "      <td>3.681945</td>\n",
       "      <td>19.433861</td>\n",
       "    </tr>\n",
       "    <tr>\n",
       "      <th>min</th>\n",
       "      <td>1.000000</td>\n",
       "      <td>1.000000</td>\n",
       "      <td>2009.000000</td>\n",
       "      <td>-45.000000</td>\n",
       "    </tr>\n",
       "    <tr>\n",
       "      <th>25%</th>\n",
       "      <td>65004.250000</td>\n",
       "      <td>1.000000</td>\n",
       "      <td>2014.000000</td>\n",
       "      <td>66.000000</td>\n",
       "    </tr>\n",
       "    <tr>\n",
       "      <th>50%</th>\n",
       "      <td>102029.500000</td>\n",
       "      <td>1.000000</td>\n",
       "      <td>2018.000000</td>\n",
       "      <td>79.000000</td>\n",
       "    </tr>\n",
       "    <tr>\n",
       "      <th>75%</th>\n",
       "      <td>136927.750000</td>\n",
       "      <td>2.000000</td>\n",
       "      <td>2020.000000</td>\n",
       "      <td>90.000000</td>\n",
       "    </tr>\n",
       "    <tr>\n",
       "      <th>max</th>\n",
       "      <td>178976.000000</td>\n",
       "      <td>2.000000</td>\n",
       "      <td>2022.000000</td>\n",
       "      <td>122.000000</td>\n",
       "    </tr>\n",
       "  </tbody>\n",
       "</table>\n",
       "</div>"
      ],
      "text/plain": [
       "                  id          hocky         namhoc            drl\n",
       "count  111978.000000  111978.000000  111978.000000  111978.000000\n",
       "mean    99981.614237       1.455732    2016.920475      76.642823\n",
       "std     45135.101576       0.498039       3.681945      19.433861\n",
       "min         1.000000       1.000000    2009.000000     -45.000000\n",
       "25%     65004.250000       1.000000    2014.000000      66.000000\n",
       "50%    102029.500000       1.000000    2018.000000      79.000000\n",
       "75%    136927.750000       2.000000    2020.000000      90.000000\n",
       "max    178976.000000       2.000000    2022.000000     122.000000"
      ]
     },
     "execution_count": 75,
     "metadata": {},
     "output_type": "execute_result"
    }
   ],
   "source": [
    "old_df.describe()"
   ]
  },
  {
   "cell_type": "code",
   "execution_count": 76,
   "metadata": {},
   "outputs": [
    {
     "data": {
      "text/html": [
       "<div>\n",
       "<style scoped>\n",
       "    .dataframe tbody tr th:only-of-type {\n",
       "        vertical-align: middle;\n",
       "    }\n",
       "\n",
       "    .dataframe tbody tr th {\n",
       "        vertical-align: top;\n",
       "    }\n",
       "\n",
       "    .dataframe thead th {\n",
       "        text-align: right;\n",
       "    }\n",
       "</style>\n",
       "<table border=\"1\" class=\"dataframe\">\n",
       "  <thead>\n",
       "    <tr style=\"text-align: right;\">\n",
       "      <th></th>\n",
       "      <th>drl</th>\n",
       "    </tr>\n",
       "  </thead>\n",
       "  <tbody>\n",
       "    <tr>\n",
       "      <th>count</th>\n",
       "      <td>111978.000000</td>\n",
       "    </tr>\n",
       "    <tr>\n",
       "      <th>mean</th>\n",
       "      <td>76.691743</td>\n",
       "    </tr>\n",
       "    <tr>\n",
       "      <th>std</th>\n",
       "      <td>19.239898</td>\n",
       "    </tr>\n",
       "    <tr>\n",
       "      <th>min</th>\n",
       "      <td>0.000000</td>\n",
       "    </tr>\n",
       "    <tr>\n",
       "      <th>25%</th>\n",
       "      <td>66.000000</td>\n",
       "    </tr>\n",
       "    <tr>\n",
       "      <th>50%</th>\n",
       "      <td>79.000000</td>\n",
       "    </tr>\n",
       "    <tr>\n",
       "      <th>75%</th>\n",
       "      <td>90.000000</td>\n",
       "    </tr>\n",
       "    <tr>\n",
       "      <th>max</th>\n",
       "      <td>122.000000</td>\n",
       "    </tr>\n",
       "  </tbody>\n",
       "</table>\n",
       "</div>"
      ],
      "text/plain": [
       "                 drl\n",
       "count  111978.000000\n",
       "mean       76.691743\n",
       "std        19.239898\n",
       "min         0.000000\n",
       "25%        66.000000\n",
       "50%        79.000000\n",
       "75%        90.000000\n",
       "max       122.000000"
      ]
     },
     "execution_count": 76,
     "metadata": {},
     "output_type": "execute_result"
    }
   ],
   "source": [
    "haha_df.describe()"
   ]
  },
  {
   "cell_type": "code",
   "execution_count": 77,
   "metadata": {},
   "outputs": [
    {
     "data": {
      "text/html": [
       "<div>\n",
       "<style scoped>\n",
       "    .dataframe tbody tr th:only-of-type {\n",
       "        vertical-align: middle;\n",
       "    }\n",
       "\n",
       "    .dataframe tbody tr th {\n",
       "        vertical-align: top;\n",
       "    }\n",
       "\n",
       "    .dataframe thead th {\n",
       "        text-align: right;\n",
       "    }\n",
       "</style>\n",
       "<table border=\"1\" class=\"dataframe\">\n",
       "  <thead>\n",
       "    <tr style=\"text-align: right;\">\n",
       "      <th></th>\n",
       "      <th>id</th>\n",
       "      <th>mssv</th>\n",
       "      <th>lopsh</th>\n",
       "      <th>hocky</th>\n",
       "      <th>namhoc</th>\n",
       "      <th>drl</th>\n",
       "      <th>ghichu</th>\n",
       "    </tr>\n",
       "  </thead>\n",
       "  <tbody>\n",
       "    <tr>\n",
       "      <th>26265</th>\n",
       "      <td>63275</td>\n",
       "      <td>7E048679XPvAibaEXe/Eu1NFTIhfjOAHeYP3maj2</td>\n",
       "      <td>NaN</td>\n",
       "      <td>2</td>\n",
       "      <td>2012</td>\n",
       "      <td>77</td>\n",
       "      <td>NaN</td>\n",
       "    </tr>\n",
       "    <tr>\n",
       "      <th>33588</th>\n",
       "      <td>74769</td>\n",
       "      <td>6804DC20XPvAibaEXe9dKITjhF3qTSqJgqvgUdJ2</td>\n",
       "      <td>CNTT2015</td>\n",
       "      <td>2</td>\n",
       "      <td>2016</td>\n",
       "      <td>83</td>\n",
       "      <td>NaN</td>\n",
       "    </tr>\n",
       "    <tr>\n",
       "      <th>67872</th>\n",
       "      <td>113913</td>\n",
       "      <td>7CD02A9FXPvAibaEXe+g4B5cywZjwcj8TsG91YaQ</td>\n",
       "      <td>CNTT2019</td>\n",
       "      <td>1</td>\n",
       "      <td>2019</td>\n",
       "      <td>87</td>\n",
       "      <td>NaN</td>\n",
       "    </tr>\n",
       "    <tr>\n",
       "      <th>73822</th>\n",
       "      <td>119863</td>\n",
       "      <td>CFF9BC4DXPvAibaEXe85qP6RA1Xpqn7fDxRekifE</td>\n",
       "      <td>ATTN2018</td>\n",
       "      <td>2</td>\n",
       "      <td>2019</td>\n",
       "      <td>83</td>\n",
       "      <td>NaN</td>\n",
       "    </tr>\n",
       "    <tr>\n",
       "      <th>69404</th>\n",
       "      <td>115445</td>\n",
       "      <td>1ED6A4F0XPvAibaEXe99J3nD1pBZIhGQiopf02P5</td>\n",
       "      <td>MTCL2015</td>\n",
       "      <td>1</td>\n",
       "      <td>2019</td>\n",
       "      <td>74</td>\n",
       "      <td>NaN</td>\n",
       "    </tr>\n",
       "  </tbody>\n",
       "</table>\n",
       "</div>"
      ],
      "text/plain": [
       "           id                                      mssv     lopsh  hocky   \n",
       "26265   63275  7E048679XPvAibaEXe/Eu1NFTIhfjOAHeYP3maj2       NaN      2  \\\n",
       "33588   74769  6804DC20XPvAibaEXe9dKITjhF3qTSqJgqvgUdJ2  CNTT2015      2   \n",
       "67872  113913  7CD02A9FXPvAibaEXe+g4B5cywZjwcj8TsG91YaQ  CNTT2019      1   \n",
       "73822  119863  CFF9BC4DXPvAibaEXe85qP6RA1Xpqn7fDxRekifE  ATTN2018      2   \n",
       "69404  115445  1ED6A4F0XPvAibaEXe99J3nD1pBZIhGQiopf02P5  MTCL2015      1   \n",
       "\n",
       "       namhoc  drl ghichu  \n",
       "26265    2012   77    NaN  \n",
       "33588    2016   83    NaN  \n",
       "67872    2019   87    NaN  \n",
       "73822    2019   83    NaN  \n",
       "69404    2019   74    NaN  "
      ]
     },
     "execution_count": 77,
     "metadata": {},
     "output_type": "execute_result"
    }
   ],
   "source": [
    "old_df.sample(5)"
   ]
  },
  {
   "cell_type": "code",
   "execution_count": 78,
   "metadata": {},
   "outputs": [
    {
     "data": {
      "text/html": [
       "<div>\n",
       "<style scoped>\n",
       "    .dataframe tbody tr th:only-of-type {\n",
       "        vertical-align: middle;\n",
       "    }\n",
       "\n",
       "    .dataframe tbody tr th {\n",
       "        vertical-align: top;\n",
       "    }\n",
       "\n",
       "    .dataframe thead th {\n",
       "        text-align: right;\n",
       "    }\n",
       "</style>\n",
       "<table border=\"1\" class=\"dataframe\">\n",
       "  <thead>\n",
       "    <tr style=\"text-align: right;\">\n",
       "      <th></th>\n",
       "      <th>mssv</th>\n",
       "      <th>lop_sh</th>\n",
       "      <th>hoc_ky</th>\n",
       "      <th>nam_hoc</th>\n",
       "      <th>drl</th>\n",
       "      <th>lop_sh_cu_the</th>\n",
       "    </tr>\n",
       "  </thead>\n",
       "  <tbody>\n",
       "    <tr>\n",
       "      <th>28964</th>\n",
       "      <td>EEE8133AXPvAibaEXe/fr6IbK8XJMpydcQI3h+jS</td>\n",
       "      <td>NULL</td>\n",
       "      <td>2</td>\n",
       "      <td>2011</td>\n",
       "      <td>72</td>\n",
       "      <td>NULL</td>\n",
       "    </tr>\n",
       "    <tr>\n",
       "      <th>40133</th>\n",
       "      <td>279A7389XPvAibaEXe/WaZKSSjfnhiAxIlEt0pqi</td>\n",
       "      <td>KTMT04</td>\n",
       "      <td>2</td>\n",
       "      <td>2009</td>\n",
       "      <td>0</td>\n",
       "      <td>KTMT04</td>\n",
       "    </tr>\n",
       "    <tr>\n",
       "      <th>107945</th>\n",
       "      <td>66E0FD89XPvAibaEXe+UUQWJxakK0qTxD5JlVtOO</td>\n",
       "      <td>HTCL2020</td>\n",
       "      <td>1</td>\n",
       "      <td>2022</td>\n",
       "      <td>84</td>\n",
       "      <td>HTCL2020</td>\n",
       "    </tr>\n",
       "    <tr>\n",
       "      <th>72554</th>\n",
       "      <td>0356BA29XPvAibaEXe/i44g6992J04DlKo1DQNSP</td>\n",
       "      <td>HTTT2019</td>\n",
       "      <td>2</td>\n",
       "      <td>2019</td>\n",
       "      <td>90</td>\n",
       "      <td>HTTT2019</td>\n",
       "    </tr>\n",
       "    <tr>\n",
       "      <th>62734</th>\n",
       "      <td>9E07C94FXPvAibaEXe8zjuWfAVBr9dkwL6dLCwH6</td>\n",
       "      <td>PMCL2016</td>\n",
       "      <td>2</td>\n",
       "      <td>2018</td>\n",
       "      <td>75</td>\n",
       "      <td>PMCL2016</td>\n",
       "    </tr>\n",
       "    <tr>\n",
       "      <th>17455</th>\n",
       "      <td>45D3737EXPvAibaEXe+CejwL/H7GKPIwo9ansi/m</td>\n",
       "      <td>KTMT2012</td>\n",
       "      <td>2</td>\n",
       "      <td>2015</td>\n",
       "      <td>90</td>\n",
       "      <td>KTMT2012</td>\n",
       "    </tr>\n",
       "    <tr>\n",
       "      <th>102913</th>\n",
       "      <td>70AC0FBBXPvAibaEXe+6333OdPqlxlVGp5zlM4vZ</td>\n",
       "      <td>KTPM2020</td>\n",
       "      <td>2</td>\n",
       "      <td>2021</td>\n",
       "      <td>100</td>\n",
       "      <td>KTPM2020</td>\n",
       "    </tr>\n",
       "    <tr>\n",
       "      <th>60713</th>\n",
       "      <td>D6CBA8B9XPvAibaEXe9w3p4OJXtSaL9uuW+eShrr</td>\n",
       "      <td>CNTT2018</td>\n",
       "      <td>2</td>\n",
       "      <td>2018</td>\n",
       "      <td>90</td>\n",
       "      <td>CNTT2018</td>\n",
       "    </tr>\n",
       "    <tr>\n",
       "      <th>61868</th>\n",
       "      <td>6ABC72F1XPvAibaEXe9+m/oQf3Tjz2YG54BF7DRh</td>\n",
       "      <td>PMCL2017</td>\n",
       "      <td>2</td>\n",
       "      <td>2018</td>\n",
       "      <td>80</td>\n",
       "      <td>PMCL2017</td>\n",
       "    </tr>\n",
       "    <tr>\n",
       "      <th>101269</th>\n",
       "      <td>1DE3BB6EXPvAibaEXe/W1ZBpbjj8QdCymwa+3ZVI</td>\n",
       "      <td>MTCL2019</td>\n",
       "      <td>2</td>\n",
       "      <td>2021</td>\n",
       "      <td>94</td>\n",
       "      <td>MTCL2019</td>\n",
       "    </tr>\n",
       "  </tbody>\n",
       "</table>\n",
       "</div>"
      ],
      "text/plain": [
       "                                            mssv    lop_sh hoc_ky nam_hoc   \n",
       "28964   EEE8133AXPvAibaEXe/fr6IbK8XJMpydcQI3h+jS      NULL      2    2011  \\\n",
       "40133   279A7389XPvAibaEXe/WaZKSSjfnhiAxIlEt0pqi    KTMT04      2    2009   \n",
       "107945  66E0FD89XPvAibaEXe+UUQWJxakK0qTxD5JlVtOO  HTCL2020      1    2022   \n",
       "72554   0356BA29XPvAibaEXe/i44g6992J04DlKo1DQNSP  HTTT2019      2    2019   \n",
       "62734   9E07C94FXPvAibaEXe8zjuWfAVBr9dkwL6dLCwH6  PMCL2016      2    2018   \n",
       "17455   45D3737EXPvAibaEXe+CejwL/H7GKPIwo9ansi/m  KTMT2012      2    2015   \n",
       "102913  70AC0FBBXPvAibaEXe+6333OdPqlxlVGp5zlM4vZ  KTPM2020      2    2021   \n",
       "60713   D6CBA8B9XPvAibaEXe9w3p4OJXtSaL9uuW+eShrr  CNTT2018      2    2018   \n",
       "61868   6ABC72F1XPvAibaEXe9+m/oQf3Tjz2YG54BF7DRh  PMCL2017      2    2018   \n",
       "101269  1DE3BB6EXPvAibaEXe/W1ZBpbjj8QdCymwa+3ZVI  MTCL2019      2    2021   \n",
       "\n",
       "        drl lop_sh_cu_the  \n",
       "28964    72          NULL  \n",
       "40133     0        KTMT04  \n",
       "107945   84      HTCL2020  \n",
       "72554    90      HTTT2019  \n",
       "62734    75      PMCL2016  \n",
       "17455    90      KTMT2012  \n",
       "102913  100      KTPM2020  \n",
       "60713    90      CNTT2018  \n",
       "61868    80      PMCL2017  \n",
       "101269   94      MTCL2019  "
      ]
     },
     "execution_count": 78,
     "metadata": {},
     "output_type": "execute_result"
    }
   ],
   "source": [
    "haha_df.sample(10)"
   ]
  },
  {
   "cell_type": "code",
   "execution_count": 79,
   "metadata": {},
   "outputs": [
    {
     "data": {
      "text/plain": [
       "['12.baoluu.parquet',\n",
       " '14.totnghiep.parquet',\n",
       " 'desktop.ini',\n",
       " 'diemrl.parquet',\n",
       " 'diem_Thu.parquet',\n",
       " 'uit_hocphi_miengiam.parquet']"
      ]
     },
     "execution_count": 79,
     "metadata": {},
     "output_type": "execute_result"
    }
   ],
   "source": [
    "os.listdir(clean_data_folder)"
   ]
  }
 ],
 "metadata": {
  "kernelspec": {
   "display_name": "general_cpython",
   "language": "python",
   "name": "python3"
  },
  "language_info": {
   "codemirror_mode": {
    "name": "ipython",
    "version": 3
   },
   "file_extension": ".py",
   "mimetype": "text/x-python",
   "name": "python",
   "nbconvert_exporter": "python",
   "pygments_lexer": "ipython3",
   "version": "3.9.16"
  },
  "orig_nbformat": 4
 },
 "nbformat": 4,
 "nbformat_minor": 2
}
