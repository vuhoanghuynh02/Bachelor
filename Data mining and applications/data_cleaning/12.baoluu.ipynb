{
 "cells": [
  {
   "cell_type": "code",
   "execution_count": 56,
   "metadata": {},
   "outputs": [],
   "source": [
    "from pathlib import Path\n",
    "import os\n",
    "import pandas as pd\n",
    "import matplotlib.pyplot as plt\n",
    "import seaborn as sns"
   ]
  },
  {
   "cell_type": "code",
   "execution_count": 57,
   "metadata": {},
   "outputs": [
    {
     "data": {
      "text/plain": [
       "['sinhvien_dtb_hocky.xlsx',\n",
       " 'diem_Thu.xlsx',\n",
       " 'Education_dataset_V2.rar',\n",
       " 'sinhvien_dtb_toankhoa.xlsx',\n",
       " 'uit_hocphi_miengiam.xlsx',\n",
       " '12.baoluu.xlsx',\n",
       " '14.totnghiep.xlsx',\n",
       " 'diemrl.xlsx',\n",
       " '08.XLHV.xlsx',\n",
       " '05.ThiSinh.xlsx',\n",
       " '00.ghichu.txt',\n",
       " '03.sinhvien_chungchi.xlsx',\n",
       " '00_dhcntt-dtdh_19-01-2016_scan.pdf',\n",
       " '04.xeploaiav.xlsx',\n",
       " '10.diemrl.xlsx',\n",
       " '06.giayxacnhan.xlsx',\n",
       " '02.diem.xlsx',\n",
       " '01.sinhvien.xlsx',\n",
       " 'desktop.ini']"
      ]
     },
     "execution_count": 57,
     "metadata": {},
     "output_type": "execute_result"
    }
   ],
   "source": [
    "data_folder = Path(\"../../Education_dataset_V2\")\n",
    "os.listdir(data_folder)"
   ]
  },
  {
   "cell_type": "code",
   "execution_count": 58,
   "metadata": {},
   "outputs": [],
   "source": [
    "data_stem = '12.baoluu'\n",
    "old_df = pd.read_excel(data_folder/f\"{data_stem}.xlsx\")\n",
    "new_df = old_df.copy(deep = True)"
   ]
  },
  {
   "cell_type": "code",
   "execution_count": 59,
   "metadata": {},
   "outputs": [
    {
     "data": {
      "text/html": [
       "<div>\n",
       "<style scoped>\n",
       "    .dataframe tbody tr th:only-of-type {\n",
       "        vertical-align: middle;\n",
       "    }\n",
       "\n",
       "    .dataframe tbody tr th {\n",
       "        vertical-align: top;\n",
       "    }\n",
       "\n",
       "    .dataframe thead th {\n",
       "        text-align: right;\n",
       "    }\n",
       "</style>\n",
       "<table border=\"1\" class=\"dataframe\">\n",
       "  <thead>\n",
       "    <tr style=\"text-align: right;\">\n",
       "      <th></th>\n",
       "      <th>id</th>\n",
       "      <th>masv</th>\n",
       "      <th>tinhtrang</th>\n",
       "      <th>lydo</th>\n",
       "      <th>hocky</th>\n",
       "      <th>namhoc</th>\n",
       "      <th>soqd</th>\n",
       "      <th>ngayqd</th>\n",
       "    </tr>\n",
       "  </thead>\n",
       "  <tbody>\n",
       "    <tr>\n",
       "      <th>762</th>\n",
       "      <td>13965.0</td>\n",
       "      <td>E92C604FXPvAibaEXe+TFgEDwYNnvUQ2ahxW4uwh</td>\n",
       "      <td>3.0</td>\n",
       "      <td></td>\n",
       "      <td>3.0</td>\n",
       "      <td>2018.0</td>\n",
       "      <td>443/QĐ-ĐHCNTT</td>\n",
       "      <td>2019-08-01</td>\n",
       "    </tr>\n",
       "    <tr>\n",
       "      <th>1491</th>\n",
       "      <td>18714.0</td>\n",
       "      <td>5A1EB3B7XPvAibaEXe9WcTnuikKYKuntAYeb6Idm</td>\n",
       "      <td>3.0</td>\n",
       "      <td></td>\n",
       "      <td>1.0</td>\n",
       "      <td>2020.0</td>\n",
       "      <td>878/QĐ-ĐHCNTT</td>\n",
       "      <td>2020-12-07</td>\n",
       "    </tr>\n",
       "    <tr>\n",
       "      <th>716</th>\n",
       "      <td>13912.0</td>\n",
       "      <td>981C7989XPvAibaEXe9P07hcrvmhCcxHupzWlaJ2</td>\n",
       "      <td>3.0</td>\n",
       "      <td></td>\n",
       "      <td>3.0</td>\n",
       "      <td>2018.0</td>\n",
       "      <td>443/QĐ-ĐHCNTT</td>\n",
       "      <td>2019-08-01</td>\n",
       "    </tr>\n",
       "  </tbody>\n",
       "</table>\n",
       "</div>"
      ],
      "text/plain": [
       "           id                                      masv   tinhtrang  lydo   \n",
       "762   13965.0  E92C604FXPvAibaEXe+TFgEDwYNnvUQ2ahxW4uwh         3.0        \\\n",
       "1491  18714.0  5A1EB3B7XPvAibaEXe9WcTnuikKYKuntAYeb6Idm         3.0         \n",
       "716   13912.0  981C7989XPvAibaEXe9P07hcrvmhCcxHupzWlaJ2         3.0         \n",
       "\n",
       "       hocky   namhoc            soqd     ngayqd  \n",
       "762      3.0   2018.0   443/QĐ-ĐHCNTT 2019-08-01  \n",
       "1491     1.0   2020.0   878/QĐ-ĐHCNTT 2020-12-07  \n",
       "716      3.0   2018.0   443/QĐ-ĐHCNTT 2019-08-01  "
      ]
     },
     "execution_count": 59,
     "metadata": {},
     "output_type": "execute_result"
    }
   ],
   "source": [
    "new_df.sample(3)"
   ]
  },
  {
   "cell_type": "code",
   "execution_count": 60,
   "metadata": {},
   "outputs": [
    {
     "name": "stdout",
     "output_type": "stream",
     "text": [
      "<class 'pandas.core.frame.DataFrame'>\n",
      "RangeIndex: 1880 entries, 0 to 1879\n",
      "Data columns (total 8 columns):\n",
      " #   Column      Non-Null Count  Dtype         \n",
      "---  ------      --------------  -----         \n",
      " 0   id          1878 non-null   float64       \n",
      " 1    masv       1878 non-null   object        \n",
      " 2    tinhtrang  1878 non-null   float64       \n",
      " 3    lydo       1878 non-null   object        \n",
      " 4    hocky      1878 non-null   float64       \n",
      " 5    namhoc     1878 non-null   float64       \n",
      " 6    soqd       1878 non-null   object        \n",
      " 7    ngayqd     1878 non-null   datetime64[ns]\n",
      "dtypes: datetime64[ns](1), float64(4), object(3)\n",
      "memory usage: 117.6+ KB\n"
     ]
    }
   ],
   "source": [
    "new_df.info()"
   ]
  },
  {
   "cell_type": "code",
   "execution_count": 61,
   "metadata": {},
   "outputs": [],
   "source": [
    "primary_key = ['mssv', 'hoc_ky', 'nam_hoc', 'ngay_quyet_dinh']"
   ]
  },
  {
   "cell_type": "code",
   "execution_count": 62,
   "metadata": {},
   "outputs": [
    {
     "data": {
      "text/plain": [
       "id\n",
       "NaN        2\n",
       "7532.0     1\n",
       "17722.0    1\n",
       "17736.0    1\n",
       "17735.0    1\n",
       "          ..\n",
       "13743.0    1\n",
       "13742.0    1\n",
       "13741.0    1\n",
       "13740.0    1\n",
       "21468.0    1\n",
       "Name: count, Length: 1879, dtype: int64"
      ]
     },
     "execution_count": 62,
     "metadata": {},
     "output_type": "execute_result"
    }
   ],
   "source": [
    "new_df.id.value_counts(dropna=False)"
   ]
  },
  {
   "cell_type": "code",
   "execution_count": 63,
   "metadata": {},
   "outputs": [
    {
     "data": {
      "text/plain": [
       "count     1878.000000\n",
       "mean     15277.806177\n",
       "std       4063.225831\n",
       "min       7532.000000\n",
       "25%      13571.250000\n",
       "50%      14312.500000\n",
       "75%      18439.750000\n",
       "max      21468.000000\n",
       "Name: id, dtype: float64"
      ]
     },
     "execution_count": 63,
     "metadata": {},
     "output_type": "execute_result"
    }
   ],
   "source": [
    "new_df.id.describe()"
   ]
  },
  {
   "cell_type": "code",
   "execution_count": 64,
   "metadata": {},
   "outputs": [],
   "source": [
    "new_df.drop('id', axis=1, inplace=True)"
   ]
  },
  {
   "cell_type": "code",
   "execution_count": 65,
   "metadata": {},
   "outputs": [
    {
     "data": {
      "text/plain": [
       "Index([' masv', ' tinhtrang', ' lydo', ' hocky', ' namhoc', ' soqd',\n",
       "       ' ngayqd'],\n",
       "      dtype='object')"
      ]
     },
     "execution_count": 65,
     "metadata": {},
     "output_type": "execute_result"
    }
   ],
   "source": [
    "new_df.columns"
   ]
  },
  {
   "cell_type": "code",
   "execution_count": 66,
   "metadata": {},
   "outputs": [],
   "source": [
    "new_df.columns = ['mssv', 'tinh_trang', 'ly_do',\n",
    "                  'hoc_ky', 'nam_hoc', 'so_quyet_dinh', 'ngay_quyet_dinh']"
   ]
  },
  {
   "cell_type": "code",
   "execution_count": 67,
   "metadata": {},
   "outputs": [
    {
     "data": {
      "text/plain": [
       "mssv\n",
       "6CDA0ED7XPvAibaEXe+BHZkA9XgGXSS4BHzShGje    3\n",
       "EDD0F071XPvAibaEXe+BHZkA9XgGXcEipjLDOZCD    3\n",
       "FFE9E452XPvAibaEXe+6MN9FoW2mqXtx1lMTF9+D    3\n",
       "ACC4D198XPvAibaEXe+5oCRQPDKXspsKZR6r2Sfg    3\n",
       "29430069XPvAibaEXe+TFgEDwYNnvUaz/ItEjR3K    2\n",
       "                                           ..\n",
       "5809EDABXPvAibaEXe/iDuY0411CJlTRP5+oneq9    1\n",
       "57E13A61XPvAibaEXe8+PBTAPRlCY4Fxg0JLezSn    1\n",
       "57C7C955XPvAibaEXe+9GFX9aWroRJfzpb5XMZKA    1\n",
       "57A9F0AEXPvAibaEXe8T1DiYsmlfsSBkagc8gdBG    1\n",
       "815BC6BAXPvAibaEXe+PVAbtvmWztjKUVtlCbbjs    1\n",
       "Name: count, Length: 1845, dtype: int64"
      ]
     },
     "execution_count": 67,
     "metadata": {},
     "output_type": "execute_result"
    }
   ],
   "source": [
    "new_df.mssv = new_df.mssv.astype('category')\n",
    "new_df.mssv.value_counts(dropna=False)"
   ]
  },
  {
   "cell_type": "code",
   "execution_count": 68,
   "metadata": {},
   "outputs": [
    {
     "data": {
      "text/html": [
       "<div>\n",
       "<style scoped>\n",
       "    .dataframe tbody tr th:only-of-type {\n",
       "        vertical-align: middle;\n",
       "    }\n",
       "\n",
       "    .dataframe tbody tr th {\n",
       "        vertical-align: top;\n",
       "    }\n",
       "\n",
       "    .dataframe thead th {\n",
       "        text-align: right;\n",
       "    }\n",
       "</style>\n",
       "<table border=\"1\" class=\"dataframe\">\n",
       "  <thead>\n",
       "    <tr style=\"text-align: right;\">\n",
       "      <th></th>\n",
       "      <th>mssv</th>\n",
       "      <th>tinh_trang</th>\n",
       "      <th>ly_do</th>\n",
       "      <th>hoc_ky</th>\n",
       "      <th>nam_hoc</th>\n",
       "      <th>so_quyet_dinh</th>\n",
       "      <th>ngay_quyet_dinh</th>\n",
       "    </tr>\n",
       "  </thead>\n",
       "  <tbody>\n",
       "    <tr>\n",
       "      <th>756</th>\n",
       "      <td>NaN</td>\n",
       "      <td>NaN</td>\n",
       "      <td>NaN</td>\n",
       "      <td>NaN</td>\n",
       "      <td>NaN</td>\n",
       "      <td>NaN</td>\n",
       "      <td>NaT</td>\n",
       "    </tr>\n",
       "    <tr>\n",
       "      <th>1512</th>\n",
       "      <td>NaN</td>\n",
       "      <td>NaN</td>\n",
       "      <td>NaN</td>\n",
       "      <td>NaN</td>\n",
       "      <td>NaN</td>\n",
       "      <td>NaN</td>\n",
       "      <td>NaT</td>\n",
       "    </tr>\n",
       "  </tbody>\n",
       "</table>\n",
       "</div>"
      ],
      "text/plain": [
       "     mssv  tinh_trang ly_do  hoc_ky  nam_hoc so_quyet_dinh ngay_quyet_dinh\n",
       "756   NaN         NaN   NaN     NaN      NaN           NaN             NaT\n",
       "1512  NaN         NaN   NaN     NaN      NaN           NaN             NaT"
      ]
     },
     "execution_count": 68,
     "metadata": {},
     "output_type": "execute_result"
    }
   ],
   "source": [
    "new_df[new_df.mssv.isnull()]"
   ]
  },
  {
   "cell_type": "code",
   "execution_count": 69,
   "metadata": {},
   "outputs": [],
   "source": [
    "new_df = new_df[new_df.mssv.notnull()]"
   ]
  },
  {
   "cell_type": "code",
   "execution_count": 70,
   "metadata": {},
   "outputs": [
    {
     "data": {
      "text/html": [
       "<div>\n",
       "<style scoped>\n",
       "    .dataframe tbody tr th:only-of-type {\n",
       "        vertical-align: middle;\n",
       "    }\n",
       "\n",
       "    .dataframe tbody tr th {\n",
       "        vertical-align: top;\n",
       "    }\n",
       "\n",
       "    .dataframe thead th {\n",
       "        text-align: right;\n",
       "    }\n",
       "</style>\n",
       "<table border=\"1\" class=\"dataframe\">\n",
       "  <thead>\n",
       "    <tr style=\"text-align: right;\">\n",
       "      <th></th>\n",
       "      <th>mssv</th>\n",
       "      <th>tinh_trang</th>\n",
       "      <th>ly_do</th>\n",
       "      <th>hoc_ky</th>\n",
       "      <th>nam_hoc</th>\n",
       "      <th>so_quyet_dinh</th>\n",
       "      <th>ngay_quyet_dinh</th>\n",
       "    </tr>\n",
       "  </thead>\n",
       "  <tbody>\n",
       "  </tbody>\n",
       "</table>\n",
       "</div>"
      ],
      "text/plain": [
       "Empty DataFrame\n",
       "Columns: [mssv, tinh_trang, ly_do, hoc_ky, nam_hoc, so_quyet_dinh, ngay_quyet_dinh]\n",
       "Index: []"
      ]
     },
     "execution_count": 70,
     "metadata": {},
     "output_type": "execute_result"
    }
   ],
   "source": [
    "new_df[new_df.mssv.isnull()]"
   ]
  },
  {
   "cell_type": "code",
   "execution_count": 71,
   "metadata": {},
   "outputs": [
    {
     "name": "stdout",
     "output_type": "stream",
     "text": [
      "<class 'pandas.core.frame.DataFrame'>\n",
      "Index: 1878 entries, 0 to 1879\n",
      "Data columns (total 7 columns):\n",
      " #   Column           Non-Null Count  Dtype         \n",
      "---  ------           --------------  -----         \n",
      " 0   mssv             1878 non-null   category      \n",
      " 1   tinh_trang       1878 non-null   float64       \n",
      " 2   ly_do            1878 non-null   object        \n",
      " 3   hoc_ky           1878 non-null   float64       \n",
      " 4   nam_hoc          1878 non-null   float64       \n",
      " 5   so_quyet_dinh    1878 non-null   object        \n",
      " 6   ngay_quyet_dinh  1878 non-null   datetime64[ns]\n",
      "dtypes: category(1), datetime64[ns](1), float64(3), object(2)\n",
      "memory usage: 185.3+ KB\n"
     ]
    }
   ],
   "source": [
    "new_df.info()"
   ]
  },
  {
   "cell_type": "code",
   "execution_count": 72,
   "metadata": {},
   "outputs": [
    {
     "data": {
      "text/plain": [
       "tinh_trang\n",
       "3.0    1878\n",
       "Name: count, dtype: int64"
      ]
     },
     "execution_count": 72,
     "metadata": {},
     "output_type": "execute_result"
    }
   ],
   "source": [
    "new_df.tinh_trang.value_counts(dropna=False)"
   ]
  },
  {
   "cell_type": "code",
   "execution_count": 73,
   "metadata": {},
   "outputs": [],
   "source": [
    "mapping_dict = {\n",
    "    3.0: '3',\n",
    "}\n",
    "new_df.tinh_trang = new_df.tinh_trang.replace(mapping_dict).astype(\"category\")"
   ]
  },
  {
   "cell_type": "code",
   "execution_count": 74,
   "metadata": {},
   "outputs": [
    {
     "data": {
      "text/plain": [
       "tinh_trang\n",
       "3    1878\n",
       "Name: count, dtype: int64"
      ]
     },
     "execution_count": 74,
     "metadata": {},
     "output_type": "execute_result"
    }
   ],
   "source": [
    "new_df.tinh_trang.value_counts(dropna=False)"
   ]
  },
  {
   "cell_type": "code",
   "execution_count": 75,
   "metadata": {},
   "outputs": [
    {
     "name": "stdout",
     "output_type": "stream",
     "text": [
      "<class 'pandas.core.frame.DataFrame'>\n",
      "Index: 1878 entries, 0 to 1879\n",
      "Data columns (total 7 columns):\n",
      " #   Column           Non-Null Count  Dtype         \n",
      "---  ------           --------------  -----         \n",
      " 0   mssv             1878 non-null   category      \n",
      " 1   tinh_trang       1878 non-null   category      \n",
      " 2   ly_do            1878 non-null   object        \n",
      " 3   hoc_ky           1878 non-null   float64       \n",
      " 4   nam_hoc          1878 non-null   float64       \n",
      " 5   so_quyet_dinh    1878 non-null   object        \n",
      " 6   ngay_quyet_dinh  1878 non-null   datetime64[ns]\n",
      "dtypes: category(2), datetime64[ns](1), float64(2), object(2)\n",
      "memory usage: 172.6+ KB\n"
     ]
    }
   ],
   "source": [
    "new_df.info()"
   ]
  },
  {
   "cell_type": "code",
   "execution_count": 76,
   "metadata": {},
   "outputs": [
    {
     "data": {
      "text/plain": [
       "ly_do\n",
       "                                                                        1666\n",
       " Tốt nghiệp                                                              198\n",
       " QĐ điều chỉnh ngành TN                                                    9\n",
       " Chứng chỉ Anh văn không đạt --> CNTN tốt nghiệp chuyển sang hệ CQĐT       4\n",
       " TN                                                                        1\n",
       "Name: count, dtype: int64"
      ]
     },
     "execution_count": 76,
     "metadata": {},
     "output_type": "execute_result"
    }
   ],
   "source": [
    "new_df.ly_do.value_counts(dropna=False)"
   ]
  },
  {
   "cell_type": "code",
   "execution_count": 77,
   "metadata": {},
   "outputs": [],
   "source": [
    "def remove_duplicate_ly_do(ly_do):\n",
    "    if pd.isnull(ly_do) or str(ly_do).strip() == '':\n",
    "        return None\n",
    "\n",
    "    ly_do = str(ly_do).strip()\n",
    "    ly_do = 'Tốt nghiệp' if ly_do == 'TN' else ly_do\n",
    "    return ly_do\n",
    "\n",
    "new_df.ly_do = new_df.ly_do.apply(remove_duplicate_ly_do).astype('category')"
   ]
  },
  {
   "cell_type": "code",
   "execution_count": 78,
   "metadata": {},
   "outputs": [
    {
     "data": {
      "text/plain": [
       "ly_do\n",
       "NaN                                                                    1666\n",
       "Tốt nghiệp                                                              199\n",
       "QĐ điều chỉnh ngành TN                                                    9\n",
       "Chứng chỉ Anh văn không đạt --> CNTN tốt nghiệp chuyển sang hệ CQĐT       4\n",
       "Name: count, dtype: int64"
      ]
     },
     "execution_count": 78,
     "metadata": {},
     "output_type": "execute_result"
    }
   ],
   "source": [
    "new_df.ly_do.value_counts(dropna=False)"
   ]
  },
  {
   "cell_type": "code",
   "execution_count": 79,
   "metadata": {},
   "outputs": [
    {
     "name": "stdout",
     "output_type": "stream",
     "text": [
      "<class 'pandas.core.frame.DataFrame'>\n",
      "Index: 1878 entries, 0 to 1879\n",
      "Data columns (total 7 columns):\n",
      " #   Column           Non-Null Count  Dtype         \n",
      "---  ------           --------------  -----         \n",
      " 0   mssv             1878 non-null   category      \n",
      " 1   tinh_trang       1878 non-null   category      \n",
      " 2   ly_do            212 non-null    category      \n",
      " 3   hoc_ky           1878 non-null   float64       \n",
      " 4   nam_hoc          1878 non-null   float64       \n",
      " 5   so_quyet_dinh    1878 non-null   object        \n",
      " 6   ngay_quyet_dinh  1878 non-null   datetime64[ns]\n",
      "dtypes: category(3), datetime64[ns](1), float64(2), object(1)\n",
      "memory usage: 159.9+ KB\n"
     ]
    }
   ],
   "source": [
    "new_df.info()"
   ]
  },
  {
   "cell_type": "code",
   "execution_count": 80,
   "metadata": {},
   "outputs": [
    {
     "data": {
      "text/plain": [
       "hoc_ky\n",
       "1.0    909\n",
       "2.0    891\n",
       "3.0     78\n",
       "Name: count, dtype: int64"
      ]
     },
     "execution_count": 80,
     "metadata": {},
     "output_type": "execute_result"
    }
   ],
   "source": [
    "new_df.hoc_ky.value_counts(dropna=False)"
   ]
  },
  {
   "cell_type": "code",
   "execution_count": 81,
   "metadata": {},
   "outputs": [],
   "source": [
    "mapping_dict = {\n",
    "    1.0: '1',\n",
    "    2.0: '2',\n",
    "    3.0: '3',\n",
    "}\n",
    "\n",
    "new_df.hoc_ky = new_df.hoc_ky.replace(mapping_dict).astype('category')"
   ]
  },
  {
   "cell_type": "code",
   "execution_count": 82,
   "metadata": {},
   "outputs": [
    {
     "data": {
      "text/plain": [
       "hoc_ky\n",
       "1    909\n",
       "2    891\n",
       "3     78\n",
       "Name: count, dtype: int64"
      ]
     },
     "execution_count": 82,
     "metadata": {},
     "output_type": "execute_result"
    }
   ],
   "source": [
    "new_df.hoc_ky.value_counts(dropna=False)"
   ]
  },
  {
   "cell_type": "code",
   "execution_count": 83,
   "metadata": {},
   "outputs": [
    {
     "name": "stdout",
     "output_type": "stream",
     "text": [
      "<class 'pandas.core.frame.DataFrame'>\n",
      "Index: 1878 entries, 0 to 1879\n",
      "Data columns (total 7 columns):\n",
      " #   Column           Non-Null Count  Dtype         \n",
      "---  ------           --------------  -----         \n",
      " 0   mssv             1878 non-null   category      \n",
      " 1   tinh_trang       1878 non-null   category      \n",
      " 2   ly_do            212 non-null    category      \n",
      " 3   hoc_ky           1878 non-null   category      \n",
      " 4   nam_hoc          1878 non-null   float64       \n",
      " 5   so_quyet_dinh    1878 non-null   object        \n",
      " 6   ngay_quyet_dinh  1878 non-null   datetime64[ns]\n",
      "dtypes: category(4), datetime64[ns](1), float64(1), object(1)\n",
      "memory usage: 147.2+ KB\n"
     ]
    }
   ],
   "source": [
    "new_df.info()"
   ]
  },
  {
   "cell_type": "code",
   "execution_count": 84,
   "metadata": {},
   "outputs": [
    {
     "data": {
      "text/plain": [
       "nam_hoc\n",
       "2020.0    726\n",
       "2018.0    441\n",
       "2019.0    358\n",
       "2017.0    352\n",
       "2016.0      1\n",
       "Name: count, dtype: int64"
      ]
     },
     "execution_count": 84,
     "metadata": {},
     "output_type": "execute_result"
    }
   ],
   "source": [
    "new_df.nam_hoc.value_counts(dropna=False)"
   ]
  },
  {
   "cell_type": "code",
   "execution_count": 85,
   "metadata": {},
   "outputs": [],
   "source": [
    "mapping_dict = {\n",
    "    2020.0: '2020',\n",
    "    2019.0: '2019',\n",
    "    2018.0: '2018',\n",
    "    2017.0: '2017',\n",
    "    2016.0: '2016',\n",
    "}\n",
    "\n",
    "new_df.nam_hoc = new_df.nam_hoc.replace(mapping_dict).astype('category')"
   ]
  },
  {
   "cell_type": "code",
   "execution_count": 86,
   "metadata": {},
   "outputs": [
    {
     "data": {
      "text/plain": [
       "nam_hoc\n",
       "2020    726\n",
       "2018    441\n",
       "2019    358\n",
       "2017    352\n",
       "2016      1\n",
       "Name: count, dtype: int64"
      ]
     },
     "execution_count": 86,
     "metadata": {},
     "output_type": "execute_result"
    }
   ],
   "source": [
    "new_df.nam_hoc.value_counts(dropna=False)"
   ]
  },
  {
   "cell_type": "code",
   "execution_count": 87,
   "metadata": {},
   "outputs": [
    {
     "name": "stdout",
     "output_type": "stream",
     "text": [
      "<class 'pandas.core.frame.DataFrame'>\n",
      "Index: 1878 entries, 0 to 1879\n",
      "Data columns (total 7 columns):\n",
      " #   Column           Non-Null Count  Dtype         \n",
      "---  ------           --------------  -----         \n",
      " 0   mssv             1878 non-null   category      \n",
      " 1   tinh_trang       1878 non-null   category      \n",
      " 2   ly_do            212 non-null    category      \n",
      " 3   hoc_ky           1878 non-null   category      \n",
      " 4   nam_hoc          1878 non-null   category      \n",
      " 5   so_quyet_dinh    1878 non-null   object        \n",
      " 6   ngay_quyet_dinh  1878 non-null   datetime64[ns]\n",
      "dtypes: category(5), datetime64[ns](1), object(1)\n",
      "memory usage: 134.5+ KB\n"
     ]
    }
   ],
   "source": [
    "new_df.info()"
   ]
  },
  {
   "cell_type": "code",
   "execution_count": 88,
   "metadata": {},
   "outputs": [
    {
     "data": {
      "text/plain": [
       "so_quyet_dinh\n",
       " 542/QĐ-ĐHCNTT     204\n",
       " 189/QĐ-ĐHCNTT     198\n",
       " 222/QĐ-ĐHCNTT     183\n",
       " 675/QĐ-ĐHCNTT     164\n",
       " 204 /QĐ-ĐHCNTT    157\n",
       " 354 /QĐ-ĐHCNTT    146\n",
       " 777/QĐ-ĐHCNTT     118\n",
       " 621/QĐ-ĐHCNTT     111\n",
       " 713/QD-DHCNTT      93\n",
       " 214/QĐ-ĐHCNTT      93\n",
       " 443/QĐ-ĐHCNTT      77\n",
       " 960/QĐ-ĐHCNTT      53\n",
       " 13/QĐ-ĐHCNTT       51\n",
       " 955/QĐ-ĐHCNTT      38\n",
       " 66 /QĐ-ĐHCNTT      20\n",
       "258                 19\n",
       " 823/QĐ_ĐHCNTT      19\n",
       " 761/QĐ-ĐHCNTT      18\n",
       " 878/QĐ-ĐHCNTT      15\n",
       " 384/QĐ-ĐHCNTT      14\n",
       "236                 12\n",
       " 233/QĐ-ĐHCNTT       9\n",
       " 811/QĐ-ĐHCNTT       8\n",
       " 320/QĐ-ĐHCNTT       8\n",
       " 249/QĐ-ĐHCNTT       8\n",
       " 595/QĐ-ĐHCNTT       7\n",
       " 298 /QĐ-ĐHCNTT      7\n",
       " 713/QĐ-ĐHCNTT       4\n",
       " 325/QĐ-ĐHCNTT       3\n",
       " 310/QĐ-ĐHCNTT       2\n",
       " 370/QĐ-ĐHCNTT       2\n",
       "306                  2\n",
       " 733/QĐ-ĐHCNTT       2\n",
       " 829/QĐ-ĐHCNTT       2\n",
       " 430/QĐ-ĐHCNTT       1\n",
       " 391/QĐ-ĐHCNTT       1\n",
       " 178 /QĐ-ĐHCNTT      1\n",
       " 239/QĐ-ĐHCNTT       1\n",
       " 242/QĐ-ĐHCNTT       1\n",
       " 852 /QĐ-ĐHCNTT      1\n",
       " 344 /QĐ-ĐHCNTT      1\n",
       " 341 /QĐ-ĐHCNTT      1\n",
       " 243/QĐ-ĐHCNTT       1\n",
       " 772/QĐ_ĐHCNTT       1\n",
       " 519/QĐ-ĐHCNTT       1\n",
       "Name: count, dtype: int64"
      ]
     },
     "execution_count": 88,
     "metadata": {},
     "output_type": "execute_result"
    }
   ],
   "source": [
    "new_df.so_quyet_dinh.value_counts(dropna=False)"
   ]
  },
  {
   "cell_type": "code",
   "execution_count": 89,
   "metadata": {},
   "outputs": [],
   "source": [
    "def remove_duplicate_so_quyet_dinh(so_quyet_dinh):\n",
    "    if pd.isnull(so_quyet_dinh):\n",
    "        return so_quyet_dinh\n",
    "\n",
    "    digit = ''.join(filter(str.isdigit, so_quyet_dinh))\n",
    "    so_quyet_dinh = digit + '/QĐ-ĐHCNTT'\n",
    "    return so_quyet_dinh\n",
    "\n",
    "new_df.so_quyet_dinh = new_df.so_quyet_dinh.apply(remove_duplicate_so_quyet_dinh).astype('category')"
   ]
  },
  {
   "cell_type": "code",
   "execution_count": 90,
   "metadata": {},
   "outputs": [
    {
     "data": {
      "text/plain": [
       "so_quyet_dinh\n",
       "542/QĐ-ĐHCNTT    204\n",
       "189/QĐ-ĐHCNTT    198\n",
       "222/QĐ-ĐHCNTT    183\n",
       "675/QĐ-ĐHCNTT    164\n",
       "204/QĐ-ĐHCNTT    157\n",
       "354/QĐ-ĐHCNTT    146\n",
       "777/QĐ-ĐHCNTT    118\n",
       "621/QĐ-ĐHCNTT    111\n",
       "713/QĐ-ĐHCNTT     97\n",
       "214/QĐ-ĐHCNTT     93\n",
       "443/QĐ-ĐHCNTT     77\n",
       "960/QĐ-ĐHCNTT     53\n",
       "13/QĐ-ĐHCNTT      51\n",
       "955/QĐ-ĐHCNTT     38\n",
       "66/QĐ-ĐHCNTT      20\n",
       "823/QĐ-ĐHCNTT     19\n",
       "258/QĐ-ĐHCNTT     19\n",
       "761/QĐ-ĐHCNTT     18\n",
       "878/QĐ-ĐHCNTT     15\n",
       "384/QĐ-ĐHCNTT     14\n",
       "236/QĐ-ĐHCNTT     12\n",
       "233/QĐ-ĐHCNTT      9\n",
       "249/QĐ-ĐHCNTT      8\n",
       "320/QĐ-ĐHCNTT      8\n",
       "811/QĐ-ĐHCNTT      8\n",
       "298/QĐ-ĐHCNTT      7\n",
       "595/QĐ-ĐHCNTT      7\n",
       "325/QĐ-ĐHCNTT      3\n",
       "370/QĐ-ĐHCNTT      2\n",
       "306/QĐ-ĐHCNTT      2\n",
       "310/QĐ-ĐHCNTT      2\n",
       "829/QĐ-ĐHCNTT      2\n",
       "733/QĐ-ĐHCNTT      2\n",
       "852/QĐ-ĐHCNTT      1\n",
       "341/QĐ-ĐHCNTT      1\n",
       "344/QĐ-ĐHCNTT      1\n",
       "519/QĐ-ĐHCNTT      1\n",
       "243/QĐ-ĐHCNTT      1\n",
       "178/QĐ-ĐHCNTT      1\n",
       "391/QĐ-ĐHCNTT      1\n",
       "239/QĐ-ĐHCNTT      1\n",
       "430/QĐ-ĐHCNTT      1\n",
       "242/QĐ-ĐHCNTT      1\n",
       "772/QĐ-ĐHCNTT      1\n",
       "Name: count, dtype: int64"
      ]
     },
     "execution_count": 90,
     "metadata": {},
     "output_type": "execute_result"
    }
   ],
   "source": [
    "new_df.so_quyet_dinh.value_counts(dropna=False)"
   ]
  },
  {
   "cell_type": "code",
   "execution_count": 91,
   "metadata": {},
   "outputs": [
    {
     "name": "stdout",
     "output_type": "stream",
     "text": [
      "<class 'pandas.core.frame.DataFrame'>\n",
      "Index: 1878 entries, 0 to 1879\n",
      "Data columns (total 7 columns):\n",
      " #   Column           Non-Null Count  Dtype         \n",
      "---  ------           --------------  -----         \n",
      " 0   mssv             1878 non-null   category      \n",
      " 1   tinh_trang       1878 non-null   category      \n",
      " 2   ly_do            212 non-null    category      \n",
      " 3   hoc_ky           1878 non-null   category      \n",
      " 4   nam_hoc          1878 non-null   category      \n",
      " 5   so_quyet_dinh    1878 non-null   category      \n",
      " 6   ngay_quyet_dinh  1878 non-null   datetime64[ns]\n",
      "dtypes: category(6), datetime64[ns](1)\n",
      "memory usage: 123.1 KB\n"
     ]
    }
   ],
   "source": [
    "new_df.info()"
   ]
  },
  {
   "cell_type": "code",
   "execution_count": 92,
   "metadata": {},
   "outputs": [
    {
     "data": {
      "text/plain": [
       "ngay_quyet_dinh\n",
       "2020-08-31    204\n",
       "2021-04-01    198\n",
       "2018-04-10    183\n",
       "2019-10-11    164\n",
       "2019-04-12    157\n",
       "2021-06-09    146\n",
       "2020-11-12    118\n",
       "2018-10-10    111\n",
       "2017-10-06     97\n",
       "2020-05-18     93\n",
       "2019-08-01     77\n",
       "2019-12-31     53\n",
       "2019-01-10     51\n",
       "2020-12-30     38\n",
       "2017-11-21     20\n",
       "2018-01-19     20\n",
       "2019-05-10     19\n",
       "2019-11-05     18\n",
       "2020-12-07     15\n",
       "2018-07-03     14\n",
       "2019-05-02     12\n",
       "2018-04-16      9\n",
       "2020-06-17      8\n",
       "2018-04-26      8\n",
       "2019-11-22      8\n",
       "2019-05-23      7\n",
       "2020-09-24      7\n",
       "2020-06-19      3\n",
       "2019-10-28      2\n",
       "2018-12-06      2\n",
       "2019-05-29      2\n",
       "2020-06-15      2\n",
       "2020-07-07      2\n",
       "2019-12-02      1\n",
       "2019-06-10      1\n",
       "2019-06-05      1\n",
       "2020-07-16      1\n",
       "2020-07-31      1\n",
       "2018-04-23      1\n",
       "2019-08-26      1\n",
       "2020-05-26      1\n",
       "2020-05-27      1\n",
       "2017-04-14      1\n",
       "Name: count, dtype: int64"
      ]
     },
     "execution_count": 92,
     "metadata": {},
     "output_type": "execute_result"
    }
   ],
   "source": [
    "new_df.ngay_quyet_dinh.value_counts(dropna=False)"
   ]
  },
  {
   "cell_type": "code",
   "execution_count": 93,
   "metadata": {},
   "outputs": [
    {
     "name": "stdout",
     "output_type": "stream",
     "text": [
      "<class 'pandas.core.frame.DataFrame'>\n",
      "Index: 1878 entries, 0 to 1879\n",
      "Data columns (total 7 columns):\n",
      " #   Column           Non-Null Count  Dtype         \n",
      "---  ------           --------------  -----         \n",
      " 0   mssv             1878 non-null   category      \n",
      " 1   tinh_trang       1878 non-null   category      \n",
      " 2   ly_do            212 non-null    category      \n",
      " 3   hoc_ky           1878 non-null   category      \n",
      " 4   nam_hoc          1878 non-null   category      \n",
      " 5   so_quyet_dinh    1878 non-null   category      \n",
      " 6   ngay_quyet_dinh  1878 non-null   datetime64[ns]\n",
      "dtypes: category(6), datetime64[ns](1)\n",
      "memory usage: 123.1 KB\n"
     ]
    }
   ],
   "source": [
    "new_df.info()"
   ]
  },
  {
   "cell_type": "code",
   "execution_count": 94,
   "metadata": {},
   "outputs": [
    {
     "data": {
      "text/html": [
       "<div>\n",
       "<style scoped>\n",
       "    .dataframe tbody tr th:only-of-type {\n",
       "        vertical-align: middle;\n",
       "    }\n",
       "\n",
       "    .dataframe tbody tr th {\n",
       "        vertical-align: top;\n",
       "    }\n",
       "\n",
       "    .dataframe thead th {\n",
       "        text-align: right;\n",
       "    }\n",
       "</style>\n",
       "<table border=\"1\" class=\"dataframe\">\n",
       "  <thead>\n",
       "    <tr style=\"text-align: right;\">\n",
       "      <th></th>\n",
       "      <th>ly_do</th>\n",
       "      <th>hoc_ky</th>\n",
       "      <th>nam_hoc</th>\n",
       "      <th>so_quyet_dinh</th>\n",
       "    </tr>\n",
       "  </thead>\n",
       "  <tbody>\n",
       "    <tr>\n",
       "      <th>0</th>\n",
       "      <td>Tốt nghiệp</td>\n",
       "      <td>2</td>\n",
       "      <td>2016</td>\n",
       "      <td>178/QĐ-ĐHCNTT</td>\n",
       "    </tr>\n",
       "    <tr>\n",
       "      <th>1</th>\n",
       "      <td>NaN</td>\n",
       "      <td>1</td>\n",
       "      <td>2017</td>\n",
       "      <td>713/QĐ-ĐHCNTT</td>\n",
       "    </tr>\n",
       "    <tr>\n",
       "      <th>94</th>\n",
       "      <td>Chứng chỉ Anh văn không đạt --&gt; CNTN tốt nghiệ...</td>\n",
       "      <td>1</td>\n",
       "      <td>2017</td>\n",
       "      <td>713/QĐ-ĐHCNTT</td>\n",
       "    </tr>\n",
       "    <tr>\n",
       "      <th>98</th>\n",
       "      <td>NaN</td>\n",
       "      <td>1</td>\n",
       "      <td>2017</td>\n",
       "      <td>823/QĐ-ĐHCNTT</td>\n",
       "    </tr>\n",
       "    <tr>\n",
       "      <th>117</th>\n",
       "      <td>NaN</td>\n",
       "      <td>1</td>\n",
       "      <td>2017</td>\n",
       "      <td>772/QĐ-ĐHCNTT</td>\n",
       "    </tr>\n",
       "    <tr>\n",
       "      <th>118</th>\n",
       "      <td>NaN</td>\n",
       "      <td>2</td>\n",
       "      <td>2017</td>\n",
       "      <td>66/QĐ-ĐHCNTT</td>\n",
       "    </tr>\n",
       "    <tr>\n",
       "      <th>138</th>\n",
       "      <td>NaN</td>\n",
       "      <td>2</td>\n",
       "      <td>2017</td>\n",
       "      <td>222/QĐ-ĐHCNTT</td>\n",
       "    </tr>\n",
       "    <tr>\n",
       "      <th>321</th>\n",
       "      <td>QĐ điều chỉnh ngành TN</td>\n",
       "      <td>2</td>\n",
       "      <td>2017</td>\n",
       "      <td>233/QĐ-ĐHCNTT</td>\n",
       "    </tr>\n",
       "    <tr>\n",
       "      <th>330</th>\n",
       "      <td>NaN</td>\n",
       "      <td>2</td>\n",
       "      <td>2017</td>\n",
       "      <td>249/QĐ-ĐHCNTT</td>\n",
       "    </tr>\n",
       "    <tr>\n",
       "      <th>338</th>\n",
       "      <td>NaN</td>\n",
       "      <td>2</td>\n",
       "      <td>2017</td>\n",
       "      <td>243/QĐ-ĐHCNTT</td>\n",
       "    </tr>\n",
       "    <tr>\n",
       "      <th>339</th>\n",
       "      <td>NaN</td>\n",
       "      <td>2</td>\n",
       "      <td>2017</td>\n",
       "      <td>384/QĐ-ĐHCNTT</td>\n",
       "    </tr>\n",
       "    <tr>\n",
       "      <th>353</th>\n",
       "      <td>NaN</td>\n",
       "      <td>1</td>\n",
       "      <td>2018</td>\n",
       "      <td>621/QĐ-ĐHCNTT</td>\n",
       "    </tr>\n",
       "    <tr>\n",
       "      <th>464</th>\n",
       "      <td>NaN</td>\n",
       "      <td>1</td>\n",
       "      <td>2018</td>\n",
       "      <td>829/QĐ-ĐHCNTT</td>\n",
       "    </tr>\n",
       "    <tr>\n",
       "      <th>466</th>\n",
       "      <td>NaN</td>\n",
       "      <td>2</td>\n",
       "      <td>2018</td>\n",
       "      <td>204/QĐ-ĐHCNTT</td>\n",
       "    </tr>\n",
       "    <tr>\n",
       "      <th>623</th>\n",
       "      <td>NaN</td>\n",
       "      <td>2</td>\n",
       "      <td>2018</td>\n",
       "      <td>236/QĐ-ĐHCNTT</td>\n",
       "    </tr>\n",
       "    <tr>\n",
       "      <th>635</th>\n",
       "      <td>NaN</td>\n",
       "      <td>2</td>\n",
       "      <td>2018</td>\n",
       "      <td>258/QĐ-ĐHCNTT</td>\n",
       "    </tr>\n",
       "    <tr>\n",
       "      <th>654</th>\n",
       "      <td>NaN</td>\n",
       "      <td>2</td>\n",
       "      <td>2018</td>\n",
       "      <td>298/QĐ-ĐHCNTT</td>\n",
       "    </tr>\n",
       "    <tr>\n",
       "      <th>661</th>\n",
       "      <td>NaN</td>\n",
       "      <td>2</td>\n",
       "      <td>2018</td>\n",
       "      <td>306/QĐ-ĐHCNTT</td>\n",
       "    </tr>\n",
       "    <tr>\n",
       "      <th>663</th>\n",
       "      <td>NaN</td>\n",
       "      <td>2</td>\n",
       "      <td>2018</td>\n",
       "      <td>341/QĐ-ĐHCNTT</td>\n",
       "    </tr>\n",
       "    <tr>\n",
       "      <th>664</th>\n",
       "      <td>NaN</td>\n",
       "      <td>2</td>\n",
       "      <td>2018</td>\n",
       "      <td>344/QĐ-ĐHCNTT</td>\n",
       "    </tr>\n",
       "    <tr>\n",
       "      <th>665</th>\n",
       "      <td>NaN</td>\n",
       "      <td>1</td>\n",
       "      <td>2018</td>\n",
       "      <td>13/QĐ-ĐHCNTT</td>\n",
       "    </tr>\n",
       "    <tr>\n",
       "      <th>716</th>\n",
       "      <td>NaN</td>\n",
       "      <td>3</td>\n",
       "      <td>2018</td>\n",
       "      <td>443/QĐ-ĐHCNTT</td>\n",
       "    </tr>\n",
       "    <tr>\n",
       "      <th>794</th>\n",
       "      <td>NaN</td>\n",
       "      <td>3</td>\n",
       "      <td>2018</td>\n",
       "      <td>519/QĐ-ĐHCNTT</td>\n",
       "    </tr>\n",
       "    <tr>\n",
       "      <th>795</th>\n",
       "      <td>NaN</td>\n",
       "      <td>1</td>\n",
       "      <td>2019</td>\n",
       "      <td>675/QĐ-ĐHCNTT</td>\n",
       "    </tr>\n",
       "    <tr>\n",
       "      <th>959</th>\n",
       "      <td>NaN</td>\n",
       "      <td>1</td>\n",
       "      <td>2019</td>\n",
       "      <td>733/QĐ-ĐHCNTT</td>\n",
       "    </tr>\n",
       "    <tr>\n",
       "      <th>961</th>\n",
       "      <td>NaN</td>\n",
       "      <td>1</td>\n",
       "      <td>2019</td>\n",
       "      <td>761/QĐ-ĐHCNTT</td>\n",
       "    </tr>\n",
       "    <tr>\n",
       "      <th>979</th>\n",
       "      <td>NaN</td>\n",
       "      <td>1</td>\n",
       "      <td>2019</td>\n",
       "      <td>811/QĐ-ĐHCNTT</td>\n",
       "    </tr>\n",
       "    <tr>\n",
       "      <th>987</th>\n",
       "      <td>NaN</td>\n",
       "      <td>1</td>\n",
       "      <td>2019</td>\n",
       "      <td>852/QĐ-ĐHCNTT</td>\n",
       "    </tr>\n",
       "    <tr>\n",
       "      <th>988</th>\n",
       "      <td>NaN</td>\n",
       "      <td>1</td>\n",
       "      <td>2019</td>\n",
       "      <td>960/QĐ-ĐHCNTT</td>\n",
       "    </tr>\n",
       "    <tr>\n",
       "      <th>1041</th>\n",
       "      <td>NaN</td>\n",
       "      <td>2</td>\n",
       "      <td>2019</td>\n",
       "      <td>214/QĐ-ĐHCNTT</td>\n",
       "    </tr>\n",
       "    <tr>\n",
       "      <th>1134</th>\n",
       "      <td>NaN</td>\n",
       "      <td>2</td>\n",
       "      <td>2019</td>\n",
       "      <td>242/QĐ-ĐHCNTT</td>\n",
       "    </tr>\n",
       "    <tr>\n",
       "      <th>1135</th>\n",
       "      <td>NaN</td>\n",
       "      <td>2</td>\n",
       "      <td>2019</td>\n",
       "      <td>239/QĐ-ĐHCNTT</td>\n",
       "    </tr>\n",
       "    <tr>\n",
       "      <th>1136</th>\n",
       "      <td>NaN</td>\n",
       "      <td>2</td>\n",
       "      <td>2019</td>\n",
       "      <td>320/QĐ-ĐHCNTT</td>\n",
       "    </tr>\n",
       "    <tr>\n",
       "      <th>1144</th>\n",
       "      <td>NaN</td>\n",
       "      <td>2</td>\n",
       "      <td>2019</td>\n",
       "      <td>310/QĐ-ĐHCNTT</td>\n",
       "    </tr>\n",
       "    <tr>\n",
       "      <th>1146</th>\n",
       "      <td>NaN</td>\n",
       "      <td>2</td>\n",
       "      <td>2019</td>\n",
       "      <td>325/QĐ-ĐHCNTT</td>\n",
       "    </tr>\n",
       "    <tr>\n",
       "      <th>1149</th>\n",
       "      <td>NaN</td>\n",
       "      <td>2</td>\n",
       "      <td>2019</td>\n",
       "      <td>370/QĐ-ĐHCNTT</td>\n",
       "    </tr>\n",
       "    <tr>\n",
       "      <th>1151</th>\n",
       "      <td>NaN</td>\n",
       "      <td>2</td>\n",
       "      <td>2019</td>\n",
       "      <td>391/QĐ-ĐHCNTT</td>\n",
       "    </tr>\n",
       "    <tr>\n",
       "      <th>1152</th>\n",
       "      <td>NaN</td>\n",
       "      <td>2</td>\n",
       "      <td>2019</td>\n",
       "      <td>430/QĐ-ĐHCNTT</td>\n",
       "    </tr>\n",
       "    <tr>\n",
       "      <th>1153</th>\n",
       "      <td>NaN</td>\n",
       "      <td>1</td>\n",
       "      <td>2020</td>\n",
       "      <td>542/QĐ-ĐHCNTT</td>\n",
       "    </tr>\n",
       "    <tr>\n",
       "      <th>1357</th>\n",
       "      <td>NaN</td>\n",
       "      <td>1</td>\n",
       "      <td>2020</td>\n",
       "      <td>595/QĐ-ĐHCNTT</td>\n",
       "    </tr>\n",
       "    <tr>\n",
       "      <th>1364</th>\n",
       "      <td>NaN</td>\n",
       "      <td>1</td>\n",
       "      <td>2020</td>\n",
       "      <td>777/QĐ-ĐHCNTT</td>\n",
       "    </tr>\n",
       "    <tr>\n",
       "      <th>1482</th>\n",
       "      <td>NaN</td>\n",
       "      <td>1</td>\n",
       "      <td>2020</td>\n",
       "      <td>878/QĐ-ĐHCNTT</td>\n",
       "    </tr>\n",
       "    <tr>\n",
       "      <th>1497</th>\n",
       "      <td>NaN</td>\n",
       "      <td>1</td>\n",
       "      <td>2020</td>\n",
       "      <td>955/QĐ-ĐHCNTT</td>\n",
       "    </tr>\n",
       "    <tr>\n",
       "      <th>1536</th>\n",
       "      <td>Tốt nghiệp</td>\n",
       "      <td>2</td>\n",
       "      <td>2020</td>\n",
       "      <td>189/QĐ-ĐHCNTT</td>\n",
       "    </tr>\n",
       "    <tr>\n",
       "      <th>1734</th>\n",
       "      <td>NaN</td>\n",
       "      <td>2</td>\n",
       "      <td>2020</td>\n",
       "      <td>354/QĐ-ĐHCNTT</td>\n",
       "    </tr>\n",
       "  </tbody>\n",
       "</table>\n",
       "</div>"
      ],
      "text/plain": [
       "                                                  ly_do hoc_ky nam_hoc   \n",
       "0                                            Tốt nghiệp      2    2016  \\\n",
       "1                                                   NaN      1    2017   \n",
       "94    Chứng chỉ Anh văn không đạt --> CNTN tốt nghiệ...      1    2017   \n",
       "98                                                  NaN      1    2017   \n",
       "117                                                 NaN      1    2017   \n",
       "118                                                 NaN      2    2017   \n",
       "138                                                 NaN      2    2017   \n",
       "321                              QĐ điều chỉnh ngành TN      2    2017   \n",
       "330                                                 NaN      2    2017   \n",
       "338                                                 NaN      2    2017   \n",
       "339                                                 NaN      2    2017   \n",
       "353                                                 NaN      1    2018   \n",
       "464                                                 NaN      1    2018   \n",
       "466                                                 NaN      2    2018   \n",
       "623                                                 NaN      2    2018   \n",
       "635                                                 NaN      2    2018   \n",
       "654                                                 NaN      2    2018   \n",
       "661                                                 NaN      2    2018   \n",
       "663                                                 NaN      2    2018   \n",
       "664                                                 NaN      2    2018   \n",
       "665                                                 NaN      1    2018   \n",
       "716                                                 NaN      3    2018   \n",
       "794                                                 NaN      3    2018   \n",
       "795                                                 NaN      1    2019   \n",
       "959                                                 NaN      1    2019   \n",
       "961                                                 NaN      1    2019   \n",
       "979                                                 NaN      1    2019   \n",
       "987                                                 NaN      1    2019   \n",
       "988                                                 NaN      1    2019   \n",
       "1041                                                NaN      2    2019   \n",
       "1134                                                NaN      2    2019   \n",
       "1135                                                NaN      2    2019   \n",
       "1136                                                NaN      2    2019   \n",
       "1144                                                NaN      2    2019   \n",
       "1146                                                NaN      2    2019   \n",
       "1149                                                NaN      2    2019   \n",
       "1151                                                NaN      2    2019   \n",
       "1152                                                NaN      2    2019   \n",
       "1153                                                NaN      1    2020   \n",
       "1357                                                NaN      1    2020   \n",
       "1364                                                NaN      1    2020   \n",
       "1482                                                NaN      1    2020   \n",
       "1497                                                NaN      1    2020   \n",
       "1536                                         Tốt nghiệp      2    2020   \n",
       "1734                                                NaN      2    2020   \n",
       "\n",
       "      so_quyet_dinh  \n",
       "0     178/QĐ-ĐHCNTT  \n",
       "1     713/QĐ-ĐHCNTT  \n",
       "94    713/QĐ-ĐHCNTT  \n",
       "98    823/QĐ-ĐHCNTT  \n",
       "117   772/QĐ-ĐHCNTT  \n",
       "118    66/QĐ-ĐHCNTT  \n",
       "138   222/QĐ-ĐHCNTT  \n",
       "321   233/QĐ-ĐHCNTT  \n",
       "330   249/QĐ-ĐHCNTT  \n",
       "338   243/QĐ-ĐHCNTT  \n",
       "339   384/QĐ-ĐHCNTT  \n",
       "353   621/QĐ-ĐHCNTT  \n",
       "464   829/QĐ-ĐHCNTT  \n",
       "466   204/QĐ-ĐHCNTT  \n",
       "623   236/QĐ-ĐHCNTT  \n",
       "635   258/QĐ-ĐHCNTT  \n",
       "654   298/QĐ-ĐHCNTT  \n",
       "661   306/QĐ-ĐHCNTT  \n",
       "663   341/QĐ-ĐHCNTT  \n",
       "664   344/QĐ-ĐHCNTT  \n",
       "665    13/QĐ-ĐHCNTT  \n",
       "716   443/QĐ-ĐHCNTT  \n",
       "794   519/QĐ-ĐHCNTT  \n",
       "795   675/QĐ-ĐHCNTT  \n",
       "959   733/QĐ-ĐHCNTT  \n",
       "961   761/QĐ-ĐHCNTT  \n",
       "979   811/QĐ-ĐHCNTT  \n",
       "987   852/QĐ-ĐHCNTT  \n",
       "988   960/QĐ-ĐHCNTT  \n",
       "1041  214/QĐ-ĐHCNTT  \n",
       "1134  242/QĐ-ĐHCNTT  \n",
       "1135  239/QĐ-ĐHCNTT  \n",
       "1136  320/QĐ-ĐHCNTT  \n",
       "1144  310/QĐ-ĐHCNTT  \n",
       "1146  325/QĐ-ĐHCNTT  \n",
       "1149  370/QĐ-ĐHCNTT  \n",
       "1151  391/QĐ-ĐHCNTT  \n",
       "1152  430/QĐ-ĐHCNTT  \n",
       "1153  542/QĐ-ĐHCNTT  \n",
       "1357  595/QĐ-ĐHCNTT  \n",
       "1364  777/QĐ-ĐHCNTT  \n",
       "1482  878/QĐ-ĐHCNTT  \n",
       "1497  955/QĐ-ĐHCNTT  \n",
       "1536  189/QĐ-ĐHCNTT  \n",
       "1734  354/QĐ-ĐHCNTT  "
      ]
     },
     "execution_count": 94,
     "metadata": {},
     "output_type": "execute_result"
    }
   ],
   "source": [
    "new_df[['ly_do', 'hoc_ky',\n",
    "        'nam_hoc', 'so_quyet_dinh']].drop_duplicates()"
   ]
  },
  {
   "cell_type": "code",
   "execution_count": 95,
   "metadata": {},
   "outputs": [],
   "source": [
    "new_df.drop('ly_do', axis=1, inplace=True)"
   ]
  },
  {
   "cell_type": "code",
   "execution_count": 96,
   "metadata": {},
   "outputs": [
    {
     "data": {
      "text/html": [
       "<div>\n",
       "<style scoped>\n",
       "    .dataframe tbody tr th:only-of-type {\n",
       "        vertical-align: middle;\n",
       "    }\n",
       "\n",
       "    .dataframe tbody tr th {\n",
       "        vertical-align: top;\n",
       "    }\n",
       "\n",
       "    .dataframe thead th {\n",
       "        text-align: right;\n",
       "    }\n",
       "</style>\n",
       "<table border=\"1\" class=\"dataframe\">\n",
       "  <thead>\n",
       "    <tr style=\"text-align: right;\">\n",
       "      <th></th>\n",
       "      <th>mssv</th>\n",
       "      <th>tinh_trang</th>\n",
       "      <th>hoc_ky</th>\n",
       "      <th>nam_hoc</th>\n",
       "      <th>so_quyet_dinh</th>\n",
       "      <th>ngay_quyet_dinh</th>\n",
       "    </tr>\n",
       "  </thead>\n",
       "  <tbody>\n",
       "  </tbody>\n",
       "</table>\n",
       "</div>"
      ],
      "text/plain": [
       "Empty DataFrame\n",
       "Columns: [mssv, tinh_trang, hoc_ky, nam_hoc, so_quyet_dinh, ngay_quyet_dinh]\n",
       "Index: []"
      ]
     },
     "execution_count": 96,
     "metadata": {},
     "output_type": "execute_result"
    }
   ],
   "source": [
    "new_df[new_df.isnull().any(axis=1)]"
   ]
  },
  {
   "cell_type": "code",
   "execution_count": 97,
   "metadata": {},
   "outputs": [
    {
     "data": {
      "text/plain": [
       "4"
      ]
     },
     "execution_count": 97,
     "metadata": {},
     "output_type": "execute_result"
    }
   ],
   "source": [
    "new_df[primary_key].duplicated().sum()"
   ]
  },
  {
   "cell_type": "code",
   "execution_count": 109,
   "metadata": {},
   "outputs": [
    {
     "data": {
      "text/plain": [
       "['mssv', 'hoc_ky', 'nam_hoc', 'ngay_quyet_dinh']"
      ]
     },
     "execution_count": 109,
     "metadata": {},
     "output_type": "execute_result"
    }
   ],
   "source": [
    "primary_key"
   ]
  },
  {
   "cell_type": "code",
   "execution_count": 98,
   "metadata": {},
   "outputs": [
    {
     "data": {
      "text/html": [
       "<div>\n",
       "<style scoped>\n",
       "    .dataframe tbody tr th:only-of-type {\n",
       "        vertical-align: middle;\n",
       "    }\n",
       "\n",
       "    .dataframe tbody tr th {\n",
       "        vertical-align: top;\n",
       "    }\n",
       "\n",
       "    .dataframe thead th {\n",
       "        text-align: right;\n",
       "    }\n",
       "</style>\n",
       "<table border=\"1\" class=\"dataframe\">\n",
       "  <thead>\n",
       "    <tr style=\"text-align: right;\">\n",
       "      <th></th>\n",
       "      <th>mssv</th>\n",
       "      <th>tinh_trang</th>\n",
       "      <th>hoc_ky</th>\n",
       "      <th>nam_hoc</th>\n",
       "      <th>so_quyet_dinh</th>\n",
       "      <th>ngay_quyet_dinh</th>\n",
       "    </tr>\n",
       "  </thead>\n",
       "  <tbody>\n",
       "    <tr>\n",
       "      <th>44</th>\n",
       "      <td>FFE9E452XPvAibaEXe+6MN9FoW2mqXtx1lMTF9+D</td>\n",
       "      <td>3</td>\n",
       "      <td>1</td>\n",
       "      <td>2017</td>\n",
       "      <td>713/QĐ-ĐHCNTT</td>\n",
       "      <td>2017-10-06</td>\n",
       "    </tr>\n",
       "    <tr>\n",
       "      <th>45</th>\n",
       "      <td>6CDA0ED7XPvAibaEXe+BHZkA9XgGXSS4BHzShGje</td>\n",
       "      <td>3</td>\n",
       "      <td>1</td>\n",
       "      <td>2017</td>\n",
       "      <td>713/QĐ-ĐHCNTT</td>\n",
       "      <td>2017-10-06</td>\n",
       "    </tr>\n",
       "    <tr>\n",
       "      <th>46</th>\n",
       "      <td>EDD0F071XPvAibaEXe+BHZkA9XgGXcEipjLDOZCD</td>\n",
       "      <td>3</td>\n",
       "      <td>1</td>\n",
       "      <td>2017</td>\n",
       "      <td>713/QĐ-ĐHCNTT</td>\n",
       "      <td>2017-10-06</td>\n",
       "    </tr>\n",
       "    <tr>\n",
       "      <th>47</th>\n",
       "      <td>ACC4D198XPvAibaEXe+5oCRQPDKXspsKZR6r2Sfg</td>\n",
       "      <td>3</td>\n",
       "      <td>1</td>\n",
       "      <td>2017</td>\n",
       "      <td>713/QĐ-ĐHCNTT</td>\n",
       "      <td>2017-10-06</td>\n",
       "    </tr>\n",
       "    <tr>\n",
       "      <th>94</th>\n",
       "      <td>6CDA0ED7XPvAibaEXe+BHZkA9XgGXSS4BHzShGje</td>\n",
       "      <td>3</td>\n",
       "      <td>1</td>\n",
       "      <td>2017</td>\n",
       "      <td>713/QĐ-ĐHCNTT</td>\n",
       "      <td>2017-10-06</td>\n",
       "    </tr>\n",
       "    <tr>\n",
       "      <th>95</th>\n",
       "      <td>EDD0F071XPvAibaEXe+BHZkA9XgGXcEipjLDOZCD</td>\n",
       "      <td>3</td>\n",
       "      <td>1</td>\n",
       "      <td>2017</td>\n",
       "      <td>713/QĐ-ĐHCNTT</td>\n",
       "      <td>2017-10-06</td>\n",
       "    </tr>\n",
       "    <tr>\n",
       "      <th>96</th>\n",
       "      <td>FFE9E452XPvAibaEXe+6MN9FoW2mqXtx1lMTF9+D</td>\n",
       "      <td>3</td>\n",
       "      <td>1</td>\n",
       "      <td>2017</td>\n",
       "      <td>713/QĐ-ĐHCNTT</td>\n",
       "      <td>2017-10-06</td>\n",
       "    </tr>\n",
       "    <tr>\n",
       "      <th>97</th>\n",
       "      <td>ACC4D198XPvAibaEXe+5oCRQPDKXspsKZR6r2Sfg</td>\n",
       "      <td>3</td>\n",
       "      <td>1</td>\n",
       "      <td>2017</td>\n",
       "      <td>713/QĐ-ĐHCNTT</td>\n",
       "      <td>2017-10-06</td>\n",
       "    </tr>\n",
       "  </tbody>\n",
       "</table>\n",
       "</div>"
      ],
      "text/plain": [
       "                                        mssv tinh_trang hoc_ky nam_hoc   \n",
       "44  FFE9E452XPvAibaEXe+6MN9FoW2mqXtx1lMTF9+D          3      1    2017  \\\n",
       "45  6CDA0ED7XPvAibaEXe+BHZkA9XgGXSS4BHzShGje          3      1    2017   \n",
       "46  EDD0F071XPvAibaEXe+BHZkA9XgGXcEipjLDOZCD          3      1    2017   \n",
       "47  ACC4D198XPvAibaEXe+5oCRQPDKXspsKZR6r2Sfg          3      1    2017   \n",
       "94  6CDA0ED7XPvAibaEXe+BHZkA9XgGXSS4BHzShGje          3      1    2017   \n",
       "95  EDD0F071XPvAibaEXe+BHZkA9XgGXcEipjLDOZCD          3      1    2017   \n",
       "96  FFE9E452XPvAibaEXe+6MN9FoW2mqXtx1lMTF9+D          3      1    2017   \n",
       "97  ACC4D198XPvAibaEXe+5oCRQPDKXspsKZR6r2Sfg          3      1    2017   \n",
       "\n",
       "    so_quyet_dinh ngay_quyet_dinh  \n",
       "44  713/QĐ-ĐHCNTT      2017-10-06  \n",
       "45  713/QĐ-ĐHCNTT      2017-10-06  \n",
       "46  713/QĐ-ĐHCNTT      2017-10-06  \n",
       "47  713/QĐ-ĐHCNTT      2017-10-06  \n",
       "94  713/QĐ-ĐHCNTT      2017-10-06  \n",
       "95  713/QĐ-ĐHCNTT      2017-10-06  \n",
       "96  713/QĐ-ĐHCNTT      2017-10-06  \n",
       "97  713/QĐ-ĐHCNTT      2017-10-06  "
      ]
     },
     "execution_count": 98,
     "metadata": {},
     "output_type": "execute_result"
    }
   ],
   "source": [
    "new_df[new_df[primary_key].duplicated(keep=False)]"
   ]
  },
  {
   "cell_type": "code",
   "execution_count": 99,
   "metadata": {},
   "outputs": [],
   "source": [
    "new_df.drop_duplicates(inplace=True)"
   ]
  },
  {
   "cell_type": "code",
   "execution_count": 100,
   "metadata": {},
   "outputs": [
    {
     "data": {
      "text/plain": [
       "0"
      ]
     },
     "execution_count": 100,
     "metadata": {},
     "output_type": "execute_result"
    }
   ],
   "source": [
    "new_df[primary_key].duplicated().sum()"
   ]
  },
  {
   "cell_type": "code",
   "execution_count": 101,
   "metadata": {},
   "outputs": [
    {
     "data": {
      "text/plain": [
       "0"
      ]
     },
     "execution_count": 101,
     "metadata": {},
     "output_type": "execute_result"
    }
   ],
   "source": [
    "(new_df.nam_hoc.astype('int64') > new_df.ngay_quyet_dinh.dt.year).sum()"
   ]
  },
  {
   "attachments": {},
   "cell_type": "markdown",
   "metadata": {},
   "source": [
    "# Final Check and Save"
   ]
  },
  {
   "cell_type": "code",
   "execution_count": 102,
   "metadata": {},
   "outputs": [
    {
     "data": {
      "text/html": [
       "<div>\n",
       "<style scoped>\n",
       "    .dataframe tbody tr th:only-of-type {\n",
       "        vertical-align: middle;\n",
       "    }\n",
       "\n",
       "    .dataframe tbody tr th {\n",
       "        vertical-align: top;\n",
       "    }\n",
       "\n",
       "    .dataframe thead th {\n",
       "        text-align: right;\n",
       "    }\n",
       "</style>\n",
       "<table border=\"1\" class=\"dataframe\">\n",
       "  <thead>\n",
       "    <tr style=\"text-align: right;\">\n",
       "      <th></th>\n",
       "      <th>mssv</th>\n",
       "      <th>tinh_trang</th>\n",
       "      <th>hoc_ky</th>\n",
       "      <th>nam_hoc</th>\n",
       "      <th>so_quyet_dinh</th>\n",
       "      <th>ngay_quyet_dinh</th>\n",
       "    </tr>\n",
       "  </thead>\n",
       "  <tbody>\n",
       "  </tbody>\n",
       "</table>\n",
       "</div>"
      ],
      "text/plain": [
       "Empty DataFrame\n",
       "Columns: [mssv, tinh_trang, hoc_ky, nam_hoc, so_quyet_dinh, ngay_quyet_dinh]\n",
       "Index: []"
      ]
     },
     "execution_count": 102,
     "metadata": {},
     "output_type": "execute_result"
    }
   ],
   "source": [
    "new_df[new_df.isnull().any(axis=1)]"
   ]
  },
  {
   "cell_type": "code",
   "execution_count": 103,
   "metadata": {},
   "outputs": [
    {
     "data": {
      "text/plain": [
       "0"
      ]
     },
     "execution_count": 103,
     "metadata": {},
     "output_type": "execute_result"
    }
   ],
   "source": [
    "new_df[primary_key].duplicated().sum()"
   ]
  },
  {
   "cell_type": "code",
   "execution_count": 104,
   "metadata": {},
   "outputs": [
    {
     "name": "stdout",
     "output_type": "stream",
     "text": [
      "<class 'pandas.core.frame.DataFrame'>\n",
      "Index: 1874 entries, 0 to 1879\n",
      "Data columns (total 6 columns):\n",
      " #   Column           Non-Null Count  Dtype         \n",
      "---  ------           --------------  -----         \n",
      " 0   mssv             1874 non-null   category      \n",
      " 1   tinh_trang       1874 non-null   category      \n",
      " 2   hoc_ky           1874 non-null   category      \n",
      " 3   nam_hoc          1874 non-null   category      \n",
      " 4   so_quyet_dinh    1874 non-null   category      \n",
      " 5   ngay_quyet_dinh  1874 non-null   datetime64[ns]\n",
      "dtypes: category(5), datetime64[ns](1)\n",
      "memory usage: 121.0 KB\n"
     ]
    }
   ],
   "source": [
    "new_df.info()"
   ]
  },
  {
   "cell_type": "code",
   "execution_count": 105,
   "metadata": {},
   "outputs": [
    {
     "data": {
      "text/html": [
       "<div>\n",
       "<style scoped>\n",
       "    .dataframe tbody tr th:only-of-type {\n",
       "        vertical-align: middle;\n",
       "    }\n",
       "\n",
       "    .dataframe tbody tr th {\n",
       "        vertical-align: top;\n",
       "    }\n",
       "\n",
       "    .dataframe thead th {\n",
       "        text-align: right;\n",
       "    }\n",
       "</style>\n",
       "<table border=\"1\" class=\"dataframe\">\n",
       "  <thead>\n",
       "    <tr style=\"text-align: right;\">\n",
       "      <th></th>\n",
       "      <th>mssv</th>\n",
       "      <th>tinh_trang</th>\n",
       "      <th>hoc_ky</th>\n",
       "      <th>nam_hoc</th>\n",
       "      <th>so_quyet_dinh</th>\n",
       "      <th>ngay_quyet_dinh</th>\n",
       "    </tr>\n",
       "  </thead>\n",
       "  <tbody>\n",
       "    <tr>\n",
       "      <th>1098</th>\n",
       "      <td>1106FA33XPvAibaEXe9YXJ3+ew7OHKsvWp1ooUPy</td>\n",
       "      <td>3</td>\n",
       "      <td>2</td>\n",
       "      <td>2019</td>\n",
       "      <td>214/QĐ-ĐHCNTT</td>\n",
       "      <td>2020-05-18</td>\n",
       "    </tr>\n",
       "    <tr>\n",
       "      <th>1440</th>\n",
       "      <td>FADAFB89XPvAibaEXe88tz7NL7l/gvG6t/E6GXcF</td>\n",
       "      <td>3</td>\n",
       "      <td>1</td>\n",
       "      <td>2020</td>\n",
       "      <td>777/QĐ-ĐHCNTT</td>\n",
       "      <td>2020-11-12</td>\n",
       "    </tr>\n",
       "    <tr>\n",
       "      <th>186</th>\n",
       "      <td>9D61C40EXPvAibaEXe+TFgEDwYNnvTf7BJNA2L5v</td>\n",
       "      <td>3</td>\n",
       "      <td>2</td>\n",
       "      <td>2017</td>\n",
       "      <td>222/QĐ-ĐHCNTT</td>\n",
       "      <td>2018-04-10</td>\n",
       "    </tr>\n",
       "    <tr>\n",
       "      <th>893</th>\n",
       "      <td>FC927255XPvAibaEXe9iOtseai5jcudBZ3L3DRRv</td>\n",
       "      <td>3</td>\n",
       "      <td>1</td>\n",
       "      <td>2019</td>\n",
       "      <td>675/QĐ-ĐHCNTT</td>\n",
       "      <td>2019-10-11</td>\n",
       "    </tr>\n",
       "    <tr>\n",
       "      <th>886</th>\n",
       "      <td>D396F33FXPvAibaEXe+k2gCw0RZzlacMv04fDVkq</td>\n",
       "      <td>3</td>\n",
       "      <td>1</td>\n",
       "      <td>2019</td>\n",
       "      <td>675/QĐ-ĐHCNTT</td>\n",
       "      <td>2019-10-11</td>\n",
       "    </tr>\n",
       "  </tbody>\n",
       "</table>\n",
       "</div>"
      ],
      "text/plain": [
       "                                          mssv tinh_trang hoc_ky nam_hoc   \n",
       "1098  1106FA33XPvAibaEXe9YXJ3+ew7OHKsvWp1ooUPy          3      2    2019  \\\n",
       "1440  FADAFB89XPvAibaEXe88tz7NL7l/gvG6t/E6GXcF          3      1    2020   \n",
       "186   9D61C40EXPvAibaEXe+TFgEDwYNnvTf7BJNA2L5v          3      2    2017   \n",
       "893   FC927255XPvAibaEXe9iOtseai5jcudBZ3L3DRRv          3      1    2019   \n",
       "886   D396F33FXPvAibaEXe+k2gCw0RZzlacMv04fDVkq          3      1    2019   \n",
       "\n",
       "      so_quyet_dinh ngay_quyet_dinh  \n",
       "1098  214/QĐ-ĐHCNTT      2020-05-18  \n",
       "1440  777/QĐ-ĐHCNTT      2020-11-12  \n",
       "186   222/QĐ-ĐHCNTT      2018-04-10  \n",
       "893   675/QĐ-ĐHCNTT      2019-10-11  \n",
       "886   675/QĐ-ĐHCNTT      2019-10-11  "
      ]
     },
     "execution_count": 105,
     "metadata": {},
     "output_type": "execute_result"
    }
   ],
   "source": [
    "new_df.sample(5)"
   ]
  },
  {
   "cell_type": "code",
   "execution_count": 106,
   "metadata": {},
   "outputs": [
    {
     "name": "stdout",
     "output_type": "stream",
     "text": [
      "<class 'pandas.core.frame.DataFrame'>\n",
      "RangeIndex: 1874 entries, 0 to 1873\n",
      "Data columns (total 6 columns):\n",
      " #   Column           Non-Null Count  Dtype         \n",
      "---  ------           --------------  -----         \n",
      " 0   mssv             1874 non-null   category      \n",
      " 1   tinh_trang       1874 non-null   category      \n",
      " 2   hoc_ky           1874 non-null   category      \n",
      " 3   nam_hoc          1874 non-null   category      \n",
      " 4   so_quyet_dinh    1874 non-null   category      \n",
      " 5   ngay_quyet_dinh  1874 non-null   datetime64[ns]\n",
      "dtypes: category(5), datetime64[ns](1)\n",
      "memory usage: 106.5 KB\n"
     ]
    }
   ],
   "source": [
    "clean_data_folder = Path(\"../../clean_data\")\n",
    "new_df.to_parquet(clean_data_folder/f\"{data_stem}.parquet\", index=False)\n",
    "haha = pd.read_parquet(clean_data_folder/f\"{data_stem}.parquet\")\n",
    "haha.info()"
   ]
  },
  {
   "cell_type": "code",
   "execution_count": 107,
   "metadata": {},
   "outputs": [
    {
     "data": {
      "text/html": [
       "<div>\n",
       "<style scoped>\n",
       "    .dataframe tbody tr th:only-of-type {\n",
       "        vertical-align: middle;\n",
       "    }\n",
       "\n",
       "    .dataframe tbody tr th {\n",
       "        vertical-align: top;\n",
       "    }\n",
       "\n",
       "    .dataframe thead th {\n",
       "        text-align: right;\n",
       "    }\n",
       "</style>\n",
       "<table border=\"1\" class=\"dataframe\">\n",
       "  <thead>\n",
       "    <tr style=\"text-align: right;\">\n",
       "      <th></th>\n",
       "      <th>mssv</th>\n",
       "      <th>tinh_trang</th>\n",
       "      <th>hoc_ky</th>\n",
       "      <th>nam_hoc</th>\n",
       "      <th>so_quyet_dinh</th>\n",
       "      <th>ngay_quyet_dinh</th>\n",
       "    </tr>\n",
       "  </thead>\n",
       "  <tbody>\n",
       "    <tr>\n",
       "      <th>1202</th>\n",
       "      <td>9B498412XPvAibaEXe/XOPUzjjLegJ07OJR+rTz/</td>\n",
       "      <td>3</td>\n",
       "      <td>1</td>\n",
       "      <td>2020</td>\n",
       "      <td>542/QĐ-ĐHCNTT</td>\n",
       "      <td>2020-08-31</td>\n",
       "    </tr>\n",
       "    <tr>\n",
       "      <th>72</th>\n",
       "      <td>6BB4FBF8XPvAibaEXe/XBbLEWRhgQYrCodpVCa+j</td>\n",
       "      <td>3</td>\n",
       "      <td>1</td>\n",
       "      <td>2017</td>\n",
       "      <td>713/QĐ-ĐHCNTT</td>\n",
       "      <td>2017-10-06</td>\n",
       "    </tr>\n",
       "    <tr>\n",
       "      <th>1220</th>\n",
       "      <td>B03D2622XPvAibaEXe/nRR7q+hWy3B7LsqApcm/p</td>\n",
       "      <td>3</td>\n",
       "      <td>1</td>\n",
       "      <td>2020</td>\n",
       "      <td>542/QĐ-ĐHCNTT</td>\n",
       "      <td>2020-08-31</td>\n",
       "    </tr>\n",
       "    <tr>\n",
       "      <th>3</th>\n",
       "      <td>C307F053XPvAibaEXe+nZBq3b0XEhX8PABYu6iV1</td>\n",
       "      <td>3</td>\n",
       "      <td>1</td>\n",
       "      <td>2017</td>\n",
       "      <td>713/QĐ-ĐHCNTT</td>\n",
       "      <td>2017-10-06</td>\n",
       "    </tr>\n",
       "    <tr>\n",
       "      <th>517</th>\n",
       "      <td>3694E5E6XPvAibaEXe9HXpb1PepyFV6dAscob+FU</td>\n",
       "      <td>3</td>\n",
       "      <td>2</td>\n",
       "      <td>2018</td>\n",
       "      <td>204/QĐ-ĐHCNTT</td>\n",
       "      <td>2019-04-12</td>\n",
       "    </tr>\n",
       "    <tr>\n",
       "      <th>976</th>\n",
       "      <td>663059EDXPvAibaEXe81w9eVvyp+lwee1dbVEnHw</td>\n",
       "      <td>3</td>\n",
       "      <td>1</td>\n",
       "      <td>2019</td>\n",
       "      <td>811/QĐ-ĐHCNTT</td>\n",
       "      <td>2019-11-22</td>\n",
       "    </tr>\n",
       "    <tr>\n",
       "      <th>599</th>\n",
       "      <td>E5E4FE41XPvAibaEXe+uQMKXqrwYdirU0LUrWWkQ</td>\n",
       "      <td>3</td>\n",
       "      <td>2</td>\n",
       "      <td>2018</td>\n",
       "      <td>204/QĐ-ĐHCNTT</td>\n",
       "      <td>2019-04-12</td>\n",
       "    </tr>\n",
       "    <tr>\n",
       "      <th>1018</th>\n",
       "      <td>16272517XPvAibaEXe/twRH8x8eyg2tiyMsTM1XC</td>\n",
       "      <td>3</td>\n",
       "      <td>1</td>\n",
       "      <td>2019</td>\n",
       "      <td>960/QĐ-ĐHCNTT</td>\n",
       "      <td>2019-12-31</td>\n",
       "    </tr>\n",
       "    <tr>\n",
       "      <th>964</th>\n",
       "      <td>396D7784XPvAibaEXe+TQJLvJOj4BcG6LAOxINL3</td>\n",
       "      <td>3</td>\n",
       "      <td>1</td>\n",
       "      <td>2019</td>\n",
       "      <td>761/QĐ-ĐHCNTT</td>\n",
       "      <td>2019-11-05</td>\n",
       "    </tr>\n",
       "    <tr>\n",
       "      <th>1070</th>\n",
       "      <td>6C377858XPvAibaEXe+YGniCiyMp0zgviDn2PyE6</td>\n",
       "      <td>3</td>\n",
       "      <td>2</td>\n",
       "      <td>2019</td>\n",
       "      <td>214/QĐ-ĐHCNTT</td>\n",
       "      <td>2020-05-18</td>\n",
       "    </tr>\n",
       "  </tbody>\n",
       "</table>\n",
       "</div>"
      ],
      "text/plain": [
       "                                          mssv tinh_trang hoc_ky nam_hoc   \n",
       "1202  9B498412XPvAibaEXe/XOPUzjjLegJ07OJR+rTz/          3      1    2020  \\\n",
       "72    6BB4FBF8XPvAibaEXe/XBbLEWRhgQYrCodpVCa+j          3      1    2017   \n",
       "1220  B03D2622XPvAibaEXe/nRR7q+hWy3B7LsqApcm/p          3      1    2020   \n",
       "3     C307F053XPvAibaEXe+nZBq3b0XEhX8PABYu6iV1          3      1    2017   \n",
       "517   3694E5E6XPvAibaEXe9HXpb1PepyFV6dAscob+FU          3      2    2018   \n",
       "976   663059EDXPvAibaEXe81w9eVvyp+lwee1dbVEnHw          3      1    2019   \n",
       "599   E5E4FE41XPvAibaEXe+uQMKXqrwYdirU0LUrWWkQ          3      2    2018   \n",
       "1018  16272517XPvAibaEXe/twRH8x8eyg2tiyMsTM1XC          3      1    2019   \n",
       "964   396D7784XPvAibaEXe+TQJLvJOj4BcG6LAOxINL3          3      1    2019   \n",
       "1070  6C377858XPvAibaEXe+YGniCiyMp0zgviDn2PyE6          3      2    2019   \n",
       "\n",
       "      so_quyet_dinh ngay_quyet_dinh  \n",
       "1202  542/QĐ-ĐHCNTT      2020-08-31  \n",
       "72    713/QĐ-ĐHCNTT      2017-10-06  \n",
       "1220  542/QĐ-ĐHCNTT      2020-08-31  \n",
       "3     713/QĐ-ĐHCNTT      2017-10-06  \n",
       "517   204/QĐ-ĐHCNTT      2019-04-12  \n",
       "976   811/QĐ-ĐHCNTT      2019-11-22  \n",
       "599   204/QĐ-ĐHCNTT      2019-04-12  \n",
       "1018  960/QĐ-ĐHCNTT      2019-12-31  \n",
       "964   761/QĐ-ĐHCNTT      2019-11-05  \n",
       "1070  214/QĐ-ĐHCNTT      2020-05-18  "
      ]
     },
     "execution_count": 107,
     "metadata": {},
     "output_type": "execute_result"
    }
   ],
   "source": [
    "haha.sample(10)"
   ]
  },
  {
   "cell_type": "code",
   "execution_count": 108,
   "metadata": {},
   "outputs": [
    {
     "data": {
      "text/plain": [
       "['12.baoluu.parquet',\n",
       " 'diem_Thu.parquet',\n",
       " 'sinhvien_dtb_toankhoa.parquet',\n",
       " 'uit_hocphi_miengiam.parquet',\n",
       " 'diemrl.parquet',\n",
       " 'sinhvien_dtb_hocky.parquet',\n",
       " 'desktop.ini',\n",
       " '14.totnghiep.parquet',\n",
       " '1.sinhvien.xlsx',\n",
       " '2.diem.xlsx',\n",
       " '3.sinhvien_chungchi.xlsx',\n",
       " '4.xeploaiav.xlsx',\n",
       " '5.Thisinh.xlsx',\n",
       " '6.giayxacnhan.xlsx',\n",
       " '8.XLHV.xlsx',\n",
       " '10.diemrl.xlsx',\n",
       " 'enriched_dtb_hk.parquet',\n",
       " 'desktop.ini']"
      ]
     },
     "execution_count": 108,
     "metadata": {},
     "output_type": "execute_result"
    }
   ],
   "source": [
    "os.listdir(clean_data_folder)"
   ]
  }
 ],
 "metadata": {
  "kernelspec": {
   "display_name": "general_cpython",
   "language": "python",
   "name": "python3"
  },
  "language_info": {
   "codemirror_mode": {
    "name": "ipython",
    "version": 3
   },
   "file_extension": ".py",
   "mimetype": "text/x-python",
   "name": "python",
   "nbconvert_exporter": "python",
   "pygments_lexer": "ipython3",
   "version": "3.8.16"
  },
  "orig_nbformat": 4
 },
 "nbformat": 4,
 "nbformat_minor": 2
}
