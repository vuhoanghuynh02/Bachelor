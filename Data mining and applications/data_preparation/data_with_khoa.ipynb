{
 "cells": [
  {
   "cell_type": "code",
   "execution_count": 1,
   "metadata": {},
   "outputs": [],
   "source": [
    "from pathlib import Path\n",
    "import os\n",
    "import pandas as pd"
   ]
  },
  {
   "cell_type": "code",
   "execution_count": 2,
   "metadata": {},
   "outputs": [
    {
     "data": {
      "text/plain": [
       "['12.baoluu.parquet',\n",
       " 'diem_Thu.parquet',\n",
       " 'sinhvien_dtb_toankhoa.parquet',\n",
       " 'uit_hocphi_miengiam.parquet',\n",
       " 'diemrl.parquet',\n",
       " 'sinhvien_dtb_hocky.parquet',\n",
       " 'desktop.ini',\n",
       " '14.totnghiep.parquet',\n",
       " '1.sinhvien.xlsx',\n",
       " '2.diem.xlsx',\n",
       " '3.sinhvien_chungchi.xlsx',\n",
       " '4.xeploaiav.xlsx',\n",
       " '5.Thisinh.xlsx',\n",
       " '6.giayxacnhan.xlsx',\n",
       " '8.XLHV.xlsx',\n",
       " '10.diemrl.xlsx',\n",
       " 'enriched_dtb_hk.parquet',\n",
       " '14.totnghiep.xlsx',\n",
       " '12.baoluu.xlsx',\n",
       " 'diemrl.xlsx',\n",
       " 'diem_Thu.xlsx',\n",
       " 'sinhvien_dtb_toankhoa.xlsx',\n",
       " 'uit_hocphi_miengiam.xlsx',\n",
       " 'sinhvien_dtb_hocky.xlsx',\n",
       " 'enriched_dtb_hk.xlsx',\n",
       " 'data_with_khoa.parquet',\n",
       " 'desktop.ini']"
      ]
     },
     "execution_count": 2,
     "metadata": {},
     "output_type": "execute_result"
    }
   ],
   "source": [
    "clean_data_folder = Path('../../clean_data')\n",
    "os.listdir(clean_data_folder)"
   ]
  },
  {
   "cell_type": "code",
   "execution_count": 3,
   "metadata": {},
   "outputs": [],
   "source": [
    "drl_10_df = pd.read_excel(clean_data_folder/'10.diemrl.xlsx')\n",
    "sv_df = pd.read_excel(clean_data_folder/'1.sinhvien.xlsx')\n",
    "drl_df = pd.read_parquet(clean_data_folder/'diemrl.parquet')"
   ]
  },
  {
   "cell_type": "code",
   "execution_count": 4,
   "metadata": {},
   "outputs": [
    {
     "data": {
      "text/plain": [
       "mssv\n",
       "40.0    54001\n",
       "Name: count, dtype: int64"
      ]
     },
     "execution_count": 4,
     "metadata": {},
     "output_type": "execute_result"
    }
   ],
   "source": [
    "drl_10_df.mssv.str.len().value_counts()"
   ]
  },
  {
   "cell_type": "code",
   "execution_count": 5,
   "metadata": {},
   "outputs": [
    {
     "data": {
      "text/plain": [
       "mssv\n",
       "40    8295\n",
       "Name: count, dtype: int64"
      ]
     },
     "execution_count": 5,
     "metadata": {},
     "output_type": "execute_result"
    }
   ],
   "source": [
    "sv_df.mssv.str.len().value_counts()"
   ]
  },
  {
   "cell_type": "code",
   "execution_count": 6,
   "metadata": {},
   "outputs": [
    {
     "data": {
      "text/plain": [
       "mssv\n",
       "40    111978\n",
       "Name: count, dtype: int64"
      ]
     },
     "execution_count": 6,
     "metadata": {},
     "output_type": "execute_result"
    }
   ],
   "source": [
    "drl_df.mssv.str.len().value_counts()"
   ]
  },
  {
   "cell_type": "code",
   "execution_count": 7,
   "metadata": {},
   "outputs": [
    {
     "name": "stdout",
     "output_type": "stream",
     "text": [
      "<class 'pandas.core.frame.DataFrame'>\n",
      "RangeIndex: 54057 entries, 0 to 54056\n",
      "Data columns (total 7 columns):\n",
      " #   Column      Non-Null Count  Dtype \n",
      "---  ------      --------------  ----- \n",
      " 0   Unnamed: 0  54057 non-null  int64 \n",
      " 1   mssv        54057 non-null  object\n",
      " 2   lopsh       54057 non-null  object\n",
      " 3   hocky       54057 non-null  int64 \n",
      " 4   namhoc      54057 non-null  int64 \n",
      " 5   drl         54057 non-null  int64 \n",
      " 6   ghichu      19519 non-null  object\n",
      "dtypes: int64(4), object(3)\n",
      "memory usage: 2.9+ MB\n"
     ]
    }
   ],
   "source": [
    "drl_10_df.info()"
   ]
  },
  {
   "cell_type": "code",
   "execution_count": 8,
   "metadata": {},
   "outputs": [
    {
     "name": "stdout",
     "output_type": "stream",
     "text": [
      "<class 'pandas.core.frame.DataFrame'>\n",
      "RangeIndex: 8295 entries, 0 to 8294\n",
      "Data columns (total 12 columns):\n",
      " #   Column         Non-Null Count  Dtype \n",
      "---  ------         --------------  ----- \n",
      " 0   Unnamed: 0     8295 non-null   int64 \n",
      " 1   mssv           8295 non-null   object\n",
      " 2   namsinh        8295 non-null   int64 \n",
      " 3   gioitinh       8295 non-null   int64 \n",
      " 4   noisinh        8284 non-null   object\n",
      " 5   lopsh          8295 non-null   object\n",
      " 6   khoa           8295 non-null   object\n",
      " 7   hedt           8295 non-null   object\n",
      " 8   khoahoc        8295 non-null   int64 \n",
      " 9   chuyennganh2   8295 non-null   object\n",
      " 10  tinhtrang      8295 non-null   int64 \n",
      " 11  diachi_tinhtp  8295 non-null   object\n",
      "dtypes: int64(5), object(7)\n",
      "memory usage: 777.8+ KB\n"
     ]
    }
   ],
   "source": [
    "sv_df.info()"
   ]
  },
  {
   "cell_type": "code",
   "execution_count": 9,
   "metadata": {},
   "outputs": [
    {
     "name": "stdout",
     "output_type": "stream",
     "text": [
      "<class 'pandas.core.frame.DataFrame'>\n",
      "RangeIndex: 111978 entries, 0 to 111977\n",
      "Data columns (total 6 columns):\n",
      " #   Column         Non-Null Count   Dtype   \n",
      "---  ------         --------------   -----   \n",
      " 0   mssv           111978 non-null  category\n",
      " 1   lop_sh         111978 non-null  category\n",
      " 2   hoc_ky         111978 non-null  category\n",
      " 3   nam_hoc        111978 non-null  category\n",
      " 4   drl            111978 non-null  int16   \n",
      " 5   lop_sh_cu_the  111978 non-null  category\n",
      "dtypes: category(5), int16(1)\n",
      "memory usage: 1.7 MB\n"
     ]
    }
   ],
   "source": [
    "drl_df.info()"
   ]
  },
  {
   "cell_type": "code",
   "execution_count": 10,
   "metadata": {},
   "outputs": [],
   "source": [
    "drl_10_df = drl_10_df[['mssv', 'lopsh']]\n",
    "sv_df = sv_df[['mssv', 'lopsh', 'khoa']]\n",
    "drl_df = drl_df[['mssv', 'lop_sh']]\n",
    "drl_df.columns = ['mssv', 'lopsh']"
   ]
  },
  {
   "attachments": {},
   "cell_type": "markdown",
   "metadata": {},
   "source": [
    "# merge drl_10, sv, drl"
   ]
  },
  {
   "cell_type": "code",
   "execution_count": 11,
   "metadata": {},
   "outputs": [
    {
     "name": "stdout",
     "output_type": "stream",
     "text": [
      "<class 'pandas.core.frame.DataFrame'>\n",
      "RangeIndex: 169227 entries, 0 to 169226\n",
      "Data columns (total 3 columns):\n",
      " #   Column  Non-Null Count   Dtype \n",
      "---  ------  --------------   ----- \n",
      " 0   mssv    169227 non-null  object\n",
      " 1   lopsh   169227 non-null  object\n",
      " 2   khoa    25029 non-null   object\n",
      "dtypes: object(3)\n",
      "memory usage: 3.9+ MB\n"
     ]
    }
   ],
   "source": [
    "new_df = pd.merge(drl_10_df, drl_df, how='outer')\n",
    "new_df = pd.merge(new_df, sv_df, how='outer')\n",
    "new_df.info()"
   ]
  },
  {
   "cell_type": "code",
   "execution_count": 12,
   "metadata": {},
   "outputs": [
    {
     "data": {
      "text/plain": [
       "khoa\n",
       "NaN        144198\n",
       " MMT&TT      6084\n",
       " HTTT        5160\n",
       " KHMT        3814\n",
       " CNPM        3723\n",
       " KTTT        3410\n",
       " KTMT        2838\n",
       "Name: count, dtype: int64"
      ]
     },
     "execution_count": 12,
     "metadata": {},
     "output_type": "execute_result"
    }
   ],
   "source": [
    "new_df.khoa.value_counts(dropna=False)"
   ]
  },
  {
   "cell_type": "code",
   "execution_count": 13,
   "metadata": {},
   "outputs": [
    {
     "data": {
      "text/plain": [
       "lopsh\n",
       "NULL           10528\n",
       "CNPM04          1644\n",
       "MMT04           1608\n",
       "KTPM0001        1516\n",
       "HTTT0001        1448\n",
       "               ...  \n",
       " KHCl2019.3        1\n",
       "CNCL2021.2         1\n",
       " KHCl2019          1\n",
       " TMCL2020          1\n",
       "AEPP01             1\n",
       "Name: count, Length: 429, dtype: int64"
      ]
     },
     "execution_count": 13,
     "metadata": {},
     "output_type": "execute_result"
    }
   ],
   "source": [
    "new_df.lopsh.value_counts(dropna=False)"
   ]
  },
  {
   "cell_type": "code",
   "execution_count": 14,
   "metadata": {},
   "outputs": [],
   "source": [
    "new_df.khoa = new_df.khoa.str.strip().str.lower()\n",
    "new_df.lopsh = new_df.lopsh.str.strip().str.lower()"
   ]
  },
  {
   "cell_type": "code",
   "execution_count": 15,
   "metadata": {},
   "outputs": [],
   "source": [
    "new_df.drop_duplicates(inplace=True)"
   ]
  },
  {
   "cell_type": "code",
   "execution_count": 16,
   "metadata": {},
   "outputs": [],
   "source": [
    "new_df.dropna(how=\"all\", inplace=True)"
   ]
  },
  {
   "cell_type": "code",
   "execution_count": 17,
   "metadata": {},
   "outputs": [
    {
     "data": {
      "text/plain": [
       "8226"
      ]
     },
     "execution_count": 17,
     "metadata": {},
     "output_type": "execute_result"
    }
   ],
   "source": [
    "(new_df[['mssv', 'khoa']].drop_duplicates().mssv.value_counts() > 1).sum()"
   ]
  },
  {
   "cell_type": "code",
   "execution_count": 18,
   "metadata": {},
   "outputs": [
    {
     "data": {
      "text/plain": [
       "8814"
      ]
     },
     "execution_count": 18,
     "metadata": {},
     "output_type": "execute_result"
    }
   ],
   "source": [
    "(new_df[['mssv', 'lopsh']].drop_duplicates().mssv.value_counts() > 1).sum()"
   ]
  },
  {
   "cell_type": "code",
   "execution_count": 19,
   "metadata": {},
   "outputs": [
    {
     "name": "stdout",
     "output_type": "stream",
     "text": [
      "<class 'pandas.core.frame.DataFrame'>\n",
      "Index: 36458 entries, 0 to 169226\n",
      "Data columns (total 3 columns):\n",
      " #   Column  Non-Null Count  Dtype \n",
      "---  ------  --------------  ----- \n",
      " 0   mssv    36458 non-null  object\n",
      " 1   lopsh   36457 non-null  object\n",
      " 2   khoa    8295 non-null   object\n",
      "dtypes: object(3)\n",
      "memory usage: 1.1+ MB\n"
     ]
    }
   ],
   "source": [
    "new_df.info()"
   ]
  },
  {
   "attachments": {},
   "cell_type": "markdown",
   "metadata": {},
   "source": [
    "# lopsh"
   ]
  },
  {
   "cell_type": "code",
   "execution_count": 20,
   "metadata": {},
   "outputs": [
    {
     "name": "stdout",
     "output_type": "stream",
     "text": [
      "|     | lopsh      |   count |\n",
      "|----:|:-----------|--------:|\n",
      "|   0 | null       |    4280 |\n",
      "|   1 | ktpm0001   |    1291 |\n",
      "|   2 | httt0001   |    1240 |\n",
      "|   3 | mmtt0001   |    1187 |\n",
      "|   4 |            |     963 |\n",
      "|   5 | ktmt0001   |     799 |\n",
      "|   6 | khmt0001   |     653 |\n",
      "|   7 | cntt0001   |     539 |\n",
      "|   8 | cnpm04     |     304 |\n",
      "|   9 | mmt04      |     297 |\n",
      "|  10 | cntt2018   |     288 |\n",
      "|  11 | mmtt2013   |     267 |\n",
      "|  12 | httt04     |     263 |\n",
      "|  13 | khmt2013   |     259 |\n",
      "|  14 | cntt2019   |     247 |\n",
      "|  15 | khmt2019   |     239 |\n",
      "|  16 | ktpm2013   |     236 |\n",
      "|  17 | ktpm2022   |     234 |\n",
      "|  18 | khmt2022   |     227 |\n",
      "|  19 | mmtt2014   |     227 |\n",
      "|  20 | ktmt04     |     226 |\n",
      "|  21 | cntt2017   |     210 |\n",
      "|  22 | ktpm2019   |     209 |\n",
      "|  23 | httt2017   |     204 |\n",
      "|  24 | httt2014   |     202 |\n",
      "|  25 | ktpm2012   |     198 |\n",
      "|  26 | ktmt2014   |     193 |\n",
      "|  27 | ktpm2014   |     191 |\n",
      "|  28 | mmtt2022   |     190 |\n",
      "|  29 | mmtt2012   |     189 |\n",
      "|  30 | khmt2014   |     188 |\n",
      "|  31 | httt2019   |     186 |\n",
      "|  32 | ktpm2018   |     184 |\n",
      "|  33 | khmt04     |     178 |\n",
      "|  34 | mmtt2017   |     166 |\n",
      "|  35 | ktmt2019   |     166 |\n",
      "|  36 | httt2022   |     166 |\n",
      "|  37 | mmtt2019   |     166 |\n",
      "|  38 | ktmt2013   |     162 |\n",
      "|  39 | khmt2016   |     162 |\n",
      "|  40 | khmt2015   |     162 |\n",
      "|  41 | khmt2018   |     161 |\n",
      "|  42 | mmtt2016   |     160 |\n",
      "|  43 | mmtt2015   |     160 |\n",
      "|  44 | ktmt2022   |     159 |\n",
      "|  45 | ktpm2017   |     159 |\n",
      "|  46 | cnpm03     |     155 |\n",
      "|  47 | httt2013   |     155 |\n",
      "|  48 | tmđt2018   |     153 |\n",
      "|  49 | mmt06      |     149 |\n",
      "|  50 | tmđt2017   |     146 |\n",
      "|  51 | pmcl2017   |     144 |\n",
      "|  52 | httt2015   |     144 |\n",
      "|  53 | attt2022   |     141 |\n",
      "|  54 | cncl2020   |     140 |\n",
      "|  55 | khcl2021   |     140 |\n",
      "|  56 | mmtt2018   |     138 |\n",
      "|  57 | httt2018   |     134 |\n",
      "|  58 | pmcl2019   |     134 |\n",
      "|  59 | khcl2019   |     133 |\n",
      "|  60 | cntt2016   |     132 |\n",
      "|  61 | cntt2015   |     131 |\n",
      "|  62 | ktmt2018   |     131 |\n",
      "|  63 | attt2018   |     130 |\n",
      "|  64 | cncl2021   |     130 |\n",
      "|  65 | ktmt2017   |     129 |\n",
      "|  66 | khcl2020   |     128 |\n",
      "|  67 | cnpm06     |     127 |\n",
      "|  68 | mmt05      |     127 |\n",
      "|  69 | pmcl2016   |     126 |\n",
      "|  70 | attt2017   |     126 |\n",
      "|  71 | mmtt2011   |     126 |\n",
      "|  72 | cncl2019   |     125 |\n",
      "|  73 | khmt06     |     125 |\n",
      "|  74 | pmcl2015   |     125 |\n",
      "|  75 | cnnb2022   |     124 |\n",
      "|  76 | cntt2014   |     124 |\n",
      "|  77 | khdl2019   |     123 |\n",
      "|  78 | khcl2018   |     123 |\n",
      "|  79 | pmcl2020   |     122 |\n",
      "|  80 | ktmt2016   |     122 |\n",
      "|  81 | attt2019   |     122 |\n",
      "|  82 | pmcl2021   |     121 |\n",
      "|  83 | ktmt06     |     120 |\n",
      "|  84 | httt05     |     120 |\n",
      "|  85 | ktmt03     |     118 |\n",
      "|  86 | cntt2013   |     118 |\n",
      "|  87 | khmt2012   |     117 |\n",
      "|  88 | cnpm05     |     117 |\n",
      "|  89 | httt06     |     117 |\n",
      "|  90 | ktmt05     |     117 |\n",
      "|  91 | mtcl2020   |     116 |\n",
      "|  92 | khdl2018   |     116 |\n",
      "|  93 | ktpm2015   |     115 |\n",
      "|  94 | httt2012   |     115 |\n",
      "|  95 | mmt03      |     114 |\n",
      "|  96 | cntt2021   |     111 |\n",
      "|  97 | mtcl2021   |     110 |\n",
      "|  98 | mtcl2018   |     109 |\n",
      "|  99 | htcl2020   |     109 |\n",
      "| 100 | httt2011   |     108 |\n",
      "| 101 | mtcl2019   |     108 |\n",
      "| 102 | ktpm2021   |     106 |\n",
      "| 103 | ktpm2011   |     106 |\n",
      "| 104 | mmcl2021   |     105 |\n",
      "| 105 | ktmt2012   |     104 |\n",
      "| 106 | cttt2018   |     104 |\n",
      "| 107 | cntt2022   |     103 |\n",
      "| 108 | httt2010   |     102 |\n",
      "| 109 | ktpm2020   |     102 |\n",
      "| 110 | mmcl2019   |     100 |\n",
      "| 111 | atcl2017   |      99 |\n",
      "| 112 | tmđt2019   |      99 |\n",
      "| 113 | mmtt2021   |      98 |\n",
      "| 114 | ktpm2010   |      98 |\n",
      "| 115 | attt2016   |      98 |\n",
      "| 116 | pmcl2018   |      97 |\n",
      "| 117 | mmtt2010   |      96 |\n",
      "| 118 | attt2015   |      95 |\n",
      "| 119 | tmđt2022   |      95 |\n",
      "| 120 | antt2014   |      95 |\n",
      "| 121 | khmt05     |      95 |\n",
      "| 122 | khmt2017   |      94 |\n",
      "| 123 | atcl2020   |      94 |\n",
      "| 124 | mmcl2020   |      94 |\n",
      "| 125 | khmt2011   |      93 |\n",
      "| 126 | htcl2021   |      93 |\n",
      "| 127 | ktpm2016   |      91 |\n",
      "| 128 | atcl2021   |      91 |\n",
      "| 129 | httt2021   |      89 |\n",
      "| 130 | httt2016   |      89 |\n",
      "| 131 | cntt2020   |      88 |\n",
      "| 132 | htcl2015   |      88 |\n",
      "| 133 | ktmt2010   |      88 |\n",
      "| 134 | ktmt2015   |      87 |\n",
      "| 135 | atcl2019   |      87 |\n",
      "| 136 | tmcl2019   |      86 |\n",
      "| 137 | antt2015   |      84 |\n",
      "| 138 | khtn2013   |      83 |\n",
      "| 139 | attt2020   |      82 |\n",
      "| 140 | htcl2019   |      82 |\n",
      "| 141 | mtcl2015   |      81 |\n",
      "| 142 | ktmt2011   |      81 |\n",
      "| 143 | tmcl2021   |      80 |\n",
      "| 144 | mtcl2017   |      79 |\n",
      "| 145 | httt2020   |      79 |\n",
      "| 146 | cncl2018   |      79 |\n",
      "| 147 | antn2013   |      78 |\n",
      "| 148 | khdl2020   |      77 |\n",
      "| 149 | htcl2017   |      77 |\n",
      "| 150 | mmtt2020   |      76 |\n",
      "| 151 | mmcl2018   |      75 |\n",
      "| 152 | htcl2018   |      75 |\n",
      "| 153 | tmđt2016   |      74 |\n",
      "| 154 | khmt2021   |      74 |\n",
      "| 155 | cttt2019.2 |      74 |\n",
      "| 156 | ktmt2021   |      73 |\n",
      "| 157 | antt2016   |      72 |\n",
      "| 158 | htcl2016   |      72 |\n",
      "| 159 | khmt2020   |      72 |\n",
      "| 160 | cttt2019.1 |      72 |\n",
      "| 161 | cttt2019   |      72 |\n",
      "| 162 | tmđt2015   |      71 |\n",
      "| 163 | httt03     |      69 |\n",
      "| 164 | mmcl2017   |      68 |\n",
      "| 165 | cttt2021   |      68 |\n",
      "| 166 | attt2021   |      68 |\n",
      "| 167 | atcl2018   |      68 |\n",
      "| 168 | pmcl2014   |      67 |\n",
      "| 169 | cttt2017   |      67 |\n",
      "| 170 | attn2019   |      66 |\n",
      "| 171 | khtn2015   |      65 |\n",
      "| 172 | mtcl2016   |      64 |\n",
      "| 173 | antn2014   |      64 |\n",
      "| 174 | cttt2015   |      64 |\n",
      "| 175 | khdl2021   |      64 |\n",
      "| 176 | cttt2022   |      63 |\n",
      "| 177 | khmt2010   |      63 |\n",
      "| 178 | tmđt2021   |      63 |\n",
      "| 179 | khtn2019   |      62 |\n",
      "| 180 | tmđt2014   |      61 |\n",
      "| 181 | antt2013   |      60 |\n",
      "| 182 | cntn04     |      60 |\n",
      "| 183 | mtcl2014   |      60 |\n",
      "| 184 | tmcl2020   |      60 |\n",
      "| 185 | khtn2018   |      60 |\n",
      "| 186 | khtn2014   |      59 |\n",
      "| 187 | cttt2020   |      59 |\n",
      "| 188 | khtn2016   |      59 |\n",
      "| 189 | attn2018   |      59 |\n",
      "| 190 | khtn2017   |      56 |\n",
      "| 191 | khdl2022   |      55 |\n",
      "| 192 | attn2017   |      55 |\n",
      "| 193 | khcl2017   |      54 |\n",
      "| 194 | tmđt2020   |      54 |\n",
      "| 195 | tmđt2013   |      54 |\n",
      "| 196 | ktmt2020   |      53 |\n",
      "| 197 | khmt03     |      52 |\n",
      "| 198 | attn2016   |      52 |\n",
      "| 199 | pmcl2018.1 |      50 |\n",
      "| 200 | pmcl2017.1 |      49 |\n",
      "| 201 | pmcl2017.3 |      49 |\n",
      "| 202 | mmcl2019.1 |      48 |\n",
      "| 203 | mmcl2019.2 |      48 |\n",
      "| 204 | pmcl2018.2 |      47 |\n",
      "| 205 | attn2015   |      47 |\n",
      "| 206 | pmcl2017.2 |      47 |\n",
      "| 207 | pmcl2019.2 |      46 |\n",
      "| 208 | khcl2019.3 |      46 |\n",
      "| 209 | pmcl2019.3 |      46 |\n",
      "| 210 | pmcl2019.1 |      45 |\n",
      "| 211 | mtio2021   |      45 |\n",
      "| 212 | khcl2019.2 |      45 |\n",
      "| 213 | cnt22013   |      44 |\n",
      "| 214 | antn2015   |      43 |\n",
      "| 215 | atcl2019.2 |      43 |\n",
      "| 216 | cncl2019.2 |      43 |\n",
      "| 217 | cncl2019.3 |      42 |\n",
      "| 218 | pmcl2013   |      42 |\n",
      "| 219 | khcl2018.1 |      42 |\n",
      "| 220 | khcl2018.2 |      42 |\n",
      "| 221 | atcl2019.1 |      41 |\n",
      "| 222 | cncl2019.1 |      41 |\n",
      "| 223 | cttt2016   |      41 |\n",
      "| 224 | htcl2019.1 |      40 |\n",
      "| 225 | khcl2019.1 |      40 |\n",
      "| 226 | mtio2022   |      40 |\n",
      "| 227 | cncl2018.1 |      40 |\n",
      "| 228 | htcl2017.1 |      39 |\n",
      "| 229 | khcl2018.3 |      39 |\n",
      "| 230 | cncl2018.2 |      39 |\n",
      "| 231 | tmcl2019.2 |      39 |\n",
      "| 232 | htcl2019.2 |      39 |\n",
      "| 233 | tmcl2019.1 |      38 |\n",
      "| 234 | htcl2018.1 |      38 |\n",
      "| 235 | htcl2017.2 |      38 |\n",
      "| 236 | mmcl2018.1 |      37 |\n",
      "| 237 | htcl2018.2 |      37 |\n",
      "| 238 | mmcl2018.2 |      37 |\n",
      "| 239 | cttt2014   |      36 |\n",
      "| 240 | mtcl2019.1 |      36 |\n",
      "| 241 | mtcl2018.1 |      36 |\n",
      "| 242 | aep02      |      36 |\n",
      "| 243 | cttt2013   |      36 |\n",
      "| 244 | mtcl2019.3 |      36 |\n",
      "| 245 | atcl2018.1 |      34 |\n",
      "| 246 | mtcl2017.1 |      34 |\n",
      "| 247 | mtcl2018.2 |      34 |\n",
      "| 248 | mtcl2017.2 |      34 |\n",
      "| 249 | antn2016   |      33 |\n",
      "| 250 | khnt2020   |      33 |\n",
      "| 251 | mtio2020   |      33 |\n",
      "| 252 | atcl2018.2 |      33 |\n",
      "| 253 | khnt2021   |      32 |\n",
      "| 254 | mtcl2019.2 |      32 |\n",
      "| 255 | mtcl2018.3 |      32 |\n",
      "| 256 | attn2021   |      31 |\n",
      "| 257 | cntn03     |      30 |\n",
      "| 258 | attn2020   |      30 |\n",
      "| 259 | khtn2022   |      30 |\n",
      "| 260 | khtn2012   |      30 |\n",
      "| 261 | attn2022   |      30 |\n",
      "| 262 | khtn2021   |      30 |\n",
      "| 263 | antn2012   |      28 |\n",
      "| 264 | khtn2010   |      28 |\n",
      "| 265 | khtn2020   |      28 |\n",
      "| 266 | htcl2014   |      28 |\n",
      "| 267 | khnt2022   |      27 |\n",
      "| 268 | khcl2017.2 |      26 |\n",
      "| 269 | khcl2017.1 |      25 |\n",
      "| 270 | mtlk2015   |      24 |\n",
      "| 271 | khmt2016.1 |      24 |\n",
      "| 272 | khbc2019   |      23 |\n",
      "| 273 | khtn2011   |      23 |\n",
      "| 274 | cttt2012   |      22 |\n",
      "| 275 | khmt2016.2 |      21 |\n",
      "| 276 | aep04      |      19 |\n",
      "| 277 | mtcl2013   |      19 |\n",
      "| 278 | aep03      |      19 |\n",
      "| 279 | cttt2010   |      18 |\n",
      "| 280 | pmcl2015.1 |      18 |\n",
      "| 281 | cttt2011   |      17 |\n",
      "| 282 | mtcl2016.1 |      16 |\n",
      "| 283 | pmcl2016.1 |      14 |\n",
      "| 284 | pmcl2015.2 |      14 |\n",
      "| 285 | pmcl2016.3 |      13 |\n",
      "| 286 | htcl2016.1 |      13 |\n",
      "| 287 | pmcl2014.2 |      13 |\n",
      "| 288 | mtcl2015.1 |      12 |\n",
      "| 289 | pmcl2014.1 |      11 |\n",
      "| 290 | mtcl2015.2 |      11 |\n",
      "| 291 | htcl2016.2 |      10 |\n",
      "| 292 | pmcl2016.2 |      10 |\n",
      "| 293 | mtlk2018   |      10 |\n",
      "| 294 | pmcl2015.3 |      10 |\n",
      "| 295 | mtcl2016.2 |       9 |\n",
      "| 296 | aep01      |       3 |\n",
      "| 297 | nan        |       1 |\n",
      "| 298 | cntn05     |       1 |\n",
      "| 299 | cncl2021.2 |       1 |\n",
      "| 300 | aepp01     |       1 |\n"
     ]
    }
   ],
   "source": [
    "print(new_df.lopsh.value_counts(dropna=False).reset_index().to_markdown())"
   ]
  },
  {
   "cell_type": "code",
   "execution_count": 21,
   "metadata": {},
   "outputs": [],
   "source": [
    "def lopsh_mapping(row):\n",
    "    if row.lopsh in ('0', '', 'null', 'nan'):\n",
    "        return None\n",
    "    if pd.notnull(row.lopsh):\n",
    "        row.lopsh = row.lopsh.split('.')[0]\n",
    "        i = -1\n",
    "        while row.lopsh[i].isdigit():\n",
    "            i -= 1\n",
    "        if i != -1:\n",
    "            row.lopsh = row.lopsh[:i+1]\n",
    "\n",
    "        return row.lopsh\n",
    "        \n",
    "new_df.lopsh = new_df.apply(lopsh_mapping, axis=1)"
   ]
  },
  {
   "cell_type": "code",
   "execution_count": 22,
   "metadata": {},
   "outputs": [
    {
     "name": "stdout",
     "output_type": "stream",
     "text": [
      "|    | lopsh   |   count |\n",
      "|---:|:--------|--------:|\n",
      "|  0 |         |    5244 |\n",
      "|  1 | httt    |    3582 |\n",
      "|  2 | ktpm    |    3320 |\n",
      "|  3 | mmtt    |    3246 |\n",
      "|  4 | khmt    |    3059 |\n",
      "|  5 | ktmt    |    2928 |\n",
      "|  6 | cntt    |    2091 |\n",
      "|  7 | pmcl    |    1460 |\n",
      "|  8 | mtcl    |    1068 |\n",
      "|  9 | khcl    |     883 |\n",
      "| 10 | htcl    |     878 |\n",
      "| 11 | tmđt    |     870 |\n",
      "| 12 | attt    |     862 |\n",
      "| 13 | cttt    |     813 |\n",
      "| 14 | cnpm    |     703 |\n",
      "| 15 | mmt     |     687 |\n",
      "| 16 | cncl    |     680 |\n",
      "| 17 | khtn    |     613 |\n",
      "| 18 | mmcl    |     612 |\n",
      "| 19 | atcl    |     590 |\n",
      "| 20 | khdl    |     435 |\n",
      "| 21 | attn    |     370 |\n",
      "| 22 | antt    |     311 |\n",
      "| 23 | tmcl    |     303 |\n",
      "| 24 | antn    |     246 |\n",
      "| 25 | cnnb    |     124 |\n",
      "| 26 | mtio    |     118 |\n",
      "| 27 | khnt    |      92 |\n",
      "| 28 | cntn    |      91 |\n",
      "| 29 | aep     |      77 |\n",
      "| 30 | cnt     |      44 |\n",
      "| 31 | mtlk    |      34 |\n",
      "| 32 | khbc    |      23 |\n",
      "| 33 | aepp    |       1 |\n"
     ]
    }
   ],
   "source": [
    "print(new_df.lopsh.value_counts(dropna=False).reset_index().to_markdown())"
   ]
  },
  {
   "cell_type": "code",
   "execution_count": 23,
   "metadata": {},
   "outputs": [],
   "source": [
    "new_df.drop_duplicates(inplace=True)"
   ]
  },
  {
   "cell_type": "code",
   "execution_count": 24,
   "metadata": {},
   "outputs": [
    {
     "data": {
      "text/plain": [
       "mssv\n",
       "B6C44283XPvAibaEXe+Z64Gg7q108KvfKyblNA82    4\n",
       "5B83F489XPvAibaEXe/nzVfFzcfk2G6N165o8WeV    4\n",
       "5661EFDFXPvAibaEXe+98B3vqZGkWEGF/iJJf2HS    4\n",
       "A465B59BXPvAibaEXe99GOtI/HwJhTcVZiHi+eIc    4\n",
       "FE7E4CC2XPvAibaEXe8wMpKQnQ7j6Ih9R01KveHG    4\n",
       "                                           ..\n",
       "37E97C19XPvAibaEXe++R9hzjt1s71Xccrv/DP+b    1\n",
       "E94A83F8XPvAibaEXe9RV3kg6cpLDKSkuuD/wPM/    1\n",
       "2F5A8FBAXPvAibaEXe9RV3kg6cpLDB5OjYHTmhOk    1\n",
       "87101AC7XPvAibaEXe9DjwUQ+Cta8bqWf3Fj4I2a    1\n",
       "81BE3282XPvAibaEXe9nP2x7vQNdVaaOHJLE3RS8    1\n",
       "Name: count, Length: 18052, dtype: int64"
      ]
     },
     "execution_count": 24,
     "metadata": {},
     "output_type": "execute_result"
    }
   ],
   "source": [
    "new_df[['mssv', 'lopsh']].drop_duplicates().mssv.value_counts()"
   ]
  },
  {
   "cell_type": "code",
   "execution_count": 25,
   "metadata": {},
   "outputs": [
    {
     "data": {
      "text/plain": [
       "5866"
      ]
     },
     "execution_count": 25,
     "metadata": {},
     "output_type": "execute_result"
    }
   ],
   "source": [
    "(new_df[['mssv', 'lopsh']].drop_duplicates().mssv.value_counts() > 1).sum()"
   ]
  },
  {
   "attachments": {},
   "cell_type": "markdown",
   "metadata": {},
   "source": [
    "# khoa"
   ]
  },
  {
   "cell_type": "code",
   "execution_count": 26,
   "metadata": {},
   "outputs": [
    {
     "name": "stdout",
     "output_type": "stream",
     "text": [
      "<class 'pandas.core.frame.DataFrame'>\n",
      "Index: 32916 entries, 0 to 169226\n",
      "Data columns (total 3 columns):\n",
      " #   Column  Non-Null Count  Dtype \n",
      "---  ------  --------------  ----- \n",
      " 0   mssv    32916 non-null  object\n",
      " 1   lopsh   28635 non-null  object\n",
      " 2   khoa    8295 non-null   object\n",
      "dtypes: object(3)\n",
      "memory usage: 1.0+ MB\n"
     ]
    }
   ],
   "source": [
    "new_df.info()"
   ]
  },
  {
   "cell_type": "code",
   "execution_count": 27,
   "metadata": {},
   "outputs": [
    {
     "data": {
      "text/plain": [
       "lopsh\n",
       "antn    mmt&tt\n",
       "antt    mmt&tt\n",
       "cntt      kttt\n",
       "cttt      httt\n",
       "httt      httt\n",
       "khmt      khmt\n",
       "khtn      khmt\n",
       "ktmt      ktmt\n",
       "ktpm      cnpm\n",
       "mmtt    mmt&tt\n",
       "mtcl      ktmt\n",
       "pmcl      cnpm\n",
       "htcl      httt\n",
       "mtlk    mmt&tt\n",
       "cntt    mmt&tt\n",
       "tmđt      httt\n",
       "atcl    mmt&tt\n",
       "attn    mmt&tt\n",
       "attt    mmt&tt\n",
       "mmcl    mmt&tt\n",
       "khdl      kttt\n",
       "tmcl      httt\n",
       "khcl      khmt\n",
       "cncl      kttt\n",
       "Name: khoa, dtype: object"
      ]
     },
     "execution_count": 27,
     "metadata": {},
     "output_type": "execute_result"
    }
   ],
   "source": [
    "mapping_dict = new_df[['khoa', 'lopsh']].dropna(how=\"any\").drop_duplicates().set_index('lopsh')['khoa']\n",
    "mapping_dict"
   ]
  },
  {
   "cell_type": "code",
   "execution_count": 28,
   "metadata": {},
   "outputs": [],
   "source": [
    "new_df.loc[~new_df.lopsh.isin(mapping_dict.keys())] = None\n",
    "new_df.lopsh = new_df.lopsh.replace(mapping_dict).astype(\"category\")\n",
    "new_df.khoa.fillna(new_df.lopsh, inplace=True)"
   ]
  },
  {
   "cell_type": "code",
   "execution_count": 29,
   "metadata": {},
   "outputs": [
    {
     "data": {
      "text/plain": [
       "khoa\n",
       "mmt&tt    7016\n",
       "NaN       6241\n",
       "httt      5820\n",
       "cnpm      4351\n",
       "khmt      4118\n",
       "ktmt      3555\n",
       "kttt      1815\n",
       "Name: count, dtype: int64"
      ]
     },
     "execution_count": 29,
     "metadata": {},
     "output_type": "execute_result"
    }
   ],
   "source": [
    "new_df.khoa.value_counts(dropna=False)"
   ]
  },
  {
   "cell_type": "code",
   "execution_count": 30,
   "metadata": {},
   "outputs": [
    {
     "data": {
      "text/plain": [
       "1205"
      ]
     },
     "execution_count": 30,
     "metadata": {},
     "output_type": "execute_result"
    }
   ],
   "source": [
    "(new_df[['mssv', 'khoa']].drop_duplicates().mssv.value_counts() > 1).sum()"
   ]
  },
  {
   "attachments": {},
   "cell_type": "markdown",
   "metadata": {},
   "source": [
    "# drop"
   ]
  },
  {
   "cell_type": "code",
   "execution_count": 33,
   "metadata": {},
   "outputs": [],
   "source": [
    "new_df.drop(columns=['lopsh'], inplace=True)"
   ]
  },
  {
   "cell_type": "code",
   "execution_count": 34,
   "metadata": {},
   "outputs": [],
   "source": [
    "new_df.dropna(how=\"all\", inplace=True)\n",
    "new_df.drop_duplicates(inplace=True)"
   ]
  },
  {
   "cell_type": "code",
   "execution_count": 35,
   "metadata": {},
   "outputs": [
    {
     "name": "stdout",
     "output_type": "stream",
     "text": [
      "<class 'pandas.core.frame.DataFrame'>\n",
      "Index: 17158 entries, 0 to 169161\n",
      "Data columns (total 2 columns):\n",
      " #   Column  Non-Null Count  Dtype \n",
      "---  ------  --------------  ----- \n",
      " 0   mssv    17158 non-null  object\n",
      " 1   khoa    17158 non-null  object\n",
      "dtypes: object(2)\n",
      "memory usage: 402.1+ KB\n"
     ]
    }
   ],
   "source": [
    "new_df.info()"
   ]
  },
  {
   "cell_type": "code",
   "execution_count": 36,
   "metadata": {},
   "outputs": [
    {
     "data": {
      "text/plain": [
       "0"
      ]
     },
     "execution_count": 36,
     "metadata": {},
     "output_type": "execute_result"
    }
   ],
   "source": [
    "new_df.duplicated().sum()"
   ]
  },
  {
   "cell_type": "code",
   "execution_count": 37,
   "metadata": {},
   "outputs": [
    {
     "data": {
      "text/plain": [
       "0"
      ]
     },
     "execution_count": 37,
     "metadata": {},
     "output_type": "execute_result"
    }
   ],
   "source": [
    "new_df.isnull().any(axis=1).sum()"
   ]
  },
  {
   "cell_type": "code",
   "execution_count": 38,
   "metadata": {},
   "outputs": [
    {
     "data": {
      "text/plain": [
       "2423"
      ]
     },
     "execution_count": 38,
     "metadata": {},
     "output_type": "execute_result"
    }
   ],
   "source": [
    "mask = new_df.duplicated(subset=['mssv'], keep=False)\n",
    "mask.sum()"
   ]
  },
  {
   "cell_type": "code",
   "execution_count": 39,
   "metadata": {},
   "outputs": [],
   "source": [
    "new_df = new_df[~mask]"
   ]
  },
  {
   "cell_type": "code",
   "execution_count": 40,
   "metadata": {},
   "outputs": [
    {
     "name": "stdout",
     "output_type": "stream",
     "text": [
      "<class 'pandas.core.frame.DataFrame'>\n",
      "Index: 14735 entries, 2 to 169161\n",
      "Data columns (total 2 columns):\n",
      " #   Column  Non-Null Count  Dtype \n",
      "---  ------  --------------  ----- \n",
      " 0   mssv    14735 non-null  object\n",
      " 1   khoa    14735 non-null  object\n",
      "dtypes: object(2)\n",
      "memory usage: 345.4+ KB\n"
     ]
    }
   ],
   "source": [
    "new_df.info()"
   ]
  },
  {
   "attachments": {},
   "cell_type": "markdown",
   "metadata": {},
   "source": [
    "# merge with enrich_dtb_hk"
   ]
  },
  {
   "cell_type": "code",
   "execution_count": 41,
   "metadata": {},
   "outputs": [],
   "source": [
    "dtb_df = pd.read_parquet(clean_data_folder/'enriched_dtb_hk.parquet')"
   ]
  },
  {
   "cell_type": "code",
   "execution_count": 42,
   "metadata": {},
   "outputs": [
    {
     "name": "stdout",
     "output_type": "stream",
     "text": [
      "<class 'pandas.core.frame.DataFrame'>\n",
      "RangeIndex: 148406 entries, 0 to 148405\n",
      "Data columns (total 4 columns):\n",
      " #   Column   Non-Null Count   Dtype   \n",
      "---  ------   --------------   -----   \n",
      " 0   mssv     148406 non-null  category\n",
      " 1   hoc_ky   148406 non-null  category\n",
      " 2   nam_hoc  148406 non-null  category\n",
      " 3   dtb_hk   148140 non-null  float32 \n",
      "dtypes: category(3), float32(1)\n",
      "memory usage: 1.8 MB\n"
     ]
    }
   ],
   "source": [
    "dtb_df.info()"
   ]
  },
  {
   "cell_type": "code",
   "execution_count": 43,
   "metadata": {},
   "outputs": [],
   "source": [
    "dtb_df.dropna(how=\"any\", inplace=True)"
   ]
  },
  {
   "cell_type": "code",
   "execution_count": 44,
   "metadata": {},
   "outputs": [],
   "source": [
    "new_df = pd.merge(dtb_df, new_df, how=\"inner\")"
   ]
  },
  {
   "cell_type": "code",
   "execution_count": 45,
   "metadata": {},
   "outputs": [
    {
     "data": {
      "text/plain": [
       "0"
      ]
     },
     "execution_count": 45,
     "metadata": {},
     "output_type": "execute_result"
    }
   ],
   "source": [
    "new_df.duplicated().sum()"
   ]
  },
  {
   "cell_type": "code",
   "execution_count": 46,
   "metadata": {},
   "outputs": [
    {
     "name": "stdout",
     "output_type": "stream",
     "text": [
      "<class 'pandas.core.frame.DataFrame'>\n",
      "RangeIndex: 100804 entries, 0 to 100803\n",
      "Data columns (total 5 columns):\n",
      " #   Column   Non-Null Count   Dtype   \n",
      "---  ------   --------------   -----   \n",
      " 0   mssv     100804 non-null  object  \n",
      " 1   hoc_ky   100804 non-null  category\n",
      " 2   nam_hoc  100804 non-null  category\n",
      " 3   dtb_hk   100804 non-null  float32 \n",
      " 4   khoa     100804 non-null  object  \n",
      "dtypes: category(2), float32(1), object(2)\n",
      "memory usage: 2.1+ MB\n"
     ]
    }
   ],
   "source": [
    "new_df.info()"
   ]
  },
  {
   "attachments": {},
   "cell_type": "markdown",
   "metadata": {},
   "source": [
    "# data type"
   ]
  },
  {
   "cell_type": "code",
   "execution_count": 47,
   "metadata": {},
   "outputs": [],
   "source": [
    "new_df.mssv = new_df.mssv.astype(\"category\")\n",
    "new_df.khoa = new_df.khoa.astype(\"category\")\n",
    "new_df.hoc_ky = new_df.hoc_ky.astype(\"category\")\n",
    "new_df.nam_hoc = new_df.nam_hoc.astype(\"category\")\n",
    "new_df.dtb_hk = new_df.dtb_hk.astype(\"float32\")"
   ]
  },
  {
   "cell_type": "code",
   "execution_count": 48,
   "metadata": {},
   "outputs": [
    {
     "name": "stdout",
     "output_type": "stream",
     "text": [
      "<class 'pandas.core.frame.DataFrame'>\n",
      "RangeIndex: 100804 entries, 0 to 100803\n",
      "Data columns (total 5 columns):\n",
      " #   Column   Non-Null Count   Dtype   \n",
      "---  ------   --------------   -----   \n",
      " 0   mssv     100804 non-null  category\n",
      " 1   hoc_ky   100804 non-null  category\n",
      " 2   nam_hoc  100804 non-null  category\n",
      " 3   dtb_hk   100804 non-null  float32 \n",
      " 4   khoa     100804 non-null  category\n",
      "dtypes: category(4), float32(1)\n",
      "memory usage: 1.5 MB\n"
     ]
    }
   ],
   "source": [
    "new_df.info()"
   ]
  },
  {
   "attachments": {},
   "cell_type": "markdown",
   "metadata": {},
   "source": [
    "# save and final check"
   ]
  },
  {
   "cell_type": "code",
   "execution_count": 49,
   "metadata": {},
   "outputs": [],
   "source": [
    "new_df.to_parquet(clean_data_folder/\"data_with_khoa.parquet\", index=False)"
   ]
  },
  {
   "cell_type": "code",
   "execution_count": 50,
   "metadata": {},
   "outputs": [],
   "source": [
    "new_df = pd.read_parquet(clean_data_folder/\"data_with_khoa.parquet\")"
   ]
  },
  {
   "cell_type": "code",
   "execution_count": 51,
   "metadata": {},
   "outputs": [
    {
     "name": "stdout",
     "output_type": "stream",
     "text": [
      "<class 'pandas.core.frame.DataFrame'>\n",
      "RangeIndex: 100804 entries, 0 to 100803\n",
      "Data columns (total 5 columns):\n",
      " #   Column   Non-Null Count   Dtype   \n",
      "---  ------   --------------   -----   \n",
      " 0   mssv     100804 non-null  category\n",
      " 1   hoc_ky   100804 non-null  category\n",
      " 2   nam_hoc  100804 non-null  category\n",
      " 3   dtb_hk   100804 non-null  float32 \n",
      " 4   khoa     100804 non-null  category\n",
      "dtypes: category(4), float32(1)\n",
      "memory usage: 1.5 MB\n"
     ]
    }
   ],
   "source": [
    "new_df.info()"
   ]
  },
  {
   "cell_type": "code",
   "execution_count": 52,
   "metadata": {},
   "outputs": [
    {
     "data": {
      "text/plain": [
       "0"
      ]
     },
     "execution_count": 52,
     "metadata": {},
     "output_type": "execute_result"
    }
   ],
   "source": [
    "new_df.isnull().any().sum()"
   ]
  },
  {
   "cell_type": "code",
   "execution_count": 53,
   "metadata": {},
   "outputs": [
    {
     "data": {
      "text/plain": [
       "0"
      ]
     },
     "execution_count": 53,
     "metadata": {},
     "output_type": "execute_result"
    }
   ],
   "source": [
    "new_df.duplicated().sum()"
   ]
  },
  {
   "cell_type": "code",
   "execution_count": 54,
   "metadata": {},
   "outputs": [
    {
     "data": {
      "text/plain": [
       "0"
      ]
     },
     "execution_count": 54,
     "metadata": {},
     "output_type": "execute_result"
    }
   ],
   "source": [
    "(new_df[['mssv', 'khoa']].drop_duplicates().mssv.value_counts() > 1).sum()"
   ]
  },
  {
   "cell_type": "code",
   "execution_count": 55,
   "metadata": {},
   "outputs": [
    {
     "data": {
      "text/html": [
       "<div>\n",
       "<style scoped>\n",
       "    .dataframe tbody tr th:only-of-type {\n",
       "        vertical-align: middle;\n",
       "    }\n",
       "\n",
       "    .dataframe tbody tr th {\n",
       "        vertical-align: top;\n",
       "    }\n",
       "\n",
       "    .dataframe thead th {\n",
       "        text-align: right;\n",
       "    }\n",
       "</style>\n",
       "<table border=\"1\" class=\"dataframe\">\n",
       "  <thead>\n",
       "    <tr style=\"text-align: right;\">\n",
       "      <th></th>\n",
       "      <th>dtb_hk</th>\n",
       "    </tr>\n",
       "  </thead>\n",
       "  <tbody>\n",
       "    <tr>\n",
       "      <th>count</th>\n",
       "      <td>100804.000000</td>\n",
       "    </tr>\n",
       "    <tr>\n",
       "      <th>mean</th>\n",
       "      <td>6.500917</td>\n",
       "    </tr>\n",
       "    <tr>\n",
       "      <th>std</th>\n",
       "      <td>2.058199</td>\n",
       "    </tr>\n",
       "    <tr>\n",
       "      <th>min</th>\n",
       "      <td>0.000000</td>\n",
       "    </tr>\n",
       "    <tr>\n",
       "      <th>25%</th>\n",
       "      <td>5.700000</td>\n",
       "    </tr>\n",
       "    <tr>\n",
       "      <th>50%</th>\n",
       "      <td>7.000000</td>\n",
       "    </tr>\n",
       "    <tr>\n",
       "      <th>75%</th>\n",
       "      <td>7.931818</td>\n",
       "    </tr>\n",
       "    <tr>\n",
       "      <th>max</th>\n",
       "      <td>10.000000</td>\n",
       "    </tr>\n",
       "  </tbody>\n",
       "</table>\n",
       "</div>"
      ],
      "text/plain": [
       "              dtb_hk\n",
       "count  100804.000000\n",
       "mean        6.500917\n",
       "std         2.058199\n",
       "min         0.000000\n",
       "25%         5.700000\n",
       "50%         7.000000\n",
       "75%         7.931818\n",
       "max        10.000000"
      ]
     },
     "execution_count": 55,
     "metadata": {},
     "output_type": "execute_result"
    }
   ],
   "source": [
    "new_df.describe()"
   ]
  },
  {
   "cell_type": "code",
   "execution_count": 56,
   "metadata": {},
   "outputs": [
    {
     "data": {
      "text/plain": [
       "mssv\n",
       "611A9B40XPvAibaEXe9N1zCEN2FQqC4gAu9nCd8C    27\n",
       "5C17AB96XPvAibaEXe+s7fQX5t7T+lWzMsm/jUYl    26\n",
       "B02A7D33XPvAibaEXe8Yz5YviIhrt11OHzPrKUlM    25\n",
       "E2AD81E5XPvAibaEXe9OUQm81X+JMLUXioiV0Jrr    24\n",
       "7B3B09DFXPvAibaEXe+t2Ok7KpYWY9e1eYqthgdQ    23\n",
       "                                            ..\n",
       "D50653C4XPvAibaEXe87VvpJWUzbdTdxg7V6Abft     1\n",
       "D51E555CXPvAibaEXe9v6ULsv63kiZtcn9h/5Niv     1\n",
       "D52A4065XPvAibaEXe8HttSSNPsv4Q34yJa83ke0     1\n",
       "5375345DXPvAibaEXe+rkciJLhYkX1I1oyrrNVxK     1\n",
       "54F34466XPvAibaEXe91TSm2Uq+S2+ypPVWYT60U     1\n",
       "Name: count, Length: 14360, dtype: int64"
      ]
     },
     "execution_count": 56,
     "metadata": {},
     "output_type": "execute_result"
    }
   ],
   "source": [
    "new_df.mssv.value_counts(dropna=False)"
   ]
  },
  {
   "cell_type": "code",
   "execution_count": 57,
   "metadata": {},
   "outputs": [
    {
     "data": {
      "text/plain": [
       "khoa\n",
       "httt      23451\n",
       "mmt&tt    23110\n",
       "cnpm      18931\n",
       "khmt      16070\n",
       "ktmt      15972\n",
       "kttt       3270\n",
       "Name: count, dtype: int64"
      ]
     },
     "execution_count": 57,
     "metadata": {},
     "output_type": "execute_result"
    }
   ],
   "source": [
    "new_df.khoa.value_counts(dropna=False)"
   ]
  },
  {
   "cell_type": "code",
   "execution_count": 58,
   "metadata": {},
   "outputs": [
    {
     "data": {
      "text/plain": [
       "dtb_hk\n",
       "0.000000    2383\n",
       "8.000000     767\n",
       "7.000000     757\n",
       "7.500000     691\n",
       "8.500000     670\n",
       "            ... \n",
       "1.461111       1\n",
       "9.454545       1\n",
       "9.117647       1\n",
       "5.573914       1\n",
       "8.347619       1\n",
       "Name: count, Length: 16690, dtype: int64"
      ]
     },
     "execution_count": 58,
     "metadata": {},
     "output_type": "execute_result"
    }
   ],
   "source": [
    "new_df.dtb_hk.value_counts(dropna=False)"
   ]
  },
  {
   "cell_type": "code",
   "execution_count": 59,
   "metadata": {},
   "outputs": [
    {
     "data": {
      "text/plain": [
       "hoc_ky\n",
       "1    51193\n",
       "2    40536\n",
       "3     9075\n",
       "Name: count, dtype: int64"
      ]
     },
     "execution_count": 59,
     "metadata": {},
     "output_type": "execute_result"
    }
   ],
   "source": [
    "new_df.hoc_ky.value_counts(dropna=False)"
   ]
  },
  {
   "cell_type": "code",
   "execution_count": 60,
   "metadata": {},
   "outputs": [
    {
     "data": {
      "text/plain": [
       "nam_hoc\n",
       "2021    12243\n",
       "2020    10900\n",
       "2019     9370\n",
       "2018     8801\n",
       "2017     8133\n",
       "2016     8113\n",
       "2015     7909\n",
       "2014     7423\n",
       "2013     7033\n",
       "2022     6537\n",
       "2012     5664\n",
       "2011     4096\n",
       "2010     2682\n",
       "2009     1297\n",
       "2008      603\n",
       "2007        0\n",
       "2006        0\n",
       "Name: count, dtype: int64"
      ]
     },
     "execution_count": 60,
     "metadata": {},
     "output_type": "execute_result"
    }
   ],
   "source": [
    "new_df.nam_hoc.value_counts(dropna=False)"
   ]
  },
  {
   "cell_type": "code",
   "execution_count": 61,
   "metadata": {},
   "outputs": [
    {
     "data": {
      "text/html": [
       "<div>\n",
       "<style scoped>\n",
       "    .dataframe tbody tr th:only-of-type {\n",
       "        vertical-align: middle;\n",
       "    }\n",
       "\n",
       "    .dataframe tbody tr th {\n",
       "        vertical-align: top;\n",
       "    }\n",
       "\n",
       "    .dataframe thead th {\n",
       "        text-align: right;\n",
       "    }\n",
       "</style>\n",
       "<table border=\"1\" class=\"dataframe\">\n",
       "  <thead>\n",
       "    <tr style=\"text-align: right;\">\n",
       "      <th></th>\n",
       "      <th>mssv</th>\n",
       "      <th>hoc_ky</th>\n",
       "      <th>nam_hoc</th>\n",
       "      <th>dtb_hk</th>\n",
       "      <th>khoa</th>\n",
       "    </tr>\n",
       "  </thead>\n",
       "  <tbody>\n",
       "    <tr>\n",
       "      <th>55215</th>\n",
       "      <td>E87DBC25XPvAibaEXe8ygSRUk01nIFF65RxUyOiu</td>\n",
       "      <td>3</td>\n",
       "      <td>2013</td>\n",
       "      <td>6.100000</td>\n",
       "      <td>khmt</td>\n",
       "    </tr>\n",
       "    <tr>\n",
       "      <th>6052</th>\n",
       "      <td>F241EE3FXPvAibaEXe8VdV75E6kcriil11BUJAqX</td>\n",
       "      <td>1</td>\n",
       "      <td>2014</td>\n",
       "      <td>7.384615</td>\n",
       "      <td>httt</td>\n",
       "    </tr>\n",
       "    <tr>\n",
       "      <th>23686</th>\n",
       "      <td>4C9C40A6XPvAibaEXe92yZ7KcyiZXu3PzFXuikme</td>\n",
       "      <td>1</td>\n",
       "      <td>2020</td>\n",
       "      <td>7.347059</td>\n",
       "      <td>httt</td>\n",
       "    </tr>\n",
       "    <tr>\n",
       "      <th>65275</th>\n",
       "      <td>2DA9FD45XPvAibaEXe+dErJK2QKC6aYTIS0Fh08i</td>\n",
       "      <td>2</td>\n",
       "      <td>2021</td>\n",
       "      <td>5.271429</td>\n",
       "      <td>mmt&amp;tt</td>\n",
       "    </tr>\n",
       "    <tr>\n",
       "      <th>68430</th>\n",
       "      <td>404ED39AXPvAibaEXe8ONI/il9MI2wwysGWOoiBV</td>\n",
       "      <td>2</td>\n",
       "      <td>2018</td>\n",
       "      <td>4.150000</td>\n",
       "      <td>mmt&amp;tt</td>\n",
       "    </tr>\n",
       "    <tr>\n",
       "      <th>32366</th>\n",
       "      <td>15438364XPvAibaEXe940vcGUhedsI1uVYfjzF5y</td>\n",
       "      <td>2</td>\n",
       "      <td>2013</td>\n",
       "      <td>5.250000</td>\n",
       "      <td>httt</td>\n",
       "    </tr>\n",
       "    <tr>\n",
       "      <th>6404</th>\n",
       "      <td>68A9F6E0XPvAibaEXe+Wjq/eoSKNhSFFR3HqFJZ7</td>\n",
       "      <td>1</td>\n",
       "      <td>2016</td>\n",
       "      <td>1.185000</td>\n",
       "      <td>khmt</td>\n",
       "    </tr>\n",
       "    <tr>\n",
       "      <th>39520</th>\n",
       "      <td>5AD3BDD7XPvAibaEXe8VjSa+EGRlURqGeEMBV7zG</td>\n",
       "      <td>2</td>\n",
       "      <td>2013</td>\n",
       "      <td>5.750000</td>\n",
       "      <td>khmt</td>\n",
       "    </tr>\n",
       "    <tr>\n",
       "      <th>17538</th>\n",
       "      <td>C580DBB4XPvAibaEXe+/EkvXK98KbcY+Rl3c2lzC</td>\n",
       "      <td>2</td>\n",
       "      <td>2014</td>\n",
       "      <td>6.873334</td>\n",
       "      <td>mmt&amp;tt</td>\n",
       "    </tr>\n",
       "    <tr>\n",
       "      <th>18409</th>\n",
       "      <td>80546BD2XPvAibaEXe/X/wixypGyAiyd1XgFJhu3</td>\n",
       "      <td>3</td>\n",
       "      <td>2013</td>\n",
       "      <td>6.250000</td>\n",
       "      <td>khmt</td>\n",
       "    </tr>\n",
       "  </tbody>\n",
       "</table>\n",
       "</div>"
      ],
      "text/plain": [
       "                                           mssv hoc_ky nam_hoc    dtb_hk   \n",
       "55215  E87DBC25XPvAibaEXe8ygSRUk01nIFF65RxUyOiu      3    2013  6.100000  \\\n",
       "6052   F241EE3FXPvAibaEXe8VdV75E6kcriil11BUJAqX      1    2014  7.384615   \n",
       "23686  4C9C40A6XPvAibaEXe92yZ7KcyiZXu3PzFXuikme      1    2020  7.347059   \n",
       "65275  2DA9FD45XPvAibaEXe+dErJK2QKC6aYTIS0Fh08i      2    2021  5.271429   \n",
       "68430  404ED39AXPvAibaEXe8ONI/il9MI2wwysGWOoiBV      2    2018  4.150000   \n",
       "32366  15438364XPvAibaEXe940vcGUhedsI1uVYfjzF5y      2    2013  5.250000   \n",
       "6404   68A9F6E0XPvAibaEXe+Wjq/eoSKNhSFFR3HqFJZ7      1    2016  1.185000   \n",
       "39520  5AD3BDD7XPvAibaEXe8VjSa+EGRlURqGeEMBV7zG      2    2013  5.750000   \n",
       "17538  C580DBB4XPvAibaEXe+/EkvXK98KbcY+Rl3c2lzC      2    2014  6.873334   \n",
       "18409  80546BD2XPvAibaEXe/X/wixypGyAiyd1XgFJhu3      3    2013  6.250000   \n",
       "\n",
       "         khoa  \n",
       "55215    khmt  \n",
       "6052     httt  \n",
       "23686    httt  \n",
       "65275  mmt&tt  \n",
       "68430  mmt&tt  \n",
       "32366    httt  \n",
       "6404     khmt  \n",
       "39520    khmt  \n",
       "17538  mmt&tt  \n",
       "18409    khmt  "
      ]
     },
     "execution_count": 61,
     "metadata": {},
     "output_type": "execute_result"
    }
   ],
   "source": [
    "new_df.sample(10)"
   ]
  }
 ],
 "metadata": {
  "kernelspec": {
   "display_name": "general",
   "language": "python",
   "name": "python3"
  },
  "language_info": {
   "codemirror_mode": {
    "name": "ipython",
    "version": 3
   },
   "file_extension": ".py",
   "mimetype": "text/x-python",
   "name": "python",
   "nbconvert_exporter": "python",
   "pygments_lexer": "ipython3",
   "version": "3.8.16"
  },
  "orig_nbformat": 4
 },
 "nbformat": 4,
 "nbformat_minor": 2
}
