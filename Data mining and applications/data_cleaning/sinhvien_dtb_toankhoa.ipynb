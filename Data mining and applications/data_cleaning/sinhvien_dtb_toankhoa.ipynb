{
 "cells": [
  {
   "cell_type": "code",
   "execution_count": 1,
   "metadata": {},
   "outputs": [],
   "source": [
    "from pathlib import Path\n",
    "import os\n",
    "import pandas as pd\n",
    "import matplotlib.pyplot as plt\n",
    "import seaborn as sns"
   ]
  },
  {
   "cell_type": "code",
   "execution_count": 2,
   "metadata": {},
   "outputs": [
    {
     "data": {
      "text/plain": [
       "['sinhvien_dtb_hocky.xlsx',\n",
       " 'diem_Thu.xlsx',\n",
       " 'Education_dataset_V2.rar',\n",
       " 'sinhvien_dtb_toankhoa.xlsx',\n",
       " 'uit_hocphi_miengiam.xlsx',\n",
       " '12.baoluu.xlsx',\n",
       " '14.totnghiep.xlsx',\n",
       " 'diemrl.xlsx',\n",
       " '08.XLHV.xlsx',\n",
       " '05.ThiSinh.xlsx',\n",
       " '00.ghichu.txt',\n",
       " '03.sinhvien_chungchi.xlsx',\n",
       " '00_dhcntt-dtdh_19-01-2016_scan.pdf',\n",
       " '04.xeploaiav.xlsx',\n",
       " '10.diemrl.xlsx',\n",
       " '06.giayxacnhan.xlsx',\n",
       " '02.diem.xlsx',\n",
       " '01.sinhvien.xlsx',\n",
       " 'desktop.ini']"
      ]
     },
     "execution_count": 2,
     "metadata": {},
     "output_type": "execute_result"
    }
   ],
   "source": [
    "data_folder = Path(\"../../Education_dataset_V2\")\n",
    "os.listdir(data_folder)"
   ]
  },
  {
   "cell_type": "code",
   "execution_count": 3,
   "metadata": {},
   "outputs": [],
   "source": [
    "data_stem = 'sinhvien_dtb_toankhoa'\n",
    "old_df = pd.read_excel(data_folder/f\"{data_stem}.xlsx\")\n",
    "new_df = old_df.copy(deep = True)"
   ]
  },
  {
   "cell_type": "code",
   "execution_count": 4,
   "metadata": {},
   "outputs": [
    {
     "data": {
      "text/html": [
       "<div>\n",
       "<style scoped>\n",
       "    .dataframe tbody tr th:only-of-type {\n",
       "        vertical-align: middle;\n",
       "    }\n",
       "\n",
       "    .dataframe tbody tr th {\n",
       "        vertical-align: top;\n",
       "    }\n",
       "\n",
       "    .dataframe thead th {\n",
       "        text-align: right;\n",
       "    }\n",
       "</style>\n",
       "<table border=\"1\" class=\"dataframe\">\n",
       "  <thead>\n",
       "    <tr style=\"text-align: right;\">\n",
       "      <th></th>\n",
       "      <th>mssv</th>\n",
       "      <th>dtb_toankhoa</th>\n",
       "      <th>dtb_tichluy</th>\n",
       "      <th>sotc_tichluy</th>\n",
       "    </tr>\n",
       "  </thead>\n",
       "  <tbody>\n",
       "    <tr>\n",
       "      <th>4818</th>\n",
       "      <td>87AB1BF1XPvAibaEXe86krjHGvaiWxMmjETCt6JV</td>\n",
       "      <td>7.33</td>\n",
       "      <td>7.33</td>\n",
       "      <td>147.0</td>\n",
       "    </tr>\n",
       "    <tr>\n",
       "      <th>6684</th>\n",
       "      <td>1033CB0CXPvAibaEXe8BcBqSm3bVhnZ+dwRufBYc</td>\n",
       "      <td>8.42</td>\n",
       "      <td>8.42</td>\n",
       "      <td>120.0</td>\n",
       "    </tr>\n",
       "    <tr>\n",
       "      <th>13044</th>\n",
       "      <td>C6C9FDEFXPvAibaEXe/mlii9zXTIC2QM+reTL03d</td>\n",
       "      <td>5.66</td>\n",
       "      <td>6.44</td>\n",
       "      <td>22.0</td>\n",
       "    </tr>\n",
       "  </tbody>\n",
       "</table>\n",
       "</div>"
      ],
      "text/plain": [
       "                                           mssv  dtb_toankhoa  dtb_tichluy   \n",
       "4818   87AB1BF1XPvAibaEXe86krjHGvaiWxMmjETCt6JV          7.33         7.33  \\\n",
       "6684   1033CB0CXPvAibaEXe8BcBqSm3bVhnZ+dwRufBYc          8.42         8.42   \n",
       "13044  C6C9FDEFXPvAibaEXe/mlii9zXTIC2QM+reTL03d          5.66         6.44   \n",
       "\n",
       "       sotc_tichluy  \n",
       "4818          147.0  \n",
       "6684          120.0  \n",
       "13044          22.0  "
      ]
     },
     "execution_count": 4,
     "metadata": {},
     "output_type": "execute_result"
    }
   ],
   "source": [
    "new_df.sample(3)"
   ]
  },
  {
   "cell_type": "code",
   "execution_count": 5,
   "metadata": {},
   "outputs": [
    {
     "name": "stdout",
     "output_type": "stream",
     "text": [
      "<class 'pandas.core.frame.DataFrame'>\n",
      "RangeIndex: 13970 entries, 0 to 13969\n",
      "Data columns (total 4 columns):\n",
      " #   Column        Non-Null Count  Dtype  \n",
      "---  ------        --------------  -----  \n",
      " 0   mssv          13970 non-null  object \n",
      " 1   dtb_toankhoa  13648 non-null  float64\n",
      " 2   dtb_tichluy   13648 non-null  float64\n",
      " 3   sotc_tichluy  13648 non-null  float64\n",
      "dtypes: float64(3), object(1)\n",
      "memory usage: 436.7+ KB\n"
     ]
    }
   ],
   "source": [
    "new_df.info()"
   ]
  },
  {
   "cell_type": "code",
   "execution_count": 6,
   "metadata": {},
   "outputs": [],
   "source": [
    "old_primary_key = ['mssv']\n",
    "new_primary_key = ['mssv']"
   ]
  },
  {
   "cell_type": "code",
   "execution_count": 7,
   "metadata": {},
   "outputs": [
    {
     "data": {
      "text/plain": [
       "Index(['mssv', 'dtb_toankhoa', 'dtb_tichluy', 'sotc_tichluy'], dtype='object')"
      ]
     },
     "execution_count": 7,
     "metadata": {},
     "output_type": "execute_result"
    }
   ],
   "source": [
    "old_df.columns"
   ]
  },
  {
   "cell_type": "code",
   "execution_count": 8,
   "metadata": {},
   "outputs": [],
   "source": [
    "new_df.columns = ['mssv', 'dtb_toan_khoa', 'dtb_tich_luy', 'so_tc_tich_luy']"
   ]
  },
  {
   "cell_type": "code",
   "execution_count": 9,
   "metadata": {},
   "outputs": [
    {
     "data": {
      "text/html": [
       "<div>\n",
       "<style scoped>\n",
       "    .dataframe tbody tr th:only-of-type {\n",
       "        vertical-align: middle;\n",
       "    }\n",
       "\n",
       "    .dataframe tbody tr th {\n",
       "        vertical-align: top;\n",
       "    }\n",
       "\n",
       "    .dataframe thead th {\n",
       "        text-align: right;\n",
       "    }\n",
       "</style>\n",
       "<table border=\"1\" class=\"dataframe\">\n",
       "  <thead>\n",
       "    <tr style=\"text-align: right;\">\n",
       "      <th></th>\n",
       "      <th>dtb_toan_khoa</th>\n",
       "      <th>dtb_tich_luy</th>\n",
       "      <th>so_tc_tich_luy</th>\n",
       "    </tr>\n",
       "  </thead>\n",
       "  <tbody>\n",
       "    <tr>\n",
       "      <th>count</th>\n",
       "      <td>13648.000000</td>\n",
       "      <td>13648.000000</td>\n",
       "      <td>13648.000000</td>\n",
       "    </tr>\n",
       "    <tr>\n",
       "      <th>mean</th>\n",
       "      <td>6.916518</td>\n",
       "      <td>7.313278</td>\n",
       "      <td>94.115988</td>\n",
       "    </tr>\n",
       "    <tr>\n",
       "      <th>std</th>\n",
       "      <td>1.748020</td>\n",
       "      <td>1.396699</td>\n",
       "      <td>50.574767</td>\n",
       "    </tr>\n",
       "    <tr>\n",
       "      <th>min</th>\n",
       "      <td>0.000000</td>\n",
       "      <td>0.000000</td>\n",
       "      <td>0.000000</td>\n",
       "    </tr>\n",
       "    <tr>\n",
       "      <th>25%</th>\n",
       "      <td>6.550000</td>\n",
       "      <td>6.910000</td>\n",
       "      <td>50.000000</td>\n",
       "    </tr>\n",
       "    <tr>\n",
       "      <th>50%</th>\n",
       "      <td>7.370000</td>\n",
       "      <td>7.470000</td>\n",
       "      <td>104.000000</td>\n",
       "    </tr>\n",
       "    <tr>\n",
       "      <th>75%</th>\n",
       "      <td>8.010000</td>\n",
       "      <td>8.050000</td>\n",
       "      <td>141.000000</td>\n",
       "    </tr>\n",
       "    <tr>\n",
       "      <th>max</th>\n",
       "      <td>9.660000</td>\n",
       "      <td>9.660000</td>\n",
       "      <td>193.000000</td>\n",
       "    </tr>\n",
       "  </tbody>\n",
       "</table>\n",
       "</div>"
      ],
      "text/plain": [
       "       dtb_toan_khoa  dtb_tich_luy  so_tc_tich_luy\n",
       "count   13648.000000  13648.000000    13648.000000\n",
       "mean        6.916518      7.313278       94.115988\n",
       "std         1.748020      1.396699       50.574767\n",
       "min         0.000000      0.000000        0.000000\n",
       "25%         6.550000      6.910000       50.000000\n",
       "50%         7.370000      7.470000      104.000000\n",
       "75%         8.010000      8.050000      141.000000\n",
       "max         9.660000      9.660000      193.000000"
      ]
     },
     "execution_count": 9,
     "metadata": {},
     "output_type": "execute_result"
    }
   ],
   "source": [
    "new_df.describe()"
   ]
  },
  {
   "cell_type": "code",
   "execution_count": 10,
   "metadata": {},
   "outputs": [
    {
     "name": "stdout",
     "output_type": "stream",
     "text": [
      "Empty DataFrame\n",
      "Columns: [mssv, dtb_toan_khoa, dtb_tich_luy, so_tc_tich_luy]\n",
      "Index: []\n"
     ]
    }
   ],
   "source": [
    "for col in new_primary_key:\n",
    "    print(new_df[new_df[col].isnull()])"
   ]
  },
  {
   "cell_type": "code",
   "execution_count": 11,
   "metadata": {},
   "outputs": [
    {
     "data": {
      "text/plain": [
       "0"
      ]
     },
     "execution_count": 11,
     "metadata": {},
     "output_type": "execute_result"
    }
   ],
   "source": [
    "new_df.duplicated().sum()"
   ]
  },
  {
   "cell_type": "code",
   "execution_count": 12,
   "metadata": {},
   "outputs": [
    {
     "data": {
      "text/plain": [
       "0"
      ]
     },
     "execution_count": 12,
     "metadata": {},
     "output_type": "execute_result"
    }
   ],
   "source": [
    "new_df.duplicated(subset=new_primary_key).sum()"
   ]
  },
  {
   "attachments": {},
   "cell_type": "markdown",
   "metadata": {},
   "source": [
    "# mssv"
   ]
  },
  {
   "cell_type": "code",
   "execution_count": 13,
   "metadata": {},
   "outputs": [
    {
     "data": {
      "text/plain": [
       "Index(['mssv', 'dtb_toan_khoa', 'dtb_tich_luy', 'so_tc_tich_luy'], dtype='object')"
      ]
     },
     "execution_count": 13,
     "metadata": {},
     "output_type": "execute_result"
    }
   ],
   "source": [
    "new_df.columns"
   ]
  },
  {
   "cell_type": "code",
   "execution_count": 14,
   "metadata": {},
   "outputs": [
    {
     "data": {
      "text/plain": [
       "dtype('O')"
      ]
     },
     "execution_count": 14,
     "metadata": {},
     "output_type": "execute_result"
    }
   ],
   "source": [
    "new_df.mssv.dtype"
   ]
  },
  {
   "cell_type": "code",
   "execution_count": 15,
   "metadata": {},
   "outputs": [
    {
     "data": {
      "text/plain": [
       "mssv\n",
       "C410FEC4XPvAibaEXe/odi52as1TQ/z6UAtEIyTx    1\n",
       "9EAF0738XPvAibaEXe9fwZBwsCOuQEjnKDCrGOX1    1\n",
       "B2816B7BXPvAibaEXe/YKN5ysyYL7MS3vlfPnRU+    1\n",
       "F06A3C0FXPvAibaEXe+NmgQbVGcjJ7ZdQvWRioyl    1\n",
       "961AB4FAXPvAibaEXe//3t8+us0X0j9lAQyTb3ze    1\n",
       "                                           ..\n",
       "FDA9DEA1XPvAibaEXe+TQJLvJOj4Bbq7Gu36vTA9    1\n",
       "D42EA478XPvAibaEXe+TQJLvJOj4BU9+RAzl3JCG    1\n",
       "204D6AB9XPvAibaEXe9V1gtTDRnQFwJTG99TdLXu    1\n",
       "0A275EF0XPvAibaEXe9j81k8MH0oJ07F7M1SwTm7    1\n",
       "F3DA4B4EXPvAibaEXe/jswsdDHMZJUhPMDC53M8G    1\n",
       "Name: count, Length: 13970, dtype: int64"
      ]
     },
     "execution_count": 15,
     "metadata": {},
     "output_type": "execute_result"
    }
   ],
   "source": [
    "new_df.mssv.value_counts(dropna=False)"
   ]
  },
  {
   "cell_type": "code",
   "execution_count": 16,
   "metadata": {},
   "outputs": [
    {
     "data": {
      "text/plain": [
       "0"
      ]
     },
     "execution_count": 16,
     "metadata": {},
     "output_type": "execute_result"
    }
   ],
   "source": [
    "new_df.mssv.isnull().sum()"
   ]
  },
  {
   "cell_type": "code",
   "execution_count": 17,
   "metadata": {},
   "outputs": [],
   "source": [
    "new_df.mssv = new_df.mssv.str.strip()"
   ]
  },
  {
   "cell_type": "code",
   "execution_count": 18,
   "metadata": {},
   "outputs": [
    {
     "data": {
      "text/plain": [
       "mssv\n",
       "40    13970\n",
       "Name: count, dtype: int64"
      ]
     },
     "execution_count": 18,
     "metadata": {},
     "output_type": "execute_result"
    }
   ],
   "source": [
    "new_df.mssv.str.len().value_counts(dropna=False)"
   ]
  },
  {
   "attachments": {},
   "cell_type": "markdown",
   "metadata": {},
   "source": [
    "# dtb_toan_khoa"
   ]
  },
  {
   "cell_type": "code",
   "execution_count": 19,
   "metadata": {},
   "outputs": [
    {
     "data": {
      "text/plain": [
       "Index(['mssv', 'dtb_toan_khoa', 'dtb_tich_luy', 'so_tc_tich_luy'], dtype='object')"
      ]
     },
     "execution_count": 19,
     "metadata": {},
     "output_type": "execute_result"
    }
   ],
   "source": [
    "new_df.columns"
   ]
  },
  {
   "cell_type": "code",
   "execution_count": 20,
   "metadata": {},
   "outputs": [
    {
     "data": {
      "text/plain": [
       "dtype('float64')"
      ]
     },
     "execution_count": 20,
     "metadata": {},
     "output_type": "execute_result"
    }
   ],
   "source": [
    "new_df.dtb_toan_khoa.dtype"
   ]
  },
  {
   "cell_type": "code",
   "execution_count": 21,
   "metadata": {},
   "outputs": [
    {
     "data": {
      "text/plain": [
       "dtb_toan_khoa\n",
       "NaN     322\n",
       "0.00    143\n",
       "7.40     71\n",
       "7.75     69\n",
       "7.48     65\n",
       "       ... \n",
       "0.91      1\n",
       "0.48      1\n",
       "9.20      1\n",
       "2.75      1\n",
       "9.44      1\n",
       "Name: count, Length: 891, dtype: int64"
      ]
     },
     "execution_count": 21,
     "metadata": {},
     "output_type": "execute_result"
    }
   ],
   "source": [
    "new_df.dtb_toan_khoa.value_counts(dropna=False)"
   ]
  },
  {
   "cell_type": "code",
   "execution_count": 22,
   "metadata": {},
   "outputs": [
    {
     "data": {
      "text/plain": [
       "322"
      ]
     },
     "execution_count": 22,
     "metadata": {},
     "output_type": "execute_result"
    }
   ],
   "source": [
    "new_df.dtb_toan_khoa.isnull().sum()"
   ]
  },
  {
   "cell_type": "code",
   "execution_count": 23,
   "metadata": {},
   "outputs": [
    {
     "data": {
      "text/plain": [
       "count    13648.000000\n",
       "mean         6.916518\n",
       "std          1.748020\n",
       "min          0.000000\n",
       "25%          6.550000\n",
       "50%          7.370000\n",
       "75%          8.010000\n",
       "max          9.660000\n",
       "Name: dtb_toan_khoa, dtype: float64"
      ]
     },
     "execution_count": 23,
     "metadata": {},
     "output_type": "execute_result"
    }
   ],
   "source": [
    "new_df.dtb_toan_khoa.describe()"
   ]
  },
  {
   "attachments": {},
   "cell_type": "markdown",
   "metadata": {},
   "source": [
    "# dtb_tich_luy"
   ]
  },
  {
   "cell_type": "code",
   "execution_count": 24,
   "metadata": {},
   "outputs": [
    {
     "data": {
      "text/plain": [
       "Index(['mssv', 'dtb_toan_khoa', 'dtb_tich_luy', 'so_tc_tich_luy'], dtype='object')"
      ]
     },
     "execution_count": 24,
     "metadata": {},
     "output_type": "execute_result"
    }
   ],
   "source": [
    "new_df.columns"
   ]
  },
  {
   "cell_type": "code",
   "execution_count": 25,
   "metadata": {},
   "outputs": [
    {
     "data": {
      "text/plain": [
       "dtype('float64')"
      ]
     },
     "execution_count": 25,
     "metadata": {},
     "output_type": "execute_result"
    }
   ],
   "source": [
    "new_df.dtb_tich_luy.dtype"
   ]
  },
  {
   "cell_type": "code",
   "execution_count": 26,
   "metadata": {},
   "outputs": [
    {
     "data": {
      "text/plain": [
       "dtb_tich_luy\n",
       "0.00    348\n",
       "NaN     322\n",
       "7.35     80\n",
       "7.75     78\n",
       "7.48     77\n",
       "       ... \n",
       "9.58      1\n",
       "5.31      1\n",
       "5.10      1\n",
       "5.42      1\n",
       "5.29      1\n",
       "Name: count, Length: 419, dtype: int64"
      ]
     },
     "execution_count": 26,
     "metadata": {},
     "output_type": "execute_result"
    }
   ],
   "source": [
    "new_df.dtb_tich_luy.value_counts(dropna=False)"
   ]
  },
  {
   "cell_type": "code",
   "execution_count": 27,
   "metadata": {},
   "outputs": [
    {
     "data": {
      "text/plain": [
       "322"
      ]
     },
     "execution_count": 27,
     "metadata": {},
     "output_type": "execute_result"
    }
   ],
   "source": [
    "new_df.dtb_tich_luy.isnull().sum()"
   ]
  },
  {
   "cell_type": "code",
   "execution_count": 28,
   "metadata": {},
   "outputs": [
    {
     "data": {
      "text/plain": [
       "count    13648.000000\n",
       "mean         7.313278\n",
       "std          1.396699\n",
       "min          0.000000\n",
       "25%          6.910000\n",
       "50%          7.470000\n",
       "75%          8.050000\n",
       "max          9.660000\n",
       "Name: dtb_tich_luy, dtype: float64"
      ]
     },
     "execution_count": 28,
     "metadata": {},
     "output_type": "execute_result"
    }
   ],
   "source": [
    "new_df.dtb_tich_luy.describe()"
   ]
  },
  {
   "attachments": {},
   "cell_type": "markdown",
   "metadata": {},
   "source": [
    "# so_tc_tich_luy"
   ]
  },
  {
   "cell_type": "code",
   "execution_count": 29,
   "metadata": {},
   "outputs": [
    {
     "data": {
      "text/plain": [
       "Index(['mssv', 'dtb_toan_khoa', 'dtb_tich_luy', 'so_tc_tich_luy'], dtype='object')"
      ]
     },
     "execution_count": 29,
     "metadata": {},
     "output_type": "execute_result"
    }
   ],
   "source": [
    "new_df.columns"
   ]
  },
  {
   "cell_type": "code",
   "execution_count": 30,
   "metadata": {},
   "outputs": [
    {
     "data": {
      "text/plain": [
       "dtype('float64')"
      ]
     },
     "execution_count": 30,
     "metadata": {},
     "output_type": "execute_result"
    }
   ],
   "source": [
    "new_df.so_tc_tich_luy.dtype"
   ]
  },
  {
   "cell_type": "code",
   "execution_count": 31,
   "metadata": {},
   "outputs": [
    {
     "data": {
      "text/plain": [
       "so_tc_tich_luy\n",
       "148.0    519\n",
       "153.0    450\n",
       "26.0     426\n",
       "30.0     347\n",
       "NaN      322\n",
       "        ... \n",
       "193.0      1\n",
       "177.0      1\n",
       "170.0      1\n",
       "168.0      1\n",
       "166.0      1\n",
       "Name: count, Length: 176, dtype: int64"
      ]
     },
     "execution_count": 31,
     "metadata": {},
     "output_type": "execute_result"
    }
   ],
   "source": [
    "new_df.so_tc_tich_luy.value_counts(dropna=False)"
   ]
  },
  {
   "cell_type": "code",
   "execution_count": 32,
   "metadata": {},
   "outputs": [
    {
     "data": {
      "text/plain": [
       "322"
      ]
     },
     "execution_count": 32,
     "metadata": {},
     "output_type": "execute_result"
    }
   ],
   "source": [
    "new_df.so_tc_tich_luy.isnull().sum()"
   ]
  },
  {
   "cell_type": "code",
   "execution_count": 33,
   "metadata": {},
   "outputs": [
    {
     "data": {
      "text/plain": [
       "count    13648.000000\n",
       "mean        94.115988\n",
       "std         50.574767\n",
       "min          0.000000\n",
       "25%         50.000000\n",
       "50%        104.000000\n",
       "75%        141.000000\n",
       "max        193.000000\n",
       "Name: so_tc_tich_luy, dtype: float64"
      ]
     },
     "execution_count": 33,
     "metadata": {},
     "output_type": "execute_result"
    }
   ],
   "source": [
    "new_df.so_tc_tich_luy.describe()"
   ]
  },
  {
   "attachments": {},
   "cell_type": "markdown",
   "metadata": {},
   "source": [
    "# drop null"
   ]
  },
  {
   "cell_type": "code",
   "execution_count": 35,
   "metadata": {},
   "outputs": [
    {
     "data": {
      "text/html": [
       "<div>\n",
       "<style scoped>\n",
       "    .dataframe tbody tr th:only-of-type {\n",
       "        vertical-align: middle;\n",
       "    }\n",
       "\n",
       "    .dataframe tbody tr th {\n",
       "        vertical-align: top;\n",
       "    }\n",
       "\n",
       "    .dataframe thead th {\n",
       "        text-align: right;\n",
       "    }\n",
       "</style>\n",
       "<table border=\"1\" class=\"dataframe\">\n",
       "  <thead>\n",
       "    <tr style=\"text-align: right;\">\n",
       "      <th></th>\n",
       "      <th>mssv</th>\n",
       "      <th>dtb_toan_khoa</th>\n",
       "      <th>dtb_tich_luy</th>\n",
       "      <th>so_tc_tich_luy</th>\n",
       "    </tr>\n",
       "  </thead>\n",
       "  <tbody>\n",
       "    <tr>\n",
       "      <th>3558</th>\n",
       "      <td>FFFAFB51XPvAibaEXe+F+2tZHEiFCbIwAZfR+51z</td>\n",
       "      <td>NaN</td>\n",
       "      <td>NaN</td>\n",
       "      <td>NaN</td>\n",
       "    </tr>\n",
       "    <tr>\n",
       "      <th>3603</th>\n",
       "      <td>F8FD0FE0XPvAibaEXe9NdAclo3+sV2nNlXxOTO2G</td>\n",
       "      <td>NaN</td>\n",
       "      <td>NaN</td>\n",
       "      <td>NaN</td>\n",
       "    </tr>\n",
       "    <tr>\n",
       "      <th>3639</th>\n",
       "      <td>4EBB055AXPvAibaEXe+pZU+khqBqym2HqfAwq7dR</td>\n",
       "      <td>NaN</td>\n",
       "      <td>NaN</td>\n",
       "      <td>NaN</td>\n",
       "    </tr>\n",
       "    <tr>\n",
       "      <th>3652</th>\n",
       "      <td>55B938EBXPvAibaEXe/j7U1wtp2b2U32RKuDYEOK</td>\n",
       "      <td>NaN</td>\n",
       "      <td>NaN</td>\n",
       "      <td>NaN</td>\n",
       "    </tr>\n",
       "    <tr>\n",
       "      <th>3719</th>\n",
       "      <td>A90A53BCXPvAibaEXe+YGniCiyMp04jJX2Wr85uH</td>\n",
       "      <td>NaN</td>\n",
       "      <td>NaN</td>\n",
       "      <td>NaN</td>\n",
       "    </tr>\n",
       "    <tr>\n",
       "      <th>...</th>\n",
       "      <td>...</td>\n",
       "      <td>...</td>\n",
       "      <td>...</td>\n",
       "      <td>...</td>\n",
       "    </tr>\n",
       "    <tr>\n",
       "      <th>10265</th>\n",
       "      <td>1943DF4FXPvAibaEXe8ge2UHv4J4B0k4ssrPk2I6</td>\n",
       "      <td>NaN</td>\n",
       "      <td>NaN</td>\n",
       "      <td>NaN</td>\n",
       "    </tr>\n",
       "    <tr>\n",
       "      <th>10268</th>\n",
       "      <td>5FA91EB7XPvAibaEXe/BqA0y8R3TRRcVFMT0qhZb</td>\n",
       "      <td>NaN</td>\n",
       "      <td>NaN</td>\n",
       "      <td>NaN</td>\n",
       "    </tr>\n",
       "    <tr>\n",
       "      <th>10269</th>\n",
       "      <td>F627DB89XPvAibaEXe9P07hcrvmhCZuKZh2PZnru</td>\n",
       "      <td>NaN</td>\n",
       "      <td>NaN</td>\n",
       "      <td>NaN</td>\n",
       "    </tr>\n",
       "    <tr>\n",
       "      <th>10270</th>\n",
       "      <td>8A251F62XPvAibaEXe+lo6eJkHWaQSNSpcnnv+HR</td>\n",
       "      <td>NaN</td>\n",
       "      <td>NaN</td>\n",
       "      <td>NaN</td>\n",
       "    </tr>\n",
       "    <tr>\n",
       "      <th>10272</th>\n",
       "      <td>E43D3DE8XPvAibaEXe+Z7KfNHYLttK3U7V7OIJtl</td>\n",
       "      <td>NaN</td>\n",
       "      <td>NaN</td>\n",
       "      <td>NaN</td>\n",
       "    </tr>\n",
       "  </tbody>\n",
       "</table>\n",
       "<p>322 rows × 4 columns</p>\n",
       "</div>"
      ],
      "text/plain": [
       "                                           mssv  dtb_toan_khoa  dtb_tich_luy   \n",
       "3558   FFFAFB51XPvAibaEXe+F+2tZHEiFCbIwAZfR+51z            NaN           NaN  \\\n",
       "3603   F8FD0FE0XPvAibaEXe9NdAclo3+sV2nNlXxOTO2G            NaN           NaN   \n",
       "3639   4EBB055AXPvAibaEXe+pZU+khqBqym2HqfAwq7dR            NaN           NaN   \n",
       "3652   55B938EBXPvAibaEXe/j7U1wtp2b2U32RKuDYEOK            NaN           NaN   \n",
       "3719   A90A53BCXPvAibaEXe+YGniCiyMp04jJX2Wr85uH            NaN           NaN   \n",
       "...                                         ...            ...           ...   \n",
       "10265  1943DF4FXPvAibaEXe8ge2UHv4J4B0k4ssrPk2I6            NaN           NaN   \n",
       "10268  5FA91EB7XPvAibaEXe/BqA0y8R3TRRcVFMT0qhZb            NaN           NaN   \n",
       "10269  F627DB89XPvAibaEXe9P07hcrvmhCZuKZh2PZnru            NaN           NaN   \n",
       "10270  8A251F62XPvAibaEXe+lo6eJkHWaQSNSpcnnv+HR            NaN           NaN   \n",
       "10272  E43D3DE8XPvAibaEXe+Z7KfNHYLttK3U7V7OIJtl            NaN           NaN   \n",
       "\n",
       "       so_tc_tich_luy  \n",
       "3558              NaN  \n",
       "3603              NaN  \n",
       "3639              NaN  \n",
       "3652              NaN  \n",
       "3719              NaN  \n",
       "...               ...  \n",
       "10265             NaN  \n",
       "10268             NaN  \n",
       "10269             NaN  \n",
       "10270             NaN  \n",
       "10272             NaN  \n",
       "\n",
       "[322 rows x 4 columns]"
      ]
     },
     "execution_count": 35,
     "metadata": {},
     "output_type": "execute_result"
    }
   ],
   "source": [
    "tmp = new_df[['dtb_toan_khoa', 'dtb_tich_luy', 'so_tc_tich_luy']]\n",
    "new_df.loc[tmp.isnull().all(axis=1)]"
   ]
  },
  {
   "cell_type": "code",
   "execution_count": 36,
   "metadata": {},
   "outputs": [],
   "source": [
    "tmp = new_df[['dtb_toan_khoa', 'dtb_tich_luy', 'so_tc_tich_luy']]\n",
    "tmp = new_df.loc[tmp.isnull().all(axis=1)].index\n",
    "new_df.drop(index=tmp, inplace=True)"
   ]
  },
  {
   "cell_type": "code",
   "execution_count": 37,
   "metadata": {},
   "outputs": [
    {
     "name": "stdout",
     "output_type": "stream",
     "text": [
      "<class 'pandas.core.frame.DataFrame'>\n",
      "Index: 13648 entries, 0 to 13969\n",
      "Data columns (total 4 columns):\n",
      " #   Column          Non-Null Count  Dtype  \n",
      "---  ------          --------------  -----  \n",
      " 0   mssv            13648 non-null  object \n",
      " 1   dtb_toan_khoa   13648 non-null  float64\n",
      " 2   dtb_tich_luy    13648 non-null  float64\n",
      " 3   so_tc_tich_luy  13648 non-null  float64\n",
      "dtypes: float64(3), object(1)\n",
      "memory usage: 533.1+ KB\n"
     ]
    }
   ],
   "source": [
    "new_df.info()"
   ]
  },
  {
   "attachments": {},
   "cell_type": "markdown",
   "metadata": {},
   "source": [
    "# data type"
   ]
  },
  {
   "cell_type": "code",
   "execution_count": 38,
   "metadata": {},
   "outputs": [
    {
     "name": "stdout",
     "output_type": "stream",
     "text": [
      "<class 'pandas.core.frame.DataFrame'>\n",
      "Index: 13648 entries, 0 to 13969\n",
      "Data columns (total 4 columns):\n",
      " #   Column          Non-Null Count  Dtype  \n",
      "---  ------          --------------  -----  \n",
      " 0   mssv            13648 non-null  object \n",
      " 1   dtb_toan_khoa   13648 non-null  float64\n",
      " 2   dtb_tich_luy    13648 non-null  float64\n",
      " 3   so_tc_tich_luy  13648 non-null  float64\n",
      "dtypes: float64(3), object(1)\n",
      "memory usage: 533.1+ KB\n"
     ]
    }
   ],
   "source": [
    "new_df.info()"
   ]
  },
  {
   "cell_type": "code",
   "execution_count": 39,
   "metadata": {},
   "outputs": [
    {
     "data": {
      "text/plain": [
       "{144: '144',\n",
       " 153: '153',\n",
       " 0: '0',\n",
       " 148: '148',\n",
       " 60: '60',\n",
       " 152: '152',\n",
       " 158: '158',\n",
       " 138: '138',\n",
       " 136: '136',\n",
       " 160: '160',\n",
       " 142: '142',\n",
       " 129: '129',\n",
       " 105: '105',\n",
       " 154: '154',\n",
       " 98: '98',\n",
       " 141: '141',\n",
       " 156: '156',\n",
       " 123: '123',\n",
       " 22: '22',\n",
       " 147: '147',\n",
       " 70: '70',\n",
       " 72: '72',\n",
       " 120: '120',\n",
       " 146: '146',\n",
       " 122: '122',\n",
       " 46: '46',\n",
       " 21: '21',\n",
       " 87: '87',\n",
       " 149: '149',\n",
       " 4: '4',\n",
       " 157: '157',\n",
       " 137: '137',\n",
       " 5: '5',\n",
       " 19: '19',\n",
       " 7: '7',\n",
       " 155: '155',\n",
       " 6: '6',\n",
       " 145: '145',\n",
       " 11: '11',\n",
       " 36: '36',\n",
       " 151: '151',\n",
       " 150: '150',\n",
       " 77: '77',\n",
       " 134: '134',\n",
       " 96: '96',\n",
       " 76: '76',\n",
       " 13: '13',\n",
       " 18: '18',\n",
       " 140: '140',\n",
       " 109: '109',\n",
       " 97: '97',\n",
       " 128: '128',\n",
       " 25: '25',\n",
       " 143: '143',\n",
       " 132: '132',\n",
       " 139: '139',\n",
       " 48: '48',\n",
       " 15: '15',\n",
       " 95: '95',\n",
       " 26: '26',\n",
       " 8: '8',\n",
       " 9: '9',\n",
       " 54: '54',\n",
       " 112: '112',\n",
       " 55: '55',\n",
       " 59: '59',\n",
       " 31: '31',\n",
       " 119: '119',\n",
       " 162: '162',\n",
       " 37: '37',\n",
       " 133: '133',\n",
       " 73: '73',\n",
       " 17: '17',\n",
       " 86: '86',\n",
       " 49: '49',\n",
       " 14: '14',\n",
       " 111: '111',\n",
       " 32: '32',\n",
       " 159: '159',\n",
       " 83: '83',\n",
       " 43: '43',\n",
       " 38: '38',\n",
       " 90: '90',\n",
       " 85: '85',\n",
       " 34: '34',\n",
       " 51: '51',\n",
       " 67: '67',\n",
       " 126: '126',\n",
       " 20: '20',\n",
       " 118: '118',\n",
       " 64: '64',\n",
       " 3: '3',\n",
       " 115: '115',\n",
       " 27: '27',\n",
       " 135: '135',\n",
       " 173: '173',\n",
       " 131: '131',\n",
       " 108: '108',\n",
       " 53: '53',\n",
       " 127: '127',\n",
       " 113: '113',\n",
       " 52: '52',\n",
       " 80: '80',\n",
       " 81: '81',\n",
       " 130: '130',\n",
       " 41: '41',\n",
       " 35: '35',\n",
       " 75: '75',\n",
       " 10: '10',\n",
       " 44: '44',\n",
       " 124: '124',\n",
       " 24: '24',\n",
       " 50: '50',\n",
       " 161: '161',\n",
       " 28: '28',\n",
       " 92: '92',\n",
       " 78: '78',\n",
       " 91: '91',\n",
       " 116: '116',\n",
       " 117: '117',\n",
       " 39: '39',\n",
       " 71: '71',\n",
       " 114: '114',\n",
       " 82: '82',\n",
       " 125: '125',\n",
       " 56: '56',\n",
       " 104: '104',\n",
       " 45: '45',\n",
       " 84: '84',\n",
       " 23: '23',\n",
       " 57: '57',\n",
       " 29: '29',\n",
       " 193: '193',\n",
       " 100: '100',\n",
       " 61: '61',\n",
       " 68: '68',\n",
       " 2: '2',\n",
       " 30: '30',\n",
       " 102: '102',\n",
       " 121: '121',\n",
       " 66: '66',\n",
       " 65: '65',\n",
       " 93: '93',\n",
       " 107: '107',\n",
       " 40: '40',\n",
       " 16: '16',\n",
       " 12: '12',\n",
       " 106: '106',\n",
       " 47: '47',\n",
       " 88: '88',\n",
       " 58: '58',\n",
       " 42: '42',\n",
       " 69: '69',\n",
       " 101: '101',\n",
       " 103: '103',\n",
       " 79: '79',\n",
       " 62: '62',\n",
       " 164: '164',\n",
       " 99: '99',\n",
       " 163: '163',\n",
       " 33: '33',\n",
       " 94: '94',\n",
       " 110: '110',\n",
       " 74: '74',\n",
       " 165: '165',\n",
       " 89: '89',\n",
       " 171: '171',\n",
       " 63: '63',\n",
       " 167: '167',\n",
       " 177: '177',\n",
       " 170: '170',\n",
       " 168: '168',\n",
       " 1: '1',\n",
       " 166: '166',\n",
       " 192: '192'}"
      ]
     },
     "execution_count": 39,
     "metadata": {},
     "output_type": "execute_result"
    }
   ],
   "source": [
    "tmp = new_df.so_tc_tich_luy.astype('int64').unique().tolist()\n",
    "mapping_dict = {a:str(a) for a in tmp}\n",
    "new_df.so_tc_tich_luy = new_df.so_tc_tich_luy.map(mapping_dict)\n",
    "mapping_dict"
   ]
  },
  {
   "cell_type": "code",
   "execution_count": 40,
   "metadata": {},
   "outputs": [
    {
     "name": "stdout",
     "output_type": "stream",
     "text": [
      "<class 'pandas.core.frame.DataFrame'>\n",
      "Index: 13648 entries, 0 to 13969\n",
      "Data columns (total 4 columns):\n",
      " #   Column          Non-Null Count  Dtype   \n",
      "---  ------          --------------  -----   \n",
      " 0   mssv            13648 non-null  category\n",
      " 1   dtb_toan_khoa   13648 non-null  float32 \n",
      " 2   dtb_tich_luy    13648 non-null  float32 \n",
      " 3   so_tc_tich_luy  13648 non-null  category\n",
      "dtypes: category(2), float32(2)\n",
      "memory usage: 894.7 KB\n"
     ]
    }
   ],
   "source": [
    "new_df.mssv = new_df.mssv.astype('category')\n",
    "new_df.dtb_toan_khoa = new_df.dtb_toan_khoa.astype('float32')\n",
    "new_df.dtb_tich_luy = new_df.dtb_tich_luy.astype('float32')\n",
    "new_df.so_tc_tich_luy = new_df.so_tc_tich_luy.astype('category')\n",
    "new_df.info()"
   ]
  },
  {
   "attachments": {},
   "cell_type": "markdown",
   "metadata": {},
   "source": [
    "# final check"
   ]
  },
  {
   "cell_type": "code",
   "execution_count": 41,
   "metadata": {},
   "outputs": [
    {
     "data": {
      "text/html": [
       "<div>\n",
       "<style scoped>\n",
       "    .dataframe tbody tr th:only-of-type {\n",
       "        vertical-align: middle;\n",
       "    }\n",
       "\n",
       "    .dataframe tbody tr th {\n",
       "        vertical-align: top;\n",
       "    }\n",
       "\n",
       "    .dataframe thead th {\n",
       "        text-align: right;\n",
       "    }\n",
       "</style>\n",
       "<table border=\"1\" class=\"dataframe\">\n",
       "  <thead>\n",
       "    <tr style=\"text-align: right;\">\n",
       "      <th></th>\n",
       "      <th>mssv</th>\n",
       "      <th>dtb_toan_khoa</th>\n",
       "      <th>dtb_tich_luy</th>\n",
       "      <th>so_tc_tich_luy</th>\n",
       "    </tr>\n",
       "  </thead>\n",
       "  <tbody>\n",
       "  </tbody>\n",
       "</table>\n",
       "</div>"
      ],
      "text/plain": [
       "Empty DataFrame\n",
       "Columns: [mssv, dtb_toan_khoa, dtb_tich_luy, so_tc_tich_luy]\n",
       "Index: []"
      ]
     },
     "execution_count": 41,
     "metadata": {},
     "output_type": "execute_result"
    }
   ],
   "source": [
    "new_df[new_df.isnull().any(axis=1)]"
   ]
  },
  {
   "cell_type": "code",
   "execution_count": 42,
   "metadata": {},
   "outputs": [
    {
     "data": {
      "text/plain": [
       "0"
      ]
     },
     "execution_count": 42,
     "metadata": {},
     "output_type": "execute_result"
    }
   ],
   "source": [
    "new_df.duplicated().sum()"
   ]
  },
  {
   "cell_type": "code",
   "execution_count": 43,
   "metadata": {},
   "outputs": [
    {
     "data": {
      "text/plain": [
       "0"
      ]
     },
     "execution_count": 43,
     "metadata": {},
     "output_type": "execute_result"
    }
   ],
   "source": [
    "new_df[new_primary_key].duplicated().sum()"
   ]
  },
  {
   "cell_type": "code",
   "execution_count": 44,
   "metadata": {},
   "outputs": [
    {
     "data": {
      "text/html": [
       "<div>\n",
       "<style scoped>\n",
       "    .dataframe tbody tr th:only-of-type {\n",
       "        vertical-align: middle;\n",
       "    }\n",
       "\n",
       "    .dataframe tbody tr th {\n",
       "        vertical-align: top;\n",
       "    }\n",
       "\n",
       "    .dataframe thead th {\n",
       "        text-align: right;\n",
       "    }\n",
       "</style>\n",
       "<table border=\"1\" class=\"dataframe\">\n",
       "  <thead>\n",
       "    <tr style=\"text-align: right;\">\n",
       "      <th></th>\n",
       "      <th>dtb_toan_khoa</th>\n",
       "      <th>dtb_tich_luy</th>\n",
       "    </tr>\n",
       "  </thead>\n",
       "  <tbody>\n",
       "    <tr>\n",
       "      <th>count</th>\n",
       "      <td>13648.000000</td>\n",
       "      <td>13648.000000</td>\n",
       "    </tr>\n",
       "    <tr>\n",
       "      <th>mean</th>\n",
       "      <td>6.916518</td>\n",
       "      <td>7.313279</td>\n",
       "    </tr>\n",
       "    <tr>\n",
       "      <th>std</th>\n",
       "      <td>1.748020</td>\n",
       "      <td>1.396699</td>\n",
       "    </tr>\n",
       "    <tr>\n",
       "      <th>min</th>\n",
       "      <td>0.000000</td>\n",
       "      <td>0.000000</td>\n",
       "    </tr>\n",
       "    <tr>\n",
       "      <th>25%</th>\n",
       "      <td>6.550000</td>\n",
       "      <td>6.910000</td>\n",
       "    </tr>\n",
       "    <tr>\n",
       "      <th>50%</th>\n",
       "      <td>7.370000</td>\n",
       "      <td>7.470000</td>\n",
       "    </tr>\n",
       "    <tr>\n",
       "      <th>75%</th>\n",
       "      <td>8.010000</td>\n",
       "      <td>8.050000</td>\n",
       "    </tr>\n",
       "    <tr>\n",
       "      <th>max</th>\n",
       "      <td>9.660000</td>\n",
       "      <td>9.660000</td>\n",
       "    </tr>\n",
       "  </tbody>\n",
       "</table>\n",
       "</div>"
      ],
      "text/plain": [
       "       dtb_toan_khoa  dtb_tich_luy\n",
       "count   13648.000000  13648.000000\n",
       "mean        6.916518      7.313279\n",
       "std         1.748020      1.396699\n",
       "min         0.000000      0.000000\n",
       "25%         6.550000      6.910000\n",
       "50%         7.370000      7.470000\n",
       "75%         8.010000      8.050000\n",
       "max         9.660000      9.660000"
      ]
     },
     "execution_count": 44,
     "metadata": {},
     "output_type": "execute_result"
    }
   ],
   "source": [
    "new_df.describe()"
   ]
  },
  {
   "cell_type": "code",
   "execution_count": 45,
   "metadata": {},
   "outputs": [
    {
     "data": {
      "text/plain": [
       "Index(['mssv', 'dtb_toan_khoa', 'dtb_tich_luy', 'so_tc_tich_luy'], dtype='object')"
      ]
     },
     "execution_count": 45,
     "metadata": {},
     "output_type": "execute_result"
    }
   ],
   "source": [
    "new_df.columns"
   ]
  },
  {
   "cell_type": "code",
   "execution_count": 46,
   "metadata": {},
   "outputs": [
    {
     "data": {
      "text/plain": [
       "mssv\n",
       "0000AC05XPvAibaEXe9B2tolTZ0JLoBGbkQixQS6    1\n",
       "AC06900DXPvAibaEXe86sOYAMzRf/inBAeNLSW7g    1\n",
       "AC112A32XPvAibaEXe8A5TWV5xKpbTlAh/ThC1oX    1\n",
       "AC137481XPvAibaEXe9W6UmNXS/RjhM/XsamX5+P    1\n",
       "AC17A2EBXPvAibaEXe+ltCXpm838vTWWVUsJrTsd    1\n",
       "                                           ..\n",
       "56B3A51EXPvAibaEXe8x9oGqJppz39OfxBn512qA    1\n",
       "56B4B04AXPvAibaEXe9vsqiPWJvEGonUy72Wmggm    1\n",
       "56B8CACCXPvAibaEXe8WajRPpOtnV1LHpDMz9XyP    1\n",
       "56BB81EBXPvAibaEXe+551daa8DfJ/KeV5nplY0D    1\n",
       "FFFA4234XPvAibaEXe+OhmjSj4XEzdTGgcTdT9fT    1\n",
       "Name: count, Length: 13648, dtype: int64"
      ]
     },
     "execution_count": 46,
     "metadata": {},
     "output_type": "execute_result"
    }
   ],
   "source": [
    "new_df.mssv.value_counts(dropna=False)"
   ]
  },
  {
   "cell_type": "code",
   "execution_count": 47,
   "metadata": {},
   "outputs": [
    {
     "data": {
      "text/plain": [
       "dtb_toan_khoa\n",
       "0.00    143\n",
       "7.40     71\n",
       "7.75     69\n",
       "7.48     65\n",
       "7.79     64\n",
       "       ... \n",
       "0.91      1\n",
       "0.48      1\n",
       "9.20      1\n",
       "9.52      1\n",
       "9.44      1\n",
       "Name: count, Length: 890, dtype: int64"
      ]
     },
     "execution_count": 47,
     "metadata": {},
     "output_type": "execute_result"
    }
   ],
   "source": [
    "new_df.dtb_toan_khoa.value_counts(dropna=False)"
   ]
  },
  {
   "cell_type": "code",
   "execution_count": 48,
   "metadata": {},
   "outputs": [
    {
     "data": {
      "text/plain": [
       "dtb_tich_luy\n",
       "0.00    348\n",
       "7.35     80\n",
       "7.75     78\n",
       "7.48     77\n",
       "7.40     76\n",
       "       ... \n",
       "9.58      1\n",
       "5.31      1\n",
       "5.10      1\n",
       "5.42      1\n",
       "5.29      1\n",
       "Name: count, Length: 418, dtype: int64"
      ]
     },
     "execution_count": 48,
     "metadata": {},
     "output_type": "execute_result"
    }
   ],
   "source": [
    "new_df.dtb_tich_luy.value_counts(dropna=False)"
   ]
  },
  {
   "cell_type": "code",
   "execution_count": 49,
   "metadata": {},
   "outputs": [
    {
     "data": {
      "text/plain": [
       "so_tc_tich_luy\n",
       "148    519\n",
       "153    450\n",
       "26     426\n",
       "30     347\n",
       "149    301\n",
       "      ... \n",
       "166      1\n",
       "170      1\n",
       "177      1\n",
       "168      1\n",
       "193      1\n",
       "Name: count, Length: 175, dtype: int64"
      ]
     },
     "execution_count": 49,
     "metadata": {},
     "output_type": "execute_result"
    }
   ],
   "source": [
    "new_df.so_tc_tich_luy.value_counts(dropna=False)"
   ]
  },
  {
   "attachments": {},
   "cell_type": "markdown",
   "metadata": {},
   "source": [
    "# save"
   ]
  },
  {
   "cell_type": "code",
   "execution_count": 50,
   "metadata": {},
   "outputs": [],
   "source": [
    "clean_data_folder = Path(\"../../clean_data\")\n",
    "new_df.to_parquet(clean_data_folder/f\"{data_stem}.parquet\", index=False)\n",
    "haha_df = pd.read_parquet(clean_data_folder/f\"{data_stem}.parquet\")"
   ]
  },
  {
   "cell_type": "code",
   "execution_count": 51,
   "metadata": {},
   "outputs": [
    {
     "data": {
      "text/html": [
       "<div>\n",
       "<style scoped>\n",
       "    .dataframe tbody tr th:only-of-type {\n",
       "        vertical-align: middle;\n",
       "    }\n",
       "\n",
       "    .dataframe tbody tr th {\n",
       "        vertical-align: top;\n",
       "    }\n",
       "\n",
       "    .dataframe thead th {\n",
       "        text-align: right;\n",
       "    }\n",
       "</style>\n",
       "<table border=\"1\" class=\"dataframe\">\n",
       "  <thead>\n",
       "    <tr style=\"text-align: right;\">\n",
       "      <th></th>\n",
       "      <th>mssv</th>\n",
       "      <th>dtb_toankhoa</th>\n",
       "      <th>dtb_tichluy</th>\n",
       "      <th>sotc_tichluy</th>\n",
       "    </tr>\n",
       "  </thead>\n",
       "  <tbody>\n",
       "    <tr>\n",
       "      <th>3558</th>\n",
       "      <td>FFFAFB51XPvAibaEXe+F+2tZHEiFCbIwAZfR+51z</td>\n",
       "      <td>NaN</td>\n",
       "      <td>NaN</td>\n",
       "      <td>NaN</td>\n",
       "    </tr>\n",
       "    <tr>\n",
       "      <th>3603</th>\n",
       "      <td>F8FD0FE0XPvAibaEXe9NdAclo3+sV2nNlXxOTO2G</td>\n",
       "      <td>NaN</td>\n",
       "      <td>NaN</td>\n",
       "      <td>NaN</td>\n",
       "    </tr>\n",
       "    <tr>\n",
       "      <th>3639</th>\n",
       "      <td>4EBB055AXPvAibaEXe+pZU+khqBqym2HqfAwq7dR</td>\n",
       "      <td>NaN</td>\n",
       "      <td>NaN</td>\n",
       "      <td>NaN</td>\n",
       "    </tr>\n",
       "    <tr>\n",
       "      <th>3652</th>\n",
       "      <td>55B938EBXPvAibaEXe/j7U1wtp2b2U32RKuDYEOK</td>\n",
       "      <td>NaN</td>\n",
       "      <td>NaN</td>\n",
       "      <td>NaN</td>\n",
       "    </tr>\n",
       "    <tr>\n",
       "      <th>3719</th>\n",
       "      <td>A90A53BCXPvAibaEXe+YGniCiyMp04jJX2Wr85uH</td>\n",
       "      <td>NaN</td>\n",
       "      <td>NaN</td>\n",
       "      <td>NaN</td>\n",
       "    </tr>\n",
       "    <tr>\n",
       "      <th>...</th>\n",
       "      <td>...</td>\n",
       "      <td>...</td>\n",
       "      <td>...</td>\n",
       "      <td>...</td>\n",
       "    </tr>\n",
       "    <tr>\n",
       "      <th>10265</th>\n",
       "      <td>1943DF4FXPvAibaEXe8ge2UHv4J4B0k4ssrPk2I6</td>\n",
       "      <td>NaN</td>\n",
       "      <td>NaN</td>\n",
       "      <td>NaN</td>\n",
       "    </tr>\n",
       "    <tr>\n",
       "      <th>10268</th>\n",
       "      <td>5FA91EB7XPvAibaEXe/BqA0y8R3TRRcVFMT0qhZb</td>\n",
       "      <td>NaN</td>\n",
       "      <td>NaN</td>\n",
       "      <td>NaN</td>\n",
       "    </tr>\n",
       "    <tr>\n",
       "      <th>10269</th>\n",
       "      <td>F627DB89XPvAibaEXe9P07hcrvmhCZuKZh2PZnru</td>\n",
       "      <td>NaN</td>\n",
       "      <td>NaN</td>\n",
       "      <td>NaN</td>\n",
       "    </tr>\n",
       "    <tr>\n",
       "      <th>10270</th>\n",
       "      <td>8A251F62XPvAibaEXe+lo6eJkHWaQSNSpcnnv+HR</td>\n",
       "      <td>NaN</td>\n",
       "      <td>NaN</td>\n",
       "      <td>NaN</td>\n",
       "    </tr>\n",
       "    <tr>\n",
       "      <th>10272</th>\n",
       "      <td>E43D3DE8XPvAibaEXe+Z7KfNHYLttK3U7V7OIJtl</td>\n",
       "      <td>NaN</td>\n",
       "      <td>NaN</td>\n",
       "      <td>NaN</td>\n",
       "    </tr>\n",
       "  </tbody>\n",
       "</table>\n",
       "<p>322 rows × 4 columns</p>\n",
       "</div>"
      ],
      "text/plain": [
       "                                           mssv  dtb_toankhoa  dtb_tichluy   \n",
       "3558   FFFAFB51XPvAibaEXe+F+2tZHEiFCbIwAZfR+51z           NaN          NaN  \\\n",
       "3603   F8FD0FE0XPvAibaEXe9NdAclo3+sV2nNlXxOTO2G           NaN          NaN   \n",
       "3639   4EBB055AXPvAibaEXe+pZU+khqBqym2HqfAwq7dR           NaN          NaN   \n",
       "3652   55B938EBXPvAibaEXe/j7U1wtp2b2U32RKuDYEOK           NaN          NaN   \n",
       "3719   A90A53BCXPvAibaEXe+YGniCiyMp04jJX2Wr85uH           NaN          NaN   \n",
       "...                                         ...           ...          ...   \n",
       "10265  1943DF4FXPvAibaEXe8ge2UHv4J4B0k4ssrPk2I6           NaN          NaN   \n",
       "10268  5FA91EB7XPvAibaEXe/BqA0y8R3TRRcVFMT0qhZb           NaN          NaN   \n",
       "10269  F627DB89XPvAibaEXe9P07hcrvmhCZuKZh2PZnru           NaN          NaN   \n",
       "10270  8A251F62XPvAibaEXe+lo6eJkHWaQSNSpcnnv+HR           NaN          NaN   \n",
       "10272  E43D3DE8XPvAibaEXe+Z7KfNHYLttK3U7V7OIJtl           NaN          NaN   \n",
       "\n",
       "       sotc_tichluy  \n",
       "3558            NaN  \n",
       "3603            NaN  \n",
       "3639            NaN  \n",
       "3652            NaN  \n",
       "3719            NaN  \n",
       "...             ...  \n",
       "10265           NaN  \n",
       "10268           NaN  \n",
       "10269           NaN  \n",
       "10270           NaN  \n",
       "10272           NaN  \n",
       "\n",
       "[322 rows x 4 columns]"
      ]
     },
     "execution_count": 51,
     "metadata": {},
     "output_type": "execute_result"
    }
   ],
   "source": [
    "old_df[old_df.isnull().any(axis=1)]"
   ]
  },
  {
   "cell_type": "code",
   "execution_count": 52,
   "metadata": {},
   "outputs": [
    {
     "data": {
      "text/html": [
       "<div>\n",
       "<style scoped>\n",
       "    .dataframe tbody tr th:only-of-type {\n",
       "        vertical-align: middle;\n",
       "    }\n",
       "\n",
       "    .dataframe tbody tr th {\n",
       "        vertical-align: top;\n",
       "    }\n",
       "\n",
       "    .dataframe thead th {\n",
       "        text-align: right;\n",
       "    }\n",
       "</style>\n",
       "<table border=\"1\" class=\"dataframe\">\n",
       "  <thead>\n",
       "    <tr style=\"text-align: right;\">\n",
       "      <th></th>\n",
       "      <th>mssv</th>\n",
       "      <th>dtb_toan_khoa</th>\n",
       "      <th>dtb_tich_luy</th>\n",
       "      <th>so_tc_tich_luy</th>\n",
       "    </tr>\n",
       "  </thead>\n",
       "  <tbody>\n",
       "  </tbody>\n",
       "</table>\n",
       "</div>"
      ],
      "text/plain": [
       "Empty DataFrame\n",
       "Columns: [mssv, dtb_toan_khoa, dtb_tich_luy, so_tc_tich_luy]\n",
       "Index: []"
      ]
     },
     "execution_count": 52,
     "metadata": {},
     "output_type": "execute_result"
    }
   ],
   "source": [
    "haha_df[haha_df.isnull().any(axis=1)]"
   ]
  },
  {
   "cell_type": "code",
   "execution_count": 53,
   "metadata": {},
   "outputs": [
    {
     "data": {
      "text/plain": [
       "0"
      ]
     },
     "execution_count": 53,
     "metadata": {},
     "output_type": "execute_result"
    }
   ],
   "source": [
    "old_df[old_primary_key].duplicated().sum()"
   ]
  },
  {
   "cell_type": "code",
   "execution_count": 54,
   "metadata": {},
   "outputs": [
    {
     "data": {
      "text/plain": [
       "0"
      ]
     },
     "execution_count": 54,
     "metadata": {},
     "output_type": "execute_result"
    }
   ],
   "source": [
    "haha_df[new_primary_key].duplicated().sum()"
   ]
  },
  {
   "cell_type": "code",
   "execution_count": 55,
   "metadata": {},
   "outputs": [
    {
     "name": "stdout",
     "output_type": "stream",
     "text": [
      "<class 'pandas.core.frame.DataFrame'>\n",
      "RangeIndex: 13970 entries, 0 to 13969\n",
      "Data columns (total 4 columns):\n",
      " #   Column        Non-Null Count  Dtype  \n",
      "---  ------        --------------  -----  \n",
      " 0   mssv          13970 non-null  object \n",
      " 1   dtb_toankhoa  13648 non-null  float64\n",
      " 2   dtb_tichluy   13648 non-null  float64\n",
      " 3   sotc_tichluy  13648 non-null  float64\n",
      "dtypes: float64(3), object(1)\n",
      "memory usage: 436.7+ KB\n"
     ]
    }
   ],
   "source": [
    "old_df.info()"
   ]
  },
  {
   "cell_type": "code",
   "execution_count": 56,
   "metadata": {},
   "outputs": [
    {
     "name": "stdout",
     "output_type": "stream",
     "text": [
      "<class 'pandas.core.frame.DataFrame'>\n",
      "RangeIndex: 13648 entries, 0 to 13647\n",
      "Data columns (total 4 columns):\n",
      " #   Column          Non-Null Count  Dtype   \n",
      "---  ------          --------------  -----   \n",
      " 0   mssv            13648 non-null  category\n",
      " 1   dtb_toan_khoa   13648 non-null  float32 \n",
      " 2   dtb_tich_luy    13648 non-null  float32 \n",
      " 3   so_tc_tich_luy  13648 non-null  category\n",
      "dtypes: category(2), float32(2)\n",
      "memory usage: 788.2 KB\n"
     ]
    }
   ],
   "source": [
    "haha_df.info()"
   ]
  },
  {
   "cell_type": "code",
   "execution_count": 57,
   "metadata": {},
   "outputs": [
    {
     "data": {
      "text/html": [
       "<div>\n",
       "<style scoped>\n",
       "    .dataframe tbody tr th:only-of-type {\n",
       "        vertical-align: middle;\n",
       "    }\n",
       "\n",
       "    .dataframe tbody tr th {\n",
       "        vertical-align: top;\n",
       "    }\n",
       "\n",
       "    .dataframe thead th {\n",
       "        text-align: right;\n",
       "    }\n",
       "</style>\n",
       "<table border=\"1\" class=\"dataframe\">\n",
       "  <thead>\n",
       "    <tr style=\"text-align: right;\">\n",
       "      <th></th>\n",
       "      <th>dtb_toankhoa</th>\n",
       "      <th>dtb_tichluy</th>\n",
       "      <th>sotc_tichluy</th>\n",
       "    </tr>\n",
       "  </thead>\n",
       "  <tbody>\n",
       "    <tr>\n",
       "      <th>count</th>\n",
       "      <td>13648.000000</td>\n",
       "      <td>13648.000000</td>\n",
       "      <td>13648.000000</td>\n",
       "    </tr>\n",
       "    <tr>\n",
       "      <th>mean</th>\n",
       "      <td>6.916518</td>\n",
       "      <td>7.313278</td>\n",
       "      <td>94.115988</td>\n",
       "    </tr>\n",
       "    <tr>\n",
       "      <th>std</th>\n",
       "      <td>1.748020</td>\n",
       "      <td>1.396699</td>\n",
       "      <td>50.574767</td>\n",
       "    </tr>\n",
       "    <tr>\n",
       "      <th>min</th>\n",
       "      <td>0.000000</td>\n",
       "      <td>0.000000</td>\n",
       "      <td>0.000000</td>\n",
       "    </tr>\n",
       "    <tr>\n",
       "      <th>25%</th>\n",
       "      <td>6.550000</td>\n",
       "      <td>6.910000</td>\n",
       "      <td>50.000000</td>\n",
       "    </tr>\n",
       "    <tr>\n",
       "      <th>50%</th>\n",
       "      <td>7.370000</td>\n",
       "      <td>7.470000</td>\n",
       "      <td>104.000000</td>\n",
       "    </tr>\n",
       "    <tr>\n",
       "      <th>75%</th>\n",
       "      <td>8.010000</td>\n",
       "      <td>8.050000</td>\n",
       "      <td>141.000000</td>\n",
       "    </tr>\n",
       "    <tr>\n",
       "      <th>max</th>\n",
       "      <td>9.660000</td>\n",
       "      <td>9.660000</td>\n",
       "      <td>193.000000</td>\n",
       "    </tr>\n",
       "  </tbody>\n",
       "</table>\n",
       "</div>"
      ],
      "text/plain": [
       "       dtb_toankhoa   dtb_tichluy  sotc_tichluy\n",
       "count  13648.000000  13648.000000  13648.000000\n",
       "mean       6.916518      7.313278     94.115988\n",
       "std        1.748020      1.396699     50.574767\n",
       "min        0.000000      0.000000      0.000000\n",
       "25%        6.550000      6.910000     50.000000\n",
       "50%        7.370000      7.470000    104.000000\n",
       "75%        8.010000      8.050000    141.000000\n",
       "max        9.660000      9.660000    193.000000"
      ]
     },
     "execution_count": 57,
     "metadata": {},
     "output_type": "execute_result"
    }
   ],
   "source": [
    "old_df.describe()"
   ]
  },
  {
   "cell_type": "code",
   "execution_count": 58,
   "metadata": {},
   "outputs": [
    {
     "data": {
      "text/html": [
       "<div>\n",
       "<style scoped>\n",
       "    .dataframe tbody tr th:only-of-type {\n",
       "        vertical-align: middle;\n",
       "    }\n",
       "\n",
       "    .dataframe tbody tr th {\n",
       "        vertical-align: top;\n",
       "    }\n",
       "\n",
       "    .dataframe thead th {\n",
       "        text-align: right;\n",
       "    }\n",
       "</style>\n",
       "<table border=\"1\" class=\"dataframe\">\n",
       "  <thead>\n",
       "    <tr style=\"text-align: right;\">\n",
       "      <th></th>\n",
       "      <th>dtb_toan_khoa</th>\n",
       "      <th>dtb_tich_luy</th>\n",
       "    </tr>\n",
       "  </thead>\n",
       "  <tbody>\n",
       "    <tr>\n",
       "      <th>count</th>\n",
       "      <td>13648.000000</td>\n",
       "      <td>13648.000000</td>\n",
       "    </tr>\n",
       "    <tr>\n",
       "      <th>mean</th>\n",
       "      <td>6.916518</td>\n",
       "      <td>7.313279</td>\n",
       "    </tr>\n",
       "    <tr>\n",
       "      <th>std</th>\n",
       "      <td>1.748020</td>\n",
       "      <td>1.396699</td>\n",
       "    </tr>\n",
       "    <tr>\n",
       "      <th>min</th>\n",
       "      <td>0.000000</td>\n",
       "      <td>0.000000</td>\n",
       "    </tr>\n",
       "    <tr>\n",
       "      <th>25%</th>\n",
       "      <td>6.550000</td>\n",
       "      <td>6.910000</td>\n",
       "    </tr>\n",
       "    <tr>\n",
       "      <th>50%</th>\n",
       "      <td>7.370000</td>\n",
       "      <td>7.470000</td>\n",
       "    </tr>\n",
       "    <tr>\n",
       "      <th>75%</th>\n",
       "      <td>8.010000</td>\n",
       "      <td>8.050000</td>\n",
       "    </tr>\n",
       "    <tr>\n",
       "      <th>max</th>\n",
       "      <td>9.660000</td>\n",
       "      <td>9.660000</td>\n",
       "    </tr>\n",
       "  </tbody>\n",
       "</table>\n",
       "</div>"
      ],
      "text/plain": [
       "       dtb_toan_khoa  dtb_tich_luy\n",
       "count   13648.000000  13648.000000\n",
       "mean        6.916518      7.313279\n",
       "std         1.748020      1.396699\n",
       "min         0.000000      0.000000\n",
       "25%         6.550000      6.910000\n",
       "50%         7.370000      7.470000\n",
       "75%         8.010000      8.050000\n",
       "max         9.660000      9.660000"
      ]
     },
     "execution_count": 58,
     "metadata": {},
     "output_type": "execute_result"
    }
   ],
   "source": [
    "haha_df.describe()"
   ]
  },
  {
   "cell_type": "code",
   "execution_count": 59,
   "metadata": {},
   "outputs": [
    {
     "data": {
      "text/html": [
       "<div>\n",
       "<style scoped>\n",
       "    .dataframe tbody tr th:only-of-type {\n",
       "        vertical-align: middle;\n",
       "    }\n",
       "\n",
       "    .dataframe tbody tr th {\n",
       "        vertical-align: top;\n",
       "    }\n",
       "\n",
       "    .dataframe thead th {\n",
       "        text-align: right;\n",
       "    }\n",
       "</style>\n",
       "<table border=\"1\" class=\"dataframe\">\n",
       "  <thead>\n",
       "    <tr style=\"text-align: right;\">\n",
       "      <th></th>\n",
       "      <th>mssv</th>\n",
       "      <th>dtb_toankhoa</th>\n",
       "      <th>dtb_tichluy</th>\n",
       "      <th>sotc_tichluy</th>\n",
       "    </tr>\n",
       "  </thead>\n",
       "  <tbody>\n",
       "    <tr>\n",
       "      <th>3016</th>\n",
       "      <td>875CBE51XPvAibaEXe/cAy9n2SNhGPFZf6KmgwxB</td>\n",
       "      <td>6.76</td>\n",
       "      <td>6.90</td>\n",
       "      <td>133.0</td>\n",
       "    </tr>\n",
       "    <tr>\n",
       "      <th>11483</th>\n",
       "      <td>7EA90B05XPvAibaEXe8kQad4U9taeRNBO2TtDW3A</td>\n",
       "      <td>6.47</td>\n",
       "      <td>6.72</td>\n",
       "      <td>56.0</td>\n",
       "    </tr>\n",
       "    <tr>\n",
       "      <th>12329</th>\n",
       "      <td>ABB32A53XPvAibaEXe8LPxrujEz9HjHEIsCz+RYQ</td>\n",
       "      <td>8.42</td>\n",
       "      <td>8.42</td>\n",
       "      <td>17.0</td>\n",
       "    </tr>\n",
       "    <tr>\n",
       "      <th>8413</th>\n",
       "      <td>8AF87B9FXPvAibaEXe950ls1WcjgCjpX0DQlVHg8</td>\n",
       "      <td>3.72</td>\n",
       "      <td>5.52</td>\n",
       "      <td>13.0</td>\n",
       "    </tr>\n",
       "    <tr>\n",
       "      <th>8584</th>\n",
       "      <td>01A6AF36XPvAibaEXe/hev6WBclXgUbGB8BXhUSR</td>\n",
       "      <td>9.23</td>\n",
       "      <td>9.23</td>\n",
       "      <td>111.0</td>\n",
       "    </tr>\n",
       "  </tbody>\n",
       "</table>\n",
       "</div>"
      ],
      "text/plain": [
       "                                           mssv  dtb_toankhoa  dtb_tichluy   \n",
       "3016   875CBE51XPvAibaEXe/cAy9n2SNhGPFZf6KmgwxB          6.76         6.90  \\\n",
       "11483  7EA90B05XPvAibaEXe8kQad4U9taeRNBO2TtDW3A          6.47         6.72   \n",
       "12329  ABB32A53XPvAibaEXe8LPxrujEz9HjHEIsCz+RYQ          8.42         8.42   \n",
       "8413   8AF87B9FXPvAibaEXe950ls1WcjgCjpX0DQlVHg8          3.72         5.52   \n",
       "8584   01A6AF36XPvAibaEXe/hev6WBclXgUbGB8BXhUSR          9.23         9.23   \n",
       "\n",
       "       sotc_tichluy  \n",
       "3016          133.0  \n",
       "11483          56.0  \n",
       "12329          17.0  \n",
       "8413           13.0  \n",
       "8584          111.0  "
      ]
     },
     "execution_count": 59,
     "metadata": {},
     "output_type": "execute_result"
    }
   ],
   "source": [
    "old_df.sample(5)"
   ]
  },
  {
   "cell_type": "code",
   "execution_count": 60,
   "metadata": {},
   "outputs": [
    {
     "data": {
      "text/html": [
       "<div>\n",
       "<style scoped>\n",
       "    .dataframe tbody tr th:only-of-type {\n",
       "        vertical-align: middle;\n",
       "    }\n",
       "\n",
       "    .dataframe tbody tr th {\n",
       "        vertical-align: top;\n",
       "    }\n",
       "\n",
       "    .dataframe thead th {\n",
       "        text-align: right;\n",
       "    }\n",
       "</style>\n",
       "<table border=\"1\" class=\"dataframe\">\n",
       "  <thead>\n",
       "    <tr style=\"text-align: right;\">\n",
       "      <th></th>\n",
       "      <th>mssv</th>\n",
       "      <th>dtb_toan_khoa</th>\n",
       "      <th>dtb_tich_luy</th>\n",
       "      <th>so_tc_tich_luy</th>\n",
       "    </tr>\n",
       "  </thead>\n",
       "  <tbody>\n",
       "    <tr>\n",
       "      <th>7883</th>\n",
       "      <td>92E048E1XPvAibaEXe+heDAQ/Ar4Ciao4g73OiU5</td>\n",
       "      <td>7.35</td>\n",
       "      <td>7.35</td>\n",
       "      <td>94</td>\n",
       "    </tr>\n",
       "    <tr>\n",
       "      <th>9800</th>\n",
       "      <td>105A1756XPvAibaEXe9KDsVv3cRkMQK+9a3JNn+S</td>\n",
       "      <td>6.11</td>\n",
       "      <td>6.52</td>\n",
       "      <td>147</td>\n",
       "    </tr>\n",
       "    <tr>\n",
       "      <th>4014</th>\n",
       "      <td>C386EE73XPvAibaEXe+HeL85QGo03ZNOv3tVjTb1</td>\n",
       "      <td>3.98</td>\n",
       "      <td>7.67</td>\n",
       "      <td>33</td>\n",
       "    </tr>\n",
       "    <tr>\n",
       "      <th>1833</th>\n",
       "      <td>942F0218XPvAibaEXe+fW1Bg/roenG4L//m3CNcy</td>\n",
       "      <td>8.25</td>\n",
       "      <td>8.25</td>\n",
       "      <td>130</td>\n",
       "    </tr>\n",
       "    <tr>\n",
       "      <th>11509</th>\n",
       "      <td>B55048C9XPvAibaEXe+whDYzxQ4teavozKtmL6dW</td>\n",
       "      <td>5.46</td>\n",
       "      <td>6.93</td>\n",
       "      <td>28</td>\n",
       "    </tr>\n",
       "    <tr>\n",
       "      <th>3960</th>\n",
       "      <td>9BC20AD6XPvAibaEXe9/83vYrk4yZtjUay1JVUrd</td>\n",
       "      <td>7.14</td>\n",
       "      <td>7.14</td>\n",
       "      <td>148</td>\n",
       "    </tr>\n",
       "    <tr>\n",
       "      <th>878</th>\n",
       "      <td>A6F6F2DFXPvAibaEXe8091B3Eu2czK6H6DuEBpnB</td>\n",
       "      <td>5.66</td>\n",
       "      <td>6.28</td>\n",
       "      <td>113</td>\n",
       "    </tr>\n",
       "    <tr>\n",
       "      <th>2172</th>\n",
       "      <td>BBE70379XPvAibaEXe9p2uXWEeSl6vOGKHyFx/jN</td>\n",
       "      <td>7.10</td>\n",
       "      <td>7.10</td>\n",
       "      <td>138</td>\n",
       "    </tr>\n",
       "    <tr>\n",
       "      <th>3526</th>\n",
       "      <td>806529A7XPvAibaEXe+q0E3QguGBpaRnFeH23a1j</td>\n",
       "      <td>7.22</td>\n",
       "      <td>7.69</td>\n",
       "      <td>118</td>\n",
       "    </tr>\n",
       "    <tr>\n",
       "      <th>5752</th>\n",
       "      <td>2F9CE51CXPvAibaEXe/B5ptYzPZ33nSBmnY9BHIy</td>\n",
       "      <td>6.38</td>\n",
       "      <td>6.97</td>\n",
       "      <td>115</td>\n",
       "    </tr>\n",
       "  </tbody>\n",
       "</table>\n",
       "</div>"
      ],
      "text/plain": [
       "                                           mssv  dtb_toan_khoa  dtb_tich_luy   \n",
       "7883   92E048E1XPvAibaEXe+heDAQ/Ar4Ciao4g73OiU5           7.35          7.35  \\\n",
       "9800   105A1756XPvAibaEXe9KDsVv3cRkMQK+9a3JNn+S           6.11          6.52   \n",
       "4014   C386EE73XPvAibaEXe+HeL85QGo03ZNOv3tVjTb1           3.98          7.67   \n",
       "1833   942F0218XPvAibaEXe+fW1Bg/roenG4L//m3CNcy           8.25          8.25   \n",
       "11509  B55048C9XPvAibaEXe+whDYzxQ4teavozKtmL6dW           5.46          6.93   \n",
       "3960   9BC20AD6XPvAibaEXe9/83vYrk4yZtjUay1JVUrd           7.14          7.14   \n",
       "878    A6F6F2DFXPvAibaEXe8091B3Eu2czK6H6DuEBpnB           5.66          6.28   \n",
       "2172   BBE70379XPvAibaEXe9p2uXWEeSl6vOGKHyFx/jN           7.10          7.10   \n",
       "3526   806529A7XPvAibaEXe+q0E3QguGBpaRnFeH23a1j           7.22          7.69   \n",
       "5752   2F9CE51CXPvAibaEXe/B5ptYzPZ33nSBmnY9BHIy           6.38          6.97   \n",
       "\n",
       "      so_tc_tich_luy  \n",
       "7883              94  \n",
       "9800             147  \n",
       "4014              33  \n",
       "1833             130  \n",
       "11509             28  \n",
       "3960             148  \n",
       "878              113  \n",
       "2172             138  \n",
       "3526             118  \n",
       "5752             115  "
      ]
     },
     "execution_count": 60,
     "metadata": {},
     "output_type": "execute_result"
    }
   ],
   "source": [
    "haha_df.sample(10)"
   ]
  },
  {
   "cell_type": "code",
   "execution_count": 61,
   "metadata": {},
   "outputs": [
    {
     "data": {
      "text/plain": [
       "['12.baoluu.parquet',\n",
       " 'diem_Thu.parquet',\n",
       " 'sinhvien_dtb_toankhoa.parquet',\n",
       " 'uit_hocphi_miengiam.parquet',\n",
       " 'diemrl.parquet',\n",
       " 'sinhvien_dtb_hocky.parquet',\n",
       " 'desktop.ini',\n",
       " '14.totnghiep.parquet',\n",
       " '1.sinhvien.xlsx',\n",
       " '2.diem.xlsx',\n",
       " '3.sinhvien_chungchi.xlsx',\n",
       " '4.xeploaiav.xlsx',\n",
       " '5.Thisinh.xlsx',\n",
       " '6.giayxacnhan.xlsx',\n",
       " '8.XLHV.xlsx',\n",
       " '10.diemrl.xlsx',\n",
       " 'enriched_dtb_hk.parquet',\n",
       " 'desktop.ini']"
      ]
     },
     "execution_count": 61,
     "metadata": {},
     "output_type": "execute_result"
    }
   ],
   "source": [
    "os.listdir(clean_data_folder)"
   ]
  }
 ],
 "metadata": {
  "kernelspec": {
   "display_name": "general_cpython",
   "language": "python",
   "name": "python3"
  },
  "language_info": {
   "codemirror_mode": {
    "name": "ipython",
    "version": 3
   },
   "file_extension": ".py",
   "mimetype": "text/x-python",
   "name": "python",
   "nbconvert_exporter": "python",
   "pygments_lexer": "ipython3",
   "version": "3.8.16"
  },
  "orig_nbformat": 4
 },
 "nbformat": 4,
 "nbformat_minor": 2
}
